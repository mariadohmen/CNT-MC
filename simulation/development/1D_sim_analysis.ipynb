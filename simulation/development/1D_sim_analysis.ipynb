{
 "cells": [
  {
   "cell_type": "code",
   "execution_count": 1,
   "metadata": {},
   "outputs": [
    {
     "data": {
      "text/html": [
       "\n",
       "    <div class=\"bk-root\">\n",
       "        <a href=\"https://bokeh.pydata.org\" target=\"_blank\" class=\"bk-logo bk-logo-small bk-logo-notebook\"></a>\n",
       "        <span id=\"1001\">Loading BokehJS ...</span>\n",
       "    </div>"
      ]
     },
     "metadata": {},
     "output_type": "display_data"
    },
    {
     "data": {
      "application/javascript": [
       "\n",
       "(function(root) {\n",
       "  function now() {\n",
       "    return new Date();\n",
       "  }\n",
       "\n",
       "  var force = true;\n",
       "\n",
       "  if (typeof root._bokeh_onload_callbacks === \"undefined\" || force === true) {\n",
       "    root._bokeh_onload_callbacks = [];\n",
       "    root._bokeh_is_loading = undefined;\n",
       "  }\n",
       "\n",
       "  var JS_MIME_TYPE = 'application/javascript';\n",
       "  var HTML_MIME_TYPE = 'text/html';\n",
       "  var EXEC_MIME_TYPE = 'application/vnd.bokehjs_exec.v0+json';\n",
       "  var CLASS_NAME = 'output_bokeh rendered_html';\n",
       "\n",
       "  /**\n",
       "   * Render data to the DOM node\n",
       "   */\n",
       "  function render(props, node) {\n",
       "    var script = document.createElement(\"script\");\n",
       "    node.appendChild(script);\n",
       "  }\n",
       "\n",
       "  /**\n",
       "   * Handle when an output is cleared or removed\n",
       "   */\n",
       "  function handleClearOutput(event, handle) {\n",
       "    var cell = handle.cell;\n",
       "\n",
       "    var id = cell.output_area._bokeh_element_id;\n",
       "    var server_id = cell.output_area._bokeh_server_id;\n",
       "    // Clean up Bokeh references\n",
       "    if (id != null && id in Bokeh.index) {\n",
       "      Bokeh.index[id].model.document.clear();\n",
       "      delete Bokeh.index[id];\n",
       "    }\n",
       "\n",
       "    if (server_id !== undefined) {\n",
       "      // Clean up Bokeh references\n",
       "      var cmd = \"from bokeh.io.state import curstate; print(curstate().uuid_to_server['\" + server_id + \"'].get_sessions()[0].document.roots[0]._id)\";\n",
       "      cell.notebook.kernel.execute(cmd, {\n",
       "        iopub: {\n",
       "          output: function(msg) {\n",
       "            var id = msg.content.text.trim();\n",
       "            if (id in Bokeh.index) {\n",
       "              Bokeh.index[id].model.document.clear();\n",
       "              delete Bokeh.index[id];\n",
       "            }\n",
       "          }\n",
       "        }\n",
       "      });\n",
       "      // Destroy server and session\n",
       "      var cmd = \"import bokeh.io.notebook as ion; ion.destroy_server('\" + server_id + \"')\";\n",
       "      cell.notebook.kernel.execute(cmd);\n",
       "    }\n",
       "  }\n",
       "\n",
       "  /**\n",
       "   * Handle when a new output is added\n",
       "   */\n",
       "  function handleAddOutput(event, handle) {\n",
       "    var output_area = handle.output_area;\n",
       "    var output = handle.output;\n",
       "\n",
       "    // limit handleAddOutput to display_data with EXEC_MIME_TYPE content only\n",
       "    if ((output.output_type != \"display_data\") || (!output.data.hasOwnProperty(EXEC_MIME_TYPE))) {\n",
       "      return\n",
       "    }\n",
       "\n",
       "    var toinsert = output_area.element.find(\".\" + CLASS_NAME.split(' ')[0]);\n",
       "\n",
       "    if (output.metadata[EXEC_MIME_TYPE][\"id\"] !== undefined) {\n",
       "      toinsert[toinsert.length - 1].firstChild.textContent = output.data[JS_MIME_TYPE];\n",
       "      // store reference to embed id on output_area\n",
       "      output_area._bokeh_element_id = output.metadata[EXEC_MIME_TYPE][\"id\"];\n",
       "    }\n",
       "    if (output.metadata[EXEC_MIME_TYPE][\"server_id\"] !== undefined) {\n",
       "      var bk_div = document.createElement(\"div\");\n",
       "      bk_div.innerHTML = output.data[HTML_MIME_TYPE];\n",
       "      var script_attrs = bk_div.children[0].attributes;\n",
       "      for (var i = 0; i < script_attrs.length; i++) {\n",
       "        toinsert[toinsert.length - 1].firstChild.setAttribute(script_attrs[i].name, script_attrs[i].value);\n",
       "      }\n",
       "      // store reference to server id on output_area\n",
       "      output_area._bokeh_server_id = output.metadata[EXEC_MIME_TYPE][\"server_id\"];\n",
       "    }\n",
       "  }\n",
       "\n",
       "  function register_renderer(events, OutputArea) {\n",
       "\n",
       "    function append_mime(data, metadata, element) {\n",
       "      // create a DOM node to render to\n",
       "      var toinsert = this.create_output_subarea(\n",
       "        metadata,\n",
       "        CLASS_NAME,\n",
       "        EXEC_MIME_TYPE\n",
       "      );\n",
       "      this.keyboard_manager.register_events(toinsert);\n",
       "      // Render to node\n",
       "      var props = {data: data, metadata: metadata[EXEC_MIME_TYPE]};\n",
       "      render(props, toinsert[toinsert.length - 1]);\n",
       "      element.append(toinsert);\n",
       "      return toinsert\n",
       "    }\n",
       "\n",
       "    /* Handle when an output is cleared or removed */\n",
       "    events.on('clear_output.CodeCell', handleClearOutput);\n",
       "    events.on('delete.Cell', handleClearOutput);\n",
       "\n",
       "    /* Handle when a new output is added */\n",
       "    events.on('output_added.OutputArea', handleAddOutput);\n",
       "\n",
       "    /**\n",
       "     * Register the mime type and append_mime function with output_area\n",
       "     */\n",
       "    OutputArea.prototype.register_mime_type(EXEC_MIME_TYPE, append_mime, {\n",
       "      /* Is output safe? */\n",
       "      safe: true,\n",
       "      /* Index of renderer in `output_area.display_order` */\n",
       "      index: 0\n",
       "    });\n",
       "  }\n",
       "\n",
       "  // register the mime type if in Jupyter Notebook environment and previously unregistered\n",
       "  if (root.Jupyter !== undefined) {\n",
       "    var events = require('base/js/events');\n",
       "    var OutputArea = require('notebook/js/outputarea').OutputArea;\n",
       "\n",
       "    if (OutputArea.prototype.mime_types().indexOf(EXEC_MIME_TYPE) == -1) {\n",
       "      register_renderer(events, OutputArea);\n",
       "    }\n",
       "  }\n",
       "\n",
       "  \n",
       "  if (typeof (root._bokeh_timeout) === \"undefined\" || force === true) {\n",
       "    root._bokeh_timeout = Date.now() + 5000;\n",
       "    root._bokeh_failed_load = false;\n",
       "  }\n",
       "\n",
       "  var NB_LOAD_WARNING = {'data': {'text/html':\n",
       "     \"<div style='background-color: #fdd'>\\n\"+\n",
       "     \"<p>\\n\"+\n",
       "     \"BokehJS does not appear to have successfully loaded. If loading BokehJS from CDN, this \\n\"+\n",
       "     \"may be due to a slow or bad network connection. Possible fixes:\\n\"+\n",
       "     \"</p>\\n\"+\n",
       "     \"<ul>\\n\"+\n",
       "     \"<li>re-rerun `output_notebook()` to attempt to load from CDN again, or</li>\\n\"+\n",
       "     \"<li>use INLINE resources instead, as so:</li>\\n\"+\n",
       "     \"</ul>\\n\"+\n",
       "     \"<code>\\n\"+\n",
       "     \"from bokeh.resources import INLINE\\n\"+\n",
       "     \"output_notebook(resources=INLINE)\\n\"+\n",
       "     \"</code>\\n\"+\n",
       "     \"</div>\"}};\n",
       "\n",
       "  function display_loaded() {\n",
       "    var el = document.getElementById(\"1001\");\n",
       "    if (el != null) {\n",
       "      el.textContent = \"BokehJS is loading...\";\n",
       "    }\n",
       "    if (root.Bokeh !== undefined) {\n",
       "      if (el != null) {\n",
       "        el.textContent = \"BokehJS \" + root.Bokeh.version + \" successfully loaded.\";\n",
       "      }\n",
       "    } else if (Date.now() < root._bokeh_timeout) {\n",
       "      setTimeout(display_loaded, 100)\n",
       "    }\n",
       "  }\n",
       "\n",
       "\n",
       "  function run_callbacks() {\n",
       "    try {\n",
       "      root._bokeh_onload_callbacks.forEach(function(callback) {\n",
       "        if (callback != null)\n",
       "          callback();\n",
       "      });\n",
       "    } finally {\n",
       "      delete root._bokeh_onload_callbacks\n",
       "    }\n",
       "    console.debug(\"Bokeh: all callbacks have finished\");\n",
       "  }\n",
       "\n",
       "  function load_libs(css_urls, js_urls, callback) {\n",
       "    if (css_urls == null) css_urls = [];\n",
       "    if (js_urls == null) js_urls = [];\n",
       "\n",
       "    root._bokeh_onload_callbacks.push(callback);\n",
       "    if (root._bokeh_is_loading > 0) {\n",
       "      console.debug(\"Bokeh: BokehJS is being loaded, scheduling callback at\", now());\n",
       "      return null;\n",
       "    }\n",
       "    if (js_urls == null || js_urls.length === 0) {\n",
       "      run_callbacks();\n",
       "      return null;\n",
       "    }\n",
       "    console.debug(\"Bokeh: BokehJS not loaded, scheduling load and callback at\", now());\n",
       "    root._bokeh_is_loading = css_urls.length + js_urls.length;\n",
       "\n",
       "    function on_load() {\n",
       "      root._bokeh_is_loading--;\n",
       "      if (root._bokeh_is_loading === 0) {\n",
       "        console.debug(\"Bokeh: all BokehJS libraries/stylesheets loaded\");\n",
       "        run_callbacks()\n",
       "      }\n",
       "    }\n",
       "\n",
       "    function on_error() {\n",
       "      console.error(\"failed to load \" + url);\n",
       "    }\n",
       "\n",
       "    for (var i = 0; i < css_urls.length; i++) {\n",
       "      var url = css_urls[i];\n",
       "      const element = document.createElement(\"link\");\n",
       "      element.onload = on_load;\n",
       "      element.onerror = on_error;\n",
       "      element.rel = \"stylesheet\";\n",
       "      element.type = \"text/css\";\n",
       "      element.href = url;\n",
       "      console.debug(\"Bokeh: injecting link tag for BokehJS stylesheet: \", url);\n",
       "      document.body.appendChild(element);\n",
       "    }\n",
       "\n",
       "    for (var i = 0; i < js_urls.length; i++) {\n",
       "      var url = js_urls[i];\n",
       "      var element = document.createElement('script');\n",
       "      element.onload = on_load;\n",
       "      element.onerror = on_error;\n",
       "      element.async = false;\n",
       "      element.src = url;\n",
       "      console.debug(\"Bokeh: injecting script tag for BokehJS library: \", url);\n",
       "      document.head.appendChild(element);\n",
       "    }\n",
       "  };var element = document.getElementById(\"1001\");\n",
       "  if (element == null) {\n",
       "    console.error(\"Bokeh: ERROR: autoload.js configured with elementid '1001' but no matching script tag was found. \")\n",
       "    return false;\n",
       "  }\n",
       "\n",
       "  function inject_raw_css(css) {\n",
       "    const element = document.createElement(\"style\");\n",
       "    element.appendChild(document.createTextNode(css));\n",
       "    document.body.appendChild(element);\n",
       "  }\n",
       "\n",
       "  var js_urls = [\"https://cdn.pydata.org/bokeh/release/bokeh-1.3.4.min.js\", \"https://cdn.pydata.org/bokeh/release/bokeh-widgets-1.3.4.min.js\", \"https://cdn.pydata.org/bokeh/release/bokeh-tables-1.3.4.min.js\", \"https://cdn.pydata.org/bokeh/release/bokeh-gl-1.3.4.min.js\"];\n",
       "  var css_urls = [];\n",
       "\n",
       "  var inline_js = [\n",
       "    function(Bokeh) {\n",
       "      Bokeh.set_log_level(\"info\");\n",
       "    },\n",
       "    \n",
       "    function(Bokeh) {\n",
       "      \n",
       "    },\n",
       "    function(Bokeh) {} // ensure no trailing comma for IE\n",
       "  ];\n",
       "\n",
       "  function run_inline_js() {\n",
       "    \n",
       "    if ((root.Bokeh !== undefined) || (force === true)) {\n",
       "      for (var i = 0; i < inline_js.length; i++) {\n",
       "        inline_js[i].call(root, root.Bokeh);\n",
       "      }if (force === true) {\n",
       "        display_loaded();\n",
       "      }} else if (Date.now() < root._bokeh_timeout) {\n",
       "      setTimeout(run_inline_js, 100);\n",
       "    } else if (!root._bokeh_failed_load) {\n",
       "      console.log(\"Bokeh: BokehJS failed to load within specified timeout.\");\n",
       "      root._bokeh_failed_load = true;\n",
       "    } else if (force !== true) {\n",
       "      var cell = $(document.getElementById(\"1001\")).parents('.cell').data().cell;\n",
       "      cell.output_area.append_execute_result(NB_LOAD_WARNING)\n",
       "    }\n",
       "\n",
       "  }\n",
       "\n",
       "  if (root._bokeh_is_loading === 0) {\n",
       "    console.debug(\"Bokeh: BokehJS loaded, going straight to plotting\");\n",
       "    run_inline_js();\n",
       "  } else {\n",
       "    load_libs(css_urls, js_urls, function() {\n",
       "      console.debug(\"Bokeh: BokehJS plotting callback run at\", now());\n",
       "      run_inline_js();\n",
       "    });\n",
       "  }\n",
       "}(window));"
      ],
      "application/vnd.bokehjs_load.v0+json": "\n(function(root) {\n  function now() {\n    return new Date();\n  }\n\n  var force = true;\n\n  if (typeof root._bokeh_onload_callbacks === \"undefined\" || force === true) {\n    root._bokeh_onload_callbacks = [];\n    root._bokeh_is_loading = undefined;\n  }\n\n  \n\n  \n  if (typeof (root._bokeh_timeout) === \"undefined\" || force === true) {\n    root._bokeh_timeout = Date.now() + 5000;\n    root._bokeh_failed_load = false;\n  }\n\n  var NB_LOAD_WARNING = {'data': {'text/html':\n     \"<div style='background-color: #fdd'>\\n\"+\n     \"<p>\\n\"+\n     \"BokehJS does not appear to have successfully loaded. If loading BokehJS from CDN, this \\n\"+\n     \"may be due to a slow or bad network connection. Possible fixes:\\n\"+\n     \"</p>\\n\"+\n     \"<ul>\\n\"+\n     \"<li>re-rerun `output_notebook()` to attempt to load from CDN again, or</li>\\n\"+\n     \"<li>use INLINE resources instead, as so:</li>\\n\"+\n     \"</ul>\\n\"+\n     \"<code>\\n\"+\n     \"from bokeh.resources import INLINE\\n\"+\n     \"output_notebook(resources=INLINE)\\n\"+\n     \"</code>\\n\"+\n     \"</div>\"}};\n\n  function display_loaded() {\n    var el = document.getElementById(\"1001\");\n    if (el != null) {\n      el.textContent = \"BokehJS is loading...\";\n    }\n    if (root.Bokeh !== undefined) {\n      if (el != null) {\n        el.textContent = \"BokehJS \" + root.Bokeh.version + \" successfully loaded.\";\n      }\n    } else if (Date.now() < root._bokeh_timeout) {\n      setTimeout(display_loaded, 100)\n    }\n  }\n\n\n  function run_callbacks() {\n    try {\n      root._bokeh_onload_callbacks.forEach(function(callback) {\n        if (callback != null)\n          callback();\n      });\n    } finally {\n      delete root._bokeh_onload_callbacks\n    }\n    console.debug(\"Bokeh: all callbacks have finished\");\n  }\n\n  function load_libs(css_urls, js_urls, callback) {\n    if (css_urls == null) css_urls = [];\n    if (js_urls == null) js_urls = [];\n\n    root._bokeh_onload_callbacks.push(callback);\n    if (root._bokeh_is_loading > 0) {\n      console.debug(\"Bokeh: BokehJS is being loaded, scheduling callback at\", now());\n      return null;\n    }\n    if (js_urls == null || js_urls.length === 0) {\n      run_callbacks();\n      return null;\n    }\n    console.debug(\"Bokeh: BokehJS not loaded, scheduling load and callback at\", now());\n    root._bokeh_is_loading = css_urls.length + js_urls.length;\n\n    function on_load() {\n      root._bokeh_is_loading--;\n      if (root._bokeh_is_loading === 0) {\n        console.debug(\"Bokeh: all BokehJS libraries/stylesheets loaded\");\n        run_callbacks()\n      }\n    }\n\n    function on_error() {\n      console.error(\"failed to load \" + url);\n    }\n\n    for (var i = 0; i < css_urls.length; i++) {\n      var url = css_urls[i];\n      const element = document.createElement(\"link\");\n      element.onload = on_load;\n      element.onerror = on_error;\n      element.rel = \"stylesheet\";\n      element.type = \"text/css\";\n      element.href = url;\n      console.debug(\"Bokeh: injecting link tag for BokehJS stylesheet: \", url);\n      document.body.appendChild(element);\n    }\n\n    for (var i = 0; i < js_urls.length; i++) {\n      var url = js_urls[i];\n      var element = document.createElement('script');\n      element.onload = on_load;\n      element.onerror = on_error;\n      element.async = false;\n      element.src = url;\n      console.debug(\"Bokeh: injecting script tag for BokehJS library: \", url);\n      document.head.appendChild(element);\n    }\n  };var element = document.getElementById(\"1001\");\n  if (element == null) {\n    console.error(\"Bokeh: ERROR: autoload.js configured with elementid '1001' but no matching script tag was found. \")\n    return false;\n  }\n\n  function inject_raw_css(css) {\n    const element = document.createElement(\"style\");\n    element.appendChild(document.createTextNode(css));\n    document.body.appendChild(element);\n  }\n\n  var js_urls = [\"https://cdn.pydata.org/bokeh/release/bokeh-1.3.4.min.js\", \"https://cdn.pydata.org/bokeh/release/bokeh-widgets-1.3.4.min.js\", \"https://cdn.pydata.org/bokeh/release/bokeh-tables-1.3.4.min.js\", \"https://cdn.pydata.org/bokeh/release/bokeh-gl-1.3.4.min.js\"];\n  var css_urls = [];\n\n  var inline_js = [\n    function(Bokeh) {\n      Bokeh.set_log_level(\"info\");\n    },\n    \n    function(Bokeh) {\n      \n    },\n    function(Bokeh) {} // ensure no trailing comma for IE\n  ];\n\n  function run_inline_js() {\n    \n    if ((root.Bokeh !== undefined) || (force === true)) {\n      for (var i = 0; i < inline_js.length; i++) {\n        inline_js[i].call(root, root.Bokeh);\n      }if (force === true) {\n        display_loaded();\n      }} else if (Date.now() < root._bokeh_timeout) {\n      setTimeout(run_inline_js, 100);\n    } else if (!root._bokeh_failed_load) {\n      console.log(\"Bokeh: BokehJS failed to load within specified timeout.\");\n      root._bokeh_failed_load = true;\n    } else if (force !== true) {\n      var cell = $(document.getElementById(\"1001\")).parents('.cell').data().cell;\n      cell.output_area.append_execute_result(NB_LOAD_WARNING)\n    }\n\n  }\n\n  if (root._bokeh_is_loading === 0) {\n    console.debug(\"Bokeh: BokehJS loaded, going straight to plotting\");\n    run_inline_js();\n  } else {\n    load_libs(css_urls, js_urls, function() {\n      console.debug(\"Bokeh: BokehJS plotting callback run at\", now());\n      run_inline_js();\n    });\n  }\n}(window));"
     },
     "metadata": {},
     "output_type": "display_data"
    }
   ],
   "source": [
    "# %load quick_imports.txt\n",
    "import random\n",
    "\n",
    "import numpy as np\n",
    "import matplotlib.pyplot as plt\n",
    "\n",
    "# Bokeh imports\n",
    "from bokeh.io import output_notebook, show, save\n",
    "from bokeh.plotting import figure, output_file, ColumnDataSource, reset_output\n",
    "from bokeh.models import HoverTool\n",
    "output_notebook()\n",
    "\n",
    "from ipywidgets.widgets import Text\n",
    "\n",
    "#scipy constants\n",
    "from scipy.constants import Boltzmann as kB\n",
    "from scipy.constants import Avogadro as NA\n",
    "from scipy.constants import Planck as h\n",
    "from scipy.constants import speed_of_light as c0\n",
    "from scipy.constants import R"
   ]
  },
  {
   "cell_type": "code",
   "execution_count": 2,
   "metadata": {},
   "outputs": [],
   "source": [
    "L_nm = 300  # length of the nanotube\n",
    "R_nm = 1  # radius of the exiton\n",
    "N_DEF = 10  # number of defects per nanotube\n",
    "T_STEP_ps = 1 # time step\n",
    "D_exc_nm_per_s = 1.07e15  # Exciton Diffusion Coefficient https://doi.org/10.1021/nn101612b"
   ]
  },
  {
   "cell_type": "code",
   "execution_count": 3,
   "metadata": {},
   "outputs": [],
   "source": [
    "def photons_fate(n_photons, func, func_kwargs={}):\n",
    "    \"\"\"Simulate the fate of numerous photons.\n",
    "    For a key to the fate look a the respective exciton fate function.\n",
    "\n",
    "    Parameters\n",
    "    ----------\n",
    "    n_photons : int\n",
    "        Number of photons to be used in the simulation.\n",
    "    func : callable\n",
    "        Function to perform MC simulation of a single exciton.\n",
    "    func_kwargs: dict\n",
    "        Dictionary containing the arguments and keyword arguments for\n",
    "        func.\n",
    "\n",
    "    Returns\n",
    "    -------\n",
    "    photons_fate : 1D array\n",
    "        Binnend fate of the photons in simulation.\n",
    "    quantum_yield : 1D array\n",
    "        Quantum yield of the E11 and E11* radiative decay.\"\"\"\n",
    "    info = Text()\n",
    "    display(info)\n",
    "\n",
    "    # initiate matrix size\n",
    "    photons_fate = func(**func_kwargs)\n",
    "    info.value = f\"Processing photon (1/ {n_photons})\"\n",
    "\n",
    "    # loop for the desired number of photons\n",
    "    for p in np.arange(n_photons-1):\n",
    "        photons_fate += func(**func_kwargs)\n",
    "        info.value = f\"Processing photon ({p+2}/ {n_photons})\"\n",
    "\n",
    "    # calculate the quantum yield\n",
    "    quantum_yield = photons_fate[:2] / n_photons\n",
    "\n",
    "    return photons_fate, quantum_yield"
   ]
  },
  {
   "cell_type": "code",
   "execution_count": 4,
   "metadata": {},
   "outputs": [],
   "source": [
    "def create_defects(length=L_nm, n_def=N_DEF):\n",
    "    \"\"\"Creates defects along the CNT at random position.\n",
    "\n",
    "    Parameters\n",
    "    ----------\n",
    "    length : int, optional\n",
    "        Length of the CNT in nm, global constant as default.\n",
    "    n_def : int, optional\n",
    "        Number of defects on the CNT, global constant as default.\n",
    "\n",
    "    Returns\n",
    "    -------\n",
    "    pos_def : 1D array\n",
    "        Positions in nm of the defects on the CNT stored in\n",
    "        array size (n_def, 1)\n",
    "    \"\"\"\n",
    "    return np.random.randint(0, length, size=(n_def, 1))"
   ]
  },
  {
   "cell_type": "code",
   "execution_count": 5,
   "metadata": {},
   "outputs": [],
   "source": [
    "def create_exciton(length=L_nm):\n",
    "    \"\"\"Creates exciton on the CNT at random position.\n",
    "\n",
    "    Parameters\n",
    "    ----------\n",
    "    length : int, optional\n",
    "        Length of the CNT in nm, global constant as default.\n",
    "\n",
    "    Returns\n",
    "    -------\n",
    "    pos_exc : int\n",
    "        Position of the exciton along the CNT as a random integer.\"\"\"\n",
    "    return random.randrange(length)"
   ]
  },
  {
   "cell_type": "code",
   "execution_count": 6,
   "metadata": {},
   "outputs": [],
   "source": [
    "def exciton_walk(t_step, n_defects=10, length=L_nm):\n",
    "    \"\"\"\n",
    "    \n",
    "    Parameters\n",
    "    ----------\n",
    "    t_step : float\n",
    "        Timestep in ps.\n",
    "    n_defects : int, optional\n",
    "        Number of defects on CNT. Default is 10\n",
    "    length : int, optional\n",
    "        Length of the CNT in nm, global constant as default.\n",
    "\n",
    "    Returns\n",
    "    -------\n",
    "    exciton_fate : 1D array\n",
    "        Array contains the binned fate of the exciton for each MC step:\n",
    "        fate = 0 : E11* radiative decay\n",
    "        fate = 1 : E11 radiative decay\n",
    "        fate = 2 : E11* non-radiative decay\n",
    "        fate = 3 : E11 non-radiative decay\n",
    "        fate = 4 : Exciton stays in trap\n",
    "        fate = 5 : Free diffusion walk\n",
    "        fate = 6 : Exciton escapes trap\n",
    "        fate = 7 : Exciton becomes trapped\n",
    "    \"\"\"\n",
    "\n",
    "    kin_const = [k_d_r_per_s, k_r_per_s, k_d_nr_per_s, k_nr_per_s,\n",
    "                 k_nothing_d(t_step), k_nothing(t_step), k_dt_per_s]\n",
    "\n",
    "    # inital exciton is free in E11\n",
    "    fate = 4\n",
    "    trapped = 0\n",
    "\n",
    "    # Initiate matrix to store exciton fate\n",
    "    exciton_fate = np.zeros(len(kin_const)+1)\n",
    "\n",
    "    # Inital position of the exciton and defects\n",
    "    pos_exc_0 = create_exciton(length)\n",
    "    defects = create_defects(length, n_defects)\n",
    "\n",
    "    while fate > 3:\n",
    "\n",
    "        # step if exciton is free\n",
    "        if trapped == 0:\n",
    "            pos_exc_1 = round(pos_exc_0 + (\n",
    "                2 * D_exc_nm_per_s * t_step * 1e-12)**0.5)\n",
    "\n",
    "        # quenching of the exciton at tube end\n",
    "        if pos_exc_1 >= length:\n",
    "            fate = 3\n",
    "            exciton_fate[fate] += 1\n",
    "            break\n",
    "\n",
    "        # check if exciton became trapped\n",
    "        if trapped == 0:\n",
    "            pathway = np.arange(pos_exc_1-pos_exc_0)\n",
    "            if np.in1d(pathway, defects).any():\n",
    "                trapped = 1\n",
    "                fate = 7\n",
    "                exciton_fate[fate] += 1\n",
    "\n",
    "        # fate of a trapped exciton\n",
    "        if trapped == 1:\n",
    "            # calculate probability for fate of trapped exciton\n",
    "            p_fate = np.array([e * random.uniform(0, 1)\n",
    "                               for e in kin_const[::2]])\n",
    "            # Store result for highest probability\n",
    "            fate = 2*p_fate.argmax()\n",
    "            exciton_fate[fate] += 1\n",
    "\n",
    "        # fate of freely diffusing exciton\n",
    "        else:\n",
    "            # calculate probability for fate of free exciton\n",
    "            p_fate = np.array([e * random.uniform(0, 1)\n",
    "                               for e in kin_const[1::2]])\n",
    "            # Store result for highest probability\n",
    "            fate = (p_fate.argmax() * 2 + 1)\n",
    "            exciton_fate[fate] += 1\n",
    "\n",
    "        # insurance that there won't be an endless loop\n",
    "        if exciton_fate.sum() > 1e6:\n",
    "            print('Simulation exceeds 1e6 steps, loop aborded')\n",
    "            return exciton_fate\n",
    "\n",
    "        # set position to new starting position\n",
    "        pos_exc_0 = pos_exc_1\n",
    "        if fate ==7:\n",
    "            pos_exc_0 += 1\n",
    "\n",
    "    return exciton_fate"
   ]
  },
  {
   "cell_type": "code",
   "execution_count": 7,
   "metadata": {},
   "outputs": [
    {
     "data": {
      "application/vnd.jupyter.widget-view+json": {
       "model_id": "897941ac7e5f4250b861a3f5ce77efc6",
       "version_major": 2,
       "version_minor": 0
      },
      "text/plain": [
       "Text(value='')"
      ]
     },
     "metadata": {},
     "output_type": "display_data"
    },
    {
     "data": {
      "text/plain": [
       "(array([5.1100000e+02, 8.0000000e+00, 2.8740000e+03, 1.6070000e+03,\n",
       "        1.1683587e+07, 2.6110000e+03, 1.1600000e+02, 3.3850000e+03]),\n",
       " array([0.1022, 0.0016]))"
      ]
     },
     "execution_count": 7,
     "metadata": {},
     "output_type": "execute_result"
    }
   ],
   "source": [
    "# termal detrapping 10.1021/acs.jpclett.8b03732\n",
    "k_dt_per_s = 0.5 * (1e12/ 385 + 1e12/ 1132) + 0.1e12 * np.exp(-1.6182e-11 / (kB * 300))\n",
    "\n",
    "TAU_ps = 100\n",
    "TAU_d_ps = 1000\n",
    "\n",
    "k_r_per_s = 1.5e10  # constant for radiativ decay from E11\n",
    "k_d_r_per_s = 2.5e09  # constant for radiativ decay from E11*\n",
    "k_nr_per_s = 5e09  # constant of non-radiativ decay from E11\n",
    "k_d_nr_per_s = 5e09  # constant for non-radiativ decay from E11*\n",
    "k_nothing = lambda t_step: (k_r_per_s + k_nr_per_s) * TAU_ps / t_step\n",
    "k_nothing_d = lambda t_step: (k_d_r_per_s + k_d_nr_per_s + k_dt_per_s) * TAU_d_ps / t_step\n",
    "photons_fate(5000, exciton_walk, {'t_step':1})"
   ]
  },
  {
   "cell_type": "markdown",
   "metadata": {},
   "source": [
    "# Influence of defect density"
   ]
  },
  {
   "cell_type": "code",
   "execution_count": 9,
   "metadata": {},
   "outputs": [],
   "source": [
    "#n_defects = np.arange(0, 50, 5)\n",
    "#QY = np.zeros((len(n_defects), 3))\n",
    "#for i, n_def in enumerate(n_defects):\n",
    "    #QY[i, 0] = n_def\n",
    "    #_, QY[i, 1:] = photons_fate(5000, exciton_walk, {'t_step':1, 'n_defects': n_def}) "
   ]
  },
  {
   "cell_type": "code",
   "execution_count": 10,
   "metadata": {},
   "outputs": [],
   "source": [
    "import pickle"
   ]
  },
  {
   "cell_type": "code",
   "execution_count": 13,
   "metadata": {},
   "outputs": [],
   "source": [
    "filename = 'QY_defect_density_5'\n",
    "infile = open(filename,'rb')\n",
    "QY = pickle.load(infile)\n",
    "infile.close()"
   ]
  },
  {
   "cell_type": "code",
   "execution_count": 23,
   "metadata": {},
   "outputs": [
    {
     "data": {
      "text/html": [
       "\n",
       "\n",
       "\n",
       "\n",
       "\n",
       "\n",
       "  <div class=\"bk-root\" id=\"7a1a1873-b764-4136-83cd-7893873976b7\" data-root-id=\"1882\"></div>\n"
      ]
     },
     "metadata": {},
     "output_type": "display_data"
    },
    {
     "data": {
      "application/javascript": [
       "(function(root) {\n",
       "  function embed_document(root) {\n",
       "    \n",
       "  var docs_json = {\"875e9846-34e3-42a2-ba0f-282b088ea9b2\":{\"roots\":{\"references\":[{\"attributes\":{\"below\":[{\"id\":\"1893\",\"type\":\"LinearAxis\"}],\"center\":[{\"id\":\"1897\",\"type\":\"Grid\"},{\"id\":\"1902\",\"type\":\"Grid\"},{\"id\":\"1929\",\"type\":\"Legend\"}],\"left\":[{\"id\":\"1898\",\"type\":\"LinearAxis\"}],\"plot_height\":400,\"plot_width\":800,\"renderers\":[{\"id\":\"1921\",\"type\":\"GlyphRenderer\"},{\"id\":\"1934\",\"type\":\"GlyphRenderer\"}],\"title\":{\"id\":\"1883\",\"type\":\"Title\"},\"toolbar\":{\"id\":\"1909\",\"type\":\"Toolbar\"},\"x_range\":{\"id\":\"1885\",\"type\":\"DataRange1d\"},\"x_scale\":{\"id\":\"1889\",\"type\":\"LinearScale\"},\"y_range\":{\"id\":\"1887\",\"type\":\"DataRange1d\"},\"y_scale\":{\"id\":\"1891\",\"type\":\"LinearScale\"}},\"id\":\"1882\",\"subtype\":\"Figure\",\"type\":\"Plot\"},{\"attributes\":{\"data_source\":{\"id\":\"1918\",\"type\":\"ColumnDataSource\"},\"glyph\":{\"id\":\"1919\",\"type\":\"Scatter\"},\"hover_glyph\":null,\"muted_glyph\":null,\"nonselection_glyph\":{\"id\":\"1920\",\"type\":\"Scatter\"},\"selection_glyph\":null,\"view\":{\"id\":\"1922\",\"type\":\"CDSView\"}},\"id\":\"1921\",\"type\":\"GlyphRenderer\"},{\"attributes\":{\"callback\":null},\"id\":\"1887\",\"type\":\"DataRange1d\"},{\"attributes\":{},\"id\":\"1942\",\"type\":\"UnionRenderers\"},{\"attributes\":{\"active_drag\":\"auto\",\"active_inspect\":\"auto\",\"active_multi\":null,\"active_scroll\":\"auto\",\"active_tap\":\"auto\",\"tools\":[{\"id\":\"1903\",\"type\":\"PanTool\"},{\"id\":\"1904\",\"type\":\"WheelZoomTool\"},{\"id\":\"1905\",\"type\":\"BoxZoomTool\"},{\"id\":\"1906\",\"type\":\"SaveTool\"},{\"id\":\"1907\",\"type\":\"ResetTool\"},{\"id\":\"1908\",\"type\":\"HelpTool\"},{\"id\":\"1916\",\"type\":\"HoverTool\"}]},\"id\":\"1909\",\"type\":\"Toolbar\"},{\"attributes\":{\"data_source\":{\"id\":\"1931\",\"type\":\"ColumnDataSource\"},\"glyph\":{\"id\":\"1932\",\"type\":\"Scatter\"},\"hover_glyph\":null,\"muted_glyph\":null,\"nonselection_glyph\":{\"id\":\"1933\",\"type\":\"Scatter\"},\"selection_glyph\":null,\"view\":{\"id\":\"1935\",\"type\":\"CDSView\"}},\"id\":\"1934\",\"type\":\"GlyphRenderer\"},{\"attributes\":{},\"id\":\"1943\",\"type\":\"Selection\"},{\"attributes\":{\"overlay\":{\"id\":\"1928\",\"type\":\"BoxAnnotation\"}},\"id\":\"1905\",\"type\":\"BoxZoomTool\"},{\"attributes\":{\"text\":\"Defect Density Relation, l = 300 nm\"},\"id\":\"1883\",\"type\":\"Title\"},{\"attributes\":{\"callback\":null},\"id\":\"1885\",\"type\":\"DataRange1d\"},{\"attributes\":{\"ticker\":{\"id\":\"1894\",\"type\":\"BasicTicker\"}},\"id\":\"1897\",\"type\":\"Grid\"},{\"attributes\":{},\"id\":\"1906\",\"type\":\"SaveTool\"},{\"attributes\":{\"label\":{\"value\":\"E11* quantum yield\"},\"renderers\":[{\"id\":\"1921\",\"type\":\"GlyphRenderer\"}]},\"id\":\"1930\",\"type\":\"LegendItem\"},{\"attributes\":{},\"id\":\"1891\",\"type\":\"LinearScale\"},{\"attributes\":{},\"id\":\"1889\",\"type\":\"LinearScale\"},{\"attributes\":{},\"id\":\"1904\",\"type\":\"WheelZoomTool\"},{\"attributes\":{\"formatter\":{\"id\":\"1926\",\"type\":\"BasicTickFormatter\"},\"ticker\":{\"id\":\"1894\",\"type\":\"BasicTicker\"}},\"id\":\"1893\",\"type\":\"LinearAxis\"},{\"attributes\":{\"bottom_units\":\"screen\",\"fill_alpha\":{\"value\":0.5},\"fill_color\":{\"value\":\"lightgrey\"},\"left_units\":\"screen\",\"level\":\"overlay\",\"line_alpha\":{\"value\":1.0},\"line_color\":{\"value\":\"black\"},\"line_dash\":[4,4],\"line_width\":{\"value\":2},\"render_mode\":\"css\",\"right_units\":\"screen\",\"top_units\":\"screen\"},\"id\":\"1928\",\"type\":\"BoxAnnotation\"},{\"attributes\":{},\"id\":\"1899\",\"type\":\"BasicTicker\"},{\"attributes\":{},\"id\":\"2006\",\"type\":\"Selection\"},{\"attributes\":{\"fill_alpha\":{\"value\":0.1},\"fill_color\":{\"value\":\"#1f77b4\"},\"line_alpha\":{\"value\":0.1},\"line_color\":{\"value\":\"#1f77b4\"},\"x\":{\"field\":\"x\"},\"y\":{\"field\":\"y\"}},\"id\":\"1933\",\"type\":\"Scatter\"},{\"attributes\":{\"callback\":null,\"data\":{\"x\":{\"__ndarray__\":\"AAAAAAAAAAAAAAAAAAAUQAAAAAAAACRAAAAAAAAALkAAAAAAAAA0QAAAAAAAADlAAAAAAAAAPkAAAAAAAIBBQAAAAAAAAERAAAAAAACARkA=\",\"dtype\":\"float64\",\"shape\":[10]},\"y\":{\"__ndarray__\":\"FYxK6gQ0gT8vbqMBvAVyP8e6uI0G8FY/LUMc6+I2Oj8tQxzr4jY6PwAAAAAAAAAAAAAAAAAAAAAAAAAAAAAAAAAAAAAAAAAAAAAAAAAAAAA=\",\"dtype\":\"float64\",\"shape\":[10]}},\"selected\":{\"id\":\"2006\",\"type\":\"Selection\"},\"selection_policy\":{\"id\":\"2005\",\"type\":\"UnionRenderers\"}},\"id\":\"1931\",\"type\":\"ColumnDataSource\"},{\"attributes\":{},\"id\":\"1894\",\"type\":\"BasicTicker\"},{\"attributes\":{\"formatter\":{\"id\":\"1924\",\"type\":\"BasicTickFormatter\"},\"ticker\":{\"id\":\"1899\",\"type\":\"BasicTicker\"}},\"id\":\"1898\",\"type\":\"LinearAxis\"},{\"attributes\":{\"label\":{\"value\":\"E11 quantum yield\"},\"renderers\":[{\"id\":\"1934\",\"type\":\"GlyphRenderer\"}]},\"id\":\"1944\",\"type\":\"LegendItem\"},{\"attributes\":{},\"id\":\"2005\",\"type\":\"UnionRenderers\"},{\"attributes\":{\"dimension\":1,\"ticker\":{\"id\":\"1899\",\"type\":\"BasicTicker\"}},\"id\":\"1902\",\"type\":\"Grid\"},{\"attributes\":{\"source\":{\"id\":\"1918\",\"type\":\"ColumnDataSource\"}},\"id\":\"1922\",\"type\":\"CDSView\"},{\"attributes\":{\"source\":{\"id\":\"1931\",\"type\":\"ColumnDataSource\"}},\"id\":\"1935\",\"type\":\"CDSView\"},{\"attributes\":{\"fill_color\":{\"value\":\"#1f77b4\"},\"line_color\":{\"value\":\"#1f77b4\"},\"x\":{\"field\":\"x\"},\"y\":{\"field\":\"y\"}},\"id\":\"1919\",\"type\":\"Scatter\"},{\"attributes\":{},\"id\":\"1926\",\"type\":\"BasicTickFormatter\"},{\"attributes\":{},\"id\":\"1907\",\"type\":\"ResetTool\"},{\"attributes\":{\"callback\":null,\"data\":{\"x\":{\"__ndarray__\":\"AAAAAAAAAAAAAAAAAAAUQAAAAAAAACRAAAAAAAAALkAAAAAAAAA0QAAAAAAAADlAAAAAAAAAPkAAAAAAAIBBQAAAAAAAAERAAAAAAACARkA=\",\"dtype\":\"float64\",\"shape\":[10]},\"y\":{\"__ndarray__\":\"AAAAAAAAAAAN4C2QoPixP+CcEaW9wbc/6gQ0ETY8vT//If32deC8PyKOdXEbDcA/WDm0yHa+vz87cM6I0t7AP+eMKO0NvsA/qMZLN4lBwD8=\",\"dtype\":\"float64\",\"shape\":[10]}},\"selected\":{\"id\":\"1943\",\"type\":\"Selection\"},\"selection_policy\":{\"id\":\"1942\",\"type\":\"UnionRenderers\"}},\"id\":\"1918\",\"type\":\"ColumnDataSource\"},{\"attributes\":{},\"id\":\"1903\",\"type\":\"PanTool\"},{\"attributes\":{},\"id\":\"1924\",\"type\":\"BasicTickFormatter\"},{\"attributes\":{\"callback\":null},\"id\":\"1916\",\"type\":\"HoverTool\"},{\"attributes\":{\"fill_alpha\":{\"value\":0.1},\"fill_color\":{\"value\":\"#1f77b4\"},\"line_alpha\":{\"value\":0.1},\"line_color\":{\"value\":\"#1f77b4\"},\"x\":{\"field\":\"x\"},\"y\":{\"field\":\"y\"}},\"id\":\"1920\",\"type\":\"Scatter\"},{\"attributes\":{\"items\":[{\"id\":\"1930\",\"type\":\"LegendItem\"},{\"id\":\"1944\",\"type\":\"LegendItem\"}]},\"id\":\"1929\",\"type\":\"Legend\"},{\"attributes\":{\"fill_color\":{\"value\":\"red\"},\"line_color\":{\"value\":\"red\"},\"x\":{\"field\":\"x\"},\"y\":{\"field\":\"y\"}},\"id\":\"1932\",\"type\":\"Scatter\"},{\"attributes\":{},\"id\":\"1908\",\"type\":\"HelpTool\"}],\"root_ids\":[\"1882\"]},\"title\":\"Bokeh Application\",\"version\":\"1.3.4\"}};\n",
       "  var render_items = [{\"docid\":\"875e9846-34e3-42a2-ba0f-282b088ea9b2\",\"roots\":{\"1882\":\"7a1a1873-b764-4136-83cd-7893873976b7\"}}];\n",
       "  root.Bokeh.embed.embed_items_notebook(docs_json, render_items);\n",
       "\n",
       "  }\n",
       "  if (root.Bokeh !== undefined) {\n",
       "    embed_document(root);\n",
       "  } else {\n",
       "    var attempts = 0;\n",
       "    var timer = setInterval(function(root) {\n",
       "      if (root.Bokeh !== undefined) {\n",
       "        embed_document(root);\n",
       "        clearInterval(timer);\n",
       "      }\n",
       "      attempts++;\n",
       "      if (attempts > 100) {\n",
       "        console.log(\"Bokeh: ERROR: Unable to run BokehJS code because BokehJS library is missing\");\n",
       "        clearInterval(timer);\n",
       "      }\n",
       "    }, 10, root)\n",
       "  }\n",
       "})(window);"
      ],
      "application/vnd.bokehjs_exec.v0+json": ""
     },
     "metadata": {
      "application/vnd.bokehjs_exec.v0+json": {
       "id": "1882"
      }
     },
     "output_type": "display_data"
    }
   ],
   "source": [
    "plot = figure(title='Defect Density Relation, l = 300 nm', width=800, height=400)\n",
    "plot.add_tools(HoverTool())\n",
    "plot.scatter(QY[:, 0], QY[:, 1], legend='E11* quantum yield')\n",
    "plot.scatter(QY[:, 0], QY[:, 2], legend='E11 quantum yield',color='red')\n",
    "show(plot)"
   ]
  },
  {
   "cell_type": "code",
   "execution_count": 24,
   "metadata": {},
   "outputs": [
    {
     "data": {
      "image/png": "[encoded data removed]",
      "text/plain": [
       "<Figure size 720x216 with 2 Axes>"
      ]
     },
     "metadata": {
      "needs_background": "light"
     },
     "output_type": "display_data"
    }
   ],
   "source": [
    "fig, ax1 = plt.subplots(figsize=(10, 3))\n",
    "\n",
    "color='blue'\n",
    "ax1.set_xlabel('n(defects)')\n",
    "ax1.set_ylabel('quantum yield E11', color=color)\n",
    "ax1.plot(QY[:, 0], QY[:, 2], color=color)\n",
    "ax1.tick_params(axis='y', labelcolor=color)\n",
    "plt.grid(True)\n",
    "ax2 = ax1.twinx()  # instantiate a second axes that shares the same x-axis\n",
    "\n",
    "color = 'red'\n",
    "ax2.set_ylabel('quantum yield E11*', color=color)\n",
    "ax2.plot(QY[:, 0], QY[:, 1], color=color)\n",
    "ax2.tick_params(axis='y', labelcolor=color)\n",
    "plt.tight_layout()  # otherwise the right y-label is slightly clipped\n"
   ]
  },
  {
   "cell_type": "code",
   "execution_count": 25,
   "metadata": {},
   "outputs": [
    {
     "data": {
      "text/plain": [
       "15.0"
      ]
     },
     "execution_count": 25,
     "metadata": {},
     "output_type": "execute_result"
    }
   ],
   "source": [
    "300/20"
   ]
  },
  {
   "cell_type": "markdown",
   "metadata": {},
   "source": [
    "# Effect of tube length"
   ]
  },
  {
   "cell_type": "code",
   "execution_count": 37,
   "metadata": {
    "scrolled": true
   },
   "outputs": [
    {
     "data": {
      "application/vnd.jupyter.widget-view+json": {
       "model_id": "b48e21bbd94e4134bef9fc91bdc756ec",
       "version_major": 2,
       "version_minor": 0
      },
      "text/plain": [
       "Text(value='')"
      ]
     },
     "metadata": {},
     "output_type": "display_data"
    },
    {
     "data": {
      "application/vnd.jupyter.widget-view+json": {
       "model_id": "cb91705258ce4045b41ba94b0f4ae08f",
       "version_major": 2,
       "version_minor": 0
      },
      "text/plain": [
       "Text(value='')"
      ]
     },
     "metadata": {},
     "output_type": "display_data"
    },
    {
     "data": {
      "application/vnd.jupyter.widget-view+json": {
       "model_id": "b3b9994c3a8d42589813599a25740034",
       "version_major": 2,
       "version_minor": 0
      },
      "text/plain": [
       "Text(value='')"
      ]
     },
     "metadata": {},
     "output_type": "display_data"
    },
    {
     "data": {
      "application/vnd.jupyter.widget-view+json": {
       "model_id": "d3059e40b6994080b1f718984e38fb36",
       "version_major": 2,
       "version_minor": 0
      },
      "text/plain": [
       "Text(value='')"
      ]
     },
     "metadata": {},
     "output_type": "display_data"
    },
    {
     "data": {
      "application/vnd.jupyter.widget-view+json": {
       "model_id": "a8d06ba8b6a448039450c63d3da06704",
       "version_major": 2,
       "version_minor": 0
      },
      "text/plain": [
       "Text(value='')"
      ]
     },
     "metadata": {},
     "output_type": "display_data"
    },
    {
     "data": {
      "application/vnd.jupyter.widget-view+json": {
       "model_id": "b26a6db22354469f9238f26b4dbb65ba",
       "version_major": 2,
       "version_minor": 0
      },
      "text/plain": [
       "Text(value='')"
      ]
     },
     "metadata": {},
     "output_type": "display_data"
    },
    {
     "data": {
      "application/vnd.jupyter.widget-view+json": {
       "model_id": "14cc1c7e865b41fd99ba0617ff685617",
       "version_major": 2,
       "version_minor": 0
      },
      "text/plain": [
       "Text(value='')"
      ]
     },
     "metadata": {},
     "output_type": "display_data"
    },
    {
     "data": {
      "application/vnd.jupyter.widget-view+json": {
       "model_id": "1207e799bf414b668a56ac9019d215df",
       "version_major": 2,
       "version_minor": 0
      },
      "text/plain": [
       "Text(value='')"
      ]
     },
     "metadata": {},
     "output_type": "display_data"
    },
    {
     "data": {
      "application/vnd.jupyter.widget-view+json": {
       "model_id": "f90c83054759460bb1714ea9c56f3192",
       "version_major": 2,
       "version_minor": 0
      },
      "text/plain": [
       "Text(value='')"
      ]
     },
     "metadata": {},
     "output_type": "display_data"
    },
    {
     "data": {
      "application/vnd.jupyter.widget-view+json": {
       "model_id": "d834ead7acae41a893fd97324b95eb90",
       "version_major": 2,
       "version_minor": 0
      },
      "text/plain": [
       "Text(value='')"
      ]
     },
     "metadata": {},
     "output_type": "display_data"
    },
    {
     "data": {
      "application/vnd.jupyter.widget-view+json": {
       "model_id": "12c01546c0304820bf0a337ede0831b0",
       "version_major": 2,
       "version_minor": 0
      },
      "text/plain": [
       "Text(value='')"
      ]
     },
     "metadata": {},
     "output_type": "display_data"
    },
    {
     "data": {
      "application/vnd.jupyter.widget-view+json": {
       "model_id": "2c8690d3ab284c379e34b9f40ff52958",
       "version_major": 2,
       "version_minor": 0
      },
      "text/plain": [
       "Text(value='')"
      ]
     },
     "metadata": {},
     "output_type": "display_data"
    },
    {
     "data": {
      "application/vnd.jupyter.widget-view+json": {
       "model_id": "c49d4f350227445fa147b18f9e1cf846",
       "version_major": 2,
       "version_minor": 0
      },
      "text/plain": [
       "Text(value='')"
      ]
     },
     "metadata": {},
     "output_type": "display_data"
    },
    {
     "data": {
      "application/vnd.jupyter.widget-view+json": {
       "model_id": "3bfe3fe31ca74159a7e78af62e7ccacb",
       "version_major": 2,
       "version_minor": 0
      },
      "text/plain": [
       "Text(value='')"
      ]
     },
     "metadata": {},
     "output_type": "display_data"
    },
    {
     "data": {
      "application/vnd.jupyter.widget-view+json": {
       "model_id": "c1ecaf1ee67943d59e0169bfac7cfda7",
       "version_major": 2,
       "version_minor": 0
      },
      "text/plain": [
       "Text(value='')"
      ]
     },
     "metadata": {},
     "output_type": "display_data"
    },
    {
     "data": {
      "application/vnd.jupyter.widget-view+json": {
       "model_id": "199680b04c8c4ee6bcf4bb4067e02fdc",
       "version_major": 2,
       "version_minor": 0
      },
      "text/plain": [
       "Text(value='')"
      ]
     },
     "metadata": {},
     "output_type": "display_data"
    },
    {
     "data": {
      "application/vnd.jupyter.widget-view+json": {
       "model_id": "4597c697d1a04215a5ccd66929096812",
       "version_major": 2,
       "version_minor": 0
      },
      "text/plain": [
       "Text(value='')"
      ]
     },
     "metadata": {},
     "output_type": "display_data"
    },
    {
     "data": {
      "application/vnd.jupyter.widget-view+json": {
       "model_id": "84ccaa669ee24b218a217326954f5846",
       "version_major": 2,
       "version_minor": 0
      },
      "text/plain": [
       "Text(value='')"
      ]
     },
     "metadata": {},
     "output_type": "display_data"
    },
    {
     "data": {
      "application/vnd.jupyter.widget-view+json": {
       "model_id": "df28ed2043d7457c9bffb70344100667",
       "version_major": 2,
       "version_minor": 0
      },
      "text/plain": [
       "Text(value='')"
      ]
     },
     "metadata": {},
     "output_type": "display_data"
    },
    {
     "data": {
      "application/vnd.jupyter.widget-view+json": {
       "model_id": "12d6cf31ff074cc18042862f8c976b0b",
       "version_major": 2,
       "version_minor": 0
      },
      "text/plain": [
       "Text(value='')"
      ]
     },
     "metadata": {},
     "output_type": "display_data"
    },
    {
     "data": {
      "application/vnd.jupyter.widget-view+json": {
       "model_id": "7d4a316ab2d046ceb3dad1fb53976183",
       "version_major": 2,
       "version_minor": 0
      },
      "text/plain": [
       "Text(value='')"
      ]
     },
     "metadata": {},
     "output_type": "display_data"
    },
    {
     "data": {
      "application/vnd.jupyter.widget-view+json": {
       "model_id": "ff7b9560eada49a2a7e66bace11b2cc0",
       "version_major": 2,
       "version_minor": 0
      },
      "text/plain": [
       "Text(value='')"
      ]
     },
     "metadata": {},
     "output_type": "display_data"
    },
    {
     "data": {
      "application/vnd.jupyter.widget-view+json": {
       "model_id": "7d48f43e3cfb4eac86170a0eaca54fbc",
       "version_major": 2,
       "version_minor": 0
      },
      "text/plain": [
       "Text(value='')"
      ]
     },
     "metadata": {},
     "output_type": "display_data"
    },
    {
     "data": {
      "application/vnd.jupyter.widget-view+json": {
       "model_id": "b8635c0b68bc488fbc794dc7a6e6d074",
       "version_major": 2,
       "version_minor": 0
      },
      "text/plain": [
       "Text(value='')"
      ]
     },
     "metadata": {},
     "output_type": "display_data"
    },
    {
     "data": {
      "application/vnd.jupyter.widget-view+json": {
       "model_id": "a2f04b9d109d4414b81a226a4fb99eca",
       "version_major": 2,
       "version_minor": 0
      },
      "text/plain": [
       "Text(value='')"
      ]
     },
     "metadata": {},
     "output_type": "display_data"
    },
    {
     "data": {
      "application/vnd.jupyter.widget-view+json": {
       "model_id": "c0e848fdfc3942e48fd216e30f0a3377",
       "version_major": 2,
       "version_minor": 0
      },
      "text/plain": [
       "Text(value='')"
      ]
     },
     "metadata": {},
     "output_type": "display_data"
    },
    {
     "data": {
      "application/vnd.jupyter.widget-view+json": {
       "model_id": "eb12f3ea1e08426f891ce48bd6d73e54",
       "version_major": 2,
       "version_minor": 0
      },
      "text/plain": [
       "Text(value='')"
      ]
     },
     "metadata": {},
     "output_type": "display_data"
    },
    {
     "name": "stderr",
     "output_type": "stream",
     "text": [
      "IOPub message rate exceeded.\n",
      "The notebook server will temporarily stop sending output\n",
      "to the client in order to avoid crashing it.\n",
      "To change this limit, set the config variable\n",
      "`--NotebookApp.iopub_msg_rate_limit`.\n",
      "\n",
      "Current values:\n",
      "NotebookApp.iopub_msg_rate_limit=1000.0 (msgs/sec)\n",
      "NotebookApp.rate_limit_window=3.0 (secs)\n",
      "\n"
     ]
    },
    {
     "data": {
      "application/vnd.jupyter.widget-view+json": {
       "model_id": "2598118b156e4834ab26b45e0ea0e6f0",
       "version_major": 2,
       "version_minor": 0
      },
      "text/plain": [
       "Text(value='')"
      ]
     },
     "metadata": {},
     "output_type": "display_data"
    },
    {
     "name": "stderr",
     "output_type": "stream",
     "text": [
      "IOPub message rate exceeded.\n",
      "The notebook server will temporarily stop sending output\n",
      "to the client in order to avoid crashing it.\n",
      "To change this limit, set the config variable\n",
      "`--NotebookApp.iopub_msg_rate_limit`.\n",
      "\n",
      "Current values:\n",
      "NotebookApp.iopub_msg_rate_limit=1000.0 (msgs/sec)\n",
      "NotebookApp.rate_limit_window=3.0 (secs)\n",
      "\n"
     ]
    },
    {
     "data": {
      "application/vnd.jupyter.widget-view+json": {
       "model_id": "9bafd4b7da424bc4944a971bb5b393c1",
       "version_major": 2,
       "version_minor": 0
      },
      "text/plain": [
       "Text(value='')"
      ]
     },
     "metadata": {},
     "output_type": "display_data"
    },
    {
     "name": "stderr",
     "output_type": "stream",
     "text": [
      "IOPub message rate exceeded.\n",
      "The notebook server will temporarily stop sending output\n",
      "to the client in order to avoid crashing it.\n",
      "To change this limit, set the config variable\n",
      "`--NotebookApp.iopub_msg_rate_limit`.\n",
      "\n",
      "Current values:\n",
      "NotebookApp.iopub_msg_rate_limit=1000.0 (msgs/sec)\n",
      "NotebookApp.rate_limit_window=3.0 (secs)\n",
      "\n"
     ]
    }
   ],
   "source": [
    "length = np.arange(10, 300, 10)\n",
    "QY = np.zeros((len(length), 4))\n",
    "for i, l_nm in enumerate(length):\n",
    "    QY[i, 0] = l_nm\n",
    "    QY[i, 1] = round(l_nm/15)\n",
    "    _, QY[i, 2:] = photons_fate(5000, exciton_walk, {'t_step':1, 'n_defects': int(round(l_nm/15)), 'length': l_nm}) "
   ]
  },
  {
   "cell_type": "code",
   "execution_count": null,
   "metadata": {},
   "outputs": [],
   "source": [
    "filename = 'QY_tube_length'\n",
    "infile = open(filename,'rb')\n",
    "QY = pickle.load(infile)\n",
    "infile.close()"
   ]
  },
  {
   "cell_type": "code",
   "execution_count": 58,
   "metadata": {
    "scrolled": false
   },
   "outputs": [
    {
     "data": {
      "text/html": [
       "\n",
       "\n",
       "\n",
       "\n",
       "\n",
       "\n",
       "  <div class=\"bk-root\" id=\"df97422c-02dd-4720-a947-b52f39db3ce2\" data-root-id=\"2298\"></div>\n"
      ]
     },
     "metadata": {},
     "output_type": "display_data"
    },
    {
     "data": {
      "application/javascript": [
       "(function(root) {\n",
       "  function embed_document(root) {\n",
       "    \n",
       "  var docs_json = {\"7073ab81-19df-4de2-bcf2-636572d17227\":{\"roots\":{\"references\":[{\"attributes\":{\"below\":[{\"id\":\"2309\",\"type\":\"LinearAxis\"}],\"center\":[{\"id\":\"2313\",\"type\":\"Grid\"},{\"id\":\"2318\",\"type\":\"Grid\"},{\"id\":\"2345\",\"type\":\"Legend\"}],\"left\":[{\"id\":\"2314\",\"type\":\"LinearAxis\"}],\"plot_height\":400,\"plot_width\":800,\"renderers\":[{\"id\":\"2337\",\"type\":\"GlyphRenderer\"},{\"id\":\"2350\",\"type\":\"GlyphRenderer\"}],\"title\":{\"id\":\"2299\",\"type\":\"Title\"},\"toolbar\":{\"id\":\"2325\",\"type\":\"Toolbar\"},\"x_range\":{\"id\":\"2301\",\"type\":\"DataRange1d\"},\"x_scale\":{\"id\":\"2305\",\"type\":\"LinearScale\"},\"y_range\":{\"id\":\"2303\",\"type\":\"DataRange1d\"},\"y_scale\":{\"id\":\"2307\",\"type\":\"LinearScale\"}},\"id\":\"2298\",\"subtype\":\"Figure\",\"type\":\"Plot\"},{\"attributes\":{\"fill_color\":{\"value\":\"red\"},\"line_color\":{\"value\":\"red\"},\"x\":{\"field\":\"x\"},\"y\":{\"field\":\"y\"}},\"id\":\"2335\",\"type\":\"Scatter\"},{\"attributes\":{\"source\":{\"id\":\"2347\",\"type\":\"ColumnDataSource\"}},\"id\":\"2351\",\"type\":\"CDSView\"},{\"attributes\":{\"dimension\":1,\"ticker\":{\"id\":\"2315\",\"type\":\"BasicTicker\"}},\"id\":\"2318\",\"type\":\"Grid\"},{\"attributes\":{\"data_source\":{\"id\":\"2334\",\"type\":\"ColumnDataSource\"},\"glyph\":{\"id\":\"2335\",\"type\":\"Scatter\"},\"hover_glyph\":null,\"muted_glyph\":null,\"nonselection_glyph\":{\"id\":\"2336\",\"type\":\"Scatter\"},\"selection_glyph\":null,\"view\":{\"id\":\"2338\",\"type\":\"CDSView\"}},\"id\":\"2337\",\"type\":\"GlyphRenderer\"},{\"attributes\":{\"label\":{\"value\":\"E11 quantum yield\"},\"renderers\":[{\"id\":\"2350\",\"type\":\"GlyphRenderer\"}]},\"id\":\"2360\",\"type\":\"LegendItem\"},{\"attributes\":{\"bottom_units\":\"screen\",\"fill_alpha\":{\"value\":0.5},\"fill_color\":{\"value\":\"lightgrey\"},\"left_units\":\"screen\",\"level\":\"overlay\",\"line_alpha\":{\"value\":1.0},\"line_color\":{\"value\":\"black\"},\"line_dash\":[4,4],\"line_width\":{\"value\":2},\"render_mode\":\"css\",\"right_units\":\"screen\",\"top_units\":\"screen\"},\"id\":\"2344\",\"type\":\"BoxAnnotation\"},{\"attributes\":{},\"id\":\"2319\",\"type\":\"PanTool\"},{\"attributes\":{\"formatter\":{\"id\":\"2340\",\"type\":\"BasicTickFormatter\"},\"ticker\":{\"id\":\"2315\",\"type\":\"BasicTicker\"}},\"id\":\"2314\",\"type\":\"LinearAxis\"},{\"attributes\":{},\"id\":\"2307\",\"type\":\"LinearScale\"},{\"attributes\":{\"callback\":null},\"id\":\"2301\",\"type\":\"DataRange1d\"},{\"attributes\":{\"callback\":null,\"data\":{\"x\":{\"__ndarray__\":\"AAAAAAAAJEAAAAAAAAA0QAAAAAAAAD5AAAAAAAAAREAAAAAAAABJQAAAAAAAAE5AAAAAAACAUUAAAAAAAABUQAAAAAAAgFZAAAAAAAAAWUAAAAAAAIBbQAAAAAAAAF5AAAAAAABAYEAAAAAAAIBhQAAAAAAAwGJAAAAAAAAAZEAAAAAAAEBlQAAAAAAAgGZAAAAAAADAZ0AAAAAAAABpQAAAAAAAQGpAAAAAAACAa0AAAAAAAMBsQAAAAAAAAG5AAAAAAABAb0AAAAAAAEBwQAAAAAAA4HBAAAAAAACAcUAAAAAAACByQA==\",\"dtype\":\"float64\",\"shape\":[29]},\"y\":{\"__ndarray__\":\"AAAAAAAAAAAAAAAAAAAAAAAAAAAAAAAAAAAAAAAAAAAAAAAAAAAAAAAAAAAAAAAAAAAAAAAAAAAAAAAAAAAAAAAAAAAAAAAAAAAAAAAAAAAAAAAAAAAAAAAAAAAAAAAAAAAAAAAAAAAtQxzr4jYqPwAAAAAAAAAAAAAAAAAAAAAtQxzr4jY6Py1DHOviNio/LUMc6+I2Kj8tQxzr4jYqPy1DHOviNio/LUMc6+I2Kj8tQxzr4jYqPy1DHOviNio/LUMc6+I2Oj8tQxzr4jY6Py1DHOviNjo/YTJVMCqpQz9hMlUwKqlDPw==\",\"dtype\":\"float64\",\"shape\":[29]}},\"selected\":{\"id\":\"2442\",\"type\":\"Selection\"},\"selection_policy\":{\"id\":\"2441\",\"type\":\"UnionRenderers\"}},\"id\":\"2347\",\"type\":\"ColumnDataSource\"},{\"attributes\":{},\"id\":\"2305\",\"type\":\"LinearScale\"},{\"attributes\":{\"fill_alpha\":{\"value\":0.1},\"fill_color\":{\"value\":\"#1f77b4\"},\"line_alpha\":{\"value\":0.1},\"line_color\":{\"value\":\"#1f77b4\"},\"x\":{\"field\":\"x\"},\"y\":{\"field\":\"y\"}},\"id\":\"2336\",\"type\":\"Scatter\"},{\"attributes\":{\"label\":{\"value\":\"E11* quantum yield\"},\"renderers\":[{\"id\":\"2337\",\"type\":\"GlyphRenderer\"}]},\"id\":\"2346\",\"type\":\"LegendItem\"},{\"attributes\":{},\"id\":\"2310\",\"type\":\"BasicTicker\"},{\"attributes\":{},\"id\":\"2441\",\"type\":\"UnionRenderers\"},{\"attributes\":{},\"id\":\"2323\",\"type\":\"ResetTool\"},{\"attributes\":{\"formatter\":{\"id\":\"2342\",\"type\":\"BasicTickFormatter\"},\"ticker\":{\"id\":\"2310\",\"type\":\"BasicTicker\"}},\"id\":\"2309\",\"type\":\"LinearAxis\"},{\"attributes\":{\"ticker\":{\"id\":\"2310\",\"type\":\"BasicTicker\"}},\"id\":\"2313\",\"type\":\"Grid\"},{\"attributes\":{},\"id\":\"2442\",\"type\":\"Selection\"},{\"attributes\":{\"text\":\"Tube length\"},\"id\":\"2299\",\"type\":\"Title\"},{\"attributes\":{},\"id\":\"2322\",\"type\":\"SaveTool\"},{\"attributes\":{\"overlay\":{\"id\":\"2344\",\"type\":\"BoxAnnotation\"}},\"id\":\"2321\",\"type\":\"BoxZoomTool\"},{\"attributes\":{},\"id\":\"2340\",\"type\":\"BasicTickFormatter\"},{\"attributes\":{},\"id\":\"2320\",\"type\":\"WheelZoomTool\"},{\"attributes\":{\"callback\":null},\"id\":\"2332\",\"type\":\"HoverTool\"},{\"attributes\":{\"source\":{\"id\":\"2334\",\"type\":\"ColumnDataSource\"}},\"id\":\"2338\",\"type\":\"CDSView\"},{\"attributes\":{},\"id\":\"2359\",\"type\":\"Selection\"},{\"attributes\":{},\"id\":\"2342\",\"type\":\"BasicTickFormatter\"},{\"attributes\":{\"callback\":null,\"data\":{\"x\":{\"__ndarray__\":\"AAAAAAAAJEAAAAAAAAA0QAAAAAAAAD5AAAAAAAAAREAAAAAAAABJQAAAAAAAAE5AAAAAAACAUUAAAAAAAABUQAAAAAAAgFZAAAAAAAAAWUAAAAAAAIBbQAAAAAAAAF5AAAAAAABAYEAAAAAAAIBhQAAAAAAAwGJAAAAAAAAAZEAAAAAAAEBlQAAAAAAAgGZAAAAAAADAZ0AAAAAAAABpQAAAAAAAQGpAAAAAAACAa0AAAAAAAMBsQAAAAAAAAG5AAAAAAABAb0AAAAAAAEBwQAAAAAAA4HBAAAAAAACAcUAAAAAAACByQA==\",\"dtype\":\"float64\",\"shape\":[29]},\"y\":{\"__ndarray__\":\"AAAAAAAAAAAAAAAAAAAAAAAAAAAAAAAAAAAAAAAAAAAH8BZIUPyIP4Lix5i7lqA/+n5qvHSTqD8pXI/C9SisP5jdk4eFWrM/BTQRNjy9sj+IhVrTvOO0Px/0bFZ9rrY/FmpN845TtD+yne+nxku3P8e6uI0G8LY/lrIMcayLuz/+Q/rt68C5Pzm0yHa+n7o/gZVDi2znuz/ysFBrmne8P6+UZYhjXbw/IbByaJHtvD+ad5yiI7m8P/8h/fZ14Lw/yXa+nxovvT8ldQKaCBu+PzqSy39Iv70/rK3YX3ZPvj/Jdr6fGi+9Pw==\",\"dtype\":\"float64\",\"shape\":[29]}},\"selected\":{\"id\":\"2359\",\"type\":\"Selection\"},\"selection_policy\":{\"id\":\"2358\",\"type\":\"UnionRenderers\"}},\"id\":\"2334\",\"type\":\"ColumnDataSource\"},{\"attributes\":{\"fill_color\":{\"value\":\"#1f77b4\"},\"line_color\":{\"value\":\"#1f77b4\"},\"x\":{\"field\":\"x\"},\"y\":{\"field\":\"y\"}},\"id\":\"2348\",\"type\":\"Scatter\"},{\"attributes\":{},\"id\":\"2358\",\"type\":\"UnionRenderers\"},{\"attributes\":{},\"id\":\"2324\",\"type\":\"HelpTool\"},{\"attributes\":{\"fill_alpha\":{\"value\":0.1},\"fill_color\":{\"value\":\"#1f77b4\"},\"line_alpha\":{\"value\":0.1},\"line_color\":{\"value\":\"#1f77b4\"},\"x\":{\"field\":\"x\"},\"y\":{\"field\":\"y\"}},\"id\":\"2349\",\"type\":\"Scatter\"},{\"attributes\":{},\"id\":\"2315\",\"type\":\"BasicTicker\"},{\"attributes\":{\"active_drag\":\"auto\",\"active_inspect\":\"auto\",\"active_multi\":null,\"active_scroll\":\"auto\",\"active_tap\":\"auto\",\"tools\":[{\"id\":\"2319\",\"type\":\"PanTool\"},{\"id\":\"2320\",\"type\":\"WheelZoomTool\"},{\"id\":\"2321\",\"type\":\"BoxZoomTool\"},{\"id\":\"2322\",\"type\":\"SaveTool\"},{\"id\":\"2323\",\"type\":\"ResetTool\"},{\"id\":\"2324\",\"type\":\"HelpTool\"},{\"id\":\"2332\",\"type\":\"HoverTool\"}]},\"id\":\"2325\",\"type\":\"Toolbar\"},{\"attributes\":{\"callback\":null},\"id\":\"2303\",\"type\":\"DataRange1d\"},{\"attributes\":{\"data_source\":{\"id\":\"2347\",\"type\":\"ColumnDataSource\"},\"glyph\":{\"id\":\"2348\",\"type\":\"Scatter\"},\"hover_glyph\":null,\"muted_glyph\":null,\"nonselection_glyph\":{\"id\":\"2349\",\"type\":\"Scatter\"},\"selection_glyph\":null,\"view\":{\"id\":\"2351\",\"type\":\"CDSView\"}},\"id\":\"2350\",\"type\":\"GlyphRenderer\"},{\"attributes\":{\"items\":[{\"id\":\"2346\",\"type\":\"LegendItem\"},{\"id\":\"2360\",\"type\":\"LegendItem\"}]},\"id\":\"2345\",\"type\":\"Legend\"}],\"root_ids\":[\"2298\"]},\"title\":\"Bokeh Application\",\"version\":\"1.3.4\"}};\n",
       "  var render_items = [{\"docid\":\"7073ab81-19df-4de2-bcf2-636572d17227\",\"roots\":{\"2298\":\"df97422c-02dd-4720-a947-b52f39db3ce2\"}}];\n",
       "  root.Bokeh.embed.embed_items_notebook(docs_json, render_items);\n",
       "\n",
       "  }\n",
       "  if (root.Bokeh !== undefined) {\n",
       "    embed_document(root);\n",
       "  } else {\n",
       "    var attempts = 0;\n",
       "    var timer = setInterval(function(root) {\n",
       "      if (root.Bokeh !== undefined) {\n",
       "        embed_document(root);\n",
       "        clearInterval(timer);\n",
       "      }\n",
       "      attempts++;\n",
       "      if (attempts > 100) {\n",
       "        console.log(\"Bokeh: ERROR: Unable to run BokehJS code because BokehJS library is missing\");\n",
       "        clearInterval(timer);\n",
       "      }\n",
       "    }, 10, root)\n",
       "  }\n",
       "})(window);"
      ],
      "application/vnd.bokehjs_exec.v0+json": ""
     },
     "metadata": {
      "application/vnd.bokehjs_exec.v0+json": {
       "id": "2298"
      }
     },
     "output_type": "display_data"
    }
   ],
   "source": [
    "plot = figure(title='Tube length', width=800, height=400)\n",
    "plot.add_tools(HoverTool())\n",
    "plot.scatter(QY[:, 0], QY[:, 2], legend='E11* quantum yield', color='red')\n",
    "plot.scatter(QY[:, 0], QY[:, 3], legend='E11 quantum yield')\n",
    "show(plot)"
   ]
  },
  {
   "cell_type": "code",
   "execution_count": 57,
   "metadata": {},
   "outputs": [
    {
     "data": {
      "image/png": "[encoded data removed]",
      "text/plain": [
       "<Figure size 720x216 with 2 Axes>"
      ]
     },
     "metadata": {
      "needs_background": "light"
     },
     "output_type": "display_data"
    }
   ],
   "source": [
    "fig, ax1 = plt.subplots(figsize=(10, 3))\n",
    "\n",
    "color='blue'\n",
    "ax1.set_xlabel('$l$ / nm')\n",
    "ax1.set_ylabel('quantum yield E11', color=color)\n",
    "ax1.scatter(QY[:, 0], QY[:, 3], color=color)\n",
    "ax1.tick_params(axis='y', labelcolor=color)\n",
    "ax1.set_ylim(-0.0002, 0.0008)\n",
    "plt.grid(True)\n",
    "ax2 = ax1.twinx()  # instantiate a second axes that shares the same x-axis\n",
    "\n",
    "color = 'red'\n",
    "ax2.set_ylabel('quantum yield E11*', color=color)\n",
    "ax2.scatter(QY[:, 0], QY[:, 2], color=color)\n",
    "ax2.tick_params(axis='y', labelcolor=color)\n",
    "plt.tight_layout()  # otherwise the right y-label is slightly clipped"
   ]
  },
  {
   "cell_type": "code",
   "execution_count": null,
   "metadata": {},
   "outputs": [],
   "source": [
    "length = np.arange(10, 500, 25)\n",
    "QY = np.zeros((len(length), 4))\n",
    "for i, l_nm in enumerate(length):\n",
    "    QY[i, 0] = l_nm\n",
    "    QY[i, 1] = round(l_nm/15)\n",
    "    _, QY[i, 2:] = photons_fate(5000, exciton_walk, {'t_step':1, 'n_defects': int(round(l_nm/15)), 'length': l_nm}) "
   ]
  }
 ],
 "metadata": {
  "kernelspec": {
   "display_name": "CNT-MC",
   "language": "python",
   "name": "cnt-mc"
  },
  "language_info": {
   "codemirror_mode": {
    "name": "ipython",
    "version": 3
   },
   "file_extension": ".py",
   "mimetype": "text/x-python",
   "name": "python",
   "nbconvert_exporter": "python",
   "pygments_lexer": "ipython3",
   "version": "3.7.6"
  }
 },
 "nbformat": 4,
 "nbformat_minor": 4
}
