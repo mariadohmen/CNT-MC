{
 "cells": [
  {
   "cell_type": "code",
   "execution_count": 1,
   "metadata": {},
   "outputs": [
    {
     "data": {
      "text/html": [
       "\n",
       "    <div class=\"bk-root\">\n",
       "        <a href=\"https://bokeh.pydata.org\" target=\"_blank\" class=\"bk-logo bk-logo-small bk-logo-notebook\"></a>\n",
       "        <span id=\"1001\">Loading BokehJS ...</span>\n",
       "    </div>"
      ]
     },
     "metadata": {},
     "output_type": "display_data"
    },
    {
     "data": {
      "application/javascript": [
       "\n",
       "(function(root) {\n",
       "  function now() {\n",
       "    return new Date();\n",
       "  }\n",
       "\n",
       "  var force = true;\n",
       "\n",
       "  if (typeof root._bokeh_onload_callbacks === \"undefined\" || force === true) {\n",
       "    root._bokeh_onload_callbacks = [];\n",
       "    root._bokeh_is_loading = undefined;\n",
       "  }\n",
       "\n",
       "  var JS_MIME_TYPE = 'application/javascript';\n",
       "  var HTML_MIME_TYPE = 'text/html';\n",
       "  var EXEC_MIME_TYPE = 'application/vnd.bokehjs_exec.v0+json';\n",
       "  var CLASS_NAME = 'output_bokeh rendered_html';\n",
       "\n",
       "  /**\n",
       "   * Render data to the DOM node\n",
       "   */\n",
       "  function render(props, node) {\n",
       "    var script = document.createElement(\"script\");\n",
       "    node.appendChild(script);\n",
       "  }\n",
       "\n",
       "  /**\n",
       "   * Handle when an output is cleared or removed\n",
       "   */\n",
       "  function handleClearOutput(event, handle) {\n",
       "    var cell = handle.cell;\n",
       "\n",
       "    var id = cell.output_area._bokeh_element_id;\n",
       "    var server_id = cell.output_area._bokeh_server_id;\n",
       "    // Clean up Bokeh references\n",
       "    if (id != null && id in Bokeh.index) {\n",
       "      Bokeh.index[id].model.document.clear();\n",
       "      delete Bokeh.index[id];\n",
       "    }\n",
       "\n",
       "    if (server_id !== undefined) {\n",
       "      // Clean up Bokeh references\n",
       "      var cmd = \"from bokeh.io.state import curstate; print(curstate().uuid_to_server['\" + server_id + \"'].get_sessions()[0].document.roots[0]._id)\";\n",
       "      cell.notebook.kernel.execute(cmd, {\n",
       "        iopub: {\n",
       "          output: function(msg) {\n",
       "            var id = msg.content.text.trim();\n",
       "            if (id in Bokeh.index) {\n",
       "              Bokeh.index[id].model.document.clear();\n",
       "              delete Bokeh.index[id];\n",
       "            }\n",
       "          }\n",
       "        }\n",
       "      });\n",
       "      // Destroy server and session\n",
       "      var cmd = \"import bokeh.io.notebook as ion; ion.destroy_server('\" + server_id + \"')\";\n",
       "      cell.notebook.kernel.execute(cmd);\n",
       "    }\n",
       "  }\n",
       "\n",
       "  /**\n",
       "   * Handle when a new output is added\n",
       "   */\n",
       "  function handleAddOutput(event, handle) {\n",
       "    var output_area = handle.output_area;\n",
       "    var output = handle.output;\n",
       "\n",
       "    // limit handleAddOutput to display_data with EXEC_MIME_TYPE content only\n",
       "    if ((output.output_type != \"display_data\") || (!output.data.hasOwnProperty(EXEC_MIME_TYPE))) {\n",
       "      return\n",
       "    }\n",
       "\n",
       "    var toinsert = output_area.element.find(\".\" + CLASS_NAME.split(' ')[0]);\n",
       "\n",
       "    if (output.metadata[EXEC_MIME_TYPE][\"id\"] !== undefined) {\n",
       "      toinsert[toinsert.length - 1].firstChild.textContent = output.data[JS_MIME_TYPE];\n",
       "      // store reference to embed id on output_area\n",
       "      output_area._bokeh_element_id = output.metadata[EXEC_MIME_TYPE][\"id\"];\n",
       "    }\n",
       "    if (output.metadata[EXEC_MIME_TYPE][\"server_id\"] !== undefined) {\n",
       "      var bk_div = document.createElement(\"div\");\n",
       "      bk_div.innerHTML = output.data[HTML_MIME_TYPE];\n",
       "      var script_attrs = bk_div.children[0].attributes;\n",
       "      for (var i = 0; i < script_attrs.length; i++) {\n",
       "        toinsert[toinsert.length - 1].firstChild.setAttribute(script_attrs[i].name, script_attrs[i].value);\n",
       "      }\n",
       "      // store reference to server id on output_area\n",
       "      output_area._bokeh_server_id = output.metadata[EXEC_MIME_TYPE][\"server_id\"];\n",
       "    }\n",
       "  }\n",
       "\n",
       "  function register_renderer(events, OutputArea) {\n",
       "\n",
       "    function append_mime(data, metadata, element) {\n",
       "      // create a DOM node to render to\n",
       "      var toinsert = this.create_output_subarea(\n",
       "        metadata,\n",
       "        CLASS_NAME,\n",
       "        EXEC_MIME_TYPE\n",
       "      );\n",
       "      this.keyboard_manager.register_events(toinsert);\n",
       "      // Render to node\n",
       "      var props = {data: data, metadata: metadata[EXEC_MIME_TYPE]};\n",
       "      render(props, toinsert[toinsert.length - 1]);\n",
       "      element.append(toinsert);\n",
       "      return toinsert\n",
       "    }\n",
       "\n",
       "    /* Handle when an output is cleared or removed */\n",
       "    events.on('clear_output.CodeCell', handleClearOutput);\n",
       "    events.on('delete.Cell', handleClearOutput);\n",
       "\n",
       "    /* Handle when a new output is added */\n",
       "    events.on('output_added.OutputArea', handleAddOutput);\n",
       "\n",
       "    /**\n",
       "     * Register the mime type and append_mime function with output_area\n",
       "     */\n",
       "    OutputArea.prototype.register_mime_type(EXEC_MIME_TYPE, append_mime, {\n",
       "      /* Is output safe? */\n",
       "      safe: true,\n",
       "      /* Index of renderer in `output_area.display_order` */\n",
       "      index: 0\n",
       "    });\n",
       "  }\n",
       "\n",
       "  // register the mime type if in Jupyter Notebook environment and previously unregistered\n",
       "  if (root.Jupyter !== undefined) {\n",
       "    var events = require('base/js/events');\n",
       "    var OutputArea = require('notebook/js/outputarea').OutputArea;\n",
       "\n",
       "    if (OutputArea.prototype.mime_types().indexOf(EXEC_MIME_TYPE) == -1) {\n",
       "      register_renderer(events, OutputArea);\n",
       "    }\n",
       "  }\n",
       "\n",
       "  \n",
       "  if (typeof (root._bokeh_timeout) === \"undefined\" || force === true) {\n",
       "    root._bokeh_timeout = Date.now() + 5000;\n",
       "    root._bokeh_failed_load = false;\n",
       "  }\n",
       "\n",
       "  var NB_LOAD_WARNING = {'data': {'text/html':\n",
       "     \"<div style='background-color: #fdd'>\\n\"+\n",
       "     \"<p>\\n\"+\n",
       "     \"BokehJS does not appear to have successfully loaded. If loading BokehJS from CDN, this \\n\"+\n",
       "     \"may be due to a slow or bad network connection. Possible fixes:\\n\"+\n",
       "     \"</p>\\n\"+\n",
       "     \"<ul>\\n\"+\n",
       "     \"<li>re-rerun `output_notebook()` to attempt to load from CDN again, or</li>\\n\"+\n",
       "     \"<li>use INLINE resources instead, as so:</li>\\n\"+\n",
       "     \"</ul>\\n\"+\n",
       "     \"<code>\\n\"+\n",
       "     \"from bokeh.resources import INLINE\\n\"+\n",
       "     \"output_notebook(resources=INLINE)\\n\"+\n",
       "     \"</code>\\n\"+\n",
       "     \"</div>\"}};\n",
       "\n",
       "  function display_loaded() {\n",
       "    var el = document.getElementById(\"1001\");\n",
       "    if (el != null) {\n",
       "      el.textContent = \"BokehJS is loading...\";\n",
       "    }\n",
       "    if (root.Bokeh !== undefined) {\n",
       "      if (el != null) {\n",
       "        el.textContent = \"BokehJS \" + root.Bokeh.version + \" successfully loaded.\";\n",
       "      }\n",
       "    } else if (Date.now() < root._bokeh_timeout) {\n",
       "      setTimeout(display_loaded, 100)\n",
       "    }\n",
       "  }\n",
       "\n",
       "\n",
       "  function run_callbacks() {\n",
       "    try {\n",
       "      root._bokeh_onload_callbacks.forEach(function(callback) {\n",
       "        if (callback != null)\n",
       "          callback();\n",
       "      });\n",
       "    } finally {\n",
       "      delete root._bokeh_onload_callbacks\n",
       "    }\n",
       "    console.debug(\"Bokeh: all callbacks have finished\");\n",
       "  }\n",
       "\n",
       "  function load_libs(css_urls, js_urls, callback) {\n",
       "    if (css_urls == null) css_urls = [];\n",
       "    if (js_urls == null) js_urls = [];\n",
       "\n",
       "    root._bokeh_onload_callbacks.push(callback);\n",
       "    if (root._bokeh_is_loading > 0) {\n",
       "      console.debug(\"Bokeh: BokehJS is being loaded, scheduling callback at\", now());\n",
       "      return null;\n",
       "    }\n",
       "    if (js_urls == null || js_urls.length === 0) {\n",
       "      run_callbacks();\n",
       "      return null;\n",
       "    }\n",
       "    console.debug(\"Bokeh: BokehJS not loaded, scheduling load and callback at\", now());\n",
       "    root._bokeh_is_loading = css_urls.length + js_urls.length;\n",
       "\n",
       "    function on_load() {\n",
       "      root._bokeh_is_loading--;\n",
       "      if (root._bokeh_is_loading === 0) {\n",
       "        console.debug(\"Bokeh: all BokehJS libraries/stylesheets loaded\");\n",
       "        run_callbacks()\n",
       "      }\n",
       "    }\n",
       "\n",
       "    function on_error() {\n",
       "      console.error(\"failed to load \" + url);\n",
       "    }\n",
       "\n",
       "    for (var i = 0; i < css_urls.length; i++) {\n",
       "      var url = css_urls[i];\n",
       "      const element = document.createElement(\"link\");\n",
       "      element.onload = on_load;\n",
       "      element.onerror = on_error;\n",
       "      element.rel = \"stylesheet\";\n",
       "      element.type = \"text/css\";\n",
       "      element.href = url;\n",
       "      console.debug(\"Bokeh: injecting link tag for BokehJS stylesheet: \", url);\n",
       "      document.body.appendChild(element);\n",
       "    }\n",
       "\n",
       "    for (var i = 0; i < js_urls.length; i++) {\n",
       "      var url = js_urls[i];\n",
       "      var element = document.createElement('script');\n",
       "      element.onload = on_load;\n",
       "      element.onerror = on_error;\n",
       "      element.async = false;\n",
       "      element.src = url;\n",
       "      console.debug(\"Bokeh: injecting script tag for BokehJS library: \", url);\n",
       "      document.head.appendChild(element);\n",
       "    }\n",
       "  };var element = document.getElementById(\"1001\");\n",
       "  if (element == null) {\n",
       "    console.error(\"Bokeh: ERROR: autoload.js configured with elementid '1001' but no matching script tag was found. \")\n",
       "    return false;\n",
       "  }\n",
       "\n",
       "  function inject_raw_css(css) {\n",
       "    const element = document.createElement(\"style\");\n",
       "    element.appendChild(document.createTextNode(css));\n",
       "    document.body.appendChild(element);\n",
       "  }\n",
       "\n",
       "  var js_urls = [\"https://cdn.pydata.org/bokeh/release/bokeh-1.3.4.min.js\", \"https://cdn.pydata.org/bokeh/release/bokeh-widgets-1.3.4.min.js\", \"https://cdn.pydata.org/bokeh/release/bokeh-tables-1.3.4.min.js\", \"https://cdn.pydata.org/bokeh/release/bokeh-gl-1.3.4.min.js\"];\n",
       "  var css_urls = [];\n",
       "\n",
       "  var inline_js = [\n",
       "    function(Bokeh) {\n",
       "      Bokeh.set_log_level(\"info\");\n",
       "    },\n",
       "    \n",
       "    function(Bokeh) {\n",
       "      \n",
       "    },\n",
       "    function(Bokeh) {} // ensure no trailing comma for IE\n",
       "  ];\n",
       "\n",
       "  function run_inline_js() {\n",
       "    \n",
       "    if ((root.Bokeh !== undefined) || (force === true)) {\n",
       "      for (var i = 0; i < inline_js.length; i++) {\n",
       "        inline_js[i].call(root, root.Bokeh);\n",
       "      }if (force === true) {\n",
       "        display_loaded();\n",
       "      }} else if (Date.now() < root._bokeh_timeout) {\n",
       "      setTimeout(run_inline_js, 100);\n",
       "    } else if (!root._bokeh_failed_load) {\n",
       "      console.log(\"Bokeh: BokehJS failed to load within specified timeout.\");\n",
       "      root._bokeh_failed_load = true;\n",
       "    } else if (force !== true) {\n",
       "      var cell = $(document.getElementById(\"1001\")).parents('.cell').data().cell;\n",
       "      cell.output_area.append_execute_result(NB_LOAD_WARNING)\n",
       "    }\n",
       "\n",
       "  }\n",
       "\n",
       "  if (root._bokeh_is_loading === 0) {\n",
       "    console.debug(\"Bokeh: BokehJS loaded, going straight to plotting\");\n",
       "    run_inline_js();\n",
       "  } else {\n",
       "    load_libs(css_urls, js_urls, function() {\n",
       "      console.debug(\"Bokeh: BokehJS plotting callback run at\", now());\n",
       "      run_inline_js();\n",
       "    });\n",
       "  }\n",
       "}(window));"
      ],
      "application/vnd.bokehjs_load.v0+json": "\n(function(root) {\n  function now() {\n    return new Date();\n  }\n\n  var force = true;\n\n  if (typeof root._bokeh_onload_callbacks === \"undefined\" || force === true) {\n    root._bokeh_onload_callbacks = [];\n    root._bokeh_is_loading = undefined;\n  }\n\n  \n\n  \n  if (typeof (root._bokeh_timeout) === \"undefined\" || force === true) {\n    root._bokeh_timeout = Date.now() + 5000;\n    root._bokeh_failed_load = false;\n  }\n\n  var NB_LOAD_WARNING = {'data': {'text/html':\n     \"<div style='background-color: #fdd'>\\n\"+\n     \"<p>\\n\"+\n     \"BokehJS does not appear to have successfully loaded. If loading BokehJS from CDN, this \\n\"+\n     \"may be due to a slow or bad network connection. Possible fixes:\\n\"+\n     \"</p>\\n\"+\n     \"<ul>\\n\"+\n     \"<li>re-rerun `output_notebook()` to attempt to load from CDN again, or</li>\\n\"+\n     \"<li>use INLINE resources instead, as so:</li>\\n\"+\n     \"</ul>\\n\"+\n     \"<code>\\n\"+\n     \"from bokeh.resources import INLINE\\n\"+\n     \"output_notebook(resources=INLINE)\\n\"+\n     \"</code>\\n\"+\n     \"</div>\"}};\n\n  function display_loaded() {\n    var el = document.getElementById(\"1001\");\n    if (el != null) {\n      el.textContent = \"BokehJS is loading...\";\n    }\n    if (root.Bokeh !== undefined) {\n      if (el != null) {\n        el.textContent = \"BokehJS \" + root.Bokeh.version + \" successfully loaded.\";\n      }\n    } else if (Date.now() < root._bokeh_timeout) {\n      setTimeout(display_loaded, 100)\n    }\n  }\n\n\n  function run_callbacks() {\n    try {\n      root._bokeh_onload_callbacks.forEach(function(callback) {\n        if (callback != null)\n          callback();\n      });\n    } finally {\n      delete root._bokeh_onload_callbacks\n    }\n    console.debug(\"Bokeh: all callbacks have finished\");\n  }\n\n  function load_libs(css_urls, js_urls, callback) {\n    if (css_urls == null) css_urls = [];\n    if (js_urls == null) js_urls = [];\n\n    root._bokeh_onload_callbacks.push(callback);\n    if (root._bokeh_is_loading > 0) {\n      console.debug(\"Bokeh: BokehJS is being loaded, scheduling callback at\", now());\n      return null;\n    }\n    if (js_urls == null || js_urls.length === 0) {\n      run_callbacks();\n      return null;\n    }\n    console.debug(\"Bokeh: BokehJS not loaded, scheduling load and callback at\", now());\n    root._bokeh_is_loading = css_urls.length + js_urls.length;\n\n    function on_load() {\n      root._bokeh_is_loading--;\n      if (root._bokeh_is_loading === 0) {\n        console.debug(\"Bokeh: all BokehJS libraries/stylesheets loaded\");\n        run_callbacks()\n      }\n    }\n\n    function on_error() {\n      console.error(\"failed to load \" + url);\n    }\n\n    for (var i = 0; i < css_urls.length; i++) {\n      var url = css_urls[i];\n      const element = document.createElement(\"link\");\n      element.onload = on_load;\n      element.onerror = on_error;\n      element.rel = \"stylesheet\";\n      element.type = \"text/css\";\n      element.href = url;\n      console.debug(\"Bokeh: injecting link tag for BokehJS stylesheet: \", url);\n      document.body.appendChild(element);\n    }\n\n    for (var i = 0; i < js_urls.length; i++) {\n      var url = js_urls[i];\n      var element = document.createElement('script');\n      element.onload = on_load;\n      element.onerror = on_error;\n      element.async = false;\n      element.src = url;\n      console.debug(\"Bokeh: injecting script tag for BokehJS library: \", url);\n      document.head.appendChild(element);\n    }\n  };var element = document.getElementById(\"1001\");\n  if (element == null) {\n    console.error(\"Bokeh: ERROR: autoload.js configured with elementid '1001' but no matching script tag was found. \")\n    return false;\n  }\n\n  function inject_raw_css(css) {\n    const element = document.createElement(\"style\");\n    element.appendChild(document.createTextNode(css));\n    document.body.appendChild(element);\n  }\n\n  var js_urls = [\"https://cdn.pydata.org/bokeh/release/bokeh-1.3.4.min.js\", \"https://cdn.pydata.org/bokeh/release/bokeh-widgets-1.3.4.min.js\", \"https://cdn.pydata.org/bokeh/release/bokeh-tables-1.3.4.min.js\", \"https://cdn.pydata.org/bokeh/release/bokeh-gl-1.3.4.min.js\"];\n  var css_urls = [];\n\n  var inline_js = [\n    function(Bokeh) {\n      Bokeh.set_log_level(\"info\");\n    },\n    \n    function(Bokeh) {\n      \n    },\n    function(Bokeh) {} // ensure no trailing comma for IE\n  ];\n\n  function run_inline_js() {\n    \n    if ((root.Bokeh !== undefined) || (force === true)) {\n      for (var i = 0; i < inline_js.length; i++) {\n        inline_js[i].call(root, root.Bokeh);\n      }if (force === true) {\n        display_loaded();\n      }} else if (Date.now() < root._bokeh_timeout) {\n      setTimeout(run_inline_js, 100);\n    } else if (!root._bokeh_failed_load) {\n      console.log(\"Bokeh: BokehJS failed to load within specified timeout.\");\n      root._bokeh_failed_load = true;\n    } else if (force !== true) {\n      var cell = $(document.getElementById(\"1001\")).parents('.cell').data().cell;\n      cell.output_area.append_execute_result(NB_LOAD_WARNING)\n    }\n\n  }\n\n  if (root._bokeh_is_loading === 0) {\n    console.debug(\"Bokeh: BokehJS loaded, going straight to plotting\");\n    run_inline_js();\n  } else {\n    load_libs(css_urls, js_urls, function() {\n      console.debug(\"Bokeh: BokehJS plotting callback run at\", now());\n      run_inline_js();\n    });\n  }\n}(window));"
     },
     "metadata": {},
     "output_type": "display_data"
    }
   ],
   "source": [
    "import random\n",
    "\n",
    "import numpy as np\n",
    "import matplotlib.pyplot as plt\n",
    "\n",
    "# Bokeh imports\n",
    "from bokeh.io import output_notebook, show, save\n",
    "from bokeh.plotting import figure, output_file, ColumnDataSource, reset_output\n",
    "from bokeh.models import HoverTool\n",
    "output_notebook()\n",
    "\n",
    "from ipywidgets.widgets import Text\n",
    "\n",
    "#scipy constants\n",
    "from scipy.constants import Boltzmann as kB\n",
    "from scipy.constants import Avogadro as NA\n",
    "from scipy.constants import Planck as h\n",
    "from scipy.constants import speed_of_light as c0\n",
    "from scipy.constants import R"
   ]
  },
  {
   "cell_type": "markdown",
   "metadata": {},
   "source": [
    "### Set Global parameters"
   ]
  },
  {
   "cell_type": "code",
   "execution_count": 2,
   "metadata": {},
   "outputs": [],
   "source": [
    "L_nm = 300  # length of the nanotube\n",
    "R_nm = 1  # radius of the exiton\n",
    "N_DEF = 10  # number of defects per nanotube\n",
    "T_STEP_ps = 1 # time step\n",
    "D_exc_nm_per_s = 1.07e15  # Exciton Diffusion Coefficient https://doi.org/10.1021/nn101612b\n",
    "\n",
    "k_r_per_s = 1e10  # radiativ decay constant\n",
    "k_nr_per_s = 1e11  # non-radiativ decay constant bright\n",
    "k_d_per_s = 1e11  # constant for transion into dark state\n",
    "k_n_per_s = 1e11\n"
   ]
  },
  {
   "cell_type": "markdown",
   "metadata": {},
   "source": [
    "## Exciton Fate\n",
    "\n",
    "Very small MC simulation without any dynamic elements. The exciton is allowed to radiative, non-ratidative decays as well as diffusion and falling into dark state (not in agreement with working modells) More for algorithm purposes"
   ]
  },
  {
   "cell_type": "code",
   "execution_count": 3,
   "metadata": {},
   "outputs": [],
   "source": [
    "def exciton_fate():\n",
    "    \"\"\"Determines the fate of a single exciton.\n",
    "\n",
    "    Returns\n",
    "    -------\n",
    "    exciton_fate : 1D array\n",
    "        Matrix showing the binned fate of the MC steps. Order is\n",
    "        k_r_per_s, k_nr_per_s, k_d_per_s, k_d_per_s\n",
    "    \"\"\"\n",
    "    kin_const = [k_r_per_s, k_nr_per_s, k_d_per_s, k_d_per_s]\n",
    "    fate = 3  # fate of single exciton in MC step\n",
    "    exciton_fate = np.zeros(len(kin_const))\n",
    "\n",
    "    while fate > 1:\n",
    "        # calculate the probability for exciton decay\n",
    "        p_fate = np.array([e * random.uniform(0, 1) for e in kin_const])\n",
    "\n",
    "        # Store result for highest probability\n",
    "        fate = p_fate.argmax()\n",
    "        exciton_fate[fate] += 1\n",
    "\n",
    "        # insurance that there won't be an endless loop\n",
    "        if exciton_fate.sum() > 1e3:\n",
    "            print('Simulation exceeds 1e3 steps, loop aborded')\n",
    "            return exciton_fate\n",
    "    return exciton_fate"
   ]
  },
  {
   "cell_type": "code",
   "execution_count": 4,
   "metadata": {},
   "outputs": [],
   "source": [
    "def photons_fate(n_photons, func, func_kwargs={}):\n",
    "    \"\"\"Simulate the fate of numerous photons.\n",
    "    For a key to the fate look a the respective exciton fate function.\n",
    "\n",
    "    Parameters\n",
    "    ----------\n",
    "    n_photons : int\n",
    "        Number of photons to be used in the simulation.\n",
    "    func : callable\n",
    "        Function to perform MC simulation of a single exciton.\n",
    "    func_kwargs: dict\n",
    "        Dictionary containing the arguments and keyword arguments for\n",
    "        func.\n",
    "\n",
    "    Returns\n",
    "    -------\n",
    "    photons_fate : 1D array\n",
    "        Binnend fate of the photons in simulation.\n",
    "    quantum_yield : 1D array\n",
    "        Quantum yield of the E11 and E11* radiative decay.\"\"\"\n",
    "    info = Text()\n",
    "    display(info)\n",
    "\n",
    "    # initiate matrix size\n",
    "    photons_fate = func(**func_kwargs)\n",
    "    info.value = f\"Processing photon (1/ {n_photons})\"\n",
    "\n",
    "    # loop for the desired number of photons\n",
    "    for p in np.arange(n_photons-1):\n",
    "        photons_fate += func(**func_kwargs)\n",
    "        info.value = f\"Processing photon ({p+2}/ {n_photons})\"\n",
    "\n",
    "    # calculate the quantum yield\n",
    "    quantum_yield = photons_fate[:2] / n_photons\n",
    "\n",
    "    return photons_fate, quantum_yield"
   ]
  },
  {
   "cell_type": "code",
   "execution_count": 5,
   "metadata": {},
   "outputs": [
    {
     "data": {
      "application/vnd.jupyter.widget-view+json": {
       "model_id": "9a6891f6a61f4ca38daa8c4f59b6b325",
       "version_major": 2,
       "version_minor": 0
      },
      "text/plain": [
       "Text(value='')"
      ]
     },
     "metadata": {},
     "output_type": "display_data"
    },
    {
     "data": {
      "text/plain": [
       "(array([   0., 1000.,  969.,  960.]), array([0., 1.]))"
      ]
     },
     "execution_count": 5,
     "metadata": {},
     "output_type": "execute_result"
    }
   ],
   "source": [
    "photons_fate(1e3, exciton_fate)"
   ]
  },
  {
   "cell_type": "markdown",
   "metadata": {},
   "source": [
    "## Modell change"
   ]
  },
  {
   "cell_type": "markdown",
   "metadata": {},
   "source": [
    "E11 can decay radiativ and non radiative, as well as transition to E11* (defect states) which can also decay radiative and non radiative. If the exciton gets trapped within E11* is determined with a 1D random walk\n",
    "\n",
    "E11* transitions are marked with d for 'defect'"
   ]
  },
  {
   "cell_type": "markdown",
   "metadata": {},
   "source": [
    "### Set Global Parameters"
   ]
  },
  {
   "cell_type": "code",
   "execution_count": 6,
   "metadata": {},
   "outputs": [],
   "source": [
    "TAU_ps = 100\n",
    "TAU_d_ps = 1000\n",
    "\n",
    "k_r_per_s = 1e11  # constant for radiativ decay from E11\n",
    "k_d_r_per_s = 1e10  # constant for radiativ decay from E11*\n",
    "k_nr_per_s = 1e11  # constant of non-radiativ decay from E11\n",
    "k_d_nr_per_s = 1e11  # constant for non-radiativ decay from E11*\n",
    "k_nothing = lambda t_step: (k_r_per_s + k_nr_per_s) * TAU_ps / t_step\n",
    "k_nothing_d = lambda t_step: (k_d_r_per_s + k_d_nr_per_s) * TAU_d_ps / t_step"
   ]
  },
  {
   "cell_type": "code",
   "execution_count": 7,
   "metadata": {},
   "outputs": [],
   "source": [
    "def create_defects(length=L_nm, n_def=N_DEF):\n",
    "    \"\"\"Creates defects along the CNT at random position.\n",
    "\n",
    "    Parameters\n",
    "    ----------\n",
    "    length : int, optional\n",
    "        Length of the CNT in nm, global constant as default.\n",
    "    n_def : int, optional\n",
    "        Number of defects on the CNT, global constant as default.\n",
    "\n",
    "    Returns\n",
    "    -------\n",
    "    pos_def : 1D array\n",
    "        Positions in nm of the defects on the CNT stored in\n",
    "        array size (n_def, 1)\n",
    "    \"\"\"\n",
    "    return np.random.randint(0, length, size=(n_def, 1))"
   ]
  },
  {
   "cell_type": "code",
   "execution_count": 8,
   "metadata": {},
   "outputs": [],
   "source": [
    "def create_exciton(length=L_nm):\n",
    "    \"\"\"Creates exciton on the CNT at random position.\n",
    "\n",
    "    Parameters\n",
    "    ----------\n",
    "    length : int, optional\n",
    "        Length of the CNT in nm, global constant as default.\n",
    "\n",
    "    Returns\n",
    "    -------\n",
    "    pos_exc : int\n",
    "        Position of the exciton along the CNT as a random integer.\"\"\"\n",
    "    return random.randrange(length)"
   ]
  },
  {
   "cell_type": "code",
   "execution_count": 9,
   "metadata": {},
   "outputs": [],
   "source": [
    "def exciton_walk(t_step, n_defects=10, length=L_nm):\n",
    "    \"\"\"\n",
    "    \n",
    "    Parameters\n",
    "    ----------\n",
    "    t_step : float\n",
    "        Timestep in ps.\n",
    "    n_defects : int, optional\n",
    "        Number of defects on CNT. Default is 10\n",
    "    length : int, optional\n",
    "        Length of the CNT in nm, global constant as default.\n",
    "\n",
    "    Returns\n",
    "    -------\n",
    "    exciton_fate : 1D array\n",
    "        Array contains the binned fate of the exciton for each MC step:\n",
    "        fate = 0 : E11 radiative decay\n",
    "        fate = 1 : E11* radiative decay\n",
    "        fate = 2 : E11 non-radiative decay\n",
    "        fate = 3 : E11* non-radiative decay\n",
    "        fate = 4 : Free diffusion walk\n",
    "        fate = 5 : Exciton stays in trap\n",
    "        fate = 6 : Exciton becomes trapped\n",
    "    \"\"\"\n",
    "\n",
    "    kin_const = [k_r_per_s, k_d_r_per_s, k_nr_per_s, k_d_nr_per_s,\n",
    "                 k_nothing(t_step), k_nothing_d(t_step)]\n",
    "\n",
    "    # inital exciton is free in E11\n",
    "    fate = 4\n",
    "    trapped = 0\n",
    "\n",
    "    # Initiate matrix to store exciton fate\n",
    "    exciton_fate = np.zeros(len(kin_const)+1)\n",
    "\n",
    "    # Inital position of the exciton and defects\n",
    "    pos_exc_0 = create_exciton(length)\n",
    "    defects = create_defects(length, n_defects)\n",
    "\n",
    "    while fate > 3:\n",
    "\n",
    "        # step if exciton is free\n",
    "        if trapped == 0:\n",
    "            pos_exc_1 = round(pos_exc_0 + (\n",
    "                2 * D_exc_nm_per_s * t_step * 1e-12)**0.5)\n",
    "\n",
    "        # quenching of the exciton at tube end\n",
    "        if pos_exc_1 >= length:\n",
    "            fate = 2\n",
    "            exciton_fate[fate] += 1\n",
    "            break\n",
    "\n",
    "        # check if exciton became trapped\n",
    "        if trapped == 0:\n",
    "            pathway = np.arange(pos_exc_1-pos_exc_0)\n",
    "            if np.in1d(pathway, defects).any():\n",
    "                trapped = 1\n",
    "                fate = 6\n",
    "                exciton_fate[fate] += 1\n",
    "\n",
    "        # fate of a trapped exciton\n",
    "        if trapped == 1:\n",
    "            # calculate probability for fate of trapped exciton\n",
    "            p_fate = np.array([e * random.uniform(0, 1)\n",
    "                               for e in kin_const[1::2]])\n",
    "            # Store result for highest probability\n",
    "            fate = (2*p_fate.argmax() + 1)\n",
    "            exciton_fate[fate] += 1\n",
    "\n",
    "        # fate of freely diffusing exciton\n",
    "        else:\n",
    "            # calculate probability for fate of free exciton\n",
    "            p_fate = np.array([e * random.uniform(0, 1)\n",
    "                               for e in kin_const[::2]])\n",
    "            # Store result for highest probability\n",
    "            fate = p_fate.argmax() * 2\n",
    "            exciton_fate[fate] += 1\n",
    "\n",
    "        # insurance that there won't be an endless loop\n",
    "        if exciton_fate.sum() > 1e6:\n",
    "            print('Simulation exceeds 1e6 steps, loop aborded')\n",
    "            return exciton_fate\n",
    "\n",
    "        # set position to new starting position\n",
    "        pos_exc_0 = pos_exc_1\n",
    "\n",
    "    return exciton_fate"
   ]
  },
  {
   "cell_type": "code",
   "execution_count": 10,
   "metadata": {},
   "outputs": [
    {
     "data": {
      "application/vnd.jupyter.widget-view+json": {
       "model_id": "a133a5d4fbaf47e0b1e24a21ad72f5fb",
       "version_major": 2,
       "version_minor": 0
      },
      "text/plain": [
       "Text(value='')"
      ]
     },
     "metadata": {},
     "output_type": "display_data"
    },
    {
     "data": {
      "text/plain": [
       "(array([6.000000e+00, 1.800000e+01, 1.564000e+03, 3.412000e+03,\n",
       "        2.518000e+03, 7.536765e+06, 3.430000e+03]), array([0.0012, 0.0036]))"
      ]
     },
     "execution_count": 10,
     "metadata": {},
     "output_type": "execute_result"
    }
   ],
   "source": [
    "photons_fate(5000, exciton_walk, {'t_step':1})"
   ]
  },
  {
   "cell_type": "markdown",
   "metadata": {},
   "source": [
    "## Modell addition\n",
    "Add thermal detrapping"
   ]
  },
  {
   "cell_type": "code",
   "execution_count": 11,
   "metadata": {},
   "outputs": [],
   "source": [
    "# termal detrapping 10.1021/acs.jpclett.8b03732\n",
    "k_dt_per_s = 0.5 * (1e12/ 385 + 1e12/ 1132) + 0.1e12 * np.exp(-1.6182e-11 / (kB * 300))\n",
    "\n",
    "TAU_ps = 100\n",
    "TAU_d_ps = 1000\n",
    "\n",
    "k_r_per_s = 1e11  # constant for radiativ decay from E11\n",
    "k_d_r_per_s = 1e10  # constant for radiativ decay from E11*\n",
    "k_nr_per_s = 1e11  # constant of non-radiativ decay from E11\n",
    "k_d_nr_per_s = 1e11  # constant for non-radiativ decay from E11*\n",
    "k_nothing = lambda t_step: (k_r_per_s + k_nr_per_s) * TAU_ps / t_step\n",
    "k_nothing_d = lambda t_step: (k_d_r_per_s + k_d_nr_per_s + k_dt_per_s) * TAU_d_ps / t_step"
   ]
  },
  {
   "cell_type": "code",
   "execution_count": 12,
   "metadata": {},
   "outputs": [],
   "source": [
    "def exciton_walk(t_step, n_defects=10, length=L_nm):\n",
    "    \"\"\"\n",
    "    \n",
    "    Parameters\n",
    "    ----------\n",
    "    t_step : float\n",
    "        Timestep in ps.\n",
    "    n_defects : int, optional\n",
    "        Number of defects on CNT. Default is 10\n",
    "    length : int, optional\n",
    "        Length of the CNT in nm, global constant as default.\n",
    "\n",
    "    Returns\n",
    "    -------\n",
    "    exciton_fate : 1D array\n",
    "        Array contains the binned fate of the exciton for each MC step:\n",
    "        fate = 0 : E11* radiative decay\n",
    "        fate = 1 : E11 radiative decay\n",
    "        fate = 2 : E11* non-radiative decay\n",
    "        fate = 3 : E11 non-radiative decay\n",
    "        fate = 4 : Exciton stays in trap\n",
    "        fate = 5 : Free diffusion walk\n",
    "        fate = 6 : Exciton escapes trap\n",
    "        fate = 7 : Exciton becomes trapped\n",
    "    \"\"\"\n",
    "\n",
    "    kin_const = [k_d_r_per_s, k_r_per_s, k_d_nr_per_s, k_nr_per_s,\n",
    "                 k_nothing_d(t_step), k_nothing(t_step), k_dt_per_s]\n",
    "\n",
    "    # inital exciton is free in E11\n",
    "    fate = 4\n",
    "    trapped = 0\n",
    "\n",
    "    # Initiate matrix to store exciton fate\n",
    "    exciton_fate = np.zeros(len(kin_const)+1)\n",
    "\n",
    "    # Inital position of the exciton and defects\n",
    "    pos_exc_0 = create_exciton(length)\n",
    "    defects = create_defects(length, n_defects)\n",
    "\n",
    "    while fate > 3:\n",
    "\n",
    "        # step if exciton is free\n",
    "        if trapped == 0:\n",
    "            pos_exc_1 = round(pos_exc_0 + (\n",
    "                2 * D_exc_nm_per_s * t_step * 1e-12)**0.5)\n",
    "\n",
    "        # quenching of the exciton at tube end\n",
    "        if pos_exc_1 >= length:\n",
    "            fate = 3\n",
    "            exciton_fate[fate] += 1\n",
    "            break\n",
    "\n",
    "        # check if exciton became trapped\n",
    "        if trapped == 0:\n",
    "            pathway = np.arange(pos_exc_1-pos_exc_0)\n",
    "            if np.in1d(pathway, defects).any():\n",
    "                trapped = 1\n",
    "                fate = 7\n",
    "                exciton_fate[fate] += 1\n",
    "\n",
    "        # fate of a trapped exciton\n",
    "        if trapped == 1:\n",
    "            # calculate probability for fate of trapped exciton\n",
    "            p_fate = np.array([e * random.uniform(0, 1)\n",
    "                               for e in kin_const[::2]])\n",
    "            # Store result for highest probability\n",
    "            fate = 2*p_fate.argmax()\n",
    "            exciton_fate[fate] += 1\n",
    "\n",
    "        # fate of freely diffusing exciton\n",
    "        else:\n",
    "            # calculate probability for fate of free exciton\n",
    "            p_fate = np.array([e * random.uniform(0, 1)\n",
    "                               for e in kin_const[1::2]])\n",
    "            # Store result for highest probability\n",
    "            fate = (p_fate.argmax() * 2 + 1)\n",
    "            exciton_fate[fate] += 1\n",
    "\n",
    "        # insurance that there won't be an endless loop\n",
    "        if exciton_fate.sum() > 1e6:\n",
    "            print('Simulation exceeds 1e6 steps, loop aborded')\n",
    "            return exciton_fate\n",
    "\n",
    "        # set position to new starting position\n",
    "        pos_exc_0 = pos_exc_1\n",
    "        if fate ==7:\n",
    "            pos_exc_0 += 1\n",
    "\n",
    "    return exciton_fate"
   ]
  },
  {
   "cell_type": "markdown",
   "metadata": {},
   "source": [
    "## Optimize rate constants to reflect Quantum Yield"
   ]
  },
  {
   "cell_type": "code",
   "execution_count": 13,
   "metadata": {},
   "outputs": [
    {
     "data": {
      "application/vnd.jupyter.widget-view+json": {
       "model_id": "5289548b4f514d3396f508c91e55818e",
       "version_major": 2,
       "version_minor": 0
      },
      "text/plain": [
       "Text(value='')"
      ]
     },
     "metadata": {},
     "output_type": "display_data"
    },
    {
     "data": {
      "text/plain": [
       "(array([2.500000e+01, 3.000000e+00, 3.386000e+03, 1.586000e+03,\n",
       "        7.349639e+06, 2.545000e+03, 0.000000e+00, 3.411000e+03]),\n",
       " array([0.005 , 0.0006]))"
      ]
     },
     "execution_count": 13,
     "metadata": {},
     "output_type": "execute_result"
    }
   ],
   "source": [
    "# termal detrapping 10.1021/acs.jpclett.8b03732\n",
    "k_dt_per_s = 0.5 * (1e12/ 385 + 1e12/ 1132) + 0.1e12 * np.exp(-1.6182e-11 / (kB * 300))\n",
    "\n",
    "TAU_ps = 100\n",
    "TAU_d_ps = 1000\n",
    "\n",
    "k_r_per_s = 1e11  # constant for radiativ decay from E11\n",
    "k_d_r_per_s = 1e10  # constant for radiativ decay from E11*\n",
    "k_nr_per_s = 1e11  # constant of non-radiativ decay from E11\n",
    "k_d_nr_per_s = 1e11  # constant for non-radiativ decay from E11*\n",
    "k_nothing = lambda t_step: (k_r_per_s + k_nr_per_s) * TAU_ps / t_step\n",
    "k_nothing_d = lambda t_step: (k_d_r_per_s + k_d_nr_per_s + k_dt_per_s) * TAU_d_ps / t_step\n",
    "photons_fate(5000, exciton_walk, {'t_step':1})"
   ]
  },
  {
   "cell_type": "code",
   "execution_count": 15,
   "metadata": {
    "scrolled": false
   },
   "outputs": [],
   "source": [
    "#fate = 0 : E11 radiative decay\n",
    "#fate = 1 : E11* radiative decay"
   ]
  },
  {
   "cell_type": "code",
   "execution_count": 16,
   "metadata": {},
   "outputs": [
    {
     "data": {
      "application/vnd.jupyter.widget-view+json": {
       "model_id": "cd932ed8adfe4cf4994394f2991c62d5",
       "version_major": 2,
       "version_minor": 0
      },
      "text/plain": [
       "Text(value='')"
      ]
     },
     "metadata": {},
     "output_type": "display_data"
    },
    {
     "data": {
      "text/plain": [
       "(array([1.200000e+01, 1.800000e+01, 3.446000e+03, 1.524000e+03,\n",
       "        8.820354e+06, 2.508000e+03, 6.200000e+01, 3.458000e+03]),\n",
       " array([0.0024, 0.0036]))"
      ]
     },
     "execution_count": 16,
     "metadata": {},
     "output_type": "execute_result"
    }
   ],
   "source": [
    "# termal detrapping 10.1021/acs.jpclett.8b03732\n",
    "k_dt_per_s = 0.5 * (1e12/ 385 + 1e12/ 1132) + 0.1e12 * np.exp(-1.6182e-11 / (kB * 300))\n",
    "\n",
    "TAU_ps = 100\n",
    "TAU_d_ps = 1000\n",
    "\n",
    "k_r_per_s = 1e11  # constant for radiativ decay from E11\n",
    "k_d_r_per_s = 1e9  # constant for radiativ decay from E11*\n",
    "k_nr_per_s = 1e10  # constant of non-radiativ decay from E11\n",
    "k_d_nr_per_s = 1e10  # constant for non-radiativ decay from E11*\n",
    "k_nothing = lambda t_step: (k_r_per_s + k_nr_per_s) * TAU_ps / t_step\n",
    "k_nothing_d = lambda t_step: (k_d_r_per_s + k_d_nr_per_s + k_dt_per_s) * TAU_d_ps / t_step\n",
    "photons_fate(5000, exciton_walk, {'t_step':1})"
   ]
  },
  {
   "cell_type": "code",
   "execution_count": 17,
   "metadata": {},
   "outputs": [
    {
     "data": {
      "application/vnd.jupyter.widget-view+json": {
       "model_id": "558d83009ced411ab5d6aeb6951c6fdf",
       "version_major": 2,
       "version_minor": 0
      },
      "text/plain": [
       "Text(value='')"
      ]
     },
     "metadata": {},
     "output_type": "display_data"
    },
    {
     "data": {
      "text/plain": [
       "(array([3.1000000e+01, 1.2000000e+01, 3.4190000e+03, 1.5380000e+03,\n",
       "        1.1054484e+07, 2.5320000e+03, 3.0000000e+02, 3.4500000e+03]),\n",
       " array([0.0062, 0.0024]))"
      ]
     },
     "execution_count": 17,
     "metadata": {},
     "output_type": "execute_result"
    }
   ],
   "source": [
    "# termal detrapping 10.1021/acs.jpclett.8b03732\n",
    "k_dt_per_s = 0.5 * (1e12/ 385 + 1e12/ 1132) + 0.1e12 * np.exp(-1.6182e-11 / (kB * 300))\n",
    "\n",
    "TAU_ps = 100\n",
    "TAU_d_ps = 1000\n",
    "\n",
    "k_r_per_s = 1e10  # constant for radiativ decay from E11\n",
    "k_d_r_per_s = 1e09  # constant for radiativ decay from E11*\n",
    "k_nr_per_s = 5e09  # constant of non-radiativ decay from E11\n",
    "k_d_nr_per_s = 5e09  # constant for non-radiativ decay from E11*\n",
    "k_nothing = lambda t_step: (k_r_per_s + k_nr_per_s) * TAU_ps / t_step\n",
    "k_nothing_d = lambda t_step: (k_d_r_per_s + k_d_nr_per_s + k_dt_per_s) * TAU_d_ps / t_step\n",
    "photons_fate(5000, exciton_walk, {'t_step':1})"
   ]
  },
  {
   "cell_type": "code",
   "execution_count": 24,
   "metadata": {},
   "outputs": [
    {
     "data": {
      "application/vnd.jupyter.widget-view+json": {
       "model_id": "4933f38654b341ef8ab54b683a1ef2a2",
       "version_major": 2,
       "version_minor": 0
      },
      "text/plain": [
       "Text(value='')"
      ]
     },
     "metadata": {},
     "output_type": "display_data"
    },
    {
     "data": {
      "text/plain": [
       "(array([1.7470000e+03, 7.0000000e+00, 1.6940000e+03, 1.5520000e+03,\n",
       "        1.2142328e+07, 2.6940000e+03, 5.7000000e+01, 3.4410000e+03]),\n",
       " array([0.3494, 0.0014]))"
      ]
     },
     "execution_count": 24,
     "metadata": {},
     "output_type": "execute_result"
    }
   ],
   "source": [
    "# termal detrapping 10.1021/acs.jpclett.8b03732\n",
    "k_dt_per_s = 0.5 * (1e12/ 385 + 1e12/ 1132) + 0.1e12 * np.exp(-1.6182e-11 / (kB * 300))\n",
    "\n",
    "TAU_ps = 100\n",
    "TAU_d_ps = 1000\n",
    "\n",
    "k_r_per_s = 1e10  # constant for radiativ decay from E11\n",
    "k_d_r_per_s = 5e09  # constant for radiativ decay from E11*\n",
    "k_nr_per_s = 5e09  # constant of non-radiativ decay from E11\n",
    "k_d_nr_per_s = 5e09  # constant for non-radiativ decay from E11*\n",
    "k_nothing = lambda t_step: (k_r_per_s + k_nr_per_s) * TAU_ps / t_step\n",
    "k_nothing_d = lambda t_step: (k_d_r_per_s + k_d_nr_per_s + k_dt_per_s) * TAU_d_ps / t_step\n",
    "photons_fate(5000, exciton_walk, {'t_step':1})"
   ]
  },
  {
   "cell_type": "code",
   "execution_count": 27,
   "metadata": {},
   "outputs": [
    {
     "data": {
      "application/vnd.jupyter.widget-view+json": {
       "model_id": "b5cc1553df014fcabc47332957e73e5f",
       "version_major": 2,
       "version_minor": 0
      },
      "text/plain": [
       "Text(value='')"
      ]
     },
     "metadata": {},
     "output_type": "display_data"
    },
    {
     "data": {
      "text/plain": [
       "(array([4.5400000e+02, 7.0000000e+00, 3.0110000e+03, 1.5280000e+03,\n",
       "        1.2369003e+07, 2.3180000e+03, 1.4100000e+02, 3.4650000e+03]),\n",
       " array([0.0908, 0.0014]))"
      ]
     },
     "execution_count": 27,
     "metadata": {},
     "output_type": "execute_result"
    }
   ],
   "source": [
    "# termal detrapping 10.1021/acs.jpclett.8b03732\n",
    "k_dt_per_s = 0.5 * (1e12/ 385 + 1e12/ 1132) + 0.1e12 * np.exp(-1.6182e-11 / (kB * 300))\n",
    "\n",
    "TAU_ps = 100\n",
    "TAU_d_ps = 1000\n",
    "\n",
    "k_r_per_s = 1e10  # constant for radiativ decay from E11\n",
    "k_d_r_per_s = 2.5e09  # constant for radiativ decay from E11*\n",
    "k_nr_per_s = 5e09  # constant of non-radiativ decay from E11\n",
    "k_d_nr_per_s = 5e09  # constant for non-radiativ decay from E11*\n",
    "k_nothing = lambda t_step: (k_r_per_s + k_nr_per_s) * TAU_ps / t_step\n",
    "k_nothing_d = lambda t_step: (k_d_r_per_s + k_d_nr_per_s + k_dt_per_s) * TAU_d_ps / t_step\n",
    "photons_fate(5000, exciton_walk, {'t_step':1})"
   ]
  },
  {
   "cell_type": "code",
   "execution_count": 18,
   "metadata": {},
   "outputs": [],
   "source": [
    "def exciton_walk_fittable(t_step, kin_const, n_defects=10, length=L_nm):\n",
    "    \"\"\"\n",
    "    \n",
    "    Parameters\n",
    "    ----------\n",
    "    t_step : float\n",
    "        Timestep in ps.\n",
    "    n_defects : int, optional\n",
    "        Number of defects on CNT. Default is 10\n",
    "    length : int, optional\n",
    "        Length of the CNT in nm, global constant as default.\n",
    "\n",
    "    Returns\n",
    "    -------\n",
    "    exciton_fate : 1D array\n",
    "        Array contains the binned fate of the exciton for each MC step:\n",
    "        fate = 0 : E11* radiative decay\n",
    "        fate = 1 : E11 radiative decay\n",
    "        fate = 2 : E11* non-radiative decay\n",
    "        fate = 3 : E11 non-radiative decay\n",
    "        fate = 4 : Exciton stays in trap\n",
    "        fate = 5 : Free diffusion walk\n",
    "        fate = 6 : Exciton escapes trap\n",
    "        fate = 7 : Exciton becomes trapped\n",
    "    \"\"\"\n",
    "\n",
    "    # inital exciton is free in E11\n",
    "    fate = 4\n",
    "    trapped = 0\n",
    "\n",
    "    # Initiate matrix to store exciton fate\n",
    "    exciton_fate = np.zeros(len(kin_const)+1)\n",
    "\n",
    "    # Inital position of the exciton and defects\n",
    "    pos_exc_0 = create_exciton(length)\n",
    "    defects = create_defects(length, n_defects)\n",
    "\n",
    "    while fate > 3:\n",
    "\n",
    "        # step if exciton is free\n",
    "        if trapped == 0:\n",
    "            pos_exc_1 = round(pos_exc_0 + (\n",
    "                2 * D_exc_nm_per_s * t_step * 1e-12)**0.5)\n",
    "\n",
    "        # quenching of the exciton at tube end\n",
    "        if pos_exc_1 >= length:\n",
    "            fate = 3\n",
    "            exciton_fate[fate] += 1\n",
    "            break\n",
    "\n",
    "        # check if exciton became trapped\n",
    "        if trapped == 0:\n",
    "            pathway = np.arange(pos_exc_1-pos_exc_0)\n",
    "            if np.in1d(pathway, defects).any():\n",
    "                trapped = 1\n",
    "                fate = 7\n",
    "                exciton_fate[fate] += 1\n",
    "\n",
    "        # fate of a trapped exciton\n",
    "        if trapped == 1:\n",
    "            # calculate probability for fate of trapped exciton\n",
    "            p_fate = np.array([e * random.uniform(0, 1)\n",
    "                               for e in kin_const[::2]])\n",
    "            # Store result for highest probability\n",
    "            fate = 2*p_fate.argmax()\n",
    "            exciton_fate[fate] += 1\n",
    "\n",
    "        # fate of freely diffusing exciton\n",
    "        else:\n",
    "            # calculate probability for fate of free exciton\n",
    "            p_fate = np.array([e * random.uniform(0, 1)\n",
    "                               for e in kin_const[1::2]])\n",
    "            # Store result for highest probability\n",
    "            fate = (p_fate.argmax() * 2 + 1)\n",
    "            exciton_fate[fate] += 1\n",
    "\n",
    "        # insurance that there won't be an endless loop\n",
    "        if exciton_fate.sum() > 1e6:\n",
    "            print('Simulation exceeds 1e6 steps, loop aborded')\n",
    "            return exciton_fate\n",
    "\n",
    "        # set position to new starting position\n",
    "        pos_exc_0 = pos_exc_1\n",
    "        if fate ==7:\n",
    "            pos_exc_0 += 1\n",
    "\n",
    "    return exciton_fate"
   ]
  },
  {
   "cell_type": "code",
   "execution_count": 34,
   "metadata": {},
   "outputs": [],
   "source": [
    "def fit_func(x0):\n",
    "    \"x0 = k_d_r_per_s, k_r_per_s, k_d_nr_per_s, k_nr_per_s\"\n",
    "    tau_ps = 100\n",
    "    tau_d_ps = 1000\n",
    "    k_nothing = (x0[1] + x0[3]) * tau_ps\n",
    "    k_nothing_d = (x0[0] + x0[2]) * tau_d_ps\n",
    "    k_dt_per_s = 0.5 * (1e12/ 385 + 1e12/ 1132) + 0.1e12 * np.exp(-1.6182e-11 / (kB * 300))\n",
    "    kin_const = list(x0)\n",
    "    kin_const.append(k_nothing_d)\n",
    "    kin_const.append(k_nothing)\n",
    "    kin_const.append(k_dt_per_s)\n",
    "    exciton_fate, QY = photons_fate(1000, exciton_walk_fittable, {'t_step':1, 'kin_const': kin_const})\n",
    "    return (abs(np.array([0.1, 0.005])-QY).sum())"
   ]
  },
  {
   "cell_type": "code",
   "execution_count": 35,
   "metadata": {},
   "outputs": [],
   "source": [
    "from scipy.optimize import minimize"
   ]
  },
  {
   "cell_type": "code",
   "execution_count": 36,
   "metadata": {},
   "outputs": [],
   "source": [
    "x0 = [1e10, 2.5e09, 5e09, 5e09]"
   ]
  },
  {
   "cell_type": "code",
   "execution_count": 37,
   "metadata": {},
   "outputs": [],
   "source": [
    "bounds = ((1e09, 1e11), (1e9, 1e10), (1e9, 1e10), (1e9, 1e10))"
   ]
  },
  {
   "cell_type": "code",
   "execution_count": 38,
   "metadata": {
    "scrolled": true
   },
   "outputs": [
    {
     "data": {
      "application/vnd.jupyter.widget-view+json": {
       "model_id": "2cc5c32884b446f6ad6ae30f4ee9dda5",
       "version_major": 2,
       "version_minor": 0
      },
      "text/plain": [
       "Text(value='')"
      ]
     },
     "metadata": {},
     "output_type": "display_data"
    },
    {
     "data": {
      "application/vnd.jupyter.widget-view+json": {
       "model_id": "04dde6feaddc4ef7b72a0a7168f55ffa",
       "version_major": 2,
       "version_minor": 0
      },
      "text/plain": [
       "Text(value='')"
      ]
     },
     "metadata": {},
     "output_type": "display_data"
    },
    {
     "data": {
      "application/vnd.jupyter.widget-view+json": {
       "model_id": "4f0f4c50d66f42fa902a511d966d2d4a",
       "version_major": 2,
       "version_minor": 0
      },
      "text/plain": [
       "Text(value='')"
      ]
     },
     "metadata": {},
     "output_type": "display_data"
    },
    {
     "data": {
      "application/vnd.jupyter.widget-view+json": {
       "model_id": "9f9465874c6e46e6a1567da47a9a0872",
       "version_major": 2,
       "version_minor": 0
      },
      "text/plain": [
       "Text(value='')"
      ]
     },
     "metadata": {},
     "output_type": "display_data"
    },
    {
     "data": {
      "application/vnd.jupyter.widget-view+json": {
       "model_id": "50c4c8a97d584692be4a91da53f88c1d",
       "version_major": 2,
       "version_minor": 0
      },
      "text/plain": [
       "Text(value='')"
      ]
     },
     "metadata": {},
     "output_type": "display_data"
    },
    {
     "data": {
      "application/vnd.jupyter.widget-view+json": {
       "model_id": "e79f3e8c26474cd49ab6a1a0839280ee",
       "version_major": 2,
       "version_minor": 0
      },
      "text/plain": [
       "Text(value='')"
      ]
     },
     "metadata": {},
     "output_type": "display_data"
    },
    {
     "data": {
      "application/vnd.jupyter.widget-view+json": {
       "model_id": "034a20de3aa7482b93e41fb592cf2ac7",
       "version_major": 2,
       "version_minor": 0
      },
      "text/plain": [
       "Text(value='')"
      ]
     },
     "metadata": {},
     "output_type": "display_data"
    },
    {
     "data": {
      "application/vnd.jupyter.widget-view+json": {
       "model_id": "558209d84a0a4c2da00db6065b47ff72",
       "version_major": 2,
       "version_minor": 0
      },
      "text/plain": [
       "Text(value='')"
      ]
     },
     "metadata": {},
     "output_type": "display_data"
    },
    {
     "data": {
      "application/vnd.jupyter.widget-view+json": {
       "model_id": "ac2e6c600927461a99a2274958234b0b",
       "version_major": 2,
       "version_minor": 0
      },
      "text/plain": [
       "Text(value='')"
      ]
     },
     "metadata": {},
     "output_type": "display_data"
    },
    {
     "data": {
      "application/vnd.jupyter.widget-view+json": {
       "model_id": "47504f19e8ed4290a95269e88af21bff",
       "version_major": 2,
       "version_minor": 0
      },
      "text/plain": [
       "Text(value='')"
      ]
     },
     "metadata": {},
     "output_type": "display_data"
    },
    {
     "data": {
      "application/vnd.jupyter.widget-view+json": {
       "model_id": "a4234fd898c34cbfb47ba725444699fa",
       "version_major": 2,
       "version_minor": 0
      },
      "text/plain": [
       "Text(value='')"
      ]
     },
     "metadata": {},
     "output_type": "display_data"
    },
    {
     "data": {
      "application/vnd.jupyter.widget-view+json": {
       "model_id": "adba684dd88943a7887e068ee4213384",
       "version_major": 2,
       "version_minor": 0
      },
      "text/plain": [
       "Text(value='')"
      ]
     },
     "metadata": {},
     "output_type": "display_data"
    },
    {
     "data": {
      "application/vnd.jupyter.widget-view+json": {
       "model_id": "591af4d02bec40779cff7da3c1a3a710",
       "version_major": 2,
       "version_minor": 0
      },
      "text/plain": [
       "Text(value='')"
      ]
     },
     "metadata": {},
     "output_type": "display_data"
    },
    {
     "data": {
      "application/vnd.jupyter.widget-view+json": {
       "model_id": "cffe9f389c7f44b68b8f27b46cb1031a",
       "version_major": 2,
       "version_minor": 0
      },
      "text/plain": [
       "Text(value='')"
      ]
     },
     "metadata": {},
     "output_type": "display_data"
    },
    {
     "data": {
      "application/vnd.jupyter.widget-view+json": {
       "model_id": "6350264b4cdb4935912edacf96ec16b4",
       "version_major": 2,
       "version_minor": 0
      },
      "text/plain": [
       "Text(value='')"
      ]
     },
     "metadata": {},
     "output_type": "display_data"
    },
    {
     "data": {
      "application/vnd.jupyter.widget-view+json": {
       "model_id": "eb87878fa5de47c68477e3b75e514635",
       "version_major": 2,
       "version_minor": 0
      },
      "text/plain": [
       "Text(value='')"
      ]
     },
     "metadata": {},
     "output_type": "display_data"
    },
    {
     "data": {
      "application/vnd.jupyter.widget-view+json": {
       "model_id": "d9d5ce64f8f74fe2943b5e4b665b44e7",
       "version_major": 2,
       "version_minor": 0
      },
      "text/plain": [
       "Text(value='')"
      ]
     },
     "metadata": {},
     "output_type": "display_data"
    },
    {
     "data": {
      "application/vnd.jupyter.widget-view+json": {
       "model_id": "c92b6a5181774b659be3cf32940823a0",
       "version_major": 2,
       "version_minor": 0
      },
      "text/plain": [
       "Text(value='')"
      ]
     },
     "metadata": {},
     "output_type": "display_data"
    },
    {
     "data": {
      "application/vnd.jupyter.widget-view+json": {
       "model_id": "697242998d2a402885239bf7211b8736",
       "version_major": 2,
       "version_minor": 0
      },
      "text/plain": [
       "Text(value='')"
      ]
     },
     "metadata": {},
     "output_type": "display_data"
    },
    {
     "data": {
      "application/vnd.jupyter.widget-view+json": {
       "model_id": "e6f883011e5a4ef48875b02f4837776f",
       "version_major": 2,
       "version_minor": 0
      },
      "text/plain": [
       "Text(value='')"
      ]
     },
     "metadata": {},
     "output_type": "display_data"
    },
    {
     "data": {
      "application/vnd.jupyter.widget-view+json": {
       "model_id": "a0d36a0958264affb27c7ece8876fd08",
       "version_major": 2,
       "version_minor": 0
      },
      "text/plain": [
       "Text(value='')"
      ]
     },
     "metadata": {},
     "output_type": "display_data"
    },
    {
     "data": {
      "application/vnd.jupyter.widget-view+json": {
       "model_id": "8916d4748ed445fcbc576d4b2430f6dc",
       "version_major": 2,
       "version_minor": 0
      },
      "text/plain": [
       "Text(value='')"
      ]
     },
     "metadata": {},
     "output_type": "display_data"
    },
    {
     "data": {
      "application/vnd.jupyter.widget-view+json": {
       "model_id": "d1d843312ccb445d85efd813fc6a706d",
       "version_major": 2,
       "version_minor": 0
      },
      "text/plain": [
       "Text(value='')"
      ]
     },
     "metadata": {},
     "output_type": "display_data"
    },
    {
     "data": {
      "application/vnd.jupyter.widget-view+json": {
       "model_id": "c0ec6dbfbd6144658c08fadb120c686a",
       "version_major": 2,
       "version_minor": 0
      },
      "text/plain": [
       "Text(value='')"
      ]
     },
     "metadata": {},
     "output_type": "display_data"
    },
    {
     "data": {
      "application/vnd.jupyter.widget-view+json": {
       "model_id": "207749f51bf44bb4a79466c2bec8bab1",
       "version_major": 2,
       "version_minor": 0
      },
      "text/plain": [
       "Text(value='')"
      ]
     },
     "metadata": {},
     "output_type": "display_data"
    },
    {
     "data": {
      "application/vnd.jupyter.widget-view+json": {
       "model_id": "aa1f77114a354d3680063f69842513fa",
       "version_major": 2,
       "version_minor": 0
      },
      "text/plain": [
       "Text(value='')"
      ]
     },
     "metadata": {},
     "output_type": "display_data"
    },
    {
     "data": {
      "application/vnd.jupyter.widget-view+json": {
       "model_id": "13e0862933e94b869dcc50a40efbf8a7",
       "version_major": 2,
       "version_minor": 0
      },
      "text/plain": [
       "Text(value='')"
      ]
     },
     "metadata": {},
     "output_type": "display_data"
    },
    {
     "data": {
      "application/vnd.jupyter.widget-view+json": {
       "model_id": "daf4a93a36d243048e3743524420bc97",
       "version_major": 2,
       "version_minor": 0
      },
      "text/plain": [
       "Text(value='')"
      ]
     },
     "metadata": {},
     "output_type": "display_data"
    },
    {
     "data": {
      "application/vnd.jupyter.widget-view+json": {
       "model_id": "bef49df2a7a04c758b7f48bd382d3508",
       "version_major": 2,
       "version_minor": 0
      },
      "text/plain": [
       "Text(value='')"
      ]
     },
     "metadata": {},
     "output_type": "display_data"
    },
    {
     "data": {
      "application/vnd.jupyter.widget-view+json": {
       "model_id": "b521dcfc13dc471ab641cb3cdd1d70a7",
       "version_major": 2,
       "version_minor": 0
      },
      "text/plain": [
       "Text(value='')"
      ]
     },
     "metadata": {},
     "output_type": "display_data"
    },
    {
     "data": {
      "application/vnd.jupyter.widget-view+json": {
       "model_id": "295012bc4c2d4f71892db7cee29bf99c",
       "version_major": 2,
       "version_minor": 0
      },
      "text/plain": [
       "Text(value='')"
      ]
     },
     "metadata": {},
     "output_type": "display_data"
    },
    {
     "data": {
      "application/vnd.jupyter.widget-view+json": {
       "model_id": "8a191468354840d5ac60034dff4815b1",
       "version_major": 2,
       "version_minor": 0
      },
      "text/plain": [
       "Text(value='')"
      ]
     },
     "metadata": {},
     "output_type": "display_data"
    },
    {
     "data": {
      "application/vnd.jupyter.widget-view+json": {
       "model_id": "4d997f2ff5874708813f4ba8fc5b3d81",
       "version_major": 2,
       "version_minor": 0
      },
      "text/plain": [
       "Text(value='')"
      ]
     },
     "metadata": {},
     "output_type": "display_data"
    },
    {
     "data": {
      "application/vnd.jupyter.widget-view+json": {
       "model_id": "7461ab72eed3450780788717a4f1fbc8",
       "version_major": 2,
       "version_minor": 0
      },
      "text/plain": [
       "Text(value='')"
      ]
     },
     "metadata": {},
     "output_type": "display_data"
    },
    {
     "data": {
      "application/vnd.jupyter.widget-view+json": {
       "model_id": "ded8f908d4ef4985878b139f49d87a8c",
       "version_major": 2,
       "version_minor": 0
      },
      "text/plain": [
       "Text(value='')"
      ]
     },
     "metadata": {},
     "output_type": "display_data"
    },
    {
     "data": {
      "application/vnd.jupyter.widget-view+json": {
       "model_id": "9831bcb1f2444dc7adf7483a46c07318",
       "version_major": 2,
       "version_minor": 0
      },
      "text/plain": [
       "Text(value='')"
      ]
     },
     "metadata": {},
     "output_type": "display_data"
    },
    {
     "data": {
      "application/vnd.jupyter.widget-view+json": {
       "model_id": "3f34f1e8008141eba64dae96b1905958",
       "version_major": 2,
       "version_minor": 0
      },
      "text/plain": [
       "Text(value='')"
      ]
     },
     "metadata": {},
     "output_type": "display_data"
    },
    {
     "data": {
      "application/vnd.jupyter.widget-view+json": {
       "model_id": "30910c7749a84b788d87db9b01270a8d",
       "version_major": 2,
       "version_minor": 0
      },
      "text/plain": [
       "Text(value='')"
      ]
     },
     "metadata": {},
     "output_type": "display_data"
    },
    {
     "data": {
      "application/vnd.jupyter.widget-view+json": {
       "model_id": "b765b93f818344b9ae8cbbdcb9ecb098",
       "version_major": 2,
       "version_minor": 0
      },
      "text/plain": [
       "Text(value='')"
      ]
     },
     "metadata": {},
     "output_type": "display_data"
    },
    {
     "data": {
      "application/vnd.jupyter.widget-view+json": {
       "model_id": "19d4626cd1dc41f998c87b09d57eedfa",
       "version_major": 2,
       "version_minor": 0
      },
      "text/plain": [
       "Text(value='')"
      ]
     },
     "metadata": {},
     "output_type": "display_data"
    },
    {
     "data": {
      "application/vnd.jupyter.widget-view+json": {
       "model_id": "790680ed896c4430b64e7e6454660b63",
       "version_major": 2,
       "version_minor": 0
      },
      "text/plain": [
       "Text(value='')"
      ]
     },
     "metadata": {},
     "output_type": "display_data"
    },
    {
     "data": {
      "application/vnd.jupyter.widget-view+json": {
       "model_id": "f487c1c2f94b4ff498197e51ae261fbc",
       "version_major": 2,
       "version_minor": 0
      },
      "text/plain": [
       "Text(value='')"
      ]
     },
     "metadata": {},
     "output_type": "display_data"
    },
    {
     "data": {
      "application/vnd.jupyter.widget-view+json": {
       "model_id": "ee91bf7f46dc4ea58317217e9933fd21",
       "version_major": 2,
       "version_minor": 0
      },
      "text/plain": [
       "Text(value='')"
      ]
     },
     "metadata": {},
     "output_type": "display_data"
    },
    {
     "data": {
      "application/vnd.jupyter.widget-view+json": {
       "model_id": "7ebec8cf991043458826387e9e6e854d",
       "version_major": 2,
       "version_minor": 0
      },
      "text/plain": [
       "Text(value='')"
      ]
     },
     "metadata": {},
     "output_type": "display_data"
    },
    {
     "data": {
      "application/vnd.jupyter.widget-view+json": {
       "model_id": "9d4cd020ffec433a9327861872db69e2",
       "version_major": 2,
       "version_minor": 0
      },
      "text/plain": [
       "Text(value='')"
      ]
     },
     "metadata": {},
     "output_type": "display_data"
    },
    {
     "data": {
      "application/vnd.jupyter.widget-view+json": {
       "model_id": "0c001081b4f34348859280a2471bb06b",
       "version_major": 2,
       "version_minor": 0
      },
      "text/plain": [
       "Text(value='')"
      ]
     },
     "metadata": {},
     "output_type": "display_data"
    },
    {
     "data": {
      "application/vnd.jupyter.widget-view+json": {
       "model_id": "f98ae9a9ab29478bb0eb3d1827053590",
       "version_major": 2,
       "version_minor": 0
      },
      "text/plain": [
       "Text(value='')"
      ]
     },
     "metadata": {},
     "output_type": "display_data"
    },
    {
     "data": {
      "application/vnd.jupyter.widget-view+json": {
       "model_id": "cc2d91eaaf414a3fbb2d538d76d79f8b",
       "version_major": 2,
       "version_minor": 0
      },
      "text/plain": [
       "Text(value='')"
      ]
     },
     "metadata": {},
     "output_type": "display_data"
    },
    {
     "data": {
      "application/vnd.jupyter.widget-view+json": {
       "model_id": "4c808d13f0674c3b9c22750087e311cf",
       "version_major": 2,
       "version_minor": 0
      },
      "text/plain": [
       "Text(value='')"
      ]
     },
     "metadata": {},
     "output_type": "display_data"
    },
    {
     "data": {
      "application/vnd.jupyter.widget-view+json": {
       "model_id": "db5fa71473e248bf98e0f01bef99da47",
       "version_major": 2,
       "version_minor": 0
      },
      "text/plain": [
       "Text(value='')"
      ]
     },
     "metadata": {},
     "output_type": "display_data"
    },
    {
     "data": {
      "application/vnd.jupyter.widget-view+json": {
       "model_id": "b2ddadba76ae451abcd6e0e1f48ba1f7",
       "version_major": 2,
       "version_minor": 0
      },
      "text/plain": [
       "Text(value='')"
      ]
     },
     "metadata": {},
     "output_type": "display_data"
    },
    {
     "data": {
      "application/vnd.jupyter.widget-view+json": {
       "model_id": "27742838522945cda620cc7d59c3cd76",
       "version_major": 2,
       "version_minor": 0
      },
      "text/plain": [
       "Text(value='')"
      ]
     },
     "metadata": {},
     "output_type": "display_data"
    },
    {
     "data": {
      "application/vnd.jupyter.widget-view+json": {
       "model_id": "27ae915a43f4482fbd97d2465d94396b",
       "version_major": 2,
       "version_minor": 0
      },
      "text/plain": [
       "Text(value='')"
      ]
     },
     "metadata": {},
     "output_type": "display_data"
    },
    {
     "data": {
      "application/vnd.jupyter.widget-view+json": {
       "model_id": "0928dd00c8d645a59a5093ef92c9b472",
       "version_major": 2,
       "version_minor": 0
      },
      "text/plain": [
       "Text(value='')"
      ]
     },
     "metadata": {},
     "output_type": "display_data"
    },
    {
     "data": {
      "application/vnd.jupyter.widget-view+json": {
       "model_id": "e1885e9b302c4c41bac2b2754141dfad",
       "version_major": 2,
       "version_minor": 0
      },
      "text/plain": [
       "Text(value='')"
      ]
     },
     "metadata": {},
     "output_type": "display_data"
    },
    {
     "data": {
      "application/vnd.jupyter.widget-view+json": {
       "model_id": "fda86f2a293746ec8d7e9a4268beedf3",
       "version_major": 2,
       "version_minor": 0
      },
      "text/plain": [
       "Text(value='')"
      ]
     },
     "metadata": {},
     "output_type": "display_data"
    },
    {
     "data": {
      "application/vnd.jupyter.widget-view+json": {
       "model_id": "e77674bb7c8e4a7ea72ec497f9b11f9e",
       "version_major": 2,
       "version_minor": 0
      },
      "text/plain": [
       "Text(value='')"
      ]
     },
     "metadata": {},
     "output_type": "display_data"
    },
    {
     "data": {
      "application/vnd.jupyter.widget-view+json": {
       "model_id": "03ed5141660e45f3bc6dc32f3cbad02a",
       "version_major": 2,
       "version_minor": 0
      },
      "text/plain": [
       "Text(value='')"
      ]
     },
     "metadata": {},
     "output_type": "display_data"
    },
    {
     "data": {
      "application/vnd.jupyter.widget-view+json": {
       "model_id": "bd6a554b8aee4b76a027596e42a8d6ec",
       "version_major": 2,
       "version_minor": 0
      },
      "text/plain": [
       "Text(value='')"
      ]
     },
     "metadata": {},
     "output_type": "display_data"
    },
    {
     "data": {
      "application/vnd.jupyter.widget-view+json": {
       "model_id": "44b01584b4de4f0ba1258cd758a62233",
       "version_major": 2,
       "version_minor": 0
      },
      "text/plain": [
       "Text(value='')"
      ]
     },
     "metadata": {},
     "output_type": "display_data"
    },
    {
     "data": {
      "application/vnd.jupyter.widget-view+json": {
       "model_id": "3edd2ffeeed44678b36290d2cec626a4",
       "version_major": 2,
       "version_minor": 0
      },
      "text/plain": [
       "Text(value='')"
      ]
     },
     "metadata": {},
     "output_type": "display_data"
    },
    {
     "data": {
      "application/vnd.jupyter.widget-view+json": {
       "model_id": "3a440530edf841d3939d078c036ae785",
       "version_major": 2,
       "version_minor": 0
      },
      "text/plain": [
       "Text(value='')"
      ]
     },
     "metadata": {},
     "output_type": "display_data"
    },
    {
     "data": {
      "application/vnd.jupyter.widget-view+json": {
       "model_id": "1412a5c12db947458e06fb182be3b80c",
       "version_major": 2,
       "version_minor": 0
      },
      "text/plain": [
       "Text(value='')"
      ]
     },
     "metadata": {},
     "output_type": "display_data"
    },
    {
     "data": {
      "application/vnd.jupyter.widget-view+json": {
       "model_id": "9ece670492584220a059f02f13956314",
       "version_major": 2,
       "version_minor": 0
      },
      "text/plain": [
       "Text(value='')"
      ]
     },
     "metadata": {},
     "output_type": "display_data"
    },
    {
     "data": {
      "application/vnd.jupyter.widget-view+json": {
       "model_id": "3b80bc0de75941648a7fb0eeac935992",
       "version_major": 2,
       "version_minor": 0
      },
      "text/plain": [
       "Text(value='')"
      ]
     },
     "metadata": {},
     "output_type": "display_data"
    },
    {
     "data": {
      "application/vnd.jupyter.widget-view+json": {
       "model_id": "bb29f3d22bb6403b92ce14b955d91dac",
       "version_major": 2,
       "version_minor": 0
      },
      "text/plain": [
       "Text(value='')"
      ]
     },
     "metadata": {},
     "output_type": "display_data"
    },
    {
     "data": {
      "application/vnd.jupyter.widget-view+json": {
       "model_id": "47f045ee73d04c3d87ef095d7b4688d6",
       "version_major": 2,
       "version_minor": 0
      },
      "text/plain": [
       "Text(value='')"
      ]
     },
     "metadata": {},
     "output_type": "display_data"
    },
    {
     "data": {
      "application/vnd.jupyter.widget-view+json": {
       "model_id": "7eb259f9352b42b48eeebd8ce0361aaf",
       "version_major": 2,
       "version_minor": 0
      },
      "text/plain": [
       "Text(value='')"
      ]
     },
     "metadata": {},
     "output_type": "display_data"
    },
    {
     "data": {
      "application/vnd.jupyter.widget-view+json": {
       "model_id": "6acc93b5dec34f758c97e1ba2dd6f783",
       "version_major": 2,
       "version_minor": 0
      },
      "text/plain": [
       "Text(value='')"
      ]
     },
     "metadata": {},
     "output_type": "display_data"
    },
    {
     "data": {
      "application/vnd.jupyter.widget-view+json": {
       "model_id": "263cca31e2584986b179e2a071230ed6",
       "version_major": 2,
       "version_minor": 0
      },
      "text/plain": [
       "Text(value='')"
      ]
     },
     "metadata": {},
     "output_type": "display_data"
    },
    {
     "data": {
      "application/vnd.jupyter.widget-view+json": {
       "model_id": "2a6a8ce90d964effb31e9d58b7534d43",
       "version_major": 2,
       "version_minor": 0
      },
      "text/plain": [
       "Text(value='')"
      ]
     },
     "metadata": {},
     "output_type": "display_data"
    },
    {
     "data": {
      "application/vnd.jupyter.widget-view+json": {
       "model_id": "1d1c7c4af7f348ed9a9bd6e4a7e1ba23",
       "version_major": 2,
       "version_minor": 0
      },
      "text/plain": [
       "Text(value='')"
      ]
     },
     "metadata": {},
     "output_type": "display_data"
    },
    {
     "data": {
      "application/vnd.jupyter.widget-view+json": {
       "model_id": "e176e1ba9514479aae38ba03be98cdd5",
       "version_major": 2,
       "version_minor": 0
      },
      "text/plain": [
       "Text(value='')"
      ]
     },
     "metadata": {},
     "output_type": "display_data"
    },
    {
     "data": {
      "application/vnd.jupyter.widget-view+json": {
       "model_id": "a3b139f165bb44bbbb7d999e2b2fdba1",
       "version_major": 2,
       "version_minor": 0
      },
      "text/plain": [
       "Text(value='')"
      ]
     },
     "metadata": {},
     "output_type": "display_data"
    },
    {
     "data": {
      "application/vnd.jupyter.widget-view+json": {
       "model_id": "0a6f22eafd0848d394fd6294b4bcd036",
       "version_major": 2,
       "version_minor": 0
      },
      "text/plain": [
       "Text(value='')"
      ]
     },
     "metadata": {},
     "output_type": "display_data"
    },
    {
     "data": {
      "application/vnd.jupyter.widget-view+json": {
       "model_id": "2a1ba9b949344989aee285b440a2caf9",
       "version_major": 2,
       "version_minor": 0
      },
      "text/plain": [
       "Text(value='')"
      ]
     },
     "metadata": {},
     "output_type": "display_data"
    },
    {
     "data": {
      "application/vnd.jupyter.widget-view+json": {
       "model_id": "24b13f42601c4ce59ead5326ae812806",
       "version_major": 2,
       "version_minor": 0
      },
      "text/plain": [
       "Text(value='')"
      ]
     },
     "metadata": {},
     "output_type": "display_data"
    },
    {
     "data": {
      "application/vnd.jupyter.widget-view+json": {
       "model_id": "b108ce07203b4a0bba71ee96b11d346b",
       "version_major": 2,
       "version_minor": 0
      },
      "text/plain": [
       "Text(value='')"
      ]
     },
     "metadata": {},
     "output_type": "display_data"
    },
    {
     "data": {
      "application/vnd.jupyter.widget-view+json": {
       "model_id": "cec97f8f0bf840989eb4e3323cb3a967",
       "version_major": 2,
       "version_minor": 0
      },
      "text/plain": [
       "Text(value='')"
      ]
     },
     "metadata": {},
     "output_type": "display_data"
    },
    {
     "data": {
      "application/vnd.jupyter.widget-view+json": {
       "model_id": "f44fc81c85a643cc9ea7a5a3cc28178f",
       "version_major": 2,
       "version_minor": 0
      },
      "text/plain": [
       "Text(value='')"
      ]
     },
     "metadata": {},
     "output_type": "display_data"
    },
    {
     "data": {
      "application/vnd.jupyter.widget-view+json": {
       "model_id": "7a6fb32e5ec0473b9c9959c758d3e1ec",
       "version_major": 2,
       "version_minor": 0
      },
      "text/plain": [
       "Text(value='')"
      ]
     },
     "metadata": {},
     "output_type": "display_data"
    },
    {
     "data": {
      "application/vnd.jupyter.widget-view+json": {
       "model_id": "79aa157a9811470cb83703ac49498a41",
       "version_major": 2,
       "version_minor": 0
      },
      "text/plain": [
       "Text(value='')"
      ]
     },
     "metadata": {},
     "output_type": "display_data"
    },
    {
     "data": {
      "application/vnd.jupyter.widget-view+json": {
       "model_id": "6a18c641c1d442228b09c8b3dd984308",
       "version_major": 2,
       "version_minor": 0
      },
      "text/plain": [
       "Text(value='')"
      ]
     },
     "metadata": {},
     "output_type": "display_data"
    },
    {
     "data": {
      "application/vnd.jupyter.widget-view+json": {
       "model_id": "0a2d89cd8ac84c10a4777a726c6e63aa",
       "version_major": 2,
       "version_minor": 0
      },
      "text/plain": [
       "Text(value='')"
      ]
     },
     "metadata": {},
     "output_type": "display_data"
    },
    {
     "data": {
      "application/vnd.jupyter.widget-view+json": {
       "model_id": "a3f4ece8aea74159813b8806143e5bac",
       "version_major": 2,
       "version_minor": 0
      },
      "text/plain": [
       "Text(value='')"
      ]
     },
     "metadata": {},
     "output_type": "display_data"
    },
    {
     "data": {
      "application/vnd.jupyter.widget-view+json": {
       "model_id": "7f2c33e6fb4e40a68d0d7576228084dc",
       "version_major": 2,
       "version_minor": 0
      },
      "text/plain": [
       "Text(value='')"
      ]
     },
     "metadata": {},
     "output_type": "display_data"
    },
    {
     "data": {
      "application/vnd.jupyter.widget-view+json": {
       "model_id": "3214a5c4a6024053886a1de459b3027b",
       "version_major": 2,
       "version_minor": 0
      },
      "text/plain": [
       "Text(value='')"
      ]
     },
     "metadata": {},
     "output_type": "display_data"
    },
    {
     "data": {
      "application/vnd.jupyter.widget-view+json": {
       "model_id": "18531fb623b84ace9701040240efc71e",
       "version_major": 2,
       "version_minor": 0
      },
      "text/plain": [
       "Text(value='')"
      ]
     },
     "metadata": {},
     "output_type": "display_data"
    },
    {
     "data": {
      "application/vnd.jupyter.widget-view+json": {
       "model_id": "2524ed551d3140d58b5593c840720837",
       "version_major": 2,
       "version_minor": 0
      },
      "text/plain": [
       "Text(value='')"
      ]
     },
     "metadata": {},
     "output_type": "display_data"
    },
    {
     "data": {
      "application/vnd.jupyter.widget-view+json": {
       "model_id": "e38bb956abb44fda995bb208abe53d98",
       "version_major": 2,
       "version_minor": 0
      },
      "text/plain": [
       "Text(value='')"
      ]
     },
     "metadata": {},
     "output_type": "display_data"
    },
    {
     "data": {
      "application/vnd.jupyter.widget-view+json": {
       "model_id": "0b23bd9164334e77888a5f61937e912f",
       "version_major": 2,
       "version_minor": 0
      },
      "text/plain": [
       "Text(value='')"
      ]
     },
     "metadata": {},
     "output_type": "display_data"
    },
    {
     "data": {
      "application/vnd.jupyter.widget-view+json": {
       "model_id": "85f8797d2154443e9fac8b16f871971f",
       "version_major": 2,
       "version_minor": 0
      },
      "text/plain": [
       "Text(value='')"
      ]
     },
     "metadata": {},
     "output_type": "display_data"
    },
    {
     "data": {
      "application/vnd.jupyter.widget-view+json": {
       "model_id": "c8d5dab4ddc749a8b8424a24a6596881",
       "version_major": 2,
       "version_minor": 0
      },
      "text/plain": [
       "Text(value='')"
      ]
     },
     "metadata": {},
     "output_type": "display_data"
    },
    {
     "data": {
      "application/vnd.jupyter.widget-view+json": {
       "model_id": "795568e4c7ef4292b491df255ef5ad81",
       "version_major": 2,
       "version_minor": 0
      },
      "text/plain": [
       "Text(value='')"
      ]
     },
     "metadata": {},
     "output_type": "display_data"
    },
    {
     "data": {
      "application/vnd.jupyter.widget-view+json": {
       "model_id": "eae475601c124c13af5aca0a5f9bb7eb",
       "version_major": 2,
       "version_minor": 0
      },
      "text/plain": [
       "Text(value='')"
      ]
     },
     "metadata": {},
     "output_type": "display_data"
    },
    {
     "data": {
      "application/vnd.jupyter.widget-view+json": {
       "model_id": "c78b7c33c2c14fc4860f8cef88043a51",
       "version_major": 2,
       "version_minor": 0
      },
      "text/plain": [
       "Text(value='')"
      ]
     },
     "metadata": {},
     "output_type": "display_data"
    },
    {
     "data": {
      "application/vnd.jupyter.widget-view+json": {
       "model_id": "d0a2bb48f843417c99360310c67f9e23",
       "version_major": 2,
       "version_minor": 0
      },
      "text/plain": [
       "Text(value='')"
      ]
     },
     "metadata": {},
     "output_type": "display_data"
    },
    {
     "data": {
      "application/vnd.jupyter.widget-view+json": {
       "model_id": "d8fb1d2a02454299ade1a6aeb6738a66",
       "version_major": 2,
       "version_minor": 0
      },
      "text/plain": [
       "Text(value='')"
      ]
     },
     "metadata": {},
     "output_type": "display_data"
    },
    {
     "data": {
      "application/vnd.jupyter.widget-view+json": {
       "model_id": "113a38bbcfe842db949994644d4e9592",
       "version_major": 2,
       "version_minor": 0
      },
      "text/plain": [
       "Text(value='')"
      ]
     },
     "metadata": {},
     "output_type": "display_data"
    },
    {
     "data": {
      "application/vnd.jupyter.widget-view+json": {
       "model_id": "ccfb0ceb225b414dafe0e0630471bacf",
       "version_major": 2,
       "version_minor": 0
      },
      "text/plain": [
       "Text(value='')"
      ]
     },
     "metadata": {},
     "output_type": "display_data"
    },
    {
     "data": {
      "application/vnd.jupyter.widget-view+json": {
       "model_id": "f5b3862db11d4950ba2c876137061b76",
       "version_major": 2,
       "version_minor": 0
      },
      "text/plain": [
       "Text(value='')"
      ]
     },
     "metadata": {},
     "output_type": "display_data"
    },
    {
     "data": {
      "application/vnd.jupyter.widget-view+json": {
       "model_id": "a58883c5a25045f78b7f80b4ef8739f2",
       "version_major": 2,
       "version_minor": 0
      },
      "text/plain": [
       "Text(value='')"
      ]
     },
     "metadata": {},
     "output_type": "display_data"
    },
    {
     "data": {
      "application/vnd.jupyter.widget-view+json": {
       "model_id": "6b665bbb035d479e9e58e42ef4856930",
       "version_major": 2,
       "version_minor": 0
      },
      "text/plain": [
       "Text(value='')"
      ]
     },
     "metadata": {},
     "output_type": "display_data"
    },
    {
     "data": {
      "application/vnd.jupyter.widget-view+json": {
       "model_id": "48090fe907084db5a7ef3a45e990c56a",
       "version_major": 2,
       "version_minor": 0
      },
      "text/plain": [
       "Text(value='')"
      ]
     },
     "metadata": {},
     "output_type": "display_data"
    },
    {
     "data": {
      "application/vnd.jupyter.widget-view+json": {
       "model_id": "eaa94390d2974d9297b9f10513728d99",
       "version_major": 2,
       "version_minor": 0
      },
      "text/plain": [
       "Text(value='')"
      ]
     },
     "metadata": {},
     "output_type": "display_data"
    }
   ],
   "source": [
    "res = minimize(fit_func, x0, bounds=bounds)"
   ]
  },
  {
   "cell_type": "code",
   "execution_count": 39,
   "metadata": {},
   "outputs": [
    {
     "data": {
      "text/plain": [
       "      fun: 0.493\n",
       " hess_inv: <4x4 LbfgsInvHessProduct with dtype=float64>\n",
       "      jac: array([     0., 800000., 100000., 400000.])\n",
       "  message: b'ABNORMAL_TERMINATION_IN_LNSRCH'\n",
       "     nfev: 105\n",
       "      nit: 0\n",
       "   status: 2\n",
       "  success: False\n",
       "        x: array([1.0e+10, 2.5e+09, 5.0e+09, 5.0e+09])"
      ]
     },
     "execution_count": 39,
     "metadata": {},
     "output_type": "execute_result"
    }
   ],
   "source": [
    "res"
   ]
  },
  {
   "cell_type": "code",
   "execution_count": null,
   "metadata": {},
   "outputs": [],
   "source": []
  }
 ],
 "metadata": {
  "kernelspec": {
   "display_name": "CNT-MC",
   "language": "python",
   "name": "cnt-mc"
  },
  "language_info": {
   "codemirror_mode": {
    "name": "ipython",
    "version": 3
   },
   "file_extension": ".py",
   "mimetype": "text/x-python",
   "name": "python",
   "nbconvert_exporter": "python",
   "pygments_lexer": "ipython3",
   "version": "3.7.6"
  }
 },
 "nbformat": 4,
 "nbformat_minor": 4
}
