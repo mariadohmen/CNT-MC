{
 "cells": [
  {
   "cell_type": "code",
   "execution_count": 1,
   "metadata": {},
   "outputs": [
    {
     "data": {
      "text/html": [
       "\n",
       "    <div class=\"bk-root\">\n",
       "        <a href=\"https://bokeh.pydata.org\" target=\"_blank\" class=\"bk-logo bk-logo-small bk-logo-notebook\"></a>\n",
       "        <span id=\"1001\">Loading BokehJS ...</span>\n",
       "    </div>"
      ]
     },
     "metadata": {},
     "output_type": "display_data"
    },
    {
     "data": {
      "application/javascript": [
       "\n",
       "(function(root) {\n",
       "  function now() {\n",
       "    return new Date();\n",
       "  }\n",
       "\n",
       "  var force = true;\n",
       "\n",
       "  if (typeof root._bokeh_onload_callbacks === \"undefined\" || force === true) {\n",
       "    root._bokeh_onload_callbacks = [];\n",
       "    root._bokeh_is_loading = undefined;\n",
       "  }\n",
       "\n",
       "  var JS_MIME_TYPE = 'application/javascript';\n",
       "  var HTML_MIME_TYPE = 'text/html';\n",
       "  var EXEC_MIME_TYPE = 'application/vnd.bokehjs_exec.v0+json';\n",
       "  var CLASS_NAME = 'output_bokeh rendered_html';\n",
       "\n",
       "  /**\n",
       "   * Render data to the DOM node\n",
       "   */\n",
       "  function render(props, node) {\n",
       "    var script = document.createElement(\"script\");\n",
       "    node.appendChild(script);\n",
       "  }\n",
       "\n",
       "  /**\n",
       "   * Handle when an output is cleared or removed\n",
       "   */\n",
       "  function handleClearOutput(event, handle) {\n",
       "    var cell = handle.cell;\n",
       "\n",
       "    var id = cell.output_area._bokeh_element_id;\n",
       "    var server_id = cell.output_area._bokeh_server_id;\n",
       "    // Clean up Bokeh references\n",
       "    if (id != null && id in Bokeh.index) {\n",
       "      Bokeh.index[id].model.document.clear();\n",
       "      delete Bokeh.index[id];\n",
       "    }\n",
       "\n",
       "    if (server_id !== undefined) {\n",
       "      // Clean up Bokeh references\n",
       "      var cmd = \"from bokeh.io.state import curstate; print(curstate().uuid_to_server['\" + server_id + \"'].get_sessions()[0].document.roots[0]._id)\";\n",
       "      cell.notebook.kernel.execute(cmd, {\n",
       "        iopub: {\n",
       "          output: function(msg) {\n",
       "            var id = msg.content.text.trim();\n",
       "            if (id in Bokeh.index) {\n",
       "              Bokeh.index[id].model.document.clear();\n",
       "              delete Bokeh.index[id];\n",
       "            }\n",
       "          }\n",
       "        }\n",
       "      });\n",
       "      // Destroy server and session\n",
       "      var cmd = \"import bokeh.io.notebook as ion; ion.destroy_server('\" + server_id + \"')\";\n",
       "      cell.notebook.kernel.execute(cmd);\n",
       "    }\n",
       "  }\n",
       "\n",
       "  /**\n",
       "   * Handle when a new output is added\n",
       "   */\n",
       "  function handleAddOutput(event, handle) {\n",
       "    var output_area = handle.output_area;\n",
       "    var output = handle.output;\n",
       "\n",
       "    // limit handleAddOutput to display_data with EXEC_MIME_TYPE content only\n",
       "    if ((output.output_type != \"display_data\") || (!output.data.hasOwnProperty(EXEC_MIME_TYPE))) {\n",
       "      return\n",
       "    }\n",
       "\n",
       "    var toinsert = output_area.element.find(\".\" + CLASS_NAME.split(' ')[0]);\n",
       "\n",
       "    if (output.metadata[EXEC_MIME_TYPE][\"id\"] !== undefined) {\n",
       "      toinsert[toinsert.length - 1].firstChild.textContent = output.data[JS_MIME_TYPE];\n",
       "      // store reference to embed id on output_area\n",
       "      output_area._bokeh_element_id = output.metadata[EXEC_MIME_TYPE][\"id\"];\n",
       "    }\n",
       "    if (output.metadata[EXEC_MIME_TYPE][\"server_id\"] !== undefined) {\n",
       "      var bk_div = document.createElement(\"div\");\n",
       "      bk_div.innerHTML = output.data[HTML_MIME_TYPE];\n",
       "      var script_attrs = bk_div.children[0].attributes;\n",
       "      for (var i = 0; i < script_attrs.length; i++) {\n",
       "        toinsert[toinsert.length - 1].firstChild.setAttribute(script_attrs[i].name, script_attrs[i].value);\n",
       "      }\n",
       "      // store reference to server id on output_area\n",
       "      output_area._bokeh_server_id = output.metadata[EXEC_MIME_TYPE][\"server_id\"];\n",
       "    }\n",
       "  }\n",
       "\n",
       "  function register_renderer(events, OutputArea) {\n",
       "\n",
       "    function append_mime(data, metadata, element) {\n",
       "      // create a DOM node to render to\n",
       "      var toinsert = this.create_output_subarea(\n",
       "        metadata,\n",
       "        CLASS_NAME,\n",
       "        EXEC_MIME_TYPE\n",
       "      );\n",
       "      this.keyboard_manager.register_events(toinsert);\n",
       "      // Render to node\n",
       "      var props = {data: data, metadata: metadata[EXEC_MIME_TYPE]};\n",
       "      render(props, toinsert[toinsert.length - 1]);\n",
       "      element.append(toinsert);\n",
       "      return toinsert\n",
       "    }\n",
       "\n",
       "    /* Handle when an output is cleared or removed */\n",
       "    events.on('clear_output.CodeCell', handleClearOutput);\n",
       "    events.on('delete.Cell', handleClearOutput);\n",
       "\n",
       "    /* Handle when a new output is added */\n",
       "    events.on('output_added.OutputArea', handleAddOutput);\n",
       "\n",
       "    /**\n",
       "     * Register the mime type and append_mime function with output_area\n",
       "     */\n",
       "    OutputArea.prototype.register_mime_type(EXEC_MIME_TYPE, append_mime, {\n",
       "      /* Is output safe? */\n",
       "      safe: true,\n",
       "      /* Index of renderer in `output_area.display_order` */\n",
       "      index: 0\n",
       "    });\n",
       "  }\n",
       "\n",
       "  // register the mime type if in Jupyter Notebook environment and previously unregistered\n",
       "  if (root.Jupyter !== undefined) {\n",
       "    var events = require('base/js/events');\n",
       "    var OutputArea = require('notebook/js/outputarea').OutputArea;\n",
       "\n",
       "    if (OutputArea.prototype.mime_types().indexOf(EXEC_MIME_TYPE) == -1) {\n",
       "      register_renderer(events, OutputArea);\n",
       "    }\n",
       "  }\n",
       "\n",
       "  \n",
       "  if (typeof (root._bokeh_timeout) === \"undefined\" || force === true) {\n",
       "    root._bokeh_timeout = Date.now() + 5000;\n",
       "    root._bokeh_failed_load = false;\n",
       "  }\n",
       "\n",
       "  var NB_LOAD_WARNING = {'data': {'text/html':\n",
       "     \"<div style='background-color: #fdd'>\\n\"+\n",
       "     \"<p>\\n\"+\n",
       "     \"BokehJS does not appear to have successfully loaded. If loading BokehJS from CDN, this \\n\"+\n",
       "     \"may be due to a slow or bad network connection. Possible fixes:\\n\"+\n",
       "     \"</p>\\n\"+\n",
       "     \"<ul>\\n\"+\n",
       "     \"<li>re-rerun `output_notebook()` to attempt to load from CDN again, or</li>\\n\"+\n",
       "     \"<li>use INLINE resources instead, as so:</li>\\n\"+\n",
       "     \"</ul>\\n\"+\n",
       "     \"<code>\\n\"+\n",
       "     \"from bokeh.resources import INLINE\\n\"+\n",
       "     \"output_notebook(resources=INLINE)\\n\"+\n",
       "     \"</code>\\n\"+\n",
       "     \"</div>\"}};\n",
       "\n",
       "  function display_loaded() {\n",
       "    var el = document.getElementById(\"1001\");\n",
       "    if (el != null) {\n",
       "      el.textContent = \"BokehJS is loading...\";\n",
       "    }\n",
       "    if (root.Bokeh !== undefined) {\n",
       "      if (el != null) {\n",
       "        el.textContent = \"BokehJS \" + root.Bokeh.version + \" successfully loaded.\";\n",
       "      }\n",
       "    } else if (Date.now() < root._bokeh_timeout) {\n",
       "      setTimeout(display_loaded, 100)\n",
       "    }\n",
       "  }\n",
       "\n",
       "\n",
       "  function run_callbacks() {\n",
       "    try {\n",
       "      root._bokeh_onload_callbacks.forEach(function(callback) {\n",
       "        if (callback != null)\n",
       "          callback();\n",
       "      });\n",
       "    } finally {\n",
       "      delete root._bokeh_onload_callbacks\n",
       "    }\n",
       "    console.debug(\"Bokeh: all callbacks have finished\");\n",
       "  }\n",
       "\n",
       "  function load_libs(css_urls, js_urls, callback) {\n",
       "    if (css_urls == null) css_urls = [];\n",
       "    if (js_urls == null) js_urls = [];\n",
       "\n",
       "    root._bokeh_onload_callbacks.push(callback);\n",
       "    if (root._bokeh_is_loading > 0) {\n",
       "      console.debug(\"Bokeh: BokehJS is being loaded, scheduling callback at\", now());\n",
       "      return null;\n",
       "    }\n",
       "    if (js_urls == null || js_urls.length === 0) {\n",
       "      run_callbacks();\n",
       "      return null;\n",
       "    }\n",
       "    console.debug(\"Bokeh: BokehJS not loaded, scheduling load and callback at\", now());\n",
       "    root._bokeh_is_loading = css_urls.length + js_urls.length;\n",
       "\n",
       "    function on_load() {\n",
       "      root._bokeh_is_loading--;\n",
       "      if (root._bokeh_is_loading === 0) {\n",
       "        console.debug(\"Bokeh: all BokehJS libraries/stylesheets loaded\");\n",
       "        run_callbacks()\n",
       "      }\n",
       "    }\n",
       "\n",
       "    function on_error() {\n",
       "      console.error(\"failed to load \" + url);\n",
       "    }\n",
       "\n",
       "    for (var i = 0; i < css_urls.length; i++) {\n",
       "      var url = css_urls[i];\n",
       "      const element = document.createElement(\"link\");\n",
       "      element.onload = on_load;\n",
       "      element.onerror = on_error;\n",
       "      element.rel = \"stylesheet\";\n",
       "      element.type = \"text/css\";\n",
       "      element.href = url;\n",
       "      console.debug(\"Bokeh: injecting link tag for BokehJS stylesheet: \", url);\n",
       "      document.body.appendChild(element);\n",
       "    }\n",
       "\n",
       "    for (var i = 0; i < js_urls.length; i++) {\n",
       "      var url = js_urls[i];\n",
       "      var element = document.createElement('script');\n",
       "      element.onload = on_load;\n",
       "      element.onerror = on_error;\n",
       "      element.async = false;\n",
       "      element.src = url;\n",
       "      console.debug(\"Bokeh: injecting script tag for BokehJS library: \", url);\n",
       "      document.head.appendChild(element);\n",
       "    }\n",
       "  };var element = document.getElementById(\"1001\");\n",
       "  if (element == null) {\n",
       "    console.error(\"Bokeh: ERROR: autoload.js configured with elementid '1001' but no matching script tag was found. \")\n",
       "    return false;\n",
       "  }\n",
       "\n",
       "  function inject_raw_css(css) {\n",
       "    const element = document.createElement(\"style\");\n",
       "    element.appendChild(document.createTextNode(css));\n",
       "    document.body.appendChild(element);\n",
       "  }\n",
       "\n",
       "  var js_urls = [\"https://cdn.pydata.org/bokeh/release/bokeh-1.3.4.min.js\", \"https://cdn.pydata.org/bokeh/release/bokeh-widgets-1.3.4.min.js\", \"https://cdn.pydata.org/bokeh/release/bokeh-tables-1.3.4.min.js\", \"https://cdn.pydata.org/bokeh/release/bokeh-gl-1.3.4.min.js\"];\n",
       "  var css_urls = [];\n",
       "\n",
       "  var inline_js = [\n",
       "    function(Bokeh) {\n",
       "      Bokeh.set_log_level(\"info\");\n",
       "    },\n",
       "    \n",
       "    function(Bokeh) {\n",
       "      \n",
       "    },\n",
       "    function(Bokeh) {} // ensure no trailing comma for IE\n",
       "  ];\n",
       "\n",
       "  function run_inline_js() {\n",
       "    \n",
       "    if ((root.Bokeh !== undefined) || (force === true)) {\n",
       "      for (var i = 0; i < inline_js.length; i++) {\n",
       "        inline_js[i].call(root, root.Bokeh);\n",
       "      }if (force === true) {\n",
       "        display_loaded();\n",
       "      }} else if (Date.now() < root._bokeh_timeout) {\n",
       "      setTimeout(run_inline_js, 100);\n",
       "    } else if (!root._bokeh_failed_load) {\n",
       "      console.log(\"Bokeh: BokehJS failed to load within specified timeout.\");\n",
       "      root._bokeh_failed_load = true;\n",
       "    } else if (force !== true) {\n",
       "      var cell = $(document.getElementById(\"1001\")).parents('.cell').data().cell;\n",
       "      cell.output_area.append_execute_result(NB_LOAD_WARNING)\n",
       "    }\n",
       "\n",
       "  }\n",
       "\n",
       "  if (root._bokeh_is_loading === 0) {\n",
       "    console.debug(\"Bokeh: BokehJS loaded, going straight to plotting\");\n",
       "    run_inline_js();\n",
       "  } else {\n",
       "    load_libs(css_urls, js_urls, function() {\n",
       "      console.debug(\"Bokeh: BokehJS plotting callback run at\", now());\n",
       "      run_inline_js();\n",
       "    });\n",
       "  }\n",
       "}(window));"
      ],
      "application/vnd.bokehjs_load.v0+json": "\n(function(root) {\n  function now() {\n    return new Date();\n  }\n\n  var force = true;\n\n  if (typeof root._bokeh_onload_callbacks === \"undefined\" || force === true) {\n    root._bokeh_onload_callbacks = [];\n    root._bokeh_is_loading = undefined;\n  }\n\n  \n\n  \n  if (typeof (root._bokeh_timeout) === \"undefined\" || force === true) {\n    root._bokeh_timeout = Date.now() + 5000;\n    root._bokeh_failed_load = false;\n  }\n\n  var NB_LOAD_WARNING = {'data': {'text/html':\n     \"<div style='background-color: #fdd'>\\n\"+\n     \"<p>\\n\"+\n     \"BokehJS does not appear to have successfully loaded. If loading BokehJS from CDN, this \\n\"+\n     \"may be due to a slow or bad network connection. Possible fixes:\\n\"+\n     \"</p>\\n\"+\n     \"<ul>\\n\"+\n     \"<li>re-rerun `output_notebook()` to attempt to load from CDN again, or</li>\\n\"+\n     \"<li>use INLINE resources instead, as so:</li>\\n\"+\n     \"</ul>\\n\"+\n     \"<code>\\n\"+\n     \"from bokeh.resources import INLINE\\n\"+\n     \"output_notebook(resources=INLINE)\\n\"+\n     \"</code>\\n\"+\n     \"</div>\"}};\n\n  function display_loaded() {\n    var el = document.getElementById(\"1001\");\n    if (el != null) {\n      el.textContent = \"BokehJS is loading...\";\n    }\n    if (root.Bokeh !== undefined) {\n      if (el != null) {\n        el.textContent = \"BokehJS \" + root.Bokeh.version + \" successfully loaded.\";\n      }\n    } else if (Date.now() < root._bokeh_timeout) {\n      setTimeout(display_loaded, 100)\n    }\n  }\n\n\n  function run_callbacks() {\n    try {\n      root._bokeh_onload_callbacks.forEach(function(callback) {\n        if (callback != null)\n          callback();\n      });\n    } finally {\n      delete root._bokeh_onload_callbacks\n    }\n    console.debug(\"Bokeh: all callbacks have finished\");\n  }\n\n  function load_libs(css_urls, js_urls, callback) {\n    if (css_urls == null) css_urls = [];\n    if (js_urls == null) js_urls = [];\n\n    root._bokeh_onload_callbacks.push(callback);\n    if (root._bokeh_is_loading > 0) {\n      console.debug(\"Bokeh: BokehJS is being loaded, scheduling callback at\", now());\n      return null;\n    }\n    if (js_urls == null || js_urls.length === 0) {\n      run_callbacks();\n      return null;\n    }\n    console.debug(\"Bokeh: BokehJS not loaded, scheduling load and callback at\", now());\n    root._bokeh_is_loading = css_urls.length + js_urls.length;\n\n    function on_load() {\n      root._bokeh_is_loading--;\n      if (root._bokeh_is_loading === 0) {\n        console.debug(\"Bokeh: all BokehJS libraries/stylesheets loaded\");\n        run_callbacks()\n      }\n    }\n\n    function on_error() {\n      console.error(\"failed to load \" + url);\n    }\n\n    for (var i = 0; i < css_urls.length; i++) {\n      var url = css_urls[i];\n      const element = document.createElement(\"link\");\n      element.onload = on_load;\n      element.onerror = on_error;\n      element.rel = \"stylesheet\";\n      element.type = \"text/css\";\n      element.href = url;\n      console.debug(\"Bokeh: injecting link tag for BokehJS stylesheet: \", url);\n      document.body.appendChild(element);\n    }\n\n    for (var i = 0; i < js_urls.length; i++) {\n      var url = js_urls[i];\n      var element = document.createElement('script');\n      element.onload = on_load;\n      element.onerror = on_error;\n      element.async = false;\n      element.src = url;\n      console.debug(\"Bokeh: injecting script tag for BokehJS library: \", url);\n      document.head.appendChild(element);\n    }\n  };var element = document.getElementById(\"1001\");\n  if (element == null) {\n    console.error(\"Bokeh: ERROR: autoload.js configured with elementid '1001' but no matching script tag was found. \")\n    return false;\n  }\n\n  function inject_raw_css(css) {\n    const element = document.createElement(\"style\");\n    element.appendChild(document.createTextNode(css));\n    document.body.appendChild(element);\n  }\n\n  var js_urls = [\"https://cdn.pydata.org/bokeh/release/bokeh-1.3.4.min.js\", \"https://cdn.pydata.org/bokeh/release/bokeh-widgets-1.3.4.min.js\", \"https://cdn.pydata.org/bokeh/release/bokeh-tables-1.3.4.min.js\", \"https://cdn.pydata.org/bokeh/release/bokeh-gl-1.3.4.min.js\"];\n  var css_urls = [];\n\n  var inline_js = [\n    function(Bokeh) {\n      Bokeh.set_log_level(\"info\");\n    },\n    \n    function(Bokeh) {\n      \n    },\n    function(Bokeh) {} // ensure no trailing comma for IE\n  ];\n\n  function run_inline_js() {\n    \n    if ((root.Bokeh !== undefined) || (force === true)) {\n      for (var i = 0; i < inline_js.length; i++) {\n        inline_js[i].call(root, root.Bokeh);\n      }if (force === true) {\n        display_loaded();\n      }} else if (Date.now() < root._bokeh_timeout) {\n      setTimeout(run_inline_js, 100);\n    } else if (!root._bokeh_failed_load) {\n      console.log(\"Bokeh: BokehJS failed to load within specified timeout.\");\n      root._bokeh_failed_load = true;\n    } else if (force !== true) {\n      var cell = $(document.getElementById(\"1001\")).parents('.cell').data().cell;\n      cell.output_area.append_execute_result(NB_LOAD_WARNING)\n    }\n\n  }\n\n  if (root._bokeh_is_loading === 0) {\n    console.debug(\"Bokeh: BokehJS loaded, going straight to plotting\");\n    run_inline_js();\n  } else {\n    load_libs(css_urls, js_urls, function() {\n      console.debug(\"Bokeh: BokehJS plotting callback run at\", now());\n      run_inline_js();\n    });\n  }\n}(window));"
     },
     "metadata": {},
     "output_type": "display_data"
    }
   ],
   "source": [
    "# %load quick_imports.txt\n",
    "# %load quick_imports.txt\n",
    "import random\n",
    "import sys\n",
    "\n",
    "import numpy as np\n",
    "import matplotlib.pyplot as plt\n",
    "\n",
    "# Bokeh imports\n",
    "from bokeh.io import output_notebook, show, save\n",
    "from bokeh.plotting import figure, output_file, ColumnDataSource, reset_output\n",
    "from bokeh.models import HoverTool\n",
    "output_notebook()\n",
    "\n",
    "from ipywidgets.widgets import Text\n",
    "\n",
    "#scipy constants\n",
    "from scipy.constants import Boltzmann as kB\n",
    "from scipy.constants import Avogadro as NA\n",
    "from scipy.constants import Planck as h\n",
    "from scipy.constants import speed_of_light as c0\n",
    "from scipy.constants import R\n",
    "\n",
    "sys.path.append('../CNT-SIM/')\n",
    "from CNTSimFile import CNTSimFile\n",
    "from mc_sim import exciton_walk"
   ]
  },
  {
   "cell_type": "code",
   "execution_count": 2,
   "metadata": {},
   "outputs": [],
   "source": [
    "k_dt_per_s = 0.5 * (1e12/ 385 + 1e12/ 1132) + 0.1e12 * np.exp(-1.6182e-11 / (kB * 300))\n",
    "\n",
    "TAU_ps = 100\n",
    "TAU_d_ps = 1000\n",
    "\n",
    "k_r_per_s = 1.5e10  # constant for radiativ decay from E11\n",
    "k_d_r_per_s = 2.5e09  # constant for radiativ decay from E11*\n",
    "k_nr_per_s = 5e09  # constant of non-radiativ decay from E11\n",
    "k_d_nr_per_s = 5e09  # constant for non-radiativ decay from E11*\n",
    "k_nothing = lambda t_step: (k_r_per_s + k_nr_per_s) * TAU_ps / t_step\n",
    "k_nothing_d = lambda t_step: (k_d_r_per_s + k_d_nr_per_s + k_dt_per_s) * TAU_d_ps / t_step"
   ]
  },
  {
   "cell_type": "code",
   "execution_count": 15,
   "metadata": {},
   "outputs": [],
   "source": [
    "n_defects = [  0,   5,  10,  20,  30, 120]"
   ]
  },
  {
   "cell_type": "code",
   "execution_count": 3,
   "metadata": {},
   "outputs": [],
   "source": [
    "kin_const_0 = [k_d_r_per_s, k_r_per_s, k_d_nr_per_s, k_nr_per_s, k_dt_per_s]"
   ]
  },
  {
   "cell_type": "code",
   "execution_count": 11,
   "metadata": {},
   "outputs": [
    {
     "data": {
      "text/plain": [
       "[2500000000.0, 15000000000.0, 5000000000.0, 5000000000.0, 1740397411.7755036]"
      ]
     },
     "execution_count": 11,
     "metadata": {},
     "output_type": "execute_result"
    }
   ],
   "source": [
    "kin_const_0"
   ]
  },
  {
   "cell_type": "code",
   "execution_count": 4,
   "metadata": {},
   "outputs": [
    {
     "name": "stdout",
     "output_type": "stream",
     "text": [
      "Existing file loaded successfully.\n"
     ]
    }
   ],
   "source": [
    "Sim_woD_def_1 = CNTSimFile('../sim_output/2020-03-31_Sim-woD-def_1.h5', kin_const_0)"
   ]
  },
  {
   "cell_type": "code",
   "execution_count": 7,
   "metadata": {
    "scrolled": true
   },
   "outputs": [
    {
     "name": "stdout",
     "output_type": "stream",
     "text": [
      "Existing file loaded successfully.\n"
     ]
    }
   ],
   "source": [
    "Sim_wD_def_1 = CNTSimFile('../sim_output/2020-03-31_Sim-wD-def_1.h5', kin_const_0)"
   ]
  },
  {
   "cell_type": "code",
   "execution_count": 10,
   "metadata": {},
   "outputs": [
    {
     "data": {
      "text/plain": [
       "array([5.0000000e+09, 1.5000001e+10, 5.0000000e+09, 5.0000000e+09,\n",
       "       1.7403974e+09], dtype=float32)"
      ]
     },
     "execution_count": 10,
     "metadata": {},
     "output_type": "execute_result"
    }
   ],
   "source": [
    "Sim_wD_def_1.kin_const"
   ]
  },
  {
   "cell_type": "markdown",
   "metadata": {},
   "source": [
    "## Defect Dependancy"
   ]
  },
  {
   "cell_type": "markdown",
   "metadata": {},
   "source": [
    "Doubling the radiative decay of the defect state"
   ]
  },
  {
   "cell_type": "code",
   "execution_count": 31,
   "metadata": {},
   "outputs": [
    {
     "data": {
      "text/html": [
       "\n",
       "\n",
       "\n",
       "\n",
       "\n",
       "\n",
       "  <div class=\"bk-root\" id=\"e222912f-a07c-4f7a-a1b2-d14f1d2d78e2\" data-root-id=\"3547\"></div>\n"
      ]
     },
     "metadata": {},
     "output_type": "display_data"
    },
    {
     "data": {
      "application/javascript": [
       "(function(root) {\n",
       "  function embed_document(root) {\n",
       "    \n",
       "  var docs_json = {\"e66dd228-7a3f-4e96-8802-6af2915dfaef\":{\"roots\":{\"references\":[{\"attributes\":{\"below\":[{\"id\":\"3558\",\"type\":\"LinearAxis\"}],\"center\":[{\"id\":\"3562\",\"type\":\"Grid\"},{\"id\":\"3567\",\"type\":\"Grid\"},{\"id\":\"3594\",\"type\":\"Legend\"}],\"left\":[{\"id\":\"3563\",\"type\":\"LinearAxis\"}],\"plot_height\":400,\"plot_width\":800,\"renderers\":[{\"id\":\"3586\",\"type\":\"GlyphRenderer\"},{\"id\":\"3599\",\"type\":\"GlyphRenderer\"}],\"title\":{\"id\":\"3548\",\"type\":\"Title\"},\"toolbar\":{\"id\":\"3574\",\"type\":\"Toolbar\"},\"x_range\":{\"id\":\"3550\",\"type\":\"DataRange1d\"},\"x_scale\":{\"id\":\"3554\",\"type\":\"LinearScale\"},\"y_range\":{\"id\":\"3552\",\"type\":\"DataRange1d\"},\"y_scale\":{\"id\":\"3556\",\"type\":\"LinearScale\"}},\"id\":\"3547\",\"subtype\":\"Figure\",\"type\":\"Plot\"},{\"attributes\":{\"data_source\":{\"id\":\"3583\",\"type\":\"ColumnDataSource\"},\"glyph\":{\"id\":\"3584\",\"type\":\"Line\"},\"hover_glyph\":null,\"muted_glyph\":null,\"nonselection_glyph\":{\"id\":\"3585\",\"type\":\"Line\"},\"selection_glyph\":null,\"view\":{\"id\":\"3587\",\"type\":\"CDSView\"}},\"id\":\"3586\",\"type\":\"GlyphRenderer\"},{\"attributes\":{\"ticker\":{\"id\":\"3559\",\"type\":\"BasicTicker\"}},\"id\":\"3562\",\"type\":\"Grid\"},{\"attributes\":{\"items\":[{\"id\":\"3595\",\"type\":\"LegendItem\"},{\"id\":\"3609\",\"type\":\"LegendItem\"}]},\"id\":\"3594\",\"type\":\"Legend\"},{\"attributes\":{\"callback\":null},\"id\":\"3552\",\"type\":\"DataRange1d\"},{\"attributes\":{},\"id\":\"3564\",\"type\":\"BasicTicker\"},{\"attributes\":{\"text\":\"Defect Density Relation, l = 300 nm\"},\"id\":\"3548\",\"type\":\"Title\"},{\"attributes\":{\"line_alpha\":0.1,\"line_color\":\"#1f77b4\",\"x\":{\"field\":\"x\"},\"y\":{\"field\":\"y\"}},\"id\":\"3585\",\"type\":\"Line\"},{\"attributes\":{},\"id\":\"3747\",\"type\":\"UnionRenderers\"},{\"attributes\":{\"bottom_units\":\"screen\",\"fill_alpha\":{\"value\":0.5},\"fill_color\":{\"value\":\"lightgrey\"},\"left_units\":\"screen\",\"level\":\"overlay\",\"line_alpha\":{\"value\":1.0},\"line_color\":{\"value\":\"black\"},\"line_dash\":[4,4],\"line_width\":{\"value\":2},\"render_mode\":\"css\",\"right_units\":\"screen\",\"top_units\":\"screen\"},\"id\":\"3593\",\"type\":\"BoxAnnotation\"},{\"attributes\":{\"line_color\":\"#1f77b4\",\"x\":{\"field\":\"x\"},\"y\":{\"field\":\"y\"}},\"id\":\"3584\",\"type\":\"Line\"},{\"attributes\":{\"label\":{\"value\":\"E11* QY, k_E11*_r doubled\"},\"renderers\":[{\"id\":\"3599\",\"type\":\"GlyphRenderer\"}]},\"id\":\"3609\",\"type\":\"LegendItem\"},{\"attributes\":{\"dimension\":1,\"ticker\":{\"id\":\"3564\",\"type\":\"BasicTicker\"}},\"id\":\"3567\",\"type\":\"Grid\"},{\"attributes\":{\"label\":{\"value\":\"E11* QY\"},\"renderers\":[{\"id\":\"3586\",\"type\":\"GlyphRenderer\"}]},\"id\":\"3595\",\"type\":\"LegendItem\"},{\"attributes\":{\"source\":{\"id\":\"3583\",\"type\":\"ColumnDataSource\"}},\"id\":\"3587\",\"type\":\"CDSView\"},{\"attributes\":{\"callback\":null},\"id\":\"3581\",\"type\":\"HoverTool\"},{\"attributes\":{\"callback\":null,\"data\":{\"x\":[0,5,10,20,30,120],\"y\":{\"__ndarray__\":\"AAAAAE3zjj0/xtw9Iv32PW8SAz6TqQI+\",\"dtype\":\"float32\",\"shape\":[6]}},\"selected\":{\"id\":\"3607\",\"type\":\"Selection\"},\"selection_policy\":{\"id\":\"3606\",\"type\":\"UnionRenderers\"}},\"id\":\"3583\",\"type\":\"ColumnDataSource\"},{\"attributes\":{\"callback\":null,\"data\":{\"x\":[0,5,10,20,30,120],\"y\":{\"__ndarray__\":\"AAAAAGsrdj56Nqs+BcXPPk+v1D4r9tc+\",\"dtype\":\"float32\",\"shape\":[6]}},\"selected\":{\"id\":\"3748\",\"type\":\"Selection\"},\"selection_policy\":{\"id\":\"3747\",\"type\":\"UnionRenderers\"}},\"id\":\"3596\",\"type\":\"ColumnDataSource\"},{\"attributes\":{\"active_drag\":\"auto\",\"active_inspect\":\"auto\",\"active_multi\":null,\"active_scroll\":\"auto\",\"active_tap\":\"auto\",\"tools\":[{\"id\":\"3568\",\"type\":\"PanTool\"},{\"id\":\"3569\",\"type\":\"WheelZoomTool\"},{\"id\":\"3570\",\"type\":\"BoxZoomTool\"},{\"id\":\"3571\",\"type\":\"SaveTool\"},{\"id\":\"3572\",\"type\":\"ResetTool\"},{\"id\":\"3573\",\"type\":\"HelpTool\"},{\"id\":\"3581\",\"type\":\"HoverTool\"}]},\"id\":\"3574\",\"type\":\"Toolbar\"},{\"attributes\":{\"source\":{\"id\":\"3596\",\"type\":\"ColumnDataSource\"}},\"id\":\"3600\",\"type\":\"CDSView\"},{\"attributes\":{},\"id\":\"3569\",\"type\":\"WheelZoomTool\"},{\"attributes\":{\"line_alpha\":0.1,\"line_color\":\"#1f77b4\",\"x\":{\"field\":\"x\"},\"y\":{\"field\":\"y\"}},\"id\":\"3598\",\"type\":\"Line\"},{\"attributes\":{\"line_color\":\"red\",\"x\":{\"field\":\"x\"},\"y\":{\"field\":\"y\"}},\"id\":\"3597\",\"type\":\"Line\"},{\"attributes\":{},\"id\":\"3559\",\"type\":\"BasicTicker\"},{\"attributes\":{},\"id\":\"3568\",\"type\":\"PanTool\"},{\"attributes\":{\"data_source\":{\"id\":\"3596\",\"type\":\"ColumnDataSource\"},\"glyph\":{\"id\":\"3597\",\"type\":\"Line\"},\"hover_glyph\":null,\"muted_glyph\":null,\"nonselection_glyph\":{\"id\":\"3598\",\"type\":\"Line\"},\"selection_glyph\":null,\"view\":{\"id\":\"3600\",\"type\":\"CDSView\"}},\"id\":\"3599\",\"type\":\"GlyphRenderer\"},{\"attributes\":{\"axis_label\":\"N (defects)\",\"formatter\":{\"id\":\"3591\",\"type\":\"BasicTickFormatter\"},\"ticker\":{\"id\":\"3559\",\"type\":\"BasicTicker\"}},\"id\":\"3558\",\"type\":\"LinearAxis\"},{\"attributes\":{},\"id\":\"3571\",\"type\":\"SaveTool\"},{\"attributes\":{},\"id\":\"3748\",\"type\":\"Selection\"},{\"attributes\":{},\"id\":\"3556\",\"type\":\"LinearScale\"},{\"attributes\":{},\"id\":\"3606\",\"type\":\"UnionRenderers\"},{\"attributes\":{},\"id\":\"3572\",\"type\":\"ResetTool\"},{\"attributes\":{\"axis_label\":\"QY (E11*)\",\"formatter\":{\"id\":\"3589\",\"type\":\"BasicTickFormatter\"},\"ticker\":{\"id\":\"3564\",\"type\":\"BasicTicker\"}},\"id\":\"3563\",\"type\":\"LinearAxis\"},{\"attributes\":{\"overlay\":{\"id\":\"3593\",\"type\":\"BoxAnnotation\"}},\"id\":\"3570\",\"type\":\"BoxZoomTool\"},{\"attributes\":{},\"id\":\"3607\",\"type\":\"Selection\"},{\"attributes\":{\"callback\":null},\"id\":\"3550\",\"type\":\"DataRange1d\"},{\"attributes\":{},\"id\":\"3573\",\"type\":\"HelpTool\"},{\"attributes\":{},\"id\":\"3554\",\"type\":\"LinearScale\"},{\"attributes\":{},\"id\":\"3589\",\"type\":\"BasicTickFormatter\"},{\"attributes\":{},\"id\":\"3591\",\"type\":\"BasicTickFormatter\"}],\"root_ids\":[\"3547\"]},\"title\":\"Bokeh Application\",\"version\":\"1.3.4\"}};\n",
       "  var render_items = [{\"docid\":\"e66dd228-7a3f-4e96-8802-6af2915dfaef\",\"roots\":{\"3547\":\"e222912f-a07c-4f7a-a1b2-d14f1d2d78e2\"}}];\n",
       "  root.Bokeh.embed.embed_items_notebook(docs_json, render_items);\n",
       "\n",
       "  }\n",
       "  if (root.Bokeh !== undefined) {\n",
       "    embed_document(root);\n",
       "  } else {\n",
       "    var attempts = 0;\n",
       "    var timer = setInterval(function(root) {\n",
       "      if (root.Bokeh !== undefined) {\n",
       "        embed_document(root);\n",
       "        clearInterval(timer);\n",
       "      }\n",
       "      attempts++;\n",
       "      if (attempts > 100) {\n",
       "        console.log(\"Bokeh: ERROR: Unable to run BokehJS code because BokehJS library is missing\");\n",
       "        clearInterval(timer);\n",
       "      }\n",
       "    }, 10, root)\n",
       "  }\n",
       "})(window);"
      ],
      "application/vnd.bokehjs_exec.v0+json": ""
     },
     "metadata": {
      "application/vnd.bokehjs_exec.v0+json": {
       "id": "3547"
      }
     },
     "output_type": "display_data"
    }
   ],
   "source": [
    "plot = figure(title='Defect Density Relation, l = 300 nm', width=800, height=400)\n",
    "plot.add_tools(HoverTool())\n",
    "plot.line(Sim_woD_def_1.calc_dict['n_defects'], Sim_woD_def_1.QY[:, 0], legend='E11* QY')\n",
    "plot.line(Sim_wD_def_1.calc_dict['n_defects'], Sim_wD_def_1.QY[:, 0],\n",
    "             legend='E11* QY, k_E11*_r doubled',color='red')\n",
    "plot.xaxis.axis_label = 'N (defects)'\n",
    "plot.yaxis.axis_label = 'QY (E11*)'\n",
    "show(plot)"
   ]
  },
  {
   "cell_type": "code",
   "execution_count": 32,
   "metadata": {},
   "outputs": [
    {
     "data": {
      "text/html": [
       "\n",
       "\n",
       "\n",
       "\n",
       "\n",
       "\n",
       "  <div class=\"bk-root\" id=\"cb5dcdb2-de9e-444f-a099-89d9ad2f5af6\" data-root-id=\"3810\"></div>\n"
      ]
     },
     "metadata": {},
     "output_type": "display_data"
    },
    {
     "data": {
      "application/javascript": [
       "(function(root) {\n",
       "  function embed_document(root) {\n",
       "    \n",
       "  var docs_json = {\"dab42171-2e80-4630-a5c8-582ab515aafd\":{\"roots\":{\"references\":[{\"attributes\":{\"below\":[{\"id\":\"3821\",\"type\":\"LinearAxis\"}],\"center\":[{\"id\":\"3825\",\"type\":\"Grid\"},{\"id\":\"3830\",\"type\":\"Grid\"},{\"id\":\"3857\",\"type\":\"Legend\"}],\"left\":[{\"id\":\"3826\",\"type\":\"LinearAxis\"}],\"plot_height\":400,\"plot_width\":800,\"renderers\":[{\"id\":\"3849\",\"type\":\"GlyphRenderer\"},{\"id\":\"3862\",\"type\":\"GlyphRenderer\"}],\"title\":{\"id\":\"3811\",\"type\":\"Title\"},\"toolbar\":{\"id\":\"3837\",\"type\":\"Toolbar\"},\"x_range\":{\"id\":\"3813\",\"type\":\"DataRange1d\"},\"x_scale\":{\"id\":\"3817\",\"type\":\"LinearScale\"},\"y_range\":{\"id\":\"3815\",\"type\":\"DataRange1d\"},\"y_scale\":{\"id\":\"3819\",\"type\":\"LinearScale\"}},\"id\":\"3810\",\"subtype\":\"Figure\",\"type\":\"Plot\"},{\"attributes\":{\"callback\":null,\"data\":{\"x\":[0,5,10,20,30,120],\"y\":{\"__ndarray__\":\"vHQTPG8SgzsXt9E6F7dROQAAAAAAAAAA\",\"dtype\":\"float32\",\"shape\":[6]}},\"selected\":{\"id\":\"3870\",\"type\":\"Selection\"},\"selection_policy\":{\"id\":\"3869\",\"type\":\"UnionRenderers\"}},\"id\":\"3846\",\"type\":\"ColumnDataSource\"},{\"attributes\":{\"line_color\":\"red\",\"x\":{\"field\":\"x\"},\"y\":{\"field\":\"y\"}},\"id\":\"3860\",\"type\":\"Line\"},{\"attributes\":{\"callback\":null},\"id\":\"3813\",\"type\":\"DataRange1d\"},{\"attributes\":{\"line_alpha\":0.1,\"line_color\":\"#1f77b4\",\"x\":{\"field\":\"x\"},\"y\":{\"field\":\"y\"}},\"id\":\"3848\",\"type\":\"Line\"},{\"attributes\":{\"active_drag\":\"auto\",\"active_inspect\":\"auto\",\"active_multi\":null,\"active_scroll\":\"auto\",\"active_tap\":\"auto\",\"tools\":[{\"id\":\"3831\",\"type\":\"PanTool\"},{\"id\":\"3832\",\"type\":\"WheelZoomTool\"},{\"id\":\"3833\",\"type\":\"BoxZoomTool\"},{\"id\":\"3834\",\"type\":\"SaveTool\"},{\"id\":\"3835\",\"type\":\"ResetTool\"},{\"id\":\"3836\",\"type\":\"HelpTool\"},{\"id\":\"3844\",\"type\":\"HoverTool\"}]},\"id\":\"3837\",\"type\":\"Toolbar\"},{\"attributes\":{\"line_color\":\"#1f77b4\",\"x\":{\"field\":\"x\"},\"y\":{\"field\":\"y\"}},\"id\":\"3847\",\"type\":\"Line\"},{\"attributes\":{\"callback\":null,\"data\":{\"x\":[0,5,10,20,30,120],\"y\":{\"__ndarray__\":\"pptEPOAtkDvDZCo7F7dROQAAAAAAAAAA\",\"dtype\":\"float32\",\"shape\":[6]}},\"selected\":{\"id\":\"4021\",\"type\":\"Selection\"},\"selection_policy\":{\"id\":\"4020\",\"type\":\"UnionRenderers\"}},\"id\":\"3859\",\"type\":\"ColumnDataSource\"},{\"attributes\":{\"source\":{\"id\":\"3859\",\"type\":\"ColumnDataSource\"}},\"id\":\"3863\",\"type\":\"CDSView\"},{\"attributes\":{},\"id\":\"3831\",\"type\":\"PanTool\"},{\"attributes\":{\"line_alpha\":0.1,\"line_color\":\"#1f77b4\",\"x\":{\"field\":\"x\"},\"y\":{\"field\":\"y\"}},\"id\":\"3861\",\"type\":\"Line\"},{\"attributes\":{\"callback\":null},\"id\":\"3844\",\"type\":\"HoverTool\"},{\"attributes\":{\"callback\":null},\"id\":\"3815\",\"type\":\"DataRange1d\"},{\"attributes\":{},\"id\":\"3832\",\"type\":\"WheelZoomTool\"},{\"attributes\":{\"overlay\":{\"id\":\"3856\",\"type\":\"BoxAnnotation\"}},\"id\":\"3833\",\"type\":\"BoxZoomTool\"},{\"attributes\":{\"data_source\":{\"id\":\"3859\",\"type\":\"ColumnDataSource\"},\"glyph\":{\"id\":\"3860\",\"type\":\"Line\"},\"hover_glyph\":null,\"muted_glyph\":null,\"nonselection_glyph\":{\"id\":\"3861\",\"type\":\"Line\"},\"selection_glyph\":null,\"view\":{\"id\":\"3863\",\"type\":\"CDSView\"}},\"id\":\"3862\",\"type\":\"GlyphRenderer\"},{\"attributes\":{\"bottom_units\":\"screen\",\"fill_alpha\":{\"value\":0.5},\"fill_color\":{\"value\":\"lightgrey\"},\"left_units\":\"screen\",\"level\":\"overlay\",\"line_alpha\":{\"value\":1.0},\"line_color\":{\"value\":\"black\"},\"line_dash\":[4,4],\"line_width\":{\"value\":2},\"render_mode\":\"css\",\"right_units\":\"screen\",\"top_units\":\"screen\"},\"id\":\"3856\",\"type\":\"BoxAnnotation\"},{\"attributes\":{\"text\":\"Defect Density Relation, l = 300 nm\"},\"id\":\"3811\",\"type\":\"Title\"},{\"attributes\":{},\"id\":\"4020\",\"type\":\"UnionRenderers\"},{\"attributes\":{},\"id\":\"3869\",\"type\":\"UnionRenderers\"},{\"attributes\":{\"items\":[{\"id\":\"3858\",\"type\":\"LegendItem\"},{\"id\":\"3872\",\"type\":\"LegendItem\"}]},\"id\":\"3857\",\"type\":\"Legend\"},{\"attributes\":{\"label\":{\"value\":\"E11 QY, k_E11*_r doubled\"},\"renderers\":[{\"id\":\"3862\",\"type\":\"GlyphRenderer\"}]},\"id\":\"3872\",\"type\":\"LegendItem\"},{\"attributes\":{},\"id\":\"3834\",\"type\":\"SaveTool\"},{\"attributes\":{},\"id\":\"3817\",\"type\":\"LinearScale\"},{\"attributes\":{},\"id\":\"3835\",\"type\":\"ResetTool\"},{\"attributes\":{\"source\":{\"id\":\"3846\",\"type\":\"ColumnDataSource\"}},\"id\":\"3850\",\"type\":\"CDSView\"},{\"attributes\":{},\"id\":\"3819\",\"type\":\"LinearScale\"},{\"attributes\":{},\"id\":\"3836\",\"type\":\"HelpTool\"},{\"attributes\":{},\"id\":\"4021\",\"type\":\"Selection\"},{\"attributes\":{\"axis_label\":\"N (defects)\",\"formatter\":{\"id\":\"3854\",\"type\":\"BasicTickFormatter\"},\"ticker\":{\"id\":\"3822\",\"type\":\"BasicTicker\"}},\"id\":\"3821\",\"type\":\"LinearAxis\"},{\"attributes\":{\"axis_label\":\"QY (E11)\",\"formatter\":{\"id\":\"3852\",\"type\":\"BasicTickFormatter\"},\"ticker\":{\"id\":\"3827\",\"type\":\"BasicTicker\"}},\"id\":\"3826\",\"type\":\"LinearAxis\"},{\"attributes\":{},\"id\":\"3827\",\"type\":\"BasicTicker\"},{\"attributes\":{},\"id\":\"3822\",\"type\":\"BasicTicker\"},{\"attributes\":{\"ticker\":{\"id\":\"3822\",\"type\":\"BasicTicker\"}},\"id\":\"3825\",\"type\":\"Grid\"},{\"attributes\":{},\"id\":\"3852\",\"type\":\"BasicTickFormatter\"},{\"attributes\":{},\"id\":\"3854\",\"type\":\"BasicTickFormatter\"},{\"attributes\":{},\"id\":\"3870\",\"type\":\"Selection\"},{\"attributes\":{\"data_source\":{\"id\":\"3846\",\"type\":\"ColumnDataSource\"},\"glyph\":{\"id\":\"3847\",\"type\":\"Line\"},\"hover_glyph\":null,\"muted_glyph\":null,\"nonselection_glyph\":{\"id\":\"3848\",\"type\":\"Line\"},\"selection_glyph\":null,\"view\":{\"id\":\"3850\",\"type\":\"CDSView\"}},\"id\":\"3849\",\"type\":\"GlyphRenderer\"},{\"attributes\":{\"dimension\":1,\"ticker\":{\"id\":\"3827\",\"type\":\"BasicTicker\"}},\"id\":\"3830\",\"type\":\"Grid\"},{\"attributes\":{\"label\":{\"value\":\"E11 QY\"},\"renderers\":[{\"id\":\"3849\",\"type\":\"GlyphRenderer\"}]},\"id\":\"3858\",\"type\":\"LegendItem\"}],\"root_ids\":[\"3810\"]},\"title\":\"Bokeh Application\",\"version\":\"1.3.4\"}};\n",
       "  var render_items = [{\"docid\":\"dab42171-2e80-4630-a5c8-582ab515aafd\",\"roots\":{\"3810\":\"cb5dcdb2-de9e-444f-a099-89d9ad2f5af6\"}}];\n",
       "  root.Bokeh.embed.embed_items_notebook(docs_json, render_items);\n",
       "\n",
       "  }\n",
       "  if (root.Bokeh !== undefined) {\n",
       "    embed_document(root);\n",
       "  } else {\n",
       "    var attempts = 0;\n",
       "    var timer = setInterval(function(root) {\n",
       "      if (root.Bokeh !== undefined) {\n",
       "        embed_document(root);\n",
       "        clearInterval(timer);\n",
       "      }\n",
       "      attempts++;\n",
       "      if (attempts > 100) {\n",
       "        console.log(\"Bokeh: ERROR: Unable to run BokehJS code because BokehJS library is missing\");\n",
       "        clearInterval(timer);\n",
       "      }\n",
       "    }, 10, root)\n",
       "  }\n",
       "})(window);"
      ],
      "application/vnd.bokehjs_exec.v0+json": ""
     },
     "metadata": {
      "application/vnd.bokehjs_exec.v0+json": {
       "id": "3810"
      }
     },
     "output_type": "display_data"
    }
   ],
   "source": [
    "plot = figure(title='Defect Density Relation, l = 300 nm', width=800, height=400)\n",
    "plot.add_tools(HoverTool())\n",
    "plot.line(Sim_woD_def_1.calc_dict['n_defects'], Sim_woD_def_1.QY[:, 1], legend='E11 QY')\n",
    "plot.line(Sim_wD_def_1.calc_dict['n_defects'], Sim_wD_def_1.QY[:, 1],\n",
    "             legend='E11 QY, k_E11*_r doubled',color='red')\n",
    "plot.xaxis.axis_label = 'N (defects)'\n",
    "plot.yaxis.axis_label = 'QY (E11)'\n",
    "show(plot)"
   ]
  },
  {
   "cell_type": "markdown",
   "metadata": {},
   "source": [
    "## Length Dependancy"
   ]
  },
  {
   "cell_type": "code",
   "execution_count": 33,
   "metadata": {},
   "outputs": [
    {
     "name": "stdout",
     "output_type": "stream",
     "text": [
      "Existing file loaded successfully.\n"
     ]
    }
   ],
   "source": [
    "Sim_woD_len_1 = CNTSimFile('../sim_output/2020-03-31_Sim-woD-len_1.h5', kin_const_0)"
   ]
  },
  {
   "cell_type": "code",
   "execution_count": 35,
   "metadata": {},
   "outputs": [
    {
     "name": "stdout",
     "output_type": "stream",
     "text": [
      "Existing file loaded successfully.\n"
     ]
    }
   ],
   "source": [
    "Sim_wD_len_1 = CNTSimFile('../sim_output/2020-03-31_Sim-wD-len_1.h5', kin_const_0)"
   ]
  },
  {
   "cell_type": "code",
   "execution_count": 42,
   "metadata": {},
   "outputs": [
    {
     "data": {
      "text/html": [
       "\n",
       "\n",
       "\n",
       "\n",
       "\n",
       "\n",
       "  <div class=\"bk-root\" id=\"a3a2fa32-19c6-48da-af7f-f3a5efcf0c0a\" data-root-id=\"4415\"></div>\n"
      ]
     },
     "metadata": {},
     "output_type": "display_data"
    },
    {
     "data": {
      "application/javascript": [
       "(function(root) {\n",
       "  function embed_document(root) {\n",
       "    \n",
       "  var docs_json = {\"f1eae9ef-803e-43ab-a5bf-9b464e18ade9\":{\"roots\":{\"references\":[{\"attributes\":{\"below\":[{\"id\":\"4426\",\"type\":\"LinearAxis\"}],\"center\":[{\"id\":\"4430\",\"type\":\"Grid\"},{\"id\":\"4435\",\"type\":\"Grid\"},{\"id\":\"4462\",\"type\":\"Legend\"}],\"left\":[{\"id\":\"4431\",\"type\":\"LinearAxis\"}],\"plot_height\":400,\"plot_width\":800,\"renderers\":[{\"id\":\"4454\",\"type\":\"GlyphRenderer\"},{\"id\":\"4467\",\"type\":\"GlyphRenderer\"}],\"title\":{\"id\":\"4416\",\"type\":\"Title\"},\"toolbar\":{\"id\":\"4442\",\"type\":\"Toolbar\"},\"x_range\":{\"id\":\"4418\",\"type\":\"DataRange1d\"},\"x_scale\":{\"id\":\"4422\",\"type\":\"LinearScale\"},\"y_range\":{\"id\":\"4420\",\"type\":\"DataRange1d\"},\"y_scale\":{\"id\":\"4424\",\"type\":\"LinearScale\"}},\"id\":\"4415\",\"subtype\":\"Figure\",\"type\":\"Plot\"},{\"attributes\":{\"callback\":null,\"data\":{\"x\":[30,60,90,120,150,200,300,800],\"y\":{\"__ndarray__\":\"AAAAAJp3HD24HoU9yJi7PYEExT2J0t49hjjWPa5H4T0=\",\"dtype\":\"float32\",\"shape\":[8]}},\"selected\":{\"id\":\"4475\",\"type\":\"Selection\"},\"selection_policy\":{\"id\":\"4474\",\"type\":\"UnionRenderers\"}},\"id\":\"4451\",\"type\":\"ColumnDataSource\"},{\"attributes\":{\"dimension\":1,\"ticker\":{\"id\":\"4432\",\"type\":\"BasicTicker\"}},\"id\":\"4435\",\"type\":\"Grid\"},{\"attributes\":{},\"id\":\"4459\",\"type\":\"BasicTickFormatter\"},{\"attributes\":{\"data_source\":{\"id\":\"4464\",\"type\":\"ColumnDataSource\"},\"glyph\":{\"id\":\"4465\",\"type\":\"Line\"},\"hover_glyph\":null,\"muted_glyph\":null,\"nonselection_glyph\":{\"id\":\"4466\",\"type\":\"Line\"},\"selection_glyph\":null,\"view\":{\"id\":\"4468\",\"type\":\"CDSView\"}},\"id\":\"4467\",\"type\":\"GlyphRenderer\"},{\"attributes\":{},\"id\":\"4422\",\"type\":\"LinearScale\"},{\"attributes\":{\"line_color\":\"#1f77b4\",\"x\":{\"field\":\"x\"},\"y\":{\"field\":\"y\"}},\"id\":\"4452\",\"type\":\"Line\"},{\"attributes\":{},\"id\":\"4441\",\"type\":\"HelpTool\"},{\"attributes\":{},\"id\":\"4432\",\"type\":\"BasicTicker\"},{\"attributes\":{\"callback\":null},\"id\":\"4420\",\"type\":\"DataRange1d\"},{\"attributes\":{\"overlay\":{\"id\":\"4461\",\"type\":\"BoxAnnotation\"}},\"id\":\"4438\",\"type\":\"BoxZoomTool\"},{\"attributes\":{\"line_alpha\":0.1,\"line_color\":\"#1f77b4\",\"x\":{\"field\":\"x\"},\"y\":{\"field\":\"y\"}},\"id\":\"4466\",\"type\":\"Line\"},{\"attributes\":{\"label\":{\"value\":\"E11* QY, k_E11*_r doubled\"},\"renderers\":[{\"id\":\"4467\",\"type\":\"GlyphRenderer\"}]},\"id\":\"4477\",\"type\":\"LegendItem\"},{\"attributes\":{\"callback\":null,\"data\":{\"x\":[30,60,90,120,150,200,300,800],\"y\":{\"__ndarray__\":\"AAAAALRZ9T2x4Wk+KxiVPlRSpz4ibLg+J8LGPhsv3T4=\",\"dtype\":\"float32\",\"shape\":[8]}},\"selected\":{\"id\":\"4646\",\"type\":\"Selection\"},\"selection_policy\":{\"id\":\"4645\",\"type\":\"UnionRenderers\"}},\"id\":\"4464\",\"type\":\"ColumnDataSource\"},{\"attributes\":{},\"id\":\"4475\",\"type\":\"Selection\"},{\"attributes\":{},\"id\":\"4457\",\"type\":\"BasicTickFormatter\"},{\"attributes\":{},\"id\":\"4439\",\"type\":\"SaveTool\"},{\"attributes\":{\"ticker\":{\"id\":\"4427\",\"type\":\"BasicTicker\"}},\"id\":\"4430\",\"type\":\"Grid\"},{\"attributes\":{},\"id\":\"4474\",\"type\":\"UnionRenderers\"},{\"attributes\":{},\"id\":\"4645\",\"type\":\"UnionRenderers\"},{\"attributes\":{},\"id\":\"4440\",\"type\":\"ResetTool\"},{\"attributes\":{\"callback\":null},\"id\":\"4449\",\"type\":\"HoverTool\"},{\"attributes\":{\"axis_label\":\"QY (E11*)\",\"formatter\":{\"id\":\"4457\",\"type\":\"BasicTickFormatter\"},\"ticker\":{\"id\":\"4432\",\"type\":\"BasicTicker\"}},\"id\":\"4431\",\"type\":\"LinearAxis\"},{\"attributes\":{\"data_source\":{\"id\":\"4451\",\"type\":\"ColumnDataSource\"},\"glyph\":{\"id\":\"4452\",\"type\":\"Line\"},\"hover_glyph\":null,\"muted_glyph\":null,\"nonselection_glyph\":{\"id\":\"4453\",\"type\":\"Line\"},\"selection_glyph\":null,\"view\":{\"id\":\"4455\",\"type\":\"CDSView\"}},\"id\":\"4454\",\"type\":\"GlyphRenderer\"},{\"attributes\":{\"label\":{\"value\":\"E11* QY\"},\"renderers\":[{\"id\":\"4454\",\"type\":\"GlyphRenderer\"}]},\"id\":\"4463\",\"type\":\"LegendItem\"},{\"attributes\":{\"source\":{\"id\":\"4464\",\"type\":\"ColumnDataSource\"}},\"id\":\"4468\",\"type\":\"CDSView\"},{\"attributes\":{},\"id\":\"4424\",\"type\":\"LinearScale\"},{\"attributes\":{},\"id\":\"4646\",\"type\":\"Selection\"},{\"attributes\":{\"source\":{\"id\":\"4451\",\"type\":\"ColumnDataSource\"}},\"id\":\"4455\",\"type\":\"CDSView\"},{\"attributes\":{},\"id\":\"4437\",\"type\":\"WheelZoomTool\"},{\"attributes\":{\"bottom_units\":\"screen\",\"fill_alpha\":{\"value\":0.5},\"fill_color\":{\"value\":\"lightgrey\"},\"left_units\":\"screen\",\"level\":\"overlay\",\"line_alpha\":{\"value\":1.0},\"line_color\":{\"value\":\"black\"},\"line_dash\":[4,4],\"line_width\":{\"value\":2},\"render_mode\":\"css\",\"right_units\":\"screen\",\"top_units\":\"screen\"},\"id\":\"4461\",\"type\":\"BoxAnnotation\"},{\"attributes\":{\"text\":\"Defect Density Relation, l = 300 nm\"},\"id\":\"4416\",\"type\":\"Title\"},{\"attributes\":{\"callback\":null},\"id\":\"4418\",\"type\":\"DataRange1d\"},{\"attributes\":{},\"id\":\"4427\",\"type\":\"BasicTicker\"},{\"attributes\":{\"active_drag\":\"auto\",\"active_inspect\":\"auto\",\"active_multi\":null,\"active_scroll\":\"auto\",\"active_tap\":\"auto\",\"tools\":[{\"id\":\"4436\",\"type\":\"PanTool\"},{\"id\":\"4437\",\"type\":\"WheelZoomTool\"},{\"id\":\"4438\",\"type\":\"BoxZoomTool\"},{\"id\":\"4439\",\"type\":\"SaveTool\"},{\"id\":\"4440\",\"type\":\"ResetTool\"},{\"id\":\"4441\",\"type\":\"HelpTool\"},{\"id\":\"4449\",\"type\":\"HoverTool\"}]},\"id\":\"4442\",\"type\":\"Toolbar\"},{\"attributes\":{\"items\":[{\"id\":\"4463\",\"type\":\"LegendItem\"},{\"id\":\"4477\",\"type\":\"LegendItem\"}]},\"id\":\"4462\",\"type\":\"Legend\"},{\"attributes\":{\"line_color\":\"red\",\"x\":{\"field\":\"x\"},\"y\":{\"field\":\"y\"}},\"id\":\"4465\",\"type\":\"Line\"},{\"attributes\":{},\"id\":\"4436\",\"type\":\"PanTool\"},{\"attributes\":{\"axis_label\":\"l(CNT) / nm\",\"formatter\":{\"id\":\"4459\",\"type\":\"BasicTickFormatter\"},\"ticker\":{\"id\":\"4427\",\"type\":\"BasicTicker\"}},\"id\":\"4426\",\"type\":\"LinearAxis\"},{\"attributes\":{\"line_alpha\":0.1,\"line_color\":\"#1f77b4\",\"x\":{\"field\":\"x\"},\"y\":{\"field\":\"y\"}},\"id\":\"4453\",\"type\":\"Line\"}],\"root_ids\":[\"4415\"]},\"title\":\"Bokeh Application\",\"version\":\"1.3.4\"}};\n",
       "  var render_items = [{\"docid\":\"f1eae9ef-803e-43ab-a5bf-9b464e18ade9\",\"roots\":{\"4415\":\"a3a2fa32-19c6-48da-af7f-f3a5efcf0c0a\"}}];\n",
       "  root.Bokeh.embed.embed_items_notebook(docs_json, render_items);\n",
       "\n",
       "  }\n",
       "  if (root.Bokeh !== undefined) {\n",
       "    embed_document(root);\n",
       "  } else {\n",
       "    var attempts = 0;\n",
       "    var timer = setInterval(function(root) {\n",
       "      if (root.Bokeh !== undefined) {\n",
       "        embed_document(root);\n",
       "        clearInterval(timer);\n",
       "      }\n",
       "      attempts++;\n",
       "      if (attempts > 100) {\n",
       "        console.log(\"Bokeh: ERROR: Unable to run BokehJS code because BokehJS library is missing\");\n",
       "        clearInterval(timer);\n",
       "      }\n",
       "    }, 10, root)\n",
       "  }\n",
       "})(window);"
      ],
      "application/vnd.bokehjs_exec.v0+json": ""
     },
     "metadata": {
      "application/vnd.bokehjs_exec.v0+json": {
       "id": "4415"
      }
     },
     "output_type": "display_data"
    }
   ],
   "source": [
    "plot = figure(title='Defect Density Relation, l = 300 nm', width=800, height=400)\n",
    "plot.add_tools(HoverTool())\n",
    "plot.line(Sim_woD_len_1.calc_dict['CNT_length'], Sim_woD_len_1.QY[:, 0], legend='E11* QY')\n",
    "plot.line(Sim_wD_len_1.calc_dict['CNT_length'], Sim_wD_len_1.QY[:, 0],\n",
    "             legend='E11* QY, k_E11*_r doubled',color='red')\n",
    "plot.xaxis.axis_label = 'l (CNT) / nm'\n",
    "plot.yaxis.axis_label = 'QY (E11*)'\n",
    "show(plot)"
   ]
  },
  {
   "cell_type": "code",
   "execution_count": 44,
   "metadata": {},
   "outputs": [
    {
     "data": {
      "text/html": [
       "\n",
       "\n",
       "\n",
       "\n",
       "\n",
       "\n",
       "  <div class=\"bk-root\" id=\"1d63f4b5-218f-4a77-be5d-b045b97cc7d6\" data-root-id=\"5011\"></div>\n"
      ]
     },
     "metadata": {},
     "output_type": "display_data"
    },
    {
     "data": {
      "application/javascript": [
       "(function(root) {\n",
       "  function embed_document(root) {\n",
       "    \n",
       "  var docs_json = {\"67244000-3179-4dd6-ad63-ab1b03af6df1\":{\"roots\":{\"references\":[{\"attributes\":{\"below\":[{\"id\":\"5022\",\"type\":\"LinearAxis\"}],\"center\":[{\"id\":\"5026\",\"type\":\"Grid\"},{\"id\":\"5031\",\"type\":\"Grid\"},{\"id\":\"5058\",\"type\":\"Legend\"}],\"left\":[{\"id\":\"5027\",\"type\":\"LinearAxis\"}],\"plot_height\":400,\"plot_width\":800,\"renderers\":[{\"id\":\"5050\",\"type\":\"GlyphRenderer\"},{\"id\":\"5063\",\"type\":\"GlyphRenderer\"}],\"title\":{\"id\":\"5012\",\"type\":\"Title\"},\"toolbar\":{\"id\":\"5038\",\"type\":\"Toolbar\"},\"x_range\":{\"id\":\"5014\",\"type\":\"DataRange1d\"},\"x_scale\":{\"id\":\"5018\",\"type\":\"LinearScale\"},\"y_range\":{\"id\":\"5016\",\"type\":\"DataRange1d\"},\"y_scale\":{\"id\":\"5020\",\"type\":\"LinearScale\"}},\"id\":\"5011\",\"subtype\":\"Figure\",\"type\":\"Plot\"},{\"attributes\":{\"source\":{\"id\":\"5047\",\"type\":\"ColumnDataSource\"}},\"id\":\"5051\",\"type\":\"CDSView\"},{\"attributes\":{\"line_color\":\"#1f77b4\",\"x\":{\"field\":\"x\"},\"y\":{\"field\":\"y\"}},\"id\":\"5048\",\"type\":\"Line\"},{\"attributes\":{},\"id\":\"5071\",\"type\":\"Selection\"},{\"attributes\":{\"items\":[{\"id\":\"5059\",\"type\":\"LegendItem\"},{\"id\":\"5073\",\"type\":\"LegendItem\"}]},\"id\":\"5058\",\"type\":\"Legend\"},{\"attributes\":{\"active_drag\":\"auto\",\"active_inspect\":\"auto\",\"active_multi\":null,\"active_scroll\":\"auto\",\"active_tap\":\"auto\",\"tools\":[{\"id\":\"5032\",\"type\":\"PanTool\"},{\"id\":\"5033\",\"type\":\"WheelZoomTool\"},{\"id\":\"5034\",\"type\":\"BoxZoomTool\"},{\"id\":\"5035\",\"type\":\"SaveTool\"},{\"id\":\"5036\",\"type\":\"ResetTool\"},{\"id\":\"5037\",\"type\":\"HelpTool\"},{\"id\":\"5045\",\"type\":\"HoverTool\"}]},\"id\":\"5038\",\"type\":\"Toolbar\"},{\"attributes\":{\"data_source\":{\"id\":\"5060\",\"type\":\"ColumnDataSource\"},\"glyph\":{\"id\":\"5061\",\"type\":\"Line\"},\"hover_glyph\":null,\"muted_glyph\":null,\"nonselection_glyph\":{\"id\":\"5062\",\"type\":\"Line\"},\"selection_glyph\":null,\"view\":{\"id\":\"5064\",\"type\":\"CDSView\"}},\"id\":\"5063\",\"type\":\"GlyphRenderer\"},{\"attributes\":{},\"id\":\"5032\",\"type\":\"PanTool\"},{\"attributes\":{\"callback\":null,\"data\":{\"x\":[30,60,90,120,150,200,300,800],\"y\":{\"__ndarray__\":\"AAAAAAAAAAAXt1E5AAAAABe3UTlvEoM6bxKDOhe30To=\",\"dtype\":\"float32\",\"shape\":[8]}},\"selected\":{\"id\":\"5262\",\"type\":\"Selection\"},\"selection_policy\":{\"id\":\"5261\",\"type\":\"UnionRenderers\"}},\"id\":\"5060\",\"type\":\"ColumnDataSource\"},{\"attributes\":{\"callback\":null},\"id\":\"5045\",\"type\":\"HoverTool\"},{\"attributes\":{},\"id\":\"5053\",\"type\":\"BasicTickFormatter\"},{\"attributes\":{},\"id\":\"5028\",\"type\":\"BasicTicker\"},{\"attributes\":{\"line_alpha\":0.1,\"line_color\":\"#1f77b4\",\"x\":{\"field\":\"x\"},\"y\":{\"field\":\"y\"}},\"id\":\"5049\",\"type\":\"Line\"},{\"attributes\":{\"overlay\":{\"id\":\"5057\",\"type\":\"BoxAnnotation\"}},\"id\":\"5034\",\"type\":\"BoxZoomTool\"},{\"attributes\":{\"line_color\":\"red\",\"x\":{\"field\":\"x\"},\"y\":{\"field\":\"y\"}},\"id\":\"5061\",\"type\":\"Line\"},{\"attributes\":{\"text\":\"Defect Density Relation, l = 300 nm\"},\"id\":\"5012\",\"type\":\"Title\"},{\"attributes\":{},\"id\":\"5035\",\"type\":\"SaveTool\"},{\"attributes\":{\"callback\":null,\"data\":{\"x\":[30,60,90,120,150,200,300,800],\"y\":{\"__ndarray__\":\"AAAAAAAAAAAAAAAAF7dRORe3UTkAAAAAF7dROWwJeTs=\",\"dtype\":\"float32\",\"shape\":[8]}},\"selected\":{\"id\":\"5071\",\"type\":\"Selection\"},\"selection_policy\":{\"id\":\"5070\",\"type\":\"UnionRenderers\"}},\"id\":\"5047\",\"type\":\"ColumnDataSource\"},{\"attributes\":{},\"id\":\"5261\",\"type\":\"UnionRenderers\"},{\"attributes\":{},\"id\":\"5020\",\"type\":\"LinearScale\"},{\"attributes\":{},\"id\":\"5055\",\"type\":\"BasicTickFormatter\"},{\"attributes\":{\"axis_label\":\"l(CNT) / nm\",\"formatter\":{\"id\":\"5055\",\"type\":\"BasicTickFormatter\"},\"ticker\":{\"id\":\"5023\",\"type\":\"BasicTicker\"}},\"id\":\"5022\",\"type\":\"LinearAxis\"},{\"attributes\":{\"label\":{\"value\":\"E11 QY, k_E11*_r doubled\"},\"renderers\":[{\"id\":\"5063\",\"type\":\"GlyphRenderer\"}]},\"id\":\"5073\",\"type\":\"LegendItem\"},{\"attributes\":{\"bottom_units\":\"screen\",\"fill_alpha\":{\"value\":0.5},\"fill_color\":{\"value\":\"lightgrey\"},\"left_units\":\"screen\",\"level\":\"overlay\",\"line_alpha\":{\"value\":1.0},\"line_color\":{\"value\":\"black\"},\"line_dash\":[4,4],\"line_width\":{\"value\":2},\"render_mode\":\"css\",\"right_units\":\"screen\",\"top_units\":\"screen\"},\"id\":\"5057\",\"type\":\"BoxAnnotation\"},{\"attributes\":{},\"id\":\"5037\",\"type\":\"HelpTool\"},{\"attributes\":{\"dimension\":1,\"ticker\":{\"id\":\"5028\",\"type\":\"BasicTicker\"}},\"id\":\"5031\",\"type\":\"Grid\"},{\"attributes\":{\"line_alpha\":0.1,\"line_color\":\"#1f77b4\",\"x\":{\"field\":\"x\"},\"y\":{\"field\":\"y\"}},\"id\":\"5062\",\"type\":\"Line\"},{\"attributes\":{\"label\":{\"value\":\"E11 QY\"},\"renderers\":[{\"id\":\"5050\",\"type\":\"GlyphRenderer\"}]},\"id\":\"5059\",\"type\":\"LegendItem\"},{\"attributes\":{},\"id\":\"5018\",\"type\":\"LinearScale\"},{\"attributes\":{\"callback\":null},\"id\":\"5014\",\"type\":\"DataRange1d\"},{\"attributes\":{\"ticker\":{\"id\":\"5023\",\"type\":\"BasicTicker\"}},\"id\":\"5026\",\"type\":\"Grid\"},{\"attributes\":{},\"id\":\"5070\",\"type\":\"UnionRenderers\"},{\"attributes\":{},\"id\":\"5262\",\"type\":\"Selection\"},{\"attributes\":{},\"id\":\"5033\",\"type\":\"WheelZoomTool\"},{\"attributes\":{},\"id\":\"5023\",\"type\":\"BasicTicker\"},{\"attributes\":{},\"id\":\"5036\",\"type\":\"ResetTool\"},{\"attributes\":{\"data_source\":{\"id\":\"5047\",\"type\":\"ColumnDataSource\"},\"glyph\":{\"id\":\"5048\",\"type\":\"Line\"},\"hover_glyph\":null,\"muted_glyph\":null,\"nonselection_glyph\":{\"id\":\"5049\",\"type\":\"Line\"},\"selection_glyph\":null,\"view\":{\"id\":\"5051\",\"type\":\"CDSView\"}},\"id\":\"5050\",\"type\":\"GlyphRenderer\"},{\"attributes\":{\"axis_label\":\"QY (E11)\",\"formatter\":{\"id\":\"5053\",\"type\":\"BasicTickFormatter\"},\"ticker\":{\"id\":\"5028\",\"type\":\"BasicTicker\"}},\"id\":\"5027\",\"type\":\"LinearAxis\"},{\"attributes\":{\"source\":{\"id\":\"5060\",\"type\":\"ColumnDataSource\"}},\"id\":\"5064\",\"type\":\"CDSView\"},{\"attributes\":{\"callback\":null},\"id\":\"5016\",\"type\":\"DataRange1d\"}],\"root_ids\":[\"5011\"]},\"title\":\"Bokeh Application\",\"version\":\"1.3.4\"}};\n",
       "  var render_items = [{\"docid\":\"67244000-3179-4dd6-ad63-ab1b03af6df1\",\"roots\":{\"5011\":\"1d63f4b5-218f-4a77-be5d-b045b97cc7d6\"}}];\n",
       "  root.Bokeh.embed.embed_items_notebook(docs_json, render_items);\n",
       "\n",
       "  }\n",
       "  if (root.Bokeh !== undefined) {\n",
       "    embed_document(root);\n",
       "  } else {\n",
       "    var attempts = 0;\n",
       "    var timer = setInterval(function(root) {\n",
       "      if (root.Bokeh !== undefined) {\n",
       "        embed_document(root);\n",
       "        clearInterval(timer);\n",
       "      }\n",
       "      attempts++;\n",
       "      if (attempts > 100) {\n",
       "        console.log(\"Bokeh: ERROR: Unable to run BokehJS code because BokehJS library is missing\");\n",
       "        clearInterval(timer);\n",
       "      }\n",
       "    }, 10, root)\n",
       "  }\n",
       "})(window);"
      ],
      "application/vnd.bokehjs_exec.v0+json": ""
     },
     "metadata": {
      "application/vnd.bokehjs_exec.v0+json": {
       "id": "5011"
      }
     },
     "output_type": "display_data"
    }
   ],
   "source": [
    "plot = figure(title='Defect Density Relation, l = 300 nm', width=800, height=400)\n",
    "plot.add_tools(HoverTool())\n",
    "plot.line(Sim_woD_len_1.calc_dict['CNT_length'], Sim_woD_len_1.QY[:, 1], legend='E11 QY')\n",
    "plot.line(Sim_wD_len_1.calc_dict['CNT_length'], Sim_wD_len_1.QY[:, 1],\n",
    "             legend='E11 QY, k_E11*_r doubled',color='red')\n",
    "plot.xaxis.axis_label = 'l(CNT) / nm'\n",
    "plot.yaxis.axis_label = 'QY (E11)'\n",
    "show(plot)"
   ]
  },
  {
   "cell_type": "code",
   "execution_count": null,
   "metadata": {},
   "outputs": [],
   "source": []
  }
 ],
 "metadata": {
  "kernelspec": {
   "display_name": "CNT-MC",
   "language": "python",
   "name": "cnt-mc"
  },
  "language_info": {
   "codemirror_mode": {
    "name": "ipython",
    "version": 3
   },
   "file_extension": ".py",
   "mimetype": "text/x-python",
   "name": "python",
   "nbconvert_exporter": "python",
   "pygments_lexer": "ipython3",
   "version": "3.7.6"
  }
 },
 "nbformat": 4,
 "nbformat_minor": 4
}
