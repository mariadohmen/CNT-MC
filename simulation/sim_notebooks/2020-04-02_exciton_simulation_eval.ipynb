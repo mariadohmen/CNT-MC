{
 "cells": [
  {
   "cell_type": "code",
   "execution_count": 2,
   "metadata": {},
   "outputs": [
    {
     "data": {
      "text/html": [
       "\n",
       "    <div class=\"bk-root\">\n",
       "        <a href=\"https://bokeh.pydata.org\" target=\"_blank\" class=\"bk-logo bk-logo-small bk-logo-notebook\"></a>\n",
       "        <span id=\"1001\">Loading BokehJS ...</span>\n",
       "    </div>"
      ]
     },
     "metadata": {},
     "output_type": "display_data"
    },
    {
     "data": {
      "application/javascript": [
       "\n",
       "(function(root) {\n",
       "  function now() {\n",
       "    return new Date();\n",
       "  }\n",
       "\n",
       "  var force = true;\n",
       "\n",
       "  if (typeof root._bokeh_onload_callbacks === \"undefined\" || force === true) {\n",
       "    root._bokeh_onload_callbacks = [];\n",
       "    root._bokeh_is_loading = undefined;\n",
       "  }\n",
       "\n",
       "  var JS_MIME_TYPE = 'application/javascript';\n",
       "  var HTML_MIME_TYPE = 'text/html';\n",
       "  var EXEC_MIME_TYPE = 'application/vnd.bokehjs_exec.v0+json';\n",
       "  var CLASS_NAME = 'output_bokeh rendered_html';\n",
       "\n",
       "  /**\n",
       "   * Render data to the DOM node\n",
       "   */\n",
       "  function render(props, node) {\n",
       "    var script = document.createElement(\"script\");\n",
       "    node.appendChild(script);\n",
       "  }\n",
       "\n",
       "  /**\n",
       "   * Handle when an output is cleared or removed\n",
       "   */\n",
       "  function handleClearOutput(event, handle) {\n",
       "    var cell = handle.cell;\n",
       "\n",
       "    var id = cell.output_area._bokeh_element_id;\n",
       "    var server_id = cell.output_area._bokeh_server_id;\n",
       "    // Clean up Bokeh references\n",
       "    if (id != null && id in Bokeh.index) {\n",
       "      Bokeh.index[id].model.document.clear();\n",
       "      delete Bokeh.index[id];\n",
       "    }\n",
       "\n",
       "    if (server_id !== undefined) {\n",
       "      // Clean up Bokeh references\n",
       "      var cmd = \"from bokeh.io.state import curstate; print(curstate().uuid_to_server['\" + server_id + \"'].get_sessions()[0].document.roots[0]._id)\";\n",
       "      cell.notebook.kernel.execute(cmd, {\n",
       "        iopub: {\n",
       "          output: function(msg) {\n",
       "            var id = msg.content.text.trim();\n",
       "            if (id in Bokeh.index) {\n",
       "              Bokeh.index[id].model.document.clear();\n",
       "              delete Bokeh.index[id];\n",
       "            }\n",
       "          }\n",
       "        }\n",
       "      });\n",
       "      // Destroy server and session\n",
       "      var cmd = \"import bokeh.io.notebook as ion; ion.destroy_server('\" + server_id + \"')\";\n",
       "      cell.notebook.kernel.execute(cmd);\n",
       "    }\n",
       "  }\n",
       "\n",
       "  /**\n",
       "   * Handle when a new output is added\n",
       "   */\n",
       "  function handleAddOutput(event, handle) {\n",
       "    var output_area = handle.output_area;\n",
       "    var output = handle.output;\n",
       "\n",
       "    // limit handleAddOutput to display_data with EXEC_MIME_TYPE content only\n",
       "    if ((output.output_type != \"display_data\") || (!output.data.hasOwnProperty(EXEC_MIME_TYPE))) {\n",
       "      return\n",
       "    }\n",
       "\n",
       "    var toinsert = output_area.element.find(\".\" + CLASS_NAME.split(' ')[0]);\n",
       "\n",
       "    if (output.metadata[EXEC_MIME_TYPE][\"id\"] !== undefined) {\n",
       "      toinsert[toinsert.length - 1].firstChild.textContent = output.data[JS_MIME_TYPE];\n",
       "      // store reference to embed id on output_area\n",
       "      output_area._bokeh_element_id = output.metadata[EXEC_MIME_TYPE][\"id\"];\n",
       "    }\n",
       "    if (output.metadata[EXEC_MIME_TYPE][\"server_id\"] !== undefined) {\n",
       "      var bk_div = document.createElement(\"div\");\n",
       "      bk_div.innerHTML = output.data[HTML_MIME_TYPE];\n",
       "      var script_attrs = bk_div.children[0].attributes;\n",
       "      for (var i = 0; i < script_attrs.length; i++) {\n",
       "        toinsert[toinsert.length - 1].firstChild.setAttribute(script_attrs[i].name, script_attrs[i].value);\n",
       "      }\n",
       "      // store reference to server id on output_area\n",
       "      output_area._bokeh_server_id = output.metadata[EXEC_MIME_TYPE][\"server_id\"];\n",
       "    }\n",
       "  }\n",
       "\n",
       "  function register_renderer(events, OutputArea) {\n",
       "\n",
       "    function append_mime(data, metadata, element) {\n",
       "      // create a DOM node to render to\n",
       "      var toinsert = this.create_output_subarea(\n",
       "        metadata,\n",
       "        CLASS_NAME,\n",
       "        EXEC_MIME_TYPE\n",
       "      );\n",
       "      this.keyboard_manager.register_events(toinsert);\n",
       "      // Render to node\n",
       "      var props = {data: data, metadata: metadata[EXEC_MIME_TYPE]};\n",
       "      render(props, toinsert[toinsert.length - 1]);\n",
       "      element.append(toinsert);\n",
       "      return toinsert\n",
       "    }\n",
       "\n",
       "    /* Handle when an output is cleared or removed */\n",
       "    events.on('clear_output.CodeCell', handleClearOutput);\n",
       "    events.on('delete.Cell', handleClearOutput);\n",
       "\n",
       "    /* Handle when a new output is added */\n",
       "    events.on('output_added.OutputArea', handleAddOutput);\n",
       "\n",
       "    /**\n",
       "     * Register the mime type and append_mime function with output_area\n",
       "     */\n",
       "    OutputArea.prototype.register_mime_type(EXEC_MIME_TYPE, append_mime, {\n",
       "      /* Is output safe? */\n",
       "      safe: true,\n",
       "      /* Index of renderer in `output_area.display_order` */\n",
       "      index: 0\n",
       "    });\n",
       "  }\n",
       "\n",
       "  // register the mime type if in Jupyter Notebook environment and previously unregistered\n",
       "  if (root.Jupyter !== undefined) {\n",
       "    var events = require('base/js/events');\n",
       "    var OutputArea = require('notebook/js/outputarea').OutputArea;\n",
       "\n",
       "    if (OutputArea.prototype.mime_types().indexOf(EXEC_MIME_TYPE) == -1) {\n",
       "      register_renderer(events, OutputArea);\n",
       "    }\n",
       "  }\n",
       "\n",
       "  \n",
       "  if (typeof (root._bokeh_timeout) === \"undefined\" || force === true) {\n",
       "    root._bokeh_timeout = Date.now() + 5000;\n",
       "    root._bokeh_failed_load = false;\n",
       "  }\n",
       "\n",
       "  var NB_LOAD_WARNING = {'data': {'text/html':\n",
       "     \"<div style='background-color: #fdd'>\\n\"+\n",
       "     \"<p>\\n\"+\n",
       "     \"BokehJS does not appear to have successfully loaded. If loading BokehJS from CDN, this \\n\"+\n",
       "     \"may be due to a slow or bad network connection. Possible fixes:\\n\"+\n",
       "     \"</p>\\n\"+\n",
       "     \"<ul>\\n\"+\n",
       "     \"<li>re-rerun `output_notebook()` to attempt to load from CDN again, or</li>\\n\"+\n",
       "     \"<li>use INLINE resources instead, as so:</li>\\n\"+\n",
       "     \"</ul>\\n\"+\n",
       "     \"<code>\\n\"+\n",
       "     \"from bokeh.resources import INLINE\\n\"+\n",
       "     \"output_notebook(resources=INLINE)\\n\"+\n",
       "     \"</code>\\n\"+\n",
       "     \"</div>\"}};\n",
       "\n",
       "  function display_loaded() {\n",
       "    var el = document.getElementById(\"1001\");\n",
       "    if (el != null) {\n",
       "      el.textContent = \"BokehJS is loading...\";\n",
       "    }\n",
       "    if (root.Bokeh !== undefined) {\n",
       "      if (el != null) {\n",
       "        el.textContent = \"BokehJS \" + root.Bokeh.version + \" successfully loaded.\";\n",
       "      }\n",
       "    } else if (Date.now() < root._bokeh_timeout) {\n",
       "      setTimeout(display_loaded, 100)\n",
       "    }\n",
       "  }\n",
       "\n",
       "\n",
       "  function run_callbacks() {\n",
       "    try {\n",
       "      root._bokeh_onload_callbacks.forEach(function(callback) {\n",
       "        if (callback != null)\n",
       "          callback();\n",
       "      });\n",
       "    } finally {\n",
       "      delete root._bokeh_onload_callbacks\n",
       "    }\n",
       "    console.debug(\"Bokeh: all callbacks have finished\");\n",
       "  }\n",
       "\n",
       "  function load_libs(css_urls, js_urls, callback) {\n",
       "    if (css_urls == null) css_urls = [];\n",
       "    if (js_urls == null) js_urls = [];\n",
       "\n",
       "    root._bokeh_onload_callbacks.push(callback);\n",
       "    if (root._bokeh_is_loading > 0) {\n",
       "      console.debug(\"Bokeh: BokehJS is being loaded, scheduling callback at\", now());\n",
       "      return null;\n",
       "    }\n",
       "    if (js_urls == null || js_urls.length === 0) {\n",
       "      run_callbacks();\n",
       "      return null;\n",
       "    }\n",
       "    console.debug(\"Bokeh: BokehJS not loaded, scheduling load and callback at\", now());\n",
       "    root._bokeh_is_loading = css_urls.length + js_urls.length;\n",
       "\n",
       "    function on_load() {\n",
       "      root._bokeh_is_loading--;\n",
       "      if (root._bokeh_is_loading === 0) {\n",
       "        console.debug(\"Bokeh: all BokehJS libraries/stylesheets loaded\");\n",
       "        run_callbacks()\n",
       "      }\n",
       "    }\n",
       "\n",
       "    function on_error() {\n",
       "      console.error(\"failed to load \" + url);\n",
       "    }\n",
       "\n",
       "    for (var i = 0; i < css_urls.length; i++) {\n",
       "      var url = css_urls[i];\n",
       "      const element = document.createElement(\"link\");\n",
       "      element.onload = on_load;\n",
       "      element.onerror = on_error;\n",
       "      element.rel = \"stylesheet\";\n",
       "      element.type = \"text/css\";\n",
       "      element.href = url;\n",
       "      console.debug(\"Bokeh: injecting link tag for BokehJS stylesheet: \", url);\n",
       "      document.body.appendChild(element);\n",
       "    }\n",
       "\n",
       "    for (var i = 0; i < js_urls.length; i++) {\n",
       "      var url = js_urls[i];\n",
       "      var element = document.createElement('script');\n",
       "      element.onload = on_load;\n",
       "      element.onerror = on_error;\n",
       "      element.async = false;\n",
       "      element.src = url;\n",
       "      console.debug(\"Bokeh: injecting script tag for BokehJS library: \", url);\n",
       "      document.head.appendChild(element);\n",
       "    }\n",
       "  };var element = document.getElementById(\"1001\");\n",
       "  if (element == null) {\n",
       "    console.error(\"Bokeh: ERROR: autoload.js configured with elementid '1001' but no matching script tag was found. \")\n",
       "    return false;\n",
       "  }\n",
       "\n",
       "  function inject_raw_css(css) {\n",
       "    const element = document.createElement(\"style\");\n",
       "    element.appendChild(document.createTextNode(css));\n",
       "    document.body.appendChild(element);\n",
       "  }\n",
       "\n",
       "  var js_urls = [\"https://cdn.pydata.org/bokeh/release/bokeh-1.3.4.min.js\", \"https://cdn.pydata.org/bokeh/release/bokeh-widgets-1.3.4.min.js\", \"https://cdn.pydata.org/bokeh/release/bokeh-tables-1.3.4.min.js\", \"https://cdn.pydata.org/bokeh/release/bokeh-gl-1.3.4.min.js\"];\n",
       "  var css_urls = [];\n",
       "\n",
       "  var inline_js = [\n",
       "    function(Bokeh) {\n",
       "      Bokeh.set_log_level(\"info\");\n",
       "    },\n",
       "    \n",
       "    function(Bokeh) {\n",
       "      \n",
       "    },\n",
       "    function(Bokeh) {} // ensure no trailing comma for IE\n",
       "  ];\n",
       "\n",
       "  function run_inline_js() {\n",
       "    \n",
       "    if ((root.Bokeh !== undefined) || (force === true)) {\n",
       "      for (var i = 0; i < inline_js.length; i++) {\n",
       "        inline_js[i].call(root, root.Bokeh);\n",
       "      }if (force === true) {\n",
       "        display_loaded();\n",
       "      }} else if (Date.now() < root._bokeh_timeout) {\n",
       "      setTimeout(run_inline_js, 100);\n",
       "    } else if (!root._bokeh_failed_load) {\n",
       "      console.log(\"Bokeh: BokehJS failed to load within specified timeout.\");\n",
       "      root._bokeh_failed_load = true;\n",
       "    } else if (force !== true) {\n",
       "      var cell = $(document.getElementById(\"1001\")).parents('.cell').data().cell;\n",
       "      cell.output_area.append_execute_result(NB_LOAD_WARNING)\n",
       "    }\n",
       "\n",
       "  }\n",
       "\n",
       "  if (root._bokeh_is_loading === 0) {\n",
       "    console.debug(\"Bokeh: BokehJS loaded, going straight to plotting\");\n",
       "    run_inline_js();\n",
       "  } else {\n",
       "    load_libs(css_urls, js_urls, function() {\n",
       "      console.debug(\"Bokeh: BokehJS plotting callback run at\", now());\n",
       "      run_inline_js();\n",
       "    });\n",
       "  }\n",
       "}(window));"
      ],
      "application/vnd.bokehjs_load.v0+json": "\n(function(root) {\n  function now() {\n    return new Date();\n  }\n\n  var force = true;\n\n  if (typeof root._bokeh_onload_callbacks === \"undefined\" || force === true) {\n    root._bokeh_onload_callbacks = [];\n    root._bokeh_is_loading = undefined;\n  }\n\n  \n\n  \n  if (typeof (root._bokeh_timeout) === \"undefined\" || force === true) {\n    root._bokeh_timeout = Date.now() + 5000;\n    root._bokeh_failed_load = false;\n  }\n\n  var NB_LOAD_WARNING = {'data': {'text/html':\n     \"<div style='background-color: #fdd'>\\n\"+\n     \"<p>\\n\"+\n     \"BokehJS does not appear to have successfully loaded. If loading BokehJS from CDN, this \\n\"+\n     \"may be due to a slow or bad network connection. Possible fixes:\\n\"+\n     \"</p>\\n\"+\n     \"<ul>\\n\"+\n     \"<li>re-rerun `output_notebook()` to attempt to load from CDN again, or</li>\\n\"+\n     \"<li>use INLINE resources instead, as so:</li>\\n\"+\n     \"</ul>\\n\"+\n     \"<code>\\n\"+\n     \"from bokeh.resources import INLINE\\n\"+\n     \"output_notebook(resources=INLINE)\\n\"+\n     \"</code>\\n\"+\n     \"</div>\"}};\n\n  function display_loaded() {\n    var el = document.getElementById(\"1001\");\n    if (el != null) {\n      el.textContent = \"BokehJS is loading...\";\n    }\n    if (root.Bokeh !== undefined) {\n      if (el != null) {\n        el.textContent = \"BokehJS \" + root.Bokeh.version + \" successfully loaded.\";\n      }\n    } else if (Date.now() < root._bokeh_timeout) {\n      setTimeout(display_loaded, 100)\n    }\n  }\n\n\n  function run_callbacks() {\n    try {\n      root._bokeh_onload_callbacks.forEach(function(callback) {\n        if (callback != null)\n          callback();\n      });\n    } finally {\n      delete root._bokeh_onload_callbacks\n    }\n    console.debug(\"Bokeh: all callbacks have finished\");\n  }\n\n  function load_libs(css_urls, js_urls, callback) {\n    if (css_urls == null) css_urls = [];\n    if (js_urls == null) js_urls = [];\n\n    root._bokeh_onload_callbacks.push(callback);\n    if (root._bokeh_is_loading > 0) {\n      console.debug(\"Bokeh: BokehJS is being loaded, scheduling callback at\", now());\n      return null;\n    }\n    if (js_urls == null || js_urls.length === 0) {\n      run_callbacks();\n      return null;\n    }\n    console.debug(\"Bokeh: BokehJS not loaded, scheduling load and callback at\", now());\n    root._bokeh_is_loading = css_urls.length + js_urls.length;\n\n    function on_load() {\n      root._bokeh_is_loading--;\n      if (root._bokeh_is_loading === 0) {\n        console.debug(\"Bokeh: all BokehJS libraries/stylesheets loaded\");\n        run_callbacks()\n      }\n    }\n\n    function on_error() {\n      console.error(\"failed to load \" + url);\n    }\n\n    for (var i = 0; i < css_urls.length; i++) {\n      var url = css_urls[i];\n      const element = document.createElement(\"link\");\n      element.onload = on_load;\n      element.onerror = on_error;\n      element.rel = \"stylesheet\";\n      element.type = \"text/css\";\n      element.href = url;\n      console.debug(\"Bokeh: injecting link tag for BokehJS stylesheet: \", url);\n      document.body.appendChild(element);\n    }\n\n    for (var i = 0; i < js_urls.length; i++) {\n      var url = js_urls[i];\n      var element = document.createElement('script');\n      element.onload = on_load;\n      element.onerror = on_error;\n      element.async = false;\n      element.src = url;\n      console.debug(\"Bokeh: injecting script tag for BokehJS library: \", url);\n      document.head.appendChild(element);\n    }\n  };var element = document.getElementById(\"1001\");\n  if (element == null) {\n    console.error(\"Bokeh: ERROR: autoload.js configured with elementid '1001' but no matching script tag was found. \")\n    return false;\n  }\n\n  function inject_raw_css(css) {\n    const element = document.createElement(\"style\");\n    element.appendChild(document.createTextNode(css));\n    document.body.appendChild(element);\n  }\n\n  var js_urls = [\"https://cdn.pydata.org/bokeh/release/bokeh-1.3.4.min.js\", \"https://cdn.pydata.org/bokeh/release/bokeh-widgets-1.3.4.min.js\", \"https://cdn.pydata.org/bokeh/release/bokeh-tables-1.3.4.min.js\", \"https://cdn.pydata.org/bokeh/release/bokeh-gl-1.3.4.min.js\"];\n  var css_urls = [];\n\n  var inline_js = [\n    function(Bokeh) {\n      Bokeh.set_log_level(\"info\");\n    },\n    \n    function(Bokeh) {\n      \n    },\n    function(Bokeh) {} // ensure no trailing comma for IE\n  ];\n\n  function run_inline_js() {\n    \n    if ((root.Bokeh !== undefined) || (force === true)) {\n      for (var i = 0; i < inline_js.length; i++) {\n        inline_js[i].call(root, root.Bokeh);\n      }if (force === true) {\n        display_loaded();\n      }} else if (Date.now() < root._bokeh_timeout) {\n      setTimeout(run_inline_js, 100);\n    } else if (!root._bokeh_failed_load) {\n      console.log(\"Bokeh: BokehJS failed to load within specified timeout.\");\n      root._bokeh_failed_load = true;\n    } else if (force !== true) {\n      var cell = $(document.getElementById(\"1001\")).parents('.cell').data().cell;\n      cell.output_area.append_execute_result(NB_LOAD_WARNING)\n    }\n\n  }\n\n  if (root._bokeh_is_loading === 0) {\n    console.debug(\"Bokeh: BokehJS loaded, going straight to plotting\");\n    run_inline_js();\n  } else {\n    load_libs(css_urls, js_urls, function() {\n      console.debug(\"Bokeh: BokehJS plotting callback run at\", now());\n      run_inline_js();\n    });\n  }\n}(window));"
     },
     "metadata": {},
     "output_type": "display_data"
    }
   ],
   "source": [
    "# %load quick_imports.txt\n",
    "# %load quick_imports.txt\n",
    "import random\n",
    "import sys\n",
    "\n",
    "import numpy as np\n",
    "import matplotlib.pyplot as plt\n",
    "\n",
    "# Bokeh imports\n",
    "from bokeh.io import output_notebook, show, save\n",
    "from bokeh.plotting import figure, output_file, ColumnDataSource, reset_output\n",
    "from bokeh.models import HoverTool\n",
    "output_notebook()\n",
    "\n",
    "from ipywidgets.widgets import Text\n",
    "\n",
    "#scipy constants\n",
    "from scipy.constants import Boltzmann as kB\n",
    "from scipy.constants import Avogadro as NA\n",
    "from scipy.constants import Planck as h\n",
    "from scipy.constants import speed_of_light as c0\n",
    "from scipy.constants import R\n",
    "\n",
    "sys.path.append('../CNT-SIM/')\n",
    "from CNTSimFile import CNTSimFile\n",
    "from mc_sim import exciton_walk, exciton_simulation"
   ]
  },
  {
   "cell_type": "code",
   "execution_count": 3,
   "metadata": {},
   "outputs": [],
   "source": [
    "k_d_r_per_s = 2.5e09  # constant for radiativ decay from E11*\n",
    "k_r_per_s = 1.5e10  # constant for radiativ decay from E11\n",
    "k_d_nr_per_s = 5e09  # constant for non-radiativ decay from E11*\n",
    "k_nr_per_s = 5e09  # constant of non-radiativ decay from E11\n",
    "# termal detrapping 10.1021/acs.jpclett.8b03732\n",
    "k_dt_per_s = 0.5 * (1e12/ 385 + 1e12/ 1132) + 0.1e12 * np.exp(-1.6182e-11 / (kB * 300))"
   ]
  },
  {
   "cell_type": "code",
   "execution_count": 4,
   "metadata": {},
   "outputs": [],
   "source": [
    "kin_const_0 = [k_d_r_per_s, k_r_per_s, k_d_nr_per_s, k_nr_per_s, k_dt_per_s]"
   ]
  },
  {
   "cell_type": "code",
   "execution_count": 5,
   "metadata": {
    "scrolled": true
   },
   "outputs": [
    {
     "name": "stdout",
     "output_type": "stream",
     "text": [
      "Existing file loaded successfully.\n"
     ]
    },
    {
     "name": "stderr",
     "output_type": "stream",
     "text": [
      "../CNT-SIM/CNTSimFile.py:26: UserWarning: File already exists, kinetic constants ingored.\n",
      "  warn(\"File already exists, kinetic constants ingored.\")\n"
     ]
    }
   ],
   "source": [
    "exc_sim_def_1 = CNTSimFile('../sim_output/2020-04-02_exc_sim-def_1.h5', kin_const_0)"
   ]
  },
  {
   "cell_type": "code",
   "execution_count": 9,
   "metadata": {},
   "outputs": [
    {
     "name": "stdout",
     "output_type": "stream",
     "text": [
      "Existing file loaded successfully.\n"
     ]
    },
    {
     "name": "stderr",
     "output_type": "stream",
     "text": [
      "../CNT-SIM/CNTSimFile.py:26: UserWarning: File already exists, kinetic constants ingored.\n",
      "  warn(\"File already exists, kinetic constants ingored.\")\n"
     ]
    }
   ],
   "source": [
    "exc_sim_len_1 = CNTSimFile('../sim_output/2020-04-02_exc_sim-len_1.h5', kin_const_0)"
   ]
  },
  {
   "cell_type": "code",
   "execution_count": 6,
   "metadata": {
    "scrolled": false
   },
   "outputs": [
    {
     "name": "stdout",
     "output_type": "stream",
     "text": [
      "Existing file loaded successfully.\n"
     ]
    }
   ],
   "source": [
    "exc_sim_def_2 = CNTSimFile('../sim_output/2020-04-02_exc_sim-def_2.h5', kin_const_0)"
   ]
  },
  {
   "cell_type": "code",
   "execution_count": 10,
   "metadata": {
    "scrolled": true
   },
   "outputs": [
    {
     "name": "stdout",
     "output_type": "stream",
     "text": [
      "Existing file loaded successfully.\n"
     ]
    }
   ],
   "source": [
    "exc_sim_len_2 = CNTSimFile('../sim_output/2020-04-02_exc_sim-len_2.h5', kin_const_0)"
   ]
  },
  {
   "cell_type": "code",
   "execution_count": 12,
   "metadata": {},
   "outputs": [
    {
     "name": "stdout",
     "output_type": "stream",
     "text": [
      "Existing file loaded successfully.\n"
     ]
    }
   ],
   "source": [
    "exc_sim_def_3 = CNTSimFile('../sim_output/2020-04-02_exc_sim-def_3.h5', kin_const_0)"
   ]
  },
  {
   "cell_type": "code",
   "execution_count": 11,
   "metadata": {},
   "outputs": [
    {
     "name": "stdout",
     "output_type": "stream",
     "text": [
      "Existing file loaded successfully.\n"
     ]
    }
   ],
   "source": [
    "exc_sim_len_3 = CNTSimFile('../sim_output/2020-04-02_exc_sim-len_3.h5', kin_const_0)"
   ]
  },
  {
   "cell_type": "code",
   "execution_count": 14,
   "metadata": {},
   "outputs": [
    {
     "name": "stdout",
     "output_type": "stream",
     "text": [
      "Existing file loaded successfully.\n"
     ]
    }
   ],
   "source": [
    "exc_sim_def_4 = CNTSimFile('../sim_output/2020-04-02_exc_sim-def_4.h5', kin_const_0)"
   ]
  },
  {
   "cell_type": "code",
   "execution_count": 13,
   "metadata": {},
   "outputs": [
    {
     "name": "stdout",
     "output_type": "stream",
     "text": [
      "Existing file loaded successfully.\n"
     ]
    }
   ],
   "source": [
    "exc_sim_len_4 = CNTSimFile('../sim_output/2020-04-02_exc_sim-len_4.h5', kin_const_0)"
   ]
  },
  {
   "cell_type": "code",
   "execution_count": 16,
   "metadata": {
    "scrolled": true
   },
   "outputs": [
    {
     "name": "stdout",
     "output_type": "stream",
     "text": [
      "Existing file loaded successfully.\n"
     ]
    },
    {
     "name": "stderr",
     "output_type": "stream",
     "text": [
      "../CNT-SIM/CNTSimFile.py:26: UserWarning: File already exists, kinetic constants ingored.\n",
      "  warn(\"File already exists, kinetic constants ingored.\")\n"
     ]
    }
   ],
   "source": [
    "exc_sim_def_5 = CNTSimFile('../sim_output/2020-04-02_exc_sim-def_5.h5', kin_const_0)"
   ]
  },
  {
   "cell_type": "code",
   "execution_count": 17,
   "metadata": {},
   "outputs": [
    {
     "name": "stdout",
     "output_type": "stream",
     "text": [
      "Existing file loaded successfully.\n"
     ]
    }
   ],
   "source": [
    "exc_sim_len_5 = CNTSimFile('../sim_output/2020-04-02_exc_sim-len_5.h5', kin_const_0)"
   ]
  },
  {
   "cell_type": "code",
   "execution_count": 19,
   "metadata": {},
   "outputs": [
    {
     "name": "stdout",
     "output_type": "stream",
     "text": [
      "Existing file loaded successfully.\n"
     ]
    },
    {
     "name": "stderr",
     "output_type": "stream",
     "text": [
      "../CNT-SIM/CNTSimFile.py:26: UserWarning: File already exists, kinetic constants ingored.\n",
      "  warn(\"File already exists, kinetic constants ingored.\")\n"
     ]
    }
   ],
   "source": [
    "exc_sim_def_6 = CNTSimFile('../sim_output/2020-04-02_exc_sim-def_6.h5', kin_const_0)"
   ]
  },
  {
   "cell_type": "code",
   "execution_count": 20,
   "metadata": {},
   "outputs": [
    {
     "name": "stdout",
     "output_type": "stream",
     "text": [
      "Existing file loaded successfully.\n"
     ]
    }
   ],
   "source": [
    "exc_sim_len_6 = CNTSimFile('../sim_output/2020-04-02_exc_sim-len_6.h5', kin_const_0)"
   ]
  },
  {
   "cell_type": "code",
   "execution_count": 66,
   "metadata": {},
   "outputs": [
    {
     "name": "stdout",
     "output_type": "stream",
     "text": [
      "Existing file loaded successfully.\n"
     ]
    },
    {
     "name": "stderr",
     "output_type": "stream",
     "text": [
      "../CNT-SIM/CNTSimFile.py:26: UserWarning: File already exists, kinetic constants ingored.\n",
      "  warn(\"File already exists, kinetic constants ingored.\")\n"
     ]
    }
   ],
   "source": [
    "exc_sim_def_7 = CNTSimFile('../sim_output/2020-04-02_exc_sim-def_7.h5', kin_const_0)"
   ]
  },
  {
   "cell_type": "code",
   "execution_count": 81,
   "metadata": {},
   "outputs": [
    {
     "name": "stdout",
     "output_type": "stream",
     "text": [
      "Existing file loaded successfully.\n"
     ]
    }
   ],
   "source": [
    "exc_sim_len_7 = CNTSimFile('../sim_output/2020-04-02_exc_sim-len_7.h5', kin_const_0)"
   ]
  },
  {
   "cell_type": "code",
   "execution_count": 68,
   "metadata": {},
   "outputs": [],
   "source": [
    "defect_calc = [exc_sim_def_1, exc_sim_def_2, exc_sim_def_3, exc_sim_def_4]\n",
    "color_list = np.array(['blue', 'red', 'green', 'gold', 'black'])"
   ]
  },
  {
   "cell_type": "markdown",
   "metadata": {},
   "source": [
    "# Variation of radiative E11* decay"
   ]
  },
  {
   "cell_type": "code",
   "execution_count": 86,
   "metadata": {},
   "outputs": [
    {
     "data": {
      "text/plain": [
       "array([2.5000000e+09, 1.5000001e+10, 5.0000000e+09, 5.0000000e+09,\n",
       "       1.7403974e+09], dtype=float32)"
      ]
     },
     "execution_count": 86,
     "metadata": {},
     "output_type": "execute_result"
    }
   ],
   "source": [
    "exc_sim_def_1.kin_const"
   ]
  },
  {
   "cell_type": "code",
   "execution_count": 58,
   "metadata": {
    "scrolled": false
   },
   "outputs": [
    {
     "data": {
      "text/html": [
       "\n",
       "\n",
       "\n",
       "\n",
       "\n",
       "\n",
       "  <div class=\"bk-root\" id=\"71df0577-18ea-45e3-bae7-dbff2415a2c0\" data-root-id=\"3834\"></div>\n"
      ]
     },
     "metadata": {},
     "output_type": "display_data"
    },
    {
     "data": {
      "application/javascript": [
       "(function(root) {\n",
       "  function embed_document(root) {\n",
       "    \n",
       "  var docs_json = {\"867091fe-36fe-44f4-82a9-86113faf719c\":{\"roots\":{\"references\":[{\"attributes\":{\"below\":[{\"id\":\"3845\",\"type\":\"LinearAxis\"}],\"center\":[{\"id\":\"3849\",\"type\":\"Grid\"},{\"id\":\"3854\",\"type\":\"Grid\"},{\"id\":\"3881\",\"type\":\"Legend\"}],\"left\":[{\"id\":\"3850\",\"type\":\"LinearAxis\"}],\"plot_height\":400,\"plot_width\":800,\"renderers\":[{\"id\":\"3873\",\"type\":\"GlyphRenderer\"},{\"id\":\"3886\",\"type\":\"GlyphRenderer\"},{\"id\":\"3900\",\"type\":\"GlyphRenderer\"},{\"id\":\"3916\",\"type\":\"GlyphRenderer\"}],\"title\":{\"id\":\"3835\",\"type\":\"Title\"},\"toolbar\":{\"id\":\"3861\",\"type\":\"Toolbar\"},\"x_range\":{\"id\":\"3837\",\"type\":\"DataRange1d\"},\"x_scale\":{\"id\":\"3841\",\"type\":\"LinearScale\"},\"y_range\":{\"id\":\"3839\",\"type\":\"DataRange1d\"},\"y_scale\":{\"id\":\"3843\",\"type\":\"LinearScale\"}},\"id\":\"3834\",\"subtype\":\"Figure\",\"type\":\"Plot\"},{\"attributes\":{\"data_source\":{\"id\":\"3897\",\"type\":\"ColumnDataSource\"},\"glyph\":{\"id\":\"3898\",\"type\":\"Line\"},\"hover_glyph\":null,\"muted_glyph\":null,\"nonselection_glyph\":{\"id\":\"3899\",\"type\":\"Line\"},\"selection_glyph\":null,\"view\":{\"id\":\"3901\",\"type\":\"CDSView\"}},\"id\":\"3900\",\"type\":\"GlyphRenderer\"},{\"attributes\":{},\"id\":\"3895\",\"type\":\"UnionRenderers\"},{\"attributes\":{\"ticker\":{\"id\":\"3846\",\"type\":\"BasicTicker\"}},\"id\":\"3849\",\"type\":\"Grid\"},{\"attributes\":{\"label\":{\"value\":\"k(E11*) = 5.e+09\"},\"renderers\":[{\"id\":\"3886\",\"type\":\"GlyphRenderer\"}]},\"id\":\"3896\",\"type\":\"LegendItem\"},{\"attributes\":{\"callback\":null,\"data\":{\"x\":[0,5,10,20,30,150],\"y\":{\"__ndarray__\":\"AAAAAI/k8j1KDAI+/yH9PWlv8D1kXVw9\",\"dtype\":\"float32\",\"shape\":[6]}},\"selected\":{\"id\":\"3894\",\"type\":\"Selection\"},\"selection_policy\":{\"id\":\"3895\",\"type\":\"UnionRenderers\"}},\"id\":\"3870\",\"type\":\"ColumnDataSource\"},{\"attributes\":{},\"id\":\"3910\",\"type\":\"Selection\"},{\"attributes\":{\"axis_label\":\"QY (E11*)\",\"formatter\":{\"id\":\"3876\",\"type\":\"BasicTickFormatter\"},\"ticker\":{\"id\":\"3851\",\"type\":\"BasicTicker\"}},\"id\":\"3850\",\"type\":\"LinearAxis\"},{\"attributes\":{\"label\":{\"value\":\"k(E11*) = 3.5e+09\"},\"renderers\":[{\"id\":\"3916\",\"type\":\"GlyphRenderer\"}]},\"id\":\"3930\",\"type\":\"LegendItem\"},{\"attributes\":{},\"id\":\"3856\",\"type\":\"WheelZoomTool\"},{\"attributes\":{},\"id\":\"3859\",\"type\":\"ResetTool\"},{\"attributes\":{},\"id\":\"3858\",\"type\":\"SaveTool\"},{\"attributes\":{\"items\":[{\"id\":\"3882\",\"type\":\"LegendItem\"},{\"id\":\"3896\",\"type\":\"LegendItem\"},{\"id\":\"3912\",\"type\":\"LegendItem\"},{\"id\":\"3930\",\"type\":\"LegendItem\"}]},\"id\":\"3881\",\"type\":\"Legend\"},{\"attributes\":{},\"id\":\"3855\",\"type\":\"PanTool\"},{\"attributes\":{\"source\":{\"id\":\"3883\",\"type\":\"ColumnDataSource\"}},\"id\":\"3887\",\"type\":\"CDSView\"},{\"attributes\":{\"callback\":null,\"data\":{\"x\":[0,5,10,20,30,150],\"y\":{\"__ndarray__\":\"AAAAAEtZBjxvEgM8w2QqPEtZBjwK16M7\",\"dtype\":\"float32\",\"shape\":[6]}},\"selected\":{\"id\":\"3928\",\"type\":\"Selection\"},\"selection_policy\":{\"id\":\"3929\",\"type\":\"UnionRenderers\"}},\"id\":\"3897\",\"type\":\"ColumnDataSource\"},{\"attributes\":{},\"id\":\"3851\",\"type\":\"BasicTicker\"},{\"attributes\":{\"line_color\":\"blue\",\"x\":{\"field\":\"x\"},\"y\":{\"field\":\"y\"}},\"id\":\"3871\",\"type\":\"Line\"},{\"attributes\":{\"data_source\":{\"id\":\"3883\",\"type\":\"ColumnDataSource\"},\"glyph\":{\"id\":\"3884\",\"type\":\"Line\"},\"hover_glyph\":null,\"muted_glyph\":null,\"nonselection_glyph\":{\"id\":\"3885\",\"type\":\"Line\"},\"selection_glyph\":null,\"view\":{\"id\":\"3887\",\"type\":\"CDSView\"}},\"id\":\"3886\",\"type\":\"GlyphRenderer\"},{\"attributes\":{},\"id\":\"3876\",\"type\":\"BasicTickFormatter\"},{\"attributes\":{\"label\":{\"value\":\"k(E11*) = 2.5e+09\"},\"renderers\":[{\"id\":\"3873\",\"type\":\"GlyphRenderer\"}]},\"id\":\"3882\",\"type\":\"LegendItem\"},{\"attributes\":{\"line_alpha\":0.1,\"line_color\":\"#1f77b4\",\"x\":{\"field\":\"x\"},\"y\":{\"field\":\"y\"}},\"id\":\"3899\",\"type\":\"Line\"},{\"attributes\":{},\"id\":\"3860\",\"type\":\"HelpTool\"},{\"attributes\":{},\"id\":\"4087\",\"type\":\"Selection\"},{\"attributes\":{\"axis_label\":\"N (defects)\",\"formatter\":{\"id\":\"3878\",\"type\":\"BasicTickFormatter\"},\"ticker\":{\"id\":\"3846\",\"type\":\"BasicTicker\"}},\"id\":\"3845\",\"type\":\"LinearAxis\"},{\"attributes\":{},\"id\":\"3894\",\"type\":\"Selection\"},{\"attributes\":{\"callback\":null},\"id\":\"3868\",\"type\":\"HoverTool\"},{\"attributes\":{\"line_color\":\"red\",\"x\":{\"field\":\"x\"},\"y\":{\"field\":\"y\"}},\"id\":\"3884\",\"type\":\"Line\"},{\"attributes\":{},\"id\":\"3928\",\"type\":\"Selection\"},{\"attributes\":{\"line_alpha\":0.1,\"line_color\":\"#1f77b4\",\"x\":{\"field\":\"x\"},\"y\":{\"field\":\"y\"}},\"id\":\"3872\",\"type\":\"Line\"},{\"attributes\":{},\"id\":\"3911\",\"type\":\"UnionRenderers\"},{\"attributes\":{},\"id\":\"3841\",\"type\":\"LinearScale\"},{\"attributes\":{\"callback\":null,\"data\":{\"x\":[0,5,10,20,30,150],\"y\":{\"__ndarray__\":\"AAAAAKqC0T5iodY+LNTaPqs+1z6Enk0+\",\"dtype\":\"float32\",\"shape\":[6]}},\"selected\":{\"id\":\"3910\",\"type\":\"Selection\"},\"selection_policy\":{\"id\":\"3911\",\"type\":\"UnionRenderers\"}},\"id\":\"3883\",\"type\":\"ColumnDataSource\"},{\"attributes\":{\"source\":{\"id\":\"3913\",\"type\":\"ColumnDataSource\"}},\"id\":\"3917\",\"type\":\"CDSView\"},{\"attributes\":{\"line_color\":\"gold\",\"x\":{\"field\":\"x\"},\"y\":{\"field\":\"y\"}},\"id\":\"3914\",\"type\":\"Line\"},{\"attributes\":{\"text\":\"Defect Density Relation, l = 300 nm\"},\"id\":\"3835\",\"type\":\"Title\"},{\"attributes\":{\"label\":{\"value\":\"k(E11*) = 1.e+09\"},\"renderers\":[{\"id\":\"3900\",\"type\":\"GlyphRenderer\"}]},\"id\":\"3912\",\"type\":\"LegendItem\"},{\"attributes\":{},\"id\":\"3846\",\"type\":\"BasicTicker\"},{\"attributes\":{\"data_source\":{\"id\":\"3913\",\"type\":\"ColumnDataSource\"},\"glyph\":{\"id\":\"3914\",\"type\":\"Line\"},\"hover_glyph\":null,\"muted_glyph\":null,\"nonselection_glyph\":{\"id\":\"3915\",\"type\":\"Line\"},\"selection_glyph\":null,\"view\":{\"id\":\"3917\",\"type\":\"CDSView\"}},\"id\":\"3916\",\"type\":\"GlyphRenderer\"},{\"attributes\":{},\"id\":\"4088\",\"type\":\"UnionRenderers\"},{\"attributes\":{\"overlay\":{\"id\":\"3880\",\"type\":\"BoxAnnotation\"}},\"id\":\"3857\",\"type\":\"BoxZoomTool\"},{\"attributes\":{\"source\":{\"id\":\"3870\",\"type\":\"ColumnDataSource\"}},\"id\":\"3874\",\"type\":\"CDSView\"},{\"attributes\":{\"callback\":null},\"id\":\"3837\",\"type\":\"DataRange1d\"},{\"attributes\":{\"line_alpha\":0.1,\"line_color\":\"#1f77b4\",\"x\":{\"field\":\"x\"},\"y\":{\"field\":\"y\"}},\"id\":\"3885\",\"type\":\"Line\"},{\"attributes\":{},\"id\":\"3843\",\"type\":\"LinearScale\"},{\"attributes\":{\"line_alpha\":0.1,\"line_color\":\"#1f77b4\",\"x\":{\"field\":\"x\"},\"y\":{\"field\":\"y\"}},\"id\":\"3915\",\"type\":\"Line\"},{\"attributes\":{\"bottom_units\":\"screen\",\"fill_alpha\":{\"value\":0.5},\"fill_color\":{\"value\":\"lightgrey\"},\"left_units\":\"screen\",\"level\":\"overlay\",\"line_alpha\":{\"value\":1.0},\"line_color\":{\"value\":\"black\"},\"line_dash\":[4,4],\"line_width\":{\"value\":2},\"render_mode\":\"css\",\"right_units\":\"screen\",\"top_units\":\"screen\"},\"id\":\"3880\",\"type\":\"BoxAnnotation\"},{\"attributes\":{\"dimension\":1,\"ticker\":{\"id\":\"3851\",\"type\":\"BasicTicker\"}},\"id\":\"3854\",\"type\":\"Grid\"},{\"attributes\":{\"source\":{\"id\":\"3897\",\"type\":\"ColumnDataSource\"}},\"id\":\"3901\",\"type\":\"CDSView\"},{\"attributes\":{\"line_color\":\"green\",\"x\":{\"field\":\"x\"},\"y\":{\"field\":\"y\"}},\"id\":\"3898\",\"type\":\"Line\"},{\"attributes\":{\"callback\":null,\"data\":{\"x\":[0,5,10,20,30,150],\"y\":{\"__ndarray__\":\"AAAAANXnaj5t53s+2PB0PtQrZT6J0t49\",\"dtype\":\"float32\",\"shape\":[6]}},\"selected\":{\"id\":\"4087\",\"type\":\"Selection\"},\"selection_policy\":{\"id\":\"4088\",\"type\":\"UnionRenderers\"}},\"id\":\"3913\",\"type\":\"ColumnDataSource\"},{\"attributes\":{},\"id\":\"3878\",\"type\":\"BasicTickFormatter\"},{\"attributes\":{\"callback\":null},\"id\":\"3839\",\"type\":\"DataRange1d\"},{\"attributes\":{},\"id\":\"3929\",\"type\":\"UnionRenderers\"},{\"attributes\":{\"data_source\":{\"id\":\"3870\",\"type\":\"ColumnDataSource\"},\"glyph\":{\"id\":\"3871\",\"type\":\"Line\"},\"hover_glyph\":null,\"muted_glyph\":null,\"nonselection_glyph\":{\"id\":\"3872\",\"type\":\"Line\"},\"selection_glyph\":null,\"view\":{\"id\":\"3874\",\"type\":\"CDSView\"}},\"id\":\"3873\",\"type\":\"GlyphRenderer\"},{\"attributes\":{\"active_drag\":\"auto\",\"active_inspect\":\"auto\",\"active_multi\":null,\"active_scroll\":\"auto\",\"active_tap\":\"auto\",\"tools\":[{\"id\":\"3855\",\"type\":\"PanTool\"},{\"id\":\"3856\",\"type\":\"WheelZoomTool\"},{\"id\":\"3857\",\"type\":\"BoxZoomTool\"},{\"id\":\"3858\",\"type\":\"SaveTool\"},{\"id\":\"3859\",\"type\":\"ResetTool\"},{\"id\":\"3860\",\"type\":\"HelpTool\"},{\"id\":\"3868\",\"type\":\"HoverTool\"}]},\"id\":\"3861\",\"type\":\"Toolbar\"}],\"root_ids\":[\"3834\"]},\"title\":\"Bokeh Application\",\"version\":\"1.3.4\"}};\n",
       "  var render_items = [{\"docid\":\"867091fe-36fe-44f4-82a9-86113faf719c\",\"roots\":{\"3834\":\"71df0577-18ea-45e3-bae7-dbff2415a2c0\"}}];\n",
       "  root.Bokeh.embed.embed_items_notebook(docs_json, render_items);\n",
       "\n",
       "  }\n",
       "  if (root.Bokeh !== undefined) {\n",
       "    embed_document(root);\n",
       "  } else {\n",
       "    var attempts = 0;\n",
       "    var timer = setInterval(function(root) {\n",
       "      if (root.Bokeh !== undefined) {\n",
       "        embed_document(root);\n",
       "        clearInterval(timer);\n",
       "      }\n",
       "      attempts++;\n",
       "      if (attempts > 100) {\n",
       "        console.log(\"Bokeh: ERROR: Unable to run BokehJS code because BokehJS library is missing\");\n",
       "        clearInterval(timer);\n",
       "      }\n",
       "    }, 10, root)\n",
       "  }\n",
       "})(window);"
      ],
      "application/vnd.bokehjs_exec.v0+json": ""
     },
     "metadata": {
      "application/vnd.bokehjs_exec.v0+json": {
       "id": "3834"
      }
     },
     "output_type": "display_data"
    }
   ],
   "source": [
    "plot = figure(title='Defect Density Relation, l = 300 nm', width=800, height=400)\n",
    "plot.add_tools(HoverTool())\n",
    "for i, sim in enumerate(defect_calc):\n",
    "    plot.line(sim.calc_dict['n_defects'], sim.QY[:, 0],\n",
    "              legend=f'k(E11*) = {np.format_float_scientific(sim.kin_const[0])}', color=color_list[i])\n",
    "plot.xaxis.axis_label = 'N (defects)'\n",
    "plot.yaxis.axis_label = 'QY (E11*)'\n",
    "show(plot)"
   ]
  },
  {
   "cell_type": "code",
   "execution_count": 64,
   "metadata": {},
   "outputs": [
    {
     "data": {
      "text/html": [
       "\n",
       "\n",
       "\n",
       "\n",
       "\n",
       "\n",
       "  <div class=\"bk-root\" id=\"a0490f31-aeda-4109-b8cb-ec09bd25630f\" data-root-id=\"4562\"></div>\n"
      ]
     },
     "metadata": {},
     "output_type": "display_data"
    },
    {
     "data": {
      "application/javascript": [
       "(function(root) {\n",
       "  function embed_document(root) {\n",
       "    \n",
       "  var docs_json = {\"6f5475b7-7863-402e-9b45-7f34538e4cd0\":{\"roots\":{\"references\":[{\"attributes\":{\"below\":[{\"id\":\"4573\",\"type\":\"LinearAxis\"}],\"center\":[{\"id\":\"4577\",\"type\":\"Grid\"},{\"id\":\"4582\",\"type\":\"Grid\"},{\"id\":\"4609\",\"type\":\"Legend\"}],\"left\":[{\"id\":\"4578\",\"type\":\"LinearAxis\"}],\"plot_height\":400,\"plot_width\":800,\"renderers\":[{\"id\":\"4601\",\"type\":\"GlyphRenderer\"},{\"id\":\"4614\",\"type\":\"GlyphRenderer\"},{\"id\":\"4628\",\"type\":\"GlyphRenderer\"},{\"id\":\"4644\",\"type\":\"GlyphRenderer\"}],\"title\":{\"id\":\"4563\",\"type\":\"Title\"},\"toolbar\":{\"id\":\"4589\",\"type\":\"Toolbar\"},\"x_range\":{\"id\":\"4565\",\"type\":\"DataRange1d\"},\"x_scale\":{\"id\":\"4569\",\"type\":\"LinearScale\"},\"y_range\":{\"id\":\"4567\",\"type\":\"DataRange1d\"},\"y_scale\":{\"id\":\"4571\",\"type\":\"LinearScale\"}},\"id\":\"4562\",\"subtype\":\"Figure\",\"type\":\"Plot\"},{\"attributes\":{\"dimension\":1,\"ticker\":{\"id\":\"4579\",\"type\":\"BasicTicker\"}},\"id\":\"4582\",\"type\":\"Grid\"},{\"attributes\":{\"label\":{\"value\":\"k(E11*) = 5.e+09\"},\"renderers\":[{\"id\":\"4614\",\"type\":\"GlyphRenderer\"}]},\"id\":\"4624\",\"type\":\"LegendItem\"},{\"attributes\":{},\"id\":\"4623\",\"type\":\"UnionRenderers\"},{\"attributes\":{},\"id\":\"4571\",\"type\":\"LinearScale\"},{\"attributes\":{\"active_drag\":\"auto\",\"active_inspect\":\"auto\",\"active_multi\":null,\"active_scroll\":\"auto\",\"active_tap\":\"auto\",\"tools\":[{\"id\":\"4583\",\"type\":\"PanTool\"},{\"id\":\"4584\",\"type\":\"WheelZoomTool\"},{\"id\":\"4585\",\"type\":\"BoxZoomTool\"},{\"id\":\"4586\",\"type\":\"SaveTool\"},{\"id\":\"4587\",\"type\":\"ResetTool\"},{\"id\":\"4588\",\"type\":\"HelpTool\"},{\"id\":\"4596\",\"type\":\"HoverTool\"}]},\"id\":\"4589\",\"type\":\"Toolbar\"},{\"attributes\":{},\"id\":\"4569\",\"type\":\"LinearScale\"},{\"attributes\":{\"source\":{\"id\":\"4598\",\"type\":\"ColumnDataSource\"}},\"id\":\"4602\",\"type\":\"CDSView\"},{\"attributes\":{\"line_color\":\"green\",\"x\":{\"field\":\"x\"},\"y\":{\"field\":\"y\"}},\"id\":\"4626\",\"type\":\"Line\"},{\"attributes\":{\"bottom_units\":\"screen\",\"fill_alpha\":{\"value\":0.5},\"fill_color\":{\"value\":\"lightgrey\"},\"left_units\":\"screen\",\"level\":\"overlay\",\"line_alpha\":{\"value\":1.0},\"line_color\":{\"value\":\"black\"},\"line_dash\":[4,4],\"line_width\":{\"value\":2},\"render_mode\":\"css\",\"right_units\":\"screen\",\"top_units\":\"screen\"},\"id\":\"4608\",\"type\":\"BoxAnnotation\"},{\"attributes\":{\"callback\":null,\"data\":{\"x\":[0,5,10,20,30,150],\"y\":{\"__ndarray__\":\"fPIwPDSANzsXt1E6AAAAAAAAAAAAAAAA\",\"dtype\":\"float32\",\"shape\":[6]}},\"selected\":{\"id\":\"4638\",\"type\":\"Selection\"},\"selection_policy\":{\"id\":\"4639\",\"type\":\"UnionRenderers\"}},\"id\":\"4611\",\"type\":\"ColumnDataSource\"},{\"attributes\":{\"source\":{\"id\":\"4611\",\"type\":\"ColumnDataSource\"}},\"id\":\"4615\",\"type\":\"CDSView\"},{\"attributes\":{},\"id\":\"4844\",\"type\":\"UnionRenderers\"},{\"attributes\":{},\"id\":\"4583\",\"type\":\"PanTool\"},{\"attributes\":{},\"id\":\"4843\",\"type\":\"Selection\"},{\"attributes\":{\"callback\":null,\"data\":{\"x\":[0,5,10,20,30,150],\"y\":{\"__ndarray__\":\"n6stPFJJHTtSSR06AAAAABe3UTkAAAAA\",\"dtype\":\"float32\",\"shape\":[6]}},\"selected\":{\"id\":\"4656\",\"type\":\"Selection\"},\"selection_policy\":{\"id\":\"4657\",\"type\":\"UnionRenderers\"}},\"id\":\"4625\",\"type\":\"ColumnDataSource\"},{\"attributes\":{},\"id\":\"4622\",\"type\":\"Selection\"},{\"attributes\":{\"callback\":null},\"id\":\"4565\",\"type\":\"DataRange1d\"},{\"attributes\":{},\"id\":\"4584\",\"type\":\"WheelZoomTool\"},{\"attributes\":{\"source\":{\"id\":\"4625\",\"type\":\"ColumnDataSource\"}},\"id\":\"4629\",\"type\":\"CDSView\"},{\"attributes\":{\"callback\":null},\"id\":\"4567\",\"type\":\"DataRange1d\"},{\"attributes\":{\"line_alpha\":0.1,\"line_color\":\"#1f77b4\",\"x\":{\"field\":\"x\"},\"y\":{\"field\":\"y\"}},\"id\":\"4627\",\"type\":\"Line\"},{\"attributes\":{\"text\":\"Defect Density Relation, l = 300 nm\"},\"id\":\"4563\",\"type\":\"Title\"},{\"attributes\":{\"data_source\":{\"id\":\"4611\",\"type\":\"ColumnDataSource\"},\"glyph\":{\"id\":\"4612\",\"type\":\"Line\"},\"hover_glyph\":null,\"muted_glyph\":null,\"nonselection_glyph\":{\"id\":\"4613\",\"type\":\"Line\"},\"selection_glyph\":null,\"view\":{\"id\":\"4615\",\"type\":\"CDSView\"}},\"id\":\"4614\",\"type\":\"GlyphRenderer\"},{\"attributes\":{\"overlay\":{\"id\":\"4608\",\"type\":\"BoxAnnotation\"}},\"id\":\"4585\",\"type\":\"BoxZoomTool\"},{\"attributes\":{},\"id\":\"4579\",\"type\":\"BasicTicker\"},{\"attributes\":{\"axis_label\":\"QY (E11)\",\"formatter\":{\"id\":\"4604\",\"type\":\"BasicTickFormatter\"},\"ticker\":{\"id\":\"4579\",\"type\":\"BasicTicker\"}},\"id\":\"4578\",\"type\":\"LinearAxis\"},{\"attributes\":{\"data_source\":{\"id\":\"4625\",\"type\":\"ColumnDataSource\"},\"glyph\":{\"id\":\"4626\",\"type\":\"Line\"},\"hover_glyph\":null,\"muted_glyph\":null,\"nonselection_glyph\":{\"id\":\"4627\",\"type\":\"Line\"},\"selection_glyph\":null,\"view\":{\"id\":\"4629\",\"type\":\"CDSView\"}},\"id\":\"4628\",\"type\":\"GlyphRenderer\"},{\"attributes\":{},\"id\":\"4574\",\"type\":\"BasicTicker\"},{\"attributes\":{},\"id\":\"4586\",\"type\":\"SaveTool\"},{\"attributes\":{},\"id\":\"4657\",\"type\":\"UnionRenderers\"},{\"attributes\":{},\"id\":\"4587\",\"type\":\"ResetTool\"},{\"attributes\":{\"callback\":null},\"id\":\"4596\",\"type\":\"HoverTool\"},{\"attributes\":{},\"id\":\"4639\",\"type\":\"UnionRenderers\"},{\"attributes\":{\"label\":{\"value\":\"k(E11*) = 1.e+09\"},\"renderers\":[{\"id\":\"4628\",\"type\":\"GlyphRenderer\"}]},\"id\":\"4640\",\"type\":\"LegendItem\"},{\"attributes\":{},\"id\":\"4588\",\"type\":\"HelpTool\"},{\"attributes\":{\"line_alpha\":0.1,\"line_color\":\"#1f77b4\",\"x\":{\"field\":\"x\"},\"y\":{\"field\":\"y\"}},\"id\":\"4613\",\"type\":\"Line\"},{\"attributes\":{\"callback\":null,\"data\":{\"x\":[0,5,10,20,30,150],\"y\":{\"__ndarray__\":\"ppvEO28SgzoXt9E5F7fROQAAAAAAAAAA\",\"dtype\":\"float32\",\"shape\":[6]}},\"selected\":{\"id\":\"4622\",\"type\":\"Selection\"},\"selection_policy\":{\"id\":\"4623\",\"type\":\"UnionRenderers\"}},\"id\":\"4598\",\"type\":\"ColumnDataSource\"},{\"attributes\":{\"line_color\":\"gold\",\"x\":{\"field\":\"x\"},\"y\":{\"field\":\"y\"}},\"id\":\"4642\",\"type\":\"Line\"},{\"attributes\":{\"line_alpha\":0.1,\"line_color\":\"#1f77b4\",\"x\":{\"field\":\"x\"},\"y\":{\"field\":\"y\"}},\"id\":\"4600\",\"type\":\"Line\"},{\"attributes\":{\"callback\":null,\"data\":{\"x\":[0,5,10,20,30,150],\"y\":{\"__ndarray__\":\"J6AJPBe30ToXt9E5AAAAAAAAAAAAAAAA\",\"dtype\":\"float32\",\"shape\":[6]}},\"selected\":{\"id\":\"4843\",\"type\":\"Selection\"},\"selection_policy\":{\"id\":\"4844\",\"type\":\"UnionRenderers\"}},\"id\":\"4641\",\"type\":\"ColumnDataSource\"},{\"attributes\":{},\"id\":\"4604\",\"type\":\"BasicTickFormatter\"},{\"attributes\":{\"source\":{\"id\":\"4641\",\"type\":\"ColumnDataSource\"}},\"id\":\"4645\",\"type\":\"CDSView\"},{\"attributes\":{\"items\":[{\"id\":\"4610\",\"type\":\"LegendItem\"},{\"id\":\"4624\",\"type\":\"LegendItem\"},{\"id\":\"4640\",\"type\":\"LegendItem\"},{\"id\":\"4658\",\"type\":\"LegendItem\"}]},\"id\":\"4609\",\"type\":\"Legend\"},{\"attributes\":{\"line_alpha\":0.1,\"line_color\":\"#1f77b4\",\"x\":{\"field\":\"x\"},\"y\":{\"field\":\"y\"}},\"id\":\"4643\",\"type\":\"Line\"},{\"attributes\":{\"line_color\":\"blue\",\"x\":{\"field\":\"x\"},\"y\":{\"field\":\"y\"}},\"id\":\"4599\",\"type\":\"Line\"},{\"attributes\":{\"label\":{\"value\":\"k(E11*) = 2.5e+09\"},\"renderers\":[{\"id\":\"4601\",\"type\":\"GlyphRenderer\"}]},\"id\":\"4610\",\"type\":\"LegendItem\"},{\"attributes\":{\"data_source\":{\"id\":\"4598\",\"type\":\"ColumnDataSource\"},\"glyph\":{\"id\":\"4599\",\"type\":\"Line\"},\"hover_glyph\":null,\"muted_glyph\":null,\"nonselection_glyph\":{\"id\":\"4600\",\"type\":\"Line\"},\"selection_glyph\":null,\"view\":{\"id\":\"4602\",\"type\":\"CDSView\"}},\"id\":\"4601\",\"type\":\"GlyphRenderer\"},{\"attributes\":{\"data_source\":{\"id\":\"4641\",\"type\":\"ColumnDataSource\"},\"glyph\":{\"id\":\"4642\",\"type\":\"Line\"},\"hover_glyph\":null,\"muted_glyph\":null,\"nonselection_glyph\":{\"id\":\"4643\",\"type\":\"Line\"},\"selection_glyph\":null,\"view\":{\"id\":\"4645\",\"type\":\"CDSView\"}},\"id\":\"4644\",\"type\":\"GlyphRenderer\"},{\"attributes\":{},\"id\":\"4638\",\"type\":\"Selection\"},{\"attributes\":{\"ticker\":{\"id\":\"4574\",\"type\":\"BasicTicker\"}},\"id\":\"4577\",\"type\":\"Grid\"},{\"attributes\":{\"line_color\":\"red\",\"x\":{\"field\":\"x\"},\"y\":{\"field\":\"y\"}},\"id\":\"4612\",\"type\":\"Line\"},{\"attributes\":{},\"id\":\"4606\",\"type\":\"BasicTickFormatter\"},{\"attributes\":{},\"id\":\"4656\",\"type\":\"Selection\"},{\"attributes\":{\"label\":{\"value\":\"k(E11*) = 3.5e+09\"},\"renderers\":[{\"id\":\"4644\",\"type\":\"GlyphRenderer\"}]},\"id\":\"4658\",\"type\":\"LegendItem\"},{\"attributes\":{\"axis_label\":\"N (defects)\",\"formatter\":{\"id\":\"4606\",\"type\":\"BasicTickFormatter\"},\"ticker\":{\"id\":\"4574\",\"type\":\"BasicTicker\"}},\"id\":\"4573\",\"type\":\"LinearAxis\"}],\"root_ids\":[\"4562\"]},\"title\":\"Bokeh Application\",\"version\":\"1.3.4\"}};\n",
       "  var render_items = [{\"docid\":\"6f5475b7-7863-402e-9b45-7f34538e4cd0\",\"roots\":{\"4562\":\"a0490f31-aeda-4109-b8cb-ec09bd25630f\"}}];\n",
       "  root.Bokeh.embed.embed_items_notebook(docs_json, render_items);\n",
       "\n",
       "  }\n",
       "  if (root.Bokeh !== undefined) {\n",
       "    embed_document(root);\n",
       "  } else {\n",
       "    var attempts = 0;\n",
       "    var timer = setInterval(function(root) {\n",
       "      if (root.Bokeh !== undefined) {\n",
       "        embed_document(root);\n",
       "        clearInterval(timer);\n",
       "      }\n",
       "      attempts++;\n",
       "      if (attempts > 100) {\n",
       "        console.log(\"Bokeh: ERROR: Unable to run BokehJS code because BokehJS library is missing\");\n",
       "        clearInterval(timer);\n",
       "      }\n",
       "    }, 10, root)\n",
       "  }\n",
       "})(window);"
      ],
      "application/vnd.bokehjs_exec.v0+json": ""
     },
     "metadata": {
      "application/vnd.bokehjs_exec.v0+json": {
       "id": "4562"
      }
     },
     "output_type": "display_data"
    }
   ],
   "source": [
    "plot = figure(title='Defect Density Relation, l = 300 nm', width=800, height=400)\n",
    "plot.add_tools(HoverTool())\n",
    "for i, sim in enumerate(defect_calc):\n",
    "    plot.line(sim.calc_dict['n_defects'], sim.QY[:, 1],\n",
    "              legend=f'k(E11*) = {np.format_float_scientific(sim.kin_const[0])}', color=color_list[i])\n",
    "plot.xaxis.axis_label = 'N (defects)'\n",
    "plot.yaxis.axis_label = 'QY (E11)'\n",
    "show(plot)"
   ]
  },
  {
   "cell_type": "code",
   "execution_count": 62,
   "metadata": {},
   "outputs": [],
   "source": [
    "length_calc = [exc_sim_len_1, exc_sim_len_2, exc_sim_len_3, exc_sim_len_4]"
   ]
  },
  {
   "cell_type": "code",
   "execution_count": 76,
   "metadata": {},
   "outputs": [
    {
     "data": {
      "text/html": [
       "\n",
       "\n",
       "\n",
       "\n",
       "\n",
       "\n",
       "  <div class=\"bk-root\" id=\"3b21b8bb-2be7-4097-9212-1b6c55480158\" data-root-id=\"7419\"></div>\n"
      ]
     },
     "metadata": {},
     "output_type": "display_data"
    },
    {
     "data": {
      "application/javascript": [
       "(function(root) {\n",
       "  function embed_document(root) {\n",
       "    \n",
       "  var docs_json = {\"9f47ca81-1b4b-41d8-81e5-0aef986409a1\":{\"roots\":{\"references\":[{\"attributes\":{\"below\":[{\"id\":\"7430\",\"type\":\"LinearAxis\"}],\"center\":[{\"id\":\"7434\",\"type\":\"Grid\"},{\"id\":\"7439\",\"type\":\"Grid\"},{\"id\":\"7466\",\"type\":\"Legend\"}],\"left\":[{\"id\":\"7435\",\"type\":\"LinearAxis\"}],\"plot_height\":400,\"plot_width\":800,\"renderers\":[{\"id\":\"7458\",\"type\":\"GlyphRenderer\"},{\"id\":\"7471\",\"type\":\"GlyphRenderer\"},{\"id\":\"7485\",\"type\":\"GlyphRenderer\"},{\"id\":\"7501\",\"type\":\"GlyphRenderer\"}],\"title\":{\"id\":\"7420\",\"type\":\"Title\"},\"toolbar\":{\"id\":\"7446\",\"type\":\"Toolbar\"},\"x_range\":{\"id\":\"7422\",\"type\":\"DataRange1d\"},\"x_scale\":{\"id\":\"7426\",\"type\":\"LinearScale\"},\"y_range\":{\"id\":\"7424\",\"type\":\"DataRange1d\"},\"y_scale\":{\"id\":\"7428\",\"type\":\"LinearScale\"}},\"id\":\"7419\",\"subtype\":\"Figure\",\"type\":\"Plot\"},{\"attributes\":{},\"id\":\"7428\",\"type\":\"LinearScale\"},{\"attributes\":{\"label\":{\"value\":\"k(E11*) = 1.e+09\"},\"renderers\":[{\"id\":\"7485\",\"type\":\"GlyphRenderer\"}]},\"id\":\"7497\",\"type\":\"LegendItem\"},{\"attributes\":{\"line_alpha\":0.1,\"line_color\":\"#1f77b4\",\"x\":{\"field\":\"x\"},\"y\":{\"field\":\"y\"}},\"id\":\"7470\",\"type\":\"Line\"},{\"attributes\":{\"overlay\":{\"id\":\"7465\",\"type\":\"BoxAnnotation\"}},\"id\":\"7442\",\"type\":\"BoxZoomTool\"},{\"attributes\":{},\"id\":\"7496\",\"type\":\"UnionRenderers\"},{\"attributes\":{},\"id\":\"7443\",\"type\":\"SaveTool\"},{\"attributes\":{\"source\":{\"id\":\"7468\",\"type\":\"ColumnDataSource\"}},\"id\":\"7472\",\"type\":\"CDSView\"},{\"attributes\":{\"line_color\":\"gold\",\"x\":{\"field\":\"x\"},\"y\":{\"field\":\"y\"}},\"id\":\"7499\",\"type\":\"Line\"},{\"attributes\":{},\"id\":\"7444\",\"type\":\"ResetTool\"},{\"attributes\":{\"dimension\":1,\"ticker\":{\"id\":\"7436\",\"type\":\"BasicTicker\"}},\"id\":\"7439\",\"type\":\"Grid\"},{\"attributes\":{},\"id\":\"7461\",\"type\":\"BasicTickFormatter\"},{\"attributes\":{\"callback\":null,\"data\":{\"x\":[30,60,90,120,150,200,300,800],\"y\":{\"__ndarray__\":\"pSxDPjqSSz6IY10+iUFgPtbFbT78qXE+kst/PgAAgD4=\",\"dtype\":\"float32\",\"shape\":[8]}},\"selected\":{\"id\":\"7798\",\"type\":\"Selection\"},\"selection_policy\":{\"id\":\"7799\",\"type\":\"UnionRenderers\"}},\"id\":\"7498\",\"type\":\"ColumnDataSource\"},{\"attributes\":{\"ticker\":{\"id\":\"7431\",\"type\":\"BasicTicker\"}},\"id\":\"7434\",\"type\":\"Grid\"},{\"attributes\":{},\"id\":\"7445\",\"type\":\"HelpTool\"},{\"attributes\":{\"source\":{\"id\":\"7498\",\"type\":\"ColumnDataSource\"}},\"id\":\"7502\",\"type\":\"CDSView\"},{\"attributes\":{\"data_source\":{\"id\":\"7455\",\"type\":\"ColumnDataSource\"},\"glyph\":{\"id\":\"7456\",\"type\":\"Line\"},\"hover_glyph\":null,\"muted_glyph\":null,\"nonselection_glyph\":{\"id\":\"7457\",\"type\":\"Line\"},\"selection_glyph\":null,\"view\":{\"id\":\"7459\",\"type\":\"CDSView\"}},\"id\":\"7458\",\"type\":\"GlyphRenderer\"},{\"attributes\":{\"line_alpha\":0.1,\"line_color\":\"#1f77b4\",\"x\":{\"field\":\"x\"},\"y\":{\"field\":\"y\"}},\"id\":\"7500\",\"type\":\"Line\"},{\"attributes\":{\"active_drag\":\"auto\",\"active_inspect\":\"auto\",\"active_multi\":null,\"active_scroll\":\"auto\",\"active_tap\":\"auto\",\"tools\":[{\"id\":\"7440\",\"type\":\"PanTool\"},{\"id\":\"7441\",\"type\":\"WheelZoomTool\"},{\"id\":\"7442\",\"type\":\"BoxZoomTool\"},{\"id\":\"7443\",\"type\":\"SaveTool\"},{\"id\":\"7444\",\"type\":\"ResetTool\"},{\"id\":\"7445\",\"type\":\"HelpTool\"},{\"id\":\"7453\",\"type\":\"HoverTool\"}]},\"id\":\"7446\",\"type\":\"Toolbar\"},{\"attributes\":{\"callback\":null,\"data\":{\"x\":[30,60,90,120,150,200,300,800],\"y\":{\"__ndarray__\":\"guLHPWQ73z1DHOs9bcX+Pfrt6z2yne89kzoBPpVlCD4=\",\"dtype\":\"float32\",\"shape\":[8]}},\"selected\":{\"id\":\"7479\",\"type\":\"Selection\"},\"selection_policy\":{\"id\":\"7480\",\"type\":\"UnionRenderers\"}},\"id\":\"7455\",\"type\":\"ColumnDataSource\"},{\"attributes\":{},\"id\":\"7798\",\"type\":\"Selection\"},{\"attributes\":{\"line_color\":\"red\",\"x\":{\"field\":\"x\"},\"y\":{\"field\":\"y\"}},\"id\":\"7469\",\"type\":\"Line\"},{\"attributes\":{\"callback\":null},\"id\":\"7422\",\"type\":\"DataRange1d\"},{\"attributes\":{\"data_source\":{\"id\":\"7498\",\"type\":\"ColumnDataSource\"},\"glyph\":{\"id\":\"7499\",\"type\":\"Line\"},\"hover_glyph\":null,\"muted_glyph\":null,\"nonselection_glyph\":{\"id\":\"7500\",\"type\":\"Line\"},\"selection_glyph\":null,\"view\":{\"id\":\"7502\",\"type\":\"CDSView\"}},\"id\":\"7501\",\"type\":\"GlyphRenderer\"},{\"attributes\":{\"label\":{\"value\":\"k(E11*) = 2.5e+09\"},\"renderers\":[{\"id\":\"7458\",\"type\":\"GlyphRenderer\"}]},\"id\":\"7467\",\"type\":\"LegendItem\"},{\"attributes\":{\"label\":{\"value\":\"k(E11*) = 5.e+09\"},\"renderers\":[{\"id\":\"7471\",\"type\":\"GlyphRenderer\"}]},\"id\":\"7481\",\"type\":\"LegendItem\"},{\"attributes\":{},\"id\":\"7463\",\"type\":\"BasicTickFormatter\"},{\"attributes\":{},\"id\":\"7513\",\"type\":\"Selection\"},{\"attributes\":{},\"id\":\"7440\",\"type\":\"PanTool\"},{\"attributes\":{},\"id\":\"7480\",\"type\":\"UnionRenderers\"},{\"attributes\":{\"label\":{\"value\":\"k(E11*) = 3.5e+09\"},\"renderers\":[{\"id\":\"7501\",\"type\":\"GlyphRenderer\"}]},\"id\":\"7515\",\"type\":\"LegendItem\"},{\"attributes\":{\"source\":{\"id\":\"7455\",\"type\":\"ColumnDataSource\"}},\"id\":\"7459\",\"type\":\"CDSView\"},{\"attributes\":{\"bottom_units\":\"screen\",\"fill_alpha\":{\"value\":0.5},\"fill_color\":{\"value\":\"lightgrey\"},\"left_units\":\"screen\",\"level\":\"overlay\",\"line_alpha\":{\"value\":1.0},\"line_color\":{\"value\":\"black\"},\"line_dash\":[4,4],\"line_width\":{\"value\":2},\"render_mode\":\"css\",\"right_units\":\"screen\",\"top_units\":\"screen\"},\"id\":\"7465\",\"type\":\"BoxAnnotation\"},{\"attributes\":{},\"id\":\"7479\",\"type\":\"Selection\"},{\"attributes\":{},\"id\":\"7495\",\"type\":\"Selection\"},{\"attributes\":{},\"id\":\"7514\",\"type\":\"UnionRenderers\"},{\"attributes\":{},\"id\":\"7441\",\"type\":\"WheelZoomTool\"},{\"attributes\":{\"line_alpha\":0.1,\"line_color\":\"#1f77b4\",\"x\":{\"field\":\"x\"},\"y\":{\"field\":\"y\"}},\"id\":\"7457\",\"type\":\"Line\"},{\"attributes\":{\"line_color\":\"green\",\"x\":{\"field\":\"x\"},\"y\":{\"field\":\"y\"}},\"id\":\"7483\",\"type\":\"Line\"},{\"attributes\":{},\"id\":\"7799\",\"type\":\"UnionRenderers\"},{\"attributes\":{\"text\":\"Length Relation, defect density = 20 nm\"},\"id\":\"7420\",\"type\":\"Title\"},{\"attributes\":{\"items\":[{\"id\":\"7467\",\"type\":\"LegendItem\"},{\"id\":\"7481\",\"type\":\"LegendItem\"},{\"id\":\"7497\",\"type\":\"LegendItem\"},{\"id\":\"7515\",\"type\":\"LegendItem\"}]},\"id\":\"7466\",\"type\":\"Legend\"},{\"attributes\":{\"axis_label\":\"length / nm\",\"formatter\":{\"id\":\"7463\",\"type\":\"BasicTickFormatter\"},\"ticker\":{\"id\":\"7431\",\"type\":\"BasicTicker\"}},\"id\":\"7430\",\"type\":\"LinearAxis\"},{\"attributes\":{\"axis_label\":\"QY (E11*)\",\"formatter\":{\"id\":\"7461\",\"type\":\"BasicTickFormatter\"},\"ticker\":{\"id\":\"7436\",\"type\":\"BasicTicker\"}},\"id\":\"7435\",\"type\":\"LinearAxis\"},{\"attributes\":{\"callback\":null,\"data\":{\"x\":[30,60,90,120,150,200,300,800],\"y\":{\"__ndarray__\":\"F7fRO7N78jvQRNg7XynLO+cdJzxSSR087Q0+PArXIzw=\",\"dtype\":\"float32\",\"shape\":[8]}},\"selected\":{\"id\":\"7513\",\"type\":\"Selection\"},\"selection_policy\":{\"id\":\"7514\",\"type\":\"UnionRenderers\"}},\"id\":\"7482\",\"type\":\"ColumnDataSource\"},{\"attributes\":{},\"id\":\"7431\",\"type\":\"BasicTicker\"},{\"attributes\":{\"source\":{\"id\":\"7482\",\"type\":\"ColumnDataSource\"}},\"id\":\"7486\",\"type\":\"CDSView\"},{\"attributes\":{\"line_color\":\"blue\",\"x\":{\"field\":\"x\"},\"y\":{\"field\":\"y\"}},\"id\":\"7456\",\"type\":\"Line\"},{\"attributes\":{\"line_alpha\":0.1,\"line_color\":\"#1f77b4\",\"x\":{\"field\":\"x\"},\"y\":{\"field\":\"y\"}},\"id\":\"7484\",\"type\":\"Line\"},{\"attributes\":{\"callback\":null},\"id\":\"7453\",\"type\":\"HoverTool\"},{\"attributes\":{\"callback\":null,\"data\":{\"x\":[30,60,90,120,150,200,300,800],\"y\":{\"__ndarray__\":\"6GqrPmwJuT7c18E+ldTJPj0s1D4rGNU+1XjpPmiz6j4=\",\"dtype\":\"float32\",\"shape\":[8]}},\"selected\":{\"id\":\"7495\",\"type\":\"Selection\"},\"selection_policy\":{\"id\":\"7496\",\"type\":\"UnionRenderers\"}},\"id\":\"7468\",\"type\":\"ColumnDataSource\"},{\"attributes\":{},\"id\":\"7426\",\"type\":\"LinearScale\"},{\"attributes\":{\"data_source\":{\"id\":\"7482\",\"type\":\"ColumnDataSource\"},\"glyph\":{\"id\":\"7483\",\"type\":\"Line\"},\"hover_glyph\":null,\"muted_glyph\":null,\"nonselection_glyph\":{\"id\":\"7484\",\"type\":\"Line\"},\"selection_glyph\":null,\"view\":{\"id\":\"7486\",\"type\":\"CDSView\"}},\"id\":\"7485\",\"type\":\"GlyphRenderer\"},{\"attributes\":{\"callback\":null},\"id\":\"7424\",\"type\":\"DataRange1d\"},{\"attributes\":{\"data_source\":{\"id\":\"7468\",\"type\":\"ColumnDataSource\"},\"glyph\":{\"id\":\"7469\",\"type\":\"Line\"},\"hover_glyph\":null,\"muted_glyph\":null,\"nonselection_glyph\":{\"id\":\"7470\",\"type\":\"Line\"},\"selection_glyph\":null,\"view\":{\"id\":\"7472\",\"type\":\"CDSView\"}},\"id\":\"7471\",\"type\":\"GlyphRenderer\"},{\"attributes\":{},\"id\":\"7436\",\"type\":\"BasicTicker\"}],\"root_ids\":[\"7419\"]},\"title\":\"Bokeh Application\",\"version\":\"1.3.4\"}};\n",
       "  var render_items = [{\"docid\":\"9f47ca81-1b4b-41d8-81e5-0aef986409a1\",\"roots\":{\"7419\":\"3b21b8bb-2be7-4097-9212-1b6c55480158\"}}];\n",
       "  root.Bokeh.embed.embed_items_notebook(docs_json, render_items);\n",
       "\n",
       "  }\n",
       "  if (root.Bokeh !== undefined) {\n",
       "    embed_document(root);\n",
       "  } else {\n",
       "    var attempts = 0;\n",
       "    var timer = setInterval(function(root) {\n",
       "      if (root.Bokeh !== undefined) {\n",
       "        embed_document(root);\n",
       "        clearInterval(timer);\n",
       "      }\n",
       "      attempts++;\n",
       "      if (attempts > 100) {\n",
       "        console.log(\"Bokeh: ERROR: Unable to run BokehJS code because BokehJS library is missing\");\n",
       "        clearInterval(timer);\n",
       "      }\n",
       "    }, 10, root)\n",
       "  }\n",
       "})(window);"
      ],
      "application/vnd.bokehjs_exec.v0+json": ""
     },
     "metadata": {
      "application/vnd.bokehjs_exec.v0+json": {
       "id": "7419"
      }
     },
     "output_type": "display_data"
    }
   ],
   "source": [
    "plot = figure(title='Length Relation, defect density = 20 nm', width=800, height=400)\n",
    "plot.add_tools(HoverTool())\n",
    "for i, sim in enumerate(length_calc):\n",
    "    plot.line(sim.calc_dict['CNT_length'], sim.QY[:, 0],\n",
    "              legend=f'k(E11*) = {np.format_float_scientific(sim.kin_const[0])}', color=color_list[i])\n",
    "plot.xaxis.axis_label = 'length / nm'\n",
    "plot.yaxis.axis_label = 'QY (E11*)'\n",
    "show(plot)"
   ]
  },
  {
   "cell_type": "code",
   "execution_count": 77,
   "metadata": {},
   "outputs": [
    {
     "data": {
      "text/html": [
       "\n",
       "\n",
       "\n",
       "\n",
       "\n",
       "\n",
       "  <div class=\"bk-root\" id=\"df681209-86a3-4865-aa1e-694e3715717c\" data-root-id=\"7884\"></div>\n"
      ]
     },
     "metadata": {},
     "output_type": "display_data"
    },
    {
     "data": {
      "application/javascript": [
       "(function(root) {\n",
       "  function embed_document(root) {\n",
       "    \n",
       "  var docs_json = {\"8ca62c9b-a7a4-4cca-a559-a255aab08f78\":{\"roots\":{\"references\":[{\"attributes\":{\"below\":[{\"id\":\"7895\",\"type\":\"LinearAxis\"}],\"center\":[{\"id\":\"7899\",\"type\":\"Grid\"},{\"id\":\"7904\",\"type\":\"Grid\"},{\"id\":\"7931\",\"type\":\"Legend\"}],\"left\":[{\"id\":\"7900\",\"type\":\"LinearAxis\"}],\"plot_height\":400,\"plot_width\":800,\"renderers\":[{\"id\":\"7923\",\"type\":\"GlyphRenderer\"},{\"id\":\"7936\",\"type\":\"GlyphRenderer\"},{\"id\":\"7950\",\"type\":\"GlyphRenderer\"},{\"id\":\"7966\",\"type\":\"GlyphRenderer\"}],\"title\":{\"id\":\"7885\",\"type\":\"Title\"},\"toolbar\":{\"id\":\"7911\",\"type\":\"Toolbar\"},\"x_range\":{\"id\":\"7887\",\"type\":\"DataRange1d\"},\"x_scale\":{\"id\":\"7891\",\"type\":\"LinearScale\"},\"y_range\":{\"id\":\"7889\",\"type\":\"DataRange1d\"},\"y_scale\":{\"id\":\"7893\",\"type\":\"LinearScale\"}},\"id\":\"7884\",\"subtype\":\"Figure\",\"type\":\"Plot\"},{\"attributes\":{\"axis_label\":\"length / nm\",\"formatter\":{\"id\":\"7928\",\"type\":\"BasicTickFormatter\"},\"ticker\":{\"id\":\"7896\",\"type\":\"BasicTicker\"}},\"id\":\"7895\",\"type\":\"LinearAxis\"},{\"attributes\":{\"callback\":null,\"data\":{\"x\":[30,60,90,120,150,200,300,800],\"y\":{\"__ndarray__\":\"AAAAABe3UTkAAAAAAAAAAAAAAAAAAAAAAAAAABe3UTk=\",\"dtype\":\"float32\",\"shape\":[8]}},\"selected\":{\"id\":\"8277\",\"type\":\"Selection\"},\"selection_policy\":{\"id\":\"8278\",\"type\":\"UnionRenderers\"}},\"id\":\"7963\",\"type\":\"ColumnDataSource\"},{\"attributes\":{\"label\":{\"value\":\"k(E11*) = 2.5e+09\"},\"renderers\":[{\"id\":\"7923\",\"type\":\"GlyphRenderer\"}]},\"id\":\"7932\",\"type\":\"LegendItem\"},{\"attributes\":{\"source\":{\"id\":\"7947\",\"type\":\"ColumnDataSource\"}},\"id\":\"7951\",\"type\":\"CDSView\"},{\"attributes\":{\"source\":{\"id\":\"7963\",\"type\":\"ColumnDataSource\"}},\"id\":\"7967\",\"type\":\"CDSView\"},{\"attributes\":{\"active_drag\":\"auto\",\"active_inspect\":\"auto\",\"active_multi\":null,\"active_scroll\":\"auto\",\"active_tap\":\"auto\",\"tools\":[{\"id\":\"7905\",\"type\":\"PanTool\"},{\"id\":\"7906\",\"type\":\"WheelZoomTool\"},{\"id\":\"7907\",\"type\":\"BoxZoomTool\"},{\"id\":\"7908\",\"type\":\"SaveTool\"},{\"id\":\"7909\",\"type\":\"ResetTool\"},{\"id\":\"7910\",\"type\":\"HelpTool\"},{\"id\":\"7918\",\"type\":\"HoverTool\"}]},\"id\":\"7911\",\"type\":\"Toolbar\"},{\"attributes\":{},\"id\":\"7896\",\"type\":\"BasicTicker\"},{\"attributes\":{\"line_alpha\":0.1,\"line_color\":\"#1f77b4\",\"x\":{\"field\":\"x\"},\"y\":{\"field\":\"y\"}},\"id\":\"7965\",\"type\":\"Line\"},{\"attributes\":{},\"id\":\"7945\",\"type\":\"UnionRenderers\"},{\"attributes\":{\"ticker\":{\"id\":\"7896\",\"type\":\"BasicTicker\"}},\"id\":\"7899\",\"type\":\"Grid\"},{\"attributes\":{\"data_source\":{\"id\":\"7963\",\"type\":\"ColumnDataSource\"},\"glyph\":{\"id\":\"7964\",\"type\":\"Line\"},\"hover_glyph\":null,\"muted_glyph\":null,\"nonselection_glyph\":{\"id\":\"7965\",\"type\":\"Line\"},\"selection_glyph\":null,\"view\":{\"id\":\"7967\",\"type\":\"CDSView\"}},\"id\":\"7966\",\"type\":\"GlyphRenderer\"},{\"attributes\":{},\"id\":\"7901\",\"type\":\"BasicTicker\"},{\"attributes\":{},\"id\":\"7926\",\"type\":\"BasicTickFormatter\"},{\"attributes\":{\"callback\":null,\"data\":{\"x\":[30,60,90,120,150,200,300,800],\"y\":{\"__ndarray__\":\"AAAAAAAAAAAXt1E5AAAAABe3UTkAAAAAF7fRORe30Tk=\",\"dtype\":\"float32\",\"shape\":[8]}},\"selected\":{\"id\":\"7944\",\"type\":\"Selection\"},\"selection_policy\":{\"id\":\"7945\",\"type\":\"UnionRenderers\"}},\"id\":\"7920\",\"type\":\"ColumnDataSource\"},{\"attributes\":{},\"id\":\"7979\",\"type\":\"UnionRenderers\"},{\"attributes\":{\"dimension\":1,\"ticker\":{\"id\":\"7901\",\"type\":\"BasicTicker\"}},\"id\":\"7904\",\"type\":\"Grid\"},{\"attributes\":{\"source\":{\"id\":\"7920\",\"type\":\"ColumnDataSource\"}},\"id\":\"7924\",\"type\":\"CDSView\"},{\"attributes\":{\"callback\":null,\"data\":{\"x\":[30,60,90,120,150,200,300,800],\"y\":{\"__ndarray__\":\"AAAAAAAAAAAXt1E5F7dRORe3UTkXt1E5F7dRORe3UTk=\",\"dtype\":\"float32\",\"shape\":[8]}},\"selected\":{\"id\":\"7978\",\"type\":\"Selection\"},\"selection_policy\":{\"id\":\"7979\",\"type\":\"UnionRenderers\"}},\"id\":\"7947\",\"type\":\"ColumnDataSource\"},{\"attributes\":{\"axis_label\":\"QY (E11)\",\"formatter\":{\"id\":\"7926\",\"type\":\"BasicTickFormatter\"},\"ticker\":{\"id\":\"7901\",\"type\":\"BasicTicker\"}},\"id\":\"7900\",\"type\":\"LinearAxis\"},{\"attributes\":{\"label\":{\"value\":\"k(E11*) = 3.5e+09\"},\"renderers\":[{\"id\":\"7966\",\"type\":\"GlyphRenderer\"}]},\"id\":\"7980\",\"type\":\"LegendItem\"},{\"attributes\":{\"line_alpha\":0.1,\"line_color\":\"#1f77b4\",\"x\":{\"field\":\"x\"},\"y\":{\"field\":\"y\"}},\"id\":\"7949\",\"type\":\"Line\"},{\"attributes\":{},\"id\":\"7928\",\"type\":\"BasicTickFormatter\"},{\"attributes\":{\"line_color\":\"red\",\"x\":{\"field\":\"x\"},\"y\":{\"field\":\"y\"}},\"id\":\"7934\",\"type\":\"Line\"},{\"attributes\":{\"bottom_units\":\"screen\",\"fill_alpha\":{\"value\":0.5},\"fill_color\":{\"value\":\"lightgrey\"},\"left_units\":\"screen\",\"level\":\"overlay\",\"line_alpha\":{\"value\":1.0},\"line_color\":{\"value\":\"black\"},\"line_dash\":[4,4],\"line_width\":{\"value\":2},\"render_mode\":\"css\",\"right_units\":\"screen\",\"top_units\":\"screen\"},\"id\":\"7930\",\"type\":\"BoxAnnotation\"},{\"attributes\":{},\"id\":\"8278\",\"type\":\"UnionRenderers\"},{\"attributes\":{\"callback\":null},\"id\":\"7918\",\"type\":\"HoverTool\"},{\"attributes\":{\"line_color\":\"blue\",\"x\":{\"field\":\"x\"},\"y\":{\"field\":\"y\"}},\"id\":\"7921\",\"type\":\"Line\"},{\"attributes\":{},\"id\":\"8277\",\"type\":\"Selection\"},{\"attributes\":{\"line_alpha\":0.1,\"line_color\":\"#1f77b4\",\"x\":{\"field\":\"x\"},\"y\":{\"field\":\"y\"}},\"id\":\"7935\",\"type\":\"Line\"},{\"attributes\":{\"data_source\":{\"id\":\"7920\",\"type\":\"ColumnDataSource\"},\"glyph\":{\"id\":\"7921\",\"type\":\"Line\"},\"hover_glyph\":null,\"muted_glyph\":null,\"nonselection_glyph\":{\"id\":\"7922\",\"type\":\"Line\"},\"selection_glyph\":null,\"view\":{\"id\":\"7924\",\"type\":\"CDSView\"}},\"id\":\"7923\",\"type\":\"GlyphRenderer\"},{\"attributes\":{},\"id\":\"7944\",\"type\":\"Selection\"},{\"attributes\":{\"text\":\"Length Relation, defectdensity = 20 nm\"},\"id\":\"7885\",\"type\":\"Title\"},{\"attributes\":{\"line_alpha\":0.1,\"line_color\":\"#1f77b4\",\"x\":{\"field\":\"x\"},\"y\":{\"field\":\"y\"}},\"id\":\"7922\",\"type\":\"Line\"},{\"attributes\":{\"callback\":null,\"data\":{\"x\":[30,60,90,120,150,200,300,800],\"y\":{\"__ndarray__\":\"AAAAAAAAAAAXt1E5F7dROQAAAAAAAAAAAAAAABe3UTk=\",\"dtype\":\"float32\",\"shape\":[8]}},\"selected\":{\"id\":\"7960\",\"type\":\"Selection\"},\"selection_policy\":{\"id\":\"7961\",\"type\":\"UnionRenderers\"}},\"id\":\"7933\",\"type\":\"ColumnDataSource\"},{\"attributes\":{\"data_source\":{\"id\":\"7947\",\"type\":\"ColumnDataSource\"},\"glyph\":{\"id\":\"7948\",\"type\":\"Line\"},\"hover_glyph\":null,\"muted_glyph\":null,\"nonselection_glyph\":{\"id\":\"7949\",\"type\":\"Line\"},\"selection_glyph\":null,\"view\":{\"id\":\"7951\",\"type\":\"CDSView\"}},\"id\":\"7950\",\"type\":\"GlyphRenderer\"},{\"attributes\":{},\"id\":\"7905\",\"type\":\"PanTool\"},{\"attributes\":{\"source\":{\"id\":\"7933\",\"type\":\"ColumnDataSource\"}},\"id\":\"7937\",\"type\":\"CDSView\"},{\"attributes\":{\"callback\":null},\"id\":\"7887\",\"type\":\"DataRange1d\"},{\"attributes\":{\"data_source\":{\"id\":\"7933\",\"type\":\"ColumnDataSource\"},\"glyph\":{\"id\":\"7934\",\"type\":\"Line\"},\"hover_glyph\":null,\"muted_glyph\":null,\"nonselection_glyph\":{\"id\":\"7935\",\"type\":\"Line\"},\"selection_glyph\":null,\"view\":{\"id\":\"7937\",\"type\":\"CDSView\"}},\"id\":\"7936\",\"type\":\"GlyphRenderer\"},{\"attributes\":{\"label\":{\"value\":\"k(E11*) = 5.e+09\"},\"renderers\":[{\"id\":\"7936\",\"type\":\"GlyphRenderer\"}]},\"id\":\"7946\",\"type\":\"LegendItem\"},{\"attributes\":{\"items\":[{\"id\":\"7932\",\"type\":\"LegendItem\"},{\"id\":\"7946\",\"type\":\"LegendItem\"},{\"id\":\"7962\",\"type\":\"LegendItem\"},{\"id\":\"7980\",\"type\":\"LegendItem\"}]},\"id\":\"7931\",\"type\":\"Legend\"},{\"attributes\":{},\"id\":\"7906\",\"type\":\"WheelZoomTool\"},{\"attributes\":{\"line_color\":\"green\",\"x\":{\"field\":\"x\"},\"y\":{\"field\":\"y\"}},\"id\":\"7948\",\"type\":\"Line\"},{\"attributes\":{},\"id\":\"7978\",\"type\":\"Selection\"},{\"attributes\":{\"overlay\":{\"id\":\"7930\",\"type\":\"BoxAnnotation\"}},\"id\":\"7907\",\"type\":\"BoxZoomTool\"},{\"attributes\":{\"label\":{\"value\":\"k(E11*) = 1.e+09\"},\"renderers\":[{\"id\":\"7950\",\"type\":\"GlyphRenderer\"}]},\"id\":\"7962\",\"type\":\"LegendItem\"},{\"attributes\":{\"callback\":null},\"id\":\"7889\",\"type\":\"DataRange1d\"},{\"attributes\":{},\"id\":\"7908\",\"type\":\"SaveTool\"},{\"attributes\":{},\"id\":\"7960\",\"type\":\"Selection\"},{\"attributes\":{},\"id\":\"7961\",\"type\":\"UnionRenderers\"},{\"attributes\":{},\"id\":\"7909\",\"type\":\"ResetTool\"},{\"attributes\":{},\"id\":\"7891\",\"type\":\"LinearScale\"},{\"attributes\":{\"line_color\":\"gold\",\"x\":{\"field\":\"x\"},\"y\":{\"field\":\"y\"}},\"id\":\"7964\",\"type\":\"Line\"},{\"attributes\":{},\"id\":\"7893\",\"type\":\"LinearScale\"},{\"attributes\":{},\"id\":\"7910\",\"type\":\"HelpTool\"}],\"root_ids\":[\"7884\"]},\"title\":\"Bokeh Application\",\"version\":\"1.3.4\"}};\n",
       "  var render_items = [{\"docid\":\"8ca62c9b-a7a4-4cca-a559-a255aab08f78\",\"roots\":{\"7884\":\"df681209-86a3-4865-aa1e-694e3715717c\"}}];\n",
       "  root.Bokeh.embed.embed_items_notebook(docs_json, render_items);\n",
       "\n",
       "  }\n",
       "  if (root.Bokeh !== undefined) {\n",
       "    embed_document(root);\n",
       "  } else {\n",
       "    var attempts = 0;\n",
       "    var timer = setInterval(function(root) {\n",
       "      if (root.Bokeh !== undefined) {\n",
       "        embed_document(root);\n",
       "        clearInterval(timer);\n",
       "      }\n",
       "      attempts++;\n",
       "      if (attempts > 100) {\n",
       "        console.log(\"Bokeh: ERROR: Unable to run BokehJS code because BokehJS library is missing\");\n",
       "        clearInterval(timer);\n",
       "      }\n",
       "    }, 10, root)\n",
       "  }\n",
       "})(window);"
      ],
      "application/vnd.bokehjs_exec.v0+json": ""
     },
     "metadata": {
      "application/vnd.bokehjs_exec.v0+json": {
       "id": "7884"
      }
     },
     "output_type": "display_data"
    }
   ],
   "source": [
    "plot = figure(title='Length Relation, defectdensity = 20 nm', width=800, height=400)\n",
    "plot.add_tools(HoverTool())\n",
    "for i, sim in enumerate(length_calc):\n",
    "    plot.line(sim.calc_dict['CNT_length'], sim.QY[:, 1],\n",
    "              legend=f'k(E11*) = {np.format_float_scientific(sim.kin_const[0])}', color=color_list[i])\n",
    "plot.xaxis.axis_label = 'length / nm'\n",
    "plot.yaxis.axis_label = 'QY (E11)'\n",
    "show(plot)"
   ]
  },
  {
   "cell_type": "markdown",
   "metadata": {},
   "source": [
    "# Variation of E11 radiative decay"
   ]
  },
  {
   "cell_type": "code",
   "execution_count": 69,
   "metadata": {},
   "outputs": [],
   "source": [
    "defect_calc_2 = [exc_sim_def_1, exc_sim_def_5, exc_sim_def_6, exc_sim_def_7]"
   ]
  },
  {
   "cell_type": "code",
   "execution_count": 71,
   "metadata": {},
   "outputs": [
    {
     "data": {
      "text/html": [
       "\n",
       "\n",
       "\n",
       "\n",
       "\n",
       "\n",
       "  <div class=\"bk-root\" id=\"c726eef8-c799-4488-8186-b866887cb377\" data-root-id=\"5702\"></div>\n"
      ]
     },
     "metadata": {},
     "output_type": "display_data"
    },
    {
     "data": {
      "application/javascript": [
       "(function(root) {\n",
       "  function embed_document(root) {\n",
       "    \n",
       "  var docs_json = {\"f36f7a9e-ee95-4f9b-94da-c585e92f5b04\":{\"roots\":{\"references\":[{\"attributes\":{\"below\":[{\"id\":\"5713\",\"type\":\"LinearAxis\"}],\"center\":[{\"id\":\"5717\",\"type\":\"Grid\"},{\"id\":\"5722\",\"type\":\"Grid\"},{\"id\":\"5749\",\"type\":\"Legend\"}],\"left\":[{\"id\":\"5718\",\"type\":\"LinearAxis\"}],\"plot_height\":400,\"plot_width\":800,\"renderers\":[{\"id\":\"5741\",\"type\":\"GlyphRenderer\"},{\"id\":\"5754\",\"type\":\"GlyphRenderer\"},{\"id\":\"5768\",\"type\":\"GlyphRenderer\"},{\"id\":\"5784\",\"type\":\"GlyphRenderer\"}],\"title\":{\"id\":\"5703\",\"type\":\"Title\"},\"toolbar\":{\"id\":\"5729\",\"type\":\"Toolbar\"},\"x_range\":{\"id\":\"5705\",\"type\":\"DataRange1d\"},\"x_scale\":{\"id\":\"5709\",\"type\":\"LinearScale\"},\"y_range\":{\"id\":\"5707\",\"type\":\"DataRange1d\"},\"y_scale\":{\"id\":\"5711\",\"type\":\"LinearScale\"}},\"id\":\"5702\",\"subtype\":\"Figure\",\"type\":\"Plot\"},{\"attributes\":{},\"id\":\"5719\",\"type\":\"BasicTicker\"},{\"attributes\":{\"data_source\":{\"id\":\"5738\",\"type\":\"ColumnDataSource\"},\"glyph\":{\"id\":\"5739\",\"type\":\"Line\"},\"hover_glyph\":null,\"muted_glyph\":null,\"nonselection_glyph\":{\"id\":\"5740\",\"type\":\"Line\"},\"selection_glyph\":null,\"view\":{\"id\":\"5742\",\"type\":\"CDSView\"}},\"id\":\"5741\",\"type\":\"GlyphRenderer\"},{\"attributes\":{\"axis_label\":\"N (defects)\",\"formatter\":{\"id\":\"5746\",\"type\":\"BasicTickFormatter\"},\"ticker\":{\"id\":\"5714\",\"type\":\"BasicTicker\"}},\"id\":\"5713\",\"type\":\"LinearAxis\"},{\"attributes\":{\"line_color\":\"red\",\"x\":{\"field\":\"x\"},\"y\":{\"field\":\"y\"}},\"id\":\"5752\",\"type\":\"Line\"},{\"attributes\":{\"dimension\":1,\"ticker\":{\"id\":\"5719\",\"type\":\"BasicTicker\"}},\"id\":\"5722\",\"type\":\"Grid\"},{\"attributes\":{\"items\":[{\"id\":\"5750\",\"type\":\"LegendItem\"},{\"id\":\"5764\",\"type\":\"LegendItem\"},{\"id\":\"5780\",\"type\":\"LegendItem\"},{\"id\":\"5798\",\"type\":\"LegendItem\"}]},\"id\":\"5749\",\"type\":\"Legend\"},{\"attributes\":{\"axis_label\":\"QY (E11*)\",\"formatter\":{\"id\":\"5744\",\"type\":\"BasicTickFormatter\"},\"ticker\":{\"id\":\"5719\",\"type\":\"BasicTicker\"}},\"id\":\"5718\",\"type\":\"LinearAxis\"},{\"attributes\":{\"callback\":null,\"data\":{\"x\":[0,5,10,20,30,150],\"y\":{\"__ndarray__\":\"AAAAANIA3j0DCQo+jgbwPW3n+z38qXE9\",\"dtype\":\"float32\",\"shape\":[6]}},\"selected\":{\"id\":\"6025\",\"type\":\"Selection\"},\"selection_policy\":{\"id\":\"6026\",\"type\":\"UnionRenderers\"}},\"id\":\"5781\",\"type\":\"ColumnDataSource\"},{\"attributes\":{},\"id\":\"5746\",\"type\":\"BasicTickFormatter\"},{\"attributes\":{\"ticker\":{\"id\":\"5714\",\"type\":\"BasicTicker\"}},\"id\":\"5717\",\"type\":\"Grid\"},{\"attributes\":{\"source\":{\"id\":\"5738\",\"type\":\"ColumnDataSource\"}},\"id\":\"5742\",\"type\":\"CDSView\"},{\"attributes\":{\"source\":{\"id\":\"5781\",\"type\":\"ColumnDataSource\"}},\"id\":\"5785\",\"type\":\"CDSView\"},{\"attributes\":{\"line_alpha\":0.1,\"line_color\":\"#1f77b4\",\"x\":{\"field\":\"x\"},\"y\":{\"field\":\"y\"}},\"id\":\"5783\",\"type\":\"Line\"},{\"attributes\":{\"bottom_units\":\"screen\",\"fill_alpha\":{\"value\":0.5},\"fill_color\":{\"value\":\"lightgrey\"},\"left_units\":\"screen\",\"level\":\"overlay\",\"line_alpha\":{\"value\":1.0},\"line_color\":{\"value\":\"black\"},\"line_dash\":[4,4],\"line_width\":{\"value\":2},\"render_mode\":\"css\",\"right_units\":\"screen\",\"top_units\":\"screen\"},\"id\":\"5748\",\"type\":\"BoxAnnotation\"},{\"attributes\":{\"line_color\":\"blue\",\"x\":{\"field\":\"x\"},\"y\":{\"field\":\"y\"}},\"id\":\"5739\",\"type\":\"Line\"},{\"attributes\":{\"data_source\":{\"id\":\"5781\",\"type\":\"ColumnDataSource\"},\"glyph\":{\"id\":\"5782\",\"type\":\"Line\"},\"hover_glyph\":null,\"muted_glyph\":null,\"nonselection_glyph\":{\"id\":\"5783\",\"type\":\"Line\"},\"selection_glyph\":null,\"view\":{\"id\":\"5785\",\"type\":\"CDSView\"}},\"id\":\"5784\",\"type\":\"GlyphRenderer\"},{\"attributes\":{\"label\":{\"value\":\"k(E11) = 1.5e+10\"},\"renderers\":[{\"id\":\"5741\",\"type\":\"GlyphRenderer\"}]},\"id\":\"5750\",\"type\":\"LegendItem\"},{\"attributes\":{\"callback\":null,\"data\":{\"x\":[0,5,10,20,30,150],\"y\":{\"__ndarray__\":\"AAAAAI/k8j1KDAI+/yH9PWlv8D1kXVw9\",\"dtype\":\"float32\",\"shape\":[6]}},\"selected\":{\"id\":\"5762\",\"type\":\"Selection\"},\"selection_policy\":{\"id\":\"5763\",\"type\":\"UnionRenderers\"}},\"id\":\"5738\",\"type\":\"ColumnDataSource\"},{\"attributes\":{},\"id\":\"5762\",\"type\":\"Selection\"},{\"attributes\":{\"callback\":null},\"id\":\"5705\",\"type\":\"DataRange1d\"},{\"attributes\":{\"active_drag\":\"auto\",\"active_inspect\":\"auto\",\"active_multi\":null,\"active_scroll\":\"auto\",\"active_tap\":\"auto\",\"tools\":[{\"id\":\"5723\",\"type\":\"PanTool\"},{\"id\":\"5724\",\"type\":\"WheelZoomTool\"},{\"id\":\"5725\",\"type\":\"BoxZoomTool\"},{\"id\":\"5726\",\"type\":\"SaveTool\"},{\"id\":\"5727\",\"type\":\"ResetTool\"},{\"id\":\"5728\",\"type\":\"HelpTool\"},{\"id\":\"5736\",\"type\":\"HoverTool\"}]},\"id\":\"5729\",\"type\":\"Toolbar\"},{\"attributes\":{\"callback\":null,\"data\":{\"x\":[0,5,10,20,30,150],\"y\":{\"__ndarray__\":\"AAAAALKd7z3caAA+Iv32PWsr9j1F2HA9\",\"dtype\":\"float32\",\"shape\":[6]}},\"selected\":{\"id\":\"5778\",\"type\":\"Selection\"},\"selection_policy\":{\"id\":\"5779\",\"type\":\"UnionRenderers\"}},\"id\":\"5751\",\"type\":\"ColumnDataSource\"},{\"attributes\":{},\"id\":\"6025\",\"type\":\"Selection\"},{\"attributes\":{\"line_color\":\"green\",\"x\":{\"field\":\"x\"},\"y\":{\"field\":\"y\"}},\"id\":\"5766\",\"type\":\"Line\"},{\"attributes\":{},\"id\":\"5709\",\"type\":\"LinearScale\"},{\"attributes\":{},\"id\":\"5763\",\"type\":\"UnionRenderers\"},{\"attributes\":{},\"id\":\"5796\",\"type\":\"Selection\"},{\"attributes\":{},\"id\":\"5723\",\"type\":\"PanTool\"},{\"attributes\":{\"label\":{\"value\":\"k(E11) = 1.e+10\"},\"renderers\":[{\"id\":\"5784\",\"type\":\"GlyphRenderer\"}]},\"id\":\"5798\",\"type\":\"LegendItem\"},{\"attributes\":{},\"id\":\"5724\",\"type\":\"WheelZoomTool\"},{\"attributes\":{\"source\":{\"id\":\"5751\",\"type\":\"ColumnDataSource\"}},\"id\":\"5755\",\"type\":\"CDSView\"},{\"attributes\":{},\"id\":\"5797\",\"type\":\"UnionRenderers\"},{\"attributes\":{\"line_alpha\":0.1,\"line_color\":\"#1f77b4\",\"x\":{\"field\":\"x\"},\"y\":{\"field\":\"y\"}},\"id\":\"5753\",\"type\":\"Line\"},{\"attributes\":{\"overlay\":{\"id\":\"5748\",\"type\":\"BoxAnnotation\"}},\"id\":\"5725\",\"type\":\"BoxZoomTool\"},{\"attributes\":{},\"id\":\"6026\",\"type\":\"UnionRenderers\"},{\"attributes\":{\"text\":\"Defect Density Relation, l = 300 nm\"},\"id\":\"5703\",\"type\":\"Title\"},{\"attributes\":{\"data_source\":{\"id\":\"5751\",\"type\":\"ColumnDataSource\"},\"glyph\":{\"id\":\"5752\",\"type\":\"Line\"},\"hover_glyph\":null,\"muted_glyph\":null,\"nonselection_glyph\":{\"id\":\"5753\",\"type\":\"Line\"},\"selection_glyph\":null,\"view\":{\"id\":\"5755\",\"type\":\"CDSView\"}},\"id\":\"5754\",\"type\":\"GlyphRenderer\"},{\"attributes\":{\"label\":{\"value\":\"k(E11) = 3.e+10\"},\"renderers\":[{\"id\":\"5754\",\"type\":\"GlyphRenderer\"}]},\"id\":\"5764\",\"type\":\"LegendItem\"},{\"attributes\":{},\"id\":\"5726\",\"type\":\"SaveTool\"},{\"attributes\":{\"callback\":null},\"id\":\"5736\",\"type\":\"HoverTool\"},{\"attributes\":{\"line_color\":\"gold\",\"x\":{\"field\":\"x\"},\"y\":{\"field\":\"y\"}},\"id\":\"5782\",\"type\":\"Line\"},{\"attributes\":{},\"id\":\"5727\",\"type\":\"ResetTool\"},{\"attributes\":{\"data_source\":{\"id\":\"5765\",\"type\":\"ColumnDataSource\"},\"glyph\":{\"id\":\"5766\",\"type\":\"Line\"},\"hover_glyph\":null,\"muted_glyph\":null,\"nonselection_glyph\":{\"id\":\"5767\",\"type\":\"Line\"},\"selection_glyph\":null,\"view\":{\"id\":\"5769\",\"type\":\"CDSView\"}},\"id\":\"5768\",\"type\":\"GlyphRenderer\"},{\"attributes\":{},\"id\":\"5744\",\"type\":\"BasicTickFormatter\"},{\"attributes\":{\"line_alpha\":0.1,\"line_color\":\"#1f77b4\",\"x\":{\"field\":\"x\"},\"y\":{\"field\":\"y\"}},\"id\":\"5767\",\"type\":\"Line\"},{\"attributes\":{},\"id\":\"5728\",\"type\":\"HelpTool\"},{\"attributes\":{\"source\":{\"id\":\"5765\",\"type\":\"ColumnDataSource\"}},\"id\":\"5769\",\"type\":\"CDSView\"},{\"attributes\":{},\"id\":\"5779\",\"type\":\"UnionRenderers\"},{\"attributes\":{\"callback\":null},\"id\":\"5707\",\"type\":\"DataRange1d\"},{\"attributes\":{\"line_alpha\":0.1,\"line_color\":\"#1f77b4\",\"x\":{\"field\":\"x\"},\"y\":{\"field\":\"y\"}},\"id\":\"5740\",\"type\":\"Line\"},{\"attributes\":{},\"id\":\"5778\",\"type\":\"Selection\"},{\"attributes\":{},\"id\":\"5714\",\"type\":\"BasicTicker\"},{\"attributes\":{\"callback\":null,\"data\":{\"x\":[0,5,10,20,30,150],\"y\":{\"__ndarray__\":\"AAAAALHh6T1qTfM93EYDPm3n+z0c62I9\",\"dtype\":\"float32\",\"shape\":[6]}},\"selected\":{\"id\":\"5796\",\"type\":\"Selection\"},\"selection_policy\":{\"id\":\"5797\",\"type\":\"UnionRenderers\"}},\"id\":\"5765\",\"type\":\"ColumnDataSource\"},{\"attributes\":{\"label\":{\"value\":\"k(E11) = 2.e+10\"},\"renderers\":[{\"id\":\"5768\",\"type\":\"GlyphRenderer\"}]},\"id\":\"5780\",\"type\":\"LegendItem\"},{\"attributes\":{},\"id\":\"5711\",\"type\":\"LinearScale\"}],\"root_ids\":[\"5702\"]},\"title\":\"Bokeh Application\",\"version\":\"1.3.4\"}};\n",
       "  var render_items = [{\"docid\":\"f36f7a9e-ee95-4f9b-94da-c585e92f5b04\",\"roots\":{\"5702\":\"c726eef8-c799-4488-8186-b866887cb377\"}}];\n",
       "  root.Bokeh.embed.embed_items_notebook(docs_json, render_items);\n",
       "\n",
       "  }\n",
       "  if (root.Bokeh !== undefined) {\n",
       "    embed_document(root);\n",
       "  } else {\n",
       "    var attempts = 0;\n",
       "    var timer = setInterval(function(root) {\n",
       "      if (root.Bokeh !== undefined) {\n",
       "        embed_document(root);\n",
       "        clearInterval(timer);\n",
       "      }\n",
       "      attempts++;\n",
       "      if (attempts > 100) {\n",
       "        console.log(\"Bokeh: ERROR: Unable to run BokehJS code because BokehJS library is missing\");\n",
       "        clearInterval(timer);\n",
       "      }\n",
       "    }, 10, root)\n",
       "  }\n",
       "})(window);"
      ],
      "application/vnd.bokehjs_exec.v0+json": ""
     },
     "metadata": {
      "application/vnd.bokehjs_exec.v0+json": {
       "id": "5702"
      }
     },
     "output_type": "display_data"
    }
   ],
   "source": [
    "plot = figure(title='Defect Density Relation, l = 300 nm', width=800, height=400)\n",
    "plot.add_tools(HoverTool())\n",
    "for i, sim in enumerate(defect_calc_2):\n",
    "    plot.line(sim.calc_dict['n_defects'], sim.QY[:, 0],\n",
    "              legend=f'k(E11) = {np.format_float_scientific(sim.kin_const[1])}', color=color_list[i])\n",
    "plot.xaxis.axis_label = 'N (defects)'\n",
    "plot.yaxis.axis_label = 'QY (E11*)'\n",
    "show(plot)"
   ]
  },
  {
   "cell_type": "code",
   "execution_count": 82,
   "metadata": {},
   "outputs": [],
   "source": [
    "length_calc_2 = [exc_sim_len_1, exc_sim_len_5, exc_sim_len_6, exc_sim_len_7]"
   ]
  },
  {
   "cell_type": "code",
   "execution_count": 83,
   "metadata": {},
   "outputs": [
    {
     "data": {
      "text/html": [
       "\n",
       "\n",
       "\n",
       "\n",
       "\n",
       "\n",
       "  <div class=\"bk-root\" id=\"0ee30e97-d2dc-419f-98ec-b5e587a09122\" data-root-id=\"9818\"></div>\n"
      ]
     },
     "metadata": {},
     "output_type": "display_data"
    },
    {
     "data": {
      "application/javascript": [
       "(function(root) {\n",
       "  function embed_document(root) {\n",
       "    \n",
       "  var docs_json = {\"f3bced5c-7c9c-478c-9641-4bbb25f91057\":{\"roots\":{\"references\":[{\"attributes\":{\"below\":[{\"id\":\"9829\",\"type\":\"LinearAxis\"}],\"center\":[{\"id\":\"9833\",\"type\":\"Grid\"},{\"id\":\"9838\",\"type\":\"Grid\"},{\"id\":\"9865\",\"type\":\"Legend\"}],\"left\":[{\"id\":\"9834\",\"type\":\"LinearAxis\"}],\"plot_height\":400,\"plot_width\":800,\"renderers\":[{\"id\":\"9857\",\"type\":\"GlyphRenderer\"},{\"id\":\"9870\",\"type\":\"GlyphRenderer\"},{\"id\":\"9884\",\"type\":\"GlyphRenderer\"},{\"id\":\"9900\",\"type\":\"GlyphRenderer\"}],\"title\":{\"id\":\"9819\",\"type\":\"Title\"},\"toolbar\":{\"id\":\"9845\",\"type\":\"Toolbar\"},\"x_range\":{\"id\":\"9821\",\"type\":\"DataRange1d\"},\"x_scale\":{\"id\":\"9825\",\"type\":\"LinearScale\"},\"y_range\":{\"id\":\"9823\",\"type\":\"DataRange1d\"},\"y_scale\":{\"id\":\"9827\",\"type\":\"LinearScale\"}},\"id\":\"9818\",\"subtype\":\"Figure\",\"type\":\"Plot\"},{\"attributes\":{\"label\":{\"value\":\"k(E11) = 2.e+10\"},\"renderers\":[{\"id\":\"9884\",\"type\":\"GlyphRenderer\"}]},\"id\":\"9896\",\"type\":\"LegendItem\"},{\"attributes\":{\"overlay\":{\"id\":\"9864\",\"type\":\"BoxAnnotation\"}},\"id\":\"9841\",\"type\":\"BoxZoomTool\"},{\"attributes\":{\"line_color\":\"red\",\"x\":{\"field\":\"x\"},\"y\":{\"field\":\"y\"}},\"id\":\"9868\",\"type\":\"Line\"},{\"attributes\":{},\"id\":\"9862\",\"type\":\"BasicTickFormatter\"},{\"attributes\":{\"callback\":null},\"id\":\"9823\",\"type\":\"DataRange1d\"},{\"attributes\":{},\"id\":\"9842\",\"type\":\"SaveTool\"},{\"attributes\":{\"callback\":null,\"data\":{\"x\":[0,5,10,20,30,150],\"y\":{\"__ndarray__\":\"idLeO/rt6zoXt1E5F7fRORe3UTkAAAAA\",\"dtype\":\"float32\",\"shape\":[6]}},\"selected\":{\"id\":\"10263\",\"type\":\"Selection\"},\"selection_policy\":{\"id\":\"10264\",\"type\":\"UnionRenderers\"}},\"id\":\"9897\",\"type\":\"ColumnDataSource\"},{\"attributes\":{\"bottom_units\":\"screen\",\"fill_alpha\":{\"value\":0.5},\"fill_color\":{\"value\":\"lightgrey\"},\"left_units\":\"screen\",\"level\":\"overlay\",\"line_alpha\":{\"value\":1.0},\"line_color\":{\"value\":\"black\"},\"line_dash\":[4,4],\"line_width\":{\"value\":2},\"render_mode\":\"css\",\"right_units\":\"screen\",\"top_units\":\"screen\"},\"id\":\"9864\",\"type\":\"BoxAnnotation\"},{\"attributes\":{},\"id\":\"9843\",\"type\":\"ResetTool\"},{\"attributes\":{\"line_color\":\"gold\",\"x\":{\"field\":\"x\"},\"y\":{\"field\":\"y\"}},\"id\":\"9898\",\"type\":\"Line\"},{\"attributes\":{},\"id\":\"9844\",\"type\":\"HelpTool\"},{\"attributes\":{},\"id\":\"9825\",\"type\":\"LinearScale\"},{\"attributes\":{\"data_source\":{\"id\":\"9881\",\"type\":\"ColumnDataSource\"},\"glyph\":{\"id\":\"9882\",\"type\":\"Line\"},\"hover_glyph\":null,\"muted_glyph\":null,\"nonselection_glyph\":{\"id\":\"9883\",\"type\":\"Line\"},\"selection_glyph\":null,\"view\":{\"id\":\"9885\",\"type\":\"CDSView\"}},\"id\":\"9884\",\"type\":\"GlyphRenderer\"},{\"attributes\":{},\"id\":\"9827\",\"type\":\"LinearScale\"},{\"attributes\":{\"line_alpha\":0.1,\"line_color\":\"#1f77b4\",\"x\":{\"field\":\"x\"},\"y\":{\"field\":\"y\"}},\"id\":\"9856\",\"type\":\"Line\"},{\"attributes\":{\"source\":{\"id\":\"9881\",\"type\":\"ColumnDataSource\"}},\"id\":\"9885\",\"type\":\"CDSView\"},{\"attributes\":{\"line_color\":\"green\",\"x\":{\"field\":\"x\"},\"y\":{\"field\":\"y\"}},\"id\":\"9882\",\"type\":\"Line\"},{\"attributes\":{},\"id\":\"10264\",\"type\":\"UnionRenderers\"},{\"attributes\":{\"axis_label\":\"N (defects)\",\"formatter\":{\"id\":\"9862\",\"type\":\"BasicTickFormatter\"},\"ticker\":{\"id\":\"9830\",\"type\":\"BasicTicker\"}},\"id\":\"9829\",\"type\":\"LinearAxis\"},{\"attributes\":{\"callback\":null,\"data\":{\"x\":[0,5,10,20,30,150],\"y\":{\"__ndarray__\":\"pptEPBe30TpSSR06AAAAABe3UTkAAAAA\",\"dtype\":\"float32\",\"shape\":[6]}},\"selected\":{\"id\":\"9894\",\"type\":\"Selection\"},\"selection_policy\":{\"id\":\"9895\",\"type\":\"UnionRenderers\"}},\"id\":\"9867\",\"type\":\"ColumnDataSource\"},{\"attributes\":{},\"id\":\"9835\",\"type\":\"BasicTicker\"},{\"attributes\":{},\"id\":\"9830\",\"type\":\"BasicTicker\"},{\"attributes\":{\"label\":{\"value\":\"k(E11) = 3.e+10\"},\"renderers\":[{\"id\":\"9870\",\"type\":\"GlyphRenderer\"}]},\"id\":\"9880\",\"type\":\"LegendItem\"},{\"attributes\":{\"data_source\":{\"id\":\"9867\",\"type\":\"ColumnDataSource\"},\"glyph\":{\"id\":\"9868\",\"type\":\"Line\"},\"hover_glyph\":null,\"muted_glyph\":null,\"nonselection_glyph\":{\"id\":\"9869\",\"type\":\"Line\"},\"selection_glyph\":null,\"view\":{\"id\":\"9871\",\"type\":\"CDSView\"}},\"id\":\"9870\",\"type\":\"GlyphRenderer\"},{\"attributes\":{\"ticker\":{\"id\":\"9830\",\"type\":\"BasicTicker\"}},\"id\":\"9833\",\"type\":\"Grid\"},{\"attributes\":{\"items\":[{\"id\":\"9866\",\"type\":\"LegendItem\"},{\"id\":\"9880\",\"type\":\"LegendItem\"},{\"id\":\"9896\",\"type\":\"LegendItem\"},{\"id\":\"9914\",\"type\":\"LegendItem\"}]},\"id\":\"9865\",\"type\":\"Legend\"},{\"attributes\":{\"source\":{\"id\":\"9867\",\"type\":\"ColumnDataSource\"}},\"id\":\"9871\",\"type\":\"CDSView\"},{\"attributes\":{},\"id\":\"10263\",\"type\":\"Selection\"},{\"attributes\":{\"data_source\":{\"id\":\"9854\",\"type\":\"ColumnDataSource\"},\"glyph\":{\"id\":\"9855\",\"type\":\"Line\"},\"hover_glyph\":null,\"muted_glyph\":null,\"nonselection_glyph\":{\"id\":\"9856\",\"type\":\"Line\"},\"selection_glyph\":null,\"view\":{\"id\":\"9858\",\"type\":\"CDSView\"}},\"id\":\"9857\",\"type\":\"GlyphRenderer\"},{\"attributes\":{\"source\":{\"id\":\"9897\",\"type\":\"ColumnDataSource\"}},\"id\":\"9901\",\"type\":\"CDSView\"},{\"attributes\":{\"dimension\":1,\"ticker\":{\"id\":\"9835\",\"type\":\"BasicTicker\"}},\"id\":\"9838\",\"type\":\"Grid\"},{\"attributes\":{\"line_alpha\":0.1,\"line_color\":\"#1f77b4\",\"x\":{\"field\":\"x\"},\"y\":{\"field\":\"y\"}},\"id\":\"9883\",\"type\":\"Line\"},{\"attributes\":{\"line_alpha\":0.1,\"line_color\":\"#1f77b4\",\"x\":{\"field\":\"x\"},\"y\":{\"field\":\"y\"}},\"id\":\"9899\",\"type\":\"Line\"},{\"attributes\":{\"axis_label\":\"QY (E11)\",\"formatter\":{\"id\":\"9860\",\"type\":\"BasicTickFormatter\"},\"ticker\":{\"id\":\"9835\",\"type\":\"BasicTicker\"}},\"id\":\"9834\",\"type\":\"LinearAxis\"},{\"attributes\":{\"label\":{\"value\":\"k(E11) = 1.5e+10\"},\"renderers\":[{\"id\":\"9857\",\"type\":\"GlyphRenderer\"}]},\"id\":\"9866\",\"type\":\"LegendItem\"},{\"attributes\":{\"source\":{\"id\":\"9854\",\"type\":\"ColumnDataSource\"}},\"id\":\"9858\",\"type\":\"CDSView\"},{\"attributes\":{},\"id\":\"9878\",\"type\":\"Selection\"},{\"attributes\":{\"data_source\":{\"id\":\"9897\",\"type\":\"ColumnDataSource\"},\"glyph\":{\"id\":\"9898\",\"type\":\"Line\"},\"hover_glyph\":null,\"muted_glyph\":null,\"nonselection_glyph\":{\"id\":\"9899\",\"type\":\"Line\"},\"selection_glyph\":null,\"view\":{\"id\":\"9901\",\"type\":\"CDSView\"}},\"id\":\"9900\",\"type\":\"GlyphRenderer\"},{\"attributes\":{},\"id\":\"9860\",\"type\":\"BasicTickFormatter\"},{\"attributes\":{\"callback\":null},\"id\":\"9852\",\"type\":\"HoverTool\"},{\"attributes\":{\"line_color\":\"blue\",\"x\":{\"field\":\"x\"},\"y\":{\"field\":\"y\"}},\"id\":\"9855\",\"type\":\"Line\"},{\"attributes\":{\"callback\":null,\"data\":{\"x\":[0,5,10,20,30,150],\"y\":{\"__ndarray__\":\"ppvEO28SgzoXt9E5F7fROQAAAAAAAAAA\",\"dtype\":\"float32\",\"shape\":[6]}},\"selected\":{\"id\":\"9878\",\"type\":\"Selection\"},\"selection_policy\":{\"id\":\"9879\",\"type\":\"UnionRenderers\"}},\"id\":\"9854\",\"type\":\"ColumnDataSource\"},{\"attributes\":{},\"id\":\"9879\",\"type\":\"UnionRenderers\"},{\"attributes\":{},\"id\":\"9912\",\"type\":\"Selection\"},{\"attributes\":{\"text\":\"Defect Density Relation, l = 300 nm\"},\"id\":\"9819\",\"type\":\"Title\"},{\"attributes\":{\"active_drag\":\"auto\",\"active_inspect\":\"auto\",\"active_multi\":null,\"active_scroll\":\"auto\",\"active_tap\":\"auto\",\"tools\":[{\"id\":\"9839\",\"type\":\"PanTool\"},{\"id\":\"9840\",\"type\":\"WheelZoomTool\"},{\"id\":\"9841\",\"type\":\"BoxZoomTool\"},{\"id\":\"9842\",\"type\":\"SaveTool\"},{\"id\":\"9843\",\"type\":\"ResetTool\"},{\"id\":\"9844\",\"type\":\"HelpTool\"},{\"id\":\"9852\",\"type\":\"HoverTool\"}]},\"id\":\"9845\",\"type\":\"Toolbar\"},{\"attributes\":{\"label\":{\"value\":\"k(E11) = 1.e+10\"},\"renderers\":[{\"id\":\"9900\",\"type\":\"GlyphRenderer\"}]},\"id\":\"9914\",\"type\":\"LegendItem\"},{\"attributes\":{\"callback\":null,\"data\":{\"x\":[0,5,10,20,30,150],\"y\":{\"__ndarray__\":\"+u1rPMNkKjsXt9E5AAAAABe3UTkAAAAA\",\"dtype\":\"float32\",\"shape\":[6]}},\"selected\":{\"id\":\"9912\",\"type\":\"Selection\"},\"selection_policy\":{\"id\":\"9913\",\"type\":\"UnionRenderers\"}},\"id\":\"9881\",\"type\":\"ColumnDataSource\"},{\"attributes\":{},\"id\":\"9913\",\"type\":\"UnionRenderers\"},{\"attributes\":{\"callback\":null},\"id\":\"9821\",\"type\":\"DataRange1d\"},{\"attributes\":{},\"id\":\"9839\",\"type\":\"PanTool\"},{\"attributes\":{\"line_alpha\":0.1,\"line_color\":\"#1f77b4\",\"x\":{\"field\":\"x\"},\"y\":{\"field\":\"y\"}},\"id\":\"9869\",\"type\":\"Line\"},{\"attributes\":{},\"id\":\"9894\",\"type\":\"Selection\"},{\"attributes\":{},\"id\":\"9895\",\"type\":\"UnionRenderers\"},{\"attributes\":{},\"id\":\"9840\",\"type\":\"WheelZoomTool\"}],\"root_ids\":[\"9818\"]},\"title\":\"Bokeh Application\",\"version\":\"1.3.4\"}};\n",
       "  var render_items = [{\"docid\":\"f3bced5c-7c9c-478c-9641-4bbb25f91057\",\"roots\":{\"9818\":\"0ee30e97-d2dc-419f-98ec-b5e587a09122\"}}];\n",
       "  root.Bokeh.embed.embed_items_notebook(docs_json, render_items);\n",
       "\n",
       "  }\n",
       "  if (root.Bokeh !== undefined) {\n",
       "    embed_document(root);\n",
       "  } else {\n",
       "    var attempts = 0;\n",
       "    var timer = setInterval(function(root) {\n",
       "      if (root.Bokeh !== undefined) {\n",
       "        embed_document(root);\n",
       "        clearInterval(timer);\n",
       "      }\n",
       "      attempts++;\n",
       "      if (attempts > 100) {\n",
       "        console.log(\"Bokeh: ERROR: Unable to run BokehJS code because BokehJS library is missing\");\n",
       "        clearInterval(timer);\n",
       "      }\n",
       "    }, 10, root)\n",
       "  }\n",
       "})(window);"
      ],
      "application/vnd.bokehjs_exec.v0+json": ""
     },
     "metadata": {
      "application/vnd.bokehjs_exec.v0+json": {
       "id": "9818"
      }
     },
     "output_type": "display_data"
    }
   ],
   "source": [
    "plot = figure(title='Defect Density Relation, l = 300 nm', width=800, height=400)\n",
    "plot.add_tools(HoverTool())\n",
    "for i, sim in enumerate(defect_calc_2):\n",
    "    plot.line(sim.calc_dict['n_defects'], sim.QY[:, 1],\n",
    "              legend=f'k(E11) = {np.format_float_scientific(sim.kin_const[1])}', color=color_list[i])\n",
    "plot.xaxis.axis_label = 'N (defects)'\n",
    "plot.yaxis.axis_label = 'QY (E11)'\n",
    "show(plot)"
   ]
  },
  {
   "cell_type": "code",
   "execution_count": 84,
   "metadata": {},
   "outputs": [
    {
     "data": {
      "text/html": [
       "\n",
       "\n",
       "\n",
       "\n",
       "\n",
       "\n",
       "  <div class=\"bk-root\" id=\"e5fe559d-4b08-42b8-9f53-e85ee80f0132\" data-root-id=\"10349\"></div>\n"
      ]
     },
     "metadata": {},
     "output_type": "display_data"
    },
    {
     "data": {
      "application/javascript": [
       "(function(root) {\n",
       "  function embed_document(root) {\n",
       "    \n",
       "  var docs_json = {\"c07bb6aa-772f-4fa9-8a1f-3f7f232ac104\":{\"roots\":{\"references\":[{\"attributes\":{\"below\":[{\"id\":\"10360\",\"type\":\"LinearAxis\"}],\"center\":[{\"id\":\"10364\",\"type\":\"Grid\"},{\"id\":\"10369\",\"type\":\"Grid\"},{\"id\":\"10396\",\"type\":\"Legend\"}],\"left\":[{\"id\":\"10365\",\"type\":\"LinearAxis\"}],\"plot_height\":400,\"plot_width\":800,\"renderers\":[{\"id\":\"10388\",\"type\":\"GlyphRenderer\"},{\"id\":\"10401\",\"type\":\"GlyphRenderer\"},{\"id\":\"10415\",\"type\":\"GlyphRenderer\"},{\"id\":\"10431\",\"type\":\"GlyphRenderer\"}],\"title\":{\"id\":\"10350\",\"type\":\"Title\"},\"toolbar\":{\"id\":\"10376\",\"type\":\"Toolbar\"},\"x_range\":{\"id\":\"10352\",\"type\":\"DataRange1d\"},\"x_scale\":{\"id\":\"10356\",\"type\":\"LinearScale\"},\"y_range\":{\"id\":\"10354\",\"type\":\"DataRange1d\"},\"y_scale\":{\"id\":\"10358\",\"type\":\"LinearScale\"}},\"id\":\"10349\",\"subtype\":\"Figure\",\"type\":\"Plot\"},{\"attributes\":{\"axis_label\":\"QY (E11*)\",\"formatter\":{\"id\":\"10391\",\"type\":\"BasicTickFormatter\"},\"ticker\":{\"id\":\"10366\",\"type\":\"BasicTicker\"}},\"id\":\"10365\",\"type\":\"LinearAxis\"},{\"attributes\":{\"data_source\":{\"id\":\"10412\",\"type\":\"ColumnDataSource\"},\"glyph\":{\"id\":\"10413\",\"type\":\"Line\"},\"hover_glyph\":null,\"muted_glyph\":null,\"nonselection_glyph\":{\"id\":\"10414\",\"type\":\"Line\"},\"selection_glyph\":null,\"view\":{\"id\":\"10416\",\"type\":\"CDSView\"}},\"id\":\"10415\",\"type\":\"GlyphRenderer\"},{\"attributes\":{\"data_source\":{\"id\":\"10398\",\"type\":\"ColumnDataSource\"},\"glyph\":{\"id\":\"10399\",\"type\":\"Line\"},\"hover_glyph\":null,\"muted_glyph\":null,\"nonselection_glyph\":{\"id\":\"10400\",\"type\":\"Line\"},\"selection_glyph\":null,\"view\":{\"id\":\"10402\",\"type\":\"CDSView\"}},\"id\":\"10401\",\"type\":\"GlyphRenderer\"},{\"attributes\":{},\"id\":\"10374\",\"type\":\"ResetTool\"},{\"attributes\":{\"text\":\"Length Relation, defect density = 20 nm\"},\"id\":\"10350\",\"type\":\"Title\"},{\"attributes\":{\"source\":{\"id\":\"10385\",\"type\":\"ColumnDataSource\"}},\"id\":\"10389\",\"type\":\"CDSView\"},{\"attributes\":{},\"id\":\"10375\",\"type\":\"HelpTool\"},{\"attributes\":{},\"id\":\"10425\",\"type\":\"Selection\"},{\"attributes\":{\"callback\":null,\"data\":{\"x\":[30,60,90,120,150,200,300,800],\"y\":{\"__ndarray__\":\"guLHPWQ73z1DHOs9bcX+Pfrt6z2yne89kzoBPpVlCD4=\",\"dtype\":\"float32\",\"shape\":[8]}},\"selected\":{\"id\":\"10409\",\"type\":\"Selection\"},\"selection_policy\":{\"id\":\"10410\",\"type\":\"UnionRenderers\"}},\"id\":\"10385\",\"type\":\"ColumnDataSource\"},{\"attributes\":{\"line_alpha\":0.1,\"line_color\":\"#1f77b4\",\"x\":{\"field\":\"x\"},\"y\":{\"field\":\"y\"}},\"id\":\"10400\",\"type\":\"Line\"},{\"attributes\":{\"active_drag\":\"auto\",\"active_inspect\":\"auto\",\"active_multi\":null,\"active_scroll\":\"auto\",\"active_tap\":\"auto\",\"tools\":[{\"id\":\"10370\",\"type\":\"PanTool\"},{\"id\":\"10371\",\"type\":\"WheelZoomTool\"},{\"id\":\"10372\",\"type\":\"BoxZoomTool\"},{\"id\":\"10373\",\"type\":\"SaveTool\"},{\"id\":\"10374\",\"type\":\"ResetTool\"},{\"id\":\"10375\",\"type\":\"HelpTool\"},{\"id\":\"10383\",\"type\":\"HoverTool\"}]},\"id\":\"10376\",\"type\":\"Toolbar\"},{\"attributes\":{\"label\":{\"value\":\"k(E11) = 2.e+10\"},\"renderers\":[{\"id\":\"10415\",\"type\":\"GlyphRenderer\"}]},\"id\":\"10427\",\"type\":\"LegendItem\"},{\"attributes\":{},\"id\":\"10426\",\"type\":\"UnionRenderers\"},{\"attributes\":{},\"id\":\"10391\",\"type\":\"BasicTickFormatter\"},{\"attributes\":{\"overlay\":{\"id\":\"10395\",\"type\":\"BoxAnnotation\"}},\"id\":\"10372\",\"type\":\"BoxZoomTool\"},{\"attributes\":{\"line_color\":\"gold\",\"x\":{\"field\":\"x\"},\"y\":{\"field\":\"y\"}},\"id\":\"10429\",\"type\":\"Line\"},{\"attributes\":{\"line_alpha\":0.1,\"line_color\":\"#1f77b4\",\"x\":{\"field\":\"x\"},\"y\":{\"field\":\"y\"}},\"id\":\"10387\",\"type\":\"Line\"},{\"attributes\":{},\"id\":\"10809\",\"type\":\"UnionRenderers\"},{\"attributes\":{\"label\":{\"value\":\"k(E11) = 1.5e+10\"},\"renderers\":[{\"id\":\"10388\",\"type\":\"GlyphRenderer\"}]},\"id\":\"10397\",\"type\":\"LegendItem\"},{\"attributes\":{},\"id\":\"10371\",\"type\":\"WheelZoomTool\"},{\"attributes\":{\"callback\":null,\"data\":{\"x\":[30,60,90,120,150,200,300,800],\"y\":{\"__ndarray__\":\"qRPQPaabxD1os+o9sAPnPdcS8j2SXP49uB4FPnBfBz4=\",\"dtype\":\"float32\",\"shape\":[8]}},\"selected\":{\"id\":\"10443\",\"type\":\"Selection\"},\"selection_policy\":{\"id\":\"10444\",\"type\":\"UnionRenderers\"}},\"id\":\"10412\",\"type\":\"ColumnDataSource\"},{\"attributes\":{},\"id\":\"10409\",\"type\":\"Selection\"},{\"attributes\":{\"data_source\":{\"id\":\"10385\",\"type\":\"ColumnDataSource\"},\"glyph\":{\"id\":\"10386\",\"type\":\"Line\"},\"hover_glyph\":null,\"muted_glyph\":null,\"nonselection_glyph\":{\"id\":\"10387\",\"type\":\"Line\"},\"selection_glyph\":null,\"view\":{\"id\":\"10389\",\"type\":\"CDSView\"}},\"id\":\"10388\",\"type\":\"GlyphRenderer\"},{\"attributes\":{},\"id\":\"10361\",\"type\":\"BasicTicker\"},{\"attributes\":{\"source\":{\"id\":\"10428\",\"type\":\"ColumnDataSource\"}},\"id\":\"10432\",\"type\":\"CDSView\"},{\"attributes\":{\"source\":{\"id\":\"10398\",\"type\":\"ColumnDataSource\"}},\"id\":\"10402\",\"type\":\"CDSView\"},{\"attributes\":{\"line_alpha\":0.1,\"line_color\":\"#1f77b4\",\"x\":{\"field\":\"x\"},\"y\":{\"field\":\"y\"}},\"id\":\"10430\",\"type\":\"Line\"},{\"attributes\":{\"items\":[{\"id\":\"10397\",\"type\":\"LegendItem\"},{\"id\":\"10411\",\"type\":\"LegendItem\"},{\"id\":\"10427\",\"type\":\"LegendItem\"},{\"id\":\"10445\",\"type\":\"LegendItem\"}]},\"id\":\"10396\",\"type\":\"Legend\"},{\"attributes\":{\"line_color\":\"blue\",\"x\":{\"field\":\"x\"},\"y\":{\"field\":\"y\"}},\"id\":\"10386\",\"type\":\"Line\"},{\"attributes\":{},\"id\":\"10393\",\"type\":\"BasicTickFormatter\"},{\"attributes\":{\"data_source\":{\"id\":\"10428\",\"type\":\"ColumnDataSource\"},\"glyph\":{\"id\":\"10429\",\"type\":\"Line\"},\"hover_glyph\":null,\"muted_glyph\":null,\"nonselection_glyph\":{\"id\":\"10430\",\"type\":\"Line\"},\"selection_glyph\":null,\"view\":{\"id\":\"10432\",\"type\":\"CDSView\"}},\"id\":\"10431\",\"type\":\"GlyphRenderer\"},{\"attributes\":{\"bottom_units\":\"screen\",\"fill_alpha\":{\"value\":0.5},\"fill_color\":{\"value\":\"lightgrey\"},\"left_units\":\"screen\",\"level\":\"overlay\",\"line_alpha\":{\"value\":1.0},\"line_color\":{\"value\":\"black\"},\"line_dash\":[4,4],\"line_width\":{\"value\":2},\"render_mode\":\"css\",\"right_units\":\"screen\",\"top_units\":\"screen\"},\"id\":\"10395\",\"type\":\"BoxAnnotation\"},{\"attributes\":{},\"id\":\"10366\",\"type\":\"BasicTicker\"},{\"attributes\":{\"callback\":null,\"data\":{\"x\":[30,60,90,120,150,200,300,800],\"y\":{\"__ndarray__\":\"zczMPRiV1D3PZtU9sAPnPbAD5z37y+491xLyPSUGAT4=\",\"dtype\":\"float32\",\"shape\":[8]}},\"selected\":{\"id\":\"10425\",\"type\":\"Selection\"},\"selection_policy\":{\"id\":\"10426\",\"type\":\"UnionRenderers\"}},\"id\":\"10398\",\"type\":\"ColumnDataSource\"},{\"attributes\":{},\"id\":\"10358\",\"type\":\"LinearScale\"},{\"attributes\":{\"callback\":null,\"data\":{\"x\":[30,60,90,120,150,200,300,800],\"y\":{\"__ndarray__\":\"g8DKPRe30T09LNQ9QmDlPY0o7T3VeOk9/mX3Pd9PDT4=\",\"dtype\":\"float32\",\"shape\":[8]}},\"selected\":{\"id\":\"10808\",\"type\":\"Selection\"},\"selection_policy\":{\"id\":\"10809\",\"type\":\"UnionRenderers\"}},\"id\":\"10428\",\"type\":\"ColumnDataSource\"},{\"attributes\":{},\"id\":\"10443\",\"type\":\"Selection\"},{\"attributes\":{},\"id\":\"10356\",\"type\":\"LinearScale\"},{\"attributes\":{\"line_color\":\"green\",\"x\":{\"field\":\"x\"},\"y\":{\"field\":\"y\"}},\"id\":\"10413\",\"type\":\"Line\"},{\"attributes\":{\"axis_label\":\"length / nm\",\"formatter\":{\"id\":\"10393\",\"type\":\"BasicTickFormatter\"},\"ticker\":{\"id\":\"10361\",\"type\":\"BasicTicker\"}},\"id\":\"10360\",\"type\":\"LinearAxis\"},{\"attributes\":{\"label\":{\"value\":\"k(E11) = 1.e+10\"},\"renderers\":[{\"id\":\"10431\",\"type\":\"GlyphRenderer\"}]},\"id\":\"10445\",\"type\":\"LegendItem\"},{\"attributes\":{},\"id\":\"10373\",\"type\":\"SaveTool\"},{\"attributes\":{},\"id\":\"10410\",\"type\":\"UnionRenderers\"},{\"attributes\":{\"label\":{\"value\":\"k(E11) = 3.e+10\"},\"renderers\":[{\"id\":\"10401\",\"type\":\"GlyphRenderer\"}]},\"id\":\"10411\",\"type\":\"LegendItem\"},{\"attributes\":{},\"id\":\"10444\",\"type\":\"UnionRenderers\"},{\"attributes\":{\"callback\":null},\"id\":\"10354\",\"type\":\"DataRange1d\"},{\"attributes\":{\"line_color\":\"red\",\"x\":{\"field\":\"x\"},\"y\":{\"field\":\"y\"}},\"id\":\"10399\",\"type\":\"Line\"},{\"attributes\":{\"source\":{\"id\":\"10412\",\"type\":\"ColumnDataSource\"}},\"id\":\"10416\",\"type\":\"CDSView\"},{\"attributes\":{\"ticker\":{\"id\":\"10361\",\"type\":\"BasicTicker\"}},\"id\":\"10364\",\"type\":\"Grid\"},{\"attributes\":{},\"id\":\"10808\",\"type\":\"Selection\"},{\"attributes\":{\"callback\":null},\"id\":\"10352\",\"type\":\"DataRange1d\"},{\"attributes\":{},\"id\":\"10370\",\"type\":\"PanTool\"},{\"attributes\":{\"line_alpha\":0.1,\"line_color\":\"#1f77b4\",\"x\":{\"field\":\"x\"},\"y\":{\"field\":\"y\"}},\"id\":\"10414\",\"type\":\"Line\"},{\"attributes\":{\"callback\":null},\"id\":\"10383\",\"type\":\"HoverTool\"},{\"attributes\":{\"dimension\":1,\"ticker\":{\"id\":\"10366\",\"type\":\"BasicTicker\"}},\"id\":\"10369\",\"type\":\"Grid\"}],\"root_ids\":[\"10349\"]},\"title\":\"Bokeh Application\",\"version\":\"1.3.4\"}};\n",
       "  var render_items = [{\"docid\":\"c07bb6aa-772f-4fa9-8a1f-3f7f232ac104\",\"roots\":{\"10349\":\"e5fe559d-4b08-42b8-9f53-e85ee80f0132\"}}];\n",
       "  root.Bokeh.embed.embed_items_notebook(docs_json, render_items);\n",
       "\n",
       "  }\n",
       "  if (root.Bokeh !== undefined) {\n",
       "    embed_document(root);\n",
       "  } else {\n",
       "    var attempts = 0;\n",
       "    var timer = setInterval(function(root) {\n",
       "      if (root.Bokeh !== undefined) {\n",
       "        embed_document(root);\n",
       "        clearInterval(timer);\n",
       "      }\n",
       "      attempts++;\n",
       "      if (attempts > 100) {\n",
       "        console.log(\"Bokeh: ERROR: Unable to run BokehJS code because BokehJS library is missing\");\n",
       "        clearInterval(timer);\n",
       "      }\n",
       "    }, 10, root)\n",
       "  }\n",
       "})(window);"
      ],
      "application/vnd.bokehjs_exec.v0+json": ""
     },
     "metadata": {
      "application/vnd.bokehjs_exec.v0+json": {
       "id": "10349"
      }
     },
     "output_type": "display_data"
    }
   ],
   "source": [
    "plot = figure(title='Length Relation, defect density = 20 nm', width=800, height=400)\n",
    "plot.add_tools(HoverTool())\n",
    "for i, sim in enumerate(length_calc_2):\n",
    "    plot.line(sim.calc_dict['CNT_length'], sim.QY[:, 0],\n",
    "              legend=f'k(E11) = {np.format_float_scientific(sim.kin_const[1])}', color=color_list[i])\n",
    "plot.xaxis.axis_label = 'length / nm'\n",
    "plot.yaxis.axis_label = 'QY (E11*)'\n",
    "show(plot)"
   ]
  },
  {
   "cell_type": "code",
   "execution_count": 85,
   "metadata": {},
   "outputs": [
    {
     "data": {
      "text/html": [
       "\n",
       "\n",
       "\n",
       "\n",
       "\n",
       "\n",
       "  <div class=\"bk-root\" id=\"b449d178-e01c-4459-b6e7-d492f8437151\" data-root-id=\"10894\"></div>\n"
      ]
     },
     "metadata": {},
     "output_type": "display_data"
    },
    {
     "data": {
      "application/javascript": [
       "(function(root) {\n",
       "  function embed_document(root) {\n",
       "    \n",
       "  var docs_json = {\"b2394dae-89be-4ff0-a027-4ccb340588ec\":{\"roots\":{\"references\":[{\"attributes\":{\"below\":[{\"id\":\"10905\",\"type\":\"LinearAxis\"}],\"center\":[{\"id\":\"10909\",\"type\":\"Grid\"},{\"id\":\"10914\",\"type\":\"Grid\"},{\"id\":\"10941\",\"type\":\"Legend\"}],\"left\":[{\"id\":\"10910\",\"type\":\"LinearAxis\"}],\"plot_height\":400,\"plot_width\":800,\"renderers\":[{\"id\":\"10933\",\"type\":\"GlyphRenderer\"},{\"id\":\"10946\",\"type\":\"GlyphRenderer\"},{\"id\":\"10960\",\"type\":\"GlyphRenderer\"},{\"id\":\"10976\",\"type\":\"GlyphRenderer\"}],\"title\":{\"id\":\"10895\",\"type\":\"Title\"},\"toolbar\":{\"id\":\"10921\",\"type\":\"Toolbar\"},\"x_range\":{\"id\":\"10897\",\"type\":\"DataRange1d\"},\"x_scale\":{\"id\":\"10901\",\"type\":\"LinearScale\"},\"y_range\":{\"id\":\"10899\",\"type\":\"DataRange1d\"},\"y_scale\":{\"id\":\"10903\",\"type\":\"LinearScale\"}},\"id\":\"10894\",\"subtype\":\"Figure\",\"type\":\"Plot\"},{\"attributes\":{},\"id\":\"10970\",\"type\":\"Selection\"},{\"attributes\":{\"label\":{\"value\":\"k(E11) = 2.e+10\"},\"renderers\":[{\"id\":\"10960\",\"type\":\"GlyphRenderer\"}]},\"id\":\"10972\",\"type\":\"LegendItem\"},{\"attributes\":{\"overlay\":{\"id\":\"10940\",\"type\":\"BoxAnnotation\"}},\"id\":\"10917\",\"type\":\"BoxZoomTool\"},{\"attributes\":{\"label\":{\"value\":\"k(E11) = 3.e+10\"},\"renderers\":[{\"id\":\"10946\",\"type\":\"GlyphRenderer\"}]},\"id\":\"10956\",\"type\":\"LegendItem\"},{\"attributes\":{},\"id\":\"10918\",\"type\":\"SaveTool\"},{\"attributes\":{\"line_color\":\"green\",\"x\":{\"field\":\"x\"},\"y\":{\"field\":\"y\"}},\"id\":\"10958\",\"type\":\"Line\"},{\"attributes\":{},\"id\":\"10971\",\"type\":\"UnionRenderers\"},{\"attributes\":{\"callback\":null,\"data\":{\"x\":[30,60,90,120,150,200,300,800],\"y\":{\"__ndarray__\":\"AAAAAAAAAAAXt1E5AAAAABe3UTkAAAAAF7fRORe30Tk=\",\"dtype\":\"float32\",\"shape\":[8]}},\"selected\":{\"id\":\"10954\",\"type\":\"Selection\"},\"selection_policy\":{\"id\":\"10955\",\"type\":\"UnionRenderers\"}},\"id\":\"10930\",\"type\":\"ColumnDataSource\"},{\"attributes\":{},\"id\":\"10919\",\"type\":\"ResetTool\"},{\"attributes\":{\"line_color\":\"gold\",\"x\":{\"field\":\"x\"},\"y\":{\"field\":\"y\"}},\"id\":\"10974\",\"type\":\"Line\"},{\"attributes\":{},\"id\":\"10903\",\"type\":\"LinearScale\"},{\"attributes\":{},\"id\":\"10916\",\"type\":\"WheelZoomTool\"},{\"attributes\":{\"source\":{\"id\":\"10930\",\"type\":\"ColumnDataSource\"}},\"id\":\"10934\",\"type\":\"CDSView\"},{\"attributes\":{},\"id\":\"10920\",\"type\":\"HelpTool\"},{\"attributes\":{\"axis_label\":\"length / nm\",\"formatter\":{\"id\":\"10938\",\"type\":\"BasicTickFormatter\"},\"ticker\":{\"id\":\"10906\",\"type\":\"BasicTicker\"}},\"id\":\"10905\",\"type\":\"LinearAxis\"},{\"attributes\":{\"line_alpha\":0.1,\"line_color\":\"#1f77b4\",\"x\":{\"field\":\"x\"},\"y\":{\"field\":\"y\"}},\"id\":\"10932\",\"type\":\"Line\"},{\"attributes\":{\"active_drag\":\"auto\",\"active_inspect\":\"auto\",\"active_multi\":null,\"active_scroll\":\"auto\",\"active_tap\":\"auto\",\"tools\":[{\"id\":\"10915\",\"type\":\"PanTool\"},{\"id\":\"10916\",\"type\":\"WheelZoomTool\"},{\"id\":\"10917\",\"type\":\"BoxZoomTool\"},{\"id\":\"10918\",\"type\":\"SaveTool\"},{\"id\":\"10919\",\"type\":\"ResetTool\"},{\"id\":\"10920\",\"type\":\"HelpTool\"},{\"id\":\"10928\",\"type\":\"HoverTool\"}]},\"id\":\"10921\",\"type\":\"Toolbar\"},{\"attributes\":{\"line_color\":\"blue\",\"x\":{\"field\":\"x\"},\"y\":{\"field\":\"y\"}},\"id\":\"10931\",\"type\":\"Line\"},{\"attributes\":{\"source\":{\"id\":\"10973\",\"type\":\"ColumnDataSource\"}},\"id\":\"10977\",\"type\":\"CDSView\"},{\"attributes\":{\"ticker\":{\"id\":\"10906\",\"type\":\"BasicTicker\"}},\"id\":\"10909\",\"type\":\"Grid\"},{\"attributes\":{\"line_alpha\":0.1,\"line_color\":\"#1f77b4\",\"x\":{\"field\":\"x\"},\"y\":{\"field\":\"y\"}},\"id\":\"10975\",\"type\":\"Line\"},{\"attributes\":{\"axis_label\":\"QY (E11)\",\"formatter\":{\"id\":\"10936\",\"type\":\"BasicTickFormatter\"},\"ticker\":{\"id\":\"10911\",\"type\":\"BasicTicker\"}},\"id\":\"10910\",\"type\":\"LinearAxis\"},{\"attributes\":{\"data_source\":{\"id\":\"10957\",\"type\":\"ColumnDataSource\"},\"glyph\":{\"id\":\"10958\",\"type\":\"Line\"},\"hover_glyph\":null,\"muted_glyph\":null,\"nonselection_glyph\":{\"id\":\"10959\",\"type\":\"Line\"},\"selection_glyph\":null,\"view\":{\"id\":\"10961\",\"type\":\"CDSView\"}},\"id\":\"10960\",\"type\":\"GlyphRenderer\"},{\"attributes\":{\"callback\":null},\"id\":\"10899\",\"type\":\"DataRange1d\"},{\"attributes\":{},\"id\":\"10936\",\"type\":\"BasicTickFormatter\"},{\"attributes\":{\"callback\":null,\"data\":{\"x\":[30,60,90,120,150,200,300,800],\"y\":{\"__ndarray__\":\"AAAAAAAAAAAAAAAAAAAAABe3UToAAAAAAAAAABe3UTk=\",\"dtype\":\"float32\",\"shape\":[8]}},\"selected\":{\"id\":\"10970\",\"type\":\"Selection\"},\"selection_policy\":{\"id\":\"10971\",\"type\":\"UnionRenderers\"}},\"id\":\"10943\",\"type\":\"ColumnDataSource\"},{\"attributes\":{},\"id\":\"10955\",\"type\":\"UnionRenderers\"},{\"attributes\":{\"data_source\":{\"id\":\"10973\",\"type\":\"ColumnDataSource\"},\"glyph\":{\"id\":\"10974\",\"type\":\"Line\"},\"hover_glyph\":null,\"muted_glyph\":null,\"nonselection_glyph\":{\"id\":\"10975\",\"type\":\"Line\"},\"selection_glyph\":null,\"view\":{\"id\":\"10977\",\"type\":\"CDSView\"}},\"id\":\"10976\",\"type\":\"GlyphRenderer\"},{\"attributes\":{},\"id\":\"10915\",\"type\":\"PanTool\"},{\"attributes\":{\"data_source\":{\"id\":\"10930\",\"type\":\"ColumnDataSource\"},\"glyph\":{\"id\":\"10931\",\"type\":\"Line\"},\"hover_glyph\":null,\"muted_glyph\":null,\"nonselection_glyph\":{\"id\":\"10932\",\"type\":\"Line\"},\"selection_glyph\":null,\"view\":{\"id\":\"10934\",\"type\":\"CDSView\"}},\"id\":\"10933\",\"type\":\"GlyphRenderer\"},{\"attributes\":{\"line_alpha\":0.1,\"line_color\":\"#1f77b4\",\"x\":{\"field\":\"x\"},\"y\":{\"field\":\"y\"}},\"id\":\"10959\",\"type\":\"Line\"},{\"attributes\":{},\"id\":\"10988\",\"type\":\"Selection\"},{\"attributes\":{\"dimension\":1,\"ticker\":{\"id\":\"10911\",\"type\":\"BasicTicker\"}},\"id\":\"10914\",\"type\":\"Grid\"},{\"attributes\":{\"label\":{\"value\":\"k(E11) = 1.e+10\"},\"renderers\":[{\"id\":\"10976\",\"type\":\"GlyphRenderer\"}]},\"id\":\"10990\",\"type\":\"LegendItem\"},{\"attributes\":{\"source\":{\"id\":\"10943\",\"type\":\"ColumnDataSource\"}},\"id\":\"10947\",\"type\":\"CDSView\"},{\"attributes\":{},\"id\":\"10938\",\"type\":\"BasicTickFormatter\"},{\"attributes\":{},\"id\":\"10989\",\"type\":\"UnionRenderers\"},{\"attributes\":{\"data_source\":{\"id\":\"10943\",\"type\":\"ColumnDataSource\"},\"glyph\":{\"id\":\"10944\",\"type\":\"Line\"},\"hover_glyph\":null,\"muted_glyph\":null,\"nonselection_glyph\":{\"id\":\"10945\",\"type\":\"Line\"},\"selection_glyph\":null,\"view\":{\"id\":\"10947\",\"type\":\"CDSView\"}},\"id\":\"10946\",\"type\":\"GlyphRenderer\"},{\"attributes\":{\"bottom_units\":\"screen\",\"fill_alpha\":{\"value\":0.5},\"fill_color\":{\"value\":\"lightgrey\"},\"left_units\":\"screen\",\"level\":\"overlay\",\"line_alpha\":{\"value\":1.0},\"line_color\":{\"value\":\"black\"},\"line_dash\":[4,4],\"line_width\":{\"value\":2},\"render_mode\":\"css\",\"right_units\":\"screen\",\"top_units\":\"screen\"},\"id\":\"10940\",\"type\":\"BoxAnnotation\"},{\"attributes\":{\"label\":{\"value\":\"k(E11) = 1.5e+10\"},\"renderers\":[{\"id\":\"10933\",\"type\":\"GlyphRenderer\"}]},\"id\":\"10942\",\"type\":\"LegendItem\"},{\"attributes\":{},\"id\":\"11368\",\"type\":\"UnionRenderers\"},{\"attributes\":{},\"id\":\"11367\",\"type\":\"Selection\"},{\"attributes\":{\"items\":[{\"id\":\"10942\",\"type\":\"LegendItem\"},{\"id\":\"10956\",\"type\":\"LegendItem\"},{\"id\":\"10972\",\"type\":\"LegendItem\"},{\"id\":\"10990\",\"type\":\"LegendItem\"}]},\"id\":\"10941\",\"type\":\"Legend\"},{\"attributes\":{\"line_alpha\":0.1,\"line_color\":\"#1f77b4\",\"x\":{\"field\":\"x\"},\"y\":{\"field\":\"y\"}},\"id\":\"10945\",\"type\":\"Line\"},{\"attributes\":{\"source\":{\"id\":\"10957\",\"type\":\"ColumnDataSource\"}},\"id\":\"10961\",\"type\":\"CDSView\"},{\"attributes\":{\"text\":\"Length Relation, defectdensity = 20 nm\"},\"id\":\"10895\",\"type\":\"Title\"},{\"attributes\":{\"callback\":null},\"id\":\"10897\",\"type\":\"DataRange1d\"},{\"attributes\":{},\"id\":\"10906\",\"type\":\"BasicTicker\"},{\"attributes\":{\"line_color\":\"red\",\"x\":{\"field\":\"x\"},\"y\":{\"field\":\"y\"}},\"id\":\"10944\",\"type\":\"Line\"},{\"attributes\":{},\"id\":\"10911\",\"type\":\"BasicTicker\"},{\"attributes\":{\"callback\":null,\"data\":{\"x\":[30,60,90,120,150,200,300,800],\"y\":{\"__ndarray__\":\"AAAAAAAAAAAAAAAAAAAAAAAAAAAXt1E5F7dRORe30Tk=\",\"dtype\":\"float32\",\"shape\":[8]}},\"selected\":{\"id\":\"10988\",\"type\":\"Selection\"},\"selection_policy\":{\"id\":\"10989\",\"type\":\"UnionRenderers\"}},\"id\":\"10957\",\"type\":\"ColumnDataSource\"},{\"attributes\":{},\"id\":\"10954\",\"type\":\"Selection\"},{\"attributes\":{},\"id\":\"10901\",\"type\":\"LinearScale\"},{\"attributes\":{\"callback\":null,\"data\":{\"x\":[30,60,90,120,150,200,300,800],\"y\":{\"__ndarray__\":\"AAAAAAAAAAAAAAAAAAAAAAAAAAAXt1E5UkkdOhe30Tk=\",\"dtype\":\"float32\",\"shape\":[8]}},\"selected\":{\"id\":\"11367\",\"type\":\"Selection\"},\"selection_policy\":{\"id\":\"11368\",\"type\":\"UnionRenderers\"}},\"id\":\"10973\",\"type\":\"ColumnDataSource\"},{\"attributes\":{\"callback\":null},\"id\":\"10928\",\"type\":\"HoverTool\"}],\"root_ids\":[\"10894\"]},\"title\":\"Bokeh Application\",\"version\":\"1.3.4\"}};\n",
       "  var render_items = [{\"docid\":\"b2394dae-89be-4ff0-a027-4ccb340588ec\",\"roots\":{\"10894\":\"b449d178-e01c-4459-b6e7-d492f8437151\"}}];\n",
       "  root.Bokeh.embed.embed_items_notebook(docs_json, render_items);\n",
       "\n",
       "  }\n",
       "  if (root.Bokeh !== undefined) {\n",
       "    embed_document(root);\n",
       "  } else {\n",
       "    var attempts = 0;\n",
       "    var timer = setInterval(function(root) {\n",
       "      if (root.Bokeh !== undefined) {\n",
       "        embed_document(root);\n",
       "        clearInterval(timer);\n",
       "      }\n",
       "      attempts++;\n",
       "      if (attempts > 100) {\n",
       "        console.log(\"Bokeh: ERROR: Unable to run BokehJS code because BokehJS library is missing\");\n",
       "        clearInterval(timer);\n",
       "      }\n",
       "    }, 10, root)\n",
       "  }\n",
       "})(window);"
      ],
      "application/vnd.bokehjs_exec.v0+json": ""
     },
     "metadata": {
      "application/vnd.bokehjs_exec.v0+json": {
       "id": "10894"
      }
     },
     "output_type": "display_data"
    }
   ],
   "source": [
    "plot = figure(title='Length Relation, defectdensity = 20 nm', width=800, height=400)\n",
    "plot.add_tools(HoverTool())\n",
    "for i, sim in enumerate(length_calc_2):\n",
    "    plot.line(sim.calc_dict['CNT_length'], sim.QY[:, 1],\n",
    "              legend=f'k(E11) = {np.format_float_scientific(sim.kin_const[1])}', color=color_list[i])\n",
    "plot.xaxis.axis_label = 'length / nm'\n",
    "plot.yaxis.axis_label = 'QY (E11)'\n",
    "show(plot)"
   ]
  },
  {
   "cell_type": "code",
   "execution_count": null,
   "metadata": {},
   "outputs": [],
   "source": []
  }
 ],
 "metadata": {
  "kernelspec": {
   "display_name": "CNT-MC",
   "language": "python",
   "name": "cnt-mc"
  },
  "language_info": {
   "codemirror_mode": {
    "name": "ipython",
    "version": 3
   },
   "file_extension": ".py",
   "mimetype": "text/x-python",
   "name": "python",
   "nbconvert_exporter": "python",
   "pygments_lexer": "ipython3",
   "version": "3.7.7"
  }
 },
 "nbformat": 4,
 "nbformat_minor": 4
}
