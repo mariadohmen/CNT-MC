{
 "cells": [
  {
   "cell_type": "code",
   "execution_count": 1,
   "metadata": {},
   "outputs": [
    {
     "data": {
      "text/html": [
       "\n",
       "    <div class=\"bk-root\">\n",
       "        <a href=\"https://bokeh.pydata.org\" target=\"_blank\" class=\"bk-logo bk-logo-small bk-logo-notebook\"></a>\n",
       "        <span id=\"1001\">Loading BokehJS ...</span>\n",
       "    </div>"
      ]
     },
     "metadata": {},
     "output_type": "display_data"
    },
    {
     "data": {
      "application/javascript": [
       "\n",
       "(function(root) {\n",
       "  function now() {\n",
       "    return new Date();\n",
       "  }\n",
       "\n",
       "  var force = true;\n",
       "\n",
       "  if (typeof root._bokeh_onload_callbacks === \"undefined\" || force === true) {\n",
       "    root._bokeh_onload_callbacks = [];\n",
       "    root._bokeh_is_loading = undefined;\n",
       "  }\n",
       "\n",
       "  var JS_MIME_TYPE = 'application/javascript';\n",
       "  var HTML_MIME_TYPE = 'text/html';\n",
       "  var EXEC_MIME_TYPE = 'application/vnd.bokehjs_exec.v0+json';\n",
       "  var CLASS_NAME = 'output_bokeh rendered_html';\n",
       "\n",
       "  /**\n",
       "   * Render data to the DOM node\n",
       "   */\n",
       "  function render(props, node) {\n",
       "    var script = document.createElement(\"script\");\n",
       "    node.appendChild(script);\n",
       "  }\n",
       "\n",
       "  /**\n",
       "   * Handle when an output is cleared or removed\n",
       "   */\n",
       "  function handleClearOutput(event, handle) {\n",
       "    var cell = handle.cell;\n",
       "\n",
       "    var id = cell.output_area._bokeh_element_id;\n",
       "    var server_id = cell.output_area._bokeh_server_id;\n",
       "    // Clean up Bokeh references\n",
       "    if (id != null && id in Bokeh.index) {\n",
       "      Bokeh.index[id].model.document.clear();\n",
       "      delete Bokeh.index[id];\n",
       "    }\n",
       "\n",
       "    if (server_id !== undefined) {\n",
       "      // Clean up Bokeh references\n",
       "      var cmd = \"from bokeh.io.state import curstate; print(curstate().uuid_to_server['\" + server_id + \"'].get_sessions()[0].document.roots[0]._id)\";\n",
       "      cell.notebook.kernel.execute(cmd, {\n",
       "        iopub: {\n",
       "          output: function(msg) {\n",
       "            var id = msg.content.text.trim();\n",
       "            if (id in Bokeh.index) {\n",
       "              Bokeh.index[id].model.document.clear();\n",
       "              delete Bokeh.index[id];\n",
       "            }\n",
       "          }\n",
       "        }\n",
       "      });\n",
       "      // Destroy server and session\n",
       "      var cmd = \"import bokeh.io.notebook as ion; ion.destroy_server('\" + server_id + \"')\";\n",
       "      cell.notebook.kernel.execute(cmd);\n",
       "    }\n",
       "  }\n",
       "\n",
       "  /**\n",
       "   * Handle when a new output is added\n",
       "   */\n",
       "  function handleAddOutput(event, handle) {\n",
       "    var output_area = handle.output_area;\n",
       "    var output = handle.output;\n",
       "\n",
       "    // limit handleAddOutput to display_data with EXEC_MIME_TYPE content only\n",
       "    if ((output.output_type != \"display_data\") || (!output.data.hasOwnProperty(EXEC_MIME_TYPE))) {\n",
       "      return\n",
       "    }\n",
       "\n",
       "    var toinsert = output_area.element.find(\".\" + CLASS_NAME.split(' ')[0]);\n",
       "\n",
       "    if (output.metadata[EXEC_MIME_TYPE][\"id\"] !== undefined) {\n",
       "      toinsert[toinsert.length - 1].firstChild.textContent = output.data[JS_MIME_TYPE];\n",
       "      // store reference to embed id on output_area\n",
       "      output_area._bokeh_element_id = output.metadata[EXEC_MIME_TYPE][\"id\"];\n",
       "    }\n",
       "    if (output.metadata[EXEC_MIME_TYPE][\"server_id\"] !== undefined) {\n",
       "      var bk_div = document.createElement(\"div\");\n",
       "      bk_div.innerHTML = output.data[HTML_MIME_TYPE];\n",
       "      var script_attrs = bk_div.children[0].attributes;\n",
       "      for (var i = 0; i < script_attrs.length; i++) {\n",
       "        toinsert[toinsert.length - 1].firstChild.setAttribute(script_attrs[i].name, script_attrs[i].value);\n",
       "      }\n",
       "      // store reference to server id on output_area\n",
       "      output_area._bokeh_server_id = output.metadata[EXEC_MIME_TYPE][\"server_id\"];\n",
       "    }\n",
       "  }\n",
       "\n",
       "  function register_renderer(events, OutputArea) {\n",
       "\n",
       "    function append_mime(data, metadata, element) {\n",
       "      // create a DOM node to render to\n",
       "      var toinsert = this.create_output_subarea(\n",
       "        metadata,\n",
       "        CLASS_NAME,\n",
       "        EXEC_MIME_TYPE\n",
       "      );\n",
       "      this.keyboard_manager.register_events(toinsert);\n",
       "      // Render to node\n",
       "      var props = {data: data, metadata: metadata[EXEC_MIME_TYPE]};\n",
       "      render(props, toinsert[toinsert.length - 1]);\n",
       "      element.append(toinsert);\n",
       "      return toinsert\n",
       "    }\n",
       "\n",
       "    /* Handle when an output is cleared or removed */\n",
       "    events.on('clear_output.CodeCell', handleClearOutput);\n",
       "    events.on('delete.Cell', handleClearOutput);\n",
       "\n",
       "    /* Handle when a new output is added */\n",
       "    events.on('output_added.OutputArea', handleAddOutput);\n",
       "\n",
       "    /**\n",
       "     * Register the mime type and append_mime function with output_area\n",
       "     */\n",
       "    OutputArea.prototype.register_mime_type(EXEC_MIME_TYPE, append_mime, {\n",
       "      /* Is output safe? */\n",
       "      safe: true,\n",
       "      /* Index of renderer in `output_area.display_order` */\n",
       "      index: 0\n",
       "    });\n",
       "  }\n",
       "\n",
       "  // register the mime type if in Jupyter Notebook environment and previously unregistered\n",
       "  if (root.Jupyter !== undefined) {\n",
       "    var events = require('base/js/events');\n",
       "    var OutputArea = require('notebook/js/outputarea').OutputArea;\n",
       "\n",
       "    if (OutputArea.prototype.mime_types().indexOf(EXEC_MIME_TYPE) == -1) {\n",
       "      register_renderer(events, OutputArea);\n",
       "    }\n",
       "  }\n",
       "\n",
       "  \n",
       "  if (typeof (root._bokeh_timeout) === \"undefined\" || force === true) {\n",
       "    root._bokeh_timeout = Date.now() + 5000;\n",
       "    root._bokeh_failed_load = false;\n",
       "  }\n",
       "\n",
       "  var NB_LOAD_WARNING = {'data': {'text/html':\n",
       "     \"<div style='background-color: #fdd'>\\n\"+\n",
       "     \"<p>\\n\"+\n",
       "     \"BokehJS does not appear to have successfully loaded. If loading BokehJS from CDN, this \\n\"+\n",
       "     \"may be due to a slow or bad network connection. Possible fixes:\\n\"+\n",
       "     \"</p>\\n\"+\n",
       "     \"<ul>\\n\"+\n",
       "     \"<li>re-rerun `output_notebook()` to attempt to load from CDN again, or</li>\\n\"+\n",
       "     \"<li>use INLINE resources instead, as so:</li>\\n\"+\n",
       "     \"</ul>\\n\"+\n",
       "     \"<code>\\n\"+\n",
       "     \"from bokeh.resources import INLINE\\n\"+\n",
       "     \"output_notebook(resources=INLINE)\\n\"+\n",
       "     \"</code>\\n\"+\n",
       "     \"</div>\"}};\n",
       "\n",
       "  function display_loaded() {\n",
       "    var el = document.getElementById(\"1001\");\n",
       "    if (el != null) {\n",
       "      el.textContent = \"BokehJS is loading...\";\n",
       "    }\n",
       "    if (root.Bokeh !== undefined) {\n",
       "      if (el != null) {\n",
       "        el.textContent = \"BokehJS \" + root.Bokeh.version + \" successfully loaded.\";\n",
       "      }\n",
       "    } else if (Date.now() < root._bokeh_timeout) {\n",
       "      setTimeout(display_loaded, 100)\n",
       "    }\n",
       "  }\n",
       "\n",
       "\n",
       "  function run_callbacks() {\n",
       "    try {\n",
       "      root._bokeh_onload_callbacks.forEach(function(callback) {\n",
       "        if (callback != null)\n",
       "          callback();\n",
       "      });\n",
       "    } finally {\n",
       "      delete root._bokeh_onload_callbacks\n",
       "    }\n",
       "    console.debug(\"Bokeh: all callbacks have finished\");\n",
       "  }\n",
       "\n",
       "  function load_libs(css_urls, js_urls, callback) {\n",
       "    if (css_urls == null) css_urls = [];\n",
       "    if (js_urls == null) js_urls = [];\n",
       "\n",
       "    root._bokeh_onload_callbacks.push(callback);\n",
       "    if (root._bokeh_is_loading > 0) {\n",
       "      console.debug(\"Bokeh: BokehJS is being loaded, scheduling callback at\", now());\n",
       "      return null;\n",
       "    }\n",
       "    if (js_urls == null || js_urls.length === 0) {\n",
       "      run_callbacks();\n",
       "      return null;\n",
       "    }\n",
       "    console.debug(\"Bokeh: BokehJS not loaded, scheduling load and callback at\", now());\n",
       "    root._bokeh_is_loading = css_urls.length + js_urls.length;\n",
       "\n",
       "    function on_load() {\n",
       "      root._bokeh_is_loading--;\n",
       "      if (root._bokeh_is_loading === 0) {\n",
       "        console.debug(\"Bokeh: all BokehJS libraries/stylesheets loaded\");\n",
       "        run_callbacks()\n",
       "      }\n",
       "    }\n",
       "\n",
       "    function on_error() {\n",
       "      console.error(\"failed to load \" + url);\n",
       "    }\n",
       "\n",
       "    for (var i = 0; i < css_urls.length; i++) {\n",
       "      var url = css_urls[i];\n",
       "      const element = document.createElement(\"link\");\n",
       "      element.onload = on_load;\n",
       "      element.onerror = on_error;\n",
       "      element.rel = \"stylesheet\";\n",
       "      element.type = \"text/css\";\n",
       "      element.href = url;\n",
       "      console.debug(\"Bokeh: injecting link tag for BokehJS stylesheet: \", url);\n",
       "      document.body.appendChild(element);\n",
       "    }\n",
       "\n",
       "    for (var i = 0; i < js_urls.length; i++) {\n",
       "      var url = js_urls[i];\n",
       "      var element = document.createElement('script');\n",
       "      element.onload = on_load;\n",
       "      element.onerror = on_error;\n",
       "      element.async = false;\n",
       "      element.src = url;\n",
       "      console.debug(\"Bokeh: injecting script tag for BokehJS library: \", url);\n",
       "      document.head.appendChild(element);\n",
       "    }\n",
       "  };var element = document.getElementById(\"1001\");\n",
       "  if (element == null) {\n",
       "    console.error(\"Bokeh: ERROR: autoload.js configured with elementid '1001' but no matching script tag was found. \")\n",
       "    return false;\n",
       "  }\n",
       "\n",
       "  function inject_raw_css(css) {\n",
       "    const element = document.createElement(\"style\");\n",
       "    element.appendChild(document.createTextNode(css));\n",
       "    document.body.appendChild(element);\n",
       "  }\n",
       "\n",
       "  var js_urls = [\"https://cdn.pydata.org/bokeh/release/bokeh-1.3.4.min.js\", \"https://cdn.pydata.org/bokeh/release/bokeh-widgets-1.3.4.min.js\", \"https://cdn.pydata.org/bokeh/release/bokeh-tables-1.3.4.min.js\", \"https://cdn.pydata.org/bokeh/release/bokeh-gl-1.3.4.min.js\"];\n",
       "  var css_urls = [];\n",
       "\n",
       "  var inline_js = [\n",
       "    function(Bokeh) {\n",
       "      Bokeh.set_log_level(\"info\");\n",
       "    },\n",
       "    \n",
       "    function(Bokeh) {\n",
       "      \n",
       "    },\n",
       "    function(Bokeh) {} // ensure no trailing comma for IE\n",
       "  ];\n",
       "\n",
       "  function run_inline_js() {\n",
       "    \n",
       "    if ((root.Bokeh !== undefined) || (force === true)) {\n",
       "      for (var i = 0; i < inline_js.length; i++) {\n",
       "        inline_js[i].call(root, root.Bokeh);\n",
       "      }if (force === true) {\n",
       "        display_loaded();\n",
       "      }} else if (Date.now() < root._bokeh_timeout) {\n",
       "      setTimeout(run_inline_js, 100);\n",
       "    } else if (!root._bokeh_failed_load) {\n",
       "      console.log(\"Bokeh: BokehJS failed to load within specified timeout.\");\n",
       "      root._bokeh_failed_load = true;\n",
       "    } else if (force !== true) {\n",
       "      var cell = $(document.getElementById(\"1001\")).parents('.cell').data().cell;\n",
       "      cell.output_area.append_execute_result(NB_LOAD_WARNING)\n",
       "    }\n",
       "\n",
       "  }\n",
       "\n",
       "  if (root._bokeh_is_loading === 0) {\n",
       "    console.debug(\"Bokeh: BokehJS loaded, going straight to plotting\");\n",
       "    run_inline_js();\n",
       "  } else {\n",
       "    load_libs(css_urls, js_urls, function() {\n",
       "      console.debug(\"Bokeh: BokehJS plotting callback run at\", now());\n",
       "      run_inline_js();\n",
       "    });\n",
       "  }\n",
       "}(window));"
      ],
      "application/vnd.bokehjs_load.v0+json": "\n(function(root) {\n  function now() {\n    return new Date();\n  }\n\n  var force = true;\n\n  if (typeof root._bokeh_onload_callbacks === \"undefined\" || force === true) {\n    root._bokeh_onload_callbacks = [];\n    root._bokeh_is_loading = undefined;\n  }\n\n  \n\n  \n  if (typeof (root._bokeh_timeout) === \"undefined\" || force === true) {\n    root._bokeh_timeout = Date.now() + 5000;\n    root._bokeh_failed_load = false;\n  }\n\n  var NB_LOAD_WARNING = {'data': {'text/html':\n     \"<div style='background-color: #fdd'>\\n\"+\n     \"<p>\\n\"+\n     \"BokehJS does not appear to have successfully loaded. If loading BokehJS from CDN, this \\n\"+\n     \"may be due to a slow or bad network connection. Possible fixes:\\n\"+\n     \"</p>\\n\"+\n     \"<ul>\\n\"+\n     \"<li>re-rerun `output_notebook()` to attempt to load from CDN again, or</li>\\n\"+\n     \"<li>use INLINE resources instead, as so:</li>\\n\"+\n     \"</ul>\\n\"+\n     \"<code>\\n\"+\n     \"from bokeh.resources import INLINE\\n\"+\n     \"output_notebook(resources=INLINE)\\n\"+\n     \"</code>\\n\"+\n     \"</div>\"}};\n\n  function display_loaded() {\n    var el = document.getElementById(\"1001\");\n    if (el != null) {\n      el.textContent = \"BokehJS is loading...\";\n    }\n    if (root.Bokeh !== undefined) {\n      if (el != null) {\n        el.textContent = \"BokehJS \" + root.Bokeh.version + \" successfully loaded.\";\n      }\n    } else if (Date.now() < root._bokeh_timeout) {\n      setTimeout(display_loaded, 100)\n    }\n  }\n\n\n  function run_callbacks() {\n    try {\n      root._bokeh_onload_callbacks.forEach(function(callback) {\n        if (callback != null)\n          callback();\n      });\n    } finally {\n      delete root._bokeh_onload_callbacks\n    }\n    console.debug(\"Bokeh: all callbacks have finished\");\n  }\n\n  function load_libs(css_urls, js_urls, callback) {\n    if (css_urls == null) css_urls = [];\n    if (js_urls == null) js_urls = [];\n\n    root._bokeh_onload_callbacks.push(callback);\n    if (root._bokeh_is_loading > 0) {\n      console.debug(\"Bokeh: BokehJS is being loaded, scheduling callback at\", now());\n      return null;\n    }\n    if (js_urls == null || js_urls.length === 0) {\n      run_callbacks();\n      return null;\n    }\n    console.debug(\"Bokeh: BokehJS not loaded, scheduling load and callback at\", now());\n    root._bokeh_is_loading = css_urls.length + js_urls.length;\n\n    function on_load() {\n      root._bokeh_is_loading--;\n      if (root._bokeh_is_loading === 0) {\n        console.debug(\"Bokeh: all BokehJS libraries/stylesheets loaded\");\n        run_callbacks()\n      }\n    }\n\n    function on_error() {\n      console.error(\"failed to load \" + url);\n    }\n\n    for (var i = 0; i < css_urls.length; i++) {\n      var url = css_urls[i];\n      const element = document.createElement(\"link\");\n      element.onload = on_load;\n      element.onerror = on_error;\n      element.rel = \"stylesheet\";\n      element.type = \"text/css\";\n      element.href = url;\n      console.debug(\"Bokeh: injecting link tag for BokehJS stylesheet: \", url);\n      document.body.appendChild(element);\n    }\n\n    for (var i = 0; i < js_urls.length; i++) {\n      var url = js_urls[i];\n      var element = document.createElement('script');\n      element.onload = on_load;\n      element.onerror = on_error;\n      element.async = false;\n      element.src = url;\n      console.debug(\"Bokeh: injecting script tag for BokehJS library: \", url);\n      document.head.appendChild(element);\n    }\n  };var element = document.getElementById(\"1001\");\n  if (element == null) {\n    console.error(\"Bokeh: ERROR: autoload.js configured with elementid '1001' but no matching script tag was found. \")\n    return false;\n  }\n\n  function inject_raw_css(css) {\n    const element = document.createElement(\"style\");\n    element.appendChild(document.createTextNode(css));\n    document.body.appendChild(element);\n  }\n\n  var js_urls = [\"https://cdn.pydata.org/bokeh/release/bokeh-1.3.4.min.js\", \"https://cdn.pydata.org/bokeh/release/bokeh-widgets-1.3.4.min.js\", \"https://cdn.pydata.org/bokeh/release/bokeh-tables-1.3.4.min.js\", \"https://cdn.pydata.org/bokeh/release/bokeh-gl-1.3.4.min.js\"];\n  var css_urls = [];\n\n  var inline_js = [\n    function(Bokeh) {\n      Bokeh.set_log_level(\"info\");\n    },\n    \n    function(Bokeh) {\n      \n    },\n    function(Bokeh) {} // ensure no trailing comma for IE\n  ];\n\n  function run_inline_js() {\n    \n    if ((root.Bokeh !== undefined) || (force === true)) {\n      for (var i = 0; i < inline_js.length; i++) {\n        inline_js[i].call(root, root.Bokeh);\n      }if (force === true) {\n        display_loaded();\n      }} else if (Date.now() < root._bokeh_timeout) {\n      setTimeout(run_inline_js, 100);\n    } else if (!root._bokeh_failed_load) {\n      console.log(\"Bokeh: BokehJS failed to load within specified timeout.\");\n      root._bokeh_failed_load = true;\n    } else if (force !== true) {\n      var cell = $(document.getElementById(\"1001\")).parents('.cell').data().cell;\n      cell.output_area.append_execute_result(NB_LOAD_WARNING)\n    }\n\n  }\n\n  if (root._bokeh_is_loading === 0) {\n    console.debug(\"Bokeh: BokehJS loaded, going straight to plotting\");\n    run_inline_js();\n  } else {\n    load_libs(css_urls, js_urls, function() {\n      console.debug(\"Bokeh: BokehJS plotting callback run at\", now());\n      run_inline_js();\n    });\n  }\n}(window));"
     },
     "metadata": {},
     "output_type": "display_data"
    }
   ],
   "source": [
    "# %load quick_imports.txt\n",
    "# %load quick_imports.txt\n",
    "import random\n",
    "import sys\n",
    "\n",
    "import numpy as np\n",
    "import matplotlib.pyplot as plt\n",
    "\n",
    "# Bokeh imports\n",
    "from bokeh.io import output_notebook, show, save\n",
    "from bokeh.plotting import figure, output_file, ColumnDataSource, reset_output\n",
    "from bokeh.models import HoverTool\n",
    "output_notebook()\n",
    "\n",
    "from ipywidgets.widgets import Text\n",
    "\n",
    "#scipy constants\n",
    "from scipy.constants import Boltzmann as kB\n",
    "from scipy.constants import Avogadro as NA\n",
    "from scipy.constants import Planck as h\n",
    "from scipy.constants import speed_of_light as c0\n",
    "from scipy.constants import R\n",
    "\n",
    "sys.path.append('../CNT-SIM/')\n",
    "from CNTSimFile import CNTSimFile\n",
    "from mc_sim import exciton_sim_4_level, exciton_sim_4_lvl_full_exchange"
   ]
  },
  {
   "cell_type": "code",
   "execution_count": 2,
   "metadata": {},
   "outputs": [],
   "source": [
    "k_er_per_s = 2e10  # constant for radiativ decay from S11\n",
    "k_br_per_s = 2e10  # constant for radiativ decay from S11*\n",
    "k_enr_per_s = 1e10  # constant of non-radiativ decay from S11\n",
    "k_bnr_per_s = 1e10  # constant for non-radiativ decay from S11*\n",
    "\n",
    "k_de_per_s = 1e09  # constant for going from dark to S11 state\n",
    "k_ed_per_s = 5e10  # constant for going from S11 to dark statestate\n",
    "\n",
    "# termal detrapping 10.1021/acs.jpclett.8b03732\n",
    "k_bd_per_s = 0.5 * (1e12 / 385 + 1e12 / 1132) + 0.1e12 * np.exp(-1.6182e-11 /\n",
    "                                                                (kB * 300))\n",
    "\n",
    "k_dnr_per_s = 0\n",
    "\n",
    "kin_const_1 = np.array([k_br_per_s, k_er_per_s, k_bnr_per_s, k_enr_per_s, k_bd_per_s, k_ed_per_s, k_de_per_s, k_dnr_per_s])"
   ]
  },
  {
   "cell_type": "code",
   "execution_count": 3,
   "metadata": {},
   "outputs": [
    {
     "name": "stdout",
     "output_type": "stream",
     "text": [
      "Existing file loaded successfully.\n"
     ]
    },
    {
     "name": "stderr",
     "output_type": "stream",
     "text": [
      "../CNT-SIM/CNTSimFile.py:30: UserWarning: File already exists, kinetic constants ingored.\n",
      "  warn(\"File already exists, kinetic constants ingored.\")\n"
     ]
    }
   ],
   "source": [
    "exc_sim_def_1 = CNTSimFile('../sim_output/2020-04-24_exciton_sim_4_level-def_1.h5', kin_const_1)"
   ]
  },
  {
   "cell_type": "code",
   "execution_count": 4,
   "metadata": {},
   "outputs": [],
   "source": [
    "exc_sim_def_1.notebook_output = True"
   ]
  },
  {
   "cell_type": "code",
   "execution_count": 5,
   "metadata": {},
   "outputs": [],
   "source": [
    "n_defects = np.arange(0, 260, 20)\n",
    "CNT_length = [30, 60, 90, 120, 150, 200, 300, 500, 800, 1200]"
   ]
  },
  {
   "cell_type": "code",
   "execution_count": 6,
   "metadata": {
    "scrolled": true
   },
   "outputs": [
    {
     "name": "stdout",
     "output_type": "stream",
     "text": [
      "start of calculation: 2020-04-25 11:54:17.909820\n",
      "start of exiton simulation: 2020-04-25 11:54:17.910627\n"
     ]
    },
    {
     "data": {
      "application/vnd.jupyter.widget-view+json": {
       "model_id": "647115d82f9e40b098f79b5d5ba5064c",
       "version_major": 2,
       "version_minor": 0
      },
      "text/plain": [
       "Text(value='')"
      ]
     },
     "metadata": {},
     "output_type": "display_data"
    },
    {
     "name": "stdout",
     "output_type": "stream",
     "text": [
      "2020-04-25 11:54:17.938633\n",
      "elapsed time: 00:00:00\n",
      "exciton processed((0/ 13))\n",
      "start of exiton simulation: 2020-04-25 11:54:17.939237\n"
     ]
    },
    {
     "data": {
      "application/vnd.jupyter.widget-view+json": {
       "model_id": "b0df0d5aaabf4340947f8f3c17a77932",
       "version_major": 2,
       "version_minor": 0
      },
      "text/plain": [
       "Text(value='')"
      ]
     },
     "metadata": {},
     "output_type": "display_data"
    },
    {
     "name": "stdout",
     "output_type": "stream",
     "text": [
      "2020-04-25 11:54:33.508695\n",
      "elapsed time: 00:00:15\n",
      "exciton processed((1/ 13))\n",
      "start of exiton simulation: 2020-04-25 11:54:33.509174\n"
     ]
    },
    {
     "data": {
      "application/vnd.jupyter.widget-view+json": {
       "model_id": "3b355b74ce7a4d5a99195c7b438f1fb6",
       "version_major": 2,
       "version_minor": 0
      },
      "text/plain": [
       "Text(value='')"
      ]
     },
     "metadata": {},
     "output_type": "display_data"
    },
    {
     "name": "stdout",
     "output_type": "stream",
     "text": [
      "2020-04-25 11:54:52.616007\n",
      "elapsed time: 00:00:19\n",
      "exciton processed((2/ 13))\n",
      "start of exiton simulation: 2020-04-25 11:54:52.616405\n"
     ]
    },
    {
     "data": {
      "application/vnd.jupyter.widget-view+json": {
       "model_id": "69a03b967de14b98ad29194516420654",
       "version_major": 2,
       "version_minor": 0
      },
      "text/plain": [
       "Text(value='')"
      ]
     },
     "metadata": {},
     "output_type": "display_data"
    },
    {
     "name": "stdout",
     "output_type": "stream",
     "text": [
      "2020-04-25 11:55:12.082378\n",
      "elapsed time: 00:00:19\n",
      "exciton processed((3/ 13))\n",
      "start of exiton simulation: 2020-04-25 11:55:12.082821\n"
     ]
    },
    {
     "data": {
      "application/vnd.jupyter.widget-view+json": {
       "model_id": "5ec27331993e48a6a4810ae1e7644e2c",
       "version_major": 2,
       "version_minor": 0
      },
      "text/plain": [
       "Text(value='')"
      ]
     },
     "metadata": {},
     "output_type": "display_data"
    },
    {
     "name": "stdout",
     "output_type": "stream",
     "text": [
      "2020-04-25 11:55:32.079571\n",
      "elapsed time: 00:00:19\n",
      "exciton processed((4/ 13))\n",
      "start of exiton simulation: 2020-04-25 11:55:32.080082\n"
     ]
    },
    {
     "data": {
      "application/vnd.jupyter.widget-view+json": {
       "model_id": "34823b7f4d6a452581be5f0b8d6d2910",
       "version_major": 2,
       "version_minor": 0
      },
      "text/plain": [
       "Text(value='')"
      ]
     },
     "metadata": {},
     "output_type": "display_data"
    },
    {
     "name": "stdout",
     "output_type": "stream",
     "text": [
      "2020-04-25 11:55:52.681819\n",
      "elapsed time: 00:00:20\n",
      "exciton processed((5/ 13))\n",
      "start of exiton simulation: 2020-04-25 11:55:52.682218\n"
     ]
    },
    {
     "data": {
      "application/vnd.jupyter.widget-view+json": {
       "model_id": "4fb0e6df284e41d497a764dd8ac06502",
       "version_major": 2,
       "version_minor": 0
      },
      "text/plain": [
       "Text(value='')"
      ]
     },
     "metadata": {},
     "output_type": "display_data"
    },
    {
     "name": "stdout",
     "output_type": "stream",
     "text": [
      "2020-04-25 11:56:14.478663\n",
      "elapsed time: 00:00:21\n",
      "exciton processed((6/ 13))\n",
      "start of exiton simulation: 2020-04-25 11:56:14.479473\n"
     ]
    },
    {
     "data": {
      "application/vnd.jupyter.widget-view+json": {
       "model_id": "74cfd239ca824f5786021a5b3bea9a90",
       "version_major": 2,
       "version_minor": 0
      },
      "text/plain": [
       "Text(value='')"
      ]
     },
     "metadata": {},
     "output_type": "display_data"
    },
    {
     "name": "stdout",
     "output_type": "stream",
     "text": [
      "2020-04-25 11:56:35.934497\n",
      "elapsed time: 00:00:21\n",
      "exciton processed((7/ 13))\n",
      "start of exiton simulation: 2020-04-25 11:56:35.934952\n"
     ]
    },
    {
     "data": {
      "application/vnd.jupyter.widget-view+json": {
       "model_id": "5c05dffa211345959531aefd612a3e8d",
       "version_major": 2,
       "version_minor": 0
      },
      "text/plain": [
       "Text(value='')"
      ]
     },
     "metadata": {},
     "output_type": "display_data"
    },
    {
     "name": "stdout",
     "output_type": "stream",
     "text": [
      "2020-04-25 11:56:58.063665\n",
      "elapsed time: 00:00:22\n",
      "exciton processed((8/ 13))\n",
      "start of exiton simulation: 2020-04-25 11:56:58.064125\n"
     ]
    },
    {
     "data": {
      "application/vnd.jupyter.widget-view+json": {
       "model_id": "34b10b9c95344d5cbce27b42e5ae2526",
       "version_major": 2,
       "version_minor": 0
      },
      "text/plain": [
       "Text(value='')"
      ]
     },
     "metadata": {},
     "output_type": "display_data"
    },
    {
     "name": "stdout",
     "output_type": "stream",
     "text": [
      "2020-04-25 11:57:20.908410\n",
      "elapsed time: 00:00:22\n",
      "exciton processed((9/ 13))\n",
      "start of exiton simulation: 2020-04-25 11:57:20.909020\n"
     ]
    },
    {
     "data": {
      "application/vnd.jupyter.widget-view+json": {
       "model_id": "4e9504b4f12b4205b209ccbd5f3e3661",
       "version_major": 2,
       "version_minor": 0
      },
      "text/plain": [
       "Text(value='')"
      ]
     },
     "metadata": {},
     "output_type": "display_data"
    },
    {
     "name": "stdout",
     "output_type": "stream",
     "text": [
      "2020-04-25 11:57:43.804005\n",
      "elapsed time: 00:00:22\n",
      "exciton processed((10/ 13))\n",
      "start of exiton simulation: 2020-04-25 11:57:43.804549\n"
     ]
    },
    {
     "data": {
      "application/vnd.jupyter.widget-view+json": {
       "model_id": "21da1910907f441fa12de28cb565af58",
       "version_major": 2,
       "version_minor": 0
      },
      "text/plain": [
       "Text(value='')"
      ]
     },
     "metadata": {},
     "output_type": "display_data"
    },
    {
     "name": "stdout",
     "output_type": "stream",
     "text": [
      "2020-04-25 11:58:07.360100\n",
      "elapsed time: 00:00:23\n",
      "exciton processed((11/ 13))\n",
      "start of exiton simulation: 2020-04-25 11:58:07.360588\n"
     ]
    },
    {
     "data": {
      "application/vnd.jupyter.widget-view+json": {
       "model_id": "29712409be02486da72755775a7a0036",
       "version_major": 2,
       "version_minor": 0
      },
      "text/plain": [
       "Text(value='')"
      ]
     },
     "metadata": {},
     "output_type": "display_data"
    },
    {
     "name": "stdout",
     "output_type": "stream",
     "text": [
      "2020-04-25 11:58:31.103012\n",
      "elapsed time: 00:00:23\n",
      "exciton processed((12/ 13))\n",
      "start of exiton simulation: 2020-04-25 11:58:31.103597\n"
     ]
    },
    {
     "data": {
      "application/vnd.jupyter.widget-view+json": {
       "model_id": "20048be07c634d89901654ee92e07b49",
       "version_major": 2,
       "version_minor": 0
      },
      "text/plain": [
       "Text(value='')"
      ]
     },
     "metadata": {},
     "output_type": "display_data"
    },
    {
     "name": "stdout",
     "output_type": "stream",
     "text": [
      "2020-04-25 11:58:55.778398\n",
      "elapsed time: 00:00:24\n",
      "2020-04-25 11:58:55.778861\n",
      "elapsed time: 00:04:37\n"
     ]
    }
   ],
   "source": [
    "exc_sim_def_1.defect_dependance(10000, exciton_sim_4_level, n_defects, {'t_step': 1, 'CNT_length': 300,\n",
    "                                                                     'r_exc_nm': 2})"
   ]
  },
  {
   "cell_type": "code",
   "execution_count": 7,
   "metadata": {},
   "outputs": [],
   "source": [
    "exc_sim_def_1.save()"
   ]
  },
  {
   "cell_type": "code",
   "execution_count": 8,
   "metadata": {},
   "outputs": [
    {
     "data": {
      "text/plain": [
       "[<matplotlib.lines.Line2D at 0x7f508528a510>,\n",
       " <matplotlib.lines.Line2D at 0x7f508528a3d0>]"
      ]
     },
     "execution_count": 8,
     "metadata": {},
     "output_type": "execute_result"
    },
    {
     "data": {
      "image/png": "[encoded data removed]",
      "text/plain": [
       "<Figure size 432x288 with 1 Axes>"
      ]
     },
     "metadata": {
      "needs_background": "light"
     },
     "output_type": "display_data"
    }
   ],
   "source": [
    "plt.plot(n_defects, exc_sim_def_1.QY*100)"
   ]
  },
  {
   "cell_type": "code",
   "execution_count": 9,
   "metadata": {
    "scrolled": false
   },
   "outputs": [
    {
     "name": "stdout",
     "output_type": "stream",
     "text": [
      "Existing file loaded successfully.\n"
     ]
    }
   ],
   "source": [
    "exc_sim_len_1 = CNTSimFile('../sim_output/2020-04-24_exciton_sim_4_level-len_1.h5', kin_const_1)\n",
    "exc_sim_len_1.notebook_output = True"
   ]
  },
  {
   "cell_type": "code",
   "execution_count": 10,
   "metadata": {
    "scrolled": true
   },
   "outputs": [
    {
     "name": "stdout",
     "output_type": "stream",
     "text": [
      "start of calculation: 2020-04-25 11:58:56.457547\n",
      "start of exiton simulation: 2020-04-25 11:58:56.457894\n"
     ]
    },
    {
     "data": {
      "application/vnd.jupyter.widget-view+json": {
       "model_id": "da9a61a6e11840b3920c6faa8a2daa5f",
       "version_major": 2,
       "version_minor": 0
      },
      "text/plain": [
       "Text(value='')"
      ]
     },
     "metadata": {},
     "output_type": "display_data"
    },
    {
     "name": "stdout",
     "output_type": "stream",
     "text": [
      "2020-04-25 11:58:56.482729\n",
      "elapsed time: 00:00:00\n",
      "exciton processed((0/ 10))\n",
      "start of exiton simulation: 2020-04-25 11:58:56.483207\n"
     ]
    },
    {
     "data": {
      "application/vnd.jupyter.widget-view+json": {
       "model_id": "64cbbaf8f9eb4b159235950d0a460f38",
       "version_major": 2,
       "version_minor": 0
      },
      "text/plain": [
       "Text(value='')"
      ]
     },
     "metadata": {},
     "output_type": "display_data"
    },
    {
     "name": "stdout",
     "output_type": "stream",
     "text": [
      "2020-04-25 11:59:10.874858\n",
      "elapsed time: 00:00:14\n",
      "exciton processed((1/ 10))\n",
      "start of exiton simulation: 2020-04-25 11:59:10.875356\n"
     ]
    },
    {
     "data": {
      "application/vnd.jupyter.widget-view+json": {
       "model_id": "46b4bdcf053448eda5bec22d8c540fcb",
       "version_major": 2,
       "version_minor": 0
      },
      "text/plain": [
       "Text(value='')"
      ]
     },
     "metadata": {},
     "output_type": "display_data"
    },
    {
     "name": "stdout",
     "output_type": "stream",
     "text": [
      "2020-04-25 11:59:25.862737\n",
      "elapsed time: 00:00:14\n",
      "exciton processed((2/ 10))\n",
      "start of exiton simulation: 2020-04-25 11:59:25.863463\n"
     ]
    },
    {
     "data": {
      "application/vnd.jupyter.widget-view+json": {
       "model_id": "90bb7da4a20d4fcf92a2fa23220b5fe2",
       "version_major": 2,
       "version_minor": 0
      },
      "text/plain": [
       "Text(value='')"
      ]
     },
     "metadata": {},
     "output_type": "display_data"
    },
    {
     "data": {
      "application/vnd.jupyter.widget-view+json": {
       "model_id": "b2b971b0edd44ffabf03f2b30531753f",
       "version_major": 2,
       "version_minor": 0
      },
      "text/plain": [
       "Text(value='')"
      ]
     },
     "metadata": {},
     "output_type": "display_data"
    },
    {
     "name": "stdout",
     "output_type": "stream",
     "text": [
      "2020-04-25 12:00:13.374500\n",
      "elapsed time: 00:00:16\n",
      "exciton processed((5/ 10))\n",
      "start of exiton simulation: 2020-04-25 12:00:13.374880\n"
     ]
    },
    {
     "data": {
      "application/vnd.jupyter.widget-view+json": {
       "model_id": "5cdd5a98c7fb4cbfa2495ef5b9ec53ea",
       "version_major": 2,
       "version_minor": 0
      },
      "text/plain": [
       "Text(value='')"
      ]
     },
     "metadata": {},
     "output_type": "display_data"
    },
    {
     "name": "stdout",
     "output_type": "stream",
     "text": [
      "2020-04-25 12:00:29.986216\n",
      "elapsed time: 00:00:16\n",
      "exciton processed((6/ 10))\n",
      "start of exiton simulation: 2020-04-25 12:00:29.986626\n"
     ]
    },
    {
     "data": {
      "application/vnd.jupyter.widget-view+json": {
       "model_id": "2af2a1807d1d4efabf22fe648292035f",
       "version_major": 2,
       "version_minor": 0
      },
      "text/plain": [
       "Text(value='')"
      ]
     },
     "metadata": {},
     "output_type": "display_data"
    },
    {
     "name": "stdout",
     "output_type": "stream",
     "text": [
      "2020-04-25 12:01:09.140807\n",
      "elapsed time: 00:00:20\n",
      "exciton processed((8/ 10))\n",
      "start of exiton simulation: 2020-04-25 12:01:09.141260\n"
     ]
    },
    {
     "data": {
      "application/vnd.jupyter.widget-view+json": {
       "model_id": "4f8f62317ed84188960a1563c2f5e161",
       "version_major": 2,
       "version_minor": 0
      },
      "text/plain": [
       "Text(value='')"
      ]
     },
     "metadata": {},
     "output_type": "display_data"
    },
    {
     "name": "stdout",
     "output_type": "stream",
     "text": [
      "2020-04-25 12:01:34.593171\n",
      "elapsed time: 00:00:25\n",
      "exciton processed((9/ 10))\n",
      "start of exiton simulation: 2020-04-25 12:01:34.593836\n"
     ]
    },
    {
     "data": {
      "application/vnd.jupyter.widget-view+json": {
       "model_id": "f7b566f8df904c23b929068fa5a2dc17",
       "version_major": 2,
       "version_minor": 0
      },
      "text/plain": [
       "Text(value='')"
      ]
     },
     "metadata": {},
     "output_type": "display_data"
    },
    {
     "name": "stdout",
     "output_type": "stream",
     "text": [
      "2020-04-25 12:02:04.672663\n",
      "elapsed time: 00:00:30\n",
      "2020-04-25 12:02:04.673591\n",
      "elapsed time: 00:03:08\n"
     ]
    }
   ],
   "source": [
    "exc_sim_len_1.length_dependance(10000, exciton_sim_4_level, CNT_length, 20,\n",
    "                                {'t_step': 1, 'r_exc_nm': 2})"
   ]
  },
  {
   "cell_type": "code",
   "execution_count": 11,
   "metadata": {},
   "outputs": [],
   "source": [
    "exc_sim_len_1.save()"
   ]
  },
  {
   "cell_type": "code",
   "execution_count": 12,
   "metadata": {},
   "outputs": [
    {
     "data": {
      "text/plain": [
       "[<matplotlib.lines.Line2D at 0x7f50852c4450>,\n",
       " <matplotlib.lines.Line2D at 0x7f50852c4290>]"
      ]
     },
     "execution_count": 12,
     "metadata": {},
     "output_type": "execute_result"
    },
    {
     "data": {
      "image/png": "[encoded data removed]",
      "text/plain": [
       "<Figure size 432x288 with 1 Axes>"
      ]
     },
     "metadata": {
      "needs_background": "light"
     },
     "output_type": "display_data"
    }
   ],
   "source": [
    "plt.plot(CNT_length, exc_sim_len_1.QY*100)"
   ]
  },
  {
   "cell_type": "code",
   "execution_count": 13,
   "metadata": {},
   "outputs": [],
   "source": [
    "k_er_per_s = 2e10  # constant for radiativ decay from S11\n",
    "k_br_per_s = 2e10  # constant for radiativ decay from S11*\n",
    "k_enr_per_s = 1e10  # constant of non-radiativ decay from S11\n",
    "k_bnr_per_s = 1e10  # constant for non-radiativ decay from S11*\n",
    "\n",
    "k_de_per_s = 1e09  # constant for going from dark to S11 state\n",
    "k_ed_per_s = 5e11  # constant for going from S11 to dark statestate\n",
    "\n",
    "# termal detrapping 10.1021/acs.jpclett.8b03732\n",
    "k_bd_per_s = 0.5 * (1e12 / 385 + 1e12 / 1132) + 0.1e12 * np.exp(-1.6182e-11 /\n",
    "                                                                (kB * 300))\n",
    "k_dnr_per_s = 0\n",
    "\n",
    "kin_const_2 = np.array([k_br_per_s, k_er_per_s, k_bnr_per_s, k_enr_per_s, k_bd_per_s, k_ed_per_s, k_de_per_s, k_dnr_per_s])"
   ]
  },
  {
   "cell_type": "code",
   "execution_count": 14,
   "metadata": {},
   "outputs": [
    {
     "name": "stdout",
     "output_type": "stream",
     "text": [
      "Existing file loaded successfully.\n"
     ]
    }
   ],
   "source": [
    "exc_sim_def_2 = CNTSimFile('../sim_output/2020-04-24_exciton_sim_4_level-def_2.h5', kin_const_2)\n",
    "exc_sim_def_2.notebook_output = True"
   ]
  },
  {
   "cell_type": "code",
   "execution_count": 15,
   "metadata": {},
   "outputs": [
    {
     "name": "stdout",
     "output_type": "stream",
     "text": [
      "start of calculation: 2020-04-25 12:02:05.447240\n",
      "start of exiton simulation: 2020-04-25 12:02:05.447658\n"
     ]
    },
    {
     "data": {
      "application/vnd.jupyter.widget-view+json": {
       "model_id": "868221f7ec4a47f68cbe366f091f3604",
       "version_major": 2,
       "version_minor": 0
      },
      "text/plain": [
       "Text(value='')"
      ]
     },
     "metadata": {},
     "output_type": "display_data"
    },
    {
     "name": "stdout",
     "output_type": "stream",
     "text": [
      "2020-04-25 12:02:05.476073\n",
      "elapsed time: 00:00:00\n",
      "exciton processed((0/ 13))\n",
      "start of exiton simulation: 2020-04-25 12:02:05.476422\n"
     ]
    },
    {
     "data": {
      "application/vnd.jupyter.widget-view+json": {
       "model_id": "c9dd0377deea4b7cada067c6d6727401",
       "version_major": 2,
       "version_minor": 0
      },
      "text/plain": [
       "Text(value='')"
      ]
     },
     "metadata": {},
     "output_type": "display_data"
    },
    {
     "name": "stdout",
     "output_type": "stream",
     "text": [
      "2020-04-25 12:03:01.912735\n",
      "elapsed time: 00:00:20\n",
      "exciton processed((3/ 13))\n",
      "start of exiton simulation: 2020-04-25 12:03:01.913148\n"
     ]
    },
    {
     "data": {
      "application/vnd.jupyter.widget-view+json": {
       "model_id": "ad5f521aff8a42308c6f7ed2231427d7",
       "version_major": 2,
       "version_minor": 0
      },
      "text/plain": [
       "Text(value='')"
      ]
     },
     "metadata": {},
     "output_type": "display_data"
    },
    {
     "name": "stdout",
     "output_type": "stream",
     "text": [
      "2020-04-25 12:03:22.493554\n",
      "elapsed time: 00:00:20\n",
      "exciton processed((4/ 13))\n",
      "start of exiton simulation: 2020-04-25 12:03:22.493886\n"
     ]
    },
    {
     "data": {
      "application/vnd.jupyter.widget-view+json": {
       "model_id": "0a88f96870eb4858ab60da47d700a7b4",
       "version_major": 2,
       "version_minor": 0
      },
      "text/plain": [
       "Text(value='')"
      ]
     },
     "metadata": {},
     "output_type": "display_data"
    },
    {
     "name": "stdout",
     "output_type": "stream",
     "text": [
      "2020-04-25 12:03:43.631971\n",
      "elapsed time: 00:00:21\n",
      "exciton processed((5/ 13))\n",
      "start of exiton simulation: 2020-04-25 12:03:43.632674\n"
     ]
    },
    {
     "data": {
      "application/vnd.jupyter.widget-view+json": {
       "model_id": "84b98d3f71b74bbd99097b9f5224a032",
       "version_major": 2,
       "version_minor": 0
      },
      "text/plain": [
       "Text(value='')"
      ]
     },
     "metadata": {},
     "output_type": "display_data"
    },
    {
     "name": "stdout",
     "output_type": "stream",
     "text": [
      "2020-04-25 12:04:49.777482\n",
      "elapsed time: 00:00:22\n",
      "exciton processed((8/ 13))\n",
      "start of exiton simulation: 2020-04-25 12:04:49.777979\n"
     ]
    },
    {
     "data": {
      "application/vnd.jupyter.widget-view+json": {
       "model_id": "2e01c0b2c48e491fb8286810bb8f6f87",
       "version_major": 2,
       "version_minor": 0
      },
      "text/plain": [
       "Text(value='')"
      ]
     },
     "metadata": {},
     "output_type": "display_data"
    },
    {
     "name": "stdout",
     "output_type": "stream",
     "text": [
      "2020-04-25 12:05:12.782764\n",
      "elapsed time: 00:00:23\n",
      "exciton processed((9/ 13))\n",
      "start of exiton simulation: 2020-04-25 12:05:12.783910\n"
     ]
    },
    {
     "data": {
      "application/vnd.jupyter.widget-view+json": {
       "model_id": "789d00d30dce43d2bfaffc640dcfe2de",
       "version_major": 2,
       "version_minor": 0
      },
      "text/plain": [
       "Text(value='')"
      ]
     },
     "metadata": {},
     "output_type": "display_data"
    },
    {
     "name": "stdout",
     "output_type": "stream",
     "text": [
      "2020-04-25 12:05:36.171098\n",
      "elapsed time: 00:00:23\n",
      "exciton processed((10/ 13))\n",
      "start of exiton simulation: 2020-04-25 12:05:36.264619\n"
     ]
    },
    {
     "data": {
      "application/vnd.jupyter.widget-view+json": {
       "model_id": "ed10d41e91354262a82162078b7e76b4",
       "version_major": 2,
       "version_minor": 0
      },
      "text/plain": [
       "Text(value='')"
      ]
     },
     "metadata": {},
     "output_type": "display_data"
    },
    {
     "name": "stdout",
     "output_type": "stream",
     "text": [
      "2020-04-25 12:05:59.415784\n",
      "elapsed time: 00:00:23\n",
      "exciton processed((11/ 13))\n",
      "start of exiton simulation: 2020-04-25 12:05:59.416316\n"
     ]
    },
    {
     "data": {
      "application/vnd.jupyter.widget-view+json": {
       "model_id": "3274a8025e7b4ae7a45b29c6fbe042f4",
       "version_major": 2,
       "version_minor": 0
      },
      "text/plain": [
       "Text(value='')"
      ]
     },
     "metadata": {},
     "output_type": "display_data"
    },
    {
     "name": "stdout",
     "output_type": "stream",
     "text": [
      "2020-04-25 12:06:23.703414\n",
      "elapsed time: 00:00:24\n",
      "exciton processed((12/ 13))\n",
      "start of exiton simulation: 2020-04-25 12:06:23.704097\n"
     ]
    },
    {
     "data": {
      "application/vnd.jupyter.widget-view+json": {
       "model_id": "d81cb145333142eeab63933a437afb89",
       "version_major": 2,
       "version_minor": 0
      },
      "text/plain": [
       "Text(value='')"
      ]
     },
     "metadata": {},
     "output_type": "display_data"
    },
    {
     "name": "stdout",
     "output_type": "stream",
     "text": [
      "2020-04-25 12:06:47.991498\n",
      "elapsed time: 00:00:24\n",
      "2020-04-25 12:06:47.992006\n",
      "elapsed time: 00:04:42\n"
     ]
    }
   ],
   "source": [
    "exc_sim_def_2.defect_dependance(10000, exciton_sim_4_level, n_defects, {'t_step': 1, 'CNT_length': 300,\n",
    "                                                                     'r_exc_nm': 2})"
   ]
  },
  {
   "cell_type": "code",
   "execution_count": 16,
   "metadata": {},
   "outputs": [],
   "source": [
    "exc_sim_def_2.save()"
   ]
  },
  {
   "cell_type": "code",
   "execution_count": 17,
   "metadata": {},
   "outputs": [
    {
     "data": {
      "text/plain": [
       "[<matplotlib.lines.Line2D at 0x7f508304aa90>,\n",
       " <matplotlib.lines.Line2D at 0x7f50851d4150>]"
      ]
     },
     "execution_count": 17,
     "metadata": {},
     "output_type": "execute_result"
    },
    {
     "data": {
      "image/png": "[encoded data removed]",
      "text/plain": [
       "<Figure size 432x288 with 1 Axes>"
      ]
     },
     "metadata": {
      "needs_background": "light"
     },
     "output_type": "display_data"
    }
   ],
   "source": [
    "plt.plot(n_defects, exc_sim_def_1.QY*100)\n",
    "plt.plot(n_defects, exc_sim_def_2.QY*100)"
   ]
  },
  {
   "cell_type": "code",
   "execution_count": 18,
   "metadata": {},
   "outputs": [
    {
     "name": "stdout",
     "output_type": "stream",
     "text": [
      "Existing file loaded successfully.\n"
     ]
    }
   ],
   "source": [
    "exc_sim_len_2 = CNTSimFile('../sim_output/2020-04-24_exciton_sim_4_level-len_2.h5', kin_const_2)\n",
    "exc_sim_len_2.notebook_output = True"
   ]
  },
  {
   "cell_type": "code",
   "execution_count": 19,
   "metadata": {},
   "outputs": [
    {
     "name": "stdout",
     "output_type": "stream",
     "text": [
      "start of calculation: 2020-04-25 12:06:48.618203\n",
      "start of exiton simulation: 2020-04-25 12:06:48.618667\n"
     ]
    },
    {
     "data": {
      "application/vnd.jupyter.widget-view+json": {
       "model_id": "c08624e608d5417f9c7a89ded5e881b7",
       "version_major": 2,
       "version_minor": 0
      },
      "text/plain": [
       "Text(value='')"
      ]
     },
     "metadata": {},
     "output_type": "display_data"
    },
    {
     "name": "stdout",
     "output_type": "stream",
     "text": [
      "2020-04-25 12:06:48.645746\n",
      "elapsed time: 00:00:00\n",
      "exciton processed((0/ 10))\n",
      "start of exiton simulation: 2020-04-25 12:06:48.646131\n"
     ]
    },
    {
     "data": {
      "application/vnd.jupyter.widget-view+json": {
       "model_id": "dab63b9cc77d4c12aae9b57a89225a47",
       "version_major": 2,
       "version_minor": 0
      },
      "text/plain": [
       "Text(value='')"
      ]
     },
     "metadata": {},
     "output_type": "display_data"
    },
    {
     "name": "stdout",
     "output_type": "stream",
     "text": [
      "2020-04-25 12:07:17.793747\n",
      "elapsed time: 00:00:14\n",
      "exciton processed((2/ 10))\n",
      "start of exiton simulation: 2020-04-25 12:07:17.794604\n"
     ]
    },
    {
     "data": {
      "application/vnd.jupyter.widget-view+json": {
       "model_id": "bd46c0372551444d8c82a473b3412c31",
       "version_major": 2,
       "version_minor": 0
      },
      "text/plain": [
       "Text(value='')"
      ]
     },
     "metadata": {},
     "output_type": "display_data"
    },
    {
     "name": "stdout",
     "output_type": "stream",
     "text": [
      "2020-04-25 12:07:32.840224\n",
      "elapsed time: 00:00:15\n",
      "exciton processed((3/ 10))\n",
      "start of exiton simulation: 2020-04-25 12:07:32.840819\n"
     ]
    },
    {
     "data": {
      "application/vnd.jupyter.widget-view+json": {
       "model_id": "7742cde2c3f94178b0a8b62007ac3c52",
       "version_major": 2,
       "version_minor": 0
      },
      "text/plain": [
       "Text(value='')"
      ]
     },
     "metadata": {},
     "output_type": "display_data"
    },
    {
     "name": "stdout",
     "output_type": "stream",
     "text": [
      "2020-04-25 12:07:48.647736\n",
      "elapsed time: 00:00:15\n",
      "exciton processed((4/ 10))\n",
      "start of exiton simulation: 2020-04-25 12:07:48.648222\n"
     ]
    },
    {
     "data": {
      "application/vnd.jupyter.widget-view+json": {
       "model_id": "8090203f08b34dde8bff77dee01c2a3b",
       "version_major": 2,
       "version_minor": 0
      },
      "text/plain": [
       "Text(value='')"
      ]
     },
     "metadata": {},
     "output_type": "display_data"
    },
    {
     "name": "stdout",
     "output_type": "stream",
     "text": [
      "2020-04-25 12:08:22.602003\n",
      "elapsed time: 00:00:17\n",
      "exciton processed((6/ 10))\n",
      "start of exiton simulation: 2020-04-25 12:08:22.602462\n"
     ]
    },
    {
     "data": {
      "application/vnd.jupyter.widget-view+json": {
       "model_id": "8ad99289277a4a81929a2f66be7b5ead",
       "version_major": 2,
       "version_minor": 0
      },
      "text/plain": [
       "Text(value='')"
      ]
     },
     "metadata": {},
     "output_type": "display_data"
    },
    {
     "name": "stdout",
     "output_type": "stream",
     "text": [
      "2020-04-25 12:08:42.167942\n",
      "elapsed time: 00:00:19\n",
      "exciton processed((7/ 10))\n",
      "start of exiton simulation: 2020-04-25 12:08:42.168664\n"
     ]
    },
    {
     "data": {
      "application/vnd.jupyter.widget-view+json": {
       "model_id": "739e0f04bee444aeb15ee456d7896c01",
       "version_major": 2,
       "version_minor": 0
      },
      "text/plain": [
       "Text(value='')"
      ]
     },
     "metadata": {},
     "output_type": "display_data"
    },
    {
     "name": "stdout",
     "output_type": "stream",
     "text": [
      "2020-04-25 12:09:30.555787\n",
      "elapsed time: 00:00:26\n",
      "exciton processed((9/ 10))\n",
      "start of exiton simulation: 2020-04-25 12:09:30.556850\n"
     ]
    },
    {
     "data": {
      "application/vnd.jupyter.widget-view+json": {
       "model_id": "ff8f075cf6cb4e88b5e49278d01c93ae",
       "version_major": 2,
       "version_minor": 0
      },
      "text/plain": [
       "Text(value='')"
      ]
     },
     "metadata": {},
     "output_type": "display_data"
    },
    {
     "name": "stdout",
     "output_type": "stream",
     "text": [
      "2020-04-25 12:10:03.905523\n",
      "elapsed time: 00:00:33\n",
      "2020-04-25 12:10:03.906297\n",
      "elapsed time: 00:03:15\n"
     ]
    }
   ],
   "source": [
    "exc_sim_len_2.length_dependance(10000, exciton_sim_4_level, CNT_length, 20,\n",
    "                                {'t_step': 1, 'r_exc_nm': 2})"
   ]
  },
  {
   "cell_type": "code",
   "execution_count": 20,
   "metadata": {},
   "outputs": [],
   "source": [
    "exc_sim_len_2.save()"
   ]
  },
  {
   "cell_type": "code",
   "execution_count": 21,
   "metadata": {},
   "outputs": [],
   "source": [
    "k_er_per_s = 2e10  # constant for radiativ decay from S11\n",
    "k_br_per_s = 2e10  # constant for radiativ decay from S11*\n",
    "k_enr_per_s = 1e10  # constant of non-radiativ decay from S11\n",
    "k_bnr_per_s = 1e10  # constant for non-radiativ decay from S11*\n",
    "\n",
    "k_de_per_s = 1e09  # constant for going from dark to S11 state\n",
    "k_ed_per_s = 5e09  # constant for going from S11 to dark statestate\n",
    "\n",
    "# termal detrapping 10.1021/acs.jpclett.8b03732\n",
    "k_bd_per_s = 0.5 * (1e12 / 385 + 1e12 / 1132) + 0.1e12 * np.exp(-1.6182e-11 /\n",
    "                                                                (kB * 300))\n",
    "\n",
    "k_dnr_per_s = 0\n",
    "\n",
    "kin_const_3 = np.array([k_br_per_s, k_er_per_s, k_bnr_per_s, k_enr_per_s, k_bd_per_s, k_ed_per_s, k_de_per_s, k_dnr_per_s])"
   ]
  },
  {
   "cell_type": "code",
   "execution_count": 22,
   "metadata": {},
   "outputs": [
    {
     "name": "stdout",
     "output_type": "stream",
     "text": [
      "Existing file loaded successfully.\n"
     ]
    }
   ],
   "source": [
    "exc_sim_def_3 = CNTSimFile('../sim_output/2020-04-24_exciton_sim_4_level-def_3.h5', kin_const_3)\n",
    "exc_sim_def_3.notebook_output = True"
   ]
  },
  {
   "cell_type": "code",
   "execution_count": 23,
   "metadata": {},
   "outputs": [
    {
     "name": "stdout",
     "output_type": "stream",
     "text": [
      "start of calculation: 2020-04-25 12:10:04.341968\n",
      "start of exiton simulation: 2020-04-25 12:10:04.342398\n"
     ]
    },
    {
     "data": {
      "application/vnd.jupyter.widget-view+json": {
       "model_id": "b0ccc4153c944ceb9414495e7b0cf1e6",
       "version_major": 2,
       "version_minor": 0
      },
      "text/plain": [
       "Text(value='')"
      ]
     },
     "metadata": {},
     "output_type": "display_data"
    },
    {
     "name": "stdout",
     "output_type": "stream",
     "text": [
      "2020-04-25 12:10:04.369402\n",
      "elapsed time: 00:00:00\n",
      "exciton processed((0/ 13))\n",
      "start of exiton simulation: 2020-04-25 12:10:04.370250\n"
     ]
    },
    {
     "data": {
      "application/vnd.jupyter.widget-view+json": {
       "model_id": "a752c18652e748ef94cd478e6da48aa5",
       "version_major": 2,
       "version_minor": 0
      },
      "text/plain": [
       "Text(value='')"
      ]
     },
     "metadata": {},
     "output_type": "display_data"
    },
    {
     "name": "stdout",
     "output_type": "stream",
     "text": [
      "2020-04-25 12:10:20.244283\n",
      "elapsed time: 00:00:15\n",
      "exciton processed((1/ 13))\n",
      "start of exiton simulation: 2020-04-25 12:10:20.244698\n"
     ]
    },
    {
     "data": {
      "application/vnd.jupyter.widget-view+json": {
       "model_id": "d3b302bbf228497eb105768919abcde1",
       "version_major": 2,
       "version_minor": 0
      },
      "text/plain": [
       "Text(value='')"
      ]
     },
     "metadata": {},
     "output_type": "display_data"
    },
    {
     "name": "stdout",
     "output_type": "stream",
     "text": [
      "2020-04-25 12:10:37.342049\n",
      "elapsed time: 00:00:17\n",
      "exciton processed((2/ 13))\n",
      "start of exiton simulation: 2020-04-25 12:10:37.342500\n"
     ]
    },
    {
     "data": {
      "application/vnd.jupyter.widget-view+json": {
       "model_id": "ba56199b748c4027be53bd18eed2bed7",
       "version_major": 2,
       "version_minor": 0
      },
      "text/plain": [
       "Text(value='')"
      ]
     },
     "metadata": {},
     "output_type": "display_data"
    },
    {
     "name": "stdout",
     "output_type": "stream",
     "text": [
      "2020-04-25 12:10:55.762628\n",
      "elapsed time: 00:00:18\n",
      "exciton processed((3/ 13))\n",
      "start of exiton simulation: 2020-04-25 12:10:55.763548\n"
     ]
    },
    {
     "data": {
      "application/vnd.jupyter.widget-view+json": {
       "model_id": "afa0a88e8bc3487d85d031afecfc333f",
       "version_major": 2,
       "version_minor": 0
      },
      "text/plain": [
       "Text(value='')"
      ]
     },
     "metadata": {},
     "output_type": "display_data"
    },
    {
     "name": "stdout",
     "output_type": "stream",
     "text": [
      "2020-04-25 12:11:14.944795\n",
      "elapsed time: 00:00:19\n",
      "exciton processed((4/ 13))\n",
      "start of exiton simulation: 2020-04-25 12:11:14.945433\n"
     ]
    },
    {
     "data": {
      "application/vnd.jupyter.widget-view+json": {
       "model_id": "043f7dab92a2434591941efed4f90642",
       "version_major": 2,
       "version_minor": 0
      },
      "text/plain": [
       "Text(value='')"
      ]
     },
     "metadata": {},
     "output_type": "display_data"
    },
    {
     "name": "stdout",
     "output_type": "stream",
     "text": [
      "2020-04-25 12:11:55.489070\n",
      "elapsed time: 00:00:20\n",
      "exciton processed((6/ 13))\n",
      "start of exiton simulation: 2020-04-25 12:11:55.489619\n"
     ]
    },
    {
     "data": {
      "application/vnd.jupyter.widget-view+json": {
       "model_id": "3a918323f5c643f3af405a7e7dd5d35c",
       "version_major": 2,
       "version_minor": 0
      },
      "text/plain": [
       "Text(value='')"
      ]
     },
     "metadata": {},
     "output_type": "display_data"
    },
    {
     "name": "stdout",
     "output_type": "stream",
     "text": [
      "2020-04-25 12:12:16.840544\n",
      "elapsed time: 00:00:21\n",
      "exciton processed((7/ 13))\n",
      "start of exiton simulation: 2020-04-25 12:12:16.841045\n"
     ]
    },
    {
     "data": {
      "application/vnd.jupyter.widget-view+json": {
       "model_id": "0af9f61d86a64a21ab002322b04f43ff",
       "version_major": 2,
       "version_minor": 0
      },
      "text/plain": [
       "Text(value='')"
      ]
     },
     "metadata": {},
     "output_type": "display_data"
    },
    {
     "name": "stdout",
     "output_type": "stream",
     "text": [
      "2020-04-25 12:12:38.708670\n",
      "elapsed time: 00:00:21\n",
      "exciton processed((8/ 13))\n",
      "start of exiton simulation: 2020-04-25 12:12:38.709185\n"
     ]
    },
    {
     "data": {
      "application/vnd.jupyter.widget-view+json": {
       "model_id": "99e10bcd606445a796d705fefa41be72",
       "version_major": 2,
       "version_minor": 0
      },
      "text/plain": [
       "Text(value='')"
      ]
     },
     "metadata": {},
     "output_type": "display_data"
    },
    {
     "name": "stdout",
     "output_type": "stream",
     "text": [
      "2020-04-25 12:13:00.564558\n",
      "elapsed time: 00:00:21\n",
      "exciton processed((9/ 13))\n",
      "start of exiton simulation: 2020-04-25 12:13:00.565039\n"
     ]
    },
    {
     "data": {
      "application/vnd.jupyter.widget-view+json": {
       "model_id": "eecfe5da505d40d2aebe0e43cb74e3f8",
       "version_major": 2,
       "version_minor": 0
      },
      "text/plain": [
       "Text(value='')"
      ]
     },
     "metadata": {},
     "output_type": "display_data"
    },
    {
     "name": "stdout",
     "output_type": "stream",
     "text": [
      "2020-04-25 12:13:23.742719\n",
      "elapsed time: 00:00:23\n",
      "exciton processed((10/ 13))\n",
      "start of exiton simulation: 2020-04-25 12:13:23.743430\n"
     ]
    },
    {
     "data": {
      "application/vnd.jupyter.widget-view+json": {
       "model_id": "dd2694aa765e475a8b80599300a0b4a9",
       "version_major": 2,
       "version_minor": 0
      },
      "text/plain": [
       "Text(value='')"
      ]
     },
     "metadata": {},
     "output_type": "display_data"
    },
    {
     "name": "stdout",
     "output_type": "stream",
     "text": [
      "2020-04-25 12:13:47.187679\n",
      "elapsed time: 00:00:23\n",
      "exciton processed((11/ 13))\n",
      "start of exiton simulation: 2020-04-25 12:13:47.188218\n"
     ]
    },
    {
     "data": {
      "application/vnd.jupyter.widget-view+json": {
       "model_id": "afb67d932fc54aa79de66d1af1cf436e",
       "version_major": 2,
       "version_minor": 0
      },
      "text/plain": [
       "Text(value='')"
      ]
     },
     "metadata": {},
     "output_type": "display_data"
    },
    {
     "name": "stdout",
     "output_type": "stream",
     "text": [
      "2020-04-25 12:14:11.176503\n",
      "elapsed time: 00:00:23\n",
      "exciton processed((12/ 13))\n",
      "start of exiton simulation: 2020-04-25 12:14:11.177793\n"
     ]
    },
    {
     "data": {
      "application/vnd.jupyter.widget-view+json": {
       "model_id": "34d685c43f7c4e87ba7b714cf11ab617",
       "version_major": 2,
       "version_minor": 0
      },
      "text/plain": [
       "Text(value='')"
      ]
     },
     "metadata": {},
     "output_type": "display_data"
    },
    {
     "name": "stdout",
     "output_type": "stream",
     "text": [
      "2020-04-25 12:14:35.668416\n",
      "elapsed time: 00:00:24\n",
      "2020-04-25 12:14:35.668953\n",
      "elapsed time: 00:04:31\n"
     ]
    }
   ],
   "source": [
    "exc_sim_def_3.defect_dependance(10000, exciton_sim_4_level, n_defects, {'t_step': 1, 'CNT_length': 300,\n",
    "                                                                     'r_exc_nm': 2})"
   ]
  },
  {
   "cell_type": "code",
   "execution_count": 24,
   "metadata": {},
   "outputs": [],
   "source": [
    "exc_sim_def_3.save()"
   ]
  },
  {
   "cell_type": "code",
   "execution_count": 25,
   "metadata": {},
   "outputs": [
    {
     "name": "stdout",
     "output_type": "stream",
     "text": [
      "Existing file loaded successfully.\n"
     ]
    }
   ],
   "source": [
    "exc_sim_len_3 = CNTSimFile('../sim_output/2020-04-24_exciton_sim_4_level-len_3.h5', kin_const_3)\n",
    "exc_sim_len_3.notebook_output = True"
   ]
  },
  {
   "cell_type": "code",
   "execution_count": 26,
   "metadata": {},
   "outputs": [
    {
     "name": "stdout",
     "output_type": "stream",
     "text": [
      "start of calculation: 2020-04-25 12:14:36.088917\n",
      "start of exiton simulation: 2020-04-25 12:14:36.090177\n"
     ]
    },
    {
     "data": {
      "application/vnd.jupyter.widget-view+json": {
       "model_id": "4de57259fd814065af5f55117f7a2702",
       "version_major": 2,
       "version_minor": 0
      },
      "text/plain": [
       "Text(value='')"
      ]
     },
     "metadata": {},
     "output_type": "display_data"
    },
    {
     "name": "stdout",
     "output_type": "stream",
     "text": [
      "2020-04-25 12:14:36.117975\n",
      "elapsed time: 00:00:00\n",
      "exciton processed((0/ 10))\n",
      "start of exiton simulation: 2020-04-25 12:14:36.119379\n"
     ]
    },
    {
     "data": {
      "application/vnd.jupyter.widget-view+json": {
       "model_id": "28f2166e029643e9b18352149b4174bd",
       "version_major": 2,
       "version_minor": 0
      },
      "text/plain": [
       "Text(value='')"
      ]
     },
     "metadata": {},
     "output_type": "display_data"
    },
    {
     "name": "stdout",
     "output_type": "stream",
     "text": [
      "2020-04-25 12:15:05.324163\n",
      "elapsed time: 00:00:14\n",
      "exciton processed((2/ 10))\n",
      "start of exiton simulation: 2020-04-25 12:15:05.324701\n"
     ]
    },
    {
     "data": {
      "application/vnd.jupyter.widget-view+json": {
       "model_id": "a1df4fed62aa4f218f6d152687eac612",
       "version_major": 2,
       "version_minor": 0
      },
      "text/plain": [
       "Text(value='')"
      ]
     },
     "metadata": {},
     "output_type": "display_data"
    },
    {
     "name": "stdout",
     "output_type": "stream",
     "text": [
      "2020-04-25 12:15:20.191894\n",
      "elapsed time: 00:00:14\n",
      "exciton processed((3/ 10))\n",
      "start of exiton simulation: 2020-04-25 12:15:20.192208\n"
     ]
    },
    {
     "data": {
      "application/vnd.jupyter.widget-view+json": {
       "model_id": "afd156d3ab5c49dd96de5684f6c83e1a",
       "version_major": 2,
       "version_minor": 0
      },
      "text/plain": [
       "Text(value='')"
      ]
     },
     "metadata": {},
     "output_type": "display_data"
    },
    {
     "name": "stdout",
     "output_type": "stream",
     "text": [
      "2020-04-25 12:15:35.555509\n",
      "elapsed time: 00:00:15\n",
      "exciton processed((4/ 10))\n",
      "start of exiton simulation: 2020-04-25 12:15:35.556229\n"
     ]
    },
    {
     "data": {
      "application/vnd.jupyter.widget-view+json": {
       "model_id": "09a5dcc19d4e4a41a1fda128f58a13d8",
       "version_major": 2,
       "version_minor": 0
      },
      "text/plain": [
       "Text(value='')"
      ]
     },
     "metadata": {},
     "output_type": "display_data"
    },
    {
     "name": "stdout",
     "output_type": "stream",
     "text": [
      "2020-04-25 12:15:51.511710\n",
      "elapsed time: 00:00:15\n",
      "exciton processed((5/ 10))\n",
      "start of exiton simulation: 2020-04-25 12:15:51.512253\n"
     ]
    },
    {
     "data": {
      "application/vnd.jupyter.widget-view+json": {
       "model_id": "4773ece626d346dd95235f820c0de473",
       "version_major": 2,
       "version_minor": 0
      },
      "text/plain": [
       "Text(value='')"
      ]
     },
     "metadata": {},
     "output_type": "display_data"
    },
    {
     "name": "stdout",
     "output_type": "stream",
     "text": [
      "2020-04-25 12:16:07.487776\n",
      "elapsed time: 00:00:15\n",
      "exciton processed((6/ 10))\n",
      "start of exiton simulation: 2020-04-25 12:16:07.488200\n"
     ]
    },
    {
     "data": {
      "application/vnd.jupyter.widget-view+json": {
       "model_id": "96cb84265d1b431880dde186bb766a52",
       "version_major": 2,
       "version_minor": 0
      },
      "text/plain": [
       "Text(value='')"
      ]
     },
     "metadata": {},
     "output_type": "display_data"
    },
    {
     "name": "stdout",
     "output_type": "stream",
     "text": [
      "2020-04-25 12:16:24.763680\n",
      "elapsed time: 00:00:17\n",
      "exciton processed((7/ 10))\n",
      "start of exiton simulation: 2020-04-25 12:16:24.764472\n"
     ]
    },
    {
     "data": {
      "application/vnd.jupyter.widget-view+json": {
       "model_id": "425f30e02582412d944d462189a511fd",
       "version_major": 2,
       "version_minor": 0
      },
      "text/plain": [
       "Text(value='')"
      ]
     },
     "metadata": {},
     "output_type": "display_data"
    }
   ],
   "source": [
    "exc_sim_len_3.length_dependance(10000, exciton_sim_4_level, CNT_length, 20,\n",
    "                                {'t_step': 1, 'r_exc_nm': 2})"
   ]
  },
  {
   "cell_type": "code",
   "execution_count": 27,
   "metadata": {},
   "outputs": [],
   "source": [
    "exc_sim_len_3.save()"
   ]
  },
  {
   "cell_type": "code",
   "execution_count": 2,
   "metadata": {},
   "outputs": [],
   "source": [
    "k_er_per_s = 2e10  # constant for radiativ decay from S11\n",
    "k_br_per_s = 2e10  # constant for radiativ decay from S11*\n",
    "k_enr_per_s = 1e10  # constant of non-radiativ decay from S11\n",
    "k_bnr_per_s = 1e10  # constant for non-radiativ decay from S11*\n",
    "\n",
    "k_de_per_s = 1e09  # constant for going from dark to S11 state\n",
    "k_ed_per_s = 2.5e10  # constant for going from S11 to dark statestate\n",
    "\n",
    "# termal detrapping 10.1021/acs.jpclett.8b03732\n",
    "k_bd_per_s = 0.5 * (1e12 / 385 + 1e12 / 1132) + 0.1e12 * np.exp(-1.6182e-11 /\n",
    "                                                                (kB * 300))\n",
    "\n",
    "k_dnr_per_s = 0\n",
    "\n",
    "kin_const_4 = np.array([k_br_per_s, k_er_per_s, k_bnr_per_s, k_enr_per_s, k_bd_per_s, k_ed_per_s, k_de_per_s, k_dnr_per_s])"
   ]
  },
  {
   "cell_type": "code",
   "execution_count": 3,
   "metadata": {},
   "outputs": [],
   "source": [
    "exc_sim_def_4 = CNTSimFile('../sim_output/2020-04-24_exciton_sim_4_level-def_4.h5', kin_const_4)"
   ]
  },
  {
   "cell_type": "code",
   "execution_count": 4,
   "metadata": {},
   "outputs": [],
   "source": [
    "n_defects = np.arange(0, 260, 20)\n",
    "CNT_length = [30, 60, 90, 120, 150, 200, 300, 500, 800, 1200]"
   ]
  },
  {
   "cell_type": "code",
   "execution_count": 5,
   "metadata": {},
   "outputs": [
    {
     "name": "stdout",
     "output_type": "stream",
     "text": [
      "start of calculation: 2020-04-27 11:37:38.625284\n",
      "start of exiton simulation: 2020-04-27 11:37:38.625722\n",
      "2020-04-27 11:37:38.628478\n",
      "elapsed time: 00:00:00\n",
      "exciton processed((0/ 13))\n",
      "start of exiton simulation: 2020-04-27 11:37:38.629081\n",
      "2020-04-27 11:37:41.427609\n",
      "elapsed time: 00:00:02\n",
      "exciton processed((1/ 13))\n",
      "start of exiton simulation: 2020-04-27 11:37:41.429164\n",
      "2020-04-27 11:37:45.477911\n",
      "elapsed time: 00:00:04\n",
      "exciton processed((2/ 13))\n",
      "start of exiton simulation: 2020-04-27 11:37:45.479943\n",
      "2020-04-27 11:37:50.556537\n",
      "elapsed time: 00:00:05\n",
      "exciton processed((3/ 13))\n",
      "start of exiton simulation: 2020-04-27 11:37:50.557070\n",
      "2020-04-27 11:37:55.935619\n",
      "elapsed time: 00:00:05\n",
      "exciton processed((4/ 13))\n",
      "start of exiton simulation: 2020-04-27 11:37:55.937107\n",
      "2020-04-27 11:38:02.157967\n",
      "elapsed time: 00:00:06\n",
      "exciton processed((5/ 13))\n",
      "start of exiton simulation: 2020-04-27 11:38:02.160390\n",
      "2020-04-27 11:38:08.735469\n",
      "elapsed time: 00:00:06\n",
      "exciton processed((6/ 13))\n",
      "start of exiton simulation: 2020-04-27 11:38:08.737427\n",
      "2020-04-27 11:38:15.957399\n",
      "elapsed time: 00:00:07\n",
      "exciton processed((7/ 13))\n",
      "start of exiton simulation: 2020-04-27 11:38:15.959031\n",
      "2020-04-27 11:38:23.482574\n",
      "elapsed time: 00:00:07\n",
      "exciton processed((8/ 13))\n",
      "start of exiton simulation: 2020-04-27 11:38:23.484014\n",
      "2020-04-27 11:38:31.519513\n",
      "elapsed time: 00:00:08\n",
      "exciton processed((9/ 13))\n",
      "start of exiton simulation: 2020-04-27 11:38:31.524095\n",
      "2020-04-27 11:38:40.114499\n",
      "elapsed time: 00:00:08\n",
      "exciton processed((10/ 13))\n",
      "start of exiton simulation: 2020-04-27 11:38:40.117611\n",
      "2020-04-27 11:38:49.175408\n",
      "elapsed time: 00:00:09\n",
      "exciton processed((11/ 13))\n",
      "start of exiton simulation: 2020-04-27 11:38:49.177171\n",
      "2020-04-27 11:38:58.684089\n",
      "elapsed time: 00:00:09\n",
      "exciton processed((12/ 13))\n",
      "start of exiton simulation: 2020-04-27 11:38:58.686556\n",
      "2020-04-27 11:39:08.455979\n",
      "elapsed time: 00:00:09\n",
      "2020-04-27 11:39:08.457578\n",
      "elapsed time: 00:01:29\n"
     ]
    }
   ],
   "source": [
    "exc_sim_def_4.defect_dependance(10000, exciton_sim_4_level, n_defects, {'t_step': 1, 'CNT_length': 300,\n",
    "                                                                     'r_exc_nm': 2})"
   ]
  },
  {
   "cell_type": "code",
   "execution_count": 6,
   "metadata": {},
   "outputs": [],
   "source": [
    "exc_sim_def_4.save()"
   ]
  },
  {
   "cell_type": "code",
   "execution_count": 7,
   "metadata": {},
   "outputs": [],
   "source": [
    "exc_sim_len_4 = CNTSimFile('../sim_output/2020-04-24_exciton_sim_4_level-len_4.h5', kin_const_4)\n",
    "exc_sim_len_4.notebook_output = True"
   ]
  },
  {
   "cell_type": "code",
   "execution_count": 8,
   "metadata": {},
   "outputs": [
    {
     "name": "stdout",
     "output_type": "stream",
     "text": [
      "start of calculation: 2020-04-27 11:39:08.879925\n",
      "start of exiton simulation: 2020-04-27 11:39:08.880441\n"
     ]
    },
    {
     "data": {
      "application/vnd.jupyter.widget-view+json": {
       "model_id": "48cc39d8b2b14d11841cd3a420a84c3e",
       "version_major": 2,
       "version_minor": 0
      },
      "text/plain": [
       "Text(value='')"
      ]
     },
     "metadata": {},
     "output_type": "display_data"
    },
    {
     "name": "stdout",
     "output_type": "stream",
     "text": [
      "2020-04-27 11:39:08.912628\n",
      "elapsed time: 00:00:00\n",
      "exciton processed((0/ 10))\n",
      "start of exiton simulation: 2020-04-27 11:39:08.913682\n"
     ]
    },
    {
     "data": {
      "application/vnd.jupyter.widget-view+json": {
       "model_id": "70338fc2fc6a44b99b6c941982b4fd4a",
       "version_major": 2,
       "version_minor": 0
      },
      "text/plain": [
       "Text(value='')"
      ]
     },
     "metadata": {},
     "output_type": "display_data"
    },
    {
     "name": "stdout",
     "output_type": "stream",
     "text": [
      "2020-04-27 11:39:22.557443\n",
      "elapsed time: 00:00:13\n",
      "exciton processed((1/ 10))\n",
      "start of exiton simulation: 2020-04-27 11:39:22.558510\n"
     ]
    },
    {
     "data": {
      "application/vnd.jupyter.widget-view+json": {
       "model_id": "fe6ed0984cea4ca882af358a5d3c444b",
       "version_major": 2,
       "version_minor": 0
      },
      "text/plain": [
       "Text(value='')"
      ]
     },
     "metadata": {},
     "output_type": "display_data"
    },
    {
     "name": "stdout",
     "output_type": "stream",
     "text": [
      "2020-04-27 11:39:37.044669\n",
      "elapsed time: 00:00:14\n",
      "exciton processed((2/ 10))\n",
      "start of exiton simulation: 2020-04-27 11:39:37.045082\n"
     ]
    },
    {
     "data": {
      "application/vnd.jupyter.widget-view+json": {
       "model_id": "29787b693e8141a1822651d587add2c3",
       "version_major": 2,
       "version_minor": 0
      },
      "text/plain": [
       "Text(value='')"
      ]
     },
     "metadata": {},
     "output_type": "display_data"
    },
    {
     "name": "stdout",
     "output_type": "stream",
     "text": [
      "2020-04-27 11:39:51.738491\n",
      "elapsed time: 00:00:14\n",
      "exciton processed((3/ 10))\n",
      "start of exiton simulation: 2020-04-27 11:39:51.738995\n"
     ]
    },
    {
     "data": {
      "application/vnd.jupyter.widget-view+json": {
       "model_id": "a8d2f77045204d0ab5b285068a0762f3",
       "version_major": 2,
       "version_minor": 0
      },
      "text/plain": [
       "Text(value='')"
      ]
     },
     "metadata": {},
     "output_type": "display_data"
    },
    {
     "name": "stdout",
     "output_type": "stream",
     "text": [
      "2020-04-27 11:40:06.887621\n",
      "elapsed time: 00:00:15\n",
      "exciton processed((4/ 10))\n",
      "start of exiton simulation: 2020-04-27 11:40:06.888166\n"
     ]
    },
    {
     "data": {
      "application/vnd.jupyter.widget-view+json": {
       "model_id": "5ec53315cc3246a4a7aa6ff8d190a971",
       "version_major": 2,
       "version_minor": 0
      },
      "text/plain": [
       "Text(value='')"
      ]
     },
     "metadata": {},
     "output_type": "display_data"
    },
    {
     "data": {
      "application/vnd.jupyter.widget-view+json": {
       "model_id": "8521be99c2b241aeaab5cc9eb4de63f8",
       "version_major": 2,
       "version_minor": 0
      },
      "text/plain": [
       "Text(value='')"
      ]
     },
     "metadata": {},
     "output_type": "display_data"
    },
    {
     "name": "stdout",
     "output_type": "stream",
     "text": [
      "2020-04-27 11:40:56.328925\n",
      "elapsed time: 00:00:17\n",
      "exciton processed((7/ 10))\n",
      "start of exiton simulation: 2020-04-27 11:40:56.329445\n"
     ]
    },
    {
     "data": {
      "application/vnd.jupyter.widget-view+json": {
       "model_id": "ce501cd9c0074eec8e1772060010849c",
       "version_major": 2,
       "version_minor": 0
      },
      "text/plain": [
       "Text(value='')"
      ]
     },
     "metadata": {},
     "output_type": "display_data"
    },
    {
     "name": "stdout",
     "output_type": "stream",
     "text": [
      "2020-04-27 11:41:15.416650\n",
      "elapsed time: 00:00:19\n",
      "exciton processed((8/ 10))\n",
      "start of exiton simulation: 2020-04-27 11:41:15.417062\n"
     ]
    },
    {
     "data": {
      "application/vnd.jupyter.widget-view+json": {
       "model_id": "b56f4e5354094e24a1f646086f947ed1",
       "version_major": 2,
       "version_minor": 0
      },
      "text/plain": [
       "Text(value='')"
      ]
     },
     "metadata": {},
     "output_type": "display_data"
    },
    {
     "name": "stdout",
     "output_type": "stream",
     "text": [
      "2020-04-27 11:41:38.769102\n",
      "elapsed time: 00:00:23\n",
      "exciton processed((9/ 10))\n",
      "start of exiton simulation: 2020-04-27 11:41:38.769651\n"
     ]
    },
    {
     "data": {
      "application/vnd.jupyter.widget-view+json": {
       "model_id": "65a01db2ce3a487fab60a46a2bd1d7be",
       "version_major": 2,
       "version_minor": 0
      },
      "text/plain": [
       "Text(value='')"
      ]
     },
     "metadata": {},
     "output_type": "display_data"
    },
    {
     "name": "stdout",
     "output_type": "stream",
     "text": [
      "2020-04-27 11:42:05.885529\n",
      "elapsed time: 00:00:27\n",
      "2020-04-27 11:42:05.886034\n",
      "elapsed time: 00:02:57\n"
     ]
    }
   ],
   "source": [
    "exc_sim_len_4.length_dependance(10000, exciton_sim_4_level, CNT_length, 20,\n",
    "                                {'t_step': 1, 'r_exc_nm': 2})"
   ]
  },
  {
   "cell_type": "code",
   "execution_count": 9,
   "metadata": {},
   "outputs": [],
   "source": [
    "exc_sim_len_4.save()"
   ]
  },
  {
   "cell_type": "code",
   "execution_count": null,
   "metadata": {},
   "outputs": [],
   "source": []
  }
 ],
 "metadata": {
  "kernelspec": {
   "display_name": "CNT-MC",
   "language": "python",
   "name": "cnt-mc"
  },
  "language_info": {
   "codemirror_mode": {
    "name": "ipython",
    "version": 3
   },
   "file_extension": ".py",
   "mimetype": "text/x-python",
   "name": "python",
   "nbconvert_exporter": "python",
   "pygments_lexer": "ipython3",
   "version": "3.7.7"
  }
 },
 "nbformat": 4,
 "nbformat_minor": 4
}
