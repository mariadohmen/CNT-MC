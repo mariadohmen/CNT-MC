{
 "cells": [
  {
   "cell_type": "code",
   "execution_count": 1,
   "metadata": {},
   "outputs": [
    {
     "data": {
      "text/html": [
       "\n",
       "    <div class=\"bk-root\">\n",
       "        <a href=\"https://bokeh.org\" target=\"_blank\" class=\"bk-logo bk-logo-small bk-logo-notebook\"></a>\n",
       "        <span id=\"1001\">Loading BokehJS ...</span>\n",
       "    </div>"
      ]
     },
     "metadata": {},
     "output_type": "display_data"
    },
    {
     "data": {
      "application/javascript": [
       "\n",
       "(function(root) {\n",
       "  function now() {\n",
       "    return new Date();\n",
       "  }\n",
       "\n",
       "  var force = true;\n",
       "\n",
       "  if (typeof root._bokeh_onload_callbacks === \"undefined\" || force === true) {\n",
       "    root._bokeh_onload_callbacks = [];\n",
       "    root._bokeh_is_loading = undefined;\n",
       "  }\n",
       "\n",
       "  var JS_MIME_TYPE = 'application/javascript';\n",
       "  var HTML_MIME_TYPE = 'text/html';\n",
       "  var EXEC_MIME_TYPE = 'application/vnd.bokehjs_exec.v0+json';\n",
       "  var CLASS_NAME = 'output_bokeh rendered_html';\n",
       "\n",
       "  /**\n",
       "   * Render data to the DOM node\n",
       "   */\n",
       "  function render(props, node) {\n",
       "    var script = document.createElement(\"script\");\n",
       "    node.appendChild(script);\n",
       "  }\n",
       "\n",
       "  /**\n",
       "   * Handle when an output is cleared or removed\n",
       "   */\n",
       "  function handleClearOutput(event, handle) {\n",
       "    var cell = handle.cell;\n",
       "\n",
       "    var id = cell.output_area._bokeh_element_id;\n",
       "    var server_id = cell.output_area._bokeh_server_id;\n",
       "    // Clean up Bokeh references\n",
       "    if (id != null && id in Bokeh.index) {\n",
       "      Bokeh.index[id].model.document.clear();\n",
       "      delete Bokeh.index[id];\n",
       "    }\n",
       "\n",
       "    if (server_id !== undefined) {\n",
       "      // Clean up Bokeh references\n",
       "      var cmd = \"from bokeh.io.state import curstate; print(curstate().uuid_to_server['\" + server_id + \"'].get_sessions()[0].document.roots[0]._id)\";\n",
       "      cell.notebook.kernel.execute(cmd, {\n",
       "        iopub: {\n",
       "          output: function(msg) {\n",
       "            var id = msg.content.text.trim();\n",
       "            if (id in Bokeh.index) {\n",
       "              Bokeh.index[id].model.document.clear();\n",
       "              delete Bokeh.index[id];\n",
       "            }\n",
       "          }\n",
       "        }\n",
       "      });\n",
       "      // Destroy server and session\n",
       "      var cmd = \"import bokeh.io.notebook as ion; ion.destroy_server('\" + server_id + \"')\";\n",
       "      cell.notebook.kernel.execute(cmd);\n",
       "    }\n",
       "  }\n",
       "\n",
       "  /**\n",
       "   * Handle when a new output is added\n",
       "   */\n",
       "  function handleAddOutput(event, handle) {\n",
       "    var output_area = handle.output_area;\n",
       "    var output = handle.output;\n",
       "\n",
       "    // limit handleAddOutput to display_data with EXEC_MIME_TYPE content only\n",
       "    if ((output.output_type != \"display_data\") || (!output.data.hasOwnProperty(EXEC_MIME_TYPE))) {\n",
       "      return\n",
       "    }\n",
       "\n",
       "    var toinsert = output_area.element.find(\".\" + CLASS_NAME.split(' ')[0]);\n",
       "\n",
       "    if (output.metadata[EXEC_MIME_TYPE][\"id\"] !== undefined) {\n",
       "      toinsert[toinsert.length - 1].firstChild.textContent = output.data[JS_MIME_TYPE];\n",
       "      // store reference to embed id on output_area\n",
       "      output_area._bokeh_element_id = output.metadata[EXEC_MIME_TYPE][\"id\"];\n",
       "    }\n",
       "    if (output.metadata[EXEC_MIME_TYPE][\"server_id\"] !== undefined) {\n",
       "      var bk_div = document.createElement(\"div\");\n",
       "      bk_div.innerHTML = output.data[HTML_MIME_TYPE];\n",
       "      var script_attrs = bk_div.children[0].attributes;\n",
       "      for (var i = 0; i < script_attrs.length; i++) {\n",
       "        toinsert[toinsert.length - 1].firstChild.setAttribute(script_attrs[i].name, script_attrs[i].value);\n",
       "      }\n",
       "      // store reference to server id on output_area\n",
       "      output_area._bokeh_server_id = output.metadata[EXEC_MIME_TYPE][\"server_id\"];\n",
       "    }\n",
       "  }\n",
       "\n",
       "  function register_renderer(events, OutputArea) {\n",
       "\n",
       "    function append_mime(data, metadata, element) {\n",
       "      // create a DOM node to render to\n",
       "      var toinsert = this.create_output_subarea(\n",
       "        metadata,\n",
       "        CLASS_NAME,\n",
       "        EXEC_MIME_TYPE\n",
       "      );\n",
       "      this.keyboard_manager.register_events(toinsert);\n",
       "      // Render to node\n",
       "      var props = {data: data, metadata: metadata[EXEC_MIME_TYPE]};\n",
       "      render(props, toinsert[toinsert.length - 1]);\n",
       "      element.append(toinsert);\n",
       "      return toinsert\n",
       "    }\n",
       "\n",
       "    /* Handle when an output is cleared or removed */\n",
       "    events.on('clear_output.CodeCell', handleClearOutput);\n",
       "    events.on('delete.Cell', handleClearOutput);\n",
       "\n",
       "    /* Handle when a new output is added */\n",
       "    events.on('output_added.OutputArea', handleAddOutput);\n",
       "\n",
       "    /**\n",
       "     * Register the mime type and append_mime function with output_area\n",
       "     */\n",
       "    OutputArea.prototype.register_mime_type(EXEC_MIME_TYPE, append_mime, {\n",
       "      /* Is output safe? */\n",
       "      safe: true,\n",
       "      /* Index of renderer in `output_area.display_order` */\n",
       "      index: 0\n",
       "    });\n",
       "  }\n",
       "\n",
       "  // register the mime type if in Jupyter Notebook environment and previously unregistered\n",
       "  if (root.Jupyter !== undefined) {\n",
       "    var events = require('base/js/events');\n",
       "    var OutputArea = require('notebook/js/outputarea').OutputArea;\n",
       "\n",
       "    if (OutputArea.prototype.mime_types().indexOf(EXEC_MIME_TYPE) == -1) {\n",
       "      register_renderer(events, OutputArea);\n",
       "    }\n",
       "  }\n",
       "\n",
       "  \n",
       "  if (typeof (root._bokeh_timeout) === \"undefined\" || force === true) {\n",
       "    root._bokeh_timeout = Date.now() + 5000;\n",
       "    root._bokeh_failed_load = false;\n",
       "  }\n",
       "\n",
       "  var NB_LOAD_WARNING = {'data': {'text/html':\n",
       "     \"<div style='background-color: #fdd'>\\n\"+\n",
       "     \"<p>\\n\"+\n",
       "     \"BokehJS does not appear to have successfully loaded. If loading BokehJS from CDN, this \\n\"+\n",
       "     \"may be due to a slow or bad network connection. Possible fixes:\\n\"+\n",
       "     \"</p>\\n\"+\n",
       "     \"<ul>\\n\"+\n",
       "     \"<li>re-rerun `output_notebook()` to attempt to load from CDN again, or</li>\\n\"+\n",
       "     \"<li>use INLINE resources instead, as so:</li>\\n\"+\n",
       "     \"</ul>\\n\"+\n",
       "     \"<code>\\n\"+\n",
       "     \"from bokeh.resources import INLINE\\n\"+\n",
       "     \"output_notebook(resources=INLINE)\\n\"+\n",
       "     \"</code>\\n\"+\n",
       "     \"</div>\"}};\n",
       "\n",
       "  function display_loaded() {\n",
       "    var el = document.getElementById(\"1001\");\n",
       "    if (el != null) {\n",
       "      el.textContent = \"BokehJS is loading...\";\n",
       "    }\n",
       "    if (root.Bokeh !== undefined) {\n",
       "      if (el != null) {\n",
       "        el.textContent = \"BokehJS \" + root.Bokeh.version + \" successfully loaded.\";\n",
       "      }\n",
       "    } else if (Date.now() < root._bokeh_timeout) {\n",
       "      setTimeout(display_loaded, 100)\n",
       "    }\n",
       "  }\n",
       "\n",
       "\n",
       "  function run_callbacks() {\n",
       "    try {\n",
       "      root._bokeh_onload_callbacks.forEach(function(callback) {\n",
       "        if (callback != null)\n",
       "          callback();\n",
       "      });\n",
       "    } finally {\n",
       "      delete root._bokeh_onload_callbacks\n",
       "    }\n",
       "    console.debug(\"Bokeh: all callbacks have finished\");\n",
       "  }\n",
       "\n",
       "  function load_libs(css_urls, js_urls, callback) {\n",
       "    if (css_urls == null) css_urls = [];\n",
       "    if (js_urls == null) js_urls = [];\n",
       "\n",
       "    root._bokeh_onload_callbacks.push(callback);\n",
       "    if (root._bokeh_is_loading > 0) {\n",
       "      console.debug(\"Bokeh: BokehJS is being loaded, scheduling callback at\", now());\n",
       "      return null;\n",
       "    }\n",
       "    if (js_urls == null || js_urls.length === 0) {\n",
       "      run_callbacks();\n",
       "      return null;\n",
       "    }\n",
       "    console.debug(\"Bokeh: BokehJS not loaded, scheduling load and callback at\", now());\n",
       "    root._bokeh_is_loading = css_urls.length + js_urls.length;\n",
       "\n",
       "    function on_load() {\n",
       "      root._bokeh_is_loading--;\n",
       "      if (root._bokeh_is_loading === 0) {\n",
       "        console.debug(\"Bokeh: all BokehJS libraries/stylesheets loaded\");\n",
       "        run_callbacks()\n",
       "      }\n",
       "    }\n",
       "\n",
       "    function on_error() {\n",
       "      console.error(\"failed to load \" + url);\n",
       "    }\n",
       "\n",
       "    for (var i = 0; i < css_urls.length; i++) {\n",
       "      var url = css_urls[i];\n",
       "      const element = document.createElement(\"link\");\n",
       "      element.onload = on_load;\n",
       "      element.onerror = on_error;\n",
       "      element.rel = \"stylesheet\";\n",
       "      element.type = \"text/css\";\n",
       "      element.href = url;\n",
       "      console.debug(\"Bokeh: injecting link tag for BokehJS stylesheet: \", url);\n",
       "      document.body.appendChild(element);\n",
       "    }\n",
       "\n",
       "    for (var i = 0; i < js_urls.length; i++) {\n",
       "      var url = js_urls[i];\n",
       "      var element = document.createElement('script');\n",
       "      element.onload = on_load;\n",
       "      element.onerror = on_error;\n",
       "      element.async = false;\n",
       "      element.src = url;\n",
       "      console.debug(\"Bokeh: injecting script tag for BokehJS library: \", url);\n",
       "      document.head.appendChild(element);\n",
       "    }\n",
       "  };var element = document.getElementById(\"1001\");\n",
       "  if (element == null) {\n",
       "    console.error(\"Bokeh: ERROR: autoload.js configured with elementid '1001' but no matching script tag was found. \")\n",
       "    return false;\n",
       "  }\n",
       "\n",
       "  function inject_raw_css(css) {\n",
       "    const element = document.createElement(\"style\");\n",
       "    element.appendChild(document.createTextNode(css));\n",
       "    document.body.appendChild(element);\n",
       "  }\n",
       "\n",
       "  \n",
       "  var js_urls = [\"https://cdn.pydata.org/bokeh/release/bokeh-1.4.0.min.js\", \"https://cdn.pydata.org/bokeh/release/bokeh-widgets-1.4.0.min.js\", \"https://cdn.pydata.org/bokeh/release/bokeh-tables-1.4.0.min.js\", \"https://cdn.pydata.org/bokeh/release/bokeh-gl-1.4.0.min.js\"];\n",
       "  var css_urls = [];\n",
       "  \n",
       "\n",
       "  var inline_js = [\n",
       "    function(Bokeh) {\n",
       "      Bokeh.set_log_level(\"info\");\n",
       "    },\n",
       "    function(Bokeh) {\n",
       "    \n",
       "    \n",
       "    }\n",
       "  ];\n",
       "\n",
       "  function run_inline_js() {\n",
       "    \n",
       "    if (root.Bokeh !== undefined || force === true) {\n",
       "      \n",
       "    for (var i = 0; i < inline_js.length; i++) {\n",
       "      inline_js[i].call(root, root.Bokeh);\n",
       "    }\n",
       "    if (force === true) {\n",
       "        display_loaded();\n",
       "      }} else if (Date.now() < root._bokeh_timeout) {\n",
       "      setTimeout(run_inline_js, 100);\n",
       "    } else if (!root._bokeh_failed_load) {\n",
       "      console.log(\"Bokeh: BokehJS failed to load within specified timeout.\");\n",
       "      root._bokeh_failed_load = true;\n",
       "    } else if (force !== true) {\n",
       "      var cell = $(document.getElementById(\"1001\")).parents('.cell').data().cell;\n",
       "      cell.output_area.append_execute_result(NB_LOAD_WARNING)\n",
       "    }\n",
       "\n",
       "  }\n",
       "\n",
       "  if (root._bokeh_is_loading === 0) {\n",
       "    console.debug(\"Bokeh: BokehJS loaded, going straight to plotting\");\n",
       "    run_inline_js();\n",
       "  } else {\n",
       "    load_libs(css_urls, js_urls, function() {\n",
       "      console.debug(\"Bokeh: BokehJS plotting callback run at\", now());\n",
       "      run_inline_js();\n",
       "    });\n",
       "  }\n",
       "}(window));"
      ],
      "application/vnd.bokehjs_load.v0+json": "\n(function(root) {\n  function now() {\n    return new Date();\n  }\n\n  var force = true;\n\n  if (typeof root._bokeh_onload_callbacks === \"undefined\" || force === true) {\n    root._bokeh_onload_callbacks = [];\n    root._bokeh_is_loading = undefined;\n  }\n\n  \n\n  \n  if (typeof (root._bokeh_timeout) === \"undefined\" || force === true) {\n    root._bokeh_timeout = Date.now() + 5000;\n    root._bokeh_failed_load = false;\n  }\n\n  var NB_LOAD_WARNING = {'data': {'text/html':\n     \"<div style='background-color: #fdd'>\\n\"+\n     \"<p>\\n\"+\n     \"BokehJS does not appear to have successfully loaded. If loading BokehJS from CDN, this \\n\"+\n     \"may be due to a slow or bad network connection. Possible fixes:\\n\"+\n     \"</p>\\n\"+\n     \"<ul>\\n\"+\n     \"<li>re-rerun `output_notebook()` to attempt to load from CDN again, or</li>\\n\"+\n     \"<li>use INLINE resources instead, as so:</li>\\n\"+\n     \"</ul>\\n\"+\n     \"<code>\\n\"+\n     \"from bokeh.resources import INLINE\\n\"+\n     \"output_notebook(resources=INLINE)\\n\"+\n     \"</code>\\n\"+\n     \"</div>\"}};\n\n  function display_loaded() {\n    var el = document.getElementById(\"1001\");\n    if (el != null) {\n      el.textContent = \"BokehJS is loading...\";\n    }\n    if (root.Bokeh !== undefined) {\n      if (el != null) {\n        el.textContent = \"BokehJS \" + root.Bokeh.version + \" successfully loaded.\";\n      }\n    } else if (Date.now() < root._bokeh_timeout) {\n      setTimeout(display_loaded, 100)\n    }\n  }\n\n\n  function run_callbacks() {\n    try {\n      root._bokeh_onload_callbacks.forEach(function(callback) {\n        if (callback != null)\n          callback();\n      });\n    } finally {\n      delete root._bokeh_onload_callbacks\n    }\n    console.debug(\"Bokeh: all callbacks have finished\");\n  }\n\n  function load_libs(css_urls, js_urls, callback) {\n    if (css_urls == null) css_urls = [];\n    if (js_urls == null) js_urls = [];\n\n    root._bokeh_onload_callbacks.push(callback);\n    if (root._bokeh_is_loading > 0) {\n      console.debug(\"Bokeh: BokehJS is being loaded, scheduling callback at\", now());\n      return null;\n    }\n    if (js_urls == null || js_urls.length === 0) {\n      run_callbacks();\n      return null;\n    }\n    console.debug(\"Bokeh: BokehJS not loaded, scheduling load and callback at\", now());\n    root._bokeh_is_loading = css_urls.length + js_urls.length;\n\n    function on_load() {\n      root._bokeh_is_loading--;\n      if (root._bokeh_is_loading === 0) {\n        console.debug(\"Bokeh: all BokehJS libraries/stylesheets loaded\");\n        run_callbacks()\n      }\n    }\n\n    function on_error() {\n      console.error(\"failed to load \" + url);\n    }\n\n    for (var i = 0; i < css_urls.length; i++) {\n      var url = css_urls[i];\n      const element = document.createElement(\"link\");\n      element.onload = on_load;\n      element.onerror = on_error;\n      element.rel = \"stylesheet\";\n      element.type = \"text/css\";\n      element.href = url;\n      console.debug(\"Bokeh: injecting link tag for BokehJS stylesheet: \", url);\n      document.body.appendChild(element);\n    }\n\n    for (var i = 0; i < js_urls.length; i++) {\n      var url = js_urls[i];\n      var element = document.createElement('script');\n      element.onload = on_load;\n      element.onerror = on_error;\n      element.async = false;\n      element.src = url;\n      console.debug(\"Bokeh: injecting script tag for BokehJS library: \", url);\n      document.head.appendChild(element);\n    }\n  };var element = document.getElementById(\"1001\");\n  if (element == null) {\n    console.error(\"Bokeh: ERROR: autoload.js configured with elementid '1001' but no matching script tag was found. \")\n    return false;\n  }\n\n  function inject_raw_css(css) {\n    const element = document.createElement(\"style\");\n    element.appendChild(document.createTextNode(css));\n    document.body.appendChild(element);\n  }\n\n  \n  var js_urls = [\"https://cdn.pydata.org/bokeh/release/bokeh-1.4.0.min.js\", \"https://cdn.pydata.org/bokeh/release/bokeh-widgets-1.4.0.min.js\", \"https://cdn.pydata.org/bokeh/release/bokeh-tables-1.4.0.min.js\", \"https://cdn.pydata.org/bokeh/release/bokeh-gl-1.4.0.min.js\"];\n  var css_urls = [];\n  \n\n  var inline_js = [\n    function(Bokeh) {\n      Bokeh.set_log_level(\"info\");\n    },\n    function(Bokeh) {\n    \n    \n    }\n  ];\n\n  function run_inline_js() {\n    \n    if (root.Bokeh !== undefined || force === true) {\n      \n    for (var i = 0; i < inline_js.length; i++) {\n      inline_js[i].call(root, root.Bokeh);\n    }\n    if (force === true) {\n        display_loaded();\n      }} else if (Date.now() < root._bokeh_timeout) {\n      setTimeout(run_inline_js, 100);\n    } else if (!root._bokeh_failed_load) {\n      console.log(\"Bokeh: BokehJS failed to load within specified timeout.\");\n      root._bokeh_failed_load = true;\n    } else if (force !== true) {\n      var cell = $(document.getElementById(\"1001\")).parents('.cell').data().cell;\n      cell.output_area.append_execute_result(NB_LOAD_WARNING)\n    }\n\n  }\n\n  if (root._bokeh_is_loading === 0) {\n    console.debug(\"Bokeh: BokehJS loaded, going straight to plotting\");\n    run_inline_js();\n  } else {\n    load_libs(css_urls, js_urls, function() {\n      console.debug(\"Bokeh: BokehJS plotting callback run at\", now());\n      run_inline_js();\n    });\n  }\n}(window));"
     },
     "metadata": {},
     "output_type": "display_data"
    }
   ],
   "source": [
    "import random\n",
    "import sys\n",
    "\n",
    "import numpy as np\n",
    "import matplotlib.pyplot as plt\n",
    "from itertools import compress\n",
    "\n",
    "# Bokeh imports\n",
    "from bokeh.io import output_notebook, show, save\n",
    "from bokeh.plotting import figure, output_file, ColumnDataSource, reset_output\n",
    "from bokeh.models import HoverTool\n",
    "output_notebook()\n",
    "\n",
    "from ipywidgets.widgets import Text\n",
    "\n",
    "#scipy constants\n",
    "from scipy.constants import Boltzmann as kB\n",
    "from scipy.constants import Avogadro as NA\n",
    "from scipy.constants import Planck as h\n",
    "from scipy.constants import speed_of_light as c0\n",
    "from scipy.constants import R\n",
    "\n",
    "sys.path.append('../CNT-SIM/')\n",
    "from CNTSimFile import CNTSimFile\n",
    "from mc_sim import exciton_sim_4_level, exciton_sim_4_lvl_full_exchange"
   ]
  },
  {
   "cell_type": "code",
   "execution_count": 2,
   "metadata": {},
   "outputs": [],
   "source": [
    "def atof(text):\n",
    "    try:\n",
    "        retval = float(text)\n",
    "    except ValueError:\n",
    "        retval = text\n",
    "    return retval\n",
    "\n",
    "def human_sorting(text):\n",
    "    '''\n",
    "    alist.sort(key=natural_keys) sorts in human order\n",
    "    http://nedbatchelder.com/blog/200712/human_sorting.html\n",
    "    (See Toothy's implementation in the comments)\n",
    "    float regex comes from https://stackoverflow.com/a/12643073/190597\n",
    "    '''\n",
    "    return [ atof(c) for c in re.findall(\"[-+]?[.]?[\\d]+(?:,\\d\\d\\d)*[\\.]?\\d*(?:[eE][-+]?\\d+)?\", text) ]"
   ]
  },
  {
   "cell_type": "code",
   "execution_count": 3,
   "metadata": {},
   "outputs": [],
   "source": [
    "import os\n",
    "files = os.listdir('../sim_output/')\n",
    "files = [r'../sim_output/' + f\n",
    "         for f in files if '2020-04-2'\n",
    "         in f if f.endswith('.h5')]"
   ]
  },
  {
   "cell_type": "code",
   "execution_count": 4,
   "metadata": {
    "scrolled": true
   },
   "outputs": [],
   "source": [
    "import re\n",
    "def natural_key(string_):\n",
    "    return [int(s) if s.isdigit() else s for s in re.split(r'(\\d+)', string_)]\n",
    "files = sorted(files, key=natural_key)\n",
    "files = sorted(files, key= human_sorting)"
   ]
  },
  {
   "cell_type": "code",
   "execution_count": 5,
   "metadata": {},
   "outputs": [],
   "source": [
    "kin_const = []"
   ]
  },
  {
   "cell_type": "code",
   "execution_count": 6,
   "metadata": {
    "scrolled": false
   },
   "outputs": [
    {
     "name": "stderr",
     "output_type": "stream",
     "text": [
      "../CNT-SIM/CNTSimFile.py:43: H5pyDeprecationWarning: The default file mode will change to 'r' (read-only) in h5py 3.0. To suppress this warning, pass the mode you need to h5py.File(), or set the global default h5.get_config().default_file_mode, or set the environment variable H5PY_DEFAULT_READONLY=1. Available modes are: 'r', 'r+', 'w', 'w-'/'x', 'a'. See the docs for details.\n",
      "  data = h5py.File(self.filepath)\n",
      "../CNT-SIM/CNTSimFile.py:30: UserWarning: File already exists, kinetic constants ingored.\n",
      "  warn(\"File already exists, kinetic constants ingored.\")\n"
     ]
    },
    {
     "name": "stdout",
     "output_type": "stream",
     "text": [
      "Existing file loaded successfully.\n",
      "Existing file loaded successfully.\n",
      "Existing file loaded successfully.\n",
      "Existing file loaded successfully.\n",
      "Existing file loaded successfully.\n",
      "Existing file loaded successfully.\n",
      "Existing file loaded successfully.\n",
      "Existing file loaded successfully.\n",
      "Existing file loaded successfully.\n",
      "Existing file loaded successfully.\n",
      "Existing file loaded successfully.\n",
      "Existing file loaded successfully.\n",
      "Existing file loaded successfully.\n",
      "Existing file loaded successfully.\n",
      "Existing file loaded successfully.\n",
      "Existing file loaded successfully.\n",
      "Existing file loaded successfully.\n",
      "Existing file loaded successfully.\n",
      "Existing file loaded successfully.\n",
      "Existing file loaded successfully.\n",
      "Existing file loaded successfully.\n",
      "Existing file loaded successfully.\n"
     ]
    }
   ],
   "source": [
    "CNT_sims = [CNTSimFile(i, kin_const) for i in files]"
   ]
  },
  {
   "cell_type": "code",
   "execution_count": 7,
   "metadata": {},
   "outputs": [
    {
     "name": "stdout",
     "output_type": "stream",
     "text": [
      "../sim_output/2020-04-26_exciton_sim_4_level-def_1.h5\n",
      "../sim_output/2020-04-26_exciton_sim_4_level-len_1.h5\n",
      "../sim_output/2020-04-26_exciton_sim_4_level-def_2.h5\n",
      "../sim_output/2020-04-26_exciton_sim_4_level-len_2.h5\n",
      "../sim_output/2020-04-26_exciton_sim_4_level-def_3.h5\n",
      "../sim_output/2020-04-26_exciton_sim_4_level-len_3.h5\n",
      "../sim_output/2020-04-26_exciton_sim_4_level-def_4.h5\n",
      "../sim_output/2020-04-26_exciton_sim_4_level-len_4.h5\n",
      "../sim_output/2020-04-26_exciton_sim_4_level-def_5.h5\n",
      "../sim_output/2020-04-26_exciton_sim_4_level-len_5.h5\n",
      "../sim_output/2020-04-26_exciton_sim_4_level-def_6.h5\n",
      "../sim_output/2020-04-26_exciton_sim_4_level-len_6.h5\n",
      "../sim_output/2020-04-26_exciton_sim_4_level-def_7.h5\n",
      "../sim_output/2020-04-26_exciton_sim_4_level-len_7.h5\n",
      "../sim_output/2020-04-24_exciton_sim_4_level-def_1.h5\n",
      "../sim_output/2020-04-24_exciton_sim_4_level-len_1.h5\n",
      "../sim_output/2020-04-24_exciton_sim_4_level-def_2.h5\n",
      "../sim_output/2020-04-24_exciton_sim_4_level-len_2.h5\n",
      "../sim_output/2020-04-24_exciton_sim_4_level-def_3.h5\n",
      "../sim_output/2020-04-24_exciton_sim_4_level-len_3.h5\n",
      "../sim_output/2020-04-24_exciton_sim_4_level-def_4.h5\n",
      "../sim_output/2020-04-24_exciton_sim_4_level-len_4.h5\n"
     ]
    }
   ],
   "source": [
    "for i in CNT_sims:\n",
    "    print(i)"
   ]
  },
  {
   "cell_type": "code",
   "execution_count": 8,
   "metadata": {},
   "outputs": [
    {
     "name": "stdout",
     "output_type": "stream",
     "text": [
      "100000000000.0 20000000000.0\n",
      "100000000000.0 20000000000.0\n",
      "10000000000.0 20000000000.0\n",
      "10000000000.0 20000000000.0\n",
      "50000000000.0 15000000000.0\n",
      "50000000000.0 15000000000.0\n",
      "500000000000.0 15000000000.0\n",
      "500000000000.0 15000000000.0\n",
      "100000000000.0 15000000000.0\n",
      "100000000000.0 15000000000.0\n",
      "10000000000.0 15000000000.0\n",
      "10000000000.0 15000000000.0\n",
      "25000000000.0 15000000000.0\n",
      "25000000000.0 15000000000.0\n",
      "50000000000.0 20000000000.0\n",
      "50000000000.0 20000000000.0\n",
      "500000000000.0 20000000000.0\n",
      "500000000000.0 20000000000.0\n",
      "5000000000.0 20000000000.0\n",
      "5000000000.0 20000000000.0\n",
      "25000000000.0 20000000000.0\n",
      "25000000000.0 20000000000.0\n"
     ]
    }
   ],
   "source": [
    "for i in CNT_sims:\n",
    "    print(i.kin_const[5], i.kin_const[0])"
   ]
  },
  {
   "cell_type": "code",
   "execution_count": 9,
   "metadata": {},
   "outputs": [],
   "source": [
    "mask_high_er = [True if i.kin_const[0]==20000000000.0 else False for i in CNT_sims]"
   ]
  },
  {
   "cell_type": "markdown",
   "metadata": {},
   "source": [
    "## Defect Dependence"
   ]
  },
  {
   "cell_type": "code",
   "execution_count": 10,
   "metadata": {},
   "outputs": [],
   "source": [
    "color_list = np.array(['blue', 'orange', 'green', 'red', 'black', 'magenta', 'navy',  'darkviolet', 'cyan'])"
   ]
  },
  {
   "cell_type": "code",
   "execution_count": 11,
   "metadata": {
    "scrolled": true
   },
   "outputs": [],
   "source": [
    "def k_ed_sorting(CNTFile):\n",
    "    return CNTFile.kin_const[5]"
   ]
  },
  {
   "cell_type": "code",
   "execution_count": 12,
   "metadata": {},
   "outputs": [],
   "source": [
    "defects_k_ed = sorted(list(compress(CNT_sims, mask_high_er))[::2], key=k_ed_sorting)"
   ]
  },
  {
   "cell_type": "markdown",
   "metadata": {},
   "source": [
    "### E11*"
   ]
  },
  {
   "cell_type": "code",
   "execution_count": 13,
   "metadata": {},
   "outputs": [
    {
     "data": {
      "text/html": [
       "\n",
       "\n",
       "\n",
       "\n",
       "\n",
       "\n",
       "  <div class=\"bk-root\" id=\"849a0392-eb15-4c9f-aeea-e54c175478ff\" data-root-id=\"1002\"></div>\n"
      ]
     },
     "metadata": {},
     "output_type": "display_data"
    },
    {
     "data": {
      "application/javascript": [
       "(function(root) {\n",
       "  function embed_document(root) {\n",
       "    \n",
       "  var docs_json = {\"45d22233-449f-432b-9278-9fc679b69a8f\":{\"roots\":{\"references\":[{\"attributes\":{\"below\":[{\"id\":\"1013\",\"type\":\"LinearAxis\"}],\"center\":[{\"id\":\"1017\",\"type\":\"Grid\"},{\"id\":\"1022\",\"type\":\"Grid\"},{\"id\":\"1049\",\"type\":\"Legend\"}],\"left\":[{\"id\":\"1018\",\"type\":\"LinearAxis\"}],\"plot_height\":400,\"plot_width\":800,\"renderers\":[{\"id\":\"1041\",\"type\":\"GlyphRenderer\"},{\"id\":\"1054\",\"type\":\"GlyphRenderer\"},{\"id\":\"1068\",\"type\":\"GlyphRenderer\"},{\"id\":\"1084\",\"type\":\"GlyphRenderer\"},{\"id\":\"1102\",\"type\":\"GlyphRenderer\"},{\"id\":\"1122\",\"type\":\"GlyphRenderer\"}],\"title\":{\"id\":\"1003\",\"type\":\"Title\"},\"toolbar\":{\"id\":\"1029\",\"type\":\"Toolbar\"},\"x_range\":{\"id\":\"1005\",\"type\":\"DataRange1d\"},\"x_scale\":{\"id\":\"1009\",\"type\":\"LinearScale\"},\"y_range\":{\"id\":\"1007\",\"type\":\"DataRange1d\"},\"y_scale\":{\"id\":\"1011\",\"type\":\"LinearScale\"}},\"id\":\"1002\",\"subtype\":\"Figure\",\"type\":\"Plot\"},{\"attributes\":{},\"id\":\"1078\",\"type\":\"Selection\"},{\"attributes\":{},\"id\":\"1096\",\"type\":\"Selection\"},{\"attributes\":{},\"id\":\"1044\",\"type\":\"BasicTickFormatter\"},{\"attributes\":{\"callback\":null,\"data\":{\"x\":[0,20,40,60,80,100,120,140,160,180,200,220,240],\"y\":{\"__ndarray__\":\"AAAAAM3MjD97FG4/j8I1PxSuRz8AAAA/kML1PnsUrj4pXI8+CtcjPnsULj4pXA8+zczMPQ==\",\"dtype\":\"float32\",\"shape\":[13]}},\"selected\":{\"id\":\"1157\",\"type\":\"Selection\"},\"selection_policy\":{\"id\":\"1158\",\"type\":\"UnionRenderers\"}},\"id\":\"1119\",\"type\":\"ColumnDataSource\"},{\"attributes\":{},\"id\":\"1079\",\"type\":\"UnionRenderers\"},{\"attributes\":{},\"id\":\"1046\",\"type\":\"BasicTickFormatter\"},{\"attributes\":{\"line_color\":\"magenta\",\"x\":{\"field\":\"x\"},\"y\":{\"field\":\"y\"}},\"id\":\"1120\",\"type\":\"Line\"},{\"attributes\":{\"ticker\":{\"id\":\"1014\",\"type\":\"BasicTicker\"}},\"id\":\"1017\",\"type\":\"Grid\"},{\"attributes\":{\"label\":{\"value\":\"k_ed = 2.5e+10\"},\"renderers\":[{\"id\":\"1068\",\"type\":\"GlyphRenderer\"}]},\"id\":\"1080\",\"type\":\"LegendItem\"},{\"attributes\":{\"line_alpha\":0.1,\"line_color\":\"#1f77b4\",\"x\":{\"field\":\"x\"},\"y\":{\"field\":\"y\"}},\"id\":\"1121\",\"type\":\"Line\"},{\"attributes\":{\"bottom_units\":\"screen\",\"fill_alpha\":{\"value\":0.5},\"fill_color\":{\"value\":\"lightgrey\"},\"left_units\":\"screen\",\"level\":\"overlay\",\"line_alpha\":{\"value\":1.0},\"line_color\":{\"value\":\"black\"},\"line_dash\":[4,4],\"line_width\":{\"value\":2},\"render_mode\":\"css\",\"right_units\":\"screen\",\"top_units\":\"screen\"},\"id\":\"1048\",\"type\":\"BoxAnnotation\"},{\"attributes\":{\"axis_label\":\"QY (E11*)\",\"formatter\":{\"id\":\"1046\",\"type\":\"BasicTickFormatter\"},\"ticker\":{\"id\":\"1019\",\"type\":\"BasicTicker\"}},\"id\":\"1018\",\"type\":\"LinearAxis\"},{\"attributes\":{\"line_alpha\":0.1,\"line_color\":\"#1f77b4\",\"x\":{\"field\":\"x\"},\"y\":{\"field\":\"y\"}},\"id\":\"1040\",\"type\":\"Line\"},{\"attributes\":{\"callback\":null,\"data\":{\"x\":[0,20,40,60,80,100,120,140,160,180,200,220,240],\"y\":{\"__ndarray__\":\"AAAAAArXIz/rUTg/H4XrPqRwvT4K16M+rkdhPrgehT57FC4+CtcjPs3MzD2QwnU9kML1PA==\",\"dtype\":\"float32\",\"shape\":[13]}},\"selected\":{\"id\":\"1116\",\"type\":\"Selection\"},\"selection_policy\":{\"id\":\"1117\",\"type\":\"UnionRenderers\"}},\"id\":\"1081\",\"type\":\"ColumnDataSource\"},{\"attributes\":{\"items\":[{\"id\":\"1050\",\"type\":\"LegendItem\"},{\"id\":\"1064\",\"type\":\"LegendItem\"},{\"id\":\"1080\",\"type\":\"LegendItem\"},{\"id\":\"1098\",\"type\":\"LegendItem\"},{\"id\":\"1118\",\"type\":\"LegendItem\"},{\"id\":\"1140\",\"type\":\"LegendItem\"}]},\"id\":\"1049\",\"type\":\"Legend\"},{\"attributes\":{\"data_source\":{\"id\":\"1119\",\"type\":\"ColumnDataSource\"},\"glyph\":{\"id\":\"1120\",\"type\":\"Line\"},\"hover_glyph\":null,\"muted_glyph\":null,\"nonselection_glyph\":{\"id\":\"1121\",\"type\":\"Line\"},\"selection_glyph\":null,\"view\":{\"id\":\"1123\",\"type\":\"CDSView\"}},\"id\":\"1122\",\"type\":\"GlyphRenderer\"},{\"attributes\":{},\"id\":\"1019\",\"type\":\"BasicTicker\"},{\"attributes\":{\"data_source\":{\"id\":\"1038\",\"type\":\"ColumnDataSource\"},\"glyph\":{\"id\":\"1039\",\"type\":\"Line\"},\"hover_glyph\":null,\"muted_glyph\":null,\"nonselection_glyph\":{\"id\":\"1040\",\"type\":\"Line\"},\"selection_glyph\":null,\"view\":{\"id\":\"1042\",\"type\":\"CDSView\"}},\"id\":\"1041\",\"type\":\"GlyphRenderer\"},{\"attributes\":{\"line_color\":\"red\",\"x\":{\"field\":\"x\"},\"y\":{\"field\":\"y\"}},\"id\":\"1082\",\"type\":\"Line\"},{\"attributes\":{\"label\":{\"value\":\"k_ed = 5.e+09\"},\"renderers\":[{\"id\":\"1041\",\"type\":\"GlyphRenderer\"}]},\"id\":\"1050\",\"type\":\"LegendItem\"},{\"attributes\":{\"source\":{\"id\":\"1119\",\"type\":\"ColumnDataSource\"}},\"id\":\"1123\",\"type\":\"CDSView\"},{\"attributes\":{\"dimension\":1,\"ticker\":{\"id\":\"1019\",\"type\":\"BasicTicker\"}},\"id\":\"1022\",\"type\":\"Grid\"},{\"attributes\":{\"line_alpha\":0.1,\"line_color\":\"#1f77b4\",\"x\":{\"field\":\"x\"},\"y\":{\"field\":\"y\"}},\"id\":\"1083\",\"type\":\"Line\"},{\"attributes\":{\"callback\":null,\"data\":{\"x\":[0,20,40,60,80,100,120,140,160,180,200,220,240],\"y\":{\"__ndarray__\":\"AAAAAClcjz2QwvU9CtejPZDCdT3NzEw9zcxMPZDC9TwK1yM8AAAAAArXIzwAAAAAAAAAAA==\",\"dtype\":\"float32\",\"shape\":[13]}},\"selected\":{\"id\":\"1078\",\"type\":\"Selection\"},\"selection_policy\":{\"id\":\"1079\",\"type\":\"UnionRenderers\"}},\"id\":\"1051\",\"type\":\"ColumnDataSource\"},{\"attributes\":{},\"id\":\"1138\",\"type\":\"Selection\"},{\"attributes\":{\"active_drag\":\"auto\",\"active_inspect\":\"auto\",\"active_multi\":null,\"active_scroll\":\"auto\",\"active_tap\":\"auto\",\"tools\":[{\"id\":\"1023\",\"type\":\"PanTool\"},{\"id\":\"1024\",\"type\":\"WheelZoomTool\"},{\"id\":\"1025\",\"type\":\"BoxZoomTool\"},{\"id\":\"1026\",\"type\":\"SaveTool\"},{\"id\":\"1027\",\"type\":\"ResetTool\"},{\"id\":\"1028\",\"type\":\"HelpTool\"},{\"id\":\"1036\",\"type\":\"HoverTool\"}]},\"id\":\"1029\",\"type\":\"Toolbar\"},{\"attributes\":{\"data_source\":{\"id\":\"1081\",\"type\":\"ColumnDataSource\"},\"glyph\":{\"id\":\"1082\",\"type\":\"Line\"},\"hover_glyph\":null,\"muted_glyph\":null,\"nonselection_glyph\":{\"id\":\"1083\",\"type\":\"Line\"},\"selection_glyph\":null,\"view\":{\"id\":\"1085\",\"type\":\"CDSView\"}},\"id\":\"1084\",\"type\":\"GlyphRenderer\"},{\"attributes\":{\"callback\":null,\"data\":{\"x\":[0,20,40,60,80,100,120,140,160,180,200,220,240],\"y\":{\"__ndarray__\":\"AAAAAAAAAAAK16M8CtejPAAAAAAK1yM8AAAAAAAAAAAAAAAACtcjPAAAAAAAAAAAAAAAAA==\",\"dtype\":\"float32\",\"shape\":[13]}},\"selected\":{\"id\":\"1062\",\"type\":\"Selection\"},\"selection_policy\":{\"id\":\"1063\",\"type\":\"UnionRenderers\"}},\"id\":\"1038\",\"type\":\"ColumnDataSource\"},{\"attributes\":{\"line_color\":\"orange\",\"x\":{\"field\":\"x\"},\"y\":{\"field\":\"y\"}},\"id\":\"1052\",\"type\":\"Line\"},{\"attributes\":{},\"id\":\"1139\",\"type\":\"UnionRenderers\"},{\"attributes\":{\"source\":{\"id\":\"1081\",\"type\":\"ColumnDataSource\"}},\"id\":\"1085\",\"type\":\"CDSView\"},{\"attributes\":{\"label\":{\"value\":\"k_ed = 5.e+11\"},\"renderers\":[{\"id\":\"1122\",\"type\":\"GlyphRenderer\"}]},\"id\":\"1140\",\"type\":\"LegendItem\"},{\"attributes\":{\"line_alpha\":0.1,\"line_color\":\"#1f77b4\",\"x\":{\"field\":\"x\"},\"y\":{\"field\":\"y\"}},\"id\":\"1053\",\"type\":\"Line\"},{\"attributes\":{},\"id\":\"1023\",\"type\":\"PanTool\"},{\"attributes\":{},\"id\":\"1097\",\"type\":\"UnionRenderers\"},{\"attributes\":{\"data_source\":{\"id\":\"1051\",\"type\":\"ColumnDataSource\"},\"glyph\":{\"id\":\"1052\",\"type\":\"Line\"},\"hover_glyph\":null,\"muted_glyph\":null,\"nonselection_glyph\":{\"id\":\"1053\",\"type\":\"Line\"},\"selection_glyph\":null,\"view\":{\"id\":\"1055\",\"type\":\"CDSView\"}},\"id\":\"1054\",\"type\":\"GlyphRenderer\"},{\"attributes\":{},\"id\":\"1157\",\"type\":\"Selection\"},{\"attributes\":{\"label\":{\"value\":\"k_ed = 5.e+10\"},\"renderers\":[{\"id\":\"1084\",\"type\":\"GlyphRenderer\"}]},\"id\":\"1098\",\"type\":\"LegendItem\"},{\"attributes\":{},\"id\":\"1024\",\"type\":\"WheelZoomTool\"},{\"attributes\":{\"callback\":null},\"id\":\"1036\",\"type\":\"HoverTool\"},{\"attributes\":{\"source\":{\"id\":\"1051\",\"type\":\"ColumnDataSource\"}},\"id\":\"1055\",\"type\":\"CDSView\"},{\"attributes\":{},\"id\":\"1158\",\"type\":\"UnionRenderers\"},{\"attributes\":{\"overlay\":{\"id\":\"1048\",\"type\":\"BoxAnnotation\"}},\"id\":\"1025\",\"type\":\"BoxZoomTool\"},{\"attributes\":{\"callback\":null,\"data\":{\"x\":[0,20,40,60,80,100,120,140,160,180,200,220,240],\"y\":{\"__ndarray__\":\"AAAAAIXrUT/helQ/NDMzP5qZGT+amZk+wvWoPjQzsz6QwnU+61E4PilcDz6QwnU9CtejPQ==\",\"dtype\":\"float32\",\"shape\":[13]}},\"selected\":{\"id\":\"1138\",\"type\":\"Selection\"},\"selection_policy\":{\"id\":\"1139\",\"type\":\"UnionRenderers\"}},\"id\":\"1099\",\"type\":\"ColumnDataSource\"},{\"attributes\":{},\"id\":\"1062\",\"type\":\"Selection\"},{\"attributes\":{},\"id\":\"1026\",\"type\":\"SaveTool\"},{\"attributes\":{\"source\":{\"id\":\"1038\",\"type\":\"ColumnDataSource\"}},\"id\":\"1042\",\"type\":\"CDSView\"},{\"attributes\":{\"x\":{\"field\":\"x\"},\"y\":{\"field\":\"y\"}},\"id\":\"1100\",\"type\":\"Line\"},{\"attributes\":{},\"id\":\"1063\",\"type\":\"UnionRenderers\"},{\"attributes\":{\"text\":\"Defect Density Relation, l = 300 nm\"},\"id\":\"1003\",\"type\":\"Title\"},{\"attributes\":{},\"id\":\"1027\",\"type\":\"ResetTool\"},{\"attributes\":{\"line_alpha\":0.1,\"line_color\":\"#1f77b4\",\"x\":{\"field\":\"x\"},\"y\":{\"field\":\"y\"}},\"id\":\"1101\",\"type\":\"Line\"},{\"attributes\":{\"label\":{\"value\":\"k_ed = 1.e+10\"},\"renderers\":[{\"id\":\"1054\",\"type\":\"GlyphRenderer\"}]},\"id\":\"1064\",\"type\":\"LegendItem\"},{\"attributes\":{\"callback\":null},\"id\":\"1005\",\"type\":\"DataRange1d\"},{\"attributes\":{\"data_source\":{\"id\":\"1099\",\"type\":\"ColumnDataSource\"},\"glyph\":{\"id\":\"1100\",\"type\":\"Line\"},\"hover_glyph\":null,\"muted_glyph\":null,\"nonselection_glyph\":{\"id\":\"1101\",\"type\":\"Line\"},\"selection_glyph\":null,\"view\":{\"id\":\"1103\",\"type\":\"CDSView\"}},\"id\":\"1102\",\"type\":\"GlyphRenderer\"},{\"attributes\":{},\"id\":\"1028\",\"type\":\"HelpTool\"},{\"attributes\":{\"line_color\":\"blue\",\"x\":{\"field\":\"x\"},\"y\":{\"field\":\"y\"}},\"id\":\"1039\",\"type\":\"Line\"},{\"attributes\":{\"callback\":null,\"data\":{\"x\":[0,20,40,60,80,100,120,140,160,180,200,220,240],\"y\":{\"__ndarray__\":\"AAAAAM3MzD6kcL0+PQrXPrgehT6QwnU+KVwPPq5H4T3rUbg9kML1PSlcjz2QwnU9CtejPA==\",\"dtype\":\"float32\",\"shape\":[13]}},\"selected\":{\"id\":\"1096\",\"type\":\"Selection\"},\"selection_policy\":{\"id\":\"1097\",\"type\":\"UnionRenderers\"}},\"id\":\"1065\",\"type\":\"ColumnDataSource\"},{\"attributes\":{\"callback\":null},\"id\":\"1007\",\"type\":\"DataRange1d\"},{\"attributes\":{\"source\":{\"id\":\"1099\",\"type\":\"ColumnDataSource\"}},\"id\":\"1103\",\"type\":\"CDSView\"},{\"attributes\":{\"line_color\":\"green\",\"x\":{\"field\":\"x\"},\"y\":{\"field\":\"y\"}},\"id\":\"1066\",\"type\":\"Line\"},{\"attributes\":{},\"id\":\"1009\",\"type\":\"LinearScale\"},{\"attributes\":{},\"id\":\"1116\",\"type\":\"Selection\"},{\"attributes\":{\"line_alpha\":0.1,\"line_color\":\"#1f77b4\",\"x\":{\"field\":\"x\"},\"y\":{\"field\":\"y\"}},\"id\":\"1067\",\"type\":\"Line\"},{\"attributes\":{},\"id\":\"1011\",\"type\":\"LinearScale\"},{\"attributes\":{},\"id\":\"1117\",\"type\":\"UnionRenderers\"},{\"attributes\":{\"data_source\":{\"id\":\"1065\",\"type\":\"ColumnDataSource\"},\"glyph\":{\"id\":\"1066\",\"type\":\"Line\"},\"hover_glyph\":null,\"muted_glyph\":null,\"nonselection_glyph\":{\"id\":\"1067\",\"type\":\"Line\"},\"selection_glyph\":null,\"view\":{\"id\":\"1069\",\"type\":\"CDSView\"}},\"id\":\"1068\",\"type\":\"GlyphRenderer\"},{\"attributes\":{\"axis_label\":\"N (defects)\",\"formatter\":{\"id\":\"1044\",\"type\":\"BasicTickFormatter\"},\"ticker\":{\"id\":\"1014\",\"type\":\"BasicTicker\"}},\"id\":\"1013\",\"type\":\"LinearAxis\"},{\"attributes\":{\"label\":{\"value\":\"k_ed = 1.e+11\"},\"renderers\":[{\"id\":\"1102\",\"type\":\"GlyphRenderer\"}]},\"id\":\"1118\",\"type\":\"LegendItem\"},{\"attributes\":{\"source\":{\"id\":\"1065\",\"type\":\"ColumnDataSource\"}},\"id\":\"1069\",\"type\":\"CDSView\"},{\"attributes\":{},\"id\":\"1014\",\"type\":\"BasicTicker\"}],\"root_ids\":[\"1002\"]},\"title\":\"Bokeh Application\",\"version\":\"1.4.0\"}};\n",
       "  var render_items = [{\"docid\":\"45d22233-449f-432b-9278-9fc679b69a8f\",\"roots\":{\"1002\":\"849a0392-eb15-4c9f-aeea-e54c175478ff\"}}];\n",
       "  root.Bokeh.embed.embed_items_notebook(docs_json, render_items);\n",
       "\n",
       "  }\n",
       "  if (root.Bokeh !== undefined) {\n",
       "    embed_document(root);\n",
       "  } else {\n",
       "    var attempts = 0;\n",
       "    var timer = setInterval(function(root) {\n",
       "      if (root.Bokeh !== undefined) {\n",
       "        clearInterval(timer);\n",
       "        embed_document(root);\n",
       "      } else {\n",
       "        attempts++;\n",
       "        if (attempts > 100) {\n",
       "          clearInterval(timer);\n",
       "          console.log(\"Bokeh: ERROR: Unable to run BokehJS code because BokehJS library is missing\");\n",
       "        }\n",
       "      }\n",
       "    }, 10, root)\n",
       "  }\n",
       "})(window);"
      ],
      "application/vnd.bokehjs_exec.v0+json": ""
     },
     "metadata": {
      "application/vnd.bokehjs_exec.v0+json": {
       "id": "1002"
      }
     },
     "output_type": "display_data"
    }
   ],
   "source": [
    "plot = figure(title='Defect Density Relation, l = 300 nm', width=800, height=400)\n",
    "plot.add_tools(HoverTool())\n",
    "for i, sim in enumerate(defects_k_ed):\n",
    "    plot.line(sim.calc_dict['n_defects'], sim.QY[:, 0]*100,\n",
    "              legend_label=f'k_ed = {np.format_float_scientific(sim.kin_const[5])}',\n",
    "              color=color_list[i])\n",
    "plot.xaxis.axis_label = 'N (defects)'\n",
    "plot.yaxis.axis_label = 'QY (E11*)'\n",
    "show(plot)"
   ]
  },
  {
   "cell_type": "markdown",
   "metadata": {},
   "source": [
    "### E11"
   ]
  },
  {
   "cell_type": "code",
   "execution_count": 14,
   "metadata": {},
   "outputs": [
    {
     "data": {
      "text/html": [
       "\n",
       "\n",
       "\n",
       "\n",
       "\n",
       "\n",
       "  <div class=\"bk-root\" id=\"b366c2ff-7ebe-45ef-a2e9-ddbadce18966\" data-root-id=\"1267\"></div>\n"
      ]
     },
     "metadata": {},
     "output_type": "display_data"
    },
    {
     "data": {
      "application/javascript": [
       "(function(root) {\n",
       "  function embed_document(root) {\n",
       "    \n",
       "  var docs_json = {\"535f093b-5bc3-4805-a9a9-3bca9dd2507b\":{\"roots\":{\"references\":[{\"attributes\":{\"below\":[{\"id\":\"1278\",\"type\":\"LinearAxis\"}],\"center\":[{\"id\":\"1282\",\"type\":\"Grid\"},{\"id\":\"1287\",\"type\":\"Grid\"},{\"id\":\"1314\",\"type\":\"Legend\"}],\"left\":[{\"id\":\"1283\",\"type\":\"LinearAxis\"}],\"plot_height\":400,\"plot_width\":800,\"renderers\":[{\"id\":\"1306\",\"type\":\"GlyphRenderer\"},{\"id\":\"1319\",\"type\":\"GlyphRenderer\"},{\"id\":\"1333\",\"type\":\"GlyphRenderer\"},{\"id\":\"1349\",\"type\":\"GlyphRenderer\"},{\"id\":\"1367\",\"type\":\"GlyphRenderer\"},{\"id\":\"1387\",\"type\":\"GlyphRenderer\"}],\"title\":{\"id\":\"1268\",\"type\":\"Title\"},\"toolbar\":{\"id\":\"1294\",\"type\":\"Toolbar\"},\"x_range\":{\"id\":\"1270\",\"type\":\"DataRange1d\"},\"x_scale\":{\"id\":\"1274\",\"type\":\"LinearScale\"},\"y_range\":{\"id\":\"1272\",\"type\":\"DataRange1d\"},\"y_scale\":{\"id\":\"1276\",\"type\":\"LinearScale\"}},\"id\":\"1267\",\"subtype\":\"Figure\",\"type\":\"Plot\"},{\"attributes\":{},\"id\":\"1441\",\"type\":\"UnionRenderers\"},{\"attributes\":{\"label\":{\"value\":\"k_ed = 5.e+10\"},\"renderers\":[{\"id\":\"1349\",\"type\":\"GlyphRenderer\"}]},\"id\":\"1363\",\"type\":\"LegendItem\"},{\"attributes\":{\"callback\":null,\"data\":{\"x\":[0,20,40,60,80,100,120,140,160,180,200,220,240],\"y\":{\"__ndarray__\":\"ZmaGP0jhej8zM3M/PgqXP3E9ij8Uroc/16OQP4XrUT/NzIw/H4VrP5DCdT/hepQ/SOGaPw==\",\"dtype\":\"float32\",\"shape\":[13]}},\"selected\":{\"id\":\"1327\",\"type\":\"Selection\"},\"selection_policy\":{\"id\":\"1328\",\"type\":\"UnionRenderers\"}},\"id\":\"1303\",\"type\":\"ColumnDataSource\"},{\"attributes\":{\"line_color\":\"orange\",\"x\":{\"field\":\"x\"},\"y\":{\"field\":\"y\"}},\"id\":\"1317\",\"type\":\"Line\"},{\"attributes\":{},\"id\":\"1293\",\"type\":\"HelpTool\"},{\"attributes\":{\"axis_label\":\"N (defects)\",\"formatter\":{\"id\":\"1309\",\"type\":\"BasicTickFormatter\"},\"ticker\":{\"id\":\"1279\",\"type\":\"BasicTicker\"}},\"id\":\"1278\",\"type\":\"LinearAxis\"},{\"attributes\":{\"data_source\":{\"id\":\"1316\",\"type\":\"ColumnDataSource\"},\"glyph\":{\"id\":\"1317\",\"type\":\"Line\"},\"hover_glyph\":null,\"muted_glyph\":null,\"nonselection_glyph\":{\"id\":\"1318\",\"type\":\"Line\"},\"selection_glyph\":null,\"view\":{\"id\":\"1320\",\"type\":\"CDSView\"}},\"id\":\"1319\",\"type\":\"GlyphRenderer\"},{\"attributes\":{\"callback\":null,\"data\":{\"x\":[0,20,40,60,80,100,120,140,160,180,200,220,240],\"y\":{\"__ndarray__\":\"KVyPP3sULj4K1yM9kML1PArXoz2QwvU8CtcjPSlcjz0K1yM9CtejPJDCdT2QwvU8kML1PA==\",\"dtype\":\"float32\",\"shape\":[13]}},\"selected\":{\"id\":\"1403\",\"type\":\"Selection\"},\"selection_policy\":{\"id\":\"1404\",\"type\":\"UnionRenderers\"}},\"id\":\"1364\",\"type\":\"ColumnDataSource\"},{\"attributes\":{},\"id\":\"1292\",\"type\":\"ResetTool\"},{\"attributes\":{\"x\":{\"field\":\"x\"},\"y\":{\"field\":\"y\"}},\"id\":\"1365\",\"type\":\"Line\"},{\"attributes\":{},\"id\":\"1362\",\"type\":\"UnionRenderers\"},{\"attributes\":{},\"id\":\"1279\",\"type\":\"BasicTicker\"},{\"attributes\":{\"line_alpha\":0.1,\"line_color\":\"#1f77b4\",\"x\":{\"field\":\"x\"},\"y\":{\"field\":\"y\"}},\"id\":\"1318\",\"type\":\"Line\"},{\"attributes\":{\"line_color\":\"green\",\"x\":{\"field\":\"x\"},\"y\":{\"field\":\"y\"}},\"id\":\"1331\",\"type\":\"Line\"},{\"attributes\":{\"line_alpha\":0.1,\"line_color\":\"#1f77b4\",\"x\":{\"field\":\"x\"},\"y\":{\"field\":\"y\"}},\"id\":\"1366\",\"type\":\"Line\"},{\"attributes\":{},\"id\":\"1276\",\"type\":\"LinearScale\"},{\"attributes\":{},\"id\":\"1291\",\"type\":\"SaveTool\"},{\"attributes\":{\"source\":{\"id\":\"1303\",\"type\":\"ColumnDataSource\"}},\"id\":\"1307\",\"type\":\"CDSView\"},{\"attributes\":{\"source\":{\"id\":\"1316\",\"type\":\"ColumnDataSource\"}},\"id\":\"1320\",\"type\":\"CDSView\"},{\"attributes\":{\"data_source\":{\"id\":\"1346\",\"type\":\"ColumnDataSource\"},\"glyph\":{\"id\":\"1347\",\"type\":\"Line\"},\"hover_glyph\":null,\"muted_glyph\":null,\"nonselection_glyph\":{\"id\":\"1348\",\"type\":\"Line\"},\"selection_glyph\":null,\"view\":{\"id\":\"1350\",\"type\":\"CDSView\"}},\"id\":\"1349\",\"type\":\"GlyphRenderer\"},{\"attributes\":{\"data_source\":{\"id\":\"1364\",\"type\":\"ColumnDataSource\"},\"glyph\":{\"id\":\"1365\",\"type\":\"Line\"},\"hover_glyph\":null,\"muted_glyph\":null,\"nonselection_glyph\":{\"id\":\"1366\",\"type\":\"Line\"},\"selection_glyph\":null,\"view\":{\"id\":\"1368\",\"type\":\"CDSView\"}},\"id\":\"1367\",\"type\":\"GlyphRenderer\"},{\"attributes\":{\"overlay\":{\"id\":\"1313\",\"type\":\"BoxAnnotation\"}},\"id\":\"1290\",\"type\":\"BoxZoomTool\"},{\"attributes\":{\"callback\":null},\"id\":\"1270\",\"type\":\"DataRange1d\"},{\"attributes\":{\"callback\":null,\"data\":{\"x\":[0,20,40,60,80,100,120,140,160,180,200,220,240],\"y\":{\"__ndarray__\":\"61E4P3sUrj7NzMw+UriePqRwvT5cj8I+mpmZPs3MzD4Ursc+CtejPqRwvT6kcL0+CtejPg==\",\"dtype\":\"float32\",\"shape\":[13]}},\"selected\":{\"id\":\"1361\",\"type\":\"Selection\"},\"selection_policy\":{\"id\":\"1362\",\"type\":\"UnionRenderers\"}},\"id\":\"1330\",\"type\":\"ColumnDataSource\"},{\"attributes\":{\"source\":{\"id\":\"1364\",\"type\":\"ColumnDataSource\"}},\"id\":\"1368\",\"type\":\"CDSView\"},{\"attributes\":{},\"id\":\"1327\",\"type\":\"Selection\"},{\"attributes\":{\"source\":{\"id\":\"1346\",\"type\":\"ColumnDataSource\"}},\"id\":\"1350\",\"type\":\"CDSView\"},{\"attributes\":{\"callback\":null},\"id\":\"1272\",\"type\":\"DataRange1d\"},{\"attributes\":{},\"id\":\"1381\",\"type\":\"Selection\"},{\"attributes\":{},\"id\":\"1328\",\"type\":\"UnionRenderers\"},{\"attributes\":{},\"id\":\"1289\",\"type\":\"WheelZoomTool\"},{\"attributes\":{},\"id\":\"1274\",\"type\":\"LinearScale\"},{\"attributes\":{\"label\":{\"value\":\"k_ed = 1.e+10\"},\"renderers\":[{\"id\":\"1319\",\"type\":\"GlyphRenderer\"}]},\"id\":\"1329\",\"type\":\"LegendItem\"},{\"attributes\":{},\"id\":\"1382\",\"type\":\"UnionRenderers\"},{\"attributes\":{\"callback\":null,\"data\":{\"x\":[0,20,40,60,80,100,120,140,160,180,200,220,240],\"y\":{\"__ndarray__\":\"9ihcP4XrUT/helQ/16NwP3A9Sj+F61E/AACAP2Zmhj8fhWs/KVxPP3sUbj/2KFw/pHA9Pw==\",\"dtype\":\"float32\",\"shape\":[13]}},\"selected\":{\"id\":\"1343\",\"type\":\"Selection\"},\"selection_policy\":{\"id\":\"1344\",\"type\":\"UnionRenderers\"}},\"id\":\"1316\",\"type\":\"ColumnDataSource\"},{\"attributes\":{\"items\":[{\"id\":\"1315\",\"type\":\"LegendItem\"},{\"id\":\"1329\",\"type\":\"LegendItem\"},{\"id\":\"1345\",\"type\":\"LegendItem\"},{\"id\":\"1363\",\"type\":\"LegendItem\"},{\"id\":\"1383\",\"type\":\"LegendItem\"},{\"id\":\"1405\",\"type\":\"LegendItem\"}]},\"id\":\"1314\",\"type\":\"Legend\"},{\"attributes\":{\"text\":\"Defect Density Relation, l = 300 nm\"},\"id\":\"1268\",\"type\":\"Title\"},{\"attributes\":{\"label\":{\"value\":\"k_ed = 1.e+11\"},\"renderers\":[{\"id\":\"1367\",\"type\":\"GlyphRenderer\"}]},\"id\":\"1383\",\"type\":\"LegendItem\"},{\"attributes\":{\"callback\":null,\"data\":{\"x\":[0,20,40,60,80,100,120,140,160,180,200,220,240],\"y\":{\"__ndarray__\":\"exSuP+tRuD0AAAAAAAAAAArXIzwAAAAAAAAAAAAAAAAAAAAAAAAAAAAAAAAAAAAACtcjPA==\",\"dtype\":\"float32\",\"shape\":[13]}},\"selected\":{\"id\":\"1440\",\"type\":\"Selection\"},\"selection_policy\":{\"id\":\"1441\",\"type\":\"UnionRenderers\"}},\"id\":\"1384\",\"type\":\"ColumnDataSource\"},{\"attributes\":{},\"id\":\"1343\",\"type\":\"Selection\"},{\"attributes\":{\"data_source\":{\"id\":\"1330\",\"type\":\"ColumnDataSource\"},\"glyph\":{\"id\":\"1331\",\"type\":\"Line\"},\"hover_glyph\":null,\"muted_glyph\":null,\"nonselection_glyph\":{\"id\":\"1332\",\"type\":\"Line\"},\"selection_glyph\":null,\"view\":{\"id\":\"1334\",\"type\":\"CDSView\"}},\"id\":\"1333\",\"type\":\"GlyphRenderer\"},{\"attributes\":{\"line_alpha\":0.1,\"line_color\":\"#1f77b4\",\"x\":{\"field\":\"x\"},\"y\":{\"field\":\"y\"}},\"id\":\"1332\",\"type\":\"Line\"},{\"attributes\":{\"line_color\":\"magenta\",\"x\":{\"field\":\"x\"},\"y\":{\"field\":\"y\"}},\"id\":\"1385\",\"type\":\"Line\"},{\"attributes\":{\"callback\":null},\"id\":\"1301\",\"type\":\"HoverTool\"},{\"attributes\":{\"data_source\":{\"id\":\"1303\",\"type\":\"ColumnDataSource\"},\"glyph\":{\"id\":\"1304\",\"type\":\"Line\"},\"hover_glyph\":null,\"muted_glyph\":null,\"nonselection_glyph\":{\"id\":\"1305\",\"type\":\"Line\"},\"selection_glyph\":null,\"view\":{\"id\":\"1307\",\"type\":\"CDSView\"}},\"id\":\"1306\",\"type\":\"GlyphRenderer\"},{\"attributes\":{\"line_alpha\":0.1,\"line_color\":\"#1f77b4\",\"x\":{\"field\":\"x\"},\"y\":{\"field\":\"y\"}},\"id\":\"1386\",\"type\":\"Line\"},{\"attributes\":{},\"id\":\"1361\",\"type\":\"Selection\"},{\"attributes\":{\"source\":{\"id\":\"1330\",\"type\":\"ColumnDataSource\"}},\"id\":\"1334\",\"type\":\"CDSView\"},{\"attributes\":{\"data_source\":{\"id\":\"1384\",\"type\":\"ColumnDataSource\"},\"glyph\":{\"id\":\"1385\",\"type\":\"Line\"},\"hover_glyph\":null,\"muted_glyph\":null,\"nonselection_glyph\":{\"id\":\"1386\",\"type\":\"Line\"},\"selection_glyph\":null,\"view\":{\"id\":\"1388\",\"type\":\"CDSView\"}},\"id\":\"1387\",\"type\":\"GlyphRenderer\"},{\"attributes\":{\"active_drag\":\"auto\",\"active_inspect\":\"auto\",\"active_multi\":null,\"active_scroll\":\"auto\",\"active_tap\":\"auto\",\"tools\":[{\"id\":\"1288\",\"type\":\"PanTool\"},{\"id\":\"1289\",\"type\":\"WheelZoomTool\"},{\"id\":\"1290\",\"type\":\"BoxZoomTool\"},{\"id\":\"1291\",\"type\":\"SaveTool\"},{\"id\":\"1292\",\"type\":\"ResetTool\"},{\"id\":\"1293\",\"type\":\"HelpTool\"},{\"id\":\"1301\",\"type\":\"HoverTool\"}]},\"id\":\"1294\",\"type\":\"Toolbar\"},{\"attributes\":{},\"id\":\"1311\",\"type\":\"BasicTickFormatter\"},{\"attributes\":{},\"id\":\"1344\",\"type\":\"UnionRenderers\"},{\"attributes\":{\"source\":{\"id\":\"1384\",\"type\":\"ColumnDataSource\"}},\"id\":\"1388\",\"type\":\"CDSView\"},{\"attributes\":{},\"id\":\"1309\",\"type\":\"BasicTickFormatter\"},{\"attributes\":{\"label\":{\"value\":\"k_ed = 5.e+09\"},\"renderers\":[{\"id\":\"1306\",\"type\":\"GlyphRenderer\"}]},\"id\":\"1315\",\"type\":\"LegendItem\"},{\"attributes\":{\"label\":{\"value\":\"k_ed = 2.5e+10\"},\"renderers\":[{\"id\":\"1333\",\"type\":\"GlyphRenderer\"}]},\"id\":\"1345\",\"type\":\"LegendItem\"},{\"attributes\":{\"line_alpha\":0.1,\"line_color\":\"#1f77b4\",\"x\":{\"field\":\"x\"},\"y\":{\"field\":\"y\"}},\"id\":\"1305\",\"type\":\"Line\"},{\"attributes\":{},\"id\":\"1403\",\"type\":\"Selection\"},{\"attributes\":{\"callback\":null,\"data\":{\"x\":[0,20,40,60,80,100,120,140,160,180,200,220,240],\"y\":{\"__ndarray__\":\"16OQP83MTD6QwnU9KVwPPpDC9T3rUbg9rkfhPQrXoz0pXA8+uB4FPgrXIz4K16M9mpkZPg==\",\"dtype\":\"float32\",\"shape\":[13]}},\"selected\":{\"id\":\"1381\",\"type\":\"Selection\"},\"selection_policy\":{\"id\":\"1382\",\"type\":\"UnionRenderers\"}},\"id\":\"1346\",\"type\":\"ColumnDataSource\"},{\"attributes\":{\"ticker\":{\"id\":\"1279\",\"type\":\"BasicTicker\"}},\"id\":\"1282\",\"type\":\"Grid\"},{\"attributes\":{\"line_color\":\"blue\",\"x\":{\"field\":\"x\"},\"y\":{\"field\":\"y\"}},\"id\":\"1304\",\"type\":\"Line\"},{\"attributes\":{},\"id\":\"1404\",\"type\":\"UnionRenderers\"},{\"attributes\":{\"line_color\":\"red\",\"x\":{\"field\":\"x\"},\"y\":{\"field\":\"y\"}},\"id\":\"1347\",\"type\":\"Line\"},{\"attributes\":{\"label\":{\"value\":\"k_ed = 5.e+11\"},\"renderers\":[{\"id\":\"1387\",\"type\":\"GlyphRenderer\"}]},\"id\":\"1405\",\"type\":\"LegendItem\"},{\"attributes\":{\"bottom_units\":\"screen\",\"fill_alpha\":{\"value\":0.5},\"fill_color\":{\"value\":\"lightgrey\"},\"left_units\":\"screen\",\"level\":\"overlay\",\"line_alpha\":{\"value\":1.0},\"line_color\":{\"value\":\"black\"},\"line_dash\":[4,4],\"line_width\":{\"value\":2},\"render_mode\":\"css\",\"right_units\":\"screen\",\"top_units\":\"screen\"},\"id\":\"1313\",\"type\":\"BoxAnnotation\"},{\"attributes\":{\"axis_label\":\"QY (E11)\",\"formatter\":{\"id\":\"1311\",\"type\":\"BasicTickFormatter\"},\"ticker\":{\"id\":\"1284\",\"type\":\"BasicTicker\"}},\"id\":\"1283\",\"type\":\"LinearAxis\"},{\"attributes\":{},\"id\":\"1288\",\"type\":\"PanTool\"},{\"attributes\":{\"line_alpha\":0.1,\"line_color\":\"#1f77b4\",\"x\":{\"field\":\"x\"},\"y\":{\"field\":\"y\"}},\"id\":\"1348\",\"type\":\"Line\"},{\"attributes\":{},\"id\":\"1440\",\"type\":\"Selection\"},{\"attributes\":{},\"id\":\"1284\",\"type\":\"BasicTicker\"},{\"attributes\":{\"dimension\":1,\"ticker\":{\"id\":\"1284\",\"type\":\"BasicTicker\"}},\"id\":\"1287\",\"type\":\"Grid\"}],\"root_ids\":[\"1267\"]},\"title\":\"Bokeh Application\",\"version\":\"1.4.0\"}};\n",
       "  var render_items = [{\"docid\":\"535f093b-5bc3-4805-a9a9-3bca9dd2507b\",\"roots\":{\"1267\":\"b366c2ff-7ebe-45ef-a2e9-ddbadce18966\"}}];\n",
       "  root.Bokeh.embed.embed_items_notebook(docs_json, render_items);\n",
       "\n",
       "  }\n",
       "  if (root.Bokeh !== undefined) {\n",
       "    embed_document(root);\n",
       "  } else {\n",
       "    var attempts = 0;\n",
       "    var timer = setInterval(function(root) {\n",
       "      if (root.Bokeh !== undefined) {\n",
       "        clearInterval(timer);\n",
       "        embed_document(root);\n",
       "      } else {\n",
       "        attempts++;\n",
       "        if (attempts > 100) {\n",
       "          clearInterval(timer);\n",
       "          console.log(\"Bokeh: ERROR: Unable to run BokehJS code because BokehJS library is missing\");\n",
       "        }\n",
       "      }\n",
       "    }, 10, root)\n",
       "  }\n",
       "})(window);"
      ],
      "application/vnd.bokehjs_exec.v0+json": ""
     },
     "metadata": {
      "application/vnd.bokehjs_exec.v0+json": {
       "id": "1267"
      }
     },
     "output_type": "display_data"
    }
   ],
   "source": [
    "plot = figure(title='Defect Density Relation, l = 300 nm', width=800, height=400)\n",
    "plot.add_tools(HoverTool())\n",
    "for i, sim in enumerate(defects_k_ed):\n",
    "    plot.line(sim.calc_dict['n_defects'], sim.QY[:, 1]*100,\n",
    "              legend_label=f'k_ed = {np.format_float_scientific(sim.kin_const[5])}', color=color_list[i])\n",
    "plot.xaxis.axis_label = 'N (defects)'\n",
    "plot.yaxis.axis_label = 'QY (E11)'\n",
    "show(plot)"
   ]
  },
  {
   "cell_type": "markdown",
   "metadata": {},
   "source": [
    "## Length dependence"
   ]
  },
  {
   "cell_type": "markdown",
   "metadata": {},
   "source": [
    "### E11*"
   ]
  },
  {
   "cell_type": "code",
   "execution_count": 15,
   "metadata": {},
   "outputs": [],
   "source": [
    "length_k_ed = sorted(list(compress(CNT_sims, mask_high_er))[1::2], key=k_ed_sorting)"
   ]
  },
  {
   "cell_type": "code",
   "execution_count": 16,
   "metadata": {},
   "outputs": [
    {
     "data": {
      "text/html": [
       "\n",
       "\n",
       "\n",
       "\n",
       "\n",
       "\n",
       "  <div class=\"bk-root\" id=\"a0a32b67-d077-4137-bd80-0111b9931406\" data-root-id=\"1550\"></div>\n"
      ]
     },
     "metadata": {},
     "output_type": "display_data"
    },
    {
     "data": {
      "application/javascript": [
       "(function(root) {\n",
       "  function embed_document(root) {\n",
       "    \n",
       "  var docs_json = {\"f7b8d1ac-1dfa-47dd-a838-c9a55648ec53\":{\"roots\":{\"references\":[{\"attributes\":{\"below\":[{\"id\":\"1561\",\"type\":\"LinearAxis\"}],\"center\":[{\"id\":\"1565\",\"type\":\"Grid\"},{\"id\":\"1570\",\"type\":\"Grid\"},{\"id\":\"1597\",\"type\":\"Legend\"}],\"left\":[{\"id\":\"1566\",\"type\":\"LinearAxis\"}],\"plot_height\":400,\"plot_width\":800,\"renderers\":[{\"id\":\"1589\",\"type\":\"GlyphRenderer\"},{\"id\":\"1602\",\"type\":\"GlyphRenderer\"},{\"id\":\"1616\",\"type\":\"GlyphRenderer\"},{\"id\":\"1632\",\"type\":\"GlyphRenderer\"},{\"id\":\"1650\",\"type\":\"GlyphRenderer\"},{\"id\":\"1670\",\"type\":\"GlyphRenderer\"}],\"title\":{\"id\":\"1551\",\"type\":\"Title\"},\"toolbar\":{\"id\":\"1577\",\"type\":\"Toolbar\"},\"x_range\":{\"id\":\"1553\",\"type\":\"DataRange1d\"},\"x_scale\":{\"id\":\"1557\",\"type\":\"LinearScale\"},\"y_range\":{\"id\":\"1555\",\"type\":\"DataRange1d\"},\"y_scale\":{\"id\":\"1559\",\"type\":\"LinearScale\"}},\"id\":\"1550\",\"subtype\":\"Figure\",\"type\":\"Plot\"},{\"attributes\":{},\"id\":\"1741\",\"type\":\"Selection\"},{\"attributes\":{\"dimension\":1,\"ticker\":{\"id\":\"1567\",\"type\":\"BasicTicker\"}},\"id\":\"1570\",\"type\":\"Grid\"},{\"attributes\":{\"callback\":null,\"data\":{\"x\":[30,60,90,120,150,200,300,500,800,1200],\"y\":{\"__ndarray__\":\"AAAAAAAAAAAK16M8kML1PJDC9TyQwvU8CtcjPa5H4T2uR2E+61G4Pg==\",\"dtype\":\"float32\",\"shape\":[10]}},\"selected\":{\"id\":\"1626\",\"type\":\"Selection\"},\"selection_policy\":{\"id\":\"1627\",\"type\":\"UnionRenderers\"}},\"id\":\"1599\",\"type\":\"ColumnDataSource\"},{\"attributes\":{},\"id\":\"1644\",\"type\":\"Selection\"},{\"attributes\":{},\"id\":\"1686\",\"type\":\"Selection\"},{\"attributes\":{\"text\":\"Length Density Relation\"},\"id\":\"1551\",\"type\":\"Title\"},{\"attributes\":{\"line_alpha\":0.1,\"line_color\":\"#1f77b4\",\"x\":{\"field\":\"x\"},\"y\":{\"field\":\"y\"}},\"id\":\"1631\",\"type\":\"Line\"},{\"attributes\":{\"line_color\":\"orange\",\"x\":{\"field\":\"x\"},\"y\":{\"field\":\"y\"}},\"id\":\"1600\",\"type\":\"Line\"},{\"attributes\":{\"bottom_units\":\"screen\",\"fill_alpha\":{\"value\":0.5},\"fill_color\":{\"value\":\"lightgrey\"},\"left_units\":\"screen\",\"level\":\"overlay\",\"line_alpha\":{\"value\":1.0},\"line_color\":{\"value\":\"black\"},\"line_dash\":[4,4],\"line_width\":{\"value\":2},\"render_mode\":\"css\",\"right_units\":\"screen\",\"top_units\":\"screen\"},\"id\":\"1596\",\"type\":\"BoxAnnotation\"},{\"attributes\":{\"callback\":null},\"id\":\"1553\",\"type\":\"DataRange1d\"},{\"attributes\":{\"callback\":null,\"data\":{\"x\":[30,60,90,120,150,200,300,500,800,1200],\"y\":{\"__ndarray__\":\"AAAAAArXozwpXA8+4XqUPgAAAD8pXE8/zcyMP/Yo3D9I4VpA9iicQA==\",\"dtype\":\"float32\",\"shape\":[10]}},\"selected\":{\"id\":\"1741\",\"type\":\"Selection\"},\"selection_policy\":{\"id\":\"1742\",\"type\":\"UnionRenderers\"}},\"id\":\"1667\",\"type\":\"ColumnDataSource\"},{\"attributes\":{\"callback\":null},\"id\":\"1555\",\"type\":\"DataRange1d\"},{\"attributes\":{\"line_color\":\"blue\",\"x\":{\"field\":\"x\"},\"y\":{\"field\":\"y\"}},\"id\":\"1587\",\"type\":\"Line\"},{\"attributes\":{\"line_alpha\":0.1,\"line_color\":\"#1f77b4\",\"x\":{\"field\":\"x\"},\"y\":{\"field\":\"y\"}},\"id\":\"1601\",\"type\":\"Line\"},{\"attributes\":{\"line_alpha\":0.1,\"line_color\":\"#1f77b4\",\"x\":{\"field\":\"x\"},\"y\":{\"field\":\"y\"}},\"id\":\"1669\",\"type\":\"Line\"},{\"attributes\":{\"axis_label\":\"l / nm\",\"formatter\":{\"id\":\"1592\",\"type\":\"BasicTickFormatter\"},\"ticker\":{\"id\":\"1562\",\"type\":\"BasicTicker\"}},\"id\":\"1561\",\"type\":\"LinearAxis\"},{\"attributes\":{\"data_source\":{\"id\":\"1629\",\"type\":\"ColumnDataSource\"},\"glyph\":{\"id\":\"1630\",\"type\":\"Line\"},\"hover_glyph\":null,\"muted_glyph\":null,\"nonselection_glyph\":{\"id\":\"1631\",\"type\":\"Line\"},\"selection_glyph\":null,\"view\":{\"id\":\"1633\",\"type\":\"CDSView\"}},\"id\":\"1632\",\"type\":\"GlyphRenderer\"},{\"attributes\":{},\"id\":\"1687\",\"type\":\"UnionRenderers\"},{\"attributes\":{\"callback\":null,\"data\":{\"x\":[30,60,90,120,150,200,300,500,800,1200],\"y\":{\"__ndarray__\":\"AAAAAAAAAAAK1yM8AAAAAAAAAAAK1yM8CtcjPArXIzwK1yM8zcxMPQ==\",\"dtype\":\"float32\",\"shape\":[10]}},\"selected\":{\"id\":\"1610\",\"type\":\"Selection\"},\"selection_policy\":{\"id\":\"1611\",\"type\":\"UnionRenderers\"}},\"id\":\"1586\",\"type\":\"ColumnDataSource\"},{\"attributes\":{\"data_source\":{\"id\":\"1599\",\"type\":\"ColumnDataSource\"},\"glyph\":{\"id\":\"1600\",\"type\":\"Line\"},\"hover_glyph\":null,\"muted_glyph\":null,\"nonselection_glyph\":{\"id\":\"1601\",\"type\":\"Line\"},\"selection_glyph\":null,\"view\":{\"id\":\"1603\",\"type\":\"CDSView\"}},\"id\":\"1602\",\"type\":\"GlyphRenderer\"},{\"attributes\":{\"label\":{\"value\":\"k_ed = 5.e+11\"},\"renderers\":[{\"id\":\"1670\",\"type\":\"GlyphRenderer\"}]},\"id\":\"1688\",\"type\":\"LegendItem\"},{\"attributes\":{\"source\":{\"id\":\"1629\",\"type\":\"ColumnDataSource\"}},\"id\":\"1633\",\"type\":\"CDSView\"},{\"attributes\":{\"active_drag\":\"auto\",\"active_inspect\":\"auto\",\"active_multi\":null,\"active_scroll\":\"auto\",\"active_tap\":\"auto\",\"tools\":[{\"id\":\"1571\",\"type\":\"PanTool\"},{\"id\":\"1572\",\"type\":\"WheelZoomTool\"},{\"id\":\"1573\",\"type\":\"BoxZoomTool\"},{\"id\":\"1574\",\"type\":\"SaveTool\"},{\"id\":\"1575\",\"type\":\"ResetTool\"},{\"id\":\"1576\",\"type\":\"HelpTool\"},{\"id\":\"1584\",\"type\":\"HoverTool\"}]},\"id\":\"1577\",\"type\":\"Toolbar\"},{\"attributes\":{\"source\":{\"id\":\"1599\",\"type\":\"ColumnDataSource\"}},\"id\":\"1603\",\"type\":\"CDSView\"},{\"attributes\":{},\"id\":\"1742\",\"type\":\"UnionRenderers\"},{\"attributes\":{},\"id\":\"1571\",\"type\":\"PanTool\"},{\"attributes\":{},\"id\":\"1645\",\"type\":\"UnionRenderers\"},{\"attributes\":{},\"id\":\"1557\",\"type\":\"LinearScale\"},{\"attributes\":{},\"id\":\"1610\",\"type\":\"Selection\"},{\"attributes\":{\"label\":{\"value\":\"k_ed = 5.e+10\"},\"renderers\":[{\"id\":\"1632\",\"type\":\"GlyphRenderer\"}]},\"id\":\"1646\",\"type\":\"LegendItem\"},{\"attributes\":{},\"id\":\"1572\",\"type\":\"WheelZoomTool\"},{\"attributes\":{},\"id\":\"1559\",\"type\":\"LinearScale\"},{\"attributes\":{},\"id\":\"1611\",\"type\":\"UnionRenderers\"},{\"attributes\":{},\"id\":\"1562\",\"type\":\"BasicTicker\"},{\"attributes\":{\"overlay\":{\"id\":\"1596\",\"type\":\"BoxAnnotation\"}},\"id\":\"1573\",\"type\":\"BoxZoomTool\"},{\"attributes\":{\"callback\":null,\"data\":{\"x\":[30,60,90,120,150,200,300,500,800,1200],\"y\":{\"__ndarray__\":\"AAAAAM3MTD3NzEw+XI9CPj0K1z7Xo/A+9ihcP0jh2j8+CidAheuJQA==\",\"dtype\":\"float32\",\"shape\":[10]}},\"selected\":{\"id\":\"1686\",\"type\":\"Selection\"},\"selection_policy\":{\"id\":\"1687\",\"type\":\"UnionRenderers\"}},\"id\":\"1647\",\"type\":\"ColumnDataSource\"},{\"attributes\":{\"label\":{\"value\":\"k_ed = 1.e+10\"},\"renderers\":[{\"id\":\"1602\",\"type\":\"GlyphRenderer\"}]},\"id\":\"1612\",\"type\":\"LegendItem\"},{\"attributes\":{\"source\":{\"id\":\"1667\",\"type\":\"ColumnDataSource\"}},\"id\":\"1671\",\"type\":\"CDSView\"},{\"attributes\":{\"ticker\":{\"id\":\"1562\",\"type\":\"BasicTicker\"}},\"id\":\"1565\",\"type\":\"Grid\"},{\"attributes\":{},\"id\":\"1574\",\"type\":\"SaveTool\"},{\"attributes\":{\"x\":{\"field\":\"x\"},\"y\":{\"field\":\"y\"}},\"id\":\"1648\",\"type\":\"Line\"},{\"attributes\":{\"axis_label\":\"QY (E11*)\",\"formatter\":{\"id\":\"1594\",\"type\":\"BasicTickFormatter\"},\"ticker\":{\"id\":\"1567\",\"type\":\"BasicTicker\"}},\"id\":\"1566\",\"type\":\"LinearAxis\"},{\"attributes\":{\"callback\":null,\"data\":{\"x\":[30,60,90,120,150,200,300,500,800,1200],\"y\":{\"__ndarray__\":\"AAAAAArXIzwpXI89CtcjPsL1qD4K16M+H4XrPtejMD9wPco/9ij8Pw==\",\"dtype\":\"float32\",\"shape\":[10]}},\"selected\":{\"id\":\"1644\",\"type\":\"Selection\"},\"selection_policy\":{\"id\":\"1645\",\"type\":\"UnionRenderers\"}},\"id\":\"1613\",\"type\":\"ColumnDataSource\"},{\"attributes\":{},\"id\":\"1567\",\"type\":\"BasicTicker\"},{\"attributes\":{},\"id\":\"1575\",\"type\":\"ResetTool\"},{\"attributes\":{\"line_alpha\":0.1,\"line_color\":\"#1f77b4\",\"x\":{\"field\":\"x\"},\"y\":{\"field\":\"y\"}},\"id\":\"1649\",\"type\":\"Line\"},{\"attributes\":{\"callback\":null},\"id\":\"1584\",\"type\":\"HoverTool\"},{\"attributes\":{\"line_color\":\"green\",\"x\":{\"field\":\"x\"},\"y\":{\"field\":\"y\"}},\"id\":\"1614\",\"type\":\"Line\"},{\"attributes\":{},\"id\":\"1576\",\"type\":\"HelpTool\"},{\"attributes\":{\"data_source\":{\"id\":\"1647\",\"type\":\"ColumnDataSource\"},\"glyph\":{\"id\":\"1648\",\"type\":\"Line\"},\"hover_glyph\":null,\"muted_glyph\":null,\"nonselection_glyph\":{\"id\":\"1649\",\"type\":\"Line\"},\"selection_glyph\":null,\"view\":{\"id\":\"1651\",\"type\":\"CDSView\"}},\"id\":\"1650\",\"type\":\"GlyphRenderer\"},{\"attributes\":{\"line_alpha\":0.1,\"line_color\":\"#1f77b4\",\"x\":{\"field\":\"x\"},\"y\":{\"field\":\"y\"}},\"id\":\"1615\",\"type\":\"Line\"},{\"attributes\":{\"source\":{\"id\":\"1647\",\"type\":\"ColumnDataSource\"}},\"id\":\"1651\",\"type\":\"CDSView\"},{\"attributes\":{\"data_source\":{\"id\":\"1613\",\"type\":\"ColumnDataSource\"},\"glyph\":{\"id\":\"1614\",\"type\":\"Line\"},\"hover_glyph\":null,\"muted_glyph\":null,\"nonselection_glyph\":{\"id\":\"1615\",\"type\":\"Line\"},\"selection_glyph\":null,\"view\":{\"id\":\"1617\",\"type\":\"CDSView\"}},\"id\":\"1616\",\"type\":\"GlyphRenderer\"},{\"attributes\":{},\"id\":\"1664\",\"type\":\"Selection\"},{\"attributes\":{\"line_alpha\":0.1,\"line_color\":\"#1f77b4\",\"x\":{\"field\":\"x\"},\"y\":{\"field\":\"y\"}},\"id\":\"1588\",\"type\":\"Line\"},{\"attributes\":{\"source\":{\"id\":\"1613\",\"type\":\"ColumnDataSource\"}},\"id\":\"1617\",\"type\":\"CDSView\"},{\"attributes\":{\"data_source\":{\"id\":\"1586\",\"type\":\"ColumnDataSource\"},\"glyph\":{\"id\":\"1587\",\"type\":\"Line\"},\"hover_glyph\":null,\"muted_glyph\":null,\"nonselection_glyph\":{\"id\":\"1588\",\"type\":\"Line\"},\"selection_glyph\":null,\"view\":{\"id\":\"1590\",\"type\":\"CDSView\"}},\"id\":\"1589\",\"type\":\"GlyphRenderer\"},{\"attributes\":{},\"id\":\"1665\",\"type\":\"UnionRenderers\"},{\"attributes\":{},\"id\":\"1626\",\"type\":\"Selection\"},{\"attributes\":{\"label\":{\"value\":\"k_ed = 1.e+11\"},\"renderers\":[{\"id\":\"1650\",\"type\":\"GlyphRenderer\"}]},\"id\":\"1666\",\"type\":\"LegendItem\"},{\"attributes\":{\"source\":{\"id\":\"1586\",\"type\":\"ColumnDataSource\"}},\"id\":\"1590\",\"type\":\"CDSView\"},{\"attributes\":{},\"id\":\"1627\",\"type\":\"UnionRenderers\"},{\"attributes\":{},\"id\":\"1592\",\"type\":\"BasicTickFormatter\"},{\"attributes\":{\"data_source\":{\"id\":\"1667\",\"type\":\"ColumnDataSource\"},\"glyph\":{\"id\":\"1668\",\"type\":\"Line\"},\"hover_glyph\":null,\"muted_glyph\":null,\"nonselection_glyph\":{\"id\":\"1669\",\"type\":\"Line\"},\"selection_glyph\":null,\"view\":{\"id\":\"1671\",\"type\":\"CDSView\"}},\"id\":\"1670\",\"type\":\"GlyphRenderer\"},{\"attributes\":{\"label\":{\"value\":\"k_ed = 2.5e+10\"},\"renderers\":[{\"id\":\"1616\",\"type\":\"GlyphRenderer\"}]},\"id\":\"1628\",\"type\":\"LegendItem\"},{\"attributes\":{},\"id\":\"1594\",\"type\":\"BasicTickFormatter\"},{\"attributes\":{\"line_color\":\"magenta\",\"x\":{\"field\":\"x\"},\"y\":{\"field\":\"y\"}},\"id\":\"1668\",\"type\":\"Line\"},{\"attributes\":{\"callback\":null,\"data\":{\"x\":[30,60,90,120,150,200,300,500,800,1200],\"y\":{\"__ndarray__\":\"AAAAAClcjz24HgU+61E4Pj0KVz40M7M+wvUoPzMzkz8+ChdA4npkQA==\",\"dtype\":\"float32\",\"shape\":[10]}},\"selected\":{\"id\":\"1664\",\"type\":\"Selection\"},\"selection_policy\":{\"id\":\"1665\",\"type\":\"UnionRenderers\"}},\"id\":\"1629\",\"type\":\"ColumnDataSource\"},{\"attributes\":{\"items\":[{\"id\":\"1598\",\"type\":\"LegendItem\"},{\"id\":\"1612\",\"type\":\"LegendItem\"},{\"id\":\"1628\",\"type\":\"LegendItem\"},{\"id\":\"1646\",\"type\":\"LegendItem\"},{\"id\":\"1666\",\"type\":\"LegendItem\"},{\"id\":\"1688\",\"type\":\"LegendItem\"}]},\"id\":\"1597\",\"type\":\"Legend\"},{\"attributes\":{\"line_color\":\"red\",\"x\":{\"field\":\"x\"},\"y\":{\"field\":\"y\"}},\"id\":\"1630\",\"type\":\"Line\"},{\"attributes\":{\"label\":{\"value\":\"k_ed = 5.e+09\"},\"renderers\":[{\"id\":\"1589\",\"type\":\"GlyphRenderer\"}]},\"id\":\"1598\",\"type\":\"LegendItem\"}],\"root_ids\":[\"1550\"]},\"title\":\"Bokeh Application\",\"version\":\"1.4.0\"}};\n",
       "  var render_items = [{\"docid\":\"f7b8d1ac-1dfa-47dd-a838-c9a55648ec53\",\"roots\":{\"1550\":\"a0a32b67-d077-4137-bd80-0111b9931406\"}}];\n",
       "  root.Bokeh.embed.embed_items_notebook(docs_json, render_items);\n",
       "\n",
       "  }\n",
       "  if (root.Bokeh !== undefined) {\n",
       "    embed_document(root);\n",
       "  } else {\n",
       "    var attempts = 0;\n",
       "    var timer = setInterval(function(root) {\n",
       "      if (root.Bokeh !== undefined) {\n",
       "        clearInterval(timer);\n",
       "        embed_document(root);\n",
       "      } else {\n",
       "        attempts++;\n",
       "        if (attempts > 100) {\n",
       "          clearInterval(timer);\n",
       "          console.log(\"Bokeh: ERROR: Unable to run BokehJS code because BokehJS library is missing\");\n",
       "        }\n",
       "      }\n",
       "    }, 10, root)\n",
       "  }\n",
       "})(window);"
      ],
      "application/vnd.bokehjs_exec.v0+json": ""
     },
     "metadata": {
      "application/vnd.bokehjs_exec.v0+json": {
       "id": "1550"
      }
     },
     "output_type": "display_data"
    }
   ],
   "source": [
    "plot = figure(title='Length Density Relation', width=800, height=400)\n",
    "plot.add_tools(HoverTool())\n",
    "for i, sim in enumerate(length_k_ed):\n",
    "    plot.line(sim.calc_dict['CNT_length'], sim.QY[:, 0]*100,\n",
    "              legend_label=f'k_ed = {np.format_float_scientific(sim.kin_const[5])}',\n",
    "              color=color_list[i])\n",
    "plot.xaxis.axis_label = 'l / nm'\n",
    "plot.yaxis.axis_label = 'QY (E11*)'\n",
    "show(plot)"
   ]
  },
  {
   "cell_type": "markdown",
   "metadata": {},
   "source": [
    "### E11"
   ]
  },
  {
   "cell_type": "code",
   "execution_count": 17,
   "metadata": {},
   "outputs": [
    {
     "data": {
      "text/html": [
       "\n",
       "\n",
       "\n",
       "\n",
       "\n",
       "\n",
       "  <div class=\"bk-root\" id=\"0b6ecef3-e308-484f-aa9a-62dcfe32a4c2\" data-root-id=\"1851\"></div>\n"
      ]
     },
     "metadata": {},
     "output_type": "display_data"
    },
    {
     "data": {
      "application/javascript": [
       "(function(root) {\n",
       "  function embed_document(root) {\n",
       "    \n",
       "  var docs_json = {\"ab617855-cce8-434c-b9bd-d3fb3d56a95b\":{\"roots\":{\"references\":[{\"attributes\":{\"below\":[{\"id\":\"1862\",\"type\":\"LinearAxis\"}],\"center\":[{\"id\":\"1866\",\"type\":\"Grid\"},{\"id\":\"1871\",\"type\":\"Grid\"},{\"id\":\"1898\",\"type\":\"Legend\"}],\"left\":[{\"id\":\"1867\",\"type\":\"LinearAxis\"}],\"plot_height\":400,\"plot_width\":800,\"renderers\":[{\"id\":\"1890\",\"type\":\"GlyphRenderer\"},{\"id\":\"1903\",\"type\":\"GlyphRenderer\"},{\"id\":\"1917\",\"type\":\"GlyphRenderer\"},{\"id\":\"1933\",\"type\":\"GlyphRenderer\"},{\"id\":\"1951\",\"type\":\"GlyphRenderer\"},{\"id\":\"1971\",\"type\":\"GlyphRenderer\"}],\"title\":{\"id\":\"1852\",\"type\":\"Title\"},\"toolbar\":{\"id\":\"1878\",\"type\":\"Toolbar\"},\"x_range\":{\"id\":\"1854\",\"type\":\"DataRange1d\"},\"x_scale\":{\"id\":\"1858\",\"type\":\"LinearScale\"},\"y_range\":{\"id\":\"1856\",\"type\":\"DataRange1d\"},\"y_scale\":{\"id\":\"1860\",\"type\":\"LinearScale\"}},\"id\":\"1851\",\"subtype\":\"Figure\",\"type\":\"Plot\"},{\"attributes\":{},\"id\":\"1895\",\"type\":\"BasicTickFormatter\"},{\"attributes\":{\"line_alpha\":0.1,\"line_color\":\"#1f77b4\",\"x\":{\"field\":\"x\"},\"y\":{\"field\":\"y\"}},\"id\":\"1970\",\"type\":\"Line\"},{\"attributes\":{\"label\":{\"value\":\"k_ed = 2.5e+10\"},\"renderers\":[{\"id\":\"1917\",\"type\":\"GlyphRenderer\"}]},\"id\":\"1929\",\"type\":\"LegendItem\"},{\"attributes\":{},\"id\":\"1945\",\"type\":\"Selection\"},{\"attributes\":{\"items\":[{\"id\":\"1899\",\"type\":\"LegendItem\"},{\"id\":\"1913\",\"type\":\"LegendItem\"},{\"id\":\"1929\",\"type\":\"LegendItem\"},{\"id\":\"1947\",\"type\":\"LegendItem\"},{\"id\":\"1967\",\"type\":\"LegendItem\"},{\"id\":\"1989\",\"type\":\"LegendItem\"}]},\"id\":\"1898\",\"type\":\"Legend\"},{\"attributes\":{\"data_source\":{\"id\":\"1968\",\"type\":\"ColumnDataSource\"},\"glyph\":{\"id\":\"1969\",\"type\":\"Line\"},\"hover_glyph\":null,\"muted_glyph\":null,\"nonselection_glyph\":{\"id\":\"1970\",\"type\":\"Line\"},\"selection_glyph\":null,\"view\":{\"id\":\"1972\",\"type\":\"CDSView\"}},\"id\":\"1971\",\"type\":\"GlyphRenderer\"},{\"attributes\":{\"callback\":null,\"data\":{\"x\":[30,60,90,120,150,200,300,500,800,1200],\"y\":{\"__ndarray__\":\"AAAAAArXIz0K16M8zcxMPc3MTD24HgU+H4VrPmZm5j40MzM/w/VoPw==\",\"dtype\":\"float32\",\"shape\":[10]}},\"selected\":{\"id\":\"1965\",\"type\":\"Selection\"},\"selection_policy\":{\"id\":\"1966\",\"type\":\"UnionRenderers\"}},\"id\":\"1930\",\"type\":\"ColumnDataSource\"},{\"attributes\":{\"axis_label\":\"QY (E11)\",\"formatter\":{\"id\":\"1895\",\"type\":\"BasicTickFormatter\"},\"ticker\":{\"id\":\"1868\",\"type\":\"BasicTicker\"}},\"id\":\"1867\",\"type\":\"LinearAxis\"},{\"attributes\":{\"label\":{\"value\":\"k_ed = 5.e+09\"},\"renderers\":[{\"id\":\"1890\",\"type\":\"GlyphRenderer\"}]},\"id\":\"1899\",\"type\":\"LegendItem\"},{\"attributes\":{\"source\":{\"id\":\"1968\",\"type\":\"ColumnDataSource\"}},\"id\":\"1972\",\"type\":\"CDSView\"},{\"attributes\":{\"line_color\":\"red\",\"x\":{\"field\":\"x\"},\"y\":{\"field\":\"y\"}},\"id\":\"1931\",\"type\":\"Line\"},{\"attributes\":{},\"id\":\"1868\",\"type\":\"BasicTicker\"},{\"attributes\":{\"callback\":null,\"data\":{\"x\":[30,60,90,120,150,200,300,500,800,1200],\"y\":{\"__ndarray__\":\"AAAAAJDC9T2amRk+kMJ1PgrXoz6uRyE/CtdjPylcrz8L1zNAmZlpQA==\",\"dtype\":\"float32\",\"shape\":[10]}},\"selected\":{\"id\":\"1927\",\"type\":\"Selection\"},\"selection_policy\":{\"id\":\"1928\",\"type\":\"UnionRenderers\"}},\"id\":\"1900\",\"type\":\"ColumnDataSource\"},{\"attributes\":{},\"id\":\"1987\",\"type\":\"Selection\"},{\"attributes\":{\"line_alpha\":0.1,\"line_color\":\"#1f77b4\",\"x\":{\"field\":\"x\"},\"y\":{\"field\":\"y\"}},\"id\":\"1932\",\"type\":\"Line\"},{\"attributes\":{\"dimension\":1,\"ticker\":{\"id\":\"1868\",\"type\":\"BasicTicker\"}},\"id\":\"1871\",\"type\":\"Grid\"},{\"attributes\":{\"line_color\":\"orange\",\"x\":{\"field\":\"x\"},\"y\":{\"field\":\"y\"}},\"id\":\"1901\",\"type\":\"Line\"},{\"attributes\":{},\"id\":\"1988\",\"type\":\"UnionRenderers\"},{\"attributes\":{\"data_source\":{\"id\":\"1930\",\"type\":\"ColumnDataSource\"},\"glyph\":{\"id\":\"1931\",\"type\":\"Line\"},\"hover_glyph\":null,\"muted_glyph\":null,\"nonselection_glyph\":{\"id\":\"1932\",\"type\":\"Line\"},\"selection_glyph\":null,\"view\":{\"id\":\"1934\",\"type\":\"CDSView\"}},\"id\":\"1933\",\"type\":\"GlyphRenderer\"},{\"attributes\":{\"line_color\":\"blue\",\"x\":{\"field\":\"x\"},\"y\":{\"field\":\"y\"}},\"id\":\"1888\",\"type\":\"Line\"},{\"attributes\":{\"label\":{\"value\":\"k_ed = 5.e+11\"},\"renderers\":[{\"id\":\"1971\",\"type\":\"GlyphRenderer\"}]},\"id\":\"1989\",\"type\":\"LegendItem\"},{\"attributes\":{\"line_alpha\":0.1,\"line_color\":\"#1f77b4\",\"x\":{\"field\":\"x\"},\"y\":{\"field\":\"y\"}},\"id\":\"1902\",\"type\":\"Line\"},{\"attributes\":{\"source\":{\"id\":\"1930\",\"type\":\"ColumnDataSource\"}},\"id\":\"1934\",\"type\":\"CDSView\"},{\"attributes\":{\"bottom_units\":\"screen\",\"fill_alpha\":{\"value\":0.5},\"fill_color\":{\"value\":\"lightgrey\"},\"left_units\":\"screen\",\"level\":\"overlay\",\"line_alpha\":{\"value\":1.0},\"line_color\":{\"value\":\"black\"},\"line_dash\":[4,4],\"line_width\":{\"value\":2},\"render_mode\":\"css\",\"right_units\":\"screen\",\"top_units\":\"screen\"},\"id\":\"1897\",\"type\":\"BoxAnnotation\"},{\"attributes\":{\"callback\":null,\"data\":{\"x\":[30,60,90,120,150,200,300,500,800,1200],\"y\":{\"__ndarray__\":\"AAAAAK5H4T1cj0I+61G4Ps3MzD7hehQ/CteDP65HAUCZmTlAzcyMQA==\",\"dtype\":\"float32\",\"shape\":[10]}},\"selected\":{\"id\":\"1911\",\"type\":\"Selection\"},\"selection_policy\":{\"id\":\"1912\",\"type\":\"UnionRenderers\"}},\"id\":\"1887\",\"type\":\"ColumnDataSource\"},{\"attributes\":{\"data_source\":{\"id\":\"1900\",\"type\":\"ColumnDataSource\"},\"glyph\":{\"id\":\"1901\",\"type\":\"Line\"},\"hover_glyph\":null,\"muted_glyph\":null,\"nonselection_glyph\":{\"id\":\"1902\",\"type\":\"Line\"},\"selection_glyph\":null,\"view\":{\"id\":\"1904\",\"type\":\"CDSView\"}},\"id\":\"1903\",\"type\":\"GlyphRenderer\"},{\"attributes\":{},\"id\":\"1946\",\"type\":\"UnionRenderers\"},{\"attributes\":{},\"id\":\"2060\",\"type\":\"Selection\"},{\"attributes\":{\"active_drag\":\"auto\",\"active_inspect\":\"auto\",\"active_multi\":null,\"active_scroll\":\"auto\",\"active_tap\":\"auto\",\"tools\":[{\"id\":\"1872\",\"type\":\"PanTool\"},{\"id\":\"1873\",\"type\":\"WheelZoomTool\"},{\"id\":\"1874\",\"type\":\"BoxZoomTool\"},{\"id\":\"1875\",\"type\":\"SaveTool\"},{\"id\":\"1876\",\"type\":\"ResetTool\"},{\"id\":\"1877\",\"type\":\"HelpTool\"},{\"id\":\"1885\",\"type\":\"HoverTool\"}]},\"id\":\"1878\",\"type\":\"Toolbar\"},{\"attributes\":{\"source\":{\"id\":\"1900\",\"type\":\"ColumnDataSource\"}},\"id\":\"1904\",\"type\":\"CDSView\"},{\"attributes\":{\"label\":{\"value\":\"k_ed = 5.e+10\"},\"renderers\":[{\"id\":\"1933\",\"type\":\"GlyphRenderer\"}]},\"id\":\"1947\",\"type\":\"LegendItem\"},{\"attributes\":{},\"id\":\"1872\",\"type\":\"PanTool\"},{\"attributes\":{},\"id\":\"2061\",\"type\":\"UnionRenderers\"},{\"attributes\":{},\"id\":\"1911\",\"type\":\"Selection\"},{\"attributes\":{},\"id\":\"1873\",\"type\":\"WheelZoomTool\"},{\"attributes\":{\"callback\":null,\"data\":{\"x\":[30,60,90,120,150,200,300,500,800,1200],\"y\":{\"__ndarray__\":\"AAAAAAAAAAAAAAAAkML1PArXIzwpXI89zczMPXsULj40M7M+pHA9Pw==\",\"dtype\":\"float32\",\"shape\":[10]}},\"selected\":{\"id\":\"1987\",\"type\":\"Selection\"},\"selection_policy\":{\"id\":\"1988\",\"type\":\"UnionRenderers\"}},\"id\":\"1948\",\"type\":\"ColumnDataSource\"},{\"attributes\":{},\"id\":\"1912\",\"type\":\"UnionRenderers\"},{\"attributes\":{\"overlay\":{\"id\":\"1897\",\"type\":\"BoxAnnotation\"}},\"id\":\"1874\",\"type\":\"BoxZoomTool\"},{\"attributes\":{\"x\":{\"field\":\"x\"},\"y\":{\"field\":\"y\"}},\"id\":\"1949\",\"type\":\"Line\"},{\"attributes\":{\"label\":{\"value\":\"k_ed = 1.e+10\"},\"renderers\":[{\"id\":\"1903\",\"type\":\"GlyphRenderer\"}]},\"id\":\"1913\",\"type\":\"LegendItem\"},{\"attributes\":{},\"id\":\"1875\",\"type\":\"SaveTool\"},{\"attributes\":{\"line_alpha\":0.1,\"line_color\":\"#1f77b4\",\"x\":{\"field\":\"x\"},\"y\":{\"field\":\"y\"}},\"id\":\"1950\",\"type\":\"Line\"},{\"attributes\":{\"callback\":null},\"id\":\"1885\",\"type\":\"HoverTool\"},{\"attributes\":{\"text\":\"Length Density Relation,\"},\"id\":\"1852\",\"type\":\"Title\"},{\"attributes\":{\"callback\":null,\"data\":{\"x\":[30,60,90,120,150,200,300,500,800,1200],\"y\":{\"__ndarray__\":\"AAAAAJDC9TyQwnU9CtejPQrXIz4fhWs+kML1PhSuRz+F65E/16PwPw==\",\"dtype\":\"float32\",\"shape\":[10]}},\"selected\":{\"id\":\"1945\",\"type\":\"Selection\"},\"selection_policy\":{\"id\":\"1946\",\"type\":\"UnionRenderers\"}},\"id\":\"1914\",\"type\":\"ColumnDataSource\"},{\"attributes\":{\"data_source\":{\"id\":\"1948\",\"type\":\"ColumnDataSource\"},\"glyph\":{\"id\":\"1949\",\"type\":\"Line\"},\"hover_glyph\":null,\"muted_glyph\":null,\"nonselection_glyph\":{\"id\":\"1950\",\"type\":\"Line\"},\"selection_glyph\":null,\"view\":{\"id\":\"1952\",\"type\":\"CDSView\"}},\"id\":\"1951\",\"type\":\"GlyphRenderer\"},{\"attributes\":{},\"id\":\"1876\",\"type\":\"ResetTool\"},{\"attributes\":{\"ticker\":{\"id\":\"1863\",\"type\":\"BasicTicker\"}},\"id\":\"1866\",\"type\":\"Grid\"},{\"attributes\":{\"line_color\":\"green\",\"x\":{\"field\":\"x\"},\"y\":{\"field\":\"y\"}},\"id\":\"1915\",\"type\":\"Line\"},{\"attributes\":{},\"id\":\"1877\",\"type\":\"HelpTool\"},{\"attributes\":{\"source\":{\"id\":\"1948\",\"type\":\"ColumnDataSource\"}},\"id\":\"1952\",\"type\":\"CDSView\"},{\"attributes\":{\"line_color\":\"magenta\",\"x\":{\"field\":\"x\"},\"y\":{\"field\":\"y\"}},\"id\":\"1969\",\"type\":\"Line\"},{\"attributes\":{},\"id\":\"1858\",\"type\":\"LinearScale\"},{\"attributes\":{\"line_alpha\":0.1,\"line_color\":\"#1f77b4\",\"x\":{\"field\":\"x\"},\"y\":{\"field\":\"y\"}},\"id\":\"1916\",\"type\":\"Line\"},{\"attributes\":{},\"id\":\"1965\",\"type\":\"Selection\"},{\"attributes\":{\"callback\":null},\"id\":\"1854\",\"type\":\"DataRange1d\"},{\"attributes\":{\"data_source\":{\"id\":\"1914\",\"type\":\"ColumnDataSource\"},\"glyph\":{\"id\":\"1915\",\"type\":\"Line\"},\"hover_glyph\":null,\"muted_glyph\":null,\"nonselection_glyph\":{\"id\":\"1916\",\"type\":\"Line\"},\"selection_glyph\":null,\"view\":{\"id\":\"1918\",\"type\":\"CDSView\"}},\"id\":\"1917\",\"type\":\"GlyphRenderer\"},{\"attributes\":{},\"id\":\"1863\",\"type\":\"BasicTicker\"},{\"attributes\":{},\"id\":\"1966\",\"type\":\"UnionRenderers\"},{\"attributes\":{},\"id\":\"1860\",\"type\":\"LinearScale\"},{\"attributes\":{\"axis_label\":\"l / nm\",\"formatter\":{\"id\":\"1893\",\"type\":\"BasicTickFormatter\"},\"ticker\":{\"id\":\"1863\",\"type\":\"BasicTicker\"}},\"id\":\"1862\",\"type\":\"LinearAxis\"},{\"attributes\":{\"line_alpha\":0.1,\"line_color\":\"#1f77b4\",\"x\":{\"field\":\"x\"},\"y\":{\"field\":\"y\"}},\"id\":\"1889\",\"type\":\"Line\"},{\"attributes\":{\"data_source\":{\"id\":\"1887\",\"type\":\"ColumnDataSource\"},\"glyph\":{\"id\":\"1888\",\"type\":\"Line\"},\"hover_glyph\":null,\"muted_glyph\":null,\"nonselection_glyph\":{\"id\":\"1889\",\"type\":\"Line\"},\"selection_glyph\":null,\"view\":{\"id\":\"1891\",\"type\":\"CDSView\"}},\"id\":\"1890\",\"type\":\"GlyphRenderer\"},{\"attributes\":{\"label\":{\"value\":\"k_ed = 1.e+11\"},\"renderers\":[{\"id\":\"1951\",\"type\":\"GlyphRenderer\"}]},\"id\":\"1967\",\"type\":\"LegendItem\"},{\"attributes\":{\"source\":{\"id\":\"1914\",\"type\":\"ColumnDataSource\"}},\"id\":\"1918\",\"type\":\"CDSView\"},{\"attributes\":{\"callback\":null},\"id\":\"1856\",\"type\":\"DataRange1d\"},{\"attributes\":{},\"id\":\"1927\",\"type\":\"Selection\"},{\"attributes\":{\"source\":{\"id\":\"1887\",\"type\":\"ColumnDataSource\"}},\"id\":\"1891\",\"type\":\"CDSView\"},{\"attributes\":{\"callback\":null,\"data\":{\"x\":[30,60,90,120,150,200,300,500,800,1200],\"y\":{\"__ndarray__\":\"AAAAAAAAAAAAAAAAAAAAAAAAAAAK1yM9zczMPa5HYT7C9ag+XI9CPw==\",\"dtype\":\"float32\",\"shape\":[10]}},\"selected\":{\"id\":\"2060\",\"type\":\"Selection\"},\"selection_policy\":{\"id\":\"2061\",\"type\":\"UnionRenderers\"}},\"id\":\"1968\",\"type\":\"ColumnDataSource\"},{\"attributes\":{},\"id\":\"1928\",\"type\":\"UnionRenderers\"},{\"attributes\":{},\"id\":\"1893\",\"type\":\"BasicTickFormatter\"}],\"root_ids\":[\"1851\"]},\"title\":\"Bokeh Application\",\"version\":\"1.4.0\"}};\n",
       "  var render_items = [{\"docid\":\"ab617855-cce8-434c-b9bd-d3fb3d56a95b\",\"roots\":{\"1851\":\"0b6ecef3-e308-484f-aa9a-62dcfe32a4c2\"}}];\n",
       "  root.Bokeh.embed.embed_items_notebook(docs_json, render_items);\n",
       "\n",
       "  }\n",
       "  if (root.Bokeh !== undefined) {\n",
       "    embed_document(root);\n",
       "  } else {\n",
       "    var attempts = 0;\n",
       "    var timer = setInterval(function(root) {\n",
       "      if (root.Bokeh !== undefined) {\n",
       "        clearInterval(timer);\n",
       "        embed_document(root);\n",
       "      } else {\n",
       "        attempts++;\n",
       "        if (attempts > 100) {\n",
       "          clearInterval(timer);\n",
       "          console.log(\"Bokeh: ERROR: Unable to run BokehJS code because BokehJS library is missing\");\n",
       "        }\n",
       "      }\n",
       "    }, 10, root)\n",
       "  }\n",
       "})(window);"
      ],
      "application/vnd.bokehjs_exec.v0+json": ""
     },
     "metadata": {
      "application/vnd.bokehjs_exec.v0+json": {
       "id": "1851"
      }
     },
     "output_type": "display_data"
    }
   ],
   "source": [
    "plot = figure(title='Length Density Relation,', width=800, height=400)\n",
    "plot.add_tools(HoverTool())\n",
    "for i, sim in enumerate(length_k_ed):\n",
    "    plot.line(sim.calc_dict['CNT_length'], sim.QY[:, 1]*100,\n",
    "              legend_label=f'k_ed = {np.format_float_scientific(sim.kin_const[5])}',\n",
    "              color=color_list[i])\n",
    "plot.xaxis.axis_label = 'l / nm'\n",
    "plot.yaxis.axis_label = 'QY (E11)'\n",
    "show(plot)"
   ]
  },
  {
   "cell_type": "markdown",
   "metadata": {},
   "source": [
    "# Vary radiative decay"
   ]
  },
  {
   "cell_type": "code",
   "execution_count": 18,
   "metadata": {
    "scrolled": true
   },
   "outputs": [
    {
     "name": "stdout",
     "output_type": "stream",
     "text": [
      "../sim_output/2020-04-26_exciton_sim_4_level-def_2.h5 10000000000.0 20000000000.0\n",
      "../sim_output/2020-04-26_exciton_sim_4_level-def_6.h5 10000000000.0 15000000000.0\n",
      "../sim_output/2020-04-26_exciton_sim_4_level-def_7.h5 25000000000.0 15000000000.0\n",
      "../sim_output/2020-04-24_exciton_sim_4_level-def_4.h5 25000000000.0 20000000000.0\n",
      "../sim_output/2020-04-26_exciton_sim_4_level-def_3.h5 50000000000.0 15000000000.0\n",
      "../sim_output/2020-04-24_exciton_sim_4_level-def_1.h5 50000000000.0 20000000000.0\n",
      "../sim_output/2020-04-26_exciton_sim_4_level-def_1.h5 100000000000.0 20000000000.0\n",
      "../sim_output/2020-04-26_exciton_sim_4_level-def_5.h5 100000000000.0 15000000000.0\n",
      "../sim_output/2020-04-26_exciton_sim_4_level-def_4.h5 500000000000.0 15000000000.0\n",
      "../sim_output/2020-04-24_exciton_sim_4_level-def_2.h5 500000000000.0 20000000000.0\n"
     ]
    }
   ],
   "source": [
    "for i in sorted(CNT_sims, key=k_ed_sorting)[2::2]:\n",
    "    print(i, i.kin_const[5], i.kin_const[0])"
   ]
  },
  {
   "cell_type": "code",
   "execution_count": 19,
   "metadata": {},
   "outputs": [],
   "source": [
    "colors = np.array(['indigo', 'darkorchid', 'navy', 'skyblue', 'darkred', 'tomato',\n",
    "                    'forestgreen', 'lawngreen', 'orange', 'yellow'])"
   ]
  },
  {
   "cell_type": "code",
   "execution_count": 20,
   "metadata": {},
   "outputs": [],
   "source": [
    "defect_depen = sorted(CNT_sims, key=k_ed_sorting)[2::2]"
   ]
  },
  {
   "cell_type": "code",
   "execution_count": 21,
   "metadata": {},
   "outputs": [
    {
     "data": {
      "text/html": [
       "\n",
       "\n",
       "\n",
       "\n",
       "\n",
       "\n",
       "  <div class=\"bk-root\" id=\"64cf4f7d-f19c-4bca-a397-4072c462f477\" data-root-id=\"2170\"></div>\n"
      ]
     },
     "metadata": {},
     "output_type": "display_data"
    },
    {
     "data": {
      "application/javascript": [
       "(function(root) {\n",
       "  function embed_document(root) {\n",
       "    \n",
       "  var docs_json = {\"da444511-2d71-4c51-9a9a-cc8b33cf48b2\":{\"roots\":{\"references\":[{\"attributes\":{\"below\":[{\"id\":\"2181\",\"type\":\"LinearAxis\"}],\"center\":[{\"id\":\"2185\",\"type\":\"Grid\"},{\"id\":\"2190\",\"type\":\"Grid\"},{\"id\":\"2217\",\"type\":\"Legend\"}],\"left\":[{\"id\":\"2186\",\"type\":\"LinearAxis\"}],\"plot_height\":400,\"plot_width\":800,\"renderers\":[{\"id\":\"2209\",\"type\":\"GlyphRenderer\"},{\"id\":\"2222\",\"type\":\"GlyphRenderer\"},{\"id\":\"2235\",\"type\":\"GlyphRenderer\"},{\"id\":\"2251\",\"type\":\"GlyphRenderer\"},{\"id\":\"2268\",\"type\":\"GlyphRenderer\"},{\"id\":\"2288\",\"type\":\"GlyphRenderer\"},{\"id\":\"2309\",\"type\":\"GlyphRenderer\"},{\"id\":\"2333\",\"type\":\"GlyphRenderer\"},{\"id\":\"2358\",\"type\":\"GlyphRenderer\"},{\"id\":\"2386\",\"type\":\"GlyphRenderer\"}],\"title\":{\"id\":\"2171\",\"type\":\"Title\"},\"toolbar\":{\"id\":\"2197\",\"type\":\"Toolbar\"},\"x_range\":{\"id\":\"2173\",\"type\":\"DataRange1d\"},\"x_scale\":{\"id\":\"2177\",\"type\":\"LinearScale\"},\"y_range\":{\"id\":\"2175\",\"type\":\"DataRange1d\"},\"y_scale\":{\"id\":\"2179\",\"type\":\"LinearScale\"}},\"id\":\"2170\",\"subtype\":\"Figure\",\"type\":\"Plot\"},{\"attributes\":{\"label\":{\"value\":\"k_ed = 5.e+10\"},\"renderers\":[{\"id\":\"2268\",\"type\":\"GlyphRenderer\"},{\"id\":\"2288\",\"type\":\"GlyphRenderer\"}]},\"id\":\"2284\",\"type\":\"LegendItem\"},{\"attributes\":{\"callback\":null,\"data\":{\"x\":[0,20,40,60,80,100,120,140,160,180,200,220,240],\"y\":{\"__ndarray__\":\"AAAAAArXIz/rUTg/H4XrPqRwvT4K16M+rkdhPrgehT57FC4+CtcjPs3MzD2QwnU9kML1PA==\",\"dtype\":\"float32\",\"shape\":[13]}},\"selected\":{\"id\":\"2327\",\"type\":\"Selection\"},\"selection_policy\":{\"id\":\"2328\",\"type\":\"UnionRenderers\"}},\"id\":\"2285\",\"type\":\"ColumnDataSource\"},{\"attributes\":{\"line_color\":\"tomato\",\"x\":{\"field\":\"x\"},\"y\":{\"field\":\"y\"}},\"id\":\"2286\",\"type\":\"Line\"},{\"attributes\":{\"line_alpha\":0.1,\"line_color\":\"#1f77b4\",\"x\":{\"field\":\"x\"},\"y\":{\"field\":\"y\"}},\"id\":\"2287\",\"type\":\"Line\"},{\"attributes\":{\"data_source\":{\"id\":\"2285\",\"type\":\"ColumnDataSource\"},\"glyph\":{\"id\":\"2286\",\"type\":\"Line\"},\"hover_glyph\":null,\"muted_glyph\":null,\"nonselection_glyph\":{\"id\":\"2287\",\"type\":\"Line\"},\"selection_glyph\":null,\"view\":{\"id\":\"2289\",\"type\":\"CDSView\"}},\"id\":\"2288\",\"type\":\"GlyphRenderer\"},{\"attributes\":{\"source\":{\"id\":\"2285\",\"type\":\"ColumnDataSource\"}},\"id\":\"2289\",\"type\":\"CDSView\"},{\"attributes\":{},\"id\":\"2304\",\"type\":\"Selection\"},{\"attributes\":{},\"id\":\"2305\",\"type\":\"UnionRenderers\"},{\"attributes\":{\"callback\":null,\"data\":{\"x\":[0,20,40,60,80,100,120,140,160,180,200,220,240],\"y\":{\"__ndarray__\":\"AAAAAIXrUT/helQ/NDMzP5qZGT+amZk+wvWoPjQzsz6QwnU+61E4PilcDz6QwnU9CtejPQ==\",\"dtype\":\"float32\",\"shape\":[13]}},\"selected\":{\"id\":\"2353\",\"type\":\"Selection\"},\"selection_policy\":{\"id\":\"2354\",\"type\":\"UnionRenderers\"}},\"id\":\"2306\",\"type\":\"ColumnDataSource\"},{\"attributes\":{\"line_color\":\"forestgreen\",\"x\":{\"field\":\"x\"},\"y\":{\"field\":\"y\"}},\"id\":\"2307\",\"type\":\"Line\"},{\"attributes\":{\"line_alpha\":0.1,\"line_color\":\"#1f77b4\",\"x\":{\"field\":\"x\"},\"y\":{\"field\":\"y\"}},\"id\":\"2308\",\"type\":\"Line\"},{\"attributes\":{\"data_source\":{\"id\":\"2306\",\"type\":\"ColumnDataSource\"},\"glyph\":{\"id\":\"2307\",\"type\":\"Line\"},\"hover_glyph\":null,\"muted_glyph\":null,\"nonselection_glyph\":{\"id\":\"2308\",\"type\":\"Line\"},\"selection_glyph\":null,\"view\":{\"id\":\"2310\",\"type\":\"CDSView\"}},\"id\":\"2309\",\"type\":\"GlyphRenderer\"},{\"attributes\":{\"source\":{\"id\":\"2306\",\"type\":\"ColumnDataSource\"}},\"id\":\"2310\",\"type\":\"CDSView\"},{\"attributes\":{},\"id\":\"2327\",\"type\":\"Selection\"},{\"attributes\":{},\"id\":\"2328\",\"type\":\"UnionRenderers\"},{\"attributes\":{\"label\":{\"value\":\"k_ed = 1.e+11\"},\"renderers\":[{\"id\":\"2309\",\"type\":\"GlyphRenderer\"},{\"id\":\"2333\",\"type\":\"GlyphRenderer\"}]},\"id\":\"2329\",\"type\":\"LegendItem\"},{\"attributes\":{\"callback\":null,\"data\":{\"x\":[0,20,40,60,80,100,120,140,160,180,200,220,240],\"y\":{\"__ndarray__\":\"AAAAAArXYz+uR2E/zcwMPwAAAD/rUbg+cT2KPnsULj57FC4+CtcjPs3MTD3NzMw9kML1PA==\",\"dtype\":\"float32\",\"shape\":[13]}},\"selected\":{\"id\":\"2380\",\"type\":\"Selection\"},\"selection_policy\":{\"id\":\"2381\",\"type\":\"UnionRenderers\"}},\"id\":\"2330\",\"type\":\"ColumnDataSource\"},{\"attributes\":{\"line_color\":\"lawngreen\",\"x\":{\"field\":\"x\"},\"y\":{\"field\":\"y\"}},\"id\":\"2331\",\"type\":\"Line\"},{\"attributes\":{\"line_alpha\":0.1,\"line_color\":\"#1f77b4\",\"x\":{\"field\":\"x\"},\"y\":{\"field\":\"y\"}},\"id\":\"2332\",\"type\":\"Line\"},{\"attributes\":{\"data_source\":{\"id\":\"2330\",\"type\":\"ColumnDataSource\"},\"glyph\":{\"id\":\"2331\",\"type\":\"Line\"},\"hover_glyph\":null,\"muted_glyph\":null,\"nonselection_glyph\":{\"id\":\"2332\",\"type\":\"Line\"},\"selection_glyph\":null,\"view\":{\"id\":\"2334\",\"type\":\"CDSView\"}},\"id\":\"2333\",\"type\":\"GlyphRenderer\"},{\"attributes\":{\"source\":{\"id\":\"2330\",\"type\":\"ColumnDataSource\"}},\"id\":\"2334\",\"type\":\"CDSView\"},{\"attributes\":{},\"id\":\"2353\",\"type\":\"Selection\"},{\"attributes\":{},\"id\":\"2354\",\"type\":\"UnionRenderers\"},{\"attributes\":{\"callback\":null,\"data\":{\"x\":[0,20,40,60,80,100,120,140,160,180,200,220,240],\"y\":{\"__ndarray__\":\"AAAAADMzcz/sUXg/9ihcPylcDz9I4fo+16PwPgAAgD4fhWs+mpkZPrgeBT4K16M9zcxMPQ==\",\"dtype\":\"float32\",\"shape\":[13]}},\"selected\":{\"id\":\"2410\",\"type\":\"Selection\"},\"selection_policy\":{\"id\":\"2411\",\"type\":\"UnionRenderers\"}},\"id\":\"2355\",\"type\":\"ColumnDataSource\"},{\"attributes\":{},\"id\":\"2212\",\"type\":\"BasicTickFormatter\"},{\"attributes\":{\"line_color\":\"orange\",\"x\":{\"field\":\"x\"},\"y\":{\"field\":\"y\"}},\"id\":\"2356\",\"type\":\"Line\"},{\"attributes\":{\"line_alpha\":0.1,\"line_color\":\"#1f77b4\",\"x\":{\"field\":\"x\"},\"y\":{\"field\":\"y\"}},\"id\":\"2357\",\"type\":\"Line\"},{\"attributes\":{\"data_source\":{\"id\":\"2355\",\"type\":\"ColumnDataSource\"},\"glyph\":{\"id\":\"2356\",\"type\":\"Line\"},\"hover_glyph\":null,\"muted_glyph\":null,\"nonselection_glyph\":{\"id\":\"2357\",\"type\":\"Line\"},\"selection_glyph\":null,\"view\":{\"id\":\"2359\",\"type\":\"CDSView\"}},\"id\":\"2358\",\"type\":\"GlyphRenderer\"},{\"attributes\":{\"source\":{\"id\":\"2355\",\"type\":\"ColumnDataSource\"}},\"id\":\"2359\",\"type\":\"CDSView\"},{\"attributes\":{},\"id\":\"2380\",\"type\":\"Selection\"},{\"attributes\":{},\"id\":\"2381\",\"type\":\"UnionRenderers\"},{\"attributes\":{\"label\":{\"value\":\"k_ed = 5.e+11\"},\"renderers\":[{\"id\":\"2358\",\"type\":\"GlyphRenderer\"},{\"id\":\"2386\",\"type\":\"GlyphRenderer\"}]},\"id\":\"2382\",\"type\":\"LegendItem\"},{\"attributes\":{\"callback\":null,\"data\":{\"x\":[0,20,40,60,80,100,120,140,160,180,200,220,240],\"y\":{\"__ndarray__\":\"AAAAAM3MjD97FG4/j8I1PxSuRz8AAAA/kML1PnsUrj4pXI8+CtcjPnsULj4pXA8+zczMPQ==\",\"dtype\":\"float32\",\"shape\":[13]}},\"selected\":{\"id\":\"2508\",\"type\":\"Selection\"},\"selection_policy\":{\"id\":\"2509\",\"type\":\"UnionRenderers\"}},\"id\":\"2383\",\"type\":\"ColumnDataSource\"},{\"attributes\":{\"line_color\":\"yellow\",\"x\":{\"field\":\"x\"},\"y\":{\"field\":\"y\"}},\"id\":\"2384\",\"type\":\"Line\"},{\"attributes\":{\"line_alpha\":0.1,\"line_color\":\"#1f77b4\",\"x\":{\"field\":\"x\"},\"y\":{\"field\":\"y\"}},\"id\":\"2385\",\"type\":\"Line\"},{\"attributes\":{\"data_source\":{\"id\":\"2383\",\"type\":\"ColumnDataSource\"},\"glyph\":{\"id\":\"2384\",\"type\":\"Line\"},\"hover_glyph\":null,\"muted_glyph\":null,\"nonselection_glyph\":{\"id\":\"2385\",\"type\":\"Line\"},\"selection_glyph\":null,\"view\":{\"id\":\"2387\",\"type\":\"CDSView\"}},\"id\":\"2386\",\"type\":\"GlyphRenderer\"},{\"attributes\":{\"source\":{\"id\":\"2383\",\"type\":\"ColumnDataSource\"}},\"id\":\"2387\",\"type\":\"CDSView\"},{\"attributes\":{},\"id\":\"2196\",\"type\":\"HelpTool\"},{\"attributes\":{},\"id\":\"2410\",\"type\":\"Selection\"},{\"attributes\":{},\"id\":\"2411\",\"type\":\"UnionRenderers\"},{\"attributes\":{\"active_drag\":\"auto\",\"active_inspect\":\"auto\",\"active_multi\":null,\"active_scroll\":\"auto\",\"active_tap\":\"auto\",\"tools\":[{\"id\":\"2191\",\"type\":\"PanTool\"},{\"id\":\"2192\",\"type\":\"WheelZoomTool\"},{\"id\":\"2193\",\"type\":\"BoxZoomTool\"},{\"id\":\"2194\",\"type\":\"SaveTool\"},{\"id\":\"2195\",\"type\":\"ResetTool\"},{\"id\":\"2196\",\"type\":\"HelpTool\"},{\"id\":\"2204\",\"type\":\"HoverTool\"}]},\"id\":\"2197\",\"type\":\"Toolbar\"},{\"attributes\":{},\"id\":\"2508\",\"type\":\"Selection\"},{\"attributes\":{\"line_alpha\":0.1,\"line_color\":\"#1f77b4\",\"x\":{\"field\":\"x\"},\"y\":{\"field\":\"y\"}},\"id\":\"2208\",\"type\":\"Line\"},{\"attributes\":{\"data_source\":{\"id\":\"2206\",\"type\":\"ColumnDataSource\"},\"glyph\":{\"id\":\"2207\",\"type\":\"Line\"},\"hover_glyph\":null,\"muted_glyph\":null,\"nonselection_glyph\":{\"id\":\"2208\",\"type\":\"Line\"},\"selection_glyph\":null,\"view\":{\"id\":\"2210\",\"type\":\"CDSView\"}},\"id\":\"2209\",\"type\":\"GlyphRenderer\"},{\"attributes\":{},\"id\":\"2509\",\"type\":\"UnionRenderers\"},{\"attributes\":{\"source\":{\"id\":\"2206\",\"type\":\"ColumnDataSource\"}},\"id\":\"2210\",\"type\":\"CDSView\"},{\"attributes\":{\"bottom_units\":\"screen\",\"fill_alpha\":{\"value\":0.5},\"fill_color\":{\"value\":\"lightgrey\"},\"left_units\":\"screen\",\"level\":\"overlay\",\"line_alpha\":{\"value\":1.0},\"line_color\":{\"value\":\"black\"},\"line_dash\":[4,4],\"line_width\":{\"value\":2},\"render_mode\":\"css\",\"right_units\":\"screen\",\"top_units\":\"screen\"},\"id\":\"2216\",\"type\":\"BoxAnnotation\"},{\"attributes\":{},\"id\":\"2283\",\"type\":\"UnionRenderers\"},{\"attributes\":{\"items\":[{\"id\":\"2218\",\"type\":\"LegendItem\"},{\"id\":\"2247\",\"type\":\"LegendItem\"},{\"id\":\"2284\",\"type\":\"LegendItem\"},{\"id\":\"2329\",\"type\":\"LegendItem\"},{\"id\":\"2382\",\"type\":\"LegendItem\"}]},\"id\":\"2217\",\"type\":\"Legend\"},{\"attributes\":{\"label\":{\"value\":\"k_ed = 1.e+10\"},\"renderers\":[{\"id\":\"2209\",\"type\":\"GlyphRenderer\"},{\"id\":\"2222\",\"type\":\"GlyphRenderer\"}]},\"id\":\"2218\",\"type\":\"LegendItem\"},{\"attributes\":{\"callback\":null,\"data\":{\"x\":[0,20,40,60,80,100,120,140,160,180,200,220,240],\"y\":{\"__ndarray__\":\"AAAAAClcDz6uR+E9zcxMPQrXIz2QwnU9zcxMPQrXIz0K16M8CtcjPQAAAAAK1yM8CtcjPA==\",\"dtype\":\"float32\",\"shape\":[13]}},\"selected\":{\"id\":\"2245\",\"type\":\"Selection\"},\"selection_policy\":{\"id\":\"2246\",\"type\":\"UnionRenderers\"}},\"id\":\"2219\",\"type\":\"ColumnDataSource\"},{\"attributes\":{\"line_color\":\"darkorchid\",\"x\":{\"field\":\"x\"},\"y\":{\"field\":\"y\"}},\"id\":\"2220\",\"type\":\"Line\"},{\"attributes\":{},\"id\":\"2214\",\"type\":\"BasicTickFormatter\"},{\"attributes\":{\"line_alpha\":0.1,\"line_color\":\"#1f77b4\",\"x\":{\"field\":\"x\"},\"y\":{\"field\":\"y\"}},\"id\":\"2221\",\"type\":\"Line\"},{\"attributes\":{\"data_source\":{\"id\":\"2219\",\"type\":\"ColumnDataSource\"},\"glyph\":{\"id\":\"2220\",\"type\":\"Line\"},\"hover_glyph\":null,\"muted_glyph\":null,\"nonselection_glyph\":{\"id\":\"2221\",\"type\":\"Line\"},\"selection_glyph\":null,\"view\":{\"id\":\"2223\",\"type\":\"CDSView\"}},\"id\":\"2222\",\"type\":\"GlyphRenderer\"},{\"attributes\":{\"source\":{\"id\":\"2219\",\"type\":\"ColumnDataSource\"}},\"id\":\"2223\",\"type\":\"CDSView\"},{\"attributes\":{},\"id\":\"2231\",\"type\":\"UnionRenderers\"},{\"attributes\":{\"callback\":null},\"id\":\"2204\",\"type\":\"HoverTool\"},{\"attributes\":{\"callback\":null,\"data\":{\"x\":[0,20,40,60,80,100,120,140,160,180,200,220,240],\"y\":{\"__ndarray__\":\"AAAAAAAAAD+uR+E+FK7HPuF6lD7hepQ+kML1PbgeBT64HgU+KVyPPQrXIz2QwvU8CtcjPA==\",\"dtype\":\"float32\",\"shape\":[13]}},\"selected\":{\"id\":\"2263\",\"type\":\"Selection\"},\"selection_policy\":{\"id\":\"2264\",\"type\":\"UnionRenderers\"}},\"id\":\"2232\",\"type\":\"ColumnDataSource\"},{\"attributes\":{\"line_color\":\"navy\",\"x\":{\"field\":\"x\"},\"y\":{\"field\":\"y\"}},\"id\":\"2233\",\"type\":\"Line\"},{\"attributes\":{\"line_alpha\":0.1,\"line_color\":\"#1f77b4\",\"x\":{\"field\":\"x\"},\"y\":{\"field\":\"y\"}},\"id\":\"2234\",\"type\":\"Line\"},{\"attributes\":{\"line_color\":\"indigo\",\"x\":{\"field\":\"x\"},\"y\":{\"field\":\"y\"}},\"id\":\"2207\",\"type\":\"Line\"},{\"attributes\":{\"text\":\"Defect Density Relation, l = 300 nm\"},\"id\":\"2171\",\"type\":\"Title\"},{\"attributes\":{\"data_source\":{\"id\":\"2232\",\"type\":\"ColumnDataSource\"},\"glyph\":{\"id\":\"2233\",\"type\":\"Line\"},\"hover_glyph\":null,\"muted_glyph\":null,\"nonselection_glyph\":{\"id\":\"2234\",\"type\":\"Line\"},\"selection_glyph\":null,\"view\":{\"id\":\"2236\",\"type\":\"CDSView\"}},\"id\":\"2235\",\"type\":\"GlyphRenderer\"},{\"attributes\":{\"callback\":null},\"id\":\"2173\",\"type\":\"DataRange1d\"},{\"attributes\":{\"source\":{\"id\":\"2232\",\"type\":\"ColumnDataSource\"}},\"id\":\"2236\",\"type\":\"CDSView\"},{\"attributes\":{\"callback\":null},\"id\":\"2175\",\"type\":\"DataRange1d\"},{\"attributes\":{},\"id\":\"2245\",\"type\":\"Selection\"},{\"attributes\":{},\"id\":\"2177\",\"type\":\"LinearScale\"},{\"attributes\":{},\"id\":\"2246\",\"type\":\"UnionRenderers\"},{\"attributes\":{},\"id\":\"2179\",\"type\":\"LinearScale\"},{\"attributes\":{\"label\":{\"value\":\"k_ed = 2.5e+10\"},\"renderers\":[{\"id\":\"2235\",\"type\":\"GlyphRenderer\"},{\"id\":\"2251\",\"type\":\"GlyphRenderer\"}]},\"id\":\"2247\",\"type\":\"LegendItem\"},{\"attributes\":{\"axis_label\":\"N (defects)\",\"formatter\":{\"id\":\"2212\",\"type\":\"BasicTickFormatter\"},\"ticker\":{\"id\":\"2182\",\"type\":\"BasicTicker\"}},\"id\":\"2181\",\"type\":\"LinearAxis\"},{\"attributes\":{\"callback\":null,\"data\":{\"x\":[0,20,40,60,80,100,120,140,160,180,200,220,240],\"y\":{\"__ndarray__\":\"AAAAAM3MzD6kcL0+PQrXPrgehT6QwnU+KVwPPq5H4T3rUbg9kML1PSlcjz2QwnU9CtejPA==\",\"dtype\":\"float32\",\"shape\":[13]}},\"selected\":{\"id\":\"2282\",\"type\":\"Selection\"},\"selection_policy\":{\"id\":\"2283\",\"type\":\"UnionRenderers\"}},\"id\":\"2248\",\"type\":\"ColumnDataSource\"},{\"attributes\":{},\"id\":\"2182\",\"type\":\"BasicTicker\"},{\"attributes\":{\"line_color\":\"skyblue\",\"x\":{\"field\":\"x\"},\"y\":{\"field\":\"y\"}},\"id\":\"2249\",\"type\":\"Line\"},{\"attributes\":{\"ticker\":{\"id\":\"2182\",\"type\":\"BasicTicker\"}},\"id\":\"2185\",\"type\":\"Grid\"},{\"attributes\":{\"line_alpha\":0.1,\"line_color\":\"#1f77b4\",\"x\":{\"field\":\"x\"},\"y\":{\"field\":\"y\"}},\"id\":\"2250\",\"type\":\"Line\"},{\"attributes\":{\"axis_label\":\"QY (E11*)\",\"formatter\":{\"id\":\"2214\",\"type\":\"BasicTickFormatter\"},\"ticker\":{\"id\":\"2187\",\"type\":\"BasicTicker\"}},\"id\":\"2186\",\"type\":\"LinearAxis\"},{\"attributes\":{\"data_source\":{\"id\":\"2248\",\"type\":\"ColumnDataSource\"},\"glyph\":{\"id\":\"2249\",\"type\":\"Line\"},\"hover_glyph\":null,\"muted_glyph\":null,\"nonselection_glyph\":{\"id\":\"2250\",\"type\":\"Line\"},\"selection_glyph\":null,\"view\":{\"id\":\"2252\",\"type\":\"CDSView\"}},\"id\":\"2251\",\"type\":\"GlyphRenderer\"},{\"attributes\":{},\"id\":\"2187\",\"type\":\"BasicTicker\"},{\"attributes\":{\"source\":{\"id\":\"2248\",\"type\":\"ColumnDataSource\"}},\"id\":\"2252\",\"type\":\"CDSView\"},{\"attributes\":{\"dimension\":1,\"ticker\":{\"id\":\"2187\",\"type\":\"BasicTicker\"}},\"id\":\"2190\",\"type\":\"Grid\"},{\"attributes\":{},\"id\":\"2263\",\"type\":\"Selection\"},{\"attributes\":{},\"id\":\"2230\",\"type\":\"Selection\"},{\"attributes\":{},\"id\":\"2264\",\"type\":\"UnionRenderers\"},{\"attributes\":{\"callback\":null,\"data\":{\"x\":[0,20,40,60,80,100,120,140,160,180,200,220,240],\"y\":{\"__ndarray__\":\"AAAAAClcjz2QwvU9CtejPZDCdT3NzEw9zcxMPZDC9TwK1yM8AAAAAArXIzwAAAAAAAAAAA==\",\"dtype\":\"float32\",\"shape\":[13]}},\"selected\":{\"id\":\"2230\",\"type\":\"Selection\"},\"selection_policy\":{\"id\":\"2231\",\"type\":\"UnionRenderers\"}},\"id\":\"2206\",\"type\":\"ColumnDataSource\"},{\"attributes\":{\"callback\":null,\"data\":{\"x\":[0,20,40,60,80,100,120,140,160,180,200,220,240],\"y\":{\"__ndarray__\":\"AAAAAArXIz+amRk/FK7HPhSuxz6kcL0+H4VrPnsULj64HgU+XI9CPgrXoz0pXI89kML1PA==\",\"dtype\":\"float32\",\"shape\":[13]}},\"selected\":{\"id\":\"2304\",\"type\":\"Selection\"},\"selection_policy\":{\"id\":\"2305\",\"type\":\"UnionRenderers\"}},\"id\":\"2265\",\"type\":\"ColumnDataSource\"},{\"attributes\":{\"line_color\":\"darkred\",\"x\":{\"field\":\"x\"},\"y\":{\"field\":\"y\"}},\"id\":\"2266\",\"type\":\"Line\"},{\"attributes\":{},\"id\":\"2191\",\"type\":\"PanTool\"},{\"attributes\":{\"line_alpha\":0.1,\"line_color\":\"#1f77b4\",\"x\":{\"field\":\"x\"},\"y\":{\"field\":\"y\"}},\"id\":\"2267\",\"type\":\"Line\"},{\"attributes\":{\"data_source\":{\"id\":\"2265\",\"type\":\"ColumnDataSource\"},\"glyph\":{\"id\":\"2266\",\"type\":\"Line\"},\"hover_glyph\":null,\"muted_glyph\":null,\"nonselection_glyph\":{\"id\":\"2267\",\"type\":\"Line\"},\"selection_glyph\":null,\"view\":{\"id\":\"2269\",\"type\":\"CDSView\"}},\"id\":\"2268\",\"type\":\"GlyphRenderer\"},{\"attributes\":{},\"id\":\"2192\",\"type\":\"WheelZoomTool\"},{\"attributes\":{\"overlay\":{\"id\":\"2216\",\"type\":\"BoxAnnotation\"}},\"id\":\"2193\",\"type\":\"BoxZoomTool\"},{\"attributes\":{\"source\":{\"id\":\"2265\",\"type\":\"ColumnDataSource\"}},\"id\":\"2269\",\"type\":\"CDSView\"},{\"attributes\":{},\"id\":\"2194\",\"type\":\"SaveTool\"},{\"attributes\":{},\"id\":\"2282\",\"type\":\"Selection\"},{\"attributes\":{},\"id\":\"2195\",\"type\":\"ResetTool\"}],\"root_ids\":[\"2170\"]},\"title\":\"Bokeh Application\",\"version\":\"1.4.0\"}};\n",
       "  var render_items = [{\"docid\":\"da444511-2d71-4c51-9a9a-cc8b33cf48b2\",\"roots\":{\"2170\":\"64cf4f7d-f19c-4bca-a397-4072c462f477\"}}];\n",
       "  root.Bokeh.embed.embed_items_notebook(docs_json, render_items);\n",
       "\n",
       "  }\n",
       "  if (root.Bokeh !== undefined) {\n",
       "    embed_document(root);\n",
       "  } else {\n",
       "    var attempts = 0;\n",
       "    var timer = setInterval(function(root) {\n",
       "      if (root.Bokeh !== undefined) {\n",
       "        clearInterval(timer);\n",
       "        embed_document(root);\n",
       "      } else {\n",
       "        attempts++;\n",
       "        if (attempts > 100) {\n",
       "          clearInterval(timer);\n",
       "          console.log(\"Bokeh: ERROR: Unable to run BokehJS code because BokehJS library is missing\");\n",
       "        }\n",
       "      }\n",
       "    }, 10, root)\n",
       "  }\n",
       "})(window);"
      ],
      "application/vnd.bokehjs_exec.v0+json": ""
     },
     "metadata": {
      "application/vnd.bokehjs_exec.v0+json": {
       "id": "2170"
      }
     },
     "output_type": "display_data"
    }
   ],
   "source": [
    "plot = figure(title='Defect Density Relation, l = 300 nm', width=800, height=400)\n",
    "plot.add_tools(HoverTool())\n",
    "for i, sim in enumerate(defect_depen):\n",
    "    plot.line(sim.calc_dict['n_defects'], sim.QY[:, 0]*100,\n",
    "              legend_label=f'k_ed = {np.format_float_scientific(sim.kin_const[5])}',\n",
    "              color=colors[i])\n",
    "plot.xaxis.axis_label = 'N (defects)'\n",
    "plot.yaxis.axis_label = 'QY (E11*)'\n",
    "show(plot)"
   ]
  },
  {
   "cell_type": "markdown",
   "metadata": {},
   "source": [
    "Darker color: k_er & k_dr 2E10, lighter color: 1.5E10"
   ]
  },
  {
   "cell_type": "code",
   "execution_count": 22,
   "metadata": {},
   "outputs": [
    {
     "data": {
      "text/html": [
       "\n",
       "\n",
       "\n",
       "\n",
       "\n",
       "\n",
       "  <div class=\"bk-root\" id=\"bb9b1207-1fd3-4506-9534-33c069ccf570\" data-root-id=\"2666\"></div>\n"
      ]
     },
     "metadata": {},
     "output_type": "display_data"
    },
    {
     "data": {
      "application/javascript": [
       "(function(root) {\n",
       "  function embed_document(root) {\n",
       "    \n",
       "  var docs_json = {\"e2f73164-ed25-46c7-ac6a-4f81c9c17088\":{\"roots\":{\"references\":[{\"attributes\":{\"below\":[{\"id\":\"2677\",\"type\":\"LinearAxis\"}],\"center\":[{\"id\":\"2681\",\"type\":\"Grid\"},{\"id\":\"2686\",\"type\":\"Grid\"},{\"id\":\"2713\",\"type\":\"Legend\"}],\"left\":[{\"id\":\"2682\",\"type\":\"LinearAxis\"}],\"plot_height\":400,\"plot_width\":800,\"renderers\":[{\"id\":\"2705\",\"type\":\"GlyphRenderer\"},{\"id\":\"2718\",\"type\":\"GlyphRenderer\"},{\"id\":\"2731\",\"type\":\"GlyphRenderer\"},{\"id\":\"2747\",\"type\":\"GlyphRenderer\"},{\"id\":\"2764\",\"type\":\"GlyphRenderer\"},{\"id\":\"2784\",\"type\":\"GlyphRenderer\"},{\"id\":\"2805\",\"type\":\"GlyphRenderer\"},{\"id\":\"2829\",\"type\":\"GlyphRenderer\"},{\"id\":\"2854\",\"type\":\"GlyphRenderer\"},{\"id\":\"2882\",\"type\":\"GlyphRenderer\"}],\"title\":{\"id\":\"2667\",\"type\":\"Title\"},\"toolbar\":{\"id\":\"2693\",\"type\":\"Toolbar\"},\"x_range\":{\"id\":\"2669\",\"type\":\"DataRange1d\"},\"x_scale\":{\"id\":\"2673\",\"type\":\"LinearScale\"},\"y_range\":{\"id\":\"2671\",\"type\":\"DataRange1d\"},\"y_scale\":{\"id\":\"2675\",\"type\":\"LinearScale\"}},\"id\":\"2666\",\"subtype\":\"Figure\",\"type\":\"Plot\"},{\"attributes\":{\"data_source\":{\"id\":\"2702\",\"type\":\"ColumnDataSource\"},\"glyph\":{\"id\":\"2703\",\"type\":\"Line\"},\"hover_glyph\":null,\"muted_glyph\":null,\"nonselection_glyph\":{\"id\":\"2704\",\"type\":\"Line\"},\"selection_glyph\":null,\"view\":{\"id\":\"2706\",\"type\":\"CDSView\"}},\"id\":\"2705\",\"type\":\"GlyphRenderer\"},{\"attributes\":{\"source\":{\"id\":\"2702\",\"type\":\"ColumnDataSource\"}},\"id\":\"2706\",\"type\":\"CDSView\"},{\"attributes\":{},\"id\":\"2708\",\"type\":\"BasicTickFormatter\"},{\"attributes\":{},\"id\":\"2710\",\"type\":\"BasicTickFormatter\"},{\"attributes\":{\"bottom_units\":\"screen\",\"fill_alpha\":{\"value\":0.5},\"fill_color\":{\"value\":\"lightgrey\"},\"left_units\":\"screen\",\"level\":\"overlay\",\"line_alpha\":{\"value\":1.0},\"line_color\":{\"value\":\"black\"},\"line_dash\":[4,4],\"line_width\":{\"value\":2},\"render_mode\":\"css\",\"right_units\":\"screen\",\"top_units\":\"screen\"},\"id\":\"2712\",\"type\":\"BoxAnnotation\"},{\"attributes\":{\"items\":[{\"id\":\"2714\",\"type\":\"LegendItem\"},{\"id\":\"2743\",\"type\":\"LegendItem\"},{\"id\":\"2780\",\"type\":\"LegendItem\"},{\"id\":\"2825\",\"type\":\"LegendItem\"},{\"id\":\"2878\",\"type\":\"LegendItem\"}]},\"id\":\"2713\",\"type\":\"Legend\"},{\"attributes\":{\"label\":{\"value\":\"k_ed = 1.e+10\"},\"renderers\":[{\"id\":\"2705\",\"type\":\"GlyphRenderer\"},{\"id\":\"2718\",\"type\":\"GlyphRenderer\"}]},\"id\":\"2714\",\"type\":\"LegendItem\"},{\"attributes\":{\"callback\":null,\"data\":{\"x\":[0,20,40,60,80,100,120,140,160,180,200,220,240],\"y\":{\"__ndarray__\":\"4XpUPz4KFz+amRk/KVwPP65HIT9SuB4/61E4P+tROD9cjwI/exQuP6RwPT/helQ/wvUoPw==\",\"dtype\":\"float32\",\"shape\":[13]}},\"selected\":{\"id\":\"2741\",\"type\":\"Selection\"},\"selection_policy\":{\"id\":\"2742\",\"type\":\"UnionRenderers\"}},\"id\":\"2715\",\"type\":\"ColumnDataSource\"},{\"attributes\":{\"line_color\":\"darkorchid\",\"x\":{\"field\":\"x\"},\"y\":{\"field\":\"y\"}},\"id\":\"2716\",\"type\":\"Line\"},{\"attributes\":{\"line_alpha\":0.1,\"line_color\":\"#1f77b4\",\"x\":{\"field\":\"x\"},\"y\":{\"field\":\"y\"}},\"id\":\"2717\",\"type\":\"Line\"},{\"attributes\":{\"data_source\":{\"id\":\"2715\",\"type\":\"ColumnDataSource\"},\"glyph\":{\"id\":\"2716\",\"type\":\"Line\"},\"hover_glyph\":null,\"muted_glyph\":null,\"nonselection_glyph\":{\"id\":\"2717\",\"type\":\"Line\"},\"selection_glyph\":null,\"view\":{\"id\":\"2719\",\"type\":\"CDSView\"}},\"id\":\"2718\",\"type\":\"GlyphRenderer\"},{\"attributes\":{\"source\":{\"id\":\"2715\",\"type\":\"ColumnDataSource\"}},\"id\":\"2719\",\"type\":\"CDSView\"},{\"attributes\":{},\"id\":\"2726\",\"type\":\"Selection\"},{\"attributes\":{},\"id\":\"2727\",\"type\":\"UnionRenderers\"},{\"attributes\":{\"callback\":null,\"data\":{\"x\":[0,20,40,60,80,100,120,140,160,180,200,220,240],\"y\":{\"__ndarray__\":\"61E4P65HYT5xPYo+PQpXPpDCdT5cj0I+KVwPPutROD49Clc+UriePnsULj7NzEw+AACAPg==\",\"dtype\":\"float32\",\"shape\":[13]}},\"selected\":{\"id\":\"2759\",\"type\":\"Selection\"},\"selection_policy\":{\"id\":\"2760\",\"type\":\"UnionRenderers\"}},\"id\":\"2728\",\"type\":\"ColumnDataSource\"},{\"attributes\":{\"line_color\":\"navy\",\"x\":{\"field\":\"x\"},\"y\":{\"field\":\"y\"}},\"id\":\"2729\",\"type\":\"Line\"},{\"attributes\":{\"line_alpha\":0.1,\"line_color\":\"#1f77b4\",\"x\":{\"field\":\"x\"},\"y\":{\"field\":\"y\"}},\"id\":\"2730\",\"type\":\"Line\"},{\"attributes\":{\"data_source\":{\"id\":\"2728\",\"type\":\"ColumnDataSource\"},\"glyph\":{\"id\":\"2729\",\"type\":\"Line\"},\"hover_glyph\":null,\"muted_glyph\":null,\"nonselection_glyph\":{\"id\":\"2730\",\"type\":\"Line\"},\"selection_glyph\":null,\"view\":{\"id\":\"2732\",\"type\":\"CDSView\"}},\"id\":\"2731\",\"type\":\"GlyphRenderer\"},{\"attributes\":{\"source\":{\"id\":\"2728\",\"type\":\"ColumnDataSource\"}},\"id\":\"2732\",\"type\":\"CDSView\"},{\"attributes\":{},\"id\":\"2741\",\"type\":\"Selection\"},{\"attributes\":{},\"id\":\"2742\",\"type\":\"UnionRenderers\"},{\"attributes\":{\"label\":{\"value\":\"k_ed = 2.5e+10\"},\"renderers\":[{\"id\":\"2731\",\"type\":\"GlyphRenderer\"},{\"id\":\"2747\",\"type\":\"GlyphRenderer\"}]},\"id\":\"2743\",\"type\":\"LegendItem\"},{\"attributes\":{\"callback\":null,\"data\":{\"x\":[0,20,40,60,80,100,120,140,160,180,200,220,240],\"y\":{\"__ndarray__\":\"61E4P3sUrj7NzMw+UriePqRwvT5cj8I+mpmZPs3MzD4Ursc+CtejPqRwvT6kcL0+CtejPg==\",\"dtype\":\"float32\",\"shape\":[13]}},\"selected\":{\"id\":\"2778\",\"type\":\"Selection\"},\"selection_policy\":{\"id\":\"2779\",\"type\":\"UnionRenderers\"}},\"id\":\"2744\",\"type\":\"ColumnDataSource\"},{\"attributes\":{\"line_color\":\"skyblue\",\"x\":{\"field\":\"x\"},\"y\":{\"field\":\"y\"}},\"id\":\"2745\",\"type\":\"Line\"},{\"attributes\":{\"line_alpha\":0.1,\"line_color\":\"#1f77b4\",\"x\":{\"field\":\"x\"},\"y\":{\"field\":\"y\"}},\"id\":\"2746\",\"type\":\"Line\"},{\"attributes\":{\"data_source\":{\"id\":\"2744\",\"type\":\"ColumnDataSource\"},\"glyph\":{\"id\":\"2745\",\"type\":\"Line\"},\"hover_glyph\":null,\"muted_glyph\":null,\"nonselection_glyph\":{\"id\":\"2746\",\"type\":\"Line\"},\"selection_glyph\":null,\"view\":{\"id\":\"2748\",\"type\":\"CDSView\"}},\"id\":\"2747\",\"type\":\"GlyphRenderer\"},{\"attributes\":{\"source\":{\"id\":\"2744\",\"type\":\"ColumnDataSource\"}},\"id\":\"2748\",\"type\":\"CDSView\"},{\"attributes\":{},\"id\":\"2759\",\"type\":\"Selection\"},{\"attributes\":{},\"id\":\"2760\",\"type\":\"UnionRenderers\"},{\"attributes\":{\"callback\":null,\"data\":{\"x\":[0,20,40,60,80,100,120,140,160,180,200,220,240],\"y\":{\"__ndarray__\":\"hetRP5DCdT2QwvU8CtejPZDCdT0K16M9kML1PK5H4T0K1yM9zcxMPetRuD0pXI89KVyPPQ==\",\"dtype\":\"float32\",\"shape\":[13]}},\"selected\":{\"id\":\"2800\",\"type\":\"Selection\"},\"selection_policy\":{\"id\":\"2801\",\"type\":\"UnionRenderers\"}},\"id\":\"2761\",\"type\":\"ColumnDataSource\"},{\"attributes\":{\"line_color\":\"darkred\",\"x\":{\"field\":\"x\"},\"y\":{\"field\":\"y\"}},\"id\":\"2762\",\"type\":\"Line\"},{\"attributes\":{\"line_alpha\":0.1,\"line_color\":\"#1f77b4\",\"x\":{\"field\":\"x\"},\"y\":{\"field\":\"y\"}},\"id\":\"2763\",\"type\":\"Line\"},{\"attributes\":{\"data_source\":{\"id\":\"2761\",\"type\":\"ColumnDataSource\"},\"glyph\":{\"id\":\"2762\",\"type\":\"Line\"},\"hover_glyph\":null,\"muted_glyph\":null,\"nonselection_glyph\":{\"id\":\"2763\",\"type\":\"Line\"},\"selection_glyph\":null,\"view\":{\"id\":\"2765\",\"type\":\"CDSView\"}},\"id\":\"2764\",\"type\":\"GlyphRenderer\"},{\"attributes\":{\"source\":{\"id\":\"2761\",\"type\":\"ColumnDataSource\"}},\"id\":\"2765\",\"type\":\"CDSView\"},{\"attributes\":{},\"id\":\"2778\",\"type\":\"Selection\"},{\"attributes\":{\"source\":{\"id\":\"2879\",\"type\":\"ColumnDataSource\"}},\"id\":\"2883\",\"type\":\"CDSView\"},{\"attributes\":{},\"id\":\"2779\",\"type\":\"UnionRenderers\"},{\"attributes\":{},\"id\":\"2906\",\"type\":\"Selection\"},{\"attributes\":{\"callback\":null,\"data\":{\"x\":[0,20,40,60,80,100,120,140,160,180,200,220,240],\"y\":{\"__ndarray__\":\"KVyPP3sULj4K1yM9kML1PArXoz2QwvU8CtcjPSlcjz0K1yM9CtejPJDCdT2QwvU8kML1PA==\",\"dtype\":\"float32\",\"shape\":[13]}},\"selected\":{\"id\":\"2849\",\"type\":\"Selection\"},\"selection_policy\":{\"id\":\"2850\",\"type\":\"UnionRenderers\"}},\"id\":\"2802\",\"type\":\"ColumnDataSource\"},{\"attributes\":{\"callback\":null,\"data\":{\"x\":[0,20,40,60,80,100,120,140,160,180,200,220,240],\"y\":{\"__ndarray__\":\"16OQP83MTD6QwnU9KVwPPpDC9T3rUbg9rkfhPQrXoz0pXA8+uB4FPgrXIz4K16M9mpkZPg==\",\"dtype\":\"float32\",\"shape\":[13]}},\"selected\":{\"id\":\"2823\",\"type\":\"Selection\"},\"selection_policy\":{\"id\":\"2824\",\"type\":\"UnionRenderers\"}},\"id\":\"2781\",\"type\":\"ColumnDataSource\"},{\"attributes\":{},\"id\":\"2907\",\"type\":\"UnionRenderers\"},{\"attributes\":{\"label\":{\"value\":\"k_ed = 5.e+10\"},\"renderers\":[{\"id\":\"2764\",\"type\":\"GlyphRenderer\"},{\"id\":\"2784\",\"type\":\"GlyphRenderer\"}]},\"id\":\"2780\",\"type\":\"LegendItem\"},{\"attributes\":{},\"id\":\"3030\",\"type\":\"Selection\"},{\"attributes\":{},\"id\":\"2800\",\"type\":\"Selection\"},{\"attributes\":{},\"id\":\"3031\",\"type\":\"UnionRenderers\"},{\"attributes\":{\"line_color\":\"tomato\",\"x\":{\"field\":\"x\"},\"y\":{\"field\":\"y\"}},\"id\":\"2782\",\"type\":\"Line\"},{\"attributes\":{\"line_alpha\":0.1,\"line_color\":\"#1f77b4\",\"x\":{\"field\":\"x\"},\"y\":{\"field\":\"y\"}},\"id\":\"2783\",\"type\":\"Line\"},{\"attributes\":{\"overlay\":{\"id\":\"2712\",\"type\":\"BoxAnnotation\"}},\"id\":\"2689\",\"type\":\"BoxZoomTool\"},{\"attributes\":{\"data_source\":{\"id\":\"2781\",\"type\":\"ColumnDataSource\"},\"glyph\":{\"id\":\"2782\",\"type\":\"Line\"},\"hover_glyph\":null,\"muted_glyph\":null,\"nonselection_glyph\":{\"id\":\"2783\",\"type\":\"Line\"},\"selection_glyph\":null,\"view\":{\"id\":\"2785\",\"type\":\"CDSView\"}},\"id\":\"2784\",\"type\":\"GlyphRenderer\"},{\"attributes\":{\"source\":{\"id\":\"2781\",\"type\":\"ColumnDataSource\"}},\"id\":\"2785\",\"type\":\"CDSView\"},{\"attributes\":{\"line_color\":\"forestgreen\",\"x\":{\"field\":\"x\"},\"y\":{\"field\":\"y\"}},\"id\":\"2803\",\"type\":\"Line\"},{\"attributes\":{},\"id\":\"2688\",\"type\":\"WheelZoomTool\"},{\"attributes\":{},\"id\":\"2801\",\"type\":\"UnionRenderers\"},{\"attributes\":{\"data_source\":{\"id\":\"2802\",\"type\":\"ColumnDataSource\"},\"glyph\":{\"id\":\"2803\",\"type\":\"Line\"},\"hover_glyph\":null,\"muted_glyph\":null,\"nonselection_glyph\":{\"id\":\"2804\",\"type\":\"Line\"},\"selection_glyph\":null,\"view\":{\"id\":\"2806\",\"type\":\"CDSView\"}},\"id\":\"2805\",\"type\":\"GlyphRenderer\"},{\"attributes\":{\"callback\":null,\"data\":{\"x\":[0,20,40,60,80,100,120,140,160,180,200,220,240],\"y\":{\"__ndarray__\":\"9ihcP4XrUT/helQ/16NwP3A9Sj+F61E/AACAP2Zmhj8fhWs/KVxPP3sUbj/2KFw/pHA9Pw==\",\"dtype\":\"float32\",\"shape\":[13]}},\"selected\":{\"id\":\"2726\",\"type\":\"Selection\"},\"selection_policy\":{\"id\":\"2727\",\"type\":\"UnionRenderers\"}},\"id\":\"2702\",\"type\":\"ColumnDataSource\"},{\"attributes\":{\"active_drag\":\"auto\",\"active_inspect\":\"auto\",\"active_multi\":null,\"active_scroll\":\"auto\",\"active_tap\":\"auto\",\"tools\":[{\"id\":\"2687\",\"type\":\"PanTool\"},{\"id\":\"2688\",\"type\":\"WheelZoomTool\"},{\"id\":\"2689\",\"type\":\"BoxZoomTool\"},{\"id\":\"2690\",\"type\":\"SaveTool\"},{\"id\":\"2691\",\"type\":\"ResetTool\"},{\"id\":\"2692\",\"type\":\"HelpTool\"},{\"id\":\"2700\",\"type\":\"HoverTool\"}]},\"id\":\"2693\",\"type\":\"Toolbar\"},{\"attributes\":{\"line_alpha\":0.1,\"line_color\":\"#1f77b4\",\"x\":{\"field\":\"x\"},\"y\":{\"field\":\"y\"}},\"id\":\"2804\",\"type\":\"Line\"},{\"attributes\":{\"source\":{\"id\":\"2802\",\"type\":\"ColumnDataSource\"}},\"id\":\"2806\",\"type\":\"CDSView\"},{\"attributes\":{},\"id\":\"2823\",\"type\":\"Selection\"},{\"attributes\":{},\"id\":\"2692\",\"type\":\"HelpTool\"},{\"attributes\":{},\"id\":\"2824\",\"type\":\"UnionRenderers\"},{\"attributes\":{},\"id\":\"2687\",\"type\":\"PanTool\"},{\"attributes\":{\"label\":{\"value\":\"k_ed = 1.e+11\"},\"renderers\":[{\"id\":\"2805\",\"type\":\"GlyphRenderer\"},{\"id\":\"2829\",\"type\":\"GlyphRenderer\"}]},\"id\":\"2825\",\"type\":\"LegendItem\"},{\"attributes\":{\"callback\":null,\"data\":{\"x\":[0,20,40,60,80,100,120,140,160,180,200,220,240],\"y\":{\"__ndarray__\":\"exSOPylcjz0K16M8CtcjPQrXozwK16M8kML1PArXozwK1yM9AAAAAArXIzwK16M8CtejPA==\",\"dtype\":\"float32\",\"shape\":[13]}},\"selected\":{\"id\":\"2876\",\"type\":\"Selection\"},\"selection_policy\":{\"id\":\"2877\",\"type\":\"UnionRenderers\"}},\"id\":\"2826\",\"type\":\"ColumnDataSource\"},{\"attributes\":{\"line_color\":\"indigo\",\"x\":{\"field\":\"x\"},\"y\":{\"field\":\"y\"}},\"id\":\"2703\",\"type\":\"Line\"},{\"attributes\":{\"label\":{\"value\":\"k_ed = 5.e+11\"},\"renderers\":[{\"id\":\"2854\",\"type\":\"GlyphRenderer\"},{\"id\":\"2882\",\"type\":\"GlyphRenderer\"}]},\"id\":\"2878\",\"type\":\"LegendItem\"},{\"attributes\":{\"line_color\":\"lawngreen\",\"x\":{\"field\":\"x\"},\"y\":{\"field\":\"y\"}},\"id\":\"2827\",\"type\":\"Line\"},{\"attributes\":{\"axis_label\":\"N (defects)\",\"formatter\":{\"id\":\"2708\",\"type\":\"BasicTickFormatter\"},\"ticker\":{\"id\":\"2678\",\"type\":\"BasicTicker\"}},\"id\":\"2677\",\"type\":\"LinearAxis\"},{\"attributes\":{\"line_alpha\":0.1,\"line_color\":\"#1f77b4\",\"x\":{\"field\":\"x\"},\"y\":{\"field\":\"y\"}},\"id\":\"2828\",\"type\":\"Line\"},{\"attributes\":{},\"id\":\"2678\",\"type\":\"BasicTicker\"},{\"attributes\":{\"data_source\":{\"id\":\"2826\",\"type\":\"ColumnDataSource\"},\"glyph\":{\"id\":\"2827\",\"type\":\"Line\"},\"hover_glyph\":null,\"muted_glyph\":null,\"nonselection_glyph\":{\"id\":\"2828\",\"type\":\"Line\"},\"selection_glyph\":null,\"view\":{\"id\":\"2830\",\"type\":\"CDSView\"}},\"id\":\"2829\",\"type\":\"GlyphRenderer\"},{\"attributes\":{\"ticker\":{\"id\":\"2678\",\"type\":\"BasicTicker\"}},\"id\":\"2681\",\"type\":\"Grid\"},{\"attributes\":{\"axis_label\":\"QY (E11)\",\"formatter\":{\"id\":\"2710\",\"type\":\"BasicTickFormatter\"},\"ticker\":{\"id\":\"2683\",\"type\":\"BasicTicker\"}},\"id\":\"2682\",\"type\":\"LinearAxis\"},{\"attributes\":{\"source\":{\"id\":\"2826\",\"type\":\"ColumnDataSource\"}},\"id\":\"2830\",\"type\":\"CDSView\"},{\"attributes\":{},\"id\":\"2683\",\"type\":\"BasicTicker\"},{\"attributes\":{},\"id\":\"2849\",\"type\":\"Selection\"},{\"attributes\":{},\"id\":\"2850\",\"type\":\"UnionRenderers\"},{\"attributes\":{},\"id\":\"2675\",\"type\":\"LinearScale\"},{\"attributes\":{\"callback\":null,\"data\":{\"x\":[0,20,40,60,80,100,120,140,160,180,200,220,240],\"y\":{\"__ndarray__\":\"heuxP5DC9TwAAAAAAAAAAArXIzwAAAAAAAAAAAAAAAAAAAAAAAAAAAAAAAAAAAAAAAAAAA==\",\"dtype\":\"float32\",\"shape\":[13]}},\"selected\":{\"id\":\"2906\",\"type\":\"Selection\"},\"selection_policy\":{\"id\":\"2907\",\"type\":\"UnionRenderers\"}},\"id\":\"2851\",\"type\":\"ColumnDataSource\"},{\"attributes\":{},\"id\":\"2673\",\"type\":\"LinearScale\"},{\"attributes\":{\"line_color\":\"orange\",\"x\":{\"field\":\"x\"},\"y\":{\"field\":\"y\"}},\"id\":\"2852\",\"type\":\"Line\"},{\"attributes\":{\"callback\":null},\"id\":\"2671\",\"type\":\"DataRange1d\"},{\"attributes\":{\"line_alpha\":0.1,\"line_color\":\"#1f77b4\",\"x\":{\"field\":\"x\"},\"y\":{\"field\":\"y\"}},\"id\":\"2853\",\"type\":\"Line\"},{\"attributes\":{\"callback\":null},\"id\":\"2669\",\"type\":\"DataRange1d\"},{\"attributes\":{\"data_source\":{\"id\":\"2851\",\"type\":\"ColumnDataSource\"},\"glyph\":{\"id\":\"2852\",\"type\":\"Line\"},\"hover_glyph\":null,\"muted_glyph\":null,\"nonselection_glyph\":{\"id\":\"2853\",\"type\":\"Line\"},\"selection_glyph\":null,\"view\":{\"id\":\"2855\",\"type\":\"CDSView\"}},\"id\":\"2854\",\"type\":\"GlyphRenderer\"},{\"attributes\":{\"text\":\"Defect Density Relation, l = 300 nm\"},\"id\":\"2667\",\"type\":\"Title\"},{\"attributes\":{\"source\":{\"id\":\"2851\",\"type\":\"ColumnDataSource\"}},\"id\":\"2855\",\"type\":\"CDSView\"},{\"attributes\":{\"line_alpha\":0.1,\"line_color\":\"#1f77b4\",\"x\":{\"field\":\"x\"},\"y\":{\"field\":\"y\"}},\"id\":\"2704\",\"type\":\"Line\"},{\"attributes\":{},\"id\":\"2876\",\"type\":\"Selection\"},{\"attributes\":{\"callback\":null},\"id\":\"2700\",\"type\":\"HoverTool\"},{\"attributes\":{},\"id\":\"2877\",\"type\":\"UnionRenderers\"},{\"attributes\":{\"dimension\":1,\"ticker\":{\"id\":\"2683\",\"type\":\"BasicTicker\"}},\"id\":\"2686\",\"type\":\"Grid\"},{\"attributes\":{\"callback\":null,\"data\":{\"x\":[0,20,40,60,80,100,120,140,160,180,200,220,240],\"y\":{\"__ndarray__\":\"exSuP+tRuD0AAAAAAAAAAArXIzwAAAAAAAAAAAAAAAAAAAAAAAAAAAAAAAAAAAAACtcjPA==\",\"dtype\":\"float32\",\"shape\":[13]}},\"selected\":{\"id\":\"3030\",\"type\":\"Selection\"},\"selection_policy\":{\"id\":\"3031\",\"type\":\"UnionRenderers\"}},\"id\":\"2879\",\"type\":\"ColumnDataSource\"},{\"attributes\":{\"line_color\":\"yellow\",\"x\":{\"field\":\"x\"},\"y\":{\"field\":\"y\"}},\"id\":\"2880\",\"type\":\"Line\"},{\"attributes\":{},\"id\":\"2691\",\"type\":\"ResetTool\"},{\"attributes\":{\"data_source\":{\"id\":\"2879\",\"type\":\"ColumnDataSource\"},\"glyph\":{\"id\":\"2880\",\"type\":\"Line\"},\"hover_glyph\":null,\"muted_glyph\":null,\"nonselection_glyph\":{\"id\":\"2881\",\"type\":\"Line\"},\"selection_glyph\":null,\"view\":{\"id\":\"2883\",\"type\":\"CDSView\"}},\"id\":\"2882\",\"type\":\"GlyphRenderer\"},{\"attributes\":{},\"id\":\"2690\",\"type\":\"SaveTool\"},{\"attributes\":{\"line_alpha\":0.1,\"line_color\":\"#1f77b4\",\"x\":{\"field\":\"x\"},\"y\":{\"field\":\"y\"}},\"id\":\"2881\",\"type\":\"Line\"}],\"root_ids\":[\"2666\"]},\"title\":\"Bokeh Application\",\"version\":\"1.4.0\"}};\n",
       "  var render_items = [{\"docid\":\"e2f73164-ed25-46c7-ac6a-4f81c9c17088\",\"roots\":{\"2666\":\"bb9b1207-1fd3-4506-9534-33c069ccf570\"}}];\n",
       "  root.Bokeh.embed.embed_items_notebook(docs_json, render_items);\n",
       "\n",
       "  }\n",
       "  if (root.Bokeh !== undefined) {\n",
       "    embed_document(root);\n",
       "  } else {\n",
       "    var attempts = 0;\n",
       "    var timer = setInterval(function(root) {\n",
       "      if (root.Bokeh !== undefined) {\n",
       "        clearInterval(timer);\n",
       "        embed_document(root);\n",
       "      } else {\n",
       "        attempts++;\n",
       "        if (attempts > 100) {\n",
       "          clearInterval(timer);\n",
       "          console.log(\"Bokeh: ERROR: Unable to run BokehJS code because BokehJS library is missing\");\n",
       "        }\n",
       "      }\n",
       "    }, 10, root)\n",
       "  }\n",
       "})(window);"
      ],
      "application/vnd.bokehjs_exec.v0+json": ""
     },
     "metadata": {
      "application/vnd.bokehjs_exec.v0+json": {
       "id": "2666"
      }
     },
     "output_type": "display_data"
    }
   ],
   "source": [
    "plot = figure(title='Defect Density Relation, l = 300 nm', width=800, height=400)\n",
    "plot.add_tools(HoverTool())\n",
    "for i, sim in enumerate(defect_depen):\n",
    "    plot.line(sim.calc_dict['n_defects'], sim.QY[:, 1]*100,\n",
    "              legend_label=f'k_ed = {np.format_float_scientific(sim.kin_const[5])}', color=colors[i])\n",
    "plot.xaxis.axis_label = 'N (defects)'\n",
    "plot.yaxis.axis_label = 'QY (E11)'\n",
    "show(plot)"
   ]
  },
  {
   "cell_type": "markdown",
   "metadata": {},
   "source": [
    "# n_defects = 40 (Defect alle 7.5 nm)\n",
    "Using lime green line as 'default'"
   ]
  },
  {
   "cell_type": "code",
   "execution_count": 23,
   "metadata": {},
   "outputs": [],
   "source": [
    "I11s_0 = defect_depen[7].QY[2, 0]*100\n",
    "I11_0 = defect_depen[7].QY[2, 1]*100"
   ]
  },
  {
   "cell_type": "code",
   "execution_count": 24,
   "metadata": {},
   "outputs": [],
   "source": [
    "mask_lower_er = [False if i.kin_const[0]==20000000000.0 else True for i in CNT_sims]"
   ]
  },
  {
   "cell_type": "code",
   "execution_count": 25,
   "metadata": {},
   "outputs": [],
   "source": [
    "defects_k_ed = sorted(list(compress(CNT_sims, mask_lower_er)), key=k_ed_sorting)"
   ]
  },
  {
   "cell_type": "code",
   "execution_count": 26,
   "metadata": {},
   "outputs": [
    {
     "name": "stdout",
     "output_type": "stream",
     "text": [
      "../sim_output/2020-04-26_exciton_sim_4_level-def_7.h5 25000000000.0 15000000000.0\n",
      "../sim_output/2020-04-26_exciton_sim_4_level-def_3.h5 50000000000.0 15000000000.0\n"
     ]
    }
   ],
   "source": [
    "for i in defects_k_ed[2:-4:2]:\n",
    "    print(i, i.kin_const[5], i.kin_const[0])"
   ]
  },
  {
   "cell_type": "code",
   "execution_count": 27,
   "metadata": {},
   "outputs": [],
   "source": [
    "sim_transmission_11s = [sim.QY[2, 0]*100/I11s_0 for sim in defects_k_ed[:-2:2]]\n",
    "sim_transmission_11 = [sim.QY[2, 1]*100/I11_0 for sim in defects_k_ed[:-2:2]]\n",
    "k_const_for_plot = [sim.kin_const[5] for sim in defects_k_ed[:-2:2]]"
   ]
  },
  {
   "cell_type": "code",
   "execution_count": 28,
   "metadata": {
    "scrolled": false
   },
   "outputs": [
    {
     "data": {
      "text/plain": [
       "<matplotlib.legend.Legend at 0x7f7c4c852c88>"
      ]
     },
     "execution_count": 28,
     "metadata": {},
     "output_type": "execute_result"
    },
    {
     "data": {
      "image/png": "[encoded data removed]",
      "text/plain": [
       "<Figure size 432x288 with 1 Axes>"
      ]
     },
     "metadata": {
      "needs_background": "light"
     },
     "output_type": "display_data"
    }
   ],
   "source": [
    "plt.plot(k_const_for_plot, sim_transmission_11s, label='Transmission E11*')\n",
    "plt.plot(k_const_for_plot, sim_transmission_11, label='Transmission E11')\n",
    "plt.legend()"
   ]
  },
  {
   "cell_type": "markdown",
   "metadata": {},
   "source": [
    "# N = 20, defect every  15 nm\n",
    "using tomato line as default"
   ]
  },
  {
   "cell_type": "code",
   "execution_count": 29,
   "metadata": {},
   "outputs": [],
   "source": [
    "I11s_0 = defect_depen[5].QY[1, 0]*100\n",
    "I11_0 = defect_depen[5].QY[1, 1]*100"
   ]
  },
  {
   "cell_type": "code",
   "execution_count": 30,
   "metadata": {},
   "outputs": [],
   "source": [
    "sim_transmission_11s = [sim.QY[1, 0]*100/I11s_0 for sim in defects_k_ed[2:-4:2]]\n",
    "sim_transmission_11 = [sim.QY[1, 1]*100/I11s_0 for sim in defects_k_ed[2:-4:2]]\n",
    "k_const_for_plot = [sim.kin_const[5] for sim in defects_k_ed[2:-4:2]]"
   ]
  },
  {
   "cell_type": "code",
   "execution_count": 31,
   "metadata": {},
   "outputs": [
    {
     "data": {
      "text/plain": [
       "<matplotlib.legend.Legend at 0x7f7c4c32db38>"
      ]
     },
     "execution_count": 31,
     "metadata": {},
     "output_type": "execute_result"
    },
    {
     "data": {
      "image/png": "[encoded data removed]",
      "text/plain": [
       "<Figure size 432x288 with 1 Axes>"
      ]
     },
     "metadata": {
      "needs_background": "light"
     },
     "output_type": "display_data"
    }
   ],
   "source": [
    "plt.plot(k_const_for_plot, sim_transmission_11s, label='Transmission E11*')\n",
    "plt.plot(k_const_for_plot, sim_transmission_11, label='Transmission E11')\n",
    "plt.legend()"
   ]
  },
  {
   "cell_type": "markdown",
   "metadata": {},
   "source": [
    "## Length"
   ]
  },
  {
   "cell_type": "code",
   "execution_count": 32,
   "metadata": {},
   "outputs": [
    {
     "name": "stdout",
     "output_type": "stream",
     "text": [
      "../sim_output/2020-04-26_exciton_sim_4_level-len_2.h5 10000000000.0 20000000000.0\n",
      "../sim_output/2020-04-26_exciton_sim_4_level-len_6.h5 10000000000.0 15000000000.0\n",
      "../sim_output/2020-04-26_exciton_sim_4_level-len_7.h5 25000000000.0 15000000000.0\n",
      "../sim_output/2020-04-24_exciton_sim_4_level-len_4.h5 25000000000.0 20000000000.0\n",
      "../sim_output/2020-04-26_exciton_sim_4_level-len_3.h5 50000000000.0 15000000000.0\n",
      "../sim_output/2020-04-24_exciton_sim_4_level-len_1.h5 50000000000.0 20000000000.0\n",
      "../sim_output/2020-04-26_exciton_sim_4_level-len_1.h5 100000000000.0 20000000000.0\n",
      "../sim_output/2020-04-26_exciton_sim_4_level-len_5.h5 100000000000.0 15000000000.0\n",
      "../sim_output/2020-04-26_exciton_sim_4_level-len_4.h5 500000000000.0 15000000000.0\n",
      "../sim_output/2020-04-24_exciton_sim_4_level-len_2.h5 500000000000.0 20000000000.0\n"
     ]
    }
   ],
   "source": [
    "for i in sorted(CNT_sims, key=k_ed_sorting)[3::2]:\n",
    "    print(i, i.kin_const[5], i.kin_const[0])"
   ]
  },
  {
   "cell_type": "code",
   "execution_count": 33,
   "metadata": {},
   "outputs": [],
   "source": [
    "len_depen = sorted(CNT_sims, key=k_ed_sorting)[3::2]"
   ]
  },
  {
   "cell_type": "code",
   "execution_count": 34,
   "metadata": {},
   "outputs": [
    {
     "data": {
      "text/html": [
       "\n",
       "\n",
       "\n",
       "\n",
       "\n",
       "\n",
       "  <div class=\"bk-root\" id=\"2c9744da-5e4e-460f-9d50-cbd2a0dd10c2\" data-root-id=\"3188\"></div>\n"
      ]
     },
     "metadata": {},
     "output_type": "display_data"
    },
    {
     "data": {
      "application/javascript": [
       "(function(root) {\n",
       "  function embed_document(root) {\n",
       "    \n",
       "  var docs_json = {\"ee08030d-24b1-425f-ad59-6d99bf502bf6\":{\"roots\":{\"references\":[{\"attributes\":{\"below\":[{\"id\":\"3199\",\"type\":\"LinearAxis\"}],\"center\":[{\"id\":\"3203\",\"type\":\"Grid\"},{\"id\":\"3208\",\"type\":\"Grid\"},{\"id\":\"3235\",\"type\":\"Legend\"}],\"left\":[{\"id\":\"3204\",\"type\":\"LinearAxis\"}],\"plot_height\":400,\"plot_width\":800,\"renderers\":[{\"id\":\"3227\",\"type\":\"GlyphRenderer\"},{\"id\":\"3240\",\"type\":\"GlyphRenderer\"},{\"id\":\"3253\",\"type\":\"GlyphRenderer\"},{\"id\":\"3269\",\"type\":\"GlyphRenderer\"},{\"id\":\"3286\",\"type\":\"GlyphRenderer\"},{\"id\":\"3306\",\"type\":\"GlyphRenderer\"},{\"id\":\"3327\",\"type\":\"GlyphRenderer\"},{\"id\":\"3351\",\"type\":\"GlyphRenderer\"},{\"id\":\"3376\",\"type\":\"GlyphRenderer\"},{\"id\":\"3404\",\"type\":\"GlyphRenderer\"}],\"title\":{\"id\":\"3189\",\"type\":\"Title\"},\"toolbar\":{\"id\":\"3215\",\"type\":\"Toolbar\"},\"x_range\":{\"id\":\"3191\",\"type\":\"DataRange1d\"},\"x_scale\":{\"id\":\"3195\",\"type\":\"LinearScale\"},\"y_range\":{\"id\":\"3193\",\"type\":\"DataRange1d\"},\"y_scale\":{\"id\":\"3197\",\"type\":\"LinearScale\"}},\"id\":\"3188\",\"subtype\":\"Figure\",\"type\":\"Plot\"},{\"attributes\":{\"active_drag\":\"auto\",\"active_inspect\":\"auto\",\"active_multi\":null,\"active_scroll\":\"auto\",\"active_tap\":\"auto\",\"tools\":[{\"id\":\"3209\",\"type\":\"PanTool\"},{\"id\":\"3210\",\"type\":\"WheelZoomTool\"},{\"id\":\"3211\",\"type\":\"BoxZoomTool\"},{\"id\":\"3212\",\"type\":\"SaveTool\"},{\"id\":\"3213\",\"type\":\"ResetTool\"},{\"id\":\"3214\",\"type\":\"HelpTool\"},{\"id\":\"3222\",\"type\":\"HoverTool\"}]},\"id\":\"3215\",\"type\":\"Toolbar\"},{\"attributes\":{\"label\":{\"value\":\"k_ed = 5.e+10\"},\"renderers\":[{\"id\":\"3286\",\"type\":\"GlyphRenderer\"},{\"id\":\"3306\",\"type\":\"GlyphRenderer\"}]},\"id\":\"3302\",\"type\":\"LegendItem\"},{\"attributes\":{\"line_color\":\"forestgreen\",\"x\":{\"field\":\"x\"},\"y\":{\"field\":\"y\"}},\"id\":\"3325\",\"type\":\"Line\"},{\"attributes\":{\"line_alpha\":0.1,\"line_color\":\"#1f77b4\",\"x\":{\"field\":\"x\"},\"y\":{\"field\":\"y\"}},\"id\":\"3226\",\"type\":\"Line\"},{\"attributes\":{},\"id\":\"3214\",\"type\":\"HelpTool\"},{\"attributes\":{},\"id\":\"3322\",\"type\":\"Selection\"},{\"attributes\":{\"callback\":null},\"id\":\"3191\",\"type\":\"DataRange1d\"},{\"attributes\":{\"callback\":null,\"data\":{\"x\":{\"__ndarray__\":\"AAAAAAAAAEAAAAAAAAAIQAAAAAAAABBAAAAAAAAAGEAAAAAAAAAgQAAAAAAAACRAAAAAAAAALkAAAAAAAAA5QAAAAAAAAERAAAAAAAAATkA=\",\"dtype\":\"float64\",\"shape\":[10]},\"y\":{\"__ndarray__\":\"AAAAAM3MTD3NzEw+XI9CPj0K1z7Xo/A+9ihcP0jh2j8+CidAheuJQA==\",\"dtype\":\"float32\",\"shape\":[10]}},\"selected\":{\"id\":\"3371\",\"type\":\"Selection\"},\"selection_policy\":{\"id\":\"3372\",\"type\":\"UnionRenderers\"}},\"id\":\"3324\",\"type\":\"ColumnDataSource\"},{\"attributes\":{\"callback\":null},\"id\":\"3222\",\"type\":\"HoverTool\"},{\"attributes\":{\"callback\":null,\"data\":{\"x\":{\"__ndarray__\":\"AAAAAAAAAEAAAAAAAAAIQAAAAAAAABBAAAAAAAAAGEAAAAAAAAAgQAAAAAAAACRAAAAAAAAALkAAAAAAAAA5QAAAAAAAAERAAAAAAAAATkA=\",\"dtype\":\"float64\",\"shape\":[10]},\"y\":{\"__ndarray__\":\"AAAAAAAAAAAK16M8kML1PJDC9TyQwvU8CtcjPa5H4T2uR2E+61G4Pg==\",\"dtype\":\"float32\",\"shape\":[10]}},\"selected\":{\"id\":\"3248\",\"type\":\"Selection\"},\"selection_policy\":{\"id\":\"3249\",\"type\":\"UnionRenderers\"}},\"id\":\"3224\",\"type\":\"ColumnDataSource\"},{\"attributes\":{\"callback\":null,\"data\":{\"x\":{\"__ndarray__\":\"AAAAAAAAAEAAAAAAAAAIQAAAAAAAABBAAAAAAAAAGEAAAAAAAAAgQAAAAAAAACRAAAAAAAAALkAAAAAAAAA5QAAAAAAAAERAAAAAAAAATkA=\",\"dtype\":\"float64\",\"shape\":[10]},\"y\":{\"__ndarray__\":\"AAAAAArXIzwpXI89CtcjPsL1qD4K16M+H4XrPtejMD9wPco/9ij8Pw==\",\"dtype\":\"float32\",\"shape\":[10]}},\"selected\":{\"id\":\"3300\",\"type\":\"Selection\"},\"selection_policy\":{\"id\":\"3301\",\"type\":\"UnionRenderers\"}},\"id\":\"3266\",\"type\":\"ColumnDataSource\"},{\"attributes\":{},\"id\":\"3209\",\"type\":\"PanTool\"},{\"attributes\":{},\"id\":\"3301\",\"type\":\"UnionRenderers\"},{\"attributes\":{\"line_color\":\"tomato\",\"x\":{\"field\":\"x\"},\"y\":{\"field\":\"y\"}},\"id\":\"3304\",\"type\":\"Line\"},{\"attributes\":{},\"id\":\"3195\",\"type\":\"LinearScale\"},{\"attributes\":{\"line_color\":\"indigo\",\"x\":{\"field\":\"x\"},\"y\":{\"field\":\"y\"}},\"id\":\"3225\",\"type\":\"Line\"},{\"attributes\":{\"line_alpha\":0.1,\"line_color\":\"#1f77b4\",\"x\":{\"field\":\"x\"},\"y\":{\"field\":\"y\"}},\"id\":\"3252\",\"type\":\"Line\"},{\"attributes\":{},\"id\":\"3323\",\"type\":\"UnionRenderers\"},{\"attributes\":{},\"id\":\"3210\",\"type\":\"WheelZoomTool\"},{\"attributes\":{\"line_alpha\":0.1,\"line_color\":\"#1f77b4\",\"x\":{\"field\":\"x\"},\"y\":{\"field\":\"y\"}},\"id\":\"3239\",\"type\":\"Line\"},{\"attributes\":{\"source\":{\"id\":\"3303\",\"type\":\"ColumnDataSource\"}},\"id\":\"3307\",\"type\":\"CDSView\"},{\"attributes\":{\"line_alpha\":0.1,\"line_color\":\"#1f77b4\",\"x\":{\"field\":\"x\"},\"y\":{\"field\":\"y\"}},\"id\":\"3305\",\"type\":\"Line\"},{\"attributes\":{},\"id\":\"3300\",\"type\":\"Selection\"},{\"attributes\":{\"dimension\":1,\"ticker\":{\"id\":\"3205\",\"type\":\"BasicTicker\"}},\"id\":\"3208\",\"type\":\"Grid\"},{\"attributes\":{\"data_source\":{\"id\":\"3303\",\"type\":\"ColumnDataSource\"},\"glyph\":{\"id\":\"3304\",\"type\":\"Line\"},\"hover_glyph\":null,\"muted_glyph\":null,\"nonselection_glyph\":{\"id\":\"3305\",\"type\":\"Line\"},\"selection_glyph\":null,\"view\":{\"id\":\"3307\",\"type\":\"CDSView\"}},\"id\":\"3306\",\"type\":\"GlyphRenderer\"},{\"attributes\":{},\"id\":\"3197\",\"type\":\"LinearScale\"},{\"attributes\":{\"source\":{\"id\":\"3250\",\"type\":\"ColumnDataSource\"}},\"id\":\"3254\",\"type\":\"CDSView\"},{\"attributes\":{\"source\":{\"id\":\"3283\",\"type\":\"ColumnDataSource\"}},\"id\":\"3287\",\"type\":\"CDSView\"},{\"attributes\":{},\"id\":\"3263\",\"type\":\"Selection\"},{\"attributes\":{\"axis_label\":\"QY (E11*)\",\"formatter\":{\"id\":\"3232\",\"type\":\"BasicTickFormatter\"},\"ticker\":{\"id\":\"3205\",\"type\":\"BasicTicker\"}},\"id\":\"3204\",\"type\":\"LinearAxis\"},{\"attributes\":{\"axis_label\":\"N (defects)\",\"formatter\":{\"id\":\"3230\",\"type\":\"BasicTickFormatter\"},\"ticker\":{\"id\":\"3200\",\"type\":\"BasicTicker\"}},\"id\":\"3199\",\"type\":\"LinearAxis\"},{\"attributes\":{\"label\":{\"value\":\"k_ed = 2.5e+10\"},\"renderers\":[{\"id\":\"3253\",\"type\":\"GlyphRenderer\"},{\"id\":\"3269\",\"type\":\"GlyphRenderer\"}]},\"id\":\"3265\",\"type\":\"LegendItem\"},{\"attributes\":{\"callback\":null},\"id\":\"3193\",\"type\":\"DataRange1d\"},{\"attributes\":{\"overlay\":{\"id\":\"3234\",\"type\":\"BoxAnnotation\"}},\"id\":\"3211\",\"type\":\"BoxZoomTool\"},{\"attributes\":{\"text\":\"Defect Density Relation, l = 300 nm\"},\"id\":\"3189\",\"type\":\"Title\"},{\"attributes\":{\"callback\":null,\"data\":{\"x\":{\"__ndarray__\":\"AAAAAAAAAEAAAAAAAAAIQAAAAAAAABBAAAAAAAAAGEAAAAAAAAAgQAAAAAAAACRAAAAAAAAALkAAAAAAAAA5QAAAAAAAAERAAAAAAAAATkA=\",\"dtype\":\"float64\",\"shape\":[10]},\"y\":{\"__ndarray__\":\"AAAAAClcjz24HgU+61E4Pj0KVz40M7M+wvUoPzMzkz8+ChdA4npkQA==\",\"dtype\":\"float32\",\"shape\":[10]}},\"selected\":{\"id\":\"3345\",\"type\":\"Selection\"},\"selection_policy\":{\"id\":\"3346\",\"type\":\"UnionRenderers\"}},\"id\":\"3303\",\"type\":\"ColumnDataSource\"},{\"attributes\":{\"data_source\":{\"id\":\"3237\",\"type\":\"ColumnDataSource\"},\"glyph\":{\"id\":\"3238\",\"type\":\"Line\"},\"hover_glyph\":null,\"muted_glyph\":null,\"nonselection_glyph\":{\"id\":\"3239\",\"type\":\"Line\"},\"selection_glyph\":null,\"view\":{\"id\":\"3241\",\"type\":\"CDSView\"}},\"id\":\"3240\",\"type\":\"GlyphRenderer\"},{\"attributes\":{\"line_color\":\"skyblue\",\"x\":{\"field\":\"x\"},\"y\":{\"field\":\"y\"}},\"id\":\"3267\",\"type\":\"Line\"},{\"attributes\":{\"source\":{\"id\":\"3266\",\"type\":\"ColumnDataSource\"}},\"id\":\"3270\",\"type\":\"CDSView\"},{\"attributes\":{\"data_source\":{\"id\":\"3266\",\"type\":\"ColumnDataSource\"},\"glyph\":{\"id\":\"3267\",\"type\":\"Line\"},\"hover_glyph\":null,\"muted_glyph\":null,\"nonselection_glyph\":{\"id\":\"3268\",\"type\":\"Line\"},\"selection_glyph\":null,\"view\":{\"id\":\"3270\",\"type\":\"CDSView\"}},\"id\":\"3269\",\"type\":\"GlyphRenderer\"},{\"attributes\":{\"line_alpha\":0.1,\"line_color\":\"#1f77b4\",\"x\":{\"field\":\"x\"},\"y\":{\"field\":\"y\"}},\"id\":\"3268\",\"type\":\"Line\"},{\"attributes\":{},\"id\":\"3248\",\"type\":\"Selection\"},{\"attributes\":{\"line_color\":\"darkorchid\",\"x\":{\"field\":\"x\"},\"y\":{\"field\":\"y\"}},\"id\":\"3238\",\"type\":\"Line\"},{\"attributes\":{\"data_source\":{\"id\":\"3283\",\"type\":\"ColumnDataSource\"},\"glyph\":{\"id\":\"3284\",\"type\":\"Line\"},\"hover_glyph\":null,\"muted_glyph\":null,\"nonselection_glyph\":{\"id\":\"3285\",\"type\":\"Line\"},\"selection_glyph\":null,\"view\":{\"id\":\"3287\",\"type\":\"CDSView\"}},\"id\":\"3286\",\"type\":\"GlyphRenderer\"},{\"attributes\":{},\"id\":\"3232\",\"type\":\"BasicTickFormatter\"},{\"attributes\":{},\"id\":\"3205\",\"type\":\"BasicTicker\"},{\"attributes\":{},\"id\":\"3213\",\"type\":\"ResetTool\"},{\"attributes\":{\"callback\":null,\"data\":{\"x\":{\"__ndarray__\":\"AAAAAAAAAEAAAAAAAAAIQAAAAAAAABBAAAAAAAAAGEAAAAAAAAAgQAAAAAAAACRAAAAAAAAALkAAAAAAAAA5QAAAAAAAAERAAAAAAAAATkA=\",\"dtype\":\"float64\",\"shape\":[10]},\"y\":{\"__ndarray__\":\"AAAAAJDC9TyQwnU961E4PnsULj4K16M+H4XrPutROD8AAKA/PQoHQA==\",\"dtype\":\"float32\",\"shape\":[10]}},\"selected\":{\"id\":\"3281\",\"type\":\"Selection\"},\"selection_policy\":{\"id\":\"3282\",\"type\":\"UnionRenderers\"}},\"id\":\"3250\",\"type\":\"ColumnDataSource\"},{\"attributes\":{\"items\":[{\"id\":\"3236\",\"type\":\"LegendItem\"},{\"id\":\"3265\",\"type\":\"LegendItem\"},{\"id\":\"3302\",\"type\":\"LegendItem\"},{\"id\":\"3347\",\"type\":\"LegendItem\"},{\"id\":\"3400\",\"type\":\"LegendItem\"}]},\"id\":\"3235\",\"type\":\"Legend\"},{\"attributes\":{\"line_alpha\":0.1,\"line_color\":\"#1f77b4\",\"x\":{\"field\":\"x\"},\"y\":{\"field\":\"y\"}},\"id\":\"3285\",\"type\":\"Line\"},{\"attributes\":{},\"id\":\"3264\",\"type\":\"UnionRenderers\"},{\"attributes\":{\"data_source\":{\"id\":\"3224\",\"type\":\"ColumnDataSource\"},\"glyph\":{\"id\":\"3225\",\"type\":\"Line\"},\"hover_glyph\":null,\"muted_glyph\":null,\"nonselection_glyph\":{\"id\":\"3226\",\"type\":\"Line\"},\"selection_glyph\":null,\"view\":{\"id\":\"3228\",\"type\":\"CDSView\"}},\"id\":\"3227\",\"type\":\"GlyphRenderer\"},{\"attributes\":{\"line_color\":\"darkred\",\"x\":{\"field\":\"x\"},\"y\":{\"field\":\"y\"}},\"id\":\"3284\",\"type\":\"Line\"},{\"attributes\":{\"line_color\":\"navy\",\"x\":{\"field\":\"x\"},\"y\":{\"field\":\"y\"}},\"id\":\"3251\",\"type\":\"Line\"},{\"attributes\":{\"callback\":null,\"data\":{\"x\":{\"__ndarray__\":\"AAAAAAAAAEAAAAAAAAAIQAAAAAAAABBAAAAAAAAAGEAAAAAAAAAgQAAAAAAAACRAAAAAAAAALkAAAAAAAAA5QAAAAAAAAERAAAAAAAAATkA=\",\"dtype\":\"float64\",\"shape\":[10]},\"y\":{\"__ndarray__\":\"AAAAAArXozzNzEw9kML1PZqZmT6QwvU+FK4HP1yPgj8zMwNAuB5FQA==\",\"dtype\":\"float32\",\"shape\":[10]}},\"selected\":{\"id\":\"3322\",\"type\":\"Selection\"},\"selection_policy\":{\"id\":\"3323\",\"type\":\"UnionRenderers\"}},\"id\":\"3283\",\"type\":\"ColumnDataSource\"},{\"attributes\":{\"label\":{\"value\":\"k_ed = 1.e+10\"},\"renderers\":[{\"id\":\"3227\",\"type\":\"GlyphRenderer\"},{\"id\":\"3240\",\"type\":\"GlyphRenderer\"}]},\"id\":\"3236\",\"type\":\"LegendItem\"},{\"attributes\":{\"callback\":null,\"data\":{\"x\":{\"__ndarray__\":\"AAAAAAAAAEAAAAAAAAAIQAAAAAAAABBAAAAAAAAAGEAAAAAAAAAgQAAAAAAAACRAAAAAAAAALkAAAAAAAAA5QAAAAAAAAERAAAAAAAAATkA=\",\"dtype\":\"float64\",\"shape\":[10]},\"y\":{\"__ndarray__\":\"AAAAAAAAAACQwvU8kML1PArXozyQwvU8KVyPPXsULj6amZk+9ijcPg==\",\"dtype\":\"float32\",\"shape\":[10]}},\"selected\":{\"id\":\"3263\",\"type\":\"Selection\"},\"selection_policy\":{\"id\":\"3264\",\"type\":\"UnionRenderers\"}},\"id\":\"3237\",\"type\":\"ColumnDataSource\"},{\"attributes\":{},\"id\":\"3282\",\"type\":\"UnionRenderers\"},{\"attributes\":{},\"id\":\"3249\",\"type\":\"UnionRenderers\"},{\"attributes\":{},\"id\":\"3281\",\"type\":\"Selection\"},{\"attributes\":{\"line_alpha\":0.1,\"line_color\":\"#1f77b4\",\"x\":{\"field\":\"x\"},\"y\":{\"field\":\"y\"}},\"id\":\"3326\",\"type\":\"Line\"},{\"attributes\":{\"ticker\":{\"id\":\"3200\",\"type\":\"BasicTicker\"}},\"id\":\"3203\",\"type\":\"Grid\"},{\"attributes\":{\"data_source\":{\"id\":\"3324\",\"type\":\"ColumnDataSource\"},\"glyph\":{\"id\":\"3325\",\"type\":\"Line\"},\"hover_glyph\":null,\"muted_glyph\":null,\"nonselection_glyph\":{\"id\":\"3326\",\"type\":\"Line\"},\"selection_glyph\":null,\"view\":{\"id\":\"3328\",\"type\":\"CDSView\"}},\"id\":\"3327\",\"type\":\"GlyphRenderer\"},{\"attributes\":{\"source\":{\"id\":\"3237\",\"type\":\"ColumnDataSource\"}},\"id\":\"3241\",\"type\":\"CDSView\"},{\"attributes\":{\"source\":{\"id\":\"3324\",\"type\":\"ColumnDataSource\"}},\"id\":\"3328\",\"type\":\"CDSView\"},{\"attributes\":{},\"id\":\"3345\",\"type\":\"Selection\"},{\"attributes\":{\"data_source\":{\"id\":\"3250\",\"type\":\"ColumnDataSource\"},\"glyph\":{\"id\":\"3251\",\"type\":\"Line\"},\"hover_glyph\":null,\"muted_glyph\":null,\"nonselection_glyph\":{\"id\":\"3252\",\"type\":\"Line\"},\"selection_glyph\":null,\"view\":{\"id\":\"3254\",\"type\":\"CDSView\"}},\"id\":\"3253\",\"type\":\"GlyphRenderer\"},{\"attributes\":{\"source\":{\"id\":\"3224\",\"type\":\"ColumnDataSource\"}},\"id\":\"3228\",\"type\":\"CDSView\"},{\"attributes\":{},\"id\":\"3346\",\"type\":\"UnionRenderers\"},{\"attributes\":{\"label\":{\"value\":\"k_ed = 1.e+11\"},\"renderers\":[{\"id\":\"3327\",\"type\":\"GlyphRenderer\"},{\"id\":\"3351\",\"type\":\"GlyphRenderer\"}]},\"id\":\"3347\",\"type\":\"LegendItem\"},{\"attributes\":{},\"id\":\"3212\",\"type\":\"SaveTool\"},{\"attributes\":{\"bottom_units\":\"screen\",\"fill_alpha\":{\"value\":0.5},\"fill_color\":{\"value\":\"lightgrey\"},\"left_units\":\"screen\",\"level\":\"overlay\",\"line_alpha\":{\"value\":1.0},\"line_color\":{\"value\":\"black\"},\"line_dash\":[4,4],\"line_width\":{\"value\":2},\"render_mode\":\"css\",\"right_units\":\"screen\",\"top_units\":\"screen\"},\"id\":\"3234\",\"type\":\"BoxAnnotation\"},{\"attributes\":{\"callback\":null,\"data\":{\"x\":{\"__ndarray__\":\"AAAAAAAAAEAAAAAAAAAIQAAAAAAAABBAAAAAAAAAGEAAAAAAAAAgQAAAAAAAACRAAAAAAAAALkAAAAAAAAA5QAAAAAAAAERAAAAAAAAATkA=\",\"dtype\":\"float64\",\"shape\":[10]},\"y\":{\"__ndarray__\":\"AAAAAArXIz0pXI89mpkZPh+Faz6uRyE/hetRP1yPwj/XoyBAKVxvQA==\",\"dtype\":\"float32\",\"shape\":[10]}},\"selected\":{\"id\":\"3398\",\"type\":\"Selection\"},\"selection_policy\":{\"id\":\"3399\",\"type\":\"UnionRenderers\"}},\"id\":\"3348\",\"type\":\"ColumnDataSource\"},{\"attributes\":{},\"id\":\"3230\",\"type\":\"BasicTickFormatter\"},{\"attributes\":{\"line_color\":\"lawngreen\",\"x\":{\"field\":\"x\"},\"y\":{\"field\":\"y\"}},\"id\":\"3349\",\"type\":\"Line\"},{\"attributes\":{\"line_alpha\":0.1,\"line_color\":\"#1f77b4\",\"x\":{\"field\":\"x\"},\"y\":{\"field\":\"y\"}},\"id\":\"3350\",\"type\":\"Line\"},{\"attributes\":{\"data_source\":{\"id\":\"3348\",\"type\":\"ColumnDataSource\"},\"glyph\":{\"id\":\"3349\",\"type\":\"Line\"},\"hover_glyph\":null,\"muted_glyph\":null,\"nonselection_glyph\":{\"id\":\"3350\",\"type\":\"Line\"},\"selection_glyph\":null,\"view\":{\"id\":\"3352\",\"type\":\"CDSView\"}},\"id\":\"3351\",\"type\":\"GlyphRenderer\"},{\"attributes\":{\"source\":{\"id\":\"3348\",\"type\":\"ColumnDataSource\"}},\"id\":\"3352\",\"type\":\"CDSView\"},{\"attributes\":{},\"id\":\"3371\",\"type\":\"Selection\"},{\"attributes\":{},\"id\":\"3372\",\"type\":\"UnionRenderers\"},{\"attributes\":{\"callback\":null,\"data\":{\"x\":{\"__ndarray__\":\"AAAAAAAAAEAAAAAAAAAIQAAAAAAAABBAAAAAAAAAGEAAAAAAAAAgQAAAAAAAACRAAAAAAAAALkAAAAAAAAA5QAAAAAAAAERAAAAAAAAATkA=\",\"dtype\":\"float64\",\"shape\":[10]},\"y\":{\"__ndarray__\":\"AAAAAArXozyQwvU9pHC9PlyPwj5SuB4/FK6HP65H4T/2KDxAmpmJQA==\",\"dtype\":\"float32\",\"shape\":[10]}},\"selected\":{\"id\":\"3428\",\"type\":\"Selection\"},\"selection_policy\":{\"id\":\"3429\",\"type\":\"UnionRenderers\"}},\"id\":\"3373\",\"type\":\"ColumnDataSource\"},{\"attributes\":{\"line_color\":\"orange\",\"x\":{\"field\":\"x\"},\"y\":{\"field\":\"y\"}},\"id\":\"3374\",\"type\":\"Line\"},{\"attributes\":{\"line_alpha\":0.1,\"line_color\":\"#1f77b4\",\"x\":{\"field\":\"x\"},\"y\":{\"field\":\"y\"}},\"id\":\"3375\",\"type\":\"Line\"},{\"attributes\":{\"data_source\":{\"id\":\"3373\",\"type\":\"ColumnDataSource\"},\"glyph\":{\"id\":\"3374\",\"type\":\"Line\"},\"hover_glyph\":null,\"muted_glyph\":null,\"nonselection_glyph\":{\"id\":\"3375\",\"type\":\"Line\"},\"selection_glyph\":null,\"view\":{\"id\":\"3377\",\"type\":\"CDSView\"}},\"id\":\"3376\",\"type\":\"GlyphRenderer\"},{\"attributes\":{\"source\":{\"id\":\"3373\",\"type\":\"ColumnDataSource\"}},\"id\":\"3377\",\"type\":\"CDSView\"},{\"attributes\":{},\"id\":\"3200\",\"type\":\"BasicTicker\"},{\"attributes\":{},\"id\":\"3398\",\"type\":\"Selection\"},{\"attributes\":{},\"id\":\"3399\",\"type\":\"UnionRenderers\"},{\"attributes\":{\"label\":{\"value\":\"k_ed = 5.e+11\"},\"renderers\":[{\"id\":\"3376\",\"type\":\"GlyphRenderer\"},{\"id\":\"3404\",\"type\":\"GlyphRenderer\"}]},\"id\":\"3400\",\"type\":\"LegendItem\"},{\"attributes\":{\"callback\":null,\"data\":{\"x\":{\"__ndarray__\":\"AAAAAAAAAEAAAAAAAAAIQAAAAAAAABBAAAAAAAAAGEAAAAAAAAAgQAAAAAAAACRAAAAAAAAALkAAAAAAAAA5QAAAAAAAAERAAAAAAAAATkA=\",\"dtype\":\"float64\",\"shape\":[10]},\"y\":{\"__ndarray__\":\"AAAAAArXozwpXA8+4XqUPgAAAD8pXE8/zcyMP/Yo3D9I4VpA9iicQA==\",\"dtype\":\"float32\",\"shape\":[10]}},\"selected\":{\"id\":\"3578\",\"type\":\"Selection\"},\"selection_policy\":{\"id\":\"3579\",\"type\":\"UnionRenderers\"}},\"id\":\"3401\",\"type\":\"ColumnDataSource\"},{\"attributes\":{\"line_color\":\"yellow\",\"x\":{\"field\":\"x\"},\"y\":{\"field\":\"y\"}},\"id\":\"3402\",\"type\":\"Line\"},{\"attributes\":{\"line_alpha\":0.1,\"line_color\":\"#1f77b4\",\"x\":{\"field\":\"x\"},\"y\":{\"field\":\"y\"}},\"id\":\"3403\",\"type\":\"Line\"},{\"attributes\":{\"data_source\":{\"id\":\"3401\",\"type\":\"ColumnDataSource\"},\"glyph\":{\"id\":\"3402\",\"type\":\"Line\"},\"hover_glyph\":null,\"muted_glyph\":null,\"nonselection_glyph\":{\"id\":\"3403\",\"type\":\"Line\"},\"selection_glyph\":null,\"view\":{\"id\":\"3405\",\"type\":\"CDSView\"}},\"id\":\"3404\",\"type\":\"GlyphRenderer\"},{\"attributes\":{\"source\":{\"id\":\"3401\",\"type\":\"ColumnDataSource\"}},\"id\":\"3405\",\"type\":\"CDSView\"},{\"attributes\":{},\"id\":\"3428\",\"type\":\"Selection\"},{\"attributes\":{},\"id\":\"3429\",\"type\":\"UnionRenderers\"},{\"attributes\":{},\"id\":\"3578\",\"type\":\"Selection\"},{\"attributes\":{},\"id\":\"3579\",\"type\":\"UnionRenderers\"}],\"root_ids\":[\"3188\"]},\"title\":\"Bokeh Application\",\"version\":\"1.4.0\"}};\n",
       "  var render_items = [{\"docid\":\"ee08030d-24b1-425f-ad59-6d99bf502bf6\",\"roots\":{\"3188\":\"2c9744da-5e4e-460f-9d50-cbd2a0dd10c2\"}}];\n",
       "  root.Bokeh.embed.embed_items_notebook(docs_json, render_items);\n",
       "\n",
       "  }\n",
       "  if (root.Bokeh !== undefined) {\n",
       "    embed_document(root);\n",
       "  } else {\n",
       "    var attempts = 0;\n",
       "    var timer = setInterval(function(root) {\n",
       "      if (root.Bokeh !== undefined) {\n",
       "        clearInterval(timer);\n",
       "        embed_document(root);\n",
       "      } else {\n",
       "        attempts++;\n",
       "        if (attempts > 100) {\n",
       "          clearInterval(timer);\n",
       "          console.log(\"Bokeh: ERROR: Unable to run BokehJS code because BokehJS library is missing\");\n",
       "        }\n",
       "      }\n",
       "    }, 10, root)\n",
       "  }\n",
       "})(window);"
      ],
      "application/vnd.bokehjs_exec.v0+json": ""
     },
     "metadata": {
      "application/vnd.bokehjs_exec.v0+json": {
       "id": "3188"
      }
     },
     "output_type": "display_data"
    }
   ],
   "source": [
    "plot = figure(title='Defect Density Relation, l = 300 nm', width=800, height=400)\n",
    "plot.add_tools(HoverTool())\n",
    "for i, sim in enumerate(len_depen):\n",
    "    plot.line(sim.calc_dict['n_defects'], sim.QY[:, 0]*100,\n",
    "              legend_label=f'k_ed = {np.format_float_scientific(sim.kin_const[5])}',\n",
    "              color=colors[i])\n",
    "plot.xaxis.axis_label = 'N (defects)'\n",
    "plot.yaxis.axis_label = 'QY (E11*)'\n",
    "show(plot)"
   ]
  },
  {
   "cell_type": "code",
   "execution_count": 35,
   "metadata": {},
   "outputs": [
    {
     "data": {
      "text/html": [
       "\n",
       "\n",
       "\n",
       "\n",
       "\n",
       "\n",
       "  <div class=\"bk-root\" id=\"01923388-585b-4e33-a591-34c2c7d40c86\" data-root-id=\"3736\"></div>\n"
      ]
     },
     "metadata": {},
     "output_type": "display_data"
    },
    {
     "data": {
      "application/javascript": [
       "(function(root) {\n",
       "  function embed_document(root) {\n",
       "    \n",
       "  var docs_json = {\"2328da3b-8a51-4272-8236-9cb4e986d0be\":{\"roots\":{\"references\":[{\"attributes\":{\"below\":[{\"id\":\"3747\",\"type\":\"LinearAxis\"}],\"center\":[{\"id\":\"3751\",\"type\":\"Grid\"},{\"id\":\"3756\",\"type\":\"Grid\"},{\"id\":\"3783\",\"type\":\"Legend\"}],\"left\":[{\"id\":\"3752\",\"type\":\"LinearAxis\"}],\"plot_height\":400,\"plot_width\":800,\"renderers\":[{\"id\":\"3775\",\"type\":\"GlyphRenderer\"},{\"id\":\"3788\",\"type\":\"GlyphRenderer\"},{\"id\":\"3801\",\"type\":\"GlyphRenderer\"},{\"id\":\"3817\",\"type\":\"GlyphRenderer\"},{\"id\":\"3834\",\"type\":\"GlyphRenderer\"},{\"id\":\"3854\",\"type\":\"GlyphRenderer\"},{\"id\":\"3875\",\"type\":\"GlyphRenderer\"},{\"id\":\"3899\",\"type\":\"GlyphRenderer\"},{\"id\":\"3924\",\"type\":\"GlyphRenderer\"},{\"id\":\"3952\",\"type\":\"GlyphRenderer\"}],\"title\":{\"id\":\"3737\",\"type\":\"Title\"},\"toolbar\":{\"id\":\"3763\",\"type\":\"Toolbar\"},\"x_range\":{\"id\":\"3739\",\"type\":\"DataRange1d\"},\"x_scale\":{\"id\":\"3743\",\"type\":\"LinearScale\"},\"y_range\":{\"id\":\"3741\",\"type\":\"DataRange1d\"},\"y_scale\":{\"id\":\"3745\",\"type\":\"LinearScale\"}},\"id\":\"3736\",\"subtype\":\"Figure\",\"type\":\"Plot\"},{\"attributes\":{},\"id\":\"3894\",\"type\":\"UnionRenderers\"},{\"attributes\":{\"label\":{\"value\":\"k_ed = 1.e+11\"},\"renderers\":[{\"id\":\"3875\",\"type\":\"GlyphRenderer\"},{\"id\":\"3899\",\"type\":\"GlyphRenderer\"}]},\"id\":\"3895\",\"type\":\"LegendItem\"},{\"attributes\":{\"callback\":null,\"data\":{\"x\":{\"__ndarray__\":\"AAAAAAAAAEAAAAAAAAAIQAAAAAAAABBAAAAAAAAAGEAAAAAAAAAgQAAAAAAAACRAAAAAAAAALkAAAAAAAAA5QAAAAAAAAERAAAAAAAAATkA=\",\"dtype\":\"float64\",\"shape\":[10]},\"y\":{\"__ndarray__\":\"AAAAAAAAAAAK1yM8AAAAAArXozzNzEw9KVwPPq5HYT4fhes+AABAPw==\",\"dtype\":\"float32\",\"shape\":[10]}},\"selected\":{\"id\":\"3946\",\"type\":\"Selection\"},\"selection_policy\":{\"id\":\"3947\",\"type\":\"UnionRenderers\"}},\"id\":\"3896\",\"type\":\"ColumnDataSource\"},{\"attributes\":{\"line_color\":\"lawngreen\",\"x\":{\"field\":\"x\"},\"y\":{\"field\":\"y\"}},\"id\":\"3897\",\"type\":\"Line\"},{\"attributes\":{\"line_alpha\":0.1,\"line_color\":\"#1f77b4\",\"x\":{\"field\":\"x\"},\"y\":{\"field\":\"y\"}},\"id\":\"3898\",\"type\":\"Line\"},{\"attributes\":{\"data_source\":{\"id\":\"3896\",\"type\":\"ColumnDataSource\"},\"glyph\":{\"id\":\"3897\",\"type\":\"Line\"},\"hover_glyph\":null,\"muted_glyph\":null,\"nonselection_glyph\":{\"id\":\"3898\",\"type\":\"Line\"},\"selection_glyph\":null,\"view\":{\"id\":\"3900\",\"type\":\"CDSView\"}},\"id\":\"3899\",\"type\":\"GlyphRenderer\"},{\"attributes\":{\"source\":{\"id\":\"3896\",\"type\":\"ColumnDataSource\"}},\"id\":\"3900\",\"type\":\"CDSView\"},{\"attributes\":{},\"id\":\"3919\",\"type\":\"Selection\"},{\"attributes\":{},\"id\":\"3920\",\"type\":\"UnionRenderers\"},{\"attributes\":{\"callback\":null,\"data\":{\"x\":{\"__ndarray__\":\"AAAAAAAAAEAAAAAAAAAIQAAAAAAAABBAAAAAAAAAGEAAAAAAAAAgQAAAAAAAACRAAAAAAAAALkAAAAAAAAA5QAAAAAAAAERAAAAAAAAATkA=\",\"dtype\":\"float64\",\"shape\":[10]},\"y\":{\"__ndarray__\":\"AAAAAAAAAAAAAAAACtcjPArXIzwpXI89CtejPZDCdT4AAAA/KVxPPw==\",\"dtype\":\"float32\",\"shape\":[10]}},\"selected\":{\"id\":\"3976\",\"type\":\"Selection\"},\"selection_policy\":{\"id\":\"3977\",\"type\":\"UnionRenderers\"}},\"id\":\"3921\",\"type\":\"ColumnDataSource\"},{\"attributes\":{\"line_color\":\"orange\",\"x\":{\"field\":\"x\"},\"y\":{\"field\":\"y\"}},\"id\":\"3922\",\"type\":\"Line\"},{\"attributes\":{\"line_alpha\":0.1,\"line_color\":\"#1f77b4\",\"x\":{\"field\":\"x\"},\"y\":{\"field\":\"y\"}},\"id\":\"3923\",\"type\":\"Line\"},{\"attributes\":{\"data_source\":{\"id\":\"3921\",\"type\":\"ColumnDataSource\"},\"glyph\":{\"id\":\"3922\",\"type\":\"Line\"},\"hover_glyph\":null,\"muted_glyph\":null,\"nonselection_glyph\":{\"id\":\"3923\",\"type\":\"Line\"},\"selection_glyph\":null,\"view\":{\"id\":\"3925\",\"type\":\"CDSView\"}},\"id\":\"3924\",\"type\":\"GlyphRenderer\"},{\"attributes\":{\"source\":{\"id\":\"3921\",\"type\":\"ColumnDataSource\"}},\"id\":\"3925\",\"type\":\"CDSView\"},{\"attributes\":{},\"id\":\"3946\",\"type\":\"Selection\"},{\"attributes\":{},\"id\":\"3947\",\"type\":\"UnionRenderers\"},{\"attributes\":{\"label\":{\"value\":\"k_ed = 5.e+11\"},\"renderers\":[{\"id\":\"3924\",\"type\":\"GlyphRenderer\"},{\"id\":\"3952\",\"type\":\"GlyphRenderer\"}]},\"id\":\"3948\",\"type\":\"LegendItem\"},{\"attributes\":{\"callback\":null,\"data\":{\"x\":{\"__ndarray__\":\"AAAAAAAAAEAAAAAAAAAIQAAAAAAAABBAAAAAAAAAGEAAAAAAAAAgQAAAAAAAACRAAAAAAAAALkAAAAAAAAA5QAAAAAAAAERAAAAAAAAATkA=\",\"dtype\":\"float64\",\"shape\":[10]},\"y\":{\"__ndarray__\":\"AAAAAAAAAAAAAAAAAAAAAAAAAAAK1yM9zczMPa5HYT7C9ag+XI9CPw==\",\"dtype\":\"float32\",\"shape\":[10]}},\"selected\":{\"id\":\"4152\",\"type\":\"Selection\"},\"selection_policy\":{\"id\":\"4153\",\"type\":\"UnionRenderers\"}},\"id\":\"3949\",\"type\":\"ColumnDataSource\"},{\"attributes\":{\"line_color\":\"yellow\",\"x\":{\"field\":\"x\"},\"y\":{\"field\":\"y\"}},\"id\":\"3950\",\"type\":\"Line\"},{\"attributes\":{\"line_alpha\":0.1,\"line_color\":\"#1f77b4\",\"x\":{\"field\":\"x\"},\"y\":{\"field\":\"y\"}},\"id\":\"3951\",\"type\":\"Line\"},{\"attributes\":{\"data_source\":{\"id\":\"3949\",\"type\":\"ColumnDataSource\"},\"glyph\":{\"id\":\"3950\",\"type\":\"Line\"},\"hover_glyph\":null,\"muted_glyph\":null,\"nonselection_glyph\":{\"id\":\"3951\",\"type\":\"Line\"},\"selection_glyph\":null,\"view\":{\"id\":\"3953\",\"type\":\"CDSView\"}},\"id\":\"3952\",\"type\":\"GlyphRenderer\"},{\"attributes\":{\"source\":{\"id\":\"3949\",\"type\":\"ColumnDataSource\"}},\"id\":\"3953\",\"type\":\"CDSView\"},{\"attributes\":{},\"id\":\"3976\",\"type\":\"Selection\"},{\"attributes\":{},\"id\":\"3977\",\"type\":\"UnionRenderers\"},{\"attributes\":{},\"id\":\"4152\",\"type\":\"Selection\"},{\"attributes\":{},\"id\":\"4153\",\"type\":\"UnionRenderers\"},{\"attributes\":{},\"id\":\"3797\",\"type\":\"UnionRenderers\"},{\"attributes\":{\"axis_label\":\"N (defects)\",\"formatter\":{\"id\":\"3778\",\"type\":\"BasicTickFormatter\"},\"ticker\":{\"id\":\"3748\",\"type\":\"BasicTicker\"}},\"id\":\"3747\",\"type\":\"LinearAxis\"},{\"attributes\":{\"callback\":null,\"data\":{\"x\":{\"__ndarray__\":\"AAAAAAAAAEAAAAAAAAAIQAAAAAAAABBAAAAAAAAAGEAAAAAAAAAgQAAAAAAAACRAAAAAAAAALkAAAAAAAAA5QAAAAAAAAERAAAAAAAAATkA=\",\"dtype\":\"float64\",\"shape\":[10]},\"y\":{\"__ndarray__\":\"AAAAAArXIzwK16M8CtejPZqZGT6amRk+XI9CPoXrET9SuF4/KVyPPw==\",\"dtype\":\"float32\",\"shape\":[10]}},\"selected\":{\"id\":\"3829\",\"type\":\"Selection\"},\"selection_policy\":{\"id\":\"3830\",\"type\":\"UnionRenderers\"}},\"id\":\"3798\",\"type\":\"ColumnDataSource\"},{\"attributes\":{\"source\":{\"id\":\"3785\",\"type\":\"ColumnDataSource\"}},\"id\":\"3789\",\"type\":\"CDSView\"},{\"attributes\":{\"line_color\":\"navy\",\"x\":{\"field\":\"x\"},\"y\":{\"field\":\"y\"}},\"id\":\"3799\",\"type\":\"Line\"},{\"attributes\":{},\"id\":\"3748\",\"type\":\"BasicTicker\"},{\"attributes\":{\"line_alpha\":0.1,\"line_color\":\"#1f77b4\",\"x\":{\"field\":\"x\"},\"y\":{\"field\":\"y\"}},\"id\":\"3800\",\"type\":\"Line\"},{\"attributes\":{\"data_source\":{\"id\":\"3798\",\"type\":\"ColumnDataSource\"},\"glyph\":{\"id\":\"3799\",\"type\":\"Line\"},\"hover_glyph\":null,\"muted_glyph\":null,\"nonselection_glyph\":{\"id\":\"3800\",\"type\":\"Line\"},\"selection_glyph\":null,\"view\":{\"id\":\"3802\",\"type\":\"CDSView\"}},\"id\":\"3801\",\"type\":\"GlyphRenderer\"},{\"attributes\":{\"ticker\":{\"id\":\"3748\",\"type\":\"BasicTicker\"}},\"id\":\"3751\",\"type\":\"Grid\"},{\"attributes\":{\"source\":{\"id\":\"3798\",\"type\":\"ColumnDataSource\"}},\"id\":\"3802\",\"type\":\"CDSView\"},{\"attributes\":{},\"id\":\"3811\",\"type\":\"Selection\"},{\"attributes\":{},\"id\":\"3812\",\"type\":\"UnionRenderers\"},{\"attributes\":{\"axis_label\":\"QY (E11)\",\"formatter\":{\"id\":\"3780\",\"type\":\"BasicTickFormatter\"},\"ticker\":{\"id\":\"3753\",\"type\":\"BasicTicker\"}},\"id\":\"3752\",\"type\":\"LinearAxis\"},{\"attributes\":{\"label\":{\"value\":\"k_ed = 2.5e+10\"},\"renderers\":[{\"id\":\"3801\",\"type\":\"GlyphRenderer\"},{\"id\":\"3817\",\"type\":\"GlyphRenderer\"}]},\"id\":\"3813\",\"type\":\"LegendItem\"},{\"attributes\":{},\"id\":\"3778\",\"type\":\"BasicTickFormatter\"},{\"attributes\":{},\"id\":\"3780\",\"type\":\"BasicTickFormatter\"},{\"attributes\":{\"callback\":null,\"data\":{\"x\":{\"__ndarray__\":\"AAAAAAAAAEAAAAAAAAAIQAAAAAAAABBAAAAAAAAAGEAAAAAAAAAgQAAAAAAAACRAAAAAAAAALkAAAAAAAAA5QAAAAAAAAERAAAAAAAAATkA=\",\"dtype\":\"float64\",\"shape\":[10]},\"y\":{\"__ndarray__\":\"AAAAAJDC9TyQwnU9CtejPQrXIz4fhWs+kML1PhSuRz+F65E/16PwPw==\",\"dtype\":\"float32\",\"shape\":[10]}},\"selected\":{\"id\":\"3848\",\"type\":\"Selection\"},\"selection_policy\":{\"id\":\"3849\",\"type\":\"UnionRenderers\"}},\"id\":\"3814\",\"type\":\"ColumnDataSource\"},{\"attributes\":{\"line_color\":\"skyblue\",\"x\":{\"field\":\"x\"},\"y\":{\"field\":\"y\"}},\"id\":\"3815\",\"type\":\"Line\"},{\"attributes\":{},\"id\":\"3753\",\"type\":\"BasicTicker\"},{\"attributes\":{\"line_alpha\":0.1,\"line_color\":\"#1f77b4\",\"x\":{\"field\":\"x\"},\"y\":{\"field\":\"y\"}},\"id\":\"3816\",\"type\":\"Line\"},{\"attributes\":{\"data_source\":{\"id\":\"3814\",\"type\":\"ColumnDataSource\"},\"glyph\":{\"id\":\"3815\",\"type\":\"Line\"},\"hover_glyph\":null,\"muted_glyph\":null,\"nonselection_glyph\":{\"id\":\"3816\",\"type\":\"Line\"},\"selection_glyph\":null,\"view\":{\"id\":\"3818\",\"type\":\"CDSView\"}},\"id\":\"3817\",\"type\":\"GlyphRenderer\"},{\"attributes\":{},\"id\":\"3745\",\"type\":\"LinearScale\"},{\"attributes\":{},\"id\":\"3743\",\"type\":\"LinearScale\"},{\"attributes\":{\"source\":{\"id\":\"3814\",\"type\":\"ColumnDataSource\"}},\"id\":\"3818\",\"type\":\"CDSView\"},{\"attributes\":{\"callback\":null},\"id\":\"3741\",\"type\":\"DataRange1d\"},{\"attributes\":{},\"id\":\"3829\",\"type\":\"Selection\"},{\"attributes\":{\"callback\":null},\"id\":\"3739\",\"type\":\"DataRange1d\"},{\"attributes\":{},\"id\":\"3830\",\"type\":\"UnionRenderers\"},{\"attributes\":{\"text\":\"Defect Density Relation, l = 300 nm\"},\"id\":\"3737\",\"type\":\"Title\"},{\"attributes\":{\"line_color\":\"darkred\",\"x\":{\"field\":\"x\"},\"y\":{\"field\":\"y\"}},\"id\":\"3832\",\"type\":\"Line\"},{\"attributes\":{\"line_color\":\"indigo\",\"x\":{\"field\":\"x\"},\"y\":{\"field\":\"y\"}},\"id\":\"3773\",\"type\":\"Line\"},{\"attributes\":{\"line_alpha\":0.1,\"line_color\":\"#1f77b4\",\"x\":{\"field\":\"x\"},\"y\":{\"field\":\"y\"}},\"id\":\"3833\",\"type\":\"Line\"},{\"attributes\":{\"callback\":null},\"id\":\"3770\",\"type\":\"HoverTool\"},{\"attributes\":{\"data_source\":{\"id\":\"3831\",\"type\":\"ColumnDataSource\"},\"glyph\":{\"id\":\"3832\",\"type\":\"Line\"},\"hover_glyph\":null,\"muted_glyph\":null,\"nonselection_glyph\":{\"id\":\"3833\",\"type\":\"Line\"},\"selection_glyph\":null,\"view\":{\"id\":\"3835\",\"type\":\"CDSView\"}},\"id\":\"3834\",\"type\":\"GlyphRenderer\"},{\"attributes\":{\"source\":{\"id\":\"3831\",\"type\":\"ColumnDataSource\"}},\"id\":\"3835\",\"type\":\"CDSView\"},{\"attributes\":{},\"id\":\"3760\",\"type\":\"SaveTool\"},{\"attributes\":{},\"id\":\"3848\",\"type\":\"Selection\"},{\"attributes\":{\"bottom_units\":\"screen\",\"fill_alpha\":{\"value\":0.5},\"fill_color\":{\"value\":\"lightgrey\"},\"left_units\":\"screen\",\"level\":\"overlay\",\"line_alpha\":{\"value\":1.0},\"line_color\":{\"value\":\"black\"},\"line_dash\":[4,4],\"line_width\":{\"value\":2},\"render_mode\":\"css\",\"right_units\":\"screen\",\"top_units\":\"screen\"},\"id\":\"3782\",\"type\":\"BoxAnnotation\"},{\"attributes\":{},\"id\":\"3849\",\"type\":\"UnionRenderers\"},{\"attributes\":{\"overlay\":{\"id\":\"3782\",\"type\":\"BoxAnnotation\"}},\"id\":\"3759\",\"type\":\"BoxZoomTool\"},{\"attributes\":{\"label\":{\"value\":\"k_ed = 5.e+10\"},\"renderers\":[{\"id\":\"3834\",\"type\":\"GlyphRenderer\"},{\"id\":\"3854\",\"type\":\"GlyphRenderer\"}]},\"id\":\"3850\",\"type\":\"LegendItem\"},{\"attributes\":{},\"id\":\"3758\",\"type\":\"WheelZoomTool\"},{\"attributes\":{\"callback\":null,\"data\":{\"x\":{\"__ndarray__\":\"AAAAAAAAAEAAAAAAAAAIQAAAAAAAABBAAAAAAAAAGEAAAAAAAAAgQAAAAAAAACRAAAAAAAAALkAAAAAAAAA5QAAAAAAAAERAAAAAAAAATkA=\",\"dtype\":\"float64\",\"shape\":[10]},\"y\":{\"__ndarray__\":\"AAAAAArXIz0K16M8zcxMPc3MTD24HgU+H4VrPmZm5j40MzM/w/VoPw==\",\"dtype\":\"float32\",\"shape\":[10]}},\"selected\":{\"id\":\"3893\",\"type\":\"Selection\"},\"selection_policy\":{\"id\":\"3894\",\"type\":\"UnionRenderers\"}},\"id\":\"3851\",\"type\":\"ColumnDataSource\"},{\"attributes\":{\"callback\":null,\"data\":{\"x\":{\"__ndarray__\":\"AAAAAAAAAEAAAAAAAAAIQAAAAAAAABBAAAAAAAAAGEAAAAAAAAAgQAAAAAAAACRAAAAAAAAALkAAAAAAAAA5QAAAAAAAAERAAAAAAAAATkA=\",\"dtype\":\"float64\",\"shape\":[10]},\"y\":{\"__ndarray__\":\"AAAAAJDC9T2amRk+kMJ1PgrXoz6uRyE/CtdjPylcrz8L1zNAmZlpQA==\",\"dtype\":\"float32\",\"shape\":[10]}},\"selected\":{\"id\":\"3796\",\"type\":\"Selection\"},\"selection_policy\":{\"id\":\"3797\",\"type\":\"UnionRenderers\"}},\"id\":\"3772\",\"type\":\"ColumnDataSource\"},{\"attributes\":{\"line_color\":\"tomato\",\"x\":{\"field\":\"x\"},\"y\":{\"field\":\"y\"}},\"id\":\"3852\",\"type\":\"Line\"},{\"attributes\":{},\"id\":\"3796\",\"type\":\"Selection\"},{\"attributes\":{\"line_alpha\":0.1,\"line_color\":\"#1f77b4\",\"x\":{\"field\":\"x\"},\"y\":{\"field\":\"y\"}},\"id\":\"3853\",\"type\":\"Line\"},{\"attributes\":{\"active_drag\":\"auto\",\"active_inspect\":\"auto\",\"active_multi\":null,\"active_scroll\":\"auto\",\"active_tap\":\"auto\",\"tools\":[{\"id\":\"3757\",\"type\":\"PanTool\"},{\"id\":\"3758\",\"type\":\"WheelZoomTool\"},{\"id\":\"3759\",\"type\":\"BoxZoomTool\"},{\"id\":\"3760\",\"type\":\"SaveTool\"},{\"id\":\"3761\",\"type\":\"ResetTool\"},{\"id\":\"3762\",\"type\":\"HelpTool\"},{\"id\":\"3770\",\"type\":\"HoverTool\"}]},\"id\":\"3763\",\"type\":\"Toolbar\"},{\"attributes\":{\"data_source\":{\"id\":\"3851\",\"type\":\"ColumnDataSource\"},\"glyph\":{\"id\":\"3852\",\"type\":\"Line\"},\"hover_glyph\":null,\"muted_glyph\":null,\"nonselection_glyph\":{\"id\":\"3853\",\"type\":\"Line\"},\"selection_glyph\":null,\"view\":{\"id\":\"3855\",\"type\":\"CDSView\"}},\"id\":\"3854\",\"type\":\"GlyphRenderer\"},{\"attributes\":{},\"id\":\"3757\",\"type\":\"PanTool\"},{\"attributes\":{\"dimension\":1,\"ticker\":{\"id\":\"3753\",\"type\":\"BasicTicker\"}},\"id\":\"3756\",\"type\":\"Grid\"},{\"attributes\":{\"data_source\":{\"id\":\"3785\",\"type\":\"ColumnDataSource\"},\"glyph\":{\"id\":\"3786\",\"type\":\"Line\"},\"hover_glyph\":null,\"muted_glyph\":null,\"nonselection_glyph\":{\"id\":\"3787\",\"type\":\"Line\"},\"selection_glyph\":null,\"view\":{\"id\":\"3789\",\"type\":\"CDSView\"}},\"id\":\"3788\",\"type\":\"GlyphRenderer\"},{\"attributes\":{\"source\":{\"id\":\"3851\",\"type\":\"ColumnDataSource\"}},\"id\":\"3855\",\"type\":\"CDSView\"},{\"attributes\":{\"items\":[{\"id\":\"3784\",\"type\":\"LegendItem\"},{\"id\":\"3813\",\"type\":\"LegendItem\"},{\"id\":\"3850\",\"type\":\"LegendItem\"},{\"id\":\"3895\",\"type\":\"LegendItem\"},{\"id\":\"3948\",\"type\":\"LegendItem\"}]},\"id\":\"3783\",\"type\":\"Legend\"},{\"attributes\":{},\"id\":\"3870\",\"type\":\"Selection\"},{\"attributes\":{},\"id\":\"3762\",\"type\":\"HelpTool\"},{\"attributes\":{\"callback\":null,\"data\":{\"x\":{\"__ndarray__\":\"AAAAAAAAAEAAAAAAAAAIQAAAAAAAABBAAAAAAAAAGEAAAAAAAAAgQAAAAAAAACRAAAAAAAAALkAAAAAAAAA5QAAAAAAAAERAAAAAAAAATkA=\",\"dtype\":\"float64\",\"shape\":[10]},\"y\":{\"__ndarray__\":\"AAAAAJDCdT3rUbg9CtcjPgAAgD72KNw+wvUoP1K4nj9xPQpAwvVIQA==\",\"dtype\":\"float32\",\"shape\":[10]}},\"selected\":{\"id\":\"3811\",\"type\":\"Selection\"},\"selection_policy\":{\"id\":\"3812\",\"type\":\"UnionRenderers\"}},\"id\":\"3785\",\"type\":\"ColumnDataSource\"},{\"attributes\":{},\"id\":\"3761\",\"type\":\"ResetTool\"},{\"attributes\":{},\"id\":\"3871\",\"type\":\"UnionRenderers\"},{\"attributes\":{\"callback\":null,\"data\":{\"x\":{\"__ndarray__\":\"AAAAAAAAAEAAAAAAAAAIQAAAAAAAABBAAAAAAAAAGEAAAAAAAAAgQAAAAAAAACRAAAAAAAAALkAAAAAAAAA5QAAAAAAAAERAAAAAAAAATkA=\",\"dtype\":\"float64\",\"shape\":[10]},\"y\":{\"__ndarray__\":\"AAAAAAAAAAAAAAAAkML1PArXIzwpXI89zczMPXsULj40M7M+pHA9Pw==\",\"dtype\":\"float32\",\"shape\":[10]}},\"selected\":{\"id\":\"3919\",\"type\":\"Selection\"},\"selection_policy\":{\"id\":\"3920\",\"type\":\"UnionRenderers\"}},\"id\":\"3872\",\"type\":\"ColumnDataSource\"},{\"attributes\":{\"line_color\":\"darkorchid\",\"x\":{\"field\":\"x\"},\"y\":{\"field\":\"y\"}},\"id\":\"3786\",\"type\":\"Line\"},{\"attributes\":{\"line_color\":\"forestgreen\",\"x\":{\"field\":\"x\"},\"y\":{\"field\":\"y\"}},\"id\":\"3873\",\"type\":\"Line\"},{\"attributes\":{\"line_alpha\":0.1,\"line_color\":\"#1f77b4\",\"x\":{\"field\":\"x\"},\"y\":{\"field\":\"y\"}},\"id\":\"3874\",\"type\":\"Line\"},{\"attributes\":{\"data_source\":{\"id\":\"3772\",\"type\":\"ColumnDataSource\"},\"glyph\":{\"id\":\"3773\",\"type\":\"Line\"},\"hover_glyph\":null,\"muted_glyph\":null,\"nonselection_glyph\":{\"id\":\"3774\",\"type\":\"Line\"},\"selection_glyph\":null,\"view\":{\"id\":\"3776\",\"type\":\"CDSView\"}},\"id\":\"3775\",\"type\":\"GlyphRenderer\"},{\"attributes\":{\"line_alpha\":0.1,\"line_color\":\"#1f77b4\",\"x\":{\"field\":\"x\"},\"y\":{\"field\":\"y\"}},\"id\":\"3787\",\"type\":\"Line\"},{\"attributes\":{\"data_source\":{\"id\":\"3872\",\"type\":\"ColumnDataSource\"},\"glyph\":{\"id\":\"3873\",\"type\":\"Line\"},\"hover_glyph\":null,\"muted_glyph\":null,\"nonselection_glyph\":{\"id\":\"3874\",\"type\":\"Line\"},\"selection_glyph\":null,\"view\":{\"id\":\"3876\",\"type\":\"CDSView\"}},\"id\":\"3875\",\"type\":\"GlyphRenderer\"},{\"attributes\":{\"line_alpha\":0.1,\"line_color\":\"#1f77b4\",\"x\":{\"field\":\"x\"},\"y\":{\"field\":\"y\"}},\"id\":\"3774\",\"type\":\"Line\"},{\"attributes\":{\"source\":{\"id\":\"3772\",\"type\":\"ColumnDataSource\"}},\"id\":\"3776\",\"type\":\"CDSView\"},{\"attributes\":{\"source\":{\"id\":\"3872\",\"type\":\"ColumnDataSource\"}},\"id\":\"3876\",\"type\":\"CDSView\"},{\"attributes\":{\"label\":{\"value\":\"k_ed = 1.e+10\"},\"renderers\":[{\"id\":\"3775\",\"type\":\"GlyphRenderer\"},{\"id\":\"3788\",\"type\":\"GlyphRenderer\"}]},\"id\":\"3784\",\"type\":\"LegendItem\"},{\"attributes\":{\"callback\":null,\"data\":{\"x\":{\"__ndarray__\":\"AAAAAAAAAEAAAAAAAAAIQAAAAAAAABBAAAAAAAAAGEAAAAAAAAAgQAAAAAAAACRAAAAAAAAALkAAAAAAAAA5QAAAAAAAAERAAAAAAAAATkA=\",\"dtype\":\"float64\",\"shape\":[10]},\"y\":{\"__ndarray__\":\"AAAAAAAAAAAK16M8kML1PM3MTD3NzEw9KVwPPpDCdT6QwvU+mplZPw==\",\"dtype\":\"float32\",\"shape\":[10]}},\"selected\":{\"id\":\"3870\",\"type\":\"Selection\"},\"selection_policy\":{\"id\":\"3871\",\"type\":\"UnionRenderers\"}},\"id\":\"3831\",\"type\":\"ColumnDataSource\"},{\"attributes\":{},\"id\":\"3893\",\"type\":\"Selection\"}],\"root_ids\":[\"3736\"]},\"title\":\"Bokeh Application\",\"version\":\"1.4.0\"}};\n",
       "  var render_items = [{\"docid\":\"2328da3b-8a51-4272-8236-9cb4e986d0be\",\"roots\":{\"3736\":\"01923388-585b-4e33-a591-34c2c7d40c86\"}}];\n",
       "  root.Bokeh.embed.embed_items_notebook(docs_json, render_items);\n",
       "\n",
       "  }\n",
       "  if (root.Bokeh !== undefined) {\n",
       "    embed_document(root);\n",
       "  } else {\n",
       "    var attempts = 0;\n",
       "    var timer = setInterval(function(root) {\n",
       "      if (root.Bokeh !== undefined) {\n",
       "        clearInterval(timer);\n",
       "        embed_document(root);\n",
       "      } else {\n",
       "        attempts++;\n",
       "        if (attempts > 100) {\n",
       "          clearInterval(timer);\n",
       "          console.log(\"Bokeh: ERROR: Unable to run BokehJS code because BokehJS library is missing\");\n",
       "        }\n",
       "      }\n",
       "    }, 10, root)\n",
       "  }\n",
       "})(window);"
      ],
      "application/vnd.bokehjs_exec.v0+json": ""
     },
     "metadata": {
      "application/vnd.bokehjs_exec.v0+json": {
       "id": "3736"
      }
     },
     "output_type": "display_data"
    }
   ],
   "source": [
    "plot = figure(title='Defect Density Relation, l = 300 nm', width=800, height=400)\n",
    "plot.add_tools(HoverTool())\n",
    "for i, sim in enumerate(len_depen):\n",
    "    plot.line(sim.calc_dict['n_defects'], sim.QY[:, 1]*100,\n",
    "              legend_label=f'k_ed = {np.format_float_scientific(sim.kin_const[5])}', color=colors[i])\n",
    "plot.xaxis.axis_label = 'N (defects)'\n",
    "plot.yaxis.axis_label = 'QY (E11)'\n",
    "show(plot)"
   ]
  },
  {
   "cell_type": "code",
   "execution_count": null,
   "metadata": {},
   "outputs": [],
   "source": []
  }
 ],
 "metadata": {
  "kernelspec": {
   "display_name": "master-thesis-md",
   "language": "python",
   "name": "master-thesis-md"
  },
  "language_info": {
   "codemirror_mode": {
    "name": "ipython",
    "version": 3
   },
   "file_extension": ".py",
   "mimetype": "text/x-python",
   "name": "python",
   "nbconvert_exporter": "python",
   "pygments_lexer": "ipython3",
   "version": "3.6.7"
  }
 },
 "nbformat": 4,
 "nbformat_minor": 4
}
