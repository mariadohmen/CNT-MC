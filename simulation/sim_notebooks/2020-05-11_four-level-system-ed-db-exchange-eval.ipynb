{
 "cells": [
  {
   "cell_type": "code",
   "execution_count": 1,
   "metadata": {},
   "outputs": [
    {
     "data": {
      "text/html": [
       "\n",
       "    <div class=\"bk-root\">\n",
       "        <a href=\"https://bokeh.pydata.org\" target=\"_blank\" class=\"bk-logo bk-logo-small bk-logo-notebook\"></a>\n",
       "        <span id=\"1001\">Loading BokehJS ...</span>\n",
       "    </div>"
      ]
     },
     "metadata": {},
     "output_type": "display_data"
    },
    {
     "data": {
      "application/javascript": [
       "\n",
       "(function(root) {\n",
       "  function now() {\n",
       "    return new Date();\n",
       "  }\n",
       "\n",
       "  var force = true;\n",
       "\n",
       "  if (typeof root._bokeh_onload_callbacks === \"undefined\" || force === true) {\n",
       "    root._bokeh_onload_callbacks = [];\n",
       "    root._bokeh_is_loading = undefined;\n",
       "  }\n",
       "\n",
       "  var JS_MIME_TYPE = 'application/javascript';\n",
       "  var HTML_MIME_TYPE = 'text/html';\n",
       "  var EXEC_MIME_TYPE = 'application/vnd.bokehjs_exec.v0+json';\n",
       "  var CLASS_NAME = 'output_bokeh rendered_html';\n",
       "\n",
       "  /**\n",
       "   * Render data to the DOM node\n",
       "   */\n",
       "  function render(props, node) {\n",
       "    var script = document.createElement(\"script\");\n",
       "    node.appendChild(script);\n",
       "  }\n",
       "\n",
       "  /**\n",
       "   * Handle when an output is cleared or removed\n",
       "   */\n",
       "  function handleClearOutput(event, handle) {\n",
       "    var cell = handle.cell;\n",
       "\n",
       "    var id = cell.output_area._bokeh_element_id;\n",
       "    var server_id = cell.output_area._bokeh_server_id;\n",
       "    // Clean up Bokeh references\n",
       "    if (id != null && id in Bokeh.index) {\n",
       "      Bokeh.index[id].model.document.clear();\n",
       "      delete Bokeh.index[id];\n",
       "    }\n",
       "\n",
       "    if (server_id !== undefined) {\n",
       "      // Clean up Bokeh references\n",
       "      var cmd = \"from bokeh.io.state import curstate; print(curstate().uuid_to_server['\" + server_id + \"'].get_sessions()[0].document.roots[0]._id)\";\n",
       "      cell.notebook.kernel.execute(cmd, {\n",
       "        iopub: {\n",
       "          output: function(msg) {\n",
       "            var id = msg.content.text.trim();\n",
       "            if (id in Bokeh.index) {\n",
       "              Bokeh.index[id].model.document.clear();\n",
       "              delete Bokeh.index[id];\n",
       "            }\n",
       "          }\n",
       "        }\n",
       "      });\n",
       "      // Destroy server and session\n",
       "      var cmd = \"import bokeh.io.notebook as ion; ion.destroy_server('\" + server_id + \"')\";\n",
       "      cell.notebook.kernel.execute(cmd);\n",
       "    }\n",
       "  }\n",
       "\n",
       "  /**\n",
       "   * Handle when a new output is added\n",
       "   */\n",
       "  function handleAddOutput(event, handle) {\n",
       "    var output_area = handle.output_area;\n",
       "    var output = handle.output;\n",
       "\n",
       "    // limit handleAddOutput to display_data with EXEC_MIME_TYPE content only\n",
       "    if ((output.output_type != \"display_data\") || (!output.data.hasOwnProperty(EXEC_MIME_TYPE))) {\n",
       "      return\n",
       "    }\n",
       "\n",
       "    var toinsert = output_area.element.find(\".\" + CLASS_NAME.split(' ')[0]);\n",
       "\n",
       "    if (output.metadata[EXEC_MIME_TYPE][\"id\"] !== undefined) {\n",
       "      toinsert[toinsert.length - 1].firstChild.textContent = output.data[JS_MIME_TYPE];\n",
       "      // store reference to embed id on output_area\n",
       "      output_area._bokeh_element_id = output.metadata[EXEC_MIME_TYPE][\"id\"];\n",
       "    }\n",
       "    if (output.metadata[EXEC_MIME_TYPE][\"server_id\"] !== undefined) {\n",
       "      var bk_div = document.createElement(\"div\");\n",
       "      bk_div.innerHTML = output.data[HTML_MIME_TYPE];\n",
       "      var script_attrs = bk_div.children[0].attributes;\n",
       "      for (var i = 0; i < script_attrs.length; i++) {\n",
       "        toinsert[toinsert.length - 1].firstChild.setAttribute(script_attrs[i].name, script_attrs[i].value);\n",
       "      }\n",
       "      // store reference to server id on output_area\n",
       "      output_area._bokeh_server_id = output.metadata[EXEC_MIME_TYPE][\"server_id\"];\n",
       "    }\n",
       "  }\n",
       "\n",
       "  function register_renderer(events, OutputArea) {\n",
       "\n",
       "    function append_mime(data, metadata, element) {\n",
       "      // create a DOM node to render to\n",
       "      var toinsert = this.create_output_subarea(\n",
       "        metadata,\n",
       "        CLASS_NAME,\n",
       "        EXEC_MIME_TYPE\n",
       "      );\n",
       "      this.keyboard_manager.register_events(toinsert);\n",
       "      // Render to node\n",
       "      var props = {data: data, metadata: metadata[EXEC_MIME_TYPE]};\n",
       "      render(props, toinsert[toinsert.length - 1]);\n",
       "      element.append(toinsert);\n",
       "      return toinsert\n",
       "    }\n",
       "\n",
       "    /* Handle when an output is cleared or removed */\n",
       "    events.on('clear_output.CodeCell', handleClearOutput);\n",
       "    events.on('delete.Cell', handleClearOutput);\n",
       "\n",
       "    /* Handle when a new output is added */\n",
       "    events.on('output_added.OutputArea', handleAddOutput);\n",
       "\n",
       "    /**\n",
       "     * Register the mime type and append_mime function with output_area\n",
       "     */\n",
       "    OutputArea.prototype.register_mime_type(EXEC_MIME_TYPE, append_mime, {\n",
       "      /* Is output safe? */\n",
       "      safe: true,\n",
       "      /* Index of renderer in `output_area.display_order` */\n",
       "      index: 0\n",
       "    });\n",
       "  }\n",
       "\n",
       "  // register the mime type if in Jupyter Notebook environment and previously unregistered\n",
       "  if (root.Jupyter !== undefined) {\n",
       "    var events = require('base/js/events');\n",
       "    var OutputArea = require('notebook/js/outputarea').OutputArea;\n",
       "\n",
       "    if (OutputArea.prototype.mime_types().indexOf(EXEC_MIME_TYPE) == -1) {\n",
       "      register_renderer(events, OutputArea);\n",
       "    }\n",
       "  }\n",
       "\n",
       "  \n",
       "  if (typeof (root._bokeh_timeout) === \"undefined\" || force === true) {\n",
       "    root._bokeh_timeout = Date.now() + 5000;\n",
       "    root._bokeh_failed_load = false;\n",
       "  }\n",
       "\n",
       "  var NB_LOAD_WARNING = {'data': {'text/html':\n",
       "     \"<div style='background-color: #fdd'>\\n\"+\n",
       "     \"<p>\\n\"+\n",
       "     \"BokehJS does not appear to have successfully loaded. If loading BokehJS from CDN, this \\n\"+\n",
       "     \"may be due to a slow or bad network connection. Possible fixes:\\n\"+\n",
       "     \"</p>\\n\"+\n",
       "     \"<ul>\\n\"+\n",
       "     \"<li>re-rerun `output_notebook()` to attempt to load from CDN again, or</li>\\n\"+\n",
       "     \"<li>use INLINE resources instead, as so:</li>\\n\"+\n",
       "     \"</ul>\\n\"+\n",
       "     \"<code>\\n\"+\n",
       "     \"from bokeh.resources import INLINE\\n\"+\n",
       "     \"output_notebook(resources=INLINE)\\n\"+\n",
       "     \"</code>\\n\"+\n",
       "     \"</div>\"}};\n",
       "\n",
       "  function display_loaded() {\n",
       "    var el = document.getElementById(\"1001\");\n",
       "    if (el != null) {\n",
       "      el.textContent = \"BokehJS is loading...\";\n",
       "    }\n",
       "    if (root.Bokeh !== undefined) {\n",
       "      if (el != null) {\n",
       "        el.textContent = \"BokehJS \" + root.Bokeh.version + \" successfully loaded.\";\n",
       "      }\n",
       "    } else if (Date.now() < root._bokeh_timeout) {\n",
       "      setTimeout(display_loaded, 100)\n",
       "    }\n",
       "  }\n",
       "\n",
       "\n",
       "  function run_callbacks() {\n",
       "    try {\n",
       "      root._bokeh_onload_callbacks.forEach(function(callback) {\n",
       "        if (callback != null)\n",
       "          callback();\n",
       "      });\n",
       "    } finally {\n",
       "      delete root._bokeh_onload_callbacks\n",
       "    }\n",
       "    console.debug(\"Bokeh: all callbacks have finished\");\n",
       "  }\n",
       "\n",
       "  function load_libs(css_urls, js_urls, callback) {\n",
       "    if (css_urls == null) css_urls = [];\n",
       "    if (js_urls == null) js_urls = [];\n",
       "\n",
       "    root._bokeh_onload_callbacks.push(callback);\n",
       "    if (root._bokeh_is_loading > 0) {\n",
       "      console.debug(\"Bokeh: BokehJS is being loaded, scheduling callback at\", now());\n",
       "      return null;\n",
       "    }\n",
       "    if (js_urls == null || js_urls.length === 0) {\n",
       "      run_callbacks();\n",
       "      return null;\n",
       "    }\n",
       "    console.debug(\"Bokeh: BokehJS not loaded, scheduling load and callback at\", now());\n",
       "    root._bokeh_is_loading = css_urls.length + js_urls.length;\n",
       "\n",
       "    function on_load() {\n",
       "      root._bokeh_is_loading--;\n",
       "      if (root._bokeh_is_loading === 0) {\n",
       "        console.debug(\"Bokeh: all BokehJS libraries/stylesheets loaded\");\n",
       "        run_callbacks()\n",
       "      }\n",
       "    }\n",
       "\n",
       "    function on_error() {\n",
       "      console.error(\"failed to load \" + url);\n",
       "    }\n",
       "\n",
       "    for (var i = 0; i < css_urls.length; i++) {\n",
       "      var url = css_urls[i];\n",
       "      const element = document.createElement(\"link\");\n",
       "      element.onload = on_load;\n",
       "      element.onerror = on_error;\n",
       "      element.rel = \"stylesheet\";\n",
       "      element.type = \"text/css\";\n",
       "      element.href = url;\n",
       "      console.debug(\"Bokeh: injecting link tag for BokehJS stylesheet: \", url);\n",
       "      document.body.appendChild(element);\n",
       "    }\n",
       "\n",
       "    for (var i = 0; i < js_urls.length; i++) {\n",
       "      var url = js_urls[i];\n",
       "      var element = document.createElement('script');\n",
       "      element.onload = on_load;\n",
       "      element.onerror = on_error;\n",
       "      element.async = false;\n",
       "      element.src = url;\n",
       "      console.debug(\"Bokeh: injecting script tag for BokehJS library: \", url);\n",
       "      document.head.appendChild(element);\n",
       "    }\n",
       "  };var element = document.getElementById(\"1001\");\n",
       "  if (element == null) {\n",
       "    console.error(\"Bokeh: ERROR: autoload.js configured with elementid '1001' but no matching script tag was found. \")\n",
       "    return false;\n",
       "  }\n",
       "\n",
       "  function inject_raw_css(css) {\n",
       "    const element = document.createElement(\"style\");\n",
       "    element.appendChild(document.createTextNode(css));\n",
       "    document.body.appendChild(element);\n",
       "  }\n",
       "\n",
       "  var js_urls = [\"https://cdn.pydata.org/bokeh/release/bokeh-1.3.4.min.js\", \"https://cdn.pydata.org/bokeh/release/bokeh-widgets-1.3.4.min.js\", \"https://cdn.pydata.org/bokeh/release/bokeh-tables-1.3.4.min.js\", \"https://cdn.pydata.org/bokeh/release/bokeh-gl-1.3.4.min.js\"];\n",
       "  var css_urls = [];\n",
       "\n",
       "  var inline_js = [\n",
       "    function(Bokeh) {\n",
       "      Bokeh.set_log_level(\"info\");\n",
       "    },\n",
       "    \n",
       "    function(Bokeh) {\n",
       "      \n",
       "    },\n",
       "    function(Bokeh) {} // ensure no trailing comma for IE\n",
       "  ];\n",
       "\n",
       "  function run_inline_js() {\n",
       "    \n",
       "    if ((root.Bokeh !== undefined) || (force === true)) {\n",
       "      for (var i = 0; i < inline_js.length; i++) {\n",
       "        inline_js[i].call(root, root.Bokeh);\n",
       "      }if (force === true) {\n",
       "        display_loaded();\n",
       "      }} else if (Date.now() < root._bokeh_timeout) {\n",
       "      setTimeout(run_inline_js, 100);\n",
       "    } else if (!root._bokeh_failed_load) {\n",
       "      console.log(\"Bokeh: BokehJS failed to load within specified timeout.\");\n",
       "      root._bokeh_failed_load = true;\n",
       "    } else if (force !== true) {\n",
       "      var cell = $(document.getElementById(\"1001\")).parents('.cell').data().cell;\n",
       "      cell.output_area.append_execute_result(NB_LOAD_WARNING)\n",
       "    }\n",
       "\n",
       "  }\n",
       "\n",
       "  if (root._bokeh_is_loading === 0) {\n",
       "    console.debug(\"Bokeh: BokehJS loaded, going straight to plotting\");\n",
       "    run_inline_js();\n",
       "  } else {\n",
       "    load_libs(css_urls, js_urls, function() {\n",
       "      console.debug(\"Bokeh: BokehJS plotting callback run at\", now());\n",
       "      run_inline_js();\n",
       "    });\n",
       "  }\n",
       "}(window));"
      ],
      "application/vnd.bokehjs_load.v0+json": "\n(function(root) {\n  function now() {\n    return new Date();\n  }\n\n  var force = true;\n\n  if (typeof root._bokeh_onload_callbacks === \"undefined\" || force === true) {\n    root._bokeh_onload_callbacks = [];\n    root._bokeh_is_loading = undefined;\n  }\n\n  \n\n  \n  if (typeof (root._bokeh_timeout) === \"undefined\" || force === true) {\n    root._bokeh_timeout = Date.now() + 5000;\n    root._bokeh_failed_load = false;\n  }\n\n  var NB_LOAD_WARNING = {'data': {'text/html':\n     \"<div style='background-color: #fdd'>\\n\"+\n     \"<p>\\n\"+\n     \"BokehJS does not appear to have successfully loaded. If loading BokehJS from CDN, this \\n\"+\n     \"may be due to a slow or bad network connection. Possible fixes:\\n\"+\n     \"</p>\\n\"+\n     \"<ul>\\n\"+\n     \"<li>re-rerun `output_notebook()` to attempt to load from CDN again, or</li>\\n\"+\n     \"<li>use INLINE resources instead, as so:</li>\\n\"+\n     \"</ul>\\n\"+\n     \"<code>\\n\"+\n     \"from bokeh.resources import INLINE\\n\"+\n     \"output_notebook(resources=INLINE)\\n\"+\n     \"</code>\\n\"+\n     \"</div>\"}};\n\n  function display_loaded() {\n    var el = document.getElementById(\"1001\");\n    if (el != null) {\n      el.textContent = \"BokehJS is loading...\";\n    }\n    if (root.Bokeh !== undefined) {\n      if (el != null) {\n        el.textContent = \"BokehJS \" + root.Bokeh.version + \" successfully loaded.\";\n      }\n    } else if (Date.now() < root._bokeh_timeout) {\n      setTimeout(display_loaded, 100)\n    }\n  }\n\n\n  function run_callbacks() {\n    try {\n      root._bokeh_onload_callbacks.forEach(function(callback) {\n        if (callback != null)\n          callback();\n      });\n    } finally {\n      delete root._bokeh_onload_callbacks\n    }\n    console.debug(\"Bokeh: all callbacks have finished\");\n  }\n\n  function load_libs(css_urls, js_urls, callback) {\n    if (css_urls == null) css_urls = [];\n    if (js_urls == null) js_urls = [];\n\n    root._bokeh_onload_callbacks.push(callback);\n    if (root._bokeh_is_loading > 0) {\n      console.debug(\"Bokeh: BokehJS is being loaded, scheduling callback at\", now());\n      return null;\n    }\n    if (js_urls == null || js_urls.length === 0) {\n      run_callbacks();\n      return null;\n    }\n    console.debug(\"Bokeh: BokehJS not loaded, scheduling load and callback at\", now());\n    root._bokeh_is_loading = css_urls.length + js_urls.length;\n\n    function on_load() {\n      root._bokeh_is_loading--;\n      if (root._bokeh_is_loading === 0) {\n        console.debug(\"Bokeh: all BokehJS libraries/stylesheets loaded\");\n        run_callbacks()\n      }\n    }\n\n    function on_error() {\n      console.error(\"failed to load \" + url);\n    }\n\n    for (var i = 0; i < css_urls.length; i++) {\n      var url = css_urls[i];\n      const element = document.createElement(\"link\");\n      element.onload = on_load;\n      element.onerror = on_error;\n      element.rel = \"stylesheet\";\n      element.type = \"text/css\";\n      element.href = url;\n      console.debug(\"Bokeh: injecting link tag for BokehJS stylesheet: \", url);\n      document.body.appendChild(element);\n    }\n\n    for (var i = 0; i < js_urls.length; i++) {\n      var url = js_urls[i];\n      var element = document.createElement('script');\n      element.onload = on_load;\n      element.onerror = on_error;\n      element.async = false;\n      element.src = url;\n      console.debug(\"Bokeh: injecting script tag for BokehJS library: \", url);\n      document.head.appendChild(element);\n    }\n  };var element = document.getElementById(\"1001\");\n  if (element == null) {\n    console.error(\"Bokeh: ERROR: autoload.js configured with elementid '1001' but no matching script tag was found. \")\n    return false;\n  }\n\n  function inject_raw_css(css) {\n    const element = document.createElement(\"style\");\n    element.appendChild(document.createTextNode(css));\n    document.body.appendChild(element);\n  }\n\n  var js_urls = [\"https://cdn.pydata.org/bokeh/release/bokeh-1.3.4.min.js\", \"https://cdn.pydata.org/bokeh/release/bokeh-widgets-1.3.4.min.js\", \"https://cdn.pydata.org/bokeh/release/bokeh-tables-1.3.4.min.js\", \"https://cdn.pydata.org/bokeh/release/bokeh-gl-1.3.4.min.js\"];\n  var css_urls = [];\n\n  var inline_js = [\n    function(Bokeh) {\n      Bokeh.set_log_level(\"info\");\n    },\n    \n    function(Bokeh) {\n      \n    },\n    function(Bokeh) {} // ensure no trailing comma for IE\n  ];\n\n  function run_inline_js() {\n    \n    if ((root.Bokeh !== undefined) || (force === true)) {\n      for (var i = 0; i < inline_js.length; i++) {\n        inline_js[i].call(root, root.Bokeh);\n      }if (force === true) {\n        display_loaded();\n      }} else if (Date.now() < root._bokeh_timeout) {\n      setTimeout(run_inline_js, 100);\n    } else if (!root._bokeh_failed_load) {\n      console.log(\"Bokeh: BokehJS failed to load within specified timeout.\");\n      root._bokeh_failed_load = true;\n    } else if (force !== true) {\n      var cell = $(document.getElementById(\"1001\")).parents('.cell').data().cell;\n      cell.output_area.append_execute_result(NB_LOAD_WARNING)\n    }\n\n  }\n\n  if (root._bokeh_is_loading === 0) {\n    console.debug(\"Bokeh: BokehJS loaded, going straight to plotting\");\n    run_inline_js();\n  } else {\n    load_libs(css_urls, js_urls, function() {\n      console.debug(\"Bokeh: BokehJS plotting callback run at\", now());\n      run_inline_js();\n    });\n  }\n}(window));"
     },
     "metadata": {},
     "output_type": "display_data"
    }
   ],
   "source": [
    "import random\n",
    "import sys\n",
    "\n",
    "import numpy as np\n",
    "import matplotlib.pyplot as plt\n",
    "from itertools import compress\n",
    "\n",
    "# Bokeh imports\n",
    "from bokeh.io import output_notebook, show, save\n",
    "from bokeh.plotting import figure, output_file, ColumnDataSource, reset_output\n",
    "from bokeh.models import HoverTool\n",
    "output_notebook()\n",
    "\n",
    "from ipywidgets.widgets import Text\n",
    "\n",
    "#scipy constants\n",
    "from scipy.constants import Boltzmann as kB\n",
    "from scipy.constants import Avogadro as NA\n",
    "from scipy.constants import Planck as h\n",
    "from scipy.constants import speed_of_light as c0\n",
    "from scipy.constants import R\n",
    "\n",
    "sys.path.append('../CNT-SIM/')\n",
    "from CNTSimFile import CNTSimFile\n",
    "from mc_sim import exciton_sim_4_level, exciton_sim_4_lvl_full_exchange"
   ]
  },
  {
   "cell_type": "code",
   "execution_count": 2,
   "metadata": {},
   "outputs": [],
   "source": [
    "def atof(text):\n",
    "    try:\n",
    "        retval = float(text)\n",
    "    except ValueError:\n",
    "        retval = text\n",
    "    return retval\n",
    "\n",
    "def human_sorting(text):\n",
    "    '''\n",
    "    alist.sort(key=natural_keys) sorts in human order\n",
    "    http://nedbatchelder.com/blog/200712/human_sorting.html\n",
    "    (See Toothy's implementation in the comments)\n",
    "    float regex comes from https://stackoverflow.com/a/12643073/190597\n",
    "    '''\n",
    "    return [ atof(c) for c in re.findall(\"[-+]?[.]?[\\d]+(?:,\\d\\d\\d)*[\\.]?\\d*(?:[eE][-+]?\\d+)?\", text) ]"
   ]
  },
  {
   "cell_type": "code",
   "execution_count": 3,
   "metadata": {},
   "outputs": [],
   "source": [
    "import os\n",
    "files = os.listdir('../sim_output/')\n",
    "files = [r'../sim_output/' + f\n",
    "         for f in files if '2020-05-11_exciton_sim_4_level-def'\n",
    "         in f if f.endswith('.h5')]"
   ]
  },
  {
   "cell_type": "code",
   "execution_count": 4,
   "metadata": {},
   "outputs": [],
   "source": [
    "kin_const=[]"
   ]
  },
  {
   "cell_type": "code",
   "execution_count": 5,
   "metadata": {
    "scrolled": false
   },
   "outputs": [
    {
     "data": {
      "text/plain": [
       "['../sim_output/2020-05-11_exciton_sim_4_level-def-k_ed-30000000000.0_k_r-20000000000.0_3.h5',\n",
       " '../sim_output/2020-05-11_exciton_sim_4_level-def-k_ed-50000000000.0_k_r-10000000000.0_9.h5',\n",
       " '../sim_output/2020-05-11_exciton_sim_4_level-def-k_ed-30000000000.0_k_r-10000000000.0_11.h5',\n",
       " '../sim_output/2020-05-11_exciton_sim_4_level-def-k_ed-40000000000.0_k_r-15000000000.0_6.h5',\n",
       " '../sim_output/2020-05-11_exciton_sim_4_level-def-k_ed-30000000000.0_k_r-9500000000.0_15.h5',\n",
       " '../sim_output/2020-05-11_exciton_sim_4_level-def-k_ed-50000000000.0_k_r-20000000000.0_1.h5',\n",
       " '../sim_output/2020-05-11_exciton_sim_4_level-def-k_ed-40000000000.0_k_r-20000000000.0_2.h5',\n",
       " '../sim_output/2020-05-11_exciton_sim_4_level-def-k_ed-40000000000.0_k_r-9500000000.0_14.h5',\n",
       " '../sim_output/2020-05-11_exciton_sim_4_level-def-k_ed-50000000000.0_k_r-9500000000.0_13.h5',\n",
       " '../sim_output/2020-05-11_exciton_sim_4_level-def-k_ed-20000000000.0_k_r-9500000000.0_16.h5',\n",
       " '../sim_output/2020-05-11_exciton_sim_4_level-def-k_ed-40000000000.0_k_r-10000000000.0_10.h5',\n",
       " '../sim_output/2020-05-11_exciton_sim_4_level-def-k_ed-20000000000.0_k_r-10000000000.0_12.h5',\n",
       " '../sim_output/2020-05-11_exciton_sim_4_level-def-k_ed-30000000000.0_k_r-15000000000.0_7.h5',\n",
       " '../sim_output/2020-05-11_exciton_sim_4_level-def-k_ed-50000000000.0_k_r-15000000000.0_5.h5',\n",
       " '../sim_output/2020-05-11_exciton_sim_4_level-def-k_ed-20000000000.0_k_r-15000000000.0_8.h5',\n",
       " '../sim_output/2020-05-11_exciton_sim_4_level-def-k_ed-20000000000.0_k_r-20000000000.0_4.h5']"
      ]
     },
     "execution_count": 5,
     "metadata": {},
     "output_type": "execute_result"
    }
   ],
   "source": [
    "files"
   ]
  },
  {
   "cell_type": "code",
   "execution_count": 6,
   "metadata": {},
   "outputs": [],
   "source": [
    "import re\n",
    "def natural_key(string_):\n",
    "    return [int(s) if s.isdigit() else s for s in re.split(r'(\\d+)', string_)]"
   ]
  },
  {
   "cell_type": "code",
   "execution_count": 7,
   "metadata": {},
   "outputs": [],
   "source": [
    "files = sorted(files, key=natural_key)\n",
    "files = sorted(files, key= human_sorting)"
   ]
  },
  {
   "cell_type": "code",
   "execution_count": 8,
   "metadata": {},
   "outputs": [
    {
     "data": {
      "text/plain": [
       "['../sim_output/2020-05-11_exciton_sim_4_level-def-k_ed-50000000000.0_k_r-20000000000.0_1.h5',\n",
       " '../sim_output/2020-05-11_exciton_sim_4_level-def-k_ed-50000000000.0_k_r-15000000000.0_5.h5',\n",
       " '../sim_output/2020-05-11_exciton_sim_4_level-def-k_ed-50000000000.0_k_r-10000000000.0_9.h5',\n",
       " '../sim_output/2020-05-11_exciton_sim_4_level-def-k_ed-50000000000.0_k_r-9500000000.0_13.h5',\n",
       " '../sim_output/2020-05-11_exciton_sim_4_level-def-k_ed-40000000000.0_k_r-20000000000.0_2.h5',\n",
       " '../sim_output/2020-05-11_exciton_sim_4_level-def-k_ed-40000000000.0_k_r-15000000000.0_6.h5',\n",
       " '../sim_output/2020-05-11_exciton_sim_4_level-def-k_ed-40000000000.0_k_r-10000000000.0_10.h5',\n",
       " '../sim_output/2020-05-11_exciton_sim_4_level-def-k_ed-40000000000.0_k_r-9500000000.0_14.h5',\n",
       " '../sim_output/2020-05-11_exciton_sim_4_level-def-k_ed-30000000000.0_k_r-20000000000.0_3.h5',\n",
       " '../sim_output/2020-05-11_exciton_sim_4_level-def-k_ed-30000000000.0_k_r-15000000000.0_7.h5',\n",
       " '../sim_output/2020-05-11_exciton_sim_4_level-def-k_ed-30000000000.0_k_r-10000000000.0_11.h5',\n",
       " '../sim_output/2020-05-11_exciton_sim_4_level-def-k_ed-30000000000.0_k_r-9500000000.0_15.h5',\n",
       " '../sim_output/2020-05-11_exciton_sim_4_level-def-k_ed-20000000000.0_k_r-20000000000.0_4.h5',\n",
       " '../sim_output/2020-05-11_exciton_sim_4_level-def-k_ed-20000000000.0_k_r-15000000000.0_8.h5',\n",
       " '../sim_output/2020-05-11_exciton_sim_4_level-def-k_ed-20000000000.0_k_r-10000000000.0_12.h5',\n",
       " '../sim_output/2020-05-11_exciton_sim_4_level-def-k_ed-20000000000.0_k_r-9500000000.0_16.h5']"
      ]
     },
     "execution_count": 8,
     "metadata": {},
     "output_type": "execute_result"
    }
   ],
   "source": [
    "files"
   ]
  },
  {
   "cell_type": "code",
   "execution_count": 9,
   "metadata": {},
   "outputs": [
    {
     "name": "stderr",
     "output_type": "stream",
     "text": [
      "../CNT-SIM/CNTSimFile.py:30: UserWarning: File already exists, kinetic constants ingored.\n",
      "  warn(\"File already exists, kinetic constants ingored.\")\n"
     ]
    },
    {
     "name": "stdout",
     "output_type": "stream",
     "text": [
      "Existing file loaded successfully.\n",
      "Existing file loaded successfully.\n",
      "Existing file loaded successfully.\n",
      "Existing file loaded successfully.\n",
      "Existing file loaded successfully.\n",
      "Existing file loaded successfully.\n",
      "Existing file loaded successfully.\n",
      "Existing file loaded successfully.\n",
      "Existing file loaded successfully.\n",
      "Existing file loaded successfully.\n",
      "Existing file loaded successfully.\n",
      "Existing file loaded successfully.\n",
      "Existing file loaded successfully.\n",
      "Existing file loaded successfully.\n",
      "Existing file loaded successfully.\n",
      "Existing file loaded successfully.\n"
     ]
    }
   ],
   "source": [
    "CNT_sims = [CNTSimFile(i, kin_const) for i in files]"
   ]
  },
  {
   "cell_type": "code",
   "execution_count": 10,
   "metadata": {},
   "outputs": [
    {
     "data": {
      "text/plain": [
       "Text(0, 0.5, 'QY(E11) / %')"
      ]
     },
     "execution_count": 10,
     "metadata": {},
     "output_type": "execute_result"
    },
    {
     "data": {
      "image/png": "[encoded data removed]",
      "text/plain": [
       "<Figure size 432x288 with 1 Axes>"
      ]
     },
     "metadata": {
      "needs_background": "light"
     },
     "output_type": "display_data"
    }
   ],
   "source": [
    "plt.plot(CNT_sims[0].calc_dict['n_defects'], CNT_sims[0].QY[:, 0]*100,\n",
    "         label=f'k_ed = {np.format_float_scientific(CNT_sims[0].kin_const[5])}')\n",
    "plt.plot(CNT_sims[0].calc_dict['n_defects'], CNT_sims[0].QY[:, 1]*100,\n",
    "         label=f'k_ed = {np.format_float_scientific(CNT_sims[0].kin_const[5])}')\n",
    "plt.plot(CNT_sims[0].calc_dict['n_defects'], CNT_sims[0].QY[:, 1]*100+CNT_sims[0].QY[:, 0]*100,\n",
    "         label=f'k_ed = {np.format_float_scientific(CNT_sims[0].kin_const[5])}')\n",
    "plt.legend()\n",
    "plt.xlabel('$N_{def}$')\n",
    "plt.ylabel('QY(E11) / %')"
   ]
  },
  {
   "cell_type": "code",
   "execution_count": 11,
   "metadata": {},
   "outputs": [],
   "source": [
    "CNT_cube = np.zeros((4, 4, 6))"
   ]
  },
  {
   "cell_type": "code",
   "execution_count": null,
   "metadata": {},
   "outputs": [],
   "source": []
  },
  {
   "cell_type": "code",
   "execution_count": 12,
   "metadata": {},
   "outputs": [
    {
     "data": {
      "text/plain": [
       "array([0.00942, 0.00896, 0.00944, 0.00994, 0.0088 , 0.00922, 0.00986,\n",
       "       0.0094 , 0.00812, 0.00858, 0.0093 , 0.00856, 0.00874, 0.00774,\n",
       "       0.00676, 0.00704], dtype=float32)"
      ]
     },
     "execution_count": 12,
     "metadata": {},
     "output_type": "execute_result"
    }
   ],
   "source": [
    "# E11* no defects\n",
    "np.array([sim.QY[0, 0] for sim in CNT_sims])\n",
    "\n",
    "# E11 no defects\n",
    "np.array([sim.QY[0, 1] for sim in CNT_sims])"
   ]
  },
  {
   "cell_type": "code",
   "execution_count": 13,
   "metadata": {},
   "outputs": [
    {
     "data": {
      "text/plain": [
       "array([0.00134, 0.00096, 0.00078, 0.00072, 0.00214, 0.00148, 0.00088,\n",
       "       0.0008 , 0.00284, 0.00188, 0.00122, 0.0009 , 0.006  , 0.0033 ,\n",
       "       0.00126, 0.00124], dtype=float32)"
      ]
     },
     "execution_count": 13,
     "metadata": {},
     "output_type": "execute_result"
    }
   ],
   "source": [
    "# E11* 20 defects\n",
    "np.array([sim.QY[1, 0] for sim in CNT_sims])\n",
    "\n",
    "# E11 20 defects\n",
    "np.array([sim.QY[1, 1] for sim in CNT_sims])"
   ]
  },
  {
   "cell_type": "code",
   "execution_count": 14,
   "metadata": {},
   "outputs": [],
   "source": [
    "CNT_cube[:, :, 0] = np.array([sim.QY[0, 0] for sim in CNT_sims]).reshape((4, 4))\n",
    "CNT_cube[:, :, 1] = np.array([sim.QY[0, 1] for sim in CNT_sims]).reshape((4, 4))\n",
    "CNT_cube[:, :, 2] = np.array([sim.QY[1, 0] for sim in CNT_sims]).reshape((4, 4))\n",
    "CNT_cube[:, :, 3] = np.array([sim.QY[1, 1] for sim in CNT_sims]).reshape((4, 4))\n",
    "CNT_cube[:, :, 4] = np.array([sim.kin_const[0] for sim in CNT_sims]).reshape((4, 4))\n",
    "CNT_cube[:, :, 5] = np.array([sim.kin_const[5] for sim in CNT_sims]).reshape((4, 4))"
   ]
  },
  {
   "cell_type": "code",
   "execution_count": 15,
   "metadata": {},
   "outputs": [
    {
     "data": {
      "text/plain": [
       "array([[4.9999999e+10, 4.9999999e+10, 4.9999999e+10, 4.9999999e+10],\n",
       "       [4.0000000e+10, 4.0000000e+10, 4.0000000e+10, 4.0000000e+10],\n",
       "       [3.0000001e+10, 3.0000001e+10, 3.0000001e+10, 3.0000001e+10],\n",
       "       [2.0000000e+10, 2.0000000e+10, 2.0000000e+10, 2.0000000e+10]])"
      ]
     },
     "execution_count": 15,
     "metadata": {},
     "output_type": "execute_result"
    }
   ],
   "source": [
    "CNT_cube[:, :, 5]"
   ]
  },
  {
   "cell_type": "code",
   "execution_count": 16,
   "metadata": {},
   "outputs": [],
   "source": [
    "exciton_sim_4_level??"
   ]
  },
  {
   "cell_type": "code",
   "execution_count": 17,
   "metadata": {},
   "outputs": [
    {
     "data": {
      "text/plain": [
       "array([2.0000000e+10, 2.0000000e+10, 1.0000000e+10, 1.0000000e+10,\n",
       "       1.7403974e+09, 4.9999999e+10, 1.0000000e+09, 0.0000000e+00],\n",
       "      dtype=float32)"
      ]
     },
     "execution_count": 17,
     "metadata": {},
     "output_type": "execute_result"
    }
   ],
   "source": [
    "CNT_sims[0].kin_const"
   ]
  },
  {
   "cell_type": "code",
   "execution_count": 18,
   "metadata": {},
   "outputs": [],
   "source": [
    "def colorbar(mappable, clabel=None):\n",
    "    \"\"\"Sets all parameter for the colorbar and sets it next to the\n",
    "    mappable image. The colorbar is scaled so the AxesImage is not\n",
    "    distorted.\n",
    "\n",
    "    Parameters\n",
    "    ----------\n",
    "    mappable : AxesImage\n",
    "        An AxesImage object as returned by plt.imshow for instance.\n",
    "\n",
    "    Returns\n",
    "    -------\n",
    "    colorbar : Colorbar\n",
    "        A colorbar at the righthandside of the mappable.\"\"\"\n",
    "    ax = mappable.axes\n",
    "    fig = ax.figure\n",
    "    divider = make_axes_locatable(ax)\n",
    "    cax = divider.append_axes(\"right\", size=\"5%\", pad=0.1)\n",
    "    if clabel is not None:\n",
    "        return fig.colorbar(mappable, cax=cax, label=clabel)\n",
    "    else:\n",
    "        return fig.colorbar(mappable, cax=cax)\n"
   ]
  },
  {
   "cell_type": "code",
   "execution_count": 19,
   "metadata": {},
   "outputs": [],
   "source": [
    "ext =[CNT_cube[0, 0, 4], CNT_cube[0, 3, 4], CNT_cube[0, 0, 5], CNT_cube[3, 0, 5]]"
   ]
  },
  {
   "cell_type": "code",
   "execution_count": 20,
   "metadata": {},
   "outputs": [
    {
     "data": {
      "image/png": "[encoded data removed]",
      "text/plain": [
       "<Figure size 432x288 with 2 Axes>"
      ]
     },
     "metadata": {
      "needs_background": "light"
     },
     "output_type": "display_data"
    }
   ],
   "source": [
    "fig, ax = plt.subplots(1,1)\n",
    "\n",
    "img = ax.imshow(CNT_cube[:, :, 0]*100, extent=[-1,1,-1,1], aspect='auto')\n",
    "\n",
    "# set ticks\n",
    "x_tick_list = [np.format_float_scientific(e, 0) for e in CNT_cube[0, :, 4]]\n",
    "ax.set_xticks([-0.75,-0.25,0.25,0.75])\n",
    "ax.set_xticklabels(x_tick_list)\n",
    "\n",
    "y_tick_list = [np.format_float_scientific(e, 1) for e in CNT_cube[:, 0, 5]]\n",
    "ax.set_yticks([0.75,0.25,-0.25,-0.75])\n",
    "ax.set_yticklabels(y_tick_list)\n",
    "\n",
    "# set labels\n",
    "ax.set_ylabel('$k_{r}$')\n",
    "ax.set_xlabel('$k_{ed}$')\n",
    "\n",
    "ax.set_title('QY(E11*), $l$ = 300 nm, $N_{def} = 0$')\n",
    "\n",
    "fig.colorbar(img)\n",
    "plt.savefig(f'../../tmp/2020-05-11_exciton_sim_4_level-QY-E11*-0-def-map.png')"
   ]
  },
  {
   "cell_type": "code",
   "execution_count": 21,
   "metadata": {},
   "outputs": [
    {
     "data": {
      "image/png": "[encoded data removed]",
      "text/plain": [
       "<Figure size 432x288 with 2 Axes>"
      ]
     },
     "metadata": {
      "needs_background": "light"
     },
     "output_type": "display_data"
    }
   ],
   "source": [
    "fig, ax = plt.subplots(1,1)\n",
    "\n",
    "img = ax.imshow(CNT_cube[:, :, 1]*100, extent=[-1,1,-1,1], aspect='auto')\n",
    "\n",
    "# set ticks\n",
    "x_tick_list = [np.format_float_scientific(e, 0) for e in CNT_cube[0, :, 4]]\n",
    "ax.set_xticks([-0.75,-0.25,0.25,0.75])\n",
    "ax.set_xticklabels(x_tick_list)\n",
    "\n",
    "y_tick_list = [np.format_float_scientific(e, 1) for e in CNT_cube[:, 0, 5]]\n",
    "ax.set_yticks([0.75,0.25,-0.25,-0.75])\n",
    "ax.set_yticklabels(y_tick_list)\n",
    "\n",
    "# set labels\n",
    "ax.set_ylabel('$k_{r}$')\n",
    "ax.set_xlabel('$k_{ed}$')\n",
    "\n",
    "ax.set_title('QY(E11), $l$ = 300 nm, $N_{def} = 0$')\n",
    "\n",
    "fig.colorbar(img)\n",
    "plt.savefig(f'../../tmp/2020-05-11_exciton_sim_4_level-QY-E11-0-def-map.png')"
   ]
  },
  {
   "cell_type": "code",
   "execution_count": 25,
   "metadata": {},
   "outputs": [
    {
     "data": {
      "text/plain": [
       "<matplotlib.colorbar.Colorbar at 0x7f0dd6812090>"
      ]
     },
     "execution_count": 25,
     "metadata": {},
     "output_type": "execute_result"
    },
    {
     "data": {
      "image/png": "[encoded data removed]",
      "text/plain": [
       "<Figure size 432x288 with 2 Axes>"
      ]
     },
     "metadata": {
      "needs_background": "light"
     },
     "output_type": "display_data"
    }
   ],
   "source": [
    "fig, ax = plt.subplots(1,1)\n",
    "\n",
    "img = ax.imshow(CNT_cube[:, :, 4]*100, extent=[-1,1,-1,1], aspect='auto')\n",
    "\n",
    "# set ticks\n",
    "x_tick_list = [np.format_float_scientific(e, 0) for e in CNT_cube[0, :, 4]]\n",
    "ax.set_xticks([-0.75,-0.25,0.25,0.75])\n",
    "ax.set_xticklabels(x_tick_list)\n",
    "\n",
    "y_tick_list = [np.format_float_scientific(e, 1) for e in CNT_cube[:, 0, 5]]\n",
    "ax.set_yticks([0.75,0.25,-0.25,-0.75])\n",
    "ax.set_yticklabels(y_tick_list)\n",
    "\n",
    "# set labels\n",
    "ax.set_xlabel('$k_{r}$')\n",
    "ax.set_xlabel('$k_{ed}$')\n",
    "\n",
    "ax.set_title('QY(E11), $l$ = 300 nm, $N_{def} = 0$')\n",
    "\n",
    "fig.colorbar(img)\n",
    "#plt.savefig(f'../../tmp/2020-05-11_exciton_sim_4_level-QY-E11-0-def-map.png')"
   ]
  },
  {
   "cell_type": "code",
   "execution_count": 23,
   "metadata": {},
   "outputs": [
    {
     "data": {
      "image/png": "[encoded data removed]",
      "text/plain": [
       "<Figure size 432x288 with 2 Axes>"
      ]
     },
     "metadata": {
      "needs_background": "light"
     },
     "output_type": "display_data"
    }
   ],
   "source": [
    "fig, ax = plt.subplots(1,1)\n",
    "\n",
    "img = ax.imshow(CNT_cube[:, :, 2]*100, extent=[-1,1,-1,1], aspect='auto')\n",
    "\n",
    "# set ticks\n",
    "x_tick_list = [np.format_float_scientific(e, 0) for e in CNT_cube[0, :, 4]]\n",
    "ax.set_xticks([-0.75,-0.25,0.25,0.75])\n",
    "ax.set_xticklabels(x_tick_list)\n",
    "\n",
    "y_tick_list = [np.format_float_scientific(e, 1) for e in CNT_cube[:, 0, 5]]\n",
    "ax.set_yticks([0.75,0.25,-0.25,-0.75])\n",
    "ax.set_yticklabels(y_tick_list)\n",
    "\n",
    "# set labels\n",
    "ax.set_ylabel('$k_{r}$')\n",
    "ax.set_xlabel('$k_{ed}$')\n",
    "\n",
    "ax.set_title('QY(E11*), $l$ = 300 nm, $N_{def} = 20$')\n",
    "\n",
    "fig.colorbar(img)\n",
    "plt.savefig(f'../../tmp/2020-05-11_exciton_sim_4_level-QY-E11*-20-def-map.png')"
   ]
  },
  {
   "cell_type": "code",
   "execution_count": 24,
   "metadata": {},
   "outputs": [
    {
     "data": {
      "image/png": "[encoded data removed]",
      "text/plain": [
       "<Figure size 432x288 with 2 Axes>"
      ]
     },
     "metadata": {
      "needs_background": "light"
     },
     "output_type": "display_data"
    }
   ],
   "source": [
    "fig, ax = plt.subplots(1,1)\n",
    "\n",
    "img = ax.imshow(CNT_cube[:, :, 3]*100, extent=[-1,1,-1,1], aspect='auto')\n",
    "\n",
    "# set ticks\n",
    "x_tick_list = [np.format_float_scientific(e, 0) for e in CNT_cube[0, :, 4]]\n",
    "ax.set_xticks([-0.75,-0.25,0.25,0.75])\n",
    "ax.set_xticklabels(x_tick_list)\n",
    "\n",
    "y_tick_list = [np.format_float_scientific(e, 1) for e in CNT_cube[:, 0, 5]]\n",
    "ax.set_yticks([0.75,0.25,-0.25,-0.75])\n",
    "ax.set_yticklabels(y_tick_list)\n",
    "\n",
    "# set labels\n",
    "ax.set_ylabel('$k_{r}$')\n",
    "ax.set_xlabel('$k_{ed}$')\n",
    "\n",
    "ax.set_title('QY(E11), $l$ = 300 nm, $N_{def} = 20$')\n",
    "\n",
    "fig.colorbar(img)\n",
    "plt.savefig(f'../../tmp/2020-05-11_exciton_sim_4_level-QY-E11-20-def-map.png')"
   ]
  },
  {
   "cell_type": "code",
   "execution_count": null,
   "metadata": {},
   "outputs": [],
   "source": []
  }
 ],
 "metadata": {
  "kernelspec": {
   "display_name": "CNT-MC",
   "language": "python",
   "name": "cnt-mc"
  },
  "language_info": {
   "codemirror_mode": {
    "name": "ipython",
    "version": 3
   },
   "file_extension": ".py",
   "mimetype": "text/x-python",
   "name": "python",
   "nbconvert_exporter": "python",
   "pygments_lexer": "ipython3",
   "version": "3.7.7"
  }
 },
 "nbformat": 4,
 "nbformat_minor": 4
}
