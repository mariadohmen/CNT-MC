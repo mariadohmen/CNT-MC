{
 "cells": [
  {
   "cell_type": "code",
   "execution_count": 1,
   "metadata": {},
   "outputs": [
    {
     "data": {
      "text/html": [
       "\n",
       "    <div class=\"bk-root\">\n",
       "        <a href=\"https://bokeh.pydata.org\" target=\"_blank\" class=\"bk-logo bk-logo-small bk-logo-notebook\"></a>\n",
       "        <span id=\"1001\">Loading BokehJS ...</span>\n",
       "    </div>"
      ]
     },
     "metadata": {},
     "output_type": "display_data"
    },
    {
     "data": {
      "application/javascript": [
       "\n",
       "(function(root) {\n",
       "  function now() {\n",
       "    return new Date();\n",
       "  }\n",
       "\n",
       "  var force = true;\n",
       "\n",
       "  if (typeof root._bokeh_onload_callbacks === \"undefined\" || force === true) {\n",
       "    root._bokeh_onload_callbacks = [];\n",
       "    root._bokeh_is_loading = undefined;\n",
       "  }\n",
       "\n",
       "  var JS_MIME_TYPE = 'application/javascript';\n",
       "  var HTML_MIME_TYPE = 'text/html';\n",
       "  var EXEC_MIME_TYPE = 'application/vnd.bokehjs_exec.v0+json';\n",
       "  var CLASS_NAME = 'output_bokeh rendered_html';\n",
       "\n",
       "  /**\n",
       "   * Render data to the DOM node\n",
       "   */\n",
       "  function render(props, node) {\n",
       "    var script = document.createElement(\"script\");\n",
       "    node.appendChild(script);\n",
       "  }\n",
       "\n",
       "  /**\n",
       "   * Handle when an output is cleared or removed\n",
       "   */\n",
       "  function handleClearOutput(event, handle) {\n",
       "    var cell = handle.cell;\n",
       "\n",
       "    var id = cell.output_area._bokeh_element_id;\n",
       "    var server_id = cell.output_area._bokeh_server_id;\n",
       "    // Clean up Bokeh references\n",
       "    if (id != null && id in Bokeh.index) {\n",
       "      Bokeh.index[id].model.document.clear();\n",
       "      delete Bokeh.index[id];\n",
       "    }\n",
       "\n",
       "    if (server_id !== undefined) {\n",
       "      // Clean up Bokeh references\n",
       "      var cmd = \"from bokeh.io.state import curstate; print(curstate().uuid_to_server['\" + server_id + \"'].get_sessions()[0].document.roots[0]._id)\";\n",
       "      cell.notebook.kernel.execute(cmd, {\n",
       "        iopub: {\n",
       "          output: function(msg) {\n",
       "            var id = msg.content.text.trim();\n",
       "            if (id in Bokeh.index) {\n",
       "              Bokeh.index[id].model.document.clear();\n",
       "              delete Bokeh.index[id];\n",
       "            }\n",
       "          }\n",
       "        }\n",
       "      });\n",
       "      // Destroy server and session\n",
       "      var cmd = \"import bokeh.io.notebook as ion; ion.destroy_server('\" + server_id + \"')\";\n",
       "      cell.notebook.kernel.execute(cmd);\n",
       "    }\n",
       "  }\n",
       "\n",
       "  /**\n",
       "   * Handle when a new output is added\n",
       "   */\n",
       "  function handleAddOutput(event, handle) {\n",
       "    var output_area = handle.output_area;\n",
       "    var output = handle.output;\n",
       "\n",
       "    // limit handleAddOutput to display_data with EXEC_MIME_TYPE content only\n",
       "    if ((output.output_type != \"display_data\") || (!output.data.hasOwnProperty(EXEC_MIME_TYPE))) {\n",
       "      return\n",
       "    }\n",
       "\n",
       "    var toinsert = output_area.element.find(\".\" + CLASS_NAME.split(' ')[0]);\n",
       "\n",
       "    if (output.metadata[EXEC_MIME_TYPE][\"id\"] !== undefined) {\n",
       "      toinsert[toinsert.length - 1].firstChild.textContent = output.data[JS_MIME_TYPE];\n",
       "      // store reference to embed id on output_area\n",
       "      output_area._bokeh_element_id = output.metadata[EXEC_MIME_TYPE][\"id\"];\n",
       "    }\n",
       "    if (output.metadata[EXEC_MIME_TYPE][\"server_id\"] !== undefined) {\n",
       "      var bk_div = document.createElement(\"div\");\n",
       "      bk_div.innerHTML = output.data[HTML_MIME_TYPE];\n",
       "      var script_attrs = bk_div.children[0].attributes;\n",
       "      for (var i = 0; i < script_attrs.length; i++) {\n",
       "        toinsert[toinsert.length - 1].firstChild.setAttribute(script_attrs[i].name, script_attrs[i].value);\n",
       "      }\n",
       "      // store reference to server id on output_area\n",
       "      output_area._bokeh_server_id = output.metadata[EXEC_MIME_TYPE][\"server_id\"];\n",
       "    }\n",
       "  }\n",
       "\n",
       "  function register_renderer(events, OutputArea) {\n",
       "\n",
       "    function append_mime(data, metadata, element) {\n",
       "      // create a DOM node to render to\n",
       "      var toinsert = this.create_output_subarea(\n",
       "        metadata,\n",
       "        CLASS_NAME,\n",
       "        EXEC_MIME_TYPE\n",
       "      );\n",
       "      this.keyboard_manager.register_events(toinsert);\n",
       "      // Render to node\n",
       "      var props = {data: data, metadata: metadata[EXEC_MIME_TYPE]};\n",
       "      render(props, toinsert[toinsert.length - 1]);\n",
       "      element.append(toinsert);\n",
       "      return toinsert\n",
       "    }\n",
       "\n",
       "    /* Handle when an output is cleared or removed */\n",
       "    events.on('clear_output.CodeCell', handleClearOutput);\n",
       "    events.on('delete.Cell', handleClearOutput);\n",
       "\n",
       "    /* Handle when a new output is added */\n",
       "    events.on('output_added.OutputArea', handleAddOutput);\n",
       "\n",
       "    /**\n",
       "     * Register the mime type and append_mime function with output_area\n",
       "     */\n",
       "    OutputArea.prototype.register_mime_type(EXEC_MIME_TYPE, append_mime, {\n",
       "      /* Is output safe? */\n",
       "      safe: true,\n",
       "      /* Index of renderer in `output_area.display_order` */\n",
       "      index: 0\n",
       "    });\n",
       "  }\n",
       "\n",
       "  // register the mime type if in Jupyter Notebook environment and previously unregistered\n",
       "  if (root.Jupyter !== undefined) {\n",
       "    var events = require('base/js/events');\n",
       "    var OutputArea = require('notebook/js/outputarea').OutputArea;\n",
       "\n",
       "    if (OutputArea.prototype.mime_types().indexOf(EXEC_MIME_TYPE) == -1) {\n",
       "      register_renderer(events, OutputArea);\n",
       "    }\n",
       "  }\n",
       "\n",
       "  \n",
       "  if (typeof (root._bokeh_timeout) === \"undefined\" || force === true) {\n",
       "    root._bokeh_timeout = Date.now() + 5000;\n",
       "    root._bokeh_failed_load = false;\n",
       "  }\n",
       "\n",
       "  var NB_LOAD_WARNING = {'data': {'text/html':\n",
       "     \"<div style='background-color: #fdd'>\\n\"+\n",
       "     \"<p>\\n\"+\n",
       "     \"BokehJS does not appear to have successfully loaded. If loading BokehJS from CDN, this \\n\"+\n",
       "     \"may be due to a slow or bad network connection. Possible fixes:\\n\"+\n",
       "     \"</p>\\n\"+\n",
       "     \"<ul>\\n\"+\n",
       "     \"<li>re-rerun `output_notebook()` to attempt to load from CDN again, or</li>\\n\"+\n",
       "     \"<li>use INLINE resources instead, as so:</li>\\n\"+\n",
       "     \"</ul>\\n\"+\n",
       "     \"<code>\\n\"+\n",
       "     \"from bokeh.resources import INLINE\\n\"+\n",
       "     \"output_notebook(resources=INLINE)\\n\"+\n",
       "     \"</code>\\n\"+\n",
       "     \"</div>\"}};\n",
       "\n",
       "  function display_loaded() {\n",
       "    var el = document.getElementById(\"1001\");\n",
       "    if (el != null) {\n",
       "      el.textContent = \"BokehJS is loading...\";\n",
       "    }\n",
       "    if (root.Bokeh !== undefined) {\n",
       "      if (el != null) {\n",
       "        el.textContent = \"BokehJS \" + root.Bokeh.version + \" successfully loaded.\";\n",
       "      }\n",
       "    } else if (Date.now() < root._bokeh_timeout) {\n",
       "      setTimeout(display_loaded, 100)\n",
       "    }\n",
       "  }\n",
       "\n",
       "\n",
       "  function run_callbacks() {\n",
       "    try {\n",
       "      root._bokeh_onload_callbacks.forEach(function(callback) {\n",
       "        if (callback != null)\n",
       "          callback();\n",
       "      });\n",
       "    } finally {\n",
       "      delete root._bokeh_onload_callbacks\n",
       "    }\n",
       "    console.debug(\"Bokeh: all callbacks have finished\");\n",
       "  }\n",
       "\n",
       "  function load_libs(css_urls, js_urls, callback) {\n",
       "    if (css_urls == null) css_urls = [];\n",
       "    if (js_urls == null) js_urls = [];\n",
       "\n",
       "    root._bokeh_onload_callbacks.push(callback);\n",
       "    if (root._bokeh_is_loading > 0) {\n",
       "      console.debug(\"Bokeh: BokehJS is being loaded, scheduling callback at\", now());\n",
       "      return null;\n",
       "    }\n",
       "    if (js_urls == null || js_urls.length === 0) {\n",
       "      run_callbacks();\n",
       "      return null;\n",
       "    }\n",
       "    console.debug(\"Bokeh: BokehJS not loaded, scheduling load and callback at\", now());\n",
       "    root._bokeh_is_loading = css_urls.length + js_urls.length;\n",
       "\n",
       "    function on_load() {\n",
       "      root._bokeh_is_loading--;\n",
       "      if (root._bokeh_is_loading === 0) {\n",
       "        console.debug(\"Bokeh: all BokehJS libraries/stylesheets loaded\");\n",
       "        run_callbacks()\n",
       "      }\n",
       "    }\n",
       "\n",
       "    function on_error() {\n",
       "      console.error(\"failed to load \" + url);\n",
       "    }\n",
       "\n",
       "    for (var i = 0; i < css_urls.length; i++) {\n",
       "      var url = css_urls[i];\n",
       "      const element = document.createElement(\"link\");\n",
       "      element.onload = on_load;\n",
       "      element.onerror = on_error;\n",
       "      element.rel = \"stylesheet\";\n",
       "      element.type = \"text/css\";\n",
       "      element.href = url;\n",
       "      console.debug(\"Bokeh: injecting link tag for BokehJS stylesheet: \", url);\n",
       "      document.body.appendChild(element);\n",
       "    }\n",
       "\n",
       "    for (var i = 0; i < js_urls.length; i++) {\n",
       "      var url = js_urls[i];\n",
       "      var element = document.createElement('script');\n",
       "      element.onload = on_load;\n",
       "      element.onerror = on_error;\n",
       "      element.async = false;\n",
       "      element.src = url;\n",
       "      console.debug(\"Bokeh: injecting script tag for BokehJS library: \", url);\n",
       "      document.head.appendChild(element);\n",
       "    }\n",
       "  };var element = document.getElementById(\"1001\");\n",
       "  if (element == null) {\n",
       "    console.error(\"Bokeh: ERROR: autoload.js configured with elementid '1001' but no matching script tag was found. \")\n",
       "    return false;\n",
       "  }\n",
       "\n",
       "  function inject_raw_css(css) {\n",
       "    const element = document.createElement(\"style\");\n",
       "    element.appendChild(document.createTextNode(css));\n",
       "    document.body.appendChild(element);\n",
       "  }\n",
       "\n",
       "  var js_urls = [\"https://cdn.pydata.org/bokeh/release/bokeh-1.3.4.min.js\", \"https://cdn.pydata.org/bokeh/release/bokeh-widgets-1.3.4.min.js\", \"https://cdn.pydata.org/bokeh/release/bokeh-tables-1.3.4.min.js\", \"https://cdn.pydata.org/bokeh/release/bokeh-gl-1.3.4.min.js\"];\n",
       "  var css_urls = [];\n",
       "\n",
       "  var inline_js = [\n",
       "    function(Bokeh) {\n",
       "      Bokeh.set_log_level(\"info\");\n",
       "    },\n",
       "    \n",
       "    function(Bokeh) {\n",
       "      \n",
       "    },\n",
       "    function(Bokeh) {} // ensure no trailing comma for IE\n",
       "  ];\n",
       "\n",
       "  function run_inline_js() {\n",
       "    \n",
       "    if ((root.Bokeh !== undefined) || (force === true)) {\n",
       "      for (var i = 0; i < inline_js.length; i++) {\n",
       "        inline_js[i].call(root, root.Bokeh);\n",
       "      }if (force === true) {\n",
       "        display_loaded();\n",
       "      }} else if (Date.now() < root._bokeh_timeout) {\n",
       "      setTimeout(run_inline_js, 100);\n",
       "    } else if (!root._bokeh_failed_load) {\n",
       "      console.log(\"Bokeh: BokehJS failed to load within specified timeout.\");\n",
       "      root._bokeh_failed_load = true;\n",
       "    } else if (force !== true) {\n",
       "      var cell = $(document.getElementById(\"1001\")).parents('.cell').data().cell;\n",
       "      cell.output_area.append_execute_result(NB_LOAD_WARNING)\n",
       "    }\n",
       "\n",
       "  }\n",
       "\n",
       "  if (root._bokeh_is_loading === 0) {\n",
       "    console.debug(\"Bokeh: BokehJS loaded, going straight to plotting\");\n",
       "    run_inline_js();\n",
       "  } else {\n",
       "    load_libs(css_urls, js_urls, function() {\n",
       "      console.debug(\"Bokeh: BokehJS plotting callback run at\", now());\n",
       "      run_inline_js();\n",
       "    });\n",
       "  }\n",
       "}(window));"
      ],
      "application/vnd.bokehjs_load.v0+json": "\n(function(root) {\n  function now() {\n    return new Date();\n  }\n\n  var force = true;\n\n  if (typeof root._bokeh_onload_callbacks === \"undefined\" || force === true) {\n    root._bokeh_onload_callbacks = [];\n    root._bokeh_is_loading = undefined;\n  }\n\n  \n\n  \n  if (typeof (root._bokeh_timeout) === \"undefined\" || force === true) {\n    root._bokeh_timeout = Date.now() + 5000;\n    root._bokeh_failed_load = false;\n  }\n\n  var NB_LOAD_WARNING = {'data': {'text/html':\n     \"<div style='background-color: #fdd'>\\n\"+\n     \"<p>\\n\"+\n     \"BokehJS does not appear to have successfully loaded. If loading BokehJS from CDN, this \\n\"+\n     \"may be due to a slow or bad network connection. Possible fixes:\\n\"+\n     \"</p>\\n\"+\n     \"<ul>\\n\"+\n     \"<li>re-rerun `output_notebook()` to attempt to load from CDN again, or</li>\\n\"+\n     \"<li>use INLINE resources instead, as so:</li>\\n\"+\n     \"</ul>\\n\"+\n     \"<code>\\n\"+\n     \"from bokeh.resources import INLINE\\n\"+\n     \"output_notebook(resources=INLINE)\\n\"+\n     \"</code>\\n\"+\n     \"</div>\"}};\n\n  function display_loaded() {\n    var el = document.getElementById(\"1001\");\n    if (el != null) {\n      el.textContent = \"BokehJS is loading...\";\n    }\n    if (root.Bokeh !== undefined) {\n      if (el != null) {\n        el.textContent = \"BokehJS \" + root.Bokeh.version + \" successfully loaded.\";\n      }\n    } else if (Date.now() < root._bokeh_timeout) {\n      setTimeout(display_loaded, 100)\n    }\n  }\n\n\n  function run_callbacks() {\n    try {\n      root._bokeh_onload_callbacks.forEach(function(callback) {\n        if (callback != null)\n          callback();\n      });\n    } finally {\n      delete root._bokeh_onload_callbacks\n    }\n    console.debug(\"Bokeh: all callbacks have finished\");\n  }\n\n  function load_libs(css_urls, js_urls, callback) {\n    if (css_urls == null) css_urls = [];\n    if (js_urls == null) js_urls = [];\n\n    root._bokeh_onload_callbacks.push(callback);\n    if (root._bokeh_is_loading > 0) {\n      console.debug(\"Bokeh: BokehJS is being loaded, scheduling callback at\", now());\n      return null;\n    }\n    if (js_urls == null || js_urls.length === 0) {\n      run_callbacks();\n      return null;\n    }\n    console.debug(\"Bokeh: BokehJS not loaded, scheduling load and callback at\", now());\n    root._bokeh_is_loading = css_urls.length + js_urls.length;\n\n    function on_load() {\n      root._bokeh_is_loading--;\n      if (root._bokeh_is_loading === 0) {\n        console.debug(\"Bokeh: all BokehJS libraries/stylesheets loaded\");\n        run_callbacks()\n      }\n    }\n\n    function on_error() {\n      console.error(\"failed to load \" + url);\n    }\n\n    for (var i = 0; i < css_urls.length; i++) {\n      var url = css_urls[i];\n      const element = document.createElement(\"link\");\n      element.onload = on_load;\n      element.onerror = on_error;\n      element.rel = \"stylesheet\";\n      element.type = \"text/css\";\n      element.href = url;\n      console.debug(\"Bokeh: injecting link tag for BokehJS stylesheet: \", url);\n      document.body.appendChild(element);\n    }\n\n    for (var i = 0; i < js_urls.length; i++) {\n      var url = js_urls[i];\n      var element = document.createElement('script');\n      element.onload = on_load;\n      element.onerror = on_error;\n      element.async = false;\n      element.src = url;\n      console.debug(\"Bokeh: injecting script tag for BokehJS library: \", url);\n      document.head.appendChild(element);\n    }\n  };var element = document.getElementById(\"1001\");\n  if (element == null) {\n    console.error(\"Bokeh: ERROR: autoload.js configured with elementid '1001' but no matching script tag was found. \")\n    return false;\n  }\n\n  function inject_raw_css(css) {\n    const element = document.createElement(\"style\");\n    element.appendChild(document.createTextNode(css));\n    document.body.appendChild(element);\n  }\n\n  var js_urls = [\"https://cdn.pydata.org/bokeh/release/bokeh-1.3.4.min.js\", \"https://cdn.pydata.org/bokeh/release/bokeh-widgets-1.3.4.min.js\", \"https://cdn.pydata.org/bokeh/release/bokeh-tables-1.3.4.min.js\", \"https://cdn.pydata.org/bokeh/release/bokeh-gl-1.3.4.min.js\"];\n  var css_urls = [];\n\n  var inline_js = [\n    function(Bokeh) {\n      Bokeh.set_log_level(\"info\");\n    },\n    \n    function(Bokeh) {\n      \n    },\n    function(Bokeh) {} // ensure no trailing comma for IE\n  ];\n\n  function run_inline_js() {\n    \n    if ((root.Bokeh !== undefined) || (force === true)) {\n      for (var i = 0; i < inline_js.length; i++) {\n        inline_js[i].call(root, root.Bokeh);\n      }if (force === true) {\n        display_loaded();\n      }} else if (Date.now() < root._bokeh_timeout) {\n      setTimeout(run_inline_js, 100);\n    } else if (!root._bokeh_failed_load) {\n      console.log(\"Bokeh: BokehJS failed to load within specified timeout.\");\n      root._bokeh_failed_load = true;\n    } else if (force !== true) {\n      var cell = $(document.getElementById(\"1001\")).parents('.cell').data().cell;\n      cell.output_area.append_execute_result(NB_LOAD_WARNING)\n    }\n\n  }\n\n  if (root._bokeh_is_loading === 0) {\n    console.debug(\"Bokeh: BokehJS loaded, going straight to plotting\");\n    run_inline_js();\n  } else {\n    load_libs(css_urls, js_urls, function() {\n      console.debug(\"Bokeh: BokehJS plotting callback run at\", now());\n      run_inline_js();\n    });\n  }\n}(window));"
     },
     "metadata": {},
     "output_type": "display_data"
    }
   ],
   "source": [
    "import random\n",
    "import sys\n",
    "\n",
    "import numpy as np\n",
    "import matplotlib.pyplot as plt\n",
    "from itertools import compress\n",
    "\n",
    "# Bokeh imports\n",
    "from bokeh.io import output_notebook, show, save\n",
    "from bokeh.plotting import figure, output_file, ColumnDataSource, reset_output\n",
    "from bokeh.models import HoverTool\n",
    "output_notebook()\n",
    "\n",
    "from ipywidgets.widgets import Text\n",
    "\n",
    "#scipy constants\n",
    "from scipy.constants import Boltzmann as kB\n",
    "from scipy.constants import Avogadro as NA\n",
    "from scipy.constants import Planck as h\n",
    "from scipy.constants import speed_of_light as c0\n",
    "from scipy.constants import R\n",
    "\n",
    "sys.path.append('../CNT-SIM/')\n",
    "from CNTSimFile import CNTSimFile\n",
    "from mc_sim import exciton_sim_4_level, exciton_sim_4_lvl_full_exchange"
   ]
  },
  {
   "cell_type": "code",
   "execution_count": 70,
   "metadata": {},
   "outputs": [],
   "source": [
    "def atof(text):\n",
    "    try:\n",
    "        retval = float(text)\n",
    "    except ValueError:\n",
    "        retval = text\n",
    "    return retval\n",
    "\n",
    "def human_sorting(text):\n",
    "    '''\n",
    "    alist.sort(key=natural_keys) sorts in human order\n",
    "    http://nedbatchelder.com/blog/200712/human_sorting.html\n",
    "    (See Toothy's implementation in the comments)\n",
    "    float regex comes from https://stackoverflow.com/a/12643073/190597\n",
    "    '''\n",
    "    return [ atof(c) for c in re.findall(\"[-+]?[.]?[\\d]+(?:,\\d\\d\\d)*[\\.]?\\d*(?:[eE][-+]?\\d+)?\", text) ]"
   ]
  },
  {
   "cell_type": "code",
   "execution_count": 81,
   "metadata": {},
   "outputs": [],
   "source": [
    "import os\n",
    "files = os.listdir('../sim_output/')\n",
    "files = [r'../sim_output/' + f\n",
    "         for f in files if '2020-05-19_exciton_sim_4_level-def'\n",
    "         in f if f.endswith('.h5')]"
   ]
  },
  {
   "cell_type": "code",
   "execution_count": 82,
   "metadata": {},
   "outputs": [],
   "source": [
    "files = os.listdir('../sim_output/')"
   ]
  },
  {
   "cell_type": "code",
   "execution_count": 78,
   "metadata": {},
   "outputs": [],
   "source": [
    "kin_const =[]"
   ]
  },
  {
   "cell_type": "code",
   "execution_count": 88,
   "metadata": {},
   "outputs": [
    {
     "data": {
      "text/plain": [
       "(4, 4, 8)"
      ]
     },
     "execution_count": 88,
     "metadata": {},
     "output_type": "execute_result"
    }
   ],
   "source": [
    "(4, 4)+ ((6+2),)"
   ]
  },
  {
   "cell_type": "code",
   "execution_count": 90,
   "metadata": {},
   "outputs": [],
   "source": [
    "def import_Sim_files(import_criterium, shape, kin_const_indeces):\n",
    "    \n",
    "    files = os.listdir('../sim_output/')\n",
    "    files = [r'../sim_output/' + f\n",
    "         for f in files if import_criterium\n",
    "         in f if f.endswith('.h5')]\n",
    "    files = sorted(files, key= human_sorting)\n",
    "    CNT_sims = [CNTSimFile(i, kin_const) for i in files]\n",
    "    n_def_calc,_ = CNT_sims[0].QY.shape\n",
    "    \n",
    "    # Initiate data cube\n",
    "    CNT_cube = np.zeros(shape + (n_def_calc + 2), )\n",
    "    \n",
    "    # Load every QY in cube\n",
    "    for i in np.arange(n_def_calc):\n",
    "        CNT_cube[:, :, 2 * i] = np.array([sim.QY[i, 0] for sim in CNT_sims]).reshape(shape)\n",
    "        CNT_cube[:, :, 2 * i + 1] = np.array([sim.QY[i, 1] for sim in CNT_sims]).reshape(shape)\n",
    "        CNT_cube[:, :, -2] = np.array([sim.kin_const[kin_const_indeces[0]] for sim in CNT_sims]).reshape(shape)\n",
    "        CNT_cube[:, :, -1] = np.array([sim.kin_const[kin_const_indeces[1]] for sim in CNT_sims]).reshape(shape)       \n",
    "    return CNT_sims, CNT_cube"
   ]
  },
  {
   "cell_type": "code",
   "execution_count": 74,
   "metadata": {},
   "outputs": [],
   "source": [
    "import re\n",
    "def natural_key(string_):\n",
    "    return [int(s) if s.isdigit() else s for s in re.split(r'(\\d+)', string_)]"
   ]
  },
  {
   "cell_type": "code",
   "execution_count": 75,
   "metadata": {},
   "outputs": [],
   "source": [
    "from pprint import pprint"
   ]
  },
  {
   "cell_type": "code",
   "execution_count": 76,
   "metadata": {},
   "outputs": [
    {
     "name": "stdout",
     "output_type": "stream",
     "text": [
      "['../sim_output/2020-05-19_exciton_sim_4_level-def-k_ed-20000000000.0_k_r-9500000000.0_16.h5',\n",
      " '../sim_output/2020-05-19_exciton_sim_4_level-def-k_ed-20000000000.0_k_r-10000000000.0_12.h5',\n",
      " '../sim_output/2020-05-19_exciton_sim_4_level-def-k_ed-20000000000.0_k_r-15000000000.0_8.h5',\n",
      " '../sim_output/2020-05-19_exciton_sim_4_level-def-k_ed-20000000000.0_k_r-20000000000.0_4.h5',\n",
      " '../sim_output/2020-05-19_exciton_sim_4_level-def-k_ed-30000000000.0_k_r-9500000000.0_15.h5',\n",
      " '../sim_output/2020-05-19_exciton_sim_4_level-def-k_ed-30000000000.0_k_r-10000000000.0_11.h5',\n",
      " '../sim_output/2020-05-19_exciton_sim_4_level-def-k_ed-30000000000.0_k_r-15000000000.0_7.h5',\n",
      " '../sim_output/2020-05-19_exciton_sim_4_level-def-k_ed-30000000000.0_k_r-20000000000.0_3.h5',\n",
      " '../sim_output/2020-05-19_exciton_sim_4_level-def-k_ed-40000000000.0_k_r-9500000000.0_14.h5',\n",
      " '../sim_output/2020-05-19_exciton_sim_4_level-def-k_ed-40000000000.0_k_r-10000000000.0_10.h5',\n",
      " '../sim_output/2020-05-19_exciton_sim_4_level-def-k_ed-40000000000.0_k_r-15000000000.0_6.h5',\n",
      " '../sim_output/2020-05-19_exciton_sim_4_level-def-k_ed-40000000000.0_k_r-20000000000.0_2.h5',\n",
      " '../sim_output/2020-05-19_exciton_sim_4_level-def-k_ed-50000000000.0_k_r-9500000000.0_13.h5',\n",
      " '../sim_output/2020-05-19_exciton_sim_4_level-def-k_ed-50000000000.0_k_r-10000000000.0_9.h5',\n",
      " '../sim_output/2020-05-19_exciton_sim_4_level-def-k_ed-50000000000.0_k_r-15000000000.0_5.h5',\n",
      " '../sim_output/2020-05-19_exciton_sim_4_level-def-k_ed-50000000000.0_k_r-20000000000.0_1.h5']\n",
      "['../sim_output/2020-05-19_exciton_sim_4_level-def-k_ed-50000000000.0_k_r-20000000000.0_1.h5',\n",
      " '../sim_output/2020-05-19_exciton_sim_4_level-def-k_ed-50000000000.0_k_r-15000000000.0_5.h5',\n",
      " '../sim_output/2020-05-19_exciton_sim_4_level-def-k_ed-50000000000.0_k_r-10000000000.0_9.h5',\n",
      " '../sim_output/2020-05-19_exciton_sim_4_level-def-k_ed-50000000000.0_k_r-9500000000.0_13.h5',\n",
      " '../sim_output/2020-05-19_exciton_sim_4_level-def-k_ed-40000000000.0_k_r-20000000000.0_2.h5',\n",
      " '../sim_output/2020-05-19_exciton_sim_4_level-def-k_ed-40000000000.0_k_r-15000000000.0_6.h5',\n",
      " '../sim_output/2020-05-19_exciton_sim_4_level-def-k_ed-40000000000.0_k_r-10000000000.0_10.h5',\n",
      " '../sim_output/2020-05-19_exciton_sim_4_level-def-k_ed-40000000000.0_k_r-9500000000.0_14.h5',\n",
      " '../sim_output/2020-05-19_exciton_sim_4_level-def-k_ed-30000000000.0_k_r-20000000000.0_3.h5',\n",
      " '../sim_output/2020-05-19_exciton_sim_4_level-def-k_ed-30000000000.0_k_r-15000000000.0_7.h5',\n",
      " '../sim_output/2020-05-19_exciton_sim_4_level-def-k_ed-30000000000.0_k_r-10000000000.0_11.h5',\n",
      " '../sim_output/2020-05-19_exciton_sim_4_level-def-k_ed-30000000000.0_k_r-9500000000.0_15.h5',\n",
      " '../sim_output/2020-05-19_exciton_sim_4_level-def-k_ed-20000000000.0_k_r-20000000000.0_4.h5',\n",
      " '../sim_output/2020-05-19_exciton_sim_4_level-def-k_ed-20000000000.0_k_r-15000000000.0_8.h5',\n",
      " '../sim_output/2020-05-19_exciton_sim_4_level-def-k_ed-20000000000.0_k_r-10000000000.0_12.h5',\n",
      " '../sim_output/2020-05-19_exciton_sim_4_level-def-k_ed-20000000000.0_k_r-9500000000.0_16.h5']\n"
     ]
    }
   ],
   "source": [
    "files = sorted(files, key=natural_key)\n",
    "files = sorted(files, key= human_sorting)\n",
    "pprint(files)"
   ]
  },
  {
   "cell_type": "code",
   "execution_count": 9,
   "metadata": {},
   "outputs": [
    {
     "name": "stderr",
     "output_type": "stream",
     "text": [
      "../CNT-SIM/CNTSimFile.py:30: UserWarning: File already exists, kinetic constants ingored.\n",
      "  warn(\"File already exists, kinetic constants ingored.\")\n"
     ]
    },
    {
     "name": "stdout",
     "output_type": "stream",
     "text": [
      "Existing file loaded successfully.\n",
      "Existing file loaded successfully.\n",
      "Existing file loaded successfully.\n",
      "Existing file loaded successfully.\n",
      "Existing file loaded successfully.\n",
      "Existing file loaded successfully.\n",
      "Existing file loaded successfully.\n",
      "Existing file loaded successfully.\n",
      "Existing file loaded successfully.\n",
      "Existing file loaded successfully.\n",
      "Existing file loaded successfully.\n",
      "Existing file loaded successfully.\n",
      "Existing file loaded successfully.\n",
      "Existing file loaded successfully.\n",
      "Existing file loaded successfully.\n",
      "Existing file loaded successfully.\n"
     ]
    }
   ],
   "source": [
    "CNT_sims = [CNTSimFile(i, kin_const) for i in files]"
   ]
  },
  {
   "cell_type": "code",
   "execution_count": 10,
   "metadata": {},
   "outputs": [
    {
     "data": {
      "text/plain": [
       "Text(0, 0.5, 'QY(E11) / %')"
      ]
     },
     "execution_count": 10,
     "metadata": {},
     "output_type": "execute_result"
    },
    {
     "data": {
      "image/png": "[encoded data removed]",
      "text/plain": [
       "<Figure size 432x288 with 1 Axes>"
      ]
     },
     "metadata": {
      "needs_background": "light"
     },
     "output_type": "display_data"
    }
   ],
   "source": [
    "plt.plot(CNT_sims[0].calc_dict['n_defects'], CNT_sims[0].QY[:, 0]*100,\n",
    "         label=f'k_ed = {np.format_float_scientific(CNT_sims[0].kin_const[5])}')\n",
    "plt.plot(CNT_sims[0].calc_dict['n_defects'], CNT_sims[0].QY[:, 1]*100,\n",
    "         label=f'k_ed = {np.format_float_scientific(CNT_sims[0].kin_const[5])}')\n",
    "plt.plot(CNT_sims[0].calc_dict['n_defects'], CNT_sims[0].QY[:, 1]*100+CNT_sims[0].QY[:, 0]*100,\n",
    "         label=f'k_ed = {np.format_float_scientific(CNT_sims[0].kin_const[5])}')\n",
    "plt.legend()\n",
    "plt.xlabel('$N_{def}$')\n",
    "plt.ylabel('QY(E11) / %')"
   ]
  },
  {
   "cell_type": "code",
   "execution_count": 11,
   "metadata": {},
   "outputs": [],
   "source": [
    "CNT_cube = np.zeros((4, 4, 8))"
   ]
  },
  {
   "cell_type": "code",
   "execution_count": 12,
   "metadata": {},
   "outputs": [
    {
     "data": {
      "text/plain": [
       "array([0.00844, 0.00938, 0.00976, 0.0091 , 0.00888, 0.00906, 0.0095 ,\n",
       "       0.00898, 0.00854, 0.00838, 0.00814, 0.00834, 0.00828, 0.00736,\n",
       "       0.00754, 0.00772], dtype=float32)"
      ]
     },
     "execution_count": 12,
     "metadata": {},
     "output_type": "execute_result"
    }
   ],
   "source": [
    "# E11* no defects\n",
    "np.array([sim.QY[0, 0] for sim in CNT_sims])\n",
    "\n",
    "# E11 no defects\n",
    "np.array([sim.QY[0, 1] for sim in CNT_sims])"
   ]
  },
  {
   "cell_type": "code",
   "execution_count": 13,
   "metadata": {},
   "outputs": [
    {
     "data": {
      "text/plain": [
       "array([0.00132, 0.00124, 0.00068, 0.0006 , 0.0019 , 0.00152, 0.0006 ,\n",
       "       0.00046, 0.003  , 0.00206, 0.00064, 0.0008 , 0.00492, 0.00348,\n",
       "       0.0012 , 0.00122], dtype=float32)"
      ]
     },
     "execution_count": 13,
     "metadata": {},
     "output_type": "execute_result"
    }
   ],
   "source": [
    "# E11* 20 defects\n",
    "np.array([sim.QY[1, 0] for sim in CNT_sims])\n",
    "\n",
    "# E11 20 defects\n",
    "np.array([sim.QY[1, 1] for sim in CNT_sims])"
   ]
  },
  {
   "cell_type": "code",
   "execution_count": 14,
   "metadata": {},
   "outputs": [
    {
     "data": {
      "text/plain": [
       "array([0.00128, 0.00076, 0.00024, 0.00018, 0.0019 , 0.0012 , 0.00032,\n",
       "       0.00038, 0.00226, 0.0016 , 0.0008 , 0.00054, 0.00528, 0.0029 ,\n",
       "       0.00104, 0.001  ], dtype=float32)"
      ]
     },
     "execution_count": 14,
     "metadata": {},
     "output_type": "execute_result"
    }
   ],
   "source": [
    "# E11* 50 defects\n",
    "np.array([sim.QY[2, 0] for sim in CNT_sims])\n",
    "\n",
    "# E11 50 defects\n",
    "np.array([sim.QY[2, 1] for sim in CNT_sims])"
   ]
  },
  {
   "cell_type": "code",
   "execution_count": 15,
   "metadata": {},
   "outputs": [],
   "source": [
    "CNT_cube[:, :, 0] = np.array([sim.QY[0, 0] for sim in CNT_sims]).reshape((4, 4))\n",
    "CNT_cube[:, :, 1] = np.array([sim.QY[0, 1] for sim in CNT_sims]).reshape((4, 4))\n",
    "CNT_cube[:, :, 2] = np.array([sim.QY[1, 0] for sim in CNT_sims]).reshape((4, 4))\n",
    "CNT_cube[:, :, 3] = np.array([sim.QY[1, 1] for sim in CNT_sims]).reshape((4, 4))\n",
    "CNT_cube[:, :, 4] = np.array([sim.QY[2, 0] for sim in CNT_sims]).reshape((4, 4))\n",
    "CNT_cube[:, :, 5] = np.array([sim.QY[2, 1] for sim in CNT_sims]).reshape((4, 4))\n",
    "CNT_cube[:, :, 6] = np.array([sim.kin_const[0] for sim in CNT_sims]).reshape((4, 4))\n",
    "CNT_cube[:, :, 7] = np.array([sim.kin_const[5] for sim in CNT_sims]).reshape((4, 4))"
   ]
  },
  {
   "cell_type": "code",
   "execution_count": 16,
   "metadata": {},
   "outputs": [
    {
     "data": {
      "text/plain": [
       "array([[2.00000000e+10, 1.50000005e+10, 1.00000000e+10, 9.50000026e+09],\n",
       "       [2.00000000e+10, 1.50000005e+10, 1.00000000e+10, 9.50000026e+09],\n",
       "       [2.00000000e+10, 1.50000005e+10, 1.00000000e+10, 9.50000026e+09],\n",
       "       [2.00000000e+10, 1.50000005e+10, 1.00000000e+10, 9.50000026e+09]])"
      ]
     },
     "execution_count": 16,
     "metadata": {},
     "output_type": "execute_result"
    }
   ],
   "source": [
    "CNT_cube[:, :, 6]"
   ]
  },
  {
   "cell_type": "code",
   "execution_count": 17,
   "metadata": {},
   "outputs": [
    {
     "data": {
      "text/plain": [
       "array([2.0000000e+10, 2.0000000e+10, 1.0000000e+10, 1.0000000e+10,\n",
       "       1.7403974e+09, 4.9999999e+10, 1.0000000e+09, 0.0000000e+00],\n",
       "      dtype=float32)"
      ]
     },
     "execution_count": 17,
     "metadata": {},
     "output_type": "execute_result"
    }
   ],
   "source": [
    "CNT_sims[0].kin_const"
   ]
  },
  {
   "cell_type": "code",
   "execution_count": 18,
   "metadata": {},
   "outputs": [],
   "source": [
    "def colorbar(mappable, clabel=None):\n",
    "    \"\"\"Sets all parameter for the colorbar and sets it next to the\n",
    "    mappable image. The colorbar is scaled so the AxesImage is not\n",
    "    distorted.\n",
    "\n",
    "    Parameters\n",
    "    ----------\n",
    "    mappable : AxesImage\n",
    "        An AxesImage object as returned by plt.imshow for instance.\n",
    "\n",
    "    Returns\n",
    "    -------\n",
    "    colorbar : Colorbar\n",
    "        A colorbar at the righthandside of the mappable.\"\"\"\n",
    "    ax = mappable.axes\n",
    "    fig = ax.figure\n",
    "    divider = make_axes_locatable(ax)\n",
    "    cax = divider.append_axes(\"right\", size=\"5%\", pad=0.1)\n",
    "    if clabel is not None:\n",
    "        return fig.colorbar(mappable, cax=cax, label=clabel)\n",
    "    else:\n",
    "        return fig.colorbar(mappable, cax=cax)"
   ]
  },
  {
   "cell_type": "code",
   "execution_count": 35,
   "metadata": {},
   "outputs": [],
   "source": [
    "i = 10"
   ]
  },
  {
   "cell_type": "code",
   "execution_count": 36,
   "metadata": {},
   "outputs": [
    {
     "data": {
      "text/plain": [
       "array([-0.9, -0.7, -0.5, -0.3, -0.1,  0.1,  0.3,  0.5,  0.7,  0.9])"
      ]
     },
     "execution_count": 36,
     "metadata": {},
     "output_type": "execute_result"
    }
   ],
   "source": [
    "np.arange(-1+1/i, 1, 2/i)"
   ]
  },
  {
   "cell_type": "code",
   "execution_count": 42,
   "metadata": {},
   "outputs": [
    {
     "data": {
      "text/plain": [
       "array([-0.8       , -0.63333333, -0.46666667, -0.3       , -0.13333333,\n",
       "        0.03333333,  0.2       ,  0.36666667,  0.53333333,  0.7       ,\n",
       "        0.86666667])"
      ]
     },
     "execution_count": 42,
     "metadata": {},
     "output_type": "execute_result"
    }
   ],
   "source": [
    "np.arange(-1+1/i, 1, 1/(i+1))"
   ]
  },
  {
   "cell_type": "code",
   "execution_count": null,
   "metadata": {},
   "outputs": [],
   "source": []
  },
  {
   "cell_type": "code",
   "execution_count": 49,
   "metadata": {},
   "outputs": [],
   "source": [
    "def plot_quantum_yield(data_cube, QY_index, title, xlabel='$k_{r}$', ylabel='$k_{ed}$', decimal_points=2):\n",
    "    \"\"\"Plot a 2D image of QY variation when two rate constants are varied.\n",
    "    \n",
    "    Parameters:\n",
    "    ----------\n",
    "    \n",
    "    Data_cube: 3D Array\n",
    "        3D data array, in the last two slices [:, :, -1] there need to be mesh grids of the to varied\n",
    "        constants.\n",
    "    QY_index: int\n",
    "        Index of QY slice of the data cube to be plotted.\n",
    "    title : str\n",
    "        Title of the figure.\n",
    "    xlabel : str, optional\n",
    "        x axis label\n",
    "    ylabel : str, optional\n",
    "        y axis label\n",
    "    decimal_points : int\n",
    "        Number of decimal points for rounding the tick labels\"\"\"\n",
    "    fig, ax = plt.subplots(1,1)\n",
    "\n",
    "    img = ax.imshow(data_cube[:, :, QY_index]*100, extent=[-1,1,-1,1], aspect='auto')\n",
    "    I, J, K = data_cube.shape\n",
    "    \n",
    "    # set ticks\n",
    "    ax.set_xticks(np.arange(-1+1/J, 1, 2/J))\n",
    "    tick_list_1 = np.array([np.format_float_scientific(e, decimal_points) for e in data_cube[0, :, -1]])\n",
    "    tick_list_2 = np.array([np.format_float_scientific(e, decimal_points) for e in data_cube[0, :, -2]])\n",
    "    if len(np.unique(tick_list_1))/len(tick_list_1) > len(np.unique(tick_list_2))/len(tick_list_2):\n",
    "        ax.set_xticklabels(tick_list_1)\n",
    "    else:\n",
    "        ax.set_xticklabels(tick_list_2)                                 \n",
    "\n",
    "    ax.set_yticks(np.arange(-1+1/I, 1, 2/I))\n",
    "    tick_list_1 = np.array([np.format_float_scientific(e, decimal_points) for e in data_cube[:, 0, -1]])\n",
    "    tick_list_2 = np.array([np.format_float_scientific(e, decimal_points) for e in data_cube[:, 0, -2]])\n",
    "    if len(np.unique(tick_list_2))/len(tick_list_2) > len(np.unique(tick_list_1))/len(tick_list_1):\n",
    "        ax.set_yticklabels(tick_list_2)\n",
    "    else:\n",
    "        ax.set_yticklabels(tick_list_1)  \n",
    "    \n",
    "    # set labels\n",
    "    ax.set_xlabel(xlabel)\n",
    "    ax.set_ylabel(ylabel)\n",
    "\n",
    "    ax.set_title(title)\n",
    "\n",
    "    fig.colorbar(img)\n",
    "    return fig"
   ]
  },
  {
   "cell_type": "code",
   "execution_count": 40,
   "metadata": {},
   "outputs": [
    {
     "data": {
      "image/png": "[encoded data removed]",
      "text/plain": [
       "<Figure size 432x288 with 2 Axes>"
      ]
     },
     "metadata": {
      "needs_background": "light"
     },
     "output_type": "display_data"
    }
   ],
   "source": [
    "fig, ax = plt.subplots(1,1)\n",
    "\n",
    "img = ax.imshow(CNT_cube[:, :, 0]*100, extent=[-1,1,-1,1], aspect='auto')\n",
    "\n",
    "# set ticks\n",
    "x_tick_list = [np.format_float_scientific(e, 2) for e in CNT_cube[0, :, 6]]\n",
    "ax.set_xticks([-0.75,-0.25,0.25,0.75])\n",
    "ax.set_xticklabels(x_tick_list)\n",
    "\n",
    "y_tick_list = [np.format_float_scientific(e, 0) for e in CNT_cube[:, 0, 7]]\n",
    "ax.set_yticks([0.75,0.25,-0.25,-0.75])\n",
    "ax.set_yticklabels(y_tick_list)\n",
    "\n",
    "# set labels\n",
    "ax.set_xlabel('$k_{r}$')\n",
    "ax.set_ylabel('$k_{ed}$')\n",
    "\n",
    "ax.set_title('QY(E11*), $l$ = 300 nm, $N_{def} = 0$')\n",
    "\n",
    "fig.colorbar(img)\n",
    "plt.savefig(f'../../tmp/2020-05-19_exciton_sim_4_level-QY-E11*-0-def-map.png')"
   ]
  },
  {
   "cell_type": "code",
   "execution_count": 41,
   "metadata": {},
   "outputs": [
    {
     "data": {
      "image/png": "[encoded data removed]",
      "text/plain": [
       "<Figure size 432x288 with 2 Axes>"
      ]
     },
     "metadata": {
      "needs_background": "light"
     },
     "output_type": "display_data"
    }
   ],
   "source": [
    "fig, ax = plt.subplots(1,1)\n",
    "\n",
    "img = ax.imshow(CNT_cube[:, :, 1]*100, extent=[-1,1,-1,1], aspect='auto')\n",
    "\n",
    "# set ticks\n",
    "x_tick_list = [np.format_float_scientific(e, 1) for e in CNT_cube[0, :, 6]]\n",
    "ax.set_xticks([-0.75,-0.25,0.25,0.75])\n",
    "ax.set_xticklabels(x_tick_list)\n",
    "\n",
    "y_tick_list = [np.format_float_scientific(e, 0) for e in CNT_cube[:, 0, 7]]\n",
    "ax.set_yticks([0.75,0.25,-0.25,-0.75])\n",
    "ax.set_yticklabels(y_tick_list)\n",
    "\n",
    "# set labels\n",
    "ax.set_xlabel('$k_{r}$')\n",
    "ax.set_ylabel('$k_{ed}$')\n",
    "\n",
    "ax.set_title('QY(E11), $l$ = 300 nm, $N_{def} = 0$')\n",
    "\n",
    "fig.colorbar(img)\n",
    "plt.savefig(f'../../tmp/2020-05-19_exciton_sim_4_level-QY-E11-0-def-map.png')"
   ]
  },
  {
   "cell_type": "code",
   "execution_count": 21,
   "metadata": {},
   "outputs": [
    {
     "data": {
      "text/plain": [
       "<matplotlib.colorbar.Colorbar at 0x7fbc715114d0>"
      ]
     },
     "execution_count": 21,
     "metadata": {},
     "output_type": "execute_result"
    },
    {
     "data": {
      "image/png": "[encoded data removed]",
      "text/plain": [
       "<Figure size 432x288 with 2 Axes>"
      ]
     },
     "metadata": {
      "needs_background": "light"
     },
     "output_type": "display_data"
    }
   ],
   "source": [
    "fig, ax = plt.subplots(1,1)\n",
    "\n",
    "img = ax.imshow(CNT_cube[:, :, 4]*100, extent=[-1,1,-1,1], aspect='auto')\n",
    "\n",
    "# set ticks\n",
    "x_tick_list = [np.format_float_scientific(e, 1) for e in CNT_cube[0, :, 6]]\n",
    "ax.set_xticks([-0.75,-0.25,0.25,0.75])\n",
    "ax.set_xticklabels(x_tick_list)\n",
    "\n",
    "y_tick_list = [np.format_float_scientific(e, 1) for e in CNT_cube[:, 0, 7]]\n",
    "ax.set_yticks([0.75,0.25,-0.25,-0.75])\n",
    "ax.set_yticklabels(y_tick_list)\n",
    "\n",
    "# set labels\n",
    "ax.set_xlabel('$k_{r}$')\n",
    "ax.set_ylabel('$k_{ed}$')\n",
    "\n",
    "ax.set_title('QY(E11), $l$ = 300 nm, $N_{def} = 0$')\n",
    "\n",
    "fig.colorbar(img)\n",
    "#plt.savefig(f'../../tmp/2020-05-11_exciton_sim_4_level-QY-E11-0-def-map.png')"
   ]
  },
  {
   "cell_type": "code",
   "execution_count": 22,
   "metadata": {},
   "outputs": [
    {
     "data": {
      "image/png": "[encoded data removed]",
      "text/plain": [
       "<Figure size 432x288 with 2 Axes>"
      ]
     },
     "metadata": {
      "needs_background": "light"
     },
     "output_type": "display_data"
    }
   ],
   "source": [
    "fig, ax = plt.subplots(1,1)\n",
    "\n",
    "img = ax.imshow(CNT_cube[:, :, 2]*100, extent=[-1,1,-1,1], aspect='auto')\n",
    "\n",
    "# set ticks\n",
    "x_tick_list = [np.format_float_scientific(e, 1) for e in CNT_cube[0, :, 6]]\n",
    "ax.set_xticks([-0.75,-0.25,0.25,0.75])\n",
    "ax.set_xticklabels(x_tick_list)\n",
    "\n",
    "y_tick_list = [np.format_float_scientific(e, 1) for e in CNT_cube[:, 0, 7]]\n",
    "ax.set_yticks([0.75,0.25,-0.25,-0.75])\n",
    "ax.set_yticklabels(y_tick_list)\n",
    "\n",
    "# set labels\n",
    "ax.set_xlabel('$k_{r}$')\n",
    "ax.set_ylabel('$k_{ed}$')\n",
    "\n",
    "ax.set_title('QY(E11*), $l$ = 300 nm, $N_{def} = 20$')\n",
    "\n",
    "fig.colorbar(img)\n",
    "plt.savefig(f'../../tmp/2020-05-19_exciton_sim_4_level-QY-E11*-20-def-map.png')"
   ]
  },
  {
   "cell_type": "code",
   "execution_count": 23,
   "metadata": {},
   "outputs": [
    {
     "data": {
      "image/png": "[encoded data removed]",
      "text/plain": [
       "<Figure size 432x288 with 2 Axes>"
      ]
     },
     "metadata": {
      "needs_background": "light"
     },
     "output_type": "display_data"
    }
   ],
   "source": [
    "fig, ax = plt.subplots(1,1)\n",
    "\n",
    "img = ax.imshow(CNT_cube[:, :, 3]*100, extent=[-1,1,-1,1], aspect='auto')\n",
    "\n",
    "# set ticks\n",
    "x_tick_list = [np.format_float_scientific(e, 0) for e in CNT_cube[0, :, 6]]\n",
    "ax.set_xticks([-0.75,-0.25,0.25,0.75])\n",
    "ax.set_xticklabels(x_tick_list)\n",
    "\n",
    "y_tick_list = [np.format_float_scientific(e, 1) for e in CNT_cube[:, 0, 7]]\n",
    "ax.set_yticks([0.75,0.25,-0.25,-0.75])\n",
    "ax.set_yticklabels(y_tick_list)\n",
    "\n",
    "# set labels\n",
    "ax.set_xlabel('$k_{r}$')\n",
    "ax.set_ylabel('$k_{ed}$')\n",
    "\n",
    "ax.set_title('QY(E11), $l$ = 300 nm, $N_{def} = 20$')\n",
    "\n",
    "fig.colorbar(img)\n",
    "plt.savefig(f'../../tmp/2020-05-19_exciton_sim_4_level-QY-E11-20-def-map.png')"
   ]
  },
  {
   "cell_type": "code",
   "execution_count": 24,
   "metadata": {},
   "outputs": [
    {
     "data": {
      "image/png": "[encoded data removed]",
      "text/plain": [
       "<Figure size 432x288 with 2 Axes>"
      ]
     },
     "metadata": {
      "needs_background": "light"
     },
     "output_type": "display_data"
    }
   ],
   "source": [
    "fig, ax = plt.subplots(1,1)\n",
    "\n",
    "img = ax.imshow(CNT_cube[:, :, 4]*100, extent=[-1,1,-1,1], aspect='auto')\n",
    "\n",
    "# set ticks\n",
    "x_tick_list = [np.format_float_scientific(e, 0) for e in CNT_cube[0, :, 6]]\n",
    "ax.set_xticks([-0.75,-0.25,0.25,0.75])\n",
    "ax.set_xticklabels(x_tick_list)\n",
    "\n",
    "y_tick_list = [np.format_float_scientific(e, 1) for e in CNT_cube[:, 0, 7]]\n",
    "ax.set_yticks([0.75,0.25,-0.25,-0.75])\n",
    "ax.set_yticklabels(y_tick_list)\n",
    "\n",
    "# set labels\n",
    "ax.set_xlabel('$k_{r}$')\n",
    "ax.set_ylabel('$k_{ed}$')\n",
    "\n",
    "ax.set_title('QY(E11*), $l$ = 300 nm, $N_{def} = 50$')\n",
    "\n",
    "fig.colorbar(img)\n",
    "plt.savefig(f'../../tmp/2020-05-19_exciton_sim_4_level-QY-E11*-50-def-map.png')"
   ]
  },
  {
   "cell_type": "code",
   "execution_count": 25,
   "metadata": {},
   "outputs": [
    {
     "data": {
      "image/png": "[encoded data removed]",
      "text/plain": [
       "<Figure size 432x288 with 2 Axes>"
      ]
     },
     "metadata": {
      "needs_background": "light"
     },
     "output_type": "display_data"
    }
   ],
   "source": [
    "fig, ax = plt.subplots(1,1)\n",
    "\n",
    "img = ax.imshow(CNT_cube[:, :, 5]*100, extent=[-1,1,-1,1], aspect='auto')\n",
    "\n",
    "# set ticks\n",
    "x_tick_list = [np.format_float_scientific(e, 0) for e in CNT_cube[0, :, 6]]\n",
    "ax.set_xticks([-0.75,-0.25,0.25,0.75])\n",
    "ax.set_xticklabels(x_tick_list)\n",
    "\n",
    "y_tick_list = [np.format_float_scientific(e, 1) for e in CNT_cube[:, 0, 7]]\n",
    "ax.set_yticks([0.75,0.25,-0.25,-0.75])\n",
    "ax.set_yticklabels(y_tick_list)\n",
    "\n",
    "# set labels\n",
    "ax.set_xlabel('$k_{r}$')\n",
    "ax.set_ylabel('$k_{ed}$')\n",
    "\n",
    "ax.set_title('QY(E11), $l$ = 300 nm, $N_{def} = 50$')\n",
    "\n",
    "fig.colorbar(img)\n",
    "plt.savefig(f'../../tmp/2020-05-19_exciton_sim_4_level-QY-E11-50-def-map.png')"
   ]
  },
  {
   "cell_type": "code",
   "execution_count": null,
   "metadata": {},
   "outputs": [],
   "source": []
  }
 ],
 "metadata": {
  "kernelspec": {
   "display_name": "CNT-MC",
   "language": "python",
   "name": "cnt-mc"
  },
  "language_info": {
   "codemirror_mode": {
    "name": "ipython",
    "version": 3
   },
   "file_extension": ".py",
   "mimetype": "text/x-python",
   "name": "python",
   "nbconvert_exporter": "python",
   "pygments_lexer": "ipython3",
   "version": "3.7.3"
  }
 },
 "nbformat": 4,
 "nbformat_minor": 4
}
