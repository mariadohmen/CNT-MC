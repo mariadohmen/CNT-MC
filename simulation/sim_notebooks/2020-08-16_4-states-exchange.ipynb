{
 "cells": [
  {
   "cell_type": "code",
   "execution_count": 1,
   "metadata": {},
   "outputs": [
    {
     "data": {
      "text/html": [
       "\n",
       "    <div class=\"bk-root\">\n",
       "        <a href=\"https://bokeh.pydata.org\" target=\"_blank\" class=\"bk-logo bk-logo-small bk-logo-notebook\"></a>\n",
       "        <span id=\"1001\">Loading BokehJS ...</span>\n",
       "    </div>"
      ]
     },
     "metadata": {},
     "output_type": "display_data"
    },
    {
     "data": {
      "application/javascript": [
       "\n",
       "(function(root) {\n",
       "  function now() {\n",
       "    return new Date();\n",
       "  }\n",
       "\n",
       "  var force = true;\n",
       "\n",
       "  if (typeof root._bokeh_onload_callbacks === \"undefined\" || force === true) {\n",
       "    root._bokeh_onload_callbacks = [];\n",
       "    root._bokeh_is_loading = undefined;\n",
       "  }\n",
       "\n",
       "  var JS_MIME_TYPE = 'application/javascript';\n",
       "  var HTML_MIME_TYPE = 'text/html';\n",
       "  var EXEC_MIME_TYPE = 'application/vnd.bokehjs_exec.v0+json';\n",
       "  var CLASS_NAME = 'output_bokeh rendered_html';\n",
       "\n",
       "  /**\n",
       "   * Render data to the DOM node\n",
       "   */\n",
       "  function render(props, node) {\n",
       "    var script = document.createElement(\"script\");\n",
       "    node.appendChild(script);\n",
       "  }\n",
       "\n",
       "  /**\n",
       "   * Handle when an output is cleared or removed\n",
       "   */\n",
       "  function handleClearOutput(event, handle) {\n",
       "    var cell = handle.cell;\n",
       "\n",
       "    var id = cell.output_area._bokeh_element_id;\n",
       "    var server_id = cell.output_area._bokeh_server_id;\n",
       "    // Clean up Bokeh references\n",
       "    if (id != null && id in Bokeh.index) {\n",
       "      Bokeh.index[id].model.document.clear();\n",
       "      delete Bokeh.index[id];\n",
       "    }\n",
       "\n",
       "    if (server_id !== undefined) {\n",
       "      // Clean up Bokeh references\n",
       "      var cmd = \"from bokeh.io.state import curstate; print(curstate().uuid_to_server['\" + server_id + \"'].get_sessions()[0].document.roots[0]._id)\";\n",
       "      cell.notebook.kernel.execute(cmd, {\n",
       "        iopub: {\n",
       "          output: function(msg) {\n",
       "            var id = msg.content.text.trim();\n",
       "            if (id in Bokeh.index) {\n",
       "              Bokeh.index[id].model.document.clear();\n",
       "              delete Bokeh.index[id];\n",
       "            }\n",
       "          }\n",
       "        }\n",
       "      });\n",
       "      // Destroy server and session\n",
       "      var cmd = \"import bokeh.io.notebook as ion; ion.destroy_server('\" + server_id + \"')\";\n",
       "      cell.notebook.kernel.execute(cmd);\n",
       "    }\n",
       "  }\n",
       "\n",
       "  /**\n",
       "   * Handle when a new output is added\n",
       "   */\n",
       "  function handleAddOutput(event, handle) {\n",
       "    var output_area = handle.output_area;\n",
       "    var output = handle.output;\n",
       "\n",
       "    // limit handleAddOutput to display_data with EXEC_MIME_TYPE content only\n",
       "    if ((output.output_type != \"display_data\") || (!output.data.hasOwnProperty(EXEC_MIME_TYPE))) {\n",
       "      return\n",
       "    }\n",
       "\n",
       "    var toinsert = output_area.element.find(\".\" + CLASS_NAME.split(' ')[0]);\n",
       "\n",
       "    if (output.metadata[EXEC_MIME_TYPE][\"id\"] !== undefined) {\n",
       "      toinsert[toinsert.length - 1].firstChild.textContent = output.data[JS_MIME_TYPE];\n",
       "      // store reference to embed id on output_area\n",
       "      output_area._bokeh_element_id = output.metadata[EXEC_MIME_TYPE][\"id\"];\n",
       "    }\n",
       "    if (output.metadata[EXEC_MIME_TYPE][\"server_id\"] !== undefined) {\n",
       "      var bk_div = document.createElement(\"div\");\n",
       "      bk_div.innerHTML = output.data[HTML_MIME_TYPE];\n",
       "      var script_attrs = bk_div.children[0].attributes;\n",
       "      for (var i = 0; i < script_attrs.length; i++) {\n",
       "        toinsert[toinsert.length - 1].firstChild.setAttribute(script_attrs[i].name, script_attrs[i].value);\n",
       "      }\n",
       "      // store reference to server id on output_area\n",
       "      output_area._bokeh_server_id = output.metadata[EXEC_MIME_TYPE][\"server_id\"];\n",
       "    }\n",
       "  }\n",
       "\n",
       "  function register_renderer(events, OutputArea) {\n",
       "\n",
       "    function append_mime(data, metadata, element) {\n",
       "      // create a DOM node to render to\n",
       "      var toinsert = this.create_output_subarea(\n",
       "        metadata,\n",
       "        CLASS_NAME,\n",
       "        EXEC_MIME_TYPE\n",
       "      );\n",
       "      this.keyboard_manager.register_events(toinsert);\n",
       "      // Render to node\n",
       "      var props = {data: data, metadata: metadata[EXEC_MIME_TYPE]};\n",
       "      render(props, toinsert[toinsert.length - 1]);\n",
       "      element.append(toinsert);\n",
       "      return toinsert\n",
       "    }\n",
       "\n",
       "    /* Handle when an output is cleared or removed */\n",
       "    events.on('clear_output.CodeCell', handleClearOutput);\n",
       "    events.on('delete.Cell', handleClearOutput);\n",
       "\n",
       "    /* Handle when a new output is added */\n",
       "    events.on('output_added.OutputArea', handleAddOutput);\n",
       "\n",
       "    /**\n",
       "     * Register the mime type and append_mime function with output_area\n",
       "     */\n",
       "    OutputArea.prototype.register_mime_type(EXEC_MIME_TYPE, append_mime, {\n",
       "      /* Is output safe? */\n",
       "      safe: true,\n",
       "      /* Index of renderer in `output_area.display_order` */\n",
       "      index: 0\n",
       "    });\n",
       "  }\n",
       "\n",
       "  // register the mime type if in Jupyter Notebook environment and previously unregistered\n",
       "  if (root.Jupyter !== undefined) {\n",
       "    var events = require('base/js/events');\n",
       "    var OutputArea = require('notebook/js/outputarea').OutputArea;\n",
       "\n",
       "    if (OutputArea.prototype.mime_types().indexOf(EXEC_MIME_TYPE) == -1) {\n",
       "      register_renderer(events, OutputArea);\n",
       "    }\n",
       "  }\n",
       "\n",
       "  \n",
       "  if (typeof (root._bokeh_timeout) === \"undefined\" || force === true) {\n",
       "    root._bokeh_timeout = Date.now() + 5000;\n",
       "    root._bokeh_failed_load = false;\n",
       "  }\n",
       "\n",
       "  var NB_LOAD_WARNING = {'data': {'text/html':\n",
       "     \"<div style='background-color: #fdd'>\\n\"+\n",
       "     \"<p>\\n\"+\n",
       "     \"BokehJS does not appear to have successfully loaded. If loading BokehJS from CDN, this \\n\"+\n",
       "     \"may be due to a slow or bad network connection. Possible fixes:\\n\"+\n",
       "     \"</p>\\n\"+\n",
       "     \"<ul>\\n\"+\n",
       "     \"<li>re-rerun `output_notebook()` to attempt to load from CDN again, or</li>\\n\"+\n",
       "     \"<li>use INLINE resources instead, as so:</li>\\n\"+\n",
       "     \"</ul>\\n\"+\n",
       "     \"<code>\\n\"+\n",
       "     \"from bokeh.resources import INLINE\\n\"+\n",
       "     \"output_notebook(resources=INLINE)\\n\"+\n",
       "     \"</code>\\n\"+\n",
       "     \"</div>\"}};\n",
       "\n",
       "  function display_loaded() {\n",
       "    var el = document.getElementById(\"1001\");\n",
       "    if (el != null) {\n",
       "      el.textContent = \"BokehJS is loading...\";\n",
       "    }\n",
       "    if (root.Bokeh !== undefined) {\n",
       "      if (el != null) {\n",
       "        el.textContent = \"BokehJS \" + root.Bokeh.version + \" successfully loaded.\";\n",
       "      }\n",
       "    } else if (Date.now() < root._bokeh_timeout) {\n",
       "      setTimeout(display_loaded, 100)\n",
       "    }\n",
       "  }\n",
       "\n",
       "\n",
       "  function run_callbacks() {\n",
       "    try {\n",
       "      root._bokeh_onload_callbacks.forEach(function(callback) {\n",
       "        if (callback != null)\n",
       "          callback();\n",
       "      });\n",
       "    } finally {\n",
       "      delete root._bokeh_onload_callbacks\n",
       "    }\n",
       "    console.debug(\"Bokeh: all callbacks have finished\");\n",
       "  }\n",
       "\n",
       "  function load_libs(css_urls, js_urls, callback) {\n",
       "    if (css_urls == null) css_urls = [];\n",
       "    if (js_urls == null) js_urls = [];\n",
       "\n",
       "    root._bokeh_onload_callbacks.push(callback);\n",
       "    if (root._bokeh_is_loading > 0) {\n",
       "      console.debug(\"Bokeh: BokehJS is being loaded, scheduling callback at\", now());\n",
       "      return null;\n",
       "    }\n",
       "    if (js_urls == null || js_urls.length === 0) {\n",
       "      run_callbacks();\n",
       "      return null;\n",
       "    }\n",
       "    console.debug(\"Bokeh: BokehJS not loaded, scheduling load and callback at\", now());\n",
       "    root._bokeh_is_loading = css_urls.length + js_urls.length;\n",
       "\n",
       "    function on_load() {\n",
       "      root._bokeh_is_loading--;\n",
       "      if (root._bokeh_is_loading === 0) {\n",
       "        console.debug(\"Bokeh: all BokehJS libraries/stylesheets loaded\");\n",
       "        run_callbacks()\n",
       "      }\n",
       "    }\n",
       "\n",
       "    function on_error() {\n",
       "      console.error(\"failed to load \" + url);\n",
       "    }\n",
       "\n",
       "    for (var i = 0; i < css_urls.length; i++) {\n",
       "      var url = css_urls[i];\n",
       "      const element = document.createElement(\"link\");\n",
       "      element.onload = on_load;\n",
       "      element.onerror = on_error;\n",
       "      element.rel = \"stylesheet\";\n",
       "      element.type = \"text/css\";\n",
       "      element.href = url;\n",
       "      console.debug(\"Bokeh: injecting link tag for BokehJS stylesheet: \", url);\n",
       "      document.body.appendChild(element);\n",
       "    }\n",
       "\n",
       "    for (var i = 0; i < js_urls.length; i++) {\n",
       "      var url = js_urls[i];\n",
       "      var element = document.createElement('script');\n",
       "      element.onload = on_load;\n",
       "      element.onerror = on_error;\n",
       "      element.async = false;\n",
       "      element.src = url;\n",
       "      console.debug(\"Bokeh: injecting script tag for BokehJS library: \", url);\n",
       "      document.head.appendChild(element);\n",
       "    }\n",
       "  };var element = document.getElementById(\"1001\");\n",
       "  if (element == null) {\n",
       "    console.error(\"Bokeh: ERROR: autoload.js configured with elementid '1001' but no matching script tag was found. \")\n",
       "    return false;\n",
       "  }\n",
       "\n",
       "  function inject_raw_css(css) {\n",
       "    const element = document.createElement(\"style\");\n",
       "    element.appendChild(document.createTextNode(css));\n",
       "    document.body.appendChild(element);\n",
       "  }\n",
       "\n",
       "  var js_urls = [\"https://cdn.pydata.org/bokeh/release/bokeh-1.3.4.min.js\", \"https://cdn.pydata.org/bokeh/release/bokeh-widgets-1.3.4.min.js\", \"https://cdn.pydata.org/bokeh/release/bokeh-tables-1.3.4.min.js\", \"https://cdn.pydata.org/bokeh/release/bokeh-gl-1.3.4.min.js\"];\n",
       "  var css_urls = [];\n",
       "\n",
       "  var inline_js = [\n",
       "    function(Bokeh) {\n",
       "      Bokeh.set_log_level(\"info\");\n",
       "    },\n",
       "    \n",
       "    function(Bokeh) {\n",
       "      \n",
       "    },\n",
       "    function(Bokeh) {} // ensure no trailing comma for IE\n",
       "  ];\n",
       "\n",
       "  function run_inline_js() {\n",
       "    \n",
       "    if ((root.Bokeh !== undefined) || (force === true)) {\n",
       "      for (var i = 0; i < inline_js.length; i++) {\n",
       "        inline_js[i].call(root, root.Bokeh);\n",
       "      }if (force === true) {\n",
       "        display_loaded();\n",
       "      }} else if (Date.now() < root._bokeh_timeout) {\n",
       "      setTimeout(run_inline_js, 100);\n",
       "    } else if (!root._bokeh_failed_load) {\n",
       "      console.log(\"Bokeh: BokehJS failed to load within specified timeout.\");\n",
       "      root._bokeh_failed_load = true;\n",
       "    } else if (force !== true) {\n",
       "      var cell = $(document.getElementById(\"1001\")).parents('.cell').data().cell;\n",
       "      cell.output_area.append_execute_result(NB_LOAD_WARNING)\n",
       "    }\n",
       "\n",
       "  }\n",
       "\n",
       "  if (root._bokeh_is_loading === 0) {\n",
       "    console.debug(\"Bokeh: BokehJS loaded, going straight to plotting\");\n",
       "    run_inline_js();\n",
       "  } else {\n",
       "    load_libs(css_urls, js_urls, function() {\n",
       "      console.debug(\"Bokeh: BokehJS plotting callback run at\", now());\n",
       "      run_inline_js();\n",
       "    });\n",
       "  }\n",
       "}(window));"
      ],
      "application/vnd.bokehjs_load.v0+json": "\n(function(root) {\n  function now() {\n    return new Date();\n  }\n\n  var force = true;\n\n  if (typeof root._bokeh_onload_callbacks === \"undefined\" || force === true) {\n    root._bokeh_onload_callbacks = [];\n    root._bokeh_is_loading = undefined;\n  }\n\n  \n\n  \n  if (typeof (root._bokeh_timeout) === \"undefined\" || force === true) {\n    root._bokeh_timeout = Date.now() + 5000;\n    root._bokeh_failed_load = false;\n  }\n\n  var NB_LOAD_WARNING = {'data': {'text/html':\n     \"<div style='background-color: #fdd'>\\n\"+\n     \"<p>\\n\"+\n     \"BokehJS does not appear to have successfully loaded. If loading BokehJS from CDN, this \\n\"+\n     \"may be due to a slow or bad network connection. Possible fixes:\\n\"+\n     \"</p>\\n\"+\n     \"<ul>\\n\"+\n     \"<li>re-rerun `output_notebook()` to attempt to load from CDN again, or</li>\\n\"+\n     \"<li>use INLINE resources instead, as so:</li>\\n\"+\n     \"</ul>\\n\"+\n     \"<code>\\n\"+\n     \"from bokeh.resources import INLINE\\n\"+\n     \"output_notebook(resources=INLINE)\\n\"+\n     \"</code>\\n\"+\n     \"</div>\"}};\n\n  function display_loaded() {\n    var el = document.getElementById(\"1001\");\n    if (el != null) {\n      el.textContent = \"BokehJS is loading...\";\n    }\n    if (root.Bokeh !== undefined) {\n      if (el != null) {\n        el.textContent = \"BokehJS \" + root.Bokeh.version + \" successfully loaded.\";\n      }\n    } else if (Date.now() < root._bokeh_timeout) {\n      setTimeout(display_loaded, 100)\n    }\n  }\n\n\n  function run_callbacks() {\n    try {\n      root._bokeh_onload_callbacks.forEach(function(callback) {\n        if (callback != null)\n          callback();\n      });\n    } finally {\n      delete root._bokeh_onload_callbacks\n    }\n    console.debug(\"Bokeh: all callbacks have finished\");\n  }\n\n  function load_libs(css_urls, js_urls, callback) {\n    if (css_urls == null) css_urls = [];\n    if (js_urls == null) js_urls = [];\n\n    root._bokeh_onload_callbacks.push(callback);\n    if (root._bokeh_is_loading > 0) {\n      console.debug(\"Bokeh: BokehJS is being loaded, scheduling callback at\", now());\n      return null;\n    }\n    if (js_urls == null || js_urls.length === 0) {\n      run_callbacks();\n      return null;\n    }\n    console.debug(\"Bokeh: BokehJS not loaded, scheduling load and callback at\", now());\n    root._bokeh_is_loading = css_urls.length + js_urls.length;\n\n    function on_load() {\n      root._bokeh_is_loading--;\n      if (root._bokeh_is_loading === 0) {\n        console.debug(\"Bokeh: all BokehJS libraries/stylesheets loaded\");\n        run_callbacks()\n      }\n    }\n\n    function on_error() {\n      console.error(\"failed to load \" + url);\n    }\n\n    for (var i = 0; i < css_urls.length; i++) {\n      var url = css_urls[i];\n      const element = document.createElement(\"link\");\n      element.onload = on_load;\n      element.onerror = on_error;\n      element.rel = \"stylesheet\";\n      element.type = \"text/css\";\n      element.href = url;\n      console.debug(\"Bokeh: injecting link tag for BokehJS stylesheet: \", url);\n      document.body.appendChild(element);\n    }\n\n    for (var i = 0; i < js_urls.length; i++) {\n      var url = js_urls[i];\n      var element = document.createElement('script');\n      element.onload = on_load;\n      element.onerror = on_error;\n      element.async = false;\n      element.src = url;\n      console.debug(\"Bokeh: injecting script tag for BokehJS library: \", url);\n      document.head.appendChild(element);\n    }\n  };var element = document.getElementById(\"1001\");\n  if (element == null) {\n    console.error(\"Bokeh: ERROR: autoload.js configured with elementid '1001' but no matching script tag was found. \")\n    return false;\n  }\n\n  function inject_raw_css(css) {\n    const element = document.createElement(\"style\");\n    element.appendChild(document.createTextNode(css));\n    document.body.appendChild(element);\n  }\n\n  var js_urls = [\"https://cdn.pydata.org/bokeh/release/bokeh-1.3.4.min.js\", \"https://cdn.pydata.org/bokeh/release/bokeh-widgets-1.3.4.min.js\", \"https://cdn.pydata.org/bokeh/release/bokeh-tables-1.3.4.min.js\", \"https://cdn.pydata.org/bokeh/release/bokeh-gl-1.3.4.min.js\"];\n  var css_urls = [];\n\n  var inline_js = [\n    function(Bokeh) {\n      Bokeh.set_log_level(\"info\");\n    },\n    \n    function(Bokeh) {\n      \n    },\n    function(Bokeh) {} // ensure no trailing comma for IE\n  ];\n\n  function run_inline_js() {\n    \n    if ((root.Bokeh !== undefined) || (force === true)) {\n      for (var i = 0; i < inline_js.length; i++) {\n        inline_js[i].call(root, root.Bokeh);\n      }if (force === true) {\n        display_loaded();\n      }} else if (Date.now() < root._bokeh_timeout) {\n      setTimeout(run_inline_js, 100);\n    } else if (!root._bokeh_failed_load) {\n      console.log(\"Bokeh: BokehJS failed to load within specified timeout.\");\n      root._bokeh_failed_load = true;\n    } else if (force !== true) {\n      var cell = $(document.getElementById(\"1001\")).parents('.cell').data().cell;\n      cell.output_area.append_execute_result(NB_LOAD_WARNING)\n    }\n\n  }\n\n  if (root._bokeh_is_loading === 0) {\n    console.debug(\"Bokeh: BokehJS loaded, going straight to plotting\");\n    run_inline_js();\n  } else {\n    load_libs(css_urls, js_urls, function() {\n      console.debug(\"Bokeh: BokehJS plotting callback run at\", now());\n      run_inline_js();\n    });\n  }\n}(window));"
     },
     "metadata": {},
     "output_type": "display_data"
    }
   ],
   "source": [
    "import random\n",
    "import sys\n",
    "\n",
    "import numpy as np\n",
    "import matplotlib.pyplot as plt\n",
    "\n",
    "# Bokeh imports\n",
    "from bokeh.io import output_notebook, show, save\n",
    "from bokeh.plotting import figure, output_file, ColumnDataSource, reset_output\n",
    "from bokeh.models import HoverTool\n",
    "output_notebook()\n",
    "\n",
    "from ipywidgets.widgets import Text\n",
    "\n",
    "#scipy constants\n",
    "from scipy.constants import Boltzmann as kB\n",
    "from scipy.constants import Avogadro as NA\n",
    "from scipy.constants import Planck as h\n",
    "from scipy.constants import speed_of_light as c0\n",
    "from scipy.constants import R\n",
    "\n",
    "sys.path.append('../CNT-SIM/')\n",
    "from CNTSimFile import CNTSimFile\n",
    "from mc_sim import exciton_sim_4_lvl_full_exchange"
   ]
  },
  {
   "cell_type": "code",
   "execution_count": 2,
   "metadata": {},
   "outputs": [],
   "source": [
    "import pdb"
   ]
  },
  {
   "cell_type": "code",
   "execution_count": 3,
   "metadata": {},
   "outputs": [],
   "source": [
    "k_er_per_s = 0.08e9  # 10.1021/acs.jpclett.7b01890\n",
    "k_br_per_s = 0.08e9  # constant for radiativ decay from S11*\n",
    "k_enr_per_s = 4e10  # 10.1021/acs.jpclett.7b01890\n",
    "k_bnr_per_s = 4e10   # constant for non-radiativ decay from S11*\n",
    "\n",
    "k_de_per_s = 1e09  # constant for going from dark to S11 state\n",
    "k_ed_per_s = 1e11  # constant for going from S11 to dark statestate\n",
    "\n",
    "# termal detrapping 10.1021/acs.jpclett.8b03732\n",
    "k_bd_per_s = 0.5 * (1e12 / 385 + 1e12 / 1132) + 0.1e12 * np.exp(-1.6182e-11 /\n",
    "                                                                (kB * 300))\n",
    "\n",
    "k_dnr_per_s = 0\n",
    "\n",
    "kin_const_1 = np.array([k_br_per_s, k_er_per_s, k_bnr_per_s, k_enr_per_s, k_bd_per_s, k_ed_per_s,\n",
    "                        k_de_per_s, k_dnr_per_s])"
   ]
  },
  {
   "cell_type": "code",
   "execution_count": 4,
   "metadata": {},
   "outputs": [
    {
     "name": "stdout",
     "output_type": "stream",
     "text": [
      "Existing file loaded successfully.\n"
     ]
    },
    {
     "name": "stderr",
     "output_type": "stream",
     "text": [
      "../CNT-SIM/CNTSimFile.py:30: UserWarning: File already exists, kinetic constants ingored.\n",
      "  warn(\"File already exists, kinetic constants ingored.\")\n"
     ]
    }
   ],
   "source": [
    "exc_sim_def_1 = CNTSimFile('../sim_output/2020-08-16_exciton_sim_4_level-def_1.h5', kin_const_1)"
   ]
  },
  {
   "cell_type": "code",
   "execution_count": 6,
   "metadata": {},
   "outputs": [],
   "source": [
    "n_defects = np.arange(0, 260, 20)\n",
    "CNT_length = [30, 60, 90, 120, 150, 200, 300, 500, 800, 1200]"
   ]
  },
  {
   "cell_type": "code",
   "execution_count": 24,
   "metadata": {},
   "outputs": [],
   "source": [
    "exc_sim_def_1.notebook_output = True"
   ]
  },
  {
   "cell_type": "code",
   "execution_count": 25,
   "metadata": {
    "scrolled": true
   },
   "outputs": [
    {
     "name": "stdout",
     "output_type": "stream",
     "text": [
      "start of calculation: 2020-08-16 23:03:18.709995\n",
      "start of exiton simulation: 2020-08-16 23:03:18.710507\n"
     ]
    },
    {
     "data": {
      "application/vnd.jupyter.widget-view+json": {
       "model_id": "b47d8304cf4348d883a1b0bee4951594",
       "version_major": 2,
       "version_minor": 0
      },
      "text/plain": [
       "Text(value='')"
      ]
     },
     "metadata": {},
     "output_type": "display_data"
    },
    {
     "name": "stdout",
     "output_type": "stream",
     "text": [
      "2020-08-16 23:03:18.734406\n",
      "elapsed time: 00:00:00\n",
      "exciton processed((0/ 13))\n",
      "start of exiton simulation: 2020-08-16 23:03:18.734971\n"
     ]
    },
    {
     "data": {
      "application/vnd.jupyter.widget-view+json": {
       "model_id": "cf3e7de6027b43d3bae3080e78bad46b",
       "version_major": 2,
       "version_minor": 0
      },
      "text/plain": [
       "Text(value='')"
      ]
     },
     "metadata": {},
     "output_type": "display_data"
    },
    {
     "name": "stdout",
     "output_type": "stream",
     "text": [
      "2020-08-16 23:03:34.405070\n",
      "elapsed time: 00:00:15\n",
      "exciton processed((1/ 13))\n",
      "start of exiton simulation: 2020-08-16 23:03:34.405713\n"
     ]
    },
    {
     "data": {
      "application/vnd.jupyter.widget-view+json": {
       "model_id": "73a2e663c05e4e02adcff1283f39fc50",
       "version_major": 2,
       "version_minor": 0
      },
      "text/plain": [
       "Text(value='')"
      ]
     },
     "metadata": {},
     "output_type": "display_data"
    },
    {
     "name": "stdout",
     "output_type": "stream",
     "text": [
      "2020-08-16 23:05:01.119177\n",
      "elapsed time: 00:01:26\n",
      "exciton processed((2/ 13))\n",
      "start of exiton simulation: 2020-08-16 23:05:01.119768\n"
     ]
    },
    {
     "data": {
      "application/vnd.jupyter.widget-view+json": {
       "model_id": "feba21f2eebf4a4498840218c0c696f3",
       "version_major": 2,
       "version_minor": 0
      },
      "text/plain": [
       "Text(value='')"
      ]
     },
     "metadata": {},
     "output_type": "display_data"
    },
    {
     "name": "stdout",
     "output_type": "stream",
     "text": [
      "2020-08-16 23:06:21.198742\n",
      "elapsed time: 00:01:20\n",
      "exciton processed((3/ 13))\n",
      "start of exiton simulation: 2020-08-16 23:06:21.199501\n"
     ]
    },
    {
     "data": {
      "application/vnd.jupyter.widget-view+json": {
       "model_id": "9afe60c39b2249bc99b472393718c136",
       "version_major": 2,
       "version_minor": 0
      },
      "text/plain": [
       "Text(value='')"
      ]
     },
     "metadata": {},
     "output_type": "display_data"
    },
    {
     "name": "stdout",
     "output_type": "stream",
     "text": [
      "2020-08-16 23:07:34.141632\n",
      "elapsed time: 00:01:12\n",
      "exciton processed((4/ 13))\n",
      "start of exiton simulation: 2020-08-16 23:07:34.142856\n"
     ]
    },
    {
     "data": {
      "application/vnd.jupyter.widget-view+json": {
       "model_id": "c644446f48b94935a9aa53580b1a04b0",
       "version_major": 2,
       "version_minor": 0
      },
      "text/plain": [
       "Text(value='')"
      ]
     },
     "metadata": {},
     "output_type": "display_data"
    },
    {
     "name": "stdout",
     "output_type": "stream",
     "text": [
      "2020-08-16 23:08:41.995963\n",
      "elapsed time: 00:01:07\n",
      "exciton processed((5/ 13))\n",
      "start of exiton simulation: 2020-08-16 23:08:41.996593\n"
     ]
    },
    {
     "data": {
      "application/vnd.jupyter.widget-view+json": {
       "model_id": "43bdd101ea7444d6b7b2d85941451841",
       "version_major": 2,
       "version_minor": 0
      },
      "text/plain": [
       "Text(value='')"
      ]
     },
     "metadata": {},
     "output_type": "display_data"
    },
    {
     "name": "stdout",
     "output_type": "stream",
     "text": [
      "2020-08-16 23:09:44.366045\n",
      "elapsed time: 00:01:02\n",
      "exciton processed((6/ 13))\n",
      "start of exiton simulation: 2020-08-16 23:09:44.366863\n"
     ]
    },
    {
     "data": {
      "application/vnd.jupyter.widget-view+json": {
       "model_id": "727e61817bc44066b97f59d28e988e80",
       "version_major": 2,
       "version_minor": 0
      },
      "text/plain": [
       "Text(value='')"
      ]
     },
     "metadata": {},
     "output_type": "display_data"
    },
    {
     "name": "stdout",
     "output_type": "stream",
     "text": [
      "2020-08-16 23:10:43.282637\n",
      "elapsed time: 00:00:58\n",
      "exciton processed((7/ 13))\n",
      "start of exiton simulation: 2020-08-16 23:10:43.283340\n"
     ]
    },
    {
     "data": {
      "application/vnd.jupyter.widget-view+json": {
       "model_id": "2b9820484cc14832b53fdcd9d1f7414a",
       "version_major": 2,
       "version_minor": 0
      },
      "text/plain": [
       "Text(value='')"
      ]
     },
     "metadata": {},
     "output_type": "display_data"
    },
    {
     "name": "stdout",
     "output_type": "stream",
     "text": [
      "2020-08-16 23:11:37.345158\n",
      "elapsed time: 00:00:54\n",
      "exciton processed((8/ 13))\n",
      "start of exiton simulation: 2020-08-16 23:11:37.347213\n"
     ]
    },
    {
     "data": {
      "application/vnd.jupyter.widget-view+json": {
       "model_id": "940d78110385436484cb0fd53c0f081a",
       "version_major": 2,
       "version_minor": 0
      },
      "text/plain": [
       "Text(value='')"
      ]
     },
     "metadata": {},
     "output_type": "display_data"
    },
    {
     "name": "stdout",
     "output_type": "stream",
     "text": [
      "2020-08-16 23:12:27.488228\n",
      "elapsed time: 00:00:50\n",
      "exciton processed((9/ 13))\n",
      "start of exiton simulation: 2020-08-16 23:12:27.489060\n"
     ]
    },
    {
     "data": {
      "application/vnd.jupyter.widget-view+json": {
       "model_id": "290ba40351154cd0babc7dc10533959e",
       "version_major": 2,
       "version_minor": 0
      },
      "text/plain": [
       "Text(value='')"
      ]
     },
     "metadata": {},
     "output_type": "display_data"
    },
    {
     "name": "stdout",
     "output_type": "stream",
     "text": [
      "2020-08-16 23:13:14.550181\n",
      "elapsed time: 00:00:47\n",
      "exciton processed((10/ 13))\n",
      "start of exiton simulation: 2020-08-16 23:13:14.551058\n"
     ]
    },
    {
     "data": {
      "application/vnd.jupyter.widget-view+json": {
       "model_id": "849477af9d064ac1be145264c414e1f3",
       "version_major": 2,
       "version_minor": 0
      },
      "text/plain": [
       "Text(value='')"
      ]
     },
     "metadata": {},
     "output_type": "display_data"
    },
    {
     "name": "stdout",
     "output_type": "stream",
     "text": [
      "2020-08-16 23:14:00.388823\n",
      "elapsed time: 00:00:45\n",
      "exciton processed((11/ 13))\n",
      "start of exiton simulation: 2020-08-16 23:14:00.390481\n"
     ]
    },
    {
     "data": {
      "application/vnd.jupyter.widget-view+json": {
       "model_id": "bdcab2267e11400c819681a27851ce0d",
       "version_major": 2,
       "version_minor": 0
      },
      "text/plain": [
       "Text(value='')"
      ]
     },
     "metadata": {},
     "output_type": "display_data"
    },
    {
     "name": "stdout",
     "output_type": "stream",
     "text": [
      "2020-08-16 23:14:42.573245\n",
      "elapsed time: 00:00:42\n",
      "exciton processed((12/ 13))\n",
      "start of exiton simulation: 2020-08-16 23:14:42.573868\n"
     ]
    },
    {
     "data": {
      "application/vnd.jupyter.widget-view+json": {
       "model_id": "8526be8d644a4174b2573c6d997aa4cc",
       "version_major": 2,
       "version_minor": 0
      },
      "text/plain": [
       "Text(value='')"
      ]
     },
     "metadata": {},
     "output_type": "display_data"
    },
    {
     "name": "stdout",
     "output_type": "stream",
     "text": [
      "2020-08-16 23:15:23.647209\n",
      "elapsed time: 00:00:41\n",
      "2020-08-16 23:15:23.647931\n",
      "elapsed time: 00:12:04\n"
     ]
    }
   ],
   "source": [
    "exc_sim_def_1.defect_dependance(10000, exciton_sim_4_lvl_full_exchange, n_defects, {'t_step': 1, 'CNT_length': 300,\n",
    "                                                                     'r_exc_nm': 2})"
   ]
  },
  {
   "cell_type": "code",
   "execution_count": 1,
   "metadata": {},
   "outputs": [
    {
     "ename": "NameError",
     "evalue": "name 'exc_sim_def_1' is not defined",
     "output_type": "error",
     "traceback": [
      "\u001b[0;31m---------------------------------------------------------------------------\u001b[0m",
      "\u001b[0;31mNameError\u001b[0m                                 Traceback (most recent call last)",
      "\u001b[0;32m<ipython-input-1-846611d5ab29>\u001b[0m in \u001b[0;36m<module>\u001b[0;34m\u001b[0m\n\u001b[0;32m----> 1\u001b[0;31m \u001b[0mexc_sim_def_1\u001b[0m\u001b[0;34m.\u001b[0m\u001b[0msave\u001b[0m\u001b[0;34m(\u001b[0m\u001b[0;34m)\u001b[0m\u001b[0;34m\u001b[0m\u001b[0;34m\u001b[0m\u001b[0m\n\u001b[0m",
      "\u001b[0;31mNameError\u001b[0m: name 'exc_sim_def_1' is not defined"
     ]
    }
   ],
   "source": [
    "exc_sim_def_1.save()"
   ]
  },
  {
   "cell_type": "code",
   "execution_count": null,
   "metadata": {},
   "outputs": [],
   "source": [
    "plt.plot(n_defects, exc_sim_def_1.QY*100)"
   ]
  },
  {
   "cell_type": "code",
   "execution_count": 8,
   "metadata": {},
   "outputs": [],
   "source": [
    "k_er_per_s = 0.08e9  # 10.1021/acs.jpclett.7b01890\n",
    "k_br_per_s = 4e10  # constant for radiativ decay from S11*\n",
    "k_enr_per_s = 4e9  # 10.1021/acs.jpclett.7b01890\n",
    "k_bnr_per_s = 4e10   # constant for non-radiativ decay from S11*\n",
    "\n",
    "k_de_per_s = 1e09  # constant for going from dark to S11 state\n",
    "k_ed_per_s = 1e11  # constant for going from S11 to dark statestate\n",
    "\n",
    "# termal detrapping 10.1021/acs.jpclett.8b03732\n",
    "k_bd_per_s = 0.5 * (1e12 / 385 + 1e12 / 1132) + 0.1e12 * np.exp(-1.6182e-11 /\n",
    "                                                                (kB * 300))\n",
    "\n",
    "k_dnr_per_s = 0\n",
    "\n",
    "kin_const_2 = np.array([k_br_per_s, k_er_per_s, k_bnr_per_s, k_enr_per_s, k_bd_per_s, k_ed_per_s,\n",
    "                        k_de_per_s, k_dnr_per_s])"
   ]
  },
  {
   "cell_type": "code",
   "execution_count": 9,
   "metadata": {},
   "outputs": [
    {
     "name": "stdout",
     "output_type": "stream",
     "text": [
      "Existing file loaded successfully.\n"
     ]
    }
   ],
   "source": [
    "exc_sim_def_2 = CNTSimFile('../sim_output/2020-08-16_exciton_sim_4_level-def_2.h5', kin_const_2)"
   ]
  },
  {
   "cell_type": "code",
   "execution_count": 31,
   "metadata": {
    "scrolled": true
   },
   "outputs": [
    {
     "name": "stdout",
     "output_type": "stream",
     "text": [
      "start of calculation: 2020-08-16 23:21:43.751769\n",
      "start of exiton simulation: 2020-08-16 23:21:43.753239\n",
      "2020-08-16 23:21:43.756290\n",
      "elapsed time: 00:00:00\n",
      "exciton processed((0/ 13))\n",
      "start of exiton simulation: 2020-08-16 23:21:43.757467\n",
      "2020-08-16 23:21:47.366765\n",
      "elapsed time: 00:00:03\n",
      "exciton processed((1/ 13))\n",
      "start of exiton simulation: 2020-08-16 23:21:47.368158\n",
      "2020-08-16 23:23:07.844419\n",
      "elapsed time: 00:01:20\n",
      "exciton processed((2/ 13))\n",
      "start of exiton simulation: 2020-08-16 23:23:07.848513\n",
      "2020-08-16 23:24:23.354643\n",
      "elapsed time: 00:01:15\n",
      "exciton processed((3/ 13))\n",
      "start of exiton simulation: 2020-08-16 23:24:23.355628\n",
      "2020-08-16 23:25:32.705503\n",
      "elapsed time: 00:01:09\n",
      "exciton processed((4/ 13))\n",
      "start of exiton simulation: 2020-08-16 23:25:32.708702\n",
      "2020-08-16 23:26:35.137764\n",
      "elapsed time: 00:01:02\n",
      "exciton processed((5/ 13))\n",
      "start of exiton simulation: 2020-08-16 23:26:35.139608\n",
      "2020-08-16 23:27:32.529832\n",
      "elapsed time: 00:00:57\n",
      "exciton processed((6/ 13))\n",
      "start of exiton simulation: 2020-08-16 23:27:32.534512\n",
      "2020-08-16 23:28:25.334646\n",
      "elapsed time: 00:00:52\n",
      "exciton processed((7/ 13))\n",
      "start of exiton simulation: 2020-08-16 23:28:25.338044\n",
      "2020-08-16 23:29:11.242537\n",
      "elapsed time: 00:00:45\n",
      "exciton processed((8/ 13))\n",
      "start of exiton simulation: 2020-08-16 23:29:11.244773\n",
      "2020-08-16 23:29:53.622564\n",
      "elapsed time: 00:00:42\n",
      "exciton processed((9/ 13))\n",
      "start of exiton simulation: 2020-08-16 23:29:53.625251\n",
      "2020-08-16 23:30:32.987634\n",
      "elapsed time: 00:00:39\n",
      "exciton processed((10/ 13))\n",
      "start of exiton simulation: 2020-08-16 23:30:32.991062\n",
      "2020-08-16 23:31:08.868702\n",
      "elapsed time: 00:00:35\n",
      "exciton processed((11/ 13))\n",
      "start of exiton simulation: 2020-08-16 23:31:08.871179\n",
      "2020-08-16 23:31:41.972987\n",
      "elapsed time: 00:00:33\n",
      "exciton processed((12/ 13))\n",
      "start of exiton simulation: 2020-08-16 23:31:41.976493\n",
      "2020-08-16 23:32:12.525815\n",
      "elapsed time: 00:00:30\n",
      "2020-08-16 23:32:12.526473\n",
      "elapsed time: 00:10:28\n"
     ]
    }
   ],
   "source": [
    "exc_sim_def_2.defect_dependance(10000, exciton_sim_4_lvl_full_exchange, n_defects, {'t_step': 1, 'CNT_length': 300,\n",
    "                                                                     'r_exc_nm': 2})"
   ]
  },
  {
   "cell_type": "code",
   "execution_count": 32,
   "metadata": {},
   "outputs": [],
   "source": [
    "exc_sim_def_2.save()"
   ]
  },
  {
   "cell_type": "code",
   "execution_count": 10,
   "metadata": {
    "scrolled": true
   },
   "outputs": [
    {
     "data": {
      "text/plain": [
       "[<matplotlib.lines.Line2D at 0x7fc49a0af3d0>,\n",
       " <matplotlib.lines.Line2D at 0x7fc49a0af5d0>]"
      ]
     },
     "execution_count": 10,
     "metadata": {},
     "output_type": "execute_result"
    },
    {
     "data": {
      "image/png": "[encoded data removed]",
      "text/plain": [
       "<Figure size 432x288 with 1 Axes>"
      ]
     },
     "metadata": {
      "needs_background": "light"
     },
     "output_type": "display_data"
    }
   ],
   "source": [
    "plt.plot(n_defects, exc_sim_def_2.QY*100)"
   ]
  },
  {
   "cell_type": "code",
   "execution_count": 11,
   "metadata": {},
   "outputs": [],
   "source": [
    "k_er_per_s = 0.08e9  # 10.1021/acs.jpclett.7b01890\n",
    "k_br_per_s = 4e10  # constant for radiativ decay from S11*\n",
    "k_enr_per_s = 2e10  # 10.1021/acs.jpclett.7b01890\n",
    "k_bnr_per_s = 2e10   # constant for non-radiativ decay from S11*\n",
    "\n",
    "k_de_per_s = 1e09  # constant for going from dark to S11 state\n",
    "k_ed_per_s = 1e11  # constant for going from S11 to dark statestate\n",
    "\n",
    "# termal detrapping 10.1021/acs.jpclett.8b03732\n",
    "k_bd_per_s = 0.5 * (1e12 / 385 + 1e12 / 1132) + 0.1e12 * np.exp(-1.6182e-11 /\n",
    "                                                                (kB * 300))\n",
    "\n",
    "k_dnr_per_s = 0\n",
    "\n",
    "kin_const_3 = np.array([k_br_per_s, k_er_per_s, k_bnr_per_s, k_enr_per_s, k_bd_per_s, k_ed_per_s,\n",
    "                        k_de_per_s, k_dnr_per_s])"
   ]
  },
  {
   "cell_type": "code",
   "execution_count": 12,
   "metadata": {},
   "outputs": [
    {
     "name": "stdout",
     "output_type": "stream",
     "text": [
      "Existing file loaded successfully.\n"
     ]
    }
   ],
   "source": [
    "exc_sim_def_3 = CNTSimFile('../sim_output/2020-08-16_exciton_sim_4_level-def_3.h5', kin_const_3)"
   ]
  },
  {
   "cell_type": "code",
   "execution_count": 36,
   "metadata": {
    "scrolled": true
   },
   "outputs": [
    {
     "name": "stdout",
     "output_type": "stream",
     "text": [
      "start of calculation: 2020-08-16 23:34:47.439938\n",
      "start of exiton simulation: 2020-08-16 23:34:47.441405\n",
      "2020-08-16 23:34:47.443494\n",
      "elapsed time: 00:00:00\n",
      "exciton processed((0/ 13))\n",
      "start of exiton simulation: 2020-08-16 23:34:47.444487\n",
      "2020-08-16 23:34:51.092169\n",
      "elapsed time: 00:00:03\n",
      "exciton processed((1/ 13))\n",
      "start of exiton simulation: 2020-08-16 23:34:51.092580\n",
      "2020-08-16 23:37:19.427702\n",
      "elapsed time: 00:01:12\n",
      "exciton processed((3/ 13))\n",
      "start of exiton simulation: 2020-08-16 23:37:19.428918\n",
      "2020-08-16 23:38:23.568989\n",
      "elapsed time: 00:01:04\n",
      "exciton processed((4/ 13))\n",
      "start of exiton simulation: 2020-08-16 23:38:23.570065\n",
      "2020-08-16 23:39:22.903575\n",
      "elapsed time: 00:00:59\n",
      "exciton processed((5/ 13))\n",
      "start of exiton simulation: 2020-08-16 23:39:22.906347\n",
      "2020-08-16 23:40:15.731328\n",
      "elapsed time: 00:00:52\n",
      "exciton processed((6/ 13))\n",
      "start of exiton simulation: 2020-08-16 23:40:15.733584\n",
      "2020-08-16 23:41:06.036274\n",
      "elapsed time: 00:00:50\n",
      "exciton processed((7/ 13))\n",
      "start of exiton simulation: 2020-08-16 23:41:06.039814\n",
      "2020-08-16 23:41:49.334370\n",
      "elapsed time: 00:00:43\n",
      "exciton processed((8/ 13))\n",
      "start of exiton simulation: 2020-08-16 23:41:49.337207\n",
      "2020-08-16 23:42:30.993934\n",
      "elapsed time: 00:00:41\n",
      "exciton processed((9/ 13))\n",
      "start of exiton simulation: 2020-08-16 23:42:30.995819\n",
      "2020-08-16 23:43:07.510888\n",
      "elapsed time: 00:00:36\n",
      "exciton processed((10/ 13))\n",
      "start of exiton simulation: 2020-08-16 23:43:07.513375\n",
      "2020-08-16 23:43:42.189494\n",
      "elapsed time: 00:00:34\n",
      "exciton processed((11/ 13))\n",
      "start of exiton simulation: 2020-08-16 23:43:42.192857\n",
      "2020-08-16 23:44:14.515040\n",
      "elapsed time: 00:00:32\n",
      "exciton processed((12/ 13))\n",
      "start of exiton simulation: 2020-08-16 23:44:14.516074\n",
      "2020-08-16 23:44:44.263282\n",
      "elapsed time: 00:00:29\n",
      "2020-08-16 23:44:44.265113\n",
      "elapsed time: 00:09:56\n"
     ]
    }
   ],
   "source": [
    "exc_sim_def_3.defect_dependance(10000, exciton_sim_4_lvl_full_exchange, n_defects, {'t_step': 1, 'CNT_length': 300,\n",
    "                                                                     'r_exc_nm': 2})"
   ]
  },
  {
   "cell_type": "code",
   "execution_count": 37,
   "metadata": {},
   "outputs": [],
   "source": [
    "exc_sim_def_3.save()"
   ]
  },
  {
   "cell_type": "code",
   "execution_count": 13,
   "metadata": {
    "scrolled": true
   },
   "outputs": [
    {
     "data": {
      "text/plain": [
       "[<matplotlib.lines.Line2D at 0x7fc49a097e50>,\n",
       " <matplotlib.lines.Line2D at 0x7fc49a023090>]"
      ]
     },
     "execution_count": 13,
     "metadata": {},
     "output_type": "execute_result"
    },
    {
     "data": {
      "image/png": "[encoded data removed]",
      "text/plain": [
       "<Figure size 432x288 with 1 Axes>"
      ]
     },
     "metadata": {
      "needs_background": "light"
     },
     "output_type": "display_data"
    }
   ],
   "source": [
    "plt.plot(n_defects, exc_sim_def_3.QY*100)"
   ]
  },
  {
   "cell_type": "code",
   "execution_count": 14,
   "metadata": {},
   "outputs": [],
   "source": [
    "k_er_per_s = 0.08e9  # 10.1021/acs.jpclett.7b01890\n",
    "k_br_per_s = 1e9  # constant for radiativ decay from S11*\n",
    "k_enr_per_s = 2e10  # 10.1021/acs.jpclett.7b01890\n",
    "k_bnr_per_s = 2e10   # constant for non-radiativ decay from S11*\n",
    "\n",
    "k_de_per_s = 1e09  # constant for going from dark to S11 state\n",
    "k_ed_per_s = 1e11  # constant for going from S11 to dark statestate\n",
    "\n",
    "# termal detrapping 10.1021/acs.jpclett.8b03732\n",
    "k_bd_per_s = 0.5 * (1e12 / 385 + 1e12 / 1132) + 0.1e12 * np.exp(-1.6182e-11 /\n",
    "                                                                (kB * 300))\n",
    "\n",
    "k_dnr_per_s = 0\n",
    "\n",
    "kin_const_4 = np.array([k_br_per_s, k_er_per_s, k_bnr_per_s, k_enr_per_s, k_bd_per_s, k_ed_per_s,\n",
    "                        k_de_per_s, k_dnr_per_s])"
   ]
  },
  {
   "cell_type": "code",
   "execution_count": 15,
   "metadata": {},
   "outputs": [
    {
     "name": "stdout",
     "output_type": "stream",
     "text": [
      "Existing file loaded successfully.\n"
     ]
    }
   ],
   "source": [
    "exc_sim_def_4 = CNTSimFile('../sim_output/2020-08-16_exciton_sim_4_level-def_4.h5', kin_const_4)"
   ]
  },
  {
   "cell_type": "code",
   "execution_count": 43,
   "metadata": {},
   "outputs": [
    {
     "name": "stdout",
     "output_type": "stream",
     "text": [
      "start of calculation: 2020-08-16 23:51:36.807020\n",
      "start of exiton simulation: 2020-08-16 23:51:36.807686\n",
      "2020-08-16 23:51:36.810544\n",
      "elapsed time: 00:00:00\n",
      "exciton processed((0/ 13))\n",
      "start of exiton simulation: 2020-08-16 23:51:36.810916\n",
      "2020-08-16 23:51:40.642450\n",
      "elapsed time: 00:00:03\n",
      "exciton processed((1/ 13))\n",
      "start of exiton simulation: 2020-08-16 23:51:40.642983\n",
      "2020-08-16 23:52:42.007535\n",
      "elapsed time: 00:01:01\n",
      "exciton processed((2/ 13))\n",
      "start of exiton simulation: 2020-08-16 23:52:42.010235\n",
      "2020-08-16 23:53:40.061027\n",
      "elapsed time: 00:00:58\n",
      "exciton processed((3/ 13))\n",
      "start of exiton simulation: 2020-08-16 23:53:40.064354\n",
      "2020-08-16 23:54:32.768446\n",
      "elapsed time: 00:00:52\n",
      "exciton processed((4/ 13))\n",
      "start of exiton simulation: 2020-08-16 23:54:32.771280\n",
      "2020-08-16 23:55:21.602363\n",
      "elapsed time: 00:00:48\n",
      "exciton processed((5/ 13))\n",
      "start of exiton simulation: 2020-08-16 23:55:21.604986\n",
      "2020-08-16 23:56:06.656749\n",
      "elapsed time: 00:00:45\n",
      "exciton processed((6/ 13))\n",
      "start of exiton simulation: 2020-08-16 23:56:06.661623\n",
      "2020-08-16 23:56:48.445334\n",
      "elapsed time: 00:00:41\n",
      "exciton processed((7/ 13))\n",
      "start of exiton simulation: 2020-08-16 23:56:48.449027\n",
      "2020-08-16 23:57:26.143849\n",
      "elapsed time: 00:00:37\n",
      "exciton processed((8/ 13))\n",
      "start of exiton simulation: 2020-08-16 23:57:26.147548\n",
      "2020-08-16 23:58:00.631583\n",
      "elapsed time: 00:00:34\n",
      "exciton processed((9/ 13))\n",
      "start of exiton simulation: 2020-08-16 23:58:00.633399\n",
      "2020-08-16 23:58:31.731246\n",
      "elapsed time: 00:00:31\n",
      "exciton processed((10/ 13))\n",
      "start of exiton simulation: 2020-08-16 23:58:31.733618\n",
      "2020-08-16 23:59:01.654418\n",
      "elapsed time: 00:00:29\n",
      "exciton processed((11/ 13))\n",
      "start of exiton simulation: 2020-08-16 23:59:01.656415\n",
      "2020-08-16 23:59:29.737272\n",
      "elapsed time: 00:00:28\n",
      "exciton processed((12/ 13))\n",
      "start of exiton simulation: 2020-08-16 23:59:29.739514\n",
      "2020-08-16 23:59:56.436791\n",
      "elapsed time: 00:00:26\n",
      "2020-08-16 23:59:56.439317\n",
      "elapsed time: 00:08:19\n"
     ]
    }
   ],
   "source": [
    "exc_sim_def_4.defect_dependance(10000, exciton_sim_4_lvl_full_exchange, n_defects, {'t_step': 1, 'CNT_length': 300,\n",
    "                                                                     'r_exc_nm': 2})"
   ]
  },
  {
   "cell_type": "code",
   "execution_count": 44,
   "metadata": {},
   "outputs": [],
   "source": [
    "exc_sim_def_4.save()"
   ]
  },
  {
   "cell_type": "code",
   "execution_count": 16,
   "metadata": {
    "scrolled": true
   },
   "outputs": [
    {
     "data": {
      "text/plain": [
       "[<matplotlib.lines.Line2D at 0x7fc49a015750>,\n",
       " <matplotlib.lines.Line2D at 0x7fc49a015950>]"
      ]
     },
     "execution_count": 16,
     "metadata": {},
     "output_type": "execute_result"
    },
    {
     "data": {
      "image/png": "[encoded data removed]",
      "text/plain": [
       "<Figure size 432x288 with 1 Axes>"
      ]
     },
     "metadata": {
      "needs_background": "light"
     },
     "output_type": "display_data"
    }
   ],
   "source": [
    "plt.plot(n_defects, exc_sim_def_4.QY*100)"
   ]
  },
  {
   "cell_type": "code",
   "execution_count": 17,
   "metadata": {},
   "outputs": [],
   "source": [
    "k_er_per_s = 0.08e9  # 10.1021/acs.jpclett.7b01890\n",
    "k_br_per_s = 1e10  # constant for radiativ decay from S11*\n",
    "k_enr_per_s = 2e10  # 10.1021/acs.jpclett.7b01890\n",
    "k_bnr_per_s = 2e10   # constant for non-radiativ decay from S11*\n",
    "\n",
    "k_de_per_s = 1e12  # constant for going from dark to S11 state\n",
    "k_ed_per_s = 1e12  # constant for going from S11 to dark statestate\n",
    "\n",
    "# termal detrapping 10.1021/acs.jpclett.8b03732\n",
    "k_bd_per_s = 0.5 * (1e12 / 385 + 1e12 / 1132) + 0.1e12 * np.exp(-1.6182e-11 /\n",
    "                                                                (kB * 300))\n",
    "\n",
    "k_dnr_per_s = 0\n",
    "\n",
    "kin_const_5 = np.array([k_br_per_s, k_er_per_s, k_bnr_per_s, k_enr_per_s, k_bd_per_s, k_ed_per_s,\n",
    "                        k_de_per_s, k_dnr_per_s])"
   ]
  },
  {
   "cell_type": "code",
   "execution_count": 18,
   "metadata": {},
   "outputs": [
    {
     "name": "stdout",
     "output_type": "stream",
     "text": [
      "Existing file loaded successfully.\n"
     ]
    }
   ],
   "source": [
    "exc_sim_def_5 = CNTSimFile('../sim_output/2020-08-16_exciton_sim_4_level-def_5.h5', kin_const_5)"
   ]
  },
  {
   "cell_type": "code",
   "execution_count": 19,
   "metadata": {
    "scrolled": true
   },
   "outputs": [
    {
     "name": "stdout",
     "output_type": "stream",
     "text": [
      "start of calculation: 2020-08-17 09:05:13.471699\n",
      "start of exiton simulation: 2020-08-17 09:05:13.472120\n",
      "2020-08-17 09:05:13.474816\n",
      "elapsed time: 00:00:00\n",
      "exciton processed((0/ 13))\n",
      "start of exiton simulation: 2020-08-17 09:05:13.475213\n",
      "2020-08-17 09:05:17.418986\n",
      "elapsed time: 00:00:03\n",
      "exciton processed((1/ 13))\n",
      "start of exiton simulation: 2020-08-17 09:05:17.419532\n",
      "2020-08-17 09:06:34.910198\n",
      "elapsed time: 00:01:17\n",
      "exciton processed((2/ 13))\n",
      "start of exiton simulation: 2020-08-17 09:06:34.911357\n",
      "2020-08-17 09:07:47.380573\n",
      "elapsed time: 00:01:12\n",
      "exciton processed((3/ 13))\n",
      "start of exiton simulation: 2020-08-17 09:07:47.382198\n",
      "2020-08-17 09:08:52.885332\n",
      "elapsed time: 00:01:05\n",
      "exciton processed((4/ 13))\n",
      "start of exiton simulation: 2020-08-17 09:08:52.888895\n",
      "2020-08-17 09:09:53.671672\n",
      "elapsed time: 00:01:00\n",
      "exciton processed((5/ 13))\n",
      "start of exiton simulation: 2020-08-17 09:09:53.672820\n",
      "2020-08-17 09:10:49.005355\n",
      "elapsed time: 00:00:55\n",
      "exciton processed((6/ 13))\n",
      "start of exiton simulation: 2020-08-17 09:10:49.007364\n",
      "2020-08-17 09:11:39.191797\n",
      "elapsed time: 00:00:50\n",
      "exciton processed((7/ 13))\n",
      "start of exiton simulation: 2020-08-17 09:11:39.195897\n",
      "2020-08-17 09:12:25.185248\n",
      "elapsed time: 00:00:45\n",
      "exciton processed((8/ 13))\n",
      "start of exiton simulation: 2020-08-17 09:12:25.187960\n",
      "2020-08-17 09:13:07.184541\n",
      "elapsed time: 00:00:41\n",
      "exciton processed((9/ 13))\n",
      "start of exiton simulation: 2020-08-17 09:13:07.188184\n",
      "2020-08-17 09:13:45.060173\n",
      "elapsed time: 00:00:37\n",
      "exciton processed((10/ 13))\n",
      "start of exiton simulation: 2020-08-17 09:13:45.062168\n",
      "2020-08-17 09:14:20.180240\n",
      "elapsed time: 00:00:35\n",
      "exciton processed((11/ 13))\n",
      "start of exiton simulation: 2020-08-17 09:14:20.181136\n",
      "2020-08-17 09:14:52.713562\n",
      "elapsed time: 00:00:32\n",
      "exciton processed((12/ 13))\n",
      "start of exiton simulation: 2020-08-17 09:14:52.715585\n",
      "2020-08-17 09:15:23.207187\n",
      "elapsed time: 00:00:30\n",
      "2020-08-17 09:15:23.207715\n",
      "elapsed time: 00:10:09\n"
     ]
    }
   ],
   "source": [
    "exc_sim_def_5.defect_dependance(10000, exciton_sim_4_lvl_full_exchange, n_defects, {'t_step': 1, 'CNT_length': 300,\n",
    "                                                                     'r_exc_nm': 2})"
   ]
  },
  {
   "cell_type": "code",
   "execution_count": 20,
   "metadata": {},
   "outputs": [],
   "source": [
    "exc_sim_def_5.save()"
   ]
  },
  {
   "cell_type": "code",
   "execution_count": 21,
   "metadata": {},
   "outputs": [
    {
     "data": {
      "text/plain": [
       "[<matplotlib.lines.Line2D at 0x7fc499f8f210>,\n",
       " <matplotlib.lines.Line2D at 0x7fc499f8f410>]"
      ]
     },
     "execution_count": 21,
     "metadata": {},
     "output_type": "execute_result"
    },
    {
     "data": {
      "image/png": "[encoded data removed]",
      "text/plain": [
       "<Figure size 432x288 with 1 Axes>"
      ]
     },
     "metadata": {
      "needs_background": "light"
     },
     "output_type": "display_data"
    }
   ],
   "source": [
    "plt.plot(n_defects, exc_sim_def_5.QY*100)"
   ]
  },
  {
   "cell_type": "markdown",
   "metadata": {},
   "source": [
    "## Correct constants from paper"
   ]
  },
  {
   "cell_type": "code",
   "execution_count": 23,
   "metadata": {},
   "outputs": [],
   "source": [
    "k_er_per_s = 0.1e9  # 10.1021/acs.jpclett.7b01890\n",
    "k_br_per_s = 1e10  # constant for radiativ decay from S11*\n",
    "k_enr_per_s = 10e9  # 10.1021/acs.jpclett.7b01890\n",
    "k_bnr_per_s = 2e10   # constant for non-radiativ decay from S11*\n",
    "\n",
    "k_de_per_s = 1e12  # constant for going from dark to S11 state\n",
    "k_ed_per_s = 1e12  # constant for going from S11 to dark statestate\n",
    "\n",
    "# termal detrapping 10.1021/acs.jpclett.8b03732\n",
    "k_bd_per_s = 0.5 * (1e12 / 385 + 1e12 / 1132) + 0.1e12 * np.exp(-1.6182e-11 /\n",
    "                                                                (kB * 300))\n",
    "\n",
    "k_dnr_per_s = 0\n",
    "\n",
    "kin_const_6 = np.array([k_br_per_s, k_er_per_s, k_bnr_per_s, k_enr_per_s, k_bd_per_s, k_ed_per_s,\n",
    "                        k_de_per_s, k_dnr_per_s])"
   ]
  },
  {
   "cell_type": "code",
   "execution_count": 24,
   "metadata": {},
   "outputs": [],
   "source": [
    "exc_sim_def_6 = CNTSimFile('../sim_output/2020-08-16_exciton_sim_4_level-def_6.h5', kin_const_6)"
   ]
  },
  {
   "cell_type": "code",
   "execution_count": 25,
   "metadata": {
    "scrolled": true
   },
   "outputs": [
    {
     "name": "stdout",
     "output_type": "stream",
     "text": [
      "start of calculation: 2020-08-17 09:21:59.803123\n",
      "start of exiton simulation: 2020-08-17 09:21:59.804054\n",
      "2020-08-17 09:21:59.808836\n",
      "elapsed time: 00:00:00\n",
      "exciton processed((0/ 13))\n",
      "start of exiton simulation: 2020-08-17 09:21:59.809269\n",
      "2020-08-17 09:22:03.540791\n",
      "elapsed time: 00:00:03\n",
      "exciton processed((1/ 13))\n",
      "start of exiton simulation: 2020-08-17 09:22:03.541570\n",
      "2020-08-17 09:23:20.145884\n",
      "elapsed time: 00:01:16\n",
      "exciton processed((2/ 13))\n",
      "start of exiton simulation: 2020-08-17 09:23:20.157164\n",
      "2020-08-17 09:24:31.932111\n",
      "elapsed time: 00:01:11\n",
      "exciton processed((3/ 13))\n",
      "start of exiton simulation: 2020-08-17 09:24:31.934107\n",
      "2020-08-17 09:25:37.407467\n",
      "elapsed time: 00:01:05\n",
      "exciton processed((4/ 13))\n",
      "start of exiton simulation: 2020-08-17 09:25:37.412558\n",
      "2020-08-17 09:26:36.352300\n",
      "elapsed time: 00:00:58\n",
      "exciton processed((5/ 13))\n",
      "start of exiton simulation: 2020-08-17 09:26:36.355862\n",
      "2020-08-17 09:27:29.971701\n",
      "elapsed time: 00:00:53\n",
      "exciton processed((6/ 13))\n",
      "start of exiton simulation: 2020-08-17 09:27:29.974125\n",
      "2020-08-17 09:28:19.308583\n",
      "elapsed time: 00:00:49\n",
      "exciton processed((7/ 13))\n",
      "start of exiton simulation: 2020-08-17 09:28:19.309563\n",
      "2020-08-17 09:29:03.427401\n",
      "elapsed time: 00:00:44\n",
      "exciton processed((8/ 13))\n",
      "start of exiton simulation: 2020-08-17 09:29:03.432091\n",
      "2020-08-17 09:29:44.112727\n",
      "elapsed time: 00:00:40\n",
      "exciton processed((9/ 13))\n",
      "start of exiton simulation: 2020-08-17 09:29:44.115148\n",
      "2020-08-17 09:30:20.029912\n",
      "elapsed time: 00:00:35\n",
      "exciton processed((10/ 13))\n",
      "start of exiton simulation: 2020-08-17 09:30:20.032347\n",
      "2020-08-17 09:30:54.119738\n",
      "elapsed time: 00:00:34\n",
      "exciton processed((11/ 13))\n",
      "start of exiton simulation: 2020-08-17 09:30:54.122120\n",
      "2020-08-17 09:31:26.191565\n",
      "elapsed time: 00:00:32\n",
      "exciton processed((12/ 13))\n",
      "start of exiton simulation: 2020-08-17 09:31:26.192912\n",
      "2020-08-17 09:31:55.095821\n",
      "elapsed time: 00:00:28\n",
      "2020-08-17 09:31:55.096470\n",
      "elapsed time: 00:09:55\n"
     ]
    }
   ],
   "source": [
    "exc_sim_def_6.defect_dependance(10000, exciton_sim_4_lvl_full_exchange, n_defects, {'t_step': 1, 'CNT_length': 300,\n",
    "                                                                     'r_exc_nm': 2})"
   ]
  },
  {
   "cell_type": "code",
   "execution_count": 26,
   "metadata": {},
   "outputs": [],
   "source": [
    "exc_sim_def_6.save()"
   ]
  },
  {
   "cell_type": "code",
   "execution_count": 27,
   "metadata": {},
   "outputs": [
    {
     "data": {
      "text/plain": [
       "[<matplotlib.lines.Line2D at 0x7fc499f02210>,\n",
       " <matplotlib.lines.Line2D at 0x7fc499f02410>]"
      ]
     },
     "execution_count": 27,
     "metadata": {},
     "output_type": "execute_result"
    },
    {
     "data": {
      "image/png": "[encoded data removed]",
      "text/plain": [
       "<Figure size 432x288 with 1 Axes>"
      ]
     },
     "metadata": {
      "needs_background": "light"
     },
     "output_type": "display_data"
    }
   ],
   "source": [
    "plt.plot(n_defects, exc_sim_def_6.QY*100)"
   ]
  },
  {
   "cell_type": "code",
   "execution_count": 36,
   "metadata": {},
   "outputs": [],
   "source": [
    "k_er_per_s = 0.1e9  # 10.1021/acs.jpclett.7b01890\n",
    "k_br_per_s = 1e10  # constant for radiativ decay from S11*\n",
    "k_enr_per_s = 1e9 \n",
    "k_bnr_per_s = 2e10   # constant for non-radiativ decay from S11*\n",
    "\n",
    "k_de_per_s = 1e12  # constant for going from dark to S11 state\n",
    "k_ed_per_s = 1e12  # constant for going from S11 to dark statestate\n",
    "\n",
    "# termal detrapping 10.1021/acs.jpclett.8b03732\n",
    "k_bd_per_s = 0.5 * (1e12 / 385 + 1e12 / 1132) + 0.1e12 * np.exp(-1.6182e-11 /\n",
    "                                                                (kB * 300))\n",
    "\n",
    "k_dnr_per_s = 0\n",
    "\n",
    "kin_const_7 = np.array([k_br_per_s, k_er_per_s, k_bnr_per_s, k_enr_per_s, k_bd_per_s, k_ed_per_s,\n",
    "                        k_de_per_s, k_dnr_per_s])"
   ]
  },
  {
   "cell_type": "code",
   "execution_count": 30,
   "metadata": {},
   "outputs": [],
   "source": [
    "exc_sim_def_7 = CNTSimFile('../sim_output/2020-08-16_exciton_sim_4_level-def_7.h5', kin_const_7)"
   ]
  },
  {
   "cell_type": "code",
   "execution_count": 31,
   "metadata": {},
   "outputs": [
    {
     "name": "stdout",
     "output_type": "stream",
     "text": [
      "start of calculation: 2020-08-17 09:35:10.250962\n",
      "start of exiton simulation: 2020-08-17 09:35:10.253259\n",
      "2020-08-17 09:35:10.255336\n",
      "elapsed time: 00:00:00\n",
      "exciton processed((0/ 13))\n",
      "start of exiton simulation: 2020-08-17 09:35:10.256322\n",
      "2020-08-17 09:35:13.891582\n",
      "elapsed time: 00:00:03\n",
      "exciton processed((1/ 13))\n",
      "start of exiton simulation: 2020-08-17 09:35:13.893134\n",
      "2020-08-17 09:36:29.962735\n",
      "elapsed time: 00:01:16\n",
      "exciton processed((2/ 13))\n",
      "start of exiton simulation: 2020-08-17 09:36:29.965906\n",
      "2020-08-17 09:37:42.100481\n",
      "elapsed time: 00:01:12\n",
      "exciton processed((3/ 13))\n",
      "start of exiton simulation: 2020-08-17 09:37:42.104159\n",
      "2020-08-17 09:38:47.134090\n",
      "elapsed time: 00:01:05\n",
      "exciton processed((4/ 13))\n",
      "start of exiton simulation: 2020-08-17 09:38:47.137036\n",
      "2020-08-17 09:40:41.479751\n",
      "elapsed time: 00:00:55\n",
      "exciton processed((6/ 13))\n",
      "start of exiton simulation: 2020-08-17 09:40:41.484407\n",
      "2020-08-17 09:41:31.201892\n",
      "elapsed time: 00:00:49\n",
      "exciton processed((7/ 13))\n",
      "start of exiton simulation: 2020-08-17 09:41:31.203440\n",
      "2020-08-17 09:42:15.512221\n",
      "elapsed time: 00:00:44\n",
      "exciton processed((8/ 13))\n",
      "start of exiton simulation: 2020-08-17 09:42:15.515943\n",
      "2020-08-17 09:42:57.527188\n",
      "elapsed time: 00:00:42\n",
      "exciton processed((9/ 13))\n",
      "start of exiton simulation: 2020-08-17 09:42:57.529044\n",
      "2020-08-17 09:43:34.753036\n",
      "elapsed time: 00:00:37\n",
      "exciton processed((10/ 13))\n",
      "start of exiton simulation: 2020-08-17 09:43:34.753790\n",
      "2020-08-17 09:44:08.154509\n",
      "elapsed time: 00:00:33\n",
      "exciton processed((11/ 13))\n",
      "start of exiton simulation: 2020-08-17 09:44:08.157229\n",
      "2020-08-17 09:44:40.615212\n",
      "elapsed time: 00:00:32\n",
      "exciton processed((12/ 13))\n",
      "start of exiton simulation: 2020-08-17 09:44:40.617757\n",
      "2020-08-17 09:45:09.212488\n",
      "elapsed time: 00:00:28\n",
      "2020-08-17 09:45:09.215323\n",
      "elapsed time: 00:09:58\n"
     ]
    }
   ],
   "source": [
    "exc_sim_def_7.defect_dependance(10000, exciton_sim_4_lvl_full_exchange, n_defects, {'t_step': 1, 'CNT_length': 300,\n",
    "                                                                     'r_exc_nm': 2})"
   ]
  },
  {
   "cell_type": "code",
   "execution_count": 32,
   "metadata": {},
   "outputs": [],
   "source": [
    "exc_sim_def_7.save()"
   ]
  },
  {
   "cell_type": "code",
   "execution_count": 33,
   "metadata": {},
   "outputs": [
    {
     "data": {
      "text/plain": [
       "[<matplotlib.lines.Line2D at 0x7fc499e72150>,\n",
       " <matplotlib.lines.Line2D at 0x7fc499e723d0>]"
      ]
     },
     "execution_count": 33,
     "metadata": {},
     "output_type": "execute_result"
    },
    {
     "data": {
      "image/png": "[encoded data removed]",
      "text/plain": [
       "<Figure size 432x288 with 1 Axes>"
      ]
     },
     "metadata": {
      "needs_background": "light"
     },
     "output_type": "display_data"
    }
   ],
   "source": [
    "plt.plot(n_defects, exc_sim_def_7.QY*100)"
   ]
  },
  {
   "cell_type": "code",
   "execution_count": 35,
   "metadata": {},
   "outputs": [],
   "source": [
    "k_er_per_s = 0.1e9  # 10.1021/acs.jpclett.7b01890\n",
    "k_br_per_s = 1e10  # constant for radiativ decay from S11*\n",
    "k_enr_per_s = 1e8 \n",
    "k_bnr_per_s = 2e10   # constant for non-radiativ decay from S11*\n",
    "\n",
    "k_de_per_s = 1e12  # constant for going from dark to S11 state\n",
    "k_ed_per_s = 1e12  # constant for going from S11 to dark statestate\n",
    "\n",
    "# termal detrapping 10.1021/acs.jpclett.8b03732\n",
    "k_bd_per_s = 0.5 * (1e12 / 385 + 1e12 / 1132) + 0.1e12 * np.exp(-1.6182e-11 /\n",
    "                                                                (kB * 300))\n",
    "\n",
    "k_dnr_per_s = 0\n",
    "\n",
    "kin_const_8 = np.array([k_br_per_s, k_er_per_s, k_bnr_per_s, k_enr_per_s, k_bd_per_s, k_ed_per_s,\n",
    "                        k_de_per_s, k_dnr_per_s])"
   ]
  },
  {
   "cell_type": "code",
   "execution_count": 37,
   "metadata": {},
   "outputs": [],
   "source": [
    "exc_sim_def_8 = CNTSimFile('../sim_output/2020-08-16_exciton_sim_4_level-def_8.h5', kin_const_8)"
   ]
  },
  {
   "cell_type": "code",
   "execution_count": 38,
   "metadata": {
    "scrolled": true
   },
   "outputs": [
    {
     "name": "stdout",
     "output_type": "stream",
     "text": [
      "start of calculation: 2020-08-17 09:48:29.874635\n",
      "start of exiton simulation: 2020-08-17 09:48:29.874978\n",
      "2020-08-17 09:48:29.877657\n",
      "elapsed time: 00:00:00\n",
      "exciton processed((0/ 13))\n",
      "start of exiton simulation: 2020-08-17 09:48:29.878120\n",
      "2020-08-17 09:48:33.502796\n",
      "elapsed time: 00:00:03\n",
      "exciton processed((1/ 13))\n",
      "start of exiton simulation: 2020-08-17 09:48:33.503220\n",
      "2020-08-17 09:49:49.546691\n",
      "elapsed time: 00:01:16\n",
      "exciton processed((2/ 13))\n",
      "start of exiton simulation: 2020-08-17 09:49:49.548303\n",
      "2020-08-17 09:50:59.475655\n",
      "elapsed time: 00:01:09\n",
      "exciton processed((3/ 13))\n",
      "start of exiton simulation: 2020-08-17 09:50:59.476880\n",
      "2020-08-17 09:52:04.809664\n",
      "elapsed time: 00:01:05\n",
      "exciton processed((4/ 13))\n",
      "start of exiton simulation: 2020-08-17 09:52:04.813280\n",
      "2020-08-17 09:53:04.230782\n",
      "elapsed time: 00:00:59\n",
      "exciton processed((5/ 13))\n",
      "start of exiton simulation: 2020-08-17 09:53:04.231821\n",
      "2020-08-17 09:53:57.302877\n",
      "elapsed time: 00:00:53\n",
      "exciton processed((6/ 13))\n",
      "start of exiton simulation: 2020-08-17 09:53:57.305459\n",
      "2020-08-17 09:54:44.951958\n",
      "elapsed time: 00:00:47\n",
      "exciton processed((7/ 13))\n",
      "start of exiton simulation: 2020-08-17 09:54:44.954332\n",
      "2020-08-17 09:55:28.971399\n",
      "elapsed time: 00:00:44\n",
      "exciton processed((8/ 13))\n",
      "start of exiton simulation: 2020-08-17 09:55:28.974330\n",
      "2020-08-17 09:56:08.343869\n",
      "elapsed time: 00:00:39\n",
      "exciton processed((9/ 13))\n",
      "start of exiton simulation: 2020-08-17 09:56:08.344691\n",
      "2020-08-17 09:56:44.825952\n",
      "elapsed time: 00:00:36\n",
      "exciton processed((10/ 13))\n",
      "start of exiton simulation: 2020-08-17 09:56:44.829728\n",
      "2020-08-17 09:57:18.835964\n",
      "elapsed time: 00:00:34\n",
      "exciton processed((11/ 13))\n",
      "start of exiton simulation: 2020-08-17 09:57:18.836947\n",
      "2020-08-17 09:57:49.348579\n",
      "elapsed time: 00:00:30\n",
      "exciton processed((12/ 13))\n",
      "start of exiton simulation: 2020-08-17 09:57:49.351052\n",
      "2020-08-17 09:58:19.305617\n",
      "elapsed time: 00:00:29\n",
      "2020-08-17 09:58:19.306282\n",
      "elapsed time: 00:09:49\n"
     ]
    }
   ],
   "source": [
    "exc_sim_def_8.defect_dependance(10000, exciton_sim_4_lvl_full_exchange, n_defects, {'t_step': 1, 'CNT_length': 300,\n",
    "                                                                     'r_exc_nm': 2})"
   ]
  },
  {
   "cell_type": "code",
   "execution_count": 39,
   "metadata": {},
   "outputs": [],
   "source": [
    "exc_sim_def_8.save()"
   ]
  },
  {
   "cell_type": "code",
   "execution_count": 40,
   "metadata": {},
   "outputs": [
    {
     "data": {
      "text/plain": [
       "[<matplotlib.lines.Line2D at 0x7fc499de5050>,\n",
       " <matplotlib.lines.Line2D at 0x7fc499de52d0>]"
      ]
     },
     "execution_count": 40,
     "metadata": {},
     "output_type": "execute_result"
    },
    {
     "data": {
      "image/png": "[encoded data removed]",
      "text/plain": [
       "<Figure size 432x288 with 1 Axes>"
      ]
     },
     "metadata": {
      "needs_background": "light"
     },
     "output_type": "display_data"
    }
   ],
   "source": [
    "plt.plot(n_defects, exc_sim_def_8.QY*100)"
   ]
  },
  {
   "cell_type": "code",
   "execution_count": 41,
   "metadata": {},
   "outputs": [],
   "source": [
    "k_er_per_s = 0.1e9  # 10.1021/acs.jpclett.7b01890\n",
    "k_br_per_s = 1e10  # constant for radiativ decay from S11*\n",
    "k_enr_per_s = 1e8 \n",
    "k_bnr_per_s = 2e10   # constant for non-radiativ decay from S11*\n",
    "\n",
    "k_de_per_s = 1e10  # constant for going from dark to S11 state\n",
    "k_ed_per_s = 1e10  # constant for going from S11 to dark statestate\n",
    "\n",
    "# termal detrapping 10.1021/acs.jpclett.8b03732\n",
    "k_bd_per_s = 0.5 * (1e12 / 385 + 1e12 / 1132) + 0.1e12 * np.exp(-1.6182e-11 /\n",
    "                                                                (kB * 300))\n",
    "\n",
    "k_dnr_per_s = 0\n",
    "\n",
    "kin_const_9 = np.array([k_br_per_s, k_er_per_s, k_bnr_per_s, k_enr_per_s, k_bd_per_s, k_ed_per_s,\n",
    "                        k_de_per_s, k_dnr_per_s])"
   ]
  },
  {
   "cell_type": "code",
   "execution_count": 42,
   "metadata": {},
   "outputs": [],
   "source": [
    "exc_sim_def_9 = CNTSimFile('../sim_output/2020-08-16_exciton_sim_4_level-def_9.h5', kin_const_9)"
   ]
  },
  {
   "cell_type": "code",
   "execution_count": 43,
   "metadata": {
    "scrolled": true
   },
   "outputs": [
    {
     "name": "stdout",
     "output_type": "stream",
     "text": [
      "start of calculation: 2020-08-17 10:08:33.501862\n",
      "start of exiton simulation: 2020-08-17 10:08:33.502148\n",
      "2020-08-17 10:08:33.504757\n",
      "elapsed time: 00:00:00\n",
      "exciton processed((0/ 13))\n",
      "start of exiton simulation: 2020-08-17 10:08:33.505106\n",
      "2020-08-17 10:08:37.163095\n",
      "elapsed time: 00:00:03\n",
      "exciton processed((1/ 13))\n",
      "start of exiton simulation: 2020-08-17 10:08:37.164613\n",
      "2020-08-17 10:09:54.799750\n",
      "elapsed time: 00:01:17\n",
      "exciton processed((2/ 13))\n",
      "start of exiton simulation: 2020-08-17 10:09:54.803835\n",
      "2020-08-17 10:11:06.926228\n",
      "elapsed time: 00:01:12\n",
      "exciton processed((3/ 13))\n",
      "start of exiton simulation: 2020-08-17 10:11:06.930752\n",
      "2020-08-17 10:12:12.070888\n",
      "elapsed time: 00:01:05\n",
      "exciton processed((4/ 13))\n",
      "start of exiton simulation: 2020-08-17 10:12:12.074987\n",
      "2020-08-17 10:13:12.767985\n",
      "elapsed time: 00:01:00\n",
      "exciton processed((5/ 13))\n",
      "start of exiton simulation: 2020-08-17 10:13:12.769295\n",
      "2020-08-17 10:14:07.637995\n",
      "elapsed time: 00:00:54\n",
      "exciton processed((6/ 13))\n",
      "start of exiton simulation: 2020-08-17 10:14:07.638678\n",
      "2020-08-17 10:14:56.959942\n",
      "elapsed time: 00:00:49\n",
      "exciton processed((7/ 13))\n",
      "start of exiton simulation: 2020-08-17 10:14:56.964042\n",
      "2020-08-17 10:15:42.816340\n",
      "elapsed time: 00:00:45\n",
      "exciton processed((8/ 13))\n",
      "start of exiton simulation: 2020-08-17 10:15:42.821300\n",
      "2020-08-17 10:16:23.534153\n",
      "elapsed time: 00:00:40\n",
      "exciton processed((9/ 13))\n",
      "start of exiton simulation: 2020-08-17 10:16:23.537017\n",
      "2020-08-17 10:17:00.690044\n",
      "elapsed time: 00:00:37\n",
      "exciton processed((10/ 13))\n",
      "start of exiton simulation: 2020-08-17 10:17:00.692486\n",
      "2020-08-17 10:17:34.747995\n",
      "elapsed time: 00:00:34\n",
      "exciton processed((11/ 13))\n",
      "start of exiton simulation: 2020-08-17 10:17:34.751262\n",
      "2020-08-17 10:18:06.330826\n",
      "elapsed time: 00:00:31\n",
      "exciton processed((12/ 13))\n",
      "start of exiton simulation: 2020-08-17 10:18:06.333750\n",
      "2020-08-17 10:18:36.180185\n",
      "elapsed time: 00:00:29\n",
      "2020-08-17 10:18:36.184883\n",
      "elapsed time: 00:10:02\n"
     ]
    }
   ],
   "source": [
    "exc_sim_def_9.defect_dependance(10000, exciton_sim_4_lvl_full_exchange, n_defects, {'t_step': 1, 'CNT_length': 300,\n",
    "                                                                     'r_exc_nm': 2})"
   ]
  },
  {
   "cell_type": "code",
   "execution_count": 44,
   "metadata": {},
   "outputs": [],
   "source": [
    "exc_sim_def_9.save()"
   ]
  },
  {
   "cell_type": "code",
   "execution_count": 51,
   "metadata": {},
   "outputs": [
    {
     "data": {
      "text/plain": [
       "[<matplotlib.lines.Line2D at 0x7fc498c5b6d0>,\n",
       " <matplotlib.lines.Line2D at 0x7fc498c5b590>]"
      ]
     },
     "execution_count": 51,
     "metadata": {},
     "output_type": "execute_result"
    },
    {
     "data": {
      "image/png": "[encoded data removed]",
      "text/plain": [
       "<Figure size 432x288 with 1 Axes>"
      ]
     },
     "metadata": {
      "needs_background": "light"
     },
     "output_type": "display_data"
    }
   ],
   "source": [
    "plt.plot(n_defects, exc_sim_def_9.QY*100)"
   ]
  },
  {
   "cell_type": "code",
   "execution_count": 46,
   "metadata": {},
   "outputs": [],
   "source": [
    "k_er_per_s = 0.1e9  # 10.1021/acs.jpclett.7b01890\n",
    "k_br_per_s = 0.1e9  # constant for radiativ decay from S11*\n",
    "k_enr_per_s = 1e8 \n",
    "k_bnr_per_s = 2e8   # constant for non-radiativ decay from S11*\n",
    "\n",
    "k_de_per_s = 1e8  # constant for going from dark to S11 state\n",
    "k_ed_per_s = 1e8  # constant for going from S11 to dark statestate\n",
    "\n",
    "# termal detrapping 10.1021/acs.jpclett.8b03732\n",
    "k_bd_per_s = 0.5 * (1e12 / 385 + 1e12 / 1132) + 0.1e12 * np.exp(-1.6182e-11 /\n",
    "                                                                (kB * 300))\n",
    "\n",
    "k_dnr_per_s = 0\n",
    "\n",
    "kin_const_10 = np.array([k_br_per_s, k_er_per_s, k_bnr_per_s, k_enr_per_s, k_bd_per_s, k_ed_per_s,\n",
    "                        k_de_per_s, k_dnr_per_s])"
   ]
  },
  {
   "cell_type": "code",
   "execution_count": 48,
   "metadata": {},
   "outputs": [],
   "source": [
    "exc_sim_def_10 = CNTSimFile('../sim_output/2020-08-16_exciton_sim_4_level-def_10.h5', kin_const_10)"
   ]
  },
  {
   "cell_type": "code",
   "execution_count": 49,
   "metadata": {
    "scrolled": true
   },
   "outputs": [
    {
     "name": "stdout",
     "output_type": "stream",
     "text": [
      "start of calculation: 2020-08-17 10:23:11.652224\n",
      "start of exiton simulation: 2020-08-17 10:23:11.653392\n",
      "2020-08-17 10:23:11.655737\n",
      "elapsed time: 00:00:00\n",
      "exciton processed((0/ 13))\n",
      "start of exiton simulation: 2020-08-17 10:23:11.656786\n",
      "2020-08-17 10:23:15.215852\n",
      "elapsed time: 00:00:03\n",
      "exciton processed((1/ 13))\n",
      "start of exiton simulation: 2020-08-17 10:23:15.217179\n",
      "2020-08-17 10:29:01.721447\n",
      "elapsed time: 00:05:46\n",
      "exciton processed((2/ 13))\n",
      "start of exiton simulation: 2020-08-17 10:29:01.723222\n",
      "2020-08-17 10:33:12.110402\n",
      "elapsed time: 00:04:10\n",
      "exciton processed((3/ 13))\n",
      "start of exiton simulation: 2020-08-17 10:33:12.112153\n",
      "2020-08-17 10:36:10.860311\n",
      "elapsed time: 00:02:58\n",
      "exciton processed((4/ 13))\n",
      "start of exiton simulation: 2020-08-17 10:36:10.863762\n",
      "2020-08-17 10:38:19.351993\n",
      "elapsed time: 00:02:08\n",
      "exciton processed((5/ 13))\n",
      "start of exiton simulation: 2020-08-17 10:38:19.353634\n",
      "2020-08-17 10:39:59.858791\n",
      "elapsed time: 00:01:40\n",
      "exciton processed((6/ 13))\n",
      "start of exiton simulation: 2020-08-17 10:39:59.862755\n",
      "2020-08-17 10:41:19.318234\n",
      "elapsed time: 00:01:19\n",
      "exciton processed((7/ 13))\n",
      "start of exiton simulation: 2020-08-17 10:41:19.320815\n",
      "2020-08-17 10:42:25.342697\n",
      "elapsed time: 00:01:06\n",
      "exciton processed((8/ 13))\n",
      "start of exiton simulation: 2020-08-17 10:42:25.345863\n",
      "2020-08-17 10:43:20.463249\n",
      "elapsed time: 00:00:55\n",
      "exciton processed((9/ 13))\n",
      "start of exiton simulation: 2020-08-17 10:43:20.465394\n",
      "2020-08-17 10:44:07.604235\n",
      "elapsed time: 00:00:47\n",
      "exciton processed((10/ 13))\n",
      "start of exiton simulation: 2020-08-17 10:44:07.607490\n",
      "2020-08-17 10:44:48.418413\n",
      "elapsed time: 00:00:40\n",
      "exciton processed((11/ 13))\n",
      "start of exiton simulation: 2020-08-17 10:44:48.420827\n",
      "2020-08-17 10:45:25.157366\n",
      "elapsed time: 00:00:36\n",
      "exciton processed((12/ 13))\n",
      "start of exiton simulation: 2020-08-17 10:45:25.159839\n",
      "2020-08-17 10:45:57.762947\n",
      "elapsed time: 00:00:32\n",
      "2020-08-17 10:45:57.763676\n",
      "elapsed time: 00:22:46\n"
     ]
    }
   ],
   "source": [
    "exc_sim_def_10.defect_dependance(10000, exciton_sim_4_lvl_full_exchange, n_defects, {'t_step': 1, 'CNT_length': 300,\n",
    "                                                                     'r_exc_nm': 2})"
   ]
  },
  {
   "cell_type": "code",
   "execution_count": 50,
   "metadata": {},
   "outputs": [],
   "source": [
    "exc_sim_def_10.save()"
   ]
  },
  {
   "cell_type": "code",
   "execution_count": 52,
   "metadata": {},
   "outputs": [
    {
     "data": {
      "text/plain": [
       "[<matplotlib.lines.Line2D at 0x7fc4988aa7d0>,\n",
       " <matplotlib.lines.Line2D at 0x7fc4988aaa50>]"
      ]
     },
     "execution_count": 52,
     "metadata": {},
     "output_type": "execute_result"
    },
    {
     "data": {
      "image/png": "[encoded data removed]",
      "text/plain": [
       "<Figure size 432x288 with 1 Axes>"
      ]
     },
     "metadata": {
      "needs_background": "light"
     },
     "output_type": "display_data"
    }
   ],
   "source": [
    "plt.plot(n_defects, exc_sim_def_10.QY*100)"
   ]
  },
  {
   "cell_type": "code",
   "execution_count": 54,
   "metadata": {},
   "outputs": [],
   "source": [
    "k_er_per_s = 0.1e9  # 10.1021/acs.jpclett.7b01890\n",
    "k_br_per_s = 0.2e9  # constant for radiativ decay from S11*\n",
    "k_enr_per_s = 1e8 \n",
    "k_bnr_per_s = 2e8   # constant for non-radiativ decay from S11*\n",
    "\n",
    "k_de_per_s = 1e8  # constant for going from dark to S11 state\n",
    "k_ed_per_s = 1e8  # constant for going from S11 to dark statestate\n",
    "\n",
    "# termal detrapping 10.1021/acs.jpclett.8b03732\n",
    "k_bd_per_s = 0.5 * (1e12 / 385 + 1e12 / 1132) + 0.1e12 * np.exp(-1.6182e-11 /\n",
    "                                                                (kB * 300))\n",
    "\n",
    "k_dnr_per_s = 0\n",
    "\n",
    "kin_const_11 = np.array([k_br_per_s, k_er_per_s, k_bnr_per_s, k_enr_per_s, k_bd_per_s, k_ed_per_s,\n",
    "                        k_de_per_s, k_dnr_per_s])"
   ]
  },
  {
   "cell_type": "code",
   "execution_count": 55,
   "metadata": {},
   "outputs": [],
   "source": [
    "exc_sim_def_11 = CNTSimFile('../sim_output/2020-08-16_exciton_sim_4_level-def_11.h5', kin_const_11)"
   ]
  },
  {
   "cell_type": "code",
   "execution_count": 56,
   "metadata": {
    "scrolled": true
   },
   "outputs": [
    {
     "name": "stdout",
     "output_type": "stream",
     "text": [
      "start of calculation: 2020-08-17 10:52:32.154818\n",
      "start of exiton simulation: 2020-08-17 10:52:32.155809\n",
      "2020-08-17 10:52:32.158815\n",
      "elapsed time: 00:00:00\n",
      "exciton processed((0/ 13))\n",
      "start of exiton simulation: 2020-08-17 10:52:32.159221\n",
      "2020-08-17 10:52:35.884582\n",
      "elapsed time: 00:00:03\n",
      "exciton processed((1/ 13))\n",
      "start of exiton simulation: 2020-08-17 10:52:35.886596\n",
      "2020-08-17 10:58:31.099434\n",
      "elapsed time: 00:05:55\n",
      "exciton processed((2/ 13))\n",
      "start of exiton simulation: 2020-08-17 10:58:31.101122\n",
      "2020-08-17 11:02:50.456836\n",
      "elapsed time: 00:04:19\n",
      "exciton processed((3/ 13))\n",
      "start of exiton simulation: 2020-08-17 11:02:50.460686\n",
      "2020-08-17 11:05:51.015376\n",
      "elapsed time: 00:03:00\n",
      "exciton processed((4/ 13))\n",
      "start of exiton simulation: 2020-08-17 11:05:51.020214\n",
      "2020-08-17 11:08:04.042987\n",
      "elapsed time: 00:02:13\n",
      "exciton processed((5/ 13))\n",
      "start of exiton simulation: 2020-08-17 11:08:04.044291\n",
      "2020-08-17 11:09:50.710716\n",
      "elapsed time: 00:01:46\n",
      "exciton processed((6/ 13))\n",
      "start of exiton simulation: 2020-08-17 11:09:50.712148\n",
      "2020-08-17 11:11:15.390737\n",
      "elapsed time: 00:01:24\n",
      "exciton processed((7/ 13))\n",
      "start of exiton simulation: 2020-08-17 11:11:15.392168\n",
      "2020-08-17 11:12:24.575404\n",
      "elapsed time: 00:01:09\n",
      "exciton processed((8/ 13))\n",
      "start of exiton simulation: 2020-08-17 11:12:24.578379\n",
      "2020-08-17 11:13:20.456885\n",
      "elapsed time: 00:00:55\n",
      "exciton processed((9/ 13))\n",
      "start of exiton simulation: 2020-08-17 11:13:20.457709\n",
      "2020-08-17 11:14:09.841050\n",
      "elapsed time: 00:00:49\n",
      "exciton processed((10/ 13))\n",
      "start of exiton simulation: 2020-08-17 11:14:09.844708\n",
      "2020-08-17 11:14:52.484841\n",
      "elapsed time: 00:00:42\n",
      "exciton processed((11/ 13))\n",
      "start of exiton simulation: 2020-08-17 11:14:52.488269\n",
      "2020-08-17 11:15:30.003734\n",
      "elapsed time: 00:00:37\n",
      "exciton processed((12/ 13))\n",
      "start of exiton simulation: 2020-08-17 11:15:30.006256\n",
      "2020-08-17 11:16:03.274288\n",
      "elapsed time: 00:00:33\n",
      "2020-08-17 11:16:03.276860\n",
      "elapsed time: 00:23:31\n"
     ]
    }
   ],
   "source": [
    "exc_sim_def_11.defect_dependance(10000, exciton_sim_4_lvl_full_exchange, n_defects, {'t_step': 1, 'CNT_length': 300,\n",
    "                                                                     'r_exc_nm': 2})"
   ]
  },
  {
   "cell_type": "code",
   "execution_count": 57,
   "metadata": {},
   "outputs": [],
   "source": [
    "exc_sim_def_11.save()"
   ]
  },
  {
   "cell_type": "code",
   "execution_count": 58,
   "metadata": {},
   "outputs": [
    {
     "data": {
      "text/plain": [
       "[<matplotlib.lines.Line2D at 0x7fc49879ffd0>,\n",
       " <matplotlib.lines.Line2D at 0x7fc4987b6290>]"
      ]
     },
     "execution_count": 58,
     "metadata": {},
     "output_type": "execute_result"
    },
    {
     "data": {
      "image/png": "[encoded data removed]",
      "text/plain": [
       "<Figure size 432x288 with 1 Axes>"
      ]
     },
     "metadata": {
      "needs_background": "light"
     },
     "output_type": "display_data"
    }
   ],
   "source": [
    "plt.plot(n_defects, exc_sim_def_11.QY*100)"
   ]
  },
  {
   "cell_type": "code",
   "execution_count": 60,
   "metadata": {},
   "outputs": [],
   "source": [
    "k_er_per_s = 0.2e9  # 10.1021/acs.jpclett.7b01890\n",
    "k_br_per_s = 0.2e9  # constant for radiativ decay from S11*\n",
    "k_enr_per_s = 2e8 \n",
    "k_bnr_per_s = 4e8   # constant for non-radiativ decay from S11*\n",
    "\n",
    "k_de_per_s = 1e8  # constant for going from dark to S11 state\n",
    "k_ed_per_s = 1e8  # constant for going from S11 to dark statestate\n",
    "\n",
    "# termal detrapping 10.1021/acs.jpclett.8b03732\n",
    "k_bd_per_s = 0.5 * (1e12 / 385 + 1e12 / 1132) + 0.1e12 * np.exp(-1.6182e-11 /\n",
    "                                                                (kB * 300))\n",
    "\n",
    "k_dnr_per_s = 0\n",
    "\n",
    "kin_const_12 = np.array([k_br_per_s, k_er_per_s, k_bnr_per_s, k_enr_per_s, k_bd_per_s, k_ed_per_s,\n",
    "                        k_de_per_s, k_dnr_per_s])"
   ]
  },
  {
   "cell_type": "code",
   "execution_count": 61,
   "metadata": {},
   "outputs": [],
   "source": [
    "exc_sim_def_12 = CNTSimFile('../sim_output/2020-08-16_exciton_sim_4_level-def_12.h5', kin_const_12)"
   ]
  },
  {
   "cell_type": "code",
   "execution_count": 62,
   "metadata": {
    "scrolled": true
   },
   "outputs": [
    {
     "name": "stdout",
     "output_type": "stream",
     "text": [
      "start of calculation: 2020-08-17 11:40:02.044374\n",
      "start of exiton simulation: 2020-08-17 11:40:02.047100\n",
      "2020-08-17 11:40:02.053163\n",
      "elapsed time: 00:00:00\n",
      "exciton processed((0/ 13))\n",
      "start of exiton simulation: 2020-08-17 11:40:02.054328\n",
      "2020-08-17 11:40:05.778954\n",
      "elapsed time: 00:00:03\n",
      "exciton processed((1/ 13))\n",
      "start of exiton simulation: 2020-08-17 11:40:05.780893\n",
      "2020-08-17 11:45:52.581353\n",
      "elapsed time: 00:05:46\n",
      "exciton processed((2/ 13))\n",
      "start of exiton simulation: 2020-08-17 11:45:52.585243\n",
      "2020-08-17 11:50:14.030779\n",
      "elapsed time: 00:04:21\n",
      "exciton processed((3/ 13))\n",
      "start of exiton simulation: 2020-08-17 11:50:14.036113\n",
      "2020-08-17 11:53:17.143030\n",
      "elapsed time: 00:03:03\n",
      "exciton processed((4/ 13))\n",
      "start of exiton simulation: 2020-08-17 11:53:17.146756\n",
      "2020-08-17 11:55:34.719224\n",
      "elapsed time: 00:02:17\n",
      "exciton processed((5/ 13))\n",
      "start of exiton simulation: 2020-08-17 11:55:34.720511\n",
      "2020-08-17 11:57:22.706622\n",
      "elapsed time: 00:01:47\n",
      "exciton processed((6/ 13))\n",
      "start of exiton simulation: 2020-08-17 11:57:22.713090\n",
      "2020-08-17 11:58:49.705216\n",
      "elapsed time: 00:01:26\n",
      "exciton processed((7/ 13))\n",
      "start of exiton simulation: 2020-08-17 11:58:49.709411\n",
      "2020-08-17 12:00:00.553047\n",
      "elapsed time: 00:01:10\n",
      "exciton processed((8/ 13))\n",
      "start of exiton simulation: 2020-08-17 12:00:00.554108\n",
      "2020-08-17 12:01:01.192986\n",
      "elapsed time: 00:01:00\n",
      "exciton processed((9/ 13))\n",
      "start of exiton simulation: 2020-08-17 12:01:01.195615\n",
      "2020-08-17 12:01:52.985550\n",
      "elapsed time: 00:00:51\n",
      "exciton processed((10/ 13))\n",
      "start of exiton simulation: 2020-08-17 12:01:52.987995\n",
      "2020-08-17 12:02:38.255218\n",
      "elapsed time: 00:00:45\n",
      "exciton processed((11/ 13))\n",
      "start of exiton simulation: 2020-08-17 12:02:38.258721\n",
      "2020-08-17 12:03:17.050981\n",
      "elapsed time: 00:00:38\n",
      "exciton processed((12/ 13))\n",
      "start of exiton simulation: 2020-08-17 12:03:17.051596\n",
      "2020-08-17 12:03:51.516630\n",
      "elapsed time: 00:00:34\n",
      "2020-08-17 12:03:51.517371\n",
      "elapsed time: 00:23:49\n"
     ]
    }
   ],
   "source": [
    "exc_sim_def_12.defect_dependance(10000, exciton_sim_4_lvl_full_exchange, n_defects, {'t_step': 1, 'CNT_length': 300,\n",
    "                                                                     'r_exc_nm': 2})"
   ]
  },
  {
   "cell_type": "code",
   "execution_count": 63,
   "metadata": {},
   "outputs": [],
   "source": [
    "exc_sim_def_12.save()"
   ]
  },
  {
   "cell_type": "code",
   "execution_count": 64,
   "metadata": {},
   "outputs": [
    {
     "data": {
      "text/plain": [
       "[<matplotlib.lines.Line2D at 0x7fc4985e4290>,\n",
       " <matplotlib.lines.Line2D at 0x7fc4985e4510>]"
      ]
     },
     "execution_count": 64,
     "metadata": {},
     "output_type": "execute_result"
    },
    {
     "data": {
      "image/png": "[encoded data removed]",
      "text/plain": [
       "<Figure size 432x288 with 1 Axes>"
      ]
     },
     "metadata": {
      "needs_background": "light"
     },
     "output_type": "display_data"
    }
   ],
   "source": [
    "plt.plot(n_defects, exc_sim_def_12.QY*100)"
   ]
  },
  {
   "cell_type": "code",
   "execution_count": null,
   "metadata": {},
   "outputs": [],
   "source": []
  }
 ],
 "metadata": {
  "kernelspec": {
   "display_name": "CNT-MC",
   "language": "python",
   "name": "cnt-mc"
  },
  "language_info": {
   "codemirror_mode": {
    "name": "ipython",
    "version": 3
   },
   "file_extension": ".py",
   "mimetype": "text/x-python",
   "name": "python",
   "nbconvert_exporter": "python",
   "pygments_lexer": "ipython3",
   "version": "3.7.7"
  }
 },
 "nbformat": 4,
 "nbformat_minor": 4
}
