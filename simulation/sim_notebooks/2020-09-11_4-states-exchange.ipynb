{
 "cells": [
  {
   "cell_type": "code",
   "execution_count": 1,
   "metadata": {},
   "outputs": [
    {
     "data": {
      "text/html": [
       "\n",
       "    <div class=\"bk-root\">\n",
       "        <a href=\"https://bokeh.pydata.org\" target=\"_blank\" class=\"bk-logo bk-logo-small bk-logo-notebook\"></a>\n",
       "        <span id=\"1001\">Loading BokehJS ...</span>\n",
       "    </div>"
      ]
     },
     "metadata": {},
     "output_type": "display_data"
    },
    {
     "data": {
      "application/javascript": [
       "\n",
       "(function(root) {\n",
       "  function now() {\n",
       "    return new Date();\n",
       "  }\n",
       "\n",
       "  var force = true;\n",
       "\n",
       "  if (typeof root._bokeh_onload_callbacks === \"undefined\" || force === true) {\n",
       "    root._bokeh_onload_callbacks = [];\n",
       "    root._bokeh_is_loading = undefined;\n",
       "  }\n",
       "\n",
       "  var JS_MIME_TYPE = 'application/javascript';\n",
       "  var HTML_MIME_TYPE = 'text/html';\n",
       "  var EXEC_MIME_TYPE = 'application/vnd.bokehjs_exec.v0+json';\n",
       "  var CLASS_NAME = 'output_bokeh rendered_html';\n",
       "\n",
       "  /**\n",
       "   * Render data to the DOM node\n",
       "   */\n",
       "  function render(props, node) {\n",
       "    var script = document.createElement(\"script\");\n",
       "    node.appendChild(script);\n",
       "  }\n",
       "\n",
       "  /**\n",
       "   * Handle when an output is cleared or removed\n",
       "   */\n",
       "  function handleClearOutput(event, handle) {\n",
       "    var cell = handle.cell;\n",
       "\n",
       "    var id = cell.output_area._bokeh_element_id;\n",
       "    var server_id = cell.output_area._bokeh_server_id;\n",
       "    // Clean up Bokeh references\n",
       "    if (id != null && id in Bokeh.index) {\n",
       "      Bokeh.index[id].model.document.clear();\n",
       "      delete Bokeh.index[id];\n",
       "    }\n",
       "\n",
       "    if (server_id !== undefined) {\n",
       "      // Clean up Bokeh references\n",
       "      var cmd = \"from bokeh.io.state import curstate; print(curstate().uuid_to_server['\" + server_id + \"'].get_sessions()[0].document.roots[0]._id)\";\n",
       "      cell.notebook.kernel.execute(cmd, {\n",
       "        iopub: {\n",
       "          output: function(msg) {\n",
       "            var id = msg.content.text.trim();\n",
       "            if (id in Bokeh.index) {\n",
       "              Bokeh.index[id].model.document.clear();\n",
       "              delete Bokeh.index[id];\n",
       "            }\n",
       "          }\n",
       "        }\n",
       "      });\n",
       "      // Destroy server and session\n",
       "      var cmd = \"import bokeh.io.notebook as ion; ion.destroy_server('\" + server_id + \"')\";\n",
       "      cell.notebook.kernel.execute(cmd);\n",
       "    }\n",
       "  }\n",
       "\n",
       "  /**\n",
       "   * Handle when a new output is added\n",
       "   */\n",
       "  function handleAddOutput(event, handle) {\n",
       "    var output_area = handle.output_area;\n",
       "    var output = handle.output;\n",
       "\n",
       "    // limit handleAddOutput to display_data with EXEC_MIME_TYPE content only\n",
       "    if ((output.output_type != \"display_data\") || (!output.data.hasOwnProperty(EXEC_MIME_TYPE))) {\n",
       "      return\n",
       "    }\n",
       "\n",
       "    var toinsert = output_area.element.find(\".\" + CLASS_NAME.split(' ')[0]);\n",
       "\n",
       "    if (output.metadata[EXEC_MIME_TYPE][\"id\"] !== undefined) {\n",
       "      toinsert[toinsert.length - 1].firstChild.textContent = output.data[JS_MIME_TYPE];\n",
       "      // store reference to embed id on output_area\n",
       "      output_area._bokeh_element_id = output.metadata[EXEC_MIME_TYPE][\"id\"];\n",
       "    }\n",
       "    if (output.metadata[EXEC_MIME_TYPE][\"server_id\"] !== undefined) {\n",
       "      var bk_div = document.createElement(\"div\");\n",
       "      bk_div.innerHTML = output.data[HTML_MIME_TYPE];\n",
       "      var script_attrs = bk_div.children[0].attributes;\n",
       "      for (var i = 0; i < script_attrs.length; i++) {\n",
       "        toinsert[toinsert.length - 1].firstChild.setAttribute(script_attrs[i].name, script_attrs[i].value);\n",
       "      }\n",
       "      // store reference to server id on output_area\n",
       "      output_area._bokeh_server_id = output.metadata[EXEC_MIME_TYPE][\"server_id\"];\n",
       "    }\n",
       "  }\n",
       "\n",
       "  function register_renderer(events, OutputArea) {\n",
       "\n",
       "    function append_mime(data, metadata, element) {\n",
       "      // create a DOM node to render to\n",
       "      var toinsert = this.create_output_subarea(\n",
       "        metadata,\n",
       "        CLASS_NAME,\n",
       "        EXEC_MIME_TYPE\n",
       "      );\n",
       "      this.keyboard_manager.register_events(toinsert);\n",
       "      // Render to node\n",
       "      var props = {data: data, metadata: metadata[EXEC_MIME_TYPE]};\n",
       "      render(props, toinsert[toinsert.length - 1]);\n",
       "      element.append(toinsert);\n",
       "      return toinsert\n",
       "    }\n",
       "\n",
       "    /* Handle when an output is cleared or removed */\n",
       "    events.on('clear_output.CodeCell', handleClearOutput);\n",
       "    events.on('delete.Cell', handleClearOutput);\n",
       "\n",
       "    /* Handle when a new output is added */\n",
       "    events.on('output_added.OutputArea', handleAddOutput);\n",
       "\n",
       "    /**\n",
       "     * Register the mime type and append_mime function with output_area\n",
       "     */\n",
       "    OutputArea.prototype.register_mime_type(EXEC_MIME_TYPE, append_mime, {\n",
       "      /* Is output safe? */\n",
       "      safe: true,\n",
       "      /* Index of renderer in `output_area.display_order` */\n",
       "      index: 0\n",
       "    });\n",
       "  }\n",
       "\n",
       "  // register the mime type if in Jupyter Notebook environment and previously unregistered\n",
       "  if (root.Jupyter !== undefined) {\n",
       "    var events = require('base/js/events');\n",
       "    var OutputArea = require('notebook/js/outputarea').OutputArea;\n",
       "\n",
       "    if (OutputArea.prototype.mime_types().indexOf(EXEC_MIME_TYPE) == -1) {\n",
       "      register_renderer(events, OutputArea);\n",
       "    }\n",
       "  }\n",
       "\n",
       "  \n",
       "  if (typeof (root._bokeh_timeout) === \"undefined\" || force === true) {\n",
       "    root._bokeh_timeout = Date.now() + 5000;\n",
       "    root._bokeh_failed_load = false;\n",
       "  }\n",
       "\n",
       "  var NB_LOAD_WARNING = {'data': {'text/html':\n",
       "     \"<div style='background-color: #fdd'>\\n\"+\n",
       "     \"<p>\\n\"+\n",
       "     \"BokehJS does not appear to have successfully loaded. If loading BokehJS from CDN, this \\n\"+\n",
       "     \"may be due to a slow or bad network connection. Possible fixes:\\n\"+\n",
       "     \"</p>\\n\"+\n",
       "     \"<ul>\\n\"+\n",
       "     \"<li>re-rerun `output_notebook()` to attempt to load from CDN again, or</li>\\n\"+\n",
       "     \"<li>use INLINE resources instead, as so:</li>\\n\"+\n",
       "     \"</ul>\\n\"+\n",
       "     \"<code>\\n\"+\n",
       "     \"from bokeh.resources import INLINE\\n\"+\n",
       "     \"output_notebook(resources=INLINE)\\n\"+\n",
       "     \"</code>\\n\"+\n",
       "     \"</div>\"}};\n",
       "\n",
       "  function display_loaded() {\n",
       "    var el = document.getElementById(\"1001\");\n",
       "    if (el != null) {\n",
       "      el.textContent = \"BokehJS is loading...\";\n",
       "    }\n",
       "    if (root.Bokeh !== undefined) {\n",
       "      if (el != null) {\n",
       "        el.textContent = \"BokehJS \" + root.Bokeh.version + \" successfully loaded.\";\n",
       "      }\n",
       "    } else if (Date.now() < root._bokeh_timeout) {\n",
       "      setTimeout(display_loaded, 100)\n",
       "    }\n",
       "  }\n",
       "\n",
       "\n",
       "  function run_callbacks() {\n",
       "    try {\n",
       "      root._bokeh_onload_callbacks.forEach(function(callback) {\n",
       "        if (callback != null)\n",
       "          callback();\n",
       "      });\n",
       "    } finally {\n",
       "      delete root._bokeh_onload_callbacks\n",
       "    }\n",
       "    console.debug(\"Bokeh: all callbacks have finished\");\n",
       "  }\n",
       "\n",
       "  function load_libs(css_urls, js_urls, callback) {\n",
       "    if (css_urls == null) css_urls = [];\n",
       "    if (js_urls == null) js_urls = [];\n",
       "\n",
       "    root._bokeh_onload_callbacks.push(callback);\n",
       "    if (root._bokeh_is_loading > 0) {\n",
       "      console.debug(\"Bokeh: BokehJS is being loaded, scheduling callback at\", now());\n",
       "      return null;\n",
       "    }\n",
       "    if (js_urls == null || js_urls.length === 0) {\n",
       "      run_callbacks();\n",
       "      return null;\n",
       "    }\n",
       "    console.debug(\"Bokeh: BokehJS not loaded, scheduling load and callback at\", now());\n",
       "    root._bokeh_is_loading = css_urls.length + js_urls.length;\n",
       "\n",
       "    function on_load() {\n",
       "      root._bokeh_is_loading--;\n",
       "      if (root._bokeh_is_loading === 0) {\n",
       "        console.debug(\"Bokeh: all BokehJS libraries/stylesheets loaded\");\n",
       "        run_callbacks()\n",
       "      }\n",
       "    }\n",
       "\n",
       "    function on_error() {\n",
       "      console.error(\"failed to load \" + url);\n",
       "    }\n",
       "\n",
       "    for (var i = 0; i < css_urls.length; i++) {\n",
       "      var url = css_urls[i];\n",
       "      const element = document.createElement(\"link\");\n",
       "      element.onload = on_load;\n",
       "      element.onerror = on_error;\n",
       "      element.rel = \"stylesheet\";\n",
       "      element.type = \"text/css\";\n",
       "      element.href = url;\n",
       "      console.debug(\"Bokeh: injecting link tag for BokehJS stylesheet: \", url);\n",
       "      document.body.appendChild(element);\n",
       "    }\n",
       "\n",
       "    for (var i = 0; i < js_urls.length; i++) {\n",
       "      var url = js_urls[i];\n",
       "      var element = document.createElement('script');\n",
       "      element.onload = on_load;\n",
       "      element.onerror = on_error;\n",
       "      element.async = false;\n",
       "      element.src = url;\n",
       "      console.debug(\"Bokeh: injecting script tag for BokehJS library: \", url);\n",
       "      document.head.appendChild(element);\n",
       "    }\n",
       "  };var element = document.getElementById(\"1001\");\n",
       "  if (element == null) {\n",
       "    console.error(\"Bokeh: ERROR: autoload.js configured with elementid '1001' but no matching script tag was found. \")\n",
       "    return false;\n",
       "  }\n",
       "\n",
       "  function inject_raw_css(css) {\n",
       "    const element = document.createElement(\"style\");\n",
       "    element.appendChild(document.createTextNode(css));\n",
       "    document.body.appendChild(element);\n",
       "  }\n",
       "\n",
       "  var js_urls = [\"https://cdn.pydata.org/bokeh/release/bokeh-1.3.4.min.js\", \"https://cdn.pydata.org/bokeh/release/bokeh-widgets-1.3.4.min.js\", \"https://cdn.pydata.org/bokeh/release/bokeh-tables-1.3.4.min.js\", \"https://cdn.pydata.org/bokeh/release/bokeh-gl-1.3.4.min.js\"];\n",
       "  var css_urls = [];\n",
       "\n",
       "  var inline_js = [\n",
       "    function(Bokeh) {\n",
       "      Bokeh.set_log_level(\"info\");\n",
       "    },\n",
       "    \n",
       "    function(Bokeh) {\n",
       "      \n",
       "    },\n",
       "    function(Bokeh) {} // ensure no trailing comma for IE\n",
       "  ];\n",
       "\n",
       "  function run_inline_js() {\n",
       "    \n",
       "    if ((root.Bokeh !== undefined) || (force === true)) {\n",
       "      for (var i = 0; i < inline_js.length; i++) {\n",
       "        inline_js[i].call(root, root.Bokeh);\n",
       "      }if (force === true) {\n",
       "        display_loaded();\n",
       "      }} else if (Date.now() < root._bokeh_timeout) {\n",
       "      setTimeout(run_inline_js, 100);\n",
       "    } else if (!root._bokeh_failed_load) {\n",
       "      console.log(\"Bokeh: BokehJS failed to load within specified timeout.\");\n",
       "      root._bokeh_failed_load = true;\n",
       "    } else if (force !== true) {\n",
       "      var cell = $(document.getElementById(\"1001\")).parents('.cell').data().cell;\n",
       "      cell.output_area.append_execute_result(NB_LOAD_WARNING)\n",
       "    }\n",
       "\n",
       "  }\n",
       "\n",
       "  if (root._bokeh_is_loading === 0) {\n",
       "    console.debug(\"Bokeh: BokehJS loaded, going straight to plotting\");\n",
       "    run_inline_js();\n",
       "  } else {\n",
       "    load_libs(css_urls, js_urls, function() {\n",
       "      console.debug(\"Bokeh: BokehJS plotting callback run at\", now());\n",
       "      run_inline_js();\n",
       "    });\n",
       "  }\n",
       "}(window));"
      ],
      "application/vnd.bokehjs_load.v0+json": "\n(function(root) {\n  function now() {\n    return new Date();\n  }\n\n  var force = true;\n\n  if (typeof root._bokeh_onload_callbacks === \"undefined\" || force === true) {\n    root._bokeh_onload_callbacks = [];\n    root._bokeh_is_loading = undefined;\n  }\n\n  \n\n  \n  if (typeof (root._bokeh_timeout) === \"undefined\" || force === true) {\n    root._bokeh_timeout = Date.now() + 5000;\n    root._bokeh_failed_load = false;\n  }\n\n  var NB_LOAD_WARNING = {'data': {'text/html':\n     \"<div style='background-color: #fdd'>\\n\"+\n     \"<p>\\n\"+\n     \"BokehJS does not appear to have successfully loaded. If loading BokehJS from CDN, this \\n\"+\n     \"may be due to a slow or bad network connection. Possible fixes:\\n\"+\n     \"</p>\\n\"+\n     \"<ul>\\n\"+\n     \"<li>re-rerun `output_notebook()` to attempt to load from CDN again, or</li>\\n\"+\n     \"<li>use INLINE resources instead, as so:</li>\\n\"+\n     \"</ul>\\n\"+\n     \"<code>\\n\"+\n     \"from bokeh.resources import INLINE\\n\"+\n     \"output_notebook(resources=INLINE)\\n\"+\n     \"</code>\\n\"+\n     \"</div>\"}};\n\n  function display_loaded() {\n    var el = document.getElementById(\"1001\");\n    if (el != null) {\n      el.textContent = \"BokehJS is loading...\";\n    }\n    if (root.Bokeh !== undefined) {\n      if (el != null) {\n        el.textContent = \"BokehJS \" + root.Bokeh.version + \" successfully loaded.\";\n      }\n    } else if (Date.now() < root._bokeh_timeout) {\n      setTimeout(display_loaded, 100)\n    }\n  }\n\n\n  function run_callbacks() {\n    try {\n      root._bokeh_onload_callbacks.forEach(function(callback) {\n        if (callback != null)\n          callback();\n      });\n    } finally {\n      delete root._bokeh_onload_callbacks\n    }\n    console.debug(\"Bokeh: all callbacks have finished\");\n  }\n\n  function load_libs(css_urls, js_urls, callback) {\n    if (css_urls == null) css_urls = [];\n    if (js_urls == null) js_urls = [];\n\n    root._bokeh_onload_callbacks.push(callback);\n    if (root._bokeh_is_loading > 0) {\n      console.debug(\"Bokeh: BokehJS is being loaded, scheduling callback at\", now());\n      return null;\n    }\n    if (js_urls == null || js_urls.length === 0) {\n      run_callbacks();\n      return null;\n    }\n    console.debug(\"Bokeh: BokehJS not loaded, scheduling load and callback at\", now());\n    root._bokeh_is_loading = css_urls.length + js_urls.length;\n\n    function on_load() {\n      root._bokeh_is_loading--;\n      if (root._bokeh_is_loading === 0) {\n        console.debug(\"Bokeh: all BokehJS libraries/stylesheets loaded\");\n        run_callbacks()\n      }\n    }\n\n    function on_error() {\n      console.error(\"failed to load \" + url);\n    }\n\n    for (var i = 0; i < css_urls.length; i++) {\n      var url = css_urls[i];\n      const element = document.createElement(\"link\");\n      element.onload = on_load;\n      element.onerror = on_error;\n      element.rel = \"stylesheet\";\n      element.type = \"text/css\";\n      element.href = url;\n      console.debug(\"Bokeh: injecting link tag for BokehJS stylesheet: \", url);\n      document.body.appendChild(element);\n    }\n\n    for (var i = 0; i < js_urls.length; i++) {\n      var url = js_urls[i];\n      var element = document.createElement('script');\n      element.onload = on_load;\n      element.onerror = on_error;\n      element.async = false;\n      element.src = url;\n      console.debug(\"Bokeh: injecting script tag for BokehJS library: \", url);\n      document.head.appendChild(element);\n    }\n  };var element = document.getElementById(\"1001\");\n  if (element == null) {\n    console.error(\"Bokeh: ERROR: autoload.js configured with elementid '1001' but no matching script tag was found. \")\n    return false;\n  }\n\n  function inject_raw_css(css) {\n    const element = document.createElement(\"style\");\n    element.appendChild(document.createTextNode(css));\n    document.body.appendChild(element);\n  }\n\n  var js_urls = [\"https://cdn.pydata.org/bokeh/release/bokeh-1.3.4.min.js\", \"https://cdn.pydata.org/bokeh/release/bokeh-widgets-1.3.4.min.js\", \"https://cdn.pydata.org/bokeh/release/bokeh-tables-1.3.4.min.js\", \"https://cdn.pydata.org/bokeh/release/bokeh-gl-1.3.4.min.js\"];\n  var css_urls = [];\n\n  var inline_js = [\n    function(Bokeh) {\n      Bokeh.set_log_level(\"info\");\n    },\n    \n    function(Bokeh) {\n      \n    },\n    function(Bokeh) {} // ensure no trailing comma for IE\n  ];\n\n  function run_inline_js() {\n    \n    if ((root.Bokeh !== undefined) || (force === true)) {\n      for (var i = 0; i < inline_js.length; i++) {\n        inline_js[i].call(root, root.Bokeh);\n      }if (force === true) {\n        display_loaded();\n      }} else if (Date.now() < root._bokeh_timeout) {\n      setTimeout(run_inline_js, 100);\n    } else if (!root._bokeh_failed_load) {\n      console.log(\"Bokeh: BokehJS failed to load within specified timeout.\");\n      root._bokeh_failed_load = true;\n    } else if (force !== true) {\n      var cell = $(document.getElementById(\"1001\")).parents('.cell').data().cell;\n      cell.output_area.append_execute_result(NB_LOAD_WARNING)\n    }\n\n  }\n\n  if (root._bokeh_is_loading === 0) {\n    console.debug(\"Bokeh: BokehJS loaded, going straight to plotting\");\n    run_inline_js();\n  } else {\n    load_libs(css_urls, js_urls, function() {\n      console.debug(\"Bokeh: BokehJS plotting callback run at\", now());\n      run_inline_js();\n    });\n  }\n}(window));"
     },
     "metadata": {},
     "output_type": "display_data"
    }
   ],
   "source": [
    "import random\n",
    "import sys\n",
    "\n",
    "import numpy as np\n",
    "import matplotlib.pyplot as plt\n",
    "\n",
    "# Bokeh imports\n",
    "from bokeh.io import output_notebook, show, save\n",
    "from bokeh.plotting import figure, output_file, ColumnDataSource, reset_output\n",
    "from bokeh.models import HoverTool\n",
    "output_notebook()\n",
    "\n",
    "from ipywidgets.widgets import Text\n",
    "\n",
    "#scipy constants\n",
    "from scipy.constants import Boltzmann as kB\n",
    "from scipy.constants import Avogadro as NA\n",
    "from scipy.constants import Planck as h\n",
    "from scipy.constants import speed_of_light as c0\n",
    "from scipy.constants import R\n",
    "\n",
    "sys.path.append('../CNT-SIM/')\n",
    "from CNTSimFile import CNTSimFile\n",
    "from mc_sim import exciton_sim_4_lvl_full_exchange, exciton_sim"
   ]
  },
  {
   "cell_type": "code",
   "execution_count": 2,
   "metadata": {},
   "outputs": [],
   "source": [
    "n_defects = np.arange(0, 260, 20)\n",
    "CNT_length = [30, 60, 90, 120, 150, 200, 300, 500, 800, 1200]"
   ]
  },
  {
   "cell_type": "code",
   "execution_count": 4,
   "metadata": {},
   "outputs": [],
   "source": [
    "k_er_per_s = 0.1e9  # 10.1021/acs.jpclett.7b01890\n",
    "k_br_per_s = 1e10  # constant for radiativ decay from S11*\n",
    "k_enr_per_s = 10e9  # 10.1021/acs.jpclett.7b01890\n",
    "k_bnr_per_s = 2e10   # constant for non-radiativ decay from S11*\n",
    "\n",
    "k_de_per_s = 1e12  # constant for going from dark to S11 state\n",
    "k_ed_per_s = 1e12  # constant for going from S11 to dark statestate\n",
    "\n",
    "# termal detrapping 10.1021/acs.jpclett.8b03732\n",
    "k_bd_per_s = 0.5 * (1e12 / 385 + 1e12 / 1132) + 0.1e12 * np.exp(-1.6182e-11 /\n",
    "                                                                (kB * 300))\n",
    "\n",
    "k_dnr_per_s = 1e10\n",
    "\n",
    "kin_const_1 = np.array([k_br_per_s, k_er_per_s, k_bnr_per_s, k_enr_per_s, k_bd_per_s, k_ed_per_s,\n",
    "                        k_de_per_s, k_dnr_per_s])"
   ]
  },
  {
   "cell_type": "code",
   "execution_count": 5,
   "metadata": {},
   "outputs": [],
   "source": [
    "exc_sim_def_1 = CNTSimFile('../sim_output/2020-09-11_exciton_sim_4_level-def_1.h5', kin_const_1)"
   ]
  },
  {
   "cell_type": "code",
   "execution_count": 9,
   "metadata": {
    "scrolled": true
   },
   "outputs": [
    {
     "name": "stdout",
     "output_type": "stream",
     "text": [
      "start of calculation: 2020-09-11 13:53:51.494786\n",
      "start of exiton simulation: 2020-09-11 13:53:51.495197\n",
      "2020-09-11 13:53:51.499455\n",
      "elapsed time: 00:00:00\n",
      "exciton processed((0/ 13))\n",
      "start of exiton simulation: 2020-09-11 13:53:51.499978\n",
      "2020-09-11 13:53:57.602368\n",
      "elapsed time: 00:00:06\n",
      "exciton processed((1/ 13))\n",
      "start of exiton simulation: 2020-09-11 13:53:57.602797\n",
      "2020-09-11 13:55:18.743410\n",
      "elapsed time: 00:01:21\n",
      "exciton processed((2/ 13))\n",
      "start of exiton simulation: 2020-09-11 13:55:18.747682\n",
      "2020-09-11 13:56:39.686416\n",
      "elapsed time: 00:01:20\n",
      "exciton processed((3/ 13))\n",
      "start of exiton simulation: 2020-09-11 13:56:39.690014\n",
      "2020-09-11 13:57:58.263836\n",
      "elapsed time: 00:01:18\n",
      "exciton processed((4/ 13))\n",
      "start of exiton simulation: 2020-09-11 13:57:58.264735\n",
      "2020-09-11 13:59:15.905350\n",
      "elapsed time: 00:01:17\n",
      "exciton processed((5/ 13))\n",
      "start of exiton simulation: 2020-09-11 13:59:15.909826\n",
      "2020-09-11 14:00:28.542440\n",
      "elapsed time: 00:01:12\n",
      "exciton processed((6/ 13))\n",
      "start of exiton simulation: 2020-09-11 14:00:28.544382\n",
      "2020-09-11 14:01:41.764687\n",
      "elapsed time: 00:01:13\n",
      "exciton processed((7/ 13))\n",
      "start of exiton simulation: 2020-09-11 14:01:41.765663\n",
      "2020-09-11 14:02:53.219973\n",
      "elapsed time: 00:01:11\n",
      "exciton processed((8/ 13))\n",
      "start of exiton simulation: 2020-09-11 14:02:53.221559\n",
      "2020-09-11 14:04:02.686203\n",
      "elapsed time: 00:01:09\n",
      "exciton processed((9/ 13))\n",
      "start of exiton simulation: 2020-09-11 14:04:02.690971\n",
      "2020-09-11 14:05:08.683275\n",
      "elapsed time: 00:01:05\n",
      "exciton processed((10/ 13))\n",
      "start of exiton simulation: 2020-09-11 14:05:08.684401\n",
      "2020-09-11 14:06:12.906713\n",
      "elapsed time: 00:01:04\n",
      "exciton processed((11/ 13))\n",
      "start of exiton simulation: 2020-09-11 14:06:12.909117\n",
      "2020-09-11 14:07:15.502028\n",
      "elapsed time: 00:01:02\n",
      "exciton processed((12/ 13))\n",
      "start of exiton simulation: 2020-09-11 14:07:15.502917\n",
      "2020-09-11 14:08:18.224782\n",
      "elapsed time: 00:01:02\n",
      "2020-09-11 14:08:18.227909\n",
      "elapsed time: 00:14:26\n"
     ]
    }
   ],
   "source": [
    "exc_sim_def_1.defect_dependence(10000, exciton_sim, n_defects, {'t_step': 1, 'CNT_length': 750,\n",
    "                                                                     'r_exc_nm': 2})"
   ]
  },
  {
   "cell_type": "code",
   "execution_count": 10,
   "metadata": {},
   "outputs": [],
   "source": [
    "exc_sim_def_1.save()"
   ]
  },
  {
   "cell_type": "code",
   "execution_count": 11,
   "metadata": {},
   "outputs": [
    {
     "data": {
      "text/plain": [
       "[<matplotlib.lines.Line2D at 0x7f3930a87790>,\n",
       " <matplotlib.lines.Line2D at 0x7f3930a87a50>]"
      ]
     },
     "execution_count": 11,
     "metadata": {},
     "output_type": "execute_result"
    },
    {
     "data": {
      "image/png": "[encoded data removed]",
      "text/plain": [
       "<Figure size 432x288 with 1 Axes>"
      ]
     },
     "metadata": {
      "needs_background": "light"
     },
     "output_type": "display_data"
    }
   ],
   "source": [
    "plt.plot(n_defects, exc_sim_def_1.QY*100)"
   ]
  },
  {
   "cell_type": "code",
   "execution_count": 14,
   "metadata": {},
   "outputs": [],
   "source": [
    "k_er_per_s = 0.5e9\n",
    "k_br_per_s = 0.2e9  # constant for radiativ decay from S11*\n",
    "k_enr_per_s = 2e8 \n",
    "k_bnr_per_s = 4e8   # constant for non-radiativ decay from S11*\n",
    "\n",
    "k_de_per_s = 1e8  # constant for going from dark to S11 state\n",
    "k_ed_per_s = 1e8  # constant for going from S11 to dark statestate\n",
    "\n",
    "# termal detrapping 10.1021/acs.jpclett.8b03732\n",
    "k_bd_per_s = 0.5 * (1e12 / 385 + 1e12 / 1132) + 0.1e12 * np.exp(-1.6182e-11 /\n",
    "                                                                (kB * 300))\n",
    "\n",
    "k_dnr_per_s = 2e8\n",
    "\n",
    "kin_const_2 = np.array([k_br_per_s, k_er_per_s, k_bnr_per_s, k_enr_per_s, k_bd_per_s, k_ed_per_s,\n",
    "                        k_de_per_s, k_dnr_per_s])"
   ]
  },
  {
   "cell_type": "code",
   "execution_count": 15,
   "metadata": {},
   "outputs": [],
   "source": [
    "exc_sim_def_2 = CNTSimFile('../sim_output/2020-09-11_exciton_sim_4_level-def_2.h5', kin_const_2)"
   ]
  },
  {
   "cell_type": "code",
   "execution_count": 16,
   "metadata": {
    "scrolled": true
   },
   "outputs": [
    {
     "name": "stdout",
     "output_type": "stream",
     "text": [
      "start of calculation: 2020-09-11 14:24:26.060926\n",
      "start of exiton simulation: 2020-09-11 14:24:26.061177\n",
      "2020-09-11 14:24:26.063613\n",
      "elapsed time: 00:00:00\n",
      "exciton processed((0/ 13))\n",
      "start of exiton simulation: 2020-09-11 14:24:26.063957\n",
      "2020-09-11 14:24:32.031764\n",
      "elapsed time: 00:00:05\n",
      "exciton processed((1/ 13))\n",
      "start of exiton simulation: 2020-09-11 14:24:32.033807\n",
      "2020-09-11 14:32:12.829734\n",
      "elapsed time: 00:07:40\n",
      "exciton processed((2/ 13))\n",
      "start of exiton simulation: 2020-09-11 14:32:12.836717\n",
      "2020-09-11 14:40:08.548118\n",
      "elapsed time: 00:07:55\n",
      "exciton processed((3/ 13))\n",
      "start of exiton simulation: 2020-09-11 14:40:08.555243\n",
      "2020-09-11 14:46:58.266304\n",
      "elapsed time: 00:06:49\n",
      "exciton processed((4/ 13))\n",
      "start of exiton simulation: 2020-09-11 14:46:58.273107\n",
      "2020-09-11 14:52:41.776960\n",
      "elapsed time: 00:05:43\n",
      "exciton processed((5/ 13))\n",
      "start of exiton simulation: 2020-09-11 14:52:41.781851\n",
      "2020-09-11 14:57:26.822249\n",
      "elapsed time: 00:04:45\n",
      "exciton processed((6/ 13))\n",
      "start of exiton simulation: 2020-09-11 14:57:26.826923\n",
      "2020-09-11 15:01:32.703427\n",
      "elapsed time: 00:04:05\n",
      "exciton processed((7/ 13))\n",
      "start of exiton simulation: 2020-09-11 15:01:32.707988\n",
      "2020-09-11 15:05:04.336798\n",
      "elapsed time: 00:03:31\n",
      "exciton processed((8/ 13))\n",
      "start of exiton simulation: 2020-09-11 15:05:04.341516\n",
      "2020-09-11 15:08:08.743987\n",
      "elapsed time: 00:03:04\n",
      "exciton processed((9/ 13))\n",
      "start of exiton simulation: 2020-09-11 15:08:08.748614\n",
      "2020-09-11 15:10:55.157742\n",
      "elapsed time: 00:02:46\n",
      "exciton processed((10/ 13))\n",
      "start of exiton simulation: 2020-09-11 15:10:55.162408\n",
      "2020-09-11 15:13:21.154530\n",
      "elapsed time: 00:02:25\n",
      "exciton processed((11/ 13))\n",
      "start of exiton simulation: 2020-09-11 15:13:21.158490\n",
      "2020-09-11 15:15:35.108377\n",
      "elapsed time: 00:02:13\n",
      "exciton processed((12/ 13))\n",
      "start of exiton simulation: 2020-09-11 15:15:35.109956\n",
      "2020-09-11 15:17:38.283390\n",
      "elapsed time: 00:02:03\n",
      "2020-09-11 15:17:38.287597\n",
      "elapsed time: 00:53:12\n"
     ]
    }
   ],
   "source": [
    "exc_sim_def_2.defect_dependence(10000, exciton_sim, n_defects, {'t_step': 1, 'CNT_length': 750,\n",
    "                                                                     'r_exc_nm': 2})"
   ]
  },
  {
   "cell_type": "code",
   "execution_count": 17,
   "metadata": {},
   "outputs": [],
   "source": [
    "exc_sim_def_2.save()"
   ]
  },
  {
   "cell_type": "code",
   "execution_count": 18,
   "metadata": {},
   "outputs": [
    {
     "data": {
      "text/plain": [
       "[<matplotlib.lines.Line2D at 0x7f39309a7c50>,\n",
       " <matplotlib.lines.Line2D at 0x7f39309a7e90>]"
      ]
     },
     "execution_count": 18,
     "metadata": {},
     "output_type": "execute_result"
    },
    {
     "data": {
      "image/png": "[encoded data removed]",
      "text/plain": [
       "<Figure size 432x288 with 1 Axes>"
      ]
     },
     "metadata": {
      "needs_background": "light"
     },
     "output_type": "display_data"
    }
   ],
   "source": [
    "plt.plot(n_defects, exc_sim_def_2.QY*100)"
   ]
  },
  {
   "cell_type": "code",
   "execution_count": 3,
   "metadata": {},
   "outputs": [],
   "source": [
    "k_er_per_s = 0.3e9\n",
    "k_br_per_s = 0.1e9  # constant for radiativ decay from S11*\n",
    "k_enr_per_s = 2e8 \n",
    "k_bnr_per_s = 4e8   # constant for non-radiativ decay from S11*\n",
    "\n",
    "k_de_per_s = 1e8  # constant for going from dark to S11 state\n",
    "k_ed_per_s = 1e8  # constant for going from S11 to dark statestate\n",
    "\n",
    "# termal detrapping 10.1021/acs.jpclett.8b03732\n",
    "k_bd_per_s = 0.5 * (1e12 / 385 + 1e12 / 1132) + 0.1e12 * np.exp(-1.6182e-11 /\n",
    "                                                                (kB * 300))\n",
    "\n",
    "k_dnr_per_s = 2e8\n",
    "\n",
    "kin_const_3 = np.array([k_br_per_s, k_er_per_s, k_bnr_per_s, k_enr_per_s, k_bd_per_s, k_ed_per_s,\n",
    "                        k_de_per_s, k_dnr_per_s])"
   ]
  },
  {
   "cell_type": "code",
   "execution_count": 4,
   "metadata": {},
   "outputs": [],
   "source": [
    "exc_sim_def_3 = CNTSimFile('../sim_output/2020-09-11_exciton_sim_4_level-def_3.h5', kin_const_3)"
   ]
  },
  {
   "cell_type": "code",
   "execution_count": 5,
   "metadata": {},
   "outputs": [
    {
     "name": "stdout",
     "output_type": "stream",
     "text": [
      "start of calculation: 2020-09-13 09:27:17.450694\n",
      "start of exiton simulation: 2020-09-13 09:27:17.451670\n",
      "2020-09-13 09:27:17.454818\n",
      "elapsed time: 00:00:00\n",
      "exciton processed((0/ 13))\n",
      "start of exiton simulation: 2020-09-13 09:27:17.455436\n",
      "2020-09-13 09:27:23.485111\n",
      "elapsed time: 00:00:06\n",
      "exciton processed((1/ 13))\n",
      "start of exiton simulation: 2020-09-13 09:27:23.487766\n",
      "2020-09-13 09:34:56.116289\n",
      "elapsed time: 00:07:32\n",
      "exciton processed((2/ 13))\n",
      "start of exiton simulation: 2020-09-13 09:34:56.118500\n",
      "2020-09-13 09:42:49.953832\n",
      "elapsed time: 00:07:53\n",
      "exciton processed((3/ 13))\n",
      "start of exiton simulation: 2020-09-13 09:42:49.959915\n",
      "2020-09-13 09:49:27.590740\n",
      "elapsed time: 00:06:37\n",
      "exciton processed((4/ 13))\n",
      "start of exiton simulation: 2020-09-13 09:49:27.595613\n",
      "2020-09-13 09:54:55.512721\n",
      "elapsed time: 00:05:27\n",
      "exciton processed((5/ 13))\n",
      "start of exiton simulation: 2020-09-13 09:54:55.517972\n",
      "2020-09-13 09:59:30.861816\n",
      "elapsed time: 00:04:35\n",
      "exciton processed((6/ 13))\n",
      "start of exiton simulation: 2020-09-13 09:59:30.866746\n",
      "2020-09-13 10:03:19.658729\n",
      "elapsed time: 00:03:48\n",
      "exciton processed((7/ 13))\n",
      "start of exiton simulation: 2020-09-13 10:03:19.665276\n",
      "2020-09-13 10:06:42.660157\n",
      "elapsed time: 00:03:22\n",
      "exciton processed((8/ 13))\n",
      "start of exiton simulation: 2020-09-13 10:06:42.662293\n",
      "2020-09-13 10:09:41.084568\n",
      "elapsed time: 00:02:58\n",
      "exciton processed((9/ 13))\n",
      "start of exiton simulation: 2020-09-13 10:09:41.086823\n",
      "2020-09-13 10:12:23.012762\n",
      "elapsed time: 00:02:41\n",
      "exciton processed((10/ 13))\n",
      "start of exiton simulation: 2020-09-13 10:12:23.015406\n",
      "2020-09-13 10:14:46.261565\n",
      "elapsed time: 00:02:23\n",
      "exciton processed((11/ 13))\n",
      "start of exiton simulation: 2020-09-13 10:14:46.263698\n",
      "2020-09-13 10:16:52.834886\n",
      "elapsed time: 00:02:06\n",
      "exciton processed((12/ 13))\n",
      "start of exiton simulation: 2020-09-13 10:16:52.839689\n",
      "2020-09-13 10:18:51.546435\n",
      "elapsed time: 00:01:58\n",
      "2020-09-13 10:18:51.551404\n",
      "elapsed time: 00:51:34\n"
     ]
    }
   ],
   "source": [
    "exc_sim_def_3.defect_dependence(10000, exciton_sim, n_defects, {'t_step': 1, 'CNT_length': 750,\n",
    "                                                                     'r_exc_nm': 2})"
   ]
  },
  {
   "cell_type": "code",
   "execution_count": 6,
   "metadata": {},
   "outputs": [],
   "source": [
    "exc_sim_def_3.save()"
   ]
  },
  {
   "cell_type": "code",
   "execution_count": 7,
   "metadata": {},
   "outputs": [
    {
     "data": {
      "text/plain": [
       "[<matplotlib.lines.Line2D at 0x7fd7a05fde50>,\n",
       " <matplotlib.lines.Line2D at 0x7fd7a060e110>]"
      ]
     },
     "execution_count": 7,
     "metadata": {},
     "output_type": "execute_result"
    },
    {
     "data": {
      "image/png": "[encoded data removed]",
      "text/plain": [
       "<Figure size 432x288 with 1 Axes>"
      ]
     },
     "metadata": {
      "needs_background": "light"
     },
     "output_type": "display_data"
    }
   ],
   "source": [
    "plt.plot(n_defects, exc_sim_def_3.QY*100)"
   ]
  },
  {
   "cell_type": "code",
   "execution_count": 8,
   "metadata": {},
   "outputs": [],
   "source": [
    "k_er_per_s = 0.2e9\n",
    "k_br_per_s = 0.1e9  # constant for radiativ decay from S11*\n",
    "k_enr_per_s = 2e8 \n",
    "k_bnr_per_s = 4e8   # constant for non-radiativ decay from S11*\n",
    "\n",
    "k_de_per_s = 1e8  # constant for going from dark to S11 state\n",
    "k_ed_per_s = 1e8  # constant for going from S11 to dark statestate\n",
    "\n",
    "# termal detrapping 10.1021/acs.jpclett.8b03732\n",
    "k_bd_per_s = 0.5 * (1e12 / 385 + 1e12 / 1132) + 0.1e12 * np.exp(-1.6182e-11 /\n",
    "                                                                (kB * 300))\n",
    "\n",
    "k_dnr_per_s = 2e8\n",
    "\n",
    "kin_const_4 = np.array([k_br_per_s, k_er_per_s, k_bnr_per_s, k_enr_per_s, k_bd_per_s, k_ed_per_s,\n",
    "                        k_de_per_s, k_dnr_per_s])"
   ]
  },
  {
   "cell_type": "code",
   "execution_count": 9,
   "metadata": {},
   "outputs": [],
   "source": [
    "exc_sim_def_4 = CNTSimFile('../sim_output/2020-09-11_exciton_sim_4_level-def_4.h5', kin_const_4)"
   ]
  },
  {
   "cell_type": "code",
   "execution_count": 10,
   "metadata": {},
   "outputs": [
    {
     "name": "stdout",
     "output_type": "stream",
     "text": [
      "start of calculation: 2020-09-13 10:31:22.647632\n",
      "start of exiton simulation: 2020-09-13 10:31:22.647986\n",
      "2020-09-13 10:31:22.651578\n",
      "elapsed time: 00:00:00\n",
      "exciton processed((0/ 13))\n",
      "start of exiton simulation: 2020-09-13 10:31:22.651927\n",
      "2020-09-13 10:31:28.605724\n",
      "elapsed time: 00:00:05\n",
      "exciton processed((1/ 13))\n",
      "start of exiton simulation: 2020-09-13 10:31:28.607256\n",
      "2020-09-13 10:38:55.866661\n",
      "elapsed time: 00:07:27\n",
      "exciton processed((2/ 13))\n",
      "start of exiton simulation: 2020-09-13 10:38:55.871366\n",
      "2020-09-13 10:46:59.683313\n",
      "elapsed time: 00:08:03\n",
      "exciton processed((3/ 13))\n",
      "start of exiton simulation: 2020-09-13 10:46:59.692274\n",
      "2020-09-13 10:53:43.466888\n",
      "elapsed time: 00:06:43\n",
      "exciton processed((4/ 13))\n",
      "start of exiton simulation: 2020-09-13 10:53:43.474638\n",
      "2020-09-13 10:59:13.612405\n",
      "elapsed time: 00:05:30\n",
      "exciton processed((5/ 13))\n",
      "start of exiton simulation: 2020-09-13 10:59:13.617835\n",
      "2020-09-13 11:03:52.057138\n",
      "elapsed time: 00:04:38\n",
      "exciton processed((6/ 13))\n",
      "start of exiton simulation: 2020-09-13 11:03:52.059390\n",
      "2020-09-13 11:07:49.942265\n",
      "elapsed time: 00:03:57\n",
      "exciton processed((7/ 13))\n",
      "start of exiton simulation: 2020-09-13 11:07:49.947564\n",
      "2020-09-13 11:11:13.424337\n",
      "elapsed time: 00:03:23\n",
      "exciton processed((8/ 13))\n",
      "start of exiton simulation: 2020-09-13 11:11:13.429867\n",
      "2020-09-13 11:14:13.832518\n",
      "elapsed time: 00:03:00\n",
      "exciton processed((9/ 13))\n",
      "start of exiton simulation: 2020-09-13 11:14:13.838155\n",
      "2020-09-13 11:16:52.684832\n",
      "elapsed time: 00:02:38\n",
      "exciton processed((10/ 13))\n",
      "start of exiton simulation: 2020-09-13 11:16:52.689935\n",
      "2020-09-13 11:19:17.269407\n",
      "elapsed time: 00:02:24\n",
      "exciton processed((11/ 13))\n",
      "start of exiton simulation: 2020-09-13 11:19:17.274457\n",
      "2020-09-13 11:21:23.960710\n",
      "elapsed time: 00:02:06\n",
      "exciton processed((12/ 13))\n",
      "start of exiton simulation: 2020-09-13 11:21:23.965706\n",
      "2020-09-13 11:23:23.591795\n",
      "elapsed time: 00:01:59\n",
      "2020-09-13 11:23:23.596834\n",
      "elapsed time: 00:52:00\n"
     ]
    }
   ],
   "source": [
    "exc_sim_def_4.defect_dependence(10000, exciton_sim, n_defects, {'t_step': 1, 'CNT_length': 750,\n",
    "                                                                     'r_exc_nm': 2})"
   ]
  },
  {
   "cell_type": "code",
   "execution_count": 11,
   "metadata": {},
   "outputs": [],
   "source": [
    "exc_sim_def_4.save()"
   ]
  },
  {
   "cell_type": "code",
   "execution_count": 12,
   "metadata": {},
   "outputs": [
    {
     "data": {
      "text/plain": [
       "[<matplotlib.lines.Line2D at 0x7fd7a051ad10>,\n",
       " <matplotlib.lines.Line2D at 0x7fd7a051af50>]"
      ]
     },
     "execution_count": 12,
     "metadata": {},
     "output_type": "execute_result"
    },
    {
     "data": {
      "image/png": "[encoded data removed]",
      "text/plain": [
       "<Figure size 432x288 with 1 Axes>"
      ]
     },
     "metadata": {
      "needs_background": "light"
     },
     "output_type": "display_data"
    }
   ],
   "source": [
    "plt.plot(n_defects, exc_sim_def_4.QY*100)"
   ]
  },
  {
   "cell_type": "code",
   "execution_count": 5,
   "metadata": {},
   "outputs": [],
   "source": [
    "k_er_per_s = 0.1e9\n",
    "k_br_per_s = 0.1e9  # constant for radiativ decay from S11*\n",
    "k_enr_per_s = 2e8 \n",
    "k_bnr_per_s = 4e8   # constant for non-radiativ decay from S11*\n",
    "\n",
    "k_de_per_s = 1e8  # constant for going from dark to S11 state\n",
    "k_ed_per_s = 1e8  # constant for going from S11 to dark statestate\n",
    "\n",
    "# termal detrapping 10.1021/acs.jpclett.8b03732\n",
    "k_bd_per_s = 0.5 * (1e12 / 385 + 1e12 / 1132) + 0.1e12 * np.exp(-1.6182e-11 /\n",
    "                                                                (kB * 300))\n",
    "\n",
    "k_dnr_per_s = 2e8\n",
    "\n",
    "kin_const_5 = np.array([k_br_per_s, k_er_per_s, k_bnr_per_s, k_enr_per_s, k_bd_per_s, k_ed_per_s,\n",
    "                        k_de_per_s, k_dnr_per_s])"
   ]
  },
  {
   "cell_type": "code",
   "execution_count": 6,
   "metadata": {},
   "outputs": [],
   "source": [
    "exc_sim_def_5 = CNTSimFile('../sim_output/2020-09-11_exciton_sim_5_level-def_5.h5', kin_const_5)"
   ]
  },
  {
   "cell_type": "code",
   "execution_count": 8,
   "metadata": {},
   "outputs": [
    {
     "name": "stdout",
     "output_type": "stream",
     "text": [
      "start of calculation: 2020-09-14 08:27:16.712626\n",
      "start of exiton simulation: 2020-09-14 08:27:16.713508\n",
      "2020-09-14 08:27:16.717179\n",
      "elapsed time: 00:00:00\n",
      "exciton processed((0/ 13))\n",
      "start of exiton simulation: 2020-09-14 08:27:16.718281\n",
      "2020-09-14 08:27:22.825041\n",
      "elapsed time: 00:00:06\n",
      "exciton processed((1/ 13))\n",
      "start of exiton simulation: 2020-09-14 08:27:22.825377\n",
      "2020-09-14 08:35:02.424385\n",
      "elapsed time: 00:07:39\n",
      "exciton processed((2/ 13))\n",
      "start of exiton simulation: 2020-09-14 08:35:02.429560\n",
      "2020-09-14 08:43:18.097623\n",
      "elapsed time: 00:08:15\n",
      "exciton processed((3/ 13))\n",
      "start of exiton simulation: 2020-09-14 08:43:18.099657\n",
      "2020-09-14 08:50:11.108955\n",
      "elapsed time: 00:06:53\n",
      "exciton processed((4/ 13))\n",
      "start of exiton simulation: 2020-09-14 08:50:11.110875\n",
      "2020-09-14 08:55:51.848236\n",
      "elapsed time: 00:05:40\n",
      "exciton processed((5/ 13))\n",
      "start of exiton simulation: 2020-09-14 08:55:51.853078\n",
      "2020-09-14 09:00:41.401468\n",
      "elapsed time: 00:04:49\n",
      "exciton processed((6/ 13))\n",
      "start of exiton simulation: 2020-09-14 09:00:41.403476\n",
      "2020-09-14 09:04:42.486053\n",
      "elapsed time: 00:04:01\n",
      "exciton processed((7/ 13))\n",
      "start of exiton simulation: 2020-09-14 09:04:42.488128\n",
      "2020-09-14 09:08:07.963276\n",
      "elapsed time: 00:03:25\n",
      "exciton processed((8/ 13))\n",
      "start of exiton simulation: 2020-09-14 09:08:07.968741\n",
      "2020-09-14 09:11:12.723346\n",
      "elapsed time: 00:03:04\n",
      "exciton processed((9/ 13))\n",
      "start of exiton simulation: 2020-09-14 09:11:12.728290\n",
      "2020-09-14 09:13:57.208040\n",
      "elapsed time: 00:02:44\n",
      "exciton processed((10/ 13))\n",
      "start of exiton simulation: 2020-09-14 09:13:57.212992\n",
      "2020-09-14 09:16:26.105201\n",
      "elapsed time: 00:02:28\n",
      "exciton processed((11/ 13))\n",
      "start of exiton simulation: 2020-09-14 09:16:26.110413\n",
      "2020-09-14 09:18:36.423798\n",
      "elapsed time: 00:02:10\n",
      "exciton processed((12/ 13))\n",
      "start of exiton simulation: 2020-09-14 09:18:36.425938\n",
      "2020-09-14 09:20:38.289218\n",
      "elapsed time: 00:02:01\n",
      "2020-09-14 09:20:38.293924\n",
      "elapsed time: 00:53:21\n"
     ]
    }
   ],
   "source": [
    "exc_sim_def_5.defect_dependence(10000, exciton_sim, n_defects, {'t_step': 1, 'CNT_length': 750,\n",
    "                                                                     'r_exc_nm': 2})"
   ]
  },
  {
   "cell_type": "code",
   "execution_count": 10,
   "metadata": {},
   "outputs": [],
   "source": [
    "exc_sim_def_5.save()"
   ]
  },
  {
   "cell_type": "code",
   "execution_count": 11,
   "metadata": {},
   "outputs": [
    {
     "data": {
      "text/plain": [
       "array([0.    , 0.0014, 0.0027, 0.002 , 0.0015, 0.0018, 0.001 , 0.0011,\n",
       "       0.0006, 0.0011, 0.0009, 0.0008, 0.0004])"
      ]
     },
     "execution_count": 11,
     "metadata": {},
     "output_type": "execute_result"
    }
   ],
   "source": [
    "exc_sim_def_5.QY[:, 0]"
   ]
  },
  {
   "cell_type": "code",
   "execution_count": 13,
   "metadata": {},
   "outputs": [
    {
     "data": {
      "text/plain": [
       "{'n_defects': array([  0,  20,  40,  60,  80, 100, 120, 140, 160, 180, 200, 220, 240]),\n",
       " 't_step': 1,\n",
       " 'CNT_length': 750,\n",
       " 'r_exc_nm': 2,\n",
       " 'n_photons': 10000}"
      ]
     },
     "execution_count": 13,
     "metadata": {},
     "output_type": "execute_result"
    }
   ],
   "source": [
    "exc_sim_def_5.calc_dict"
   ]
  },
  {
   "cell_type": "code",
   "execution_count": 15,
   "metadata": {},
   "outputs": [
    {
     "data": {
      "text/plain": [
       "Text(0.5, 1.0, 'Defect dependence, l=750 nm')"
      ]
     },
     "execution_count": 15,
     "metadata": {},
     "output_type": "execute_result"
    },
    {
     "data": {
      "image/png": "[encoded data removed]",
      "text/plain": [
       "<Figure size 432x288 with 1 Axes>"
      ]
     },
     "metadata": {
      "needs_background": "light"
     },
     "output_type": "display_data"
    }
   ],
   "source": [
    "fig = plt.subplot()\n",
    "plt.plot(exc_sim_def_5.calc_dict['n_defects'], exc_sim_def_5.QY[:, 0] * 100, label='E11')\n",
    "plt.plot(exc_sim_def_5.calc_dict['n_defects'], exc_sim_def_5.QY[:, 1] * 100, label='E11*')\n",
    "plt.xlabel('number of defects')\n",
    "plt.ylabel('quantum yield / %')\n",
    "plt.title('Defect dependence, l={} nm'.format(\n",
    "          exc_sim_def_5.calc_dict['CNT_length']))\n"
   ]
  },
  {
   "cell_type": "code",
   "execution_count": 3,
   "metadata": {},
   "outputs": [],
   "source": [
    "k_er_per_s = 0.1e9  # 10.1021/acs.jpclett.7b01890\n",
    "k_br_per_s = 0.1e9  # constant for radiativ decay from S11*\n",
    "k_enr_per_s = 2e8 \n",
    "k_bnr_per_s = 4e8   # constant for non-radiativ decay from S11*\n",
    "\n",
    "k_de_per_s = 1e8  # constant for going from dark to S11 state\n",
    "k_ed_per_s = 1e8  # constant for going from S11 to dark statestate\n",
    "\n",
    "# termal detrapping 10.1021/acs.jpclett.8b03732\n",
    "k_bd_per_s = 0.5 * (1e12 / 385 + 1e12 / 1132) + 0.1e12 * np.exp(-1.6182e-11 /\n",
    "                                                                (kB * 300))\n",
    "\n",
    "k_dnr_per_s = 2e8\n",
    "\n",
    "kin_const_6 = np.array([k_br_per_s, k_er_per_s, k_bnr_per_s, k_enr_per_s, k_bd_per_s, k_ed_per_s,\n",
    "                        k_de_per_s, k_dnr_per_s])"
   ]
  },
  {
   "cell_type": "code",
   "execution_count": 4,
   "metadata": {},
   "outputs": [],
   "source": [
    "exc_sim_def_6 = CNTSimFile('../sim_output/2020-09-11_exciton_sim_6.h5', kin_const_6)"
   ]
  },
  {
   "cell_type": "code",
   "execution_count": 5,
   "metadata": {},
   "outputs": [
    {
     "name": "stdout",
     "output_type": "stream",
     "text": [
      "start of calculation: 2020-09-14 10:33:27.673792\n",
      "start of exiton simulation: 2020-09-14 10:33:27.674208\n",
      "2020-09-14 10:33:27.679525\n",
      "elapsed time: 00:00:00\n",
      "exciton processed((0/ 13))\n",
      "start of exiton simulation: 2020-09-14 10:33:27.679941\n",
      "2020-09-14 10:33:37.776990\n",
      "elapsed time: 00:00:10\n",
      "exciton processed((1/ 13))\n",
      "start of exiton simulation: 2020-09-14 10:33:37.777437\n",
      "2020-09-14 10:41:14.500242\n",
      "elapsed time: 00:07:36\n",
      "exciton processed((2/ 13))\n",
      "start of exiton simulation: 2020-09-14 10:41:14.501672\n",
      "2020-09-14 10:49:26.921228\n",
      "elapsed time: 00:08:12\n",
      "exciton processed((3/ 13))\n",
      "start of exiton simulation: 2020-09-14 10:49:26.923432\n",
      "2020-09-14 10:56:20.309862\n",
      "elapsed time: 00:06:53\n",
      "exciton processed((4/ 13))\n",
      "start of exiton simulation: 2020-09-14 10:56:20.316511\n",
      "2020-09-14 11:02:17.526671\n",
      "elapsed time: 00:05:57\n",
      "exciton processed((5/ 13))\n",
      "start of exiton simulation: 2020-09-14 11:02:17.528125\n",
      "2020-09-14 11:07:00.428387\n",
      "elapsed time: 00:04:42\n",
      "exciton processed((6/ 13))\n",
      "start of exiton simulation: 2020-09-14 11:07:00.432353\n",
      "2020-09-14 11:10:55.423806\n",
      "elapsed time: 00:03:54\n",
      "exciton processed((7/ 13))\n",
      "start of exiton simulation: 2020-09-14 11:10:55.432348\n",
      "2020-09-14 11:14:23.606250\n",
      "elapsed time: 00:03:28\n",
      "exciton processed((8/ 13))\n",
      "start of exiton simulation: 2020-09-14 11:14:23.607687\n",
      "2020-09-14 11:17:21.757028\n",
      "elapsed time: 00:02:58\n",
      "exciton processed((9/ 13))\n",
      "start of exiton simulation: 2020-09-14 11:17:21.758395\n",
      "2020-09-14 11:19:58.553706\n",
      "elapsed time: 00:02:36\n",
      "exciton processed((10/ 13))\n",
      "start of exiton simulation: 2020-09-14 11:19:58.557983\n",
      "2020-09-14 11:22:22.234284\n",
      "elapsed time: 00:02:23\n",
      "exciton processed((11/ 13))\n",
      "start of exiton simulation: 2020-09-14 11:22:22.235787\n",
      "2020-09-14 11:24:31.766135\n",
      "elapsed time: 00:02:09\n",
      "exciton processed((12/ 13))\n",
      "start of exiton simulation: 2020-09-14 11:24:31.769962\n",
      "2020-09-14 11:26:28.985071\n",
      "elapsed time: 00:01:57\n",
      "2020-09-14 11:26:28.986461\n",
      "elapsed time: 00:53:01\n"
     ]
    },
    {
     "data": {
      "text/plain": [
       "<matplotlib.axes._subplots.AxesSubplot at 0x7f5de02f6510>"
      ]
     },
     "execution_count": 5,
     "metadata": {},
     "output_type": "execute_result"
    },
    {
     "data": {
      "image/png": "[encoded data removed]",
      "text/plain": [
       "<Figure size 432x288 with 1 Axes>"
      ]
     },
     "metadata": {
      "needs_background": "light"
     },
     "output_type": "display_data"
    }
   ],
   "source": [
    "exc_sim_def_6.defect_dependence(10000, exciton_sim, n_defects, {'t_step': 1, 'CNT_length': 750,\n",
    "                                                                     'r_exc_nm': 2}, plot=True)"
   ]
  },
  {
   "cell_type": "code",
   "execution_count": 6,
   "metadata": {},
   "outputs": [],
   "source": [
    "exc_sim_def_6.save()"
   ]
  },
  {
   "cell_type": "code",
   "execution_count": null,
   "metadata": {},
   "outputs": [],
   "source": []
  }
 ],
 "metadata": {
  "kernelspec": {
   "display_name": "CNT-MC",
   "language": "python",
   "name": "cnt-mc"
  },
  "language_info": {
   "codemirror_mode": {
    "name": "ipython",
    "version": 3
   },
   "file_extension": ".py",
   "mimetype": "text/x-python",
   "name": "python",
   "nbconvert_exporter": "python",
   "pygments_lexer": "ipython3",
   "version": "3.7.7"
  }
 },
 "nbformat": 4,
 "nbformat_minor": 4
}
