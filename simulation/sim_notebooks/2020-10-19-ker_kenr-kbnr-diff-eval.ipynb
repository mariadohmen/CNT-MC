{
 "cells": [
  {
   "cell_type": "code",
   "execution_count": 1,
   "metadata": {
    "scrolled": true
   },
   "outputs": [
    {
     "data": {
      "text/html": [
       "\n",
       "    <div class=\"bk-root\">\n",
       "        <a href=\"https://bokeh.pydata.org\" target=\"_blank\" class=\"bk-logo bk-logo-small bk-logo-notebook\"></a>\n",
       "        <span id=\"1001\">Loading BokehJS ...</span>\n",
       "    </div>"
      ]
     },
     "metadata": {},
     "output_type": "display_data"
    },
    {
     "data": {
      "application/javascript": [
       "\n",
       "(function(root) {\n",
       "  function now() {\n",
       "    return new Date();\n",
       "  }\n",
       "\n",
       "  var force = true;\n",
       "\n",
       "  if (typeof root._bokeh_onload_callbacks === \"undefined\" || force === true) {\n",
       "    root._bokeh_onload_callbacks = [];\n",
       "    root._bokeh_is_loading = undefined;\n",
       "  }\n",
       "\n",
       "  var JS_MIME_TYPE = 'application/javascript';\n",
       "  var HTML_MIME_TYPE = 'text/html';\n",
       "  var EXEC_MIME_TYPE = 'application/vnd.bokehjs_exec.v0+json';\n",
       "  var CLASS_NAME = 'output_bokeh rendered_html';\n",
       "\n",
       "  /**\n",
       "   * Render data to the DOM node\n",
       "   */\n",
       "  function render(props, node) {\n",
       "    var script = document.createElement(\"script\");\n",
       "    node.appendChild(script);\n",
       "  }\n",
       "\n",
       "  /**\n",
       "   * Handle when an output is cleared or removed\n",
       "   */\n",
       "  function handleClearOutput(event, handle) {\n",
       "    var cell = handle.cell;\n",
       "\n",
       "    var id = cell.output_area._bokeh_element_id;\n",
       "    var server_id = cell.output_area._bokeh_server_id;\n",
       "    // Clean up Bokeh references\n",
       "    if (id != null && id in Bokeh.index) {\n",
       "      Bokeh.index[id].model.document.clear();\n",
       "      delete Bokeh.index[id];\n",
       "    }\n",
       "\n",
       "    if (server_id !== undefined) {\n",
       "      // Clean up Bokeh references\n",
       "      var cmd = \"from bokeh.io.state import curstate; print(curstate().uuid_to_server['\" + server_id + \"'].get_sessions()[0].document.roots[0]._id)\";\n",
       "      cell.notebook.kernel.execute(cmd, {\n",
       "        iopub: {\n",
       "          output: function(msg) {\n",
       "            var id = msg.content.text.trim();\n",
       "            if (id in Bokeh.index) {\n",
       "              Bokeh.index[id].model.document.clear();\n",
       "              delete Bokeh.index[id];\n",
       "            }\n",
       "          }\n",
       "        }\n",
       "      });\n",
       "      // Destroy server and session\n",
       "      var cmd = \"import bokeh.io.notebook as ion; ion.destroy_server('\" + server_id + \"')\";\n",
       "      cell.notebook.kernel.execute(cmd);\n",
       "    }\n",
       "  }\n",
       "\n",
       "  /**\n",
       "   * Handle when a new output is added\n",
       "   */\n",
       "  function handleAddOutput(event, handle) {\n",
       "    var output_area = handle.output_area;\n",
       "    var output = handle.output;\n",
       "\n",
       "    // limit handleAddOutput to display_data with EXEC_MIME_TYPE content only\n",
       "    if ((output.output_type != \"display_data\") || (!output.data.hasOwnProperty(EXEC_MIME_TYPE))) {\n",
       "      return\n",
       "    }\n",
       "\n",
       "    var toinsert = output_area.element.find(\".\" + CLASS_NAME.split(' ')[0]);\n",
       "\n",
       "    if (output.metadata[EXEC_MIME_TYPE][\"id\"] !== undefined) {\n",
       "      toinsert[toinsert.length - 1].firstChild.textContent = output.data[JS_MIME_TYPE];\n",
       "      // store reference to embed id on output_area\n",
       "      output_area._bokeh_element_id = output.metadata[EXEC_MIME_TYPE][\"id\"];\n",
       "    }\n",
       "    if (output.metadata[EXEC_MIME_TYPE][\"server_id\"] !== undefined) {\n",
       "      var bk_div = document.createElement(\"div\");\n",
       "      bk_div.innerHTML = output.data[HTML_MIME_TYPE];\n",
       "      var script_attrs = bk_div.children[0].attributes;\n",
       "      for (var i = 0; i < script_attrs.length; i++) {\n",
       "        toinsert[toinsert.length - 1].firstChild.setAttribute(script_attrs[i].name, script_attrs[i].value);\n",
       "      }\n",
       "      // store reference to server id on output_area\n",
       "      output_area._bokeh_server_id = output.metadata[EXEC_MIME_TYPE][\"server_id\"];\n",
       "    }\n",
       "  }\n",
       "\n",
       "  function register_renderer(events, OutputArea) {\n",
       "\n",
       "    function append_mime(data, metadata, element) {\n",
       "      // create a DOM node to render to\n",
       "      var toinsert = this.create_output_subarea(\n",
       "        metadata,\n",
       "        CLASS_NAME,\n",
       "        EXEC_MIME_TYPE\n",
       "      );\n",
       "      this.keyboard_manager.register_events(toinsert);\n",
       "      // Render to node\n",
       "      var props = {data: data, metadata: metadata[EXEC_MIME_TYPE]};\n",
       "      render(props, toinsert[toinsert.length - 1]);\n",
       "      element.append(toinsert);\n",
       "      return toinsert\n",
       "    }\n",
       "\n",
       "    /* Handle when an output is cleared or removed */\n",
       "    events.on('clear_output.CodeCell', handleClearOutput);\n",
       "    events.on('delete.Cell', handleClearOutput);\n",
       "\n",
       "    /* Handle when a new output is added */\n",
       "    events.on('output_added.OutputArea', handleAddOutput);\n",
       "\n",
       "    /**\n",
       "     * Register the mime type and append_mime function with output_area\n",
       "     */\n",
       "    OutputArea.prototype.register_mime_type(EXEC_MIME_TYPE, append_mime, {\n",
       "      /* Is output safe? */\n",
       "      safe: true,\n",
       "      /* Index of renderer in `output_area.display_order` */\n",
       "      index: 0\n",
       "    });\n",
       "  }\n",
       "\n",
       "  // register the mime type if in Jupyter Notebook environment and previously unregistered\n",
       "  if (root.Jupyter !== undefined) {\n",
       "    var events = require('base/js/events');\n",
       "    var OutputArea = require('notebook/js/outputarea').OutputArea;\n",
       "\n",
       "    if (OutputArea.prototype.mime_types().indexOf(EXEC_MIME_TYPE) == -1) {\n",
       "      register_renderer(events, OutputArea);\n",
       "    }\n",
       "  }\n",
       "\n",
       "  \n",
       "  if (typeof (root._bokeh_timeout) === \"undefined\" || force === true) {\n",
       "    root._bokeh_timeout = Date.now() + 5000;\n",
       "    root._bokeh_failed_load = false;\n",
       "  }\n",
       "\n",
       "  var NB_LOAD_WARNING = {'data': {'text/html':\n",
       "     \"<div style='background-color: #fdd'>\\n\"+\n",
       "     \"<p>\\n\"+\n",
       "     \"BokehJS does not appear to have successfully loaded. If loading BokehJS from CDN, this \\n\"+\n",
       "     \"may be due to a slow or bad network connection. Possible fixes:\\n\"+\n",
       "     \"</p>\\n\"+\n",
       "     \"<ul>\\n\"+\n",
       "     \"<li>re-rerun `output_notebook()` to attempt to load from CDN again, or</li>\\n\"+\n",
       "     \"<li>use INLINE resources instead, as so:</li>\\n\"+\n",
       "     \"</ul>\\n\"+\n",
       "     \"<code>\\n\"+\n",
       "     \"from bokeh.resources import INLINE\\n\"+\n",
       "     \"output_notebook(resources=INLINE)\\n\"+\n",
       "     \"</code>\\n\"+\n",
       "     \"</div>\"}};\n",
       "\n",
       "  function display_loaded() {\n",
       "    var el = document.getElementById(\"1001\");\n",
       "    if (el != null) {\n",
       "      el.textContent = \"BokehJS is loading...\";\n",
       "    }\n",
       "    if (root.Bokeh !== undefined) {\n",
       "      if (el != null) {\n",
       "        el.textContent = \"BokehJS \" + root.Bokeh.version + \" successfully loaded.\";\n",
       "      }\n",
       "    } else if (Date.now() < root._bokeh_timeout) {\n",
       "      setTimeout(display_loaded, 100)\n",
       "    }\n",
       "  }\n",
       "\n",
       "\n",
       "  function run_callbacks() {\n",
       "    try {\n",
       "      root._bokeh_onload_callbacks.forEach(function(callback) {\n",
       "        if (callback != null)\n",
       "          callback();\n",
       "      });\n",
       "    } finally {\n",
       "      delete root._bokeh_onload_callbacks\n",
       "    }\n",
       "    console.debug(\"Bokeh: all callbacks have finished\");\n",
       "  }\n",
       "\n",
       "  function load_libs(css_urls, js_urls, callback) {\n",
       "    if (css_urls == null) css_urls = [];\n",
       "    if (js_urls == null) js_urls = [];\n",
       "\n",
       "    root._bokeh_onload_callbacks.push(callback);\n",
       "    if (root._bokeh_is_loading > 0) {\n",
       "      console.debug(\"Bokeh: BokehJS is being loaded, scheduling callback at\", now());\n",
       "      return null;\n",
       "    }\n",
       "    if (js_urls == null || js_urls.length === 0) {\n",
       "      run_callbacks();\n",
       "      return null;\n",
       "    }\n",
       "    console.debug(\"Bokeh: BokehJS not loaded, scheduling load and callback at\", now());\n",
       "    root._bokeh_is_loading = css_urls.length + js_urls.length;\n",
       "\n",
       "    function on_load() {\n",
       "      root._bokeh_is_loading--;\n",
       "      if (root._bokeh_is_loading === 0) {\n",
       "        console.debug(\"Bokeh: all BokehJS libraries/stylesheets loaded\");\n",
       "        run_callbacks()\n",
       "      }\n",
       "    }\n",
       "\n",
       "    function on_error() {\n",
       "      console.error(\"failed to load \" + url);\n",
       "    }\n",
       "\n",
       "    for (var i = 0; i < css_urls.length; i++) {\n",
       "      var url = css_urls[i];\n",
       "      const element = document.createElement(\"link\");\n",
       "      element.onload = on_load;\n",
       "      element.onerror = on_error;\n",
       "      element.rel = \"stylesheet\";\n",
       "      element.type = \"text/css\";\n",
       "      element.href = url;\n",
       "      console.debug(\"Bokeh: injecting link tag for BokehJS stylesheet: \", url);\n",
       "      document.body.appendChild(element);\n",
       "    }\n",
       "\n",
       "    for (var i = 0; i < js_urls.length; i++) {\n",
       "      var url = js_urls[i];\n",
       "      var element = document.createElement('script');\n",
       "      element.onload = on_load;\n",
       "      element.onerror = on_error;\n",
       "      element.async = false;\n",
       "      element.src = url;\n",
       "      console.debug(\"Bokeh: injecting script tag for BokehJS library: \", url);\n",
       "      document.head.appendChild(element);\n",
       "    }\n",
       "  };var element = document.getElementById(\"1001\");\n",
       "  if (element == null) {\n",
       "    console.error(\"Bokeh: ERROR: autoload.js configured with elementid '1001' but no matching script tag was found. \")\n",
       "    return false;\n",
       "  }\n",
       "\n",
       "  function inject_raw_css(css) {\n",
       "    const element = document.createElement(\"style\");\n",
       "    element.appendChild(document.createTextNode(css));\n",
       "    document.body.appendChild(element);\n",
       "  }\n",
       "\n",
       "  var js_urls = [\"https://cdn.pydata.org/bokeh/release/bokeh-1.3.4.min.js\", \"https://cdn.pydata.org/bokeh/release/bokeh-widgets-1.3.4.min.js\", \"https://cdn.pydata.org/bokeh/release/bokeh-tables-1.3.4.min.js\", \"https://cdn.pydata.org/bokeh/release/bokeh-gl-1.3.4.min.js\"];\n",
       "  var css_urls = [];\n",
       "\n",
       "  var inline_js = [\n",
       "    function(Bokeh) {\n",
       "      Bokeh.set_log_level(\"info\");\n",
       "    },\n",
       "    \n",
       "    function(Bokeh) {\n",
       "      \n",
       "    },\n",
       "    function(Bokeh) {} // ensure no trailing comma for IE\n",
       "  ];\n",
       "\n",
       "  function run_inline_js() {\n",
       "    \n",
       "    if ((root.Bokeh !== undefined) || (force === true)) {\n",
       "      for (var i = 0; i < inline_js.length; i++) {\n",
       "        inline_js[i].call(root, root.Bokeh);\n",
       "      }if (force === true) {\n",
       "        display_loaded();\n",
       "      }} else if (Date.now() < root._bokeh_timeout) {\n",
       "      setTimeout(run_inline_js, 100);\n",
       "    } else if (!root._bokeh_failed_load) {\n",
       "      console.log(\"Bokeh: BokehJS failed to load within specified timeout.\");\n",
       "      root._bokeh_failed_load = true;\n",
       "    } else if (force !== true) {\n",
       "      var cell = $(document.getElementById(\"1001\")).parents('.cell').data().cell;\n",
       "      cell.output_area.append_execute_result(NB_LOAD_WARNING)\n",
       "    }\n",
       "\n",
       "  }\n",
       "\n",
       "  if (root._bokeh_is_loading === 0) {\n",
       "    console.debug(\"Bokeh: BokehJS loaded, going straight to plotting\");\n",
       "    run_inline_js();\n",
       "  } else {\n",
       "    load_libs(css_urls, js_urls, function() {\n",
       "      console.debug(\"Bokeh: BokehJS plotting callback run at\", now());\n",
       "      run_inline_js();\n",
       "    });\n",
       "  }\n",
       "}(window));"
      ],
      "application/vnd.bokehjs_load.v0+json": "\n(function(root) {\n  function now() {\n    return new Date();\n  }\n\n  var force = true;\n\n  if (typeof root._bokeh_onload_callbacks === \"undefined\" || force === true) {\n    root._bokeh_onload_callbacks = [];\n    root._bokeh_is_loading = undefined;\n  }\n\n  \n\n  \n  if (typeof (root._bokeh_timeout) === \"undefined\" || force === true) {\n    root._bokeh_timeout = Date.now() + 5000;\n    root._bokeh_failed_load = false;\n  }\n\n  var NB_LOAD_WARNING = {'data': {'text/html':\n     \"<div style='background-color: #fdd'>\\n\"+\n     \"<p>\\n\"+\n     \"BokehJS does not appear to have successfully loaded. If loading BokehJS from CDN, this \\n\"+\n     \"may be due to a slow or bad network connection. Possible fixes:\\n\"+\n     \"</p>\\n\"+\n     \"<ul>\\n\"+\n     \"<li>re-rerun `output_notebook()` to attempt to load from CDN again, or</li>\\n\"+\n     \"<li>use INLINE resources instead, as so:</li>\\n\"+\n     \"</ul>\\n\"+\n     \"<code>\\n\"+\n     \"from bokeh.resources import INLINE\\n\"+\n     \"output_notebook(resources=INLINE)\\n\"+\n     \"</code>\\n\"+\n     \"</div>\"}};\n\n  function display_loaded() {\n    var el = document.getElementById(\"1001\");\n    if (el != null) {\n      el.textContent = \"BokehJS is loading...\";\n    }\n    if (root.Bokeh !== undefined) {\n      if (el != null) {\n        el.textContent = \"BokehJS \" + root.Bokeh.version + \" successfully loaded.\";\n      }\n    } else if (Date.now() < root._bokeh_timeout) {\n      setTimeout(display_loaded, 100)\n    }\n  }\n\n\n  function run_callbacks() {\n    try {\n      root._bokeh_onload_callbacks.forEach(function(callback) {\n        if (callback != null)\n          callback();\n      });\n    } finally {\n      delete root._bokeh_onload_callbacks\n    }\n    console.debug(\"Bokeh: all callbacks have finished\");\n  }\n\n  function load_libs(css_urls, js_urls, callback) {\n    if (css_urls == null) css_urls = [];\n    if (js_urls == null) js_urls = [];\n\n    root._bokeh_onload_callbacks.push(callback);\n    if (root._bokeh_is_loading > 0) {\n      console.debug(\"Bokeh: BokehJS is being loaded, scheduling callback at\", now());\n      return null;\n    }\n    if (js_urls == null || js_urls.length === 0) {\n      run_callbacks();\n      return null;\n    }\n    console.debug(\"Bokeh: BokehJS not loaded, scheduling load and callback at\", now());\n    root._bokeh_is_loading = css_urls.length + js_urls.length;\n\n    function on_load() {\n      root._bokeh_is_loading--;\n      if (root._bokeh_is_loading === 0) {\n        console.debug(\"Bokeh: all BokehJS libraries/stylesheets loaded\");\n        run_callbacks()\n      }\n    }\n\n    function on_error() {\n      console.error(\"failed to load \" + url);\n    }\n\n    for (var i = 0; i < css_urls.length; i++) {\n      var url = css_urls[i];\n      const element = document.createElement(\"link\");\n      element.onload = on_load;\n      element.onerror = on_error;\n      element.rel = \"stylesheet\";\n      element.type = \"text/css\";\n      element.href = url;\n      console.debug(\"Bokeh: injecting link tag for BokehJS stylesheet: \", url);\n      document.body.appendChild(element);\n    }\n\n    for (var i = 0; i < js_urls.length; i++) {\n      var url = js_urls[i];\n      var element = document.createElement('script');\n      element.onload = on_load;\n      element.onerror = on_error;\n      element.async = false;\n      element.src = url;\n      console.debug(\"Bokeh: injecting script tag for BokehJS library: \", url);\n      document.head.appendChild(element);\n    }\n  };var element = document.getElementById(\"1001\");\n  if (element == null) {\n    console.error(\"Bokeh: ERROR: autoload.js configured with elementid '1001' but no matching script tag was found. \")\n    return false;\n  }\n\n  function inject_raw_css(css) {\n    const element = document.createElement(\"style\");\n    element.appendChild(document.createTextNode(css));\n    document.body.appendChild(element);\n  }\n\n  var js_urls = [\"https://cdn.pydata.org/bokeh/release/bokeh-1.3.4.min.js\", \"https://cdn.pydata.org/bokeh/release/bokeh-widgets-1.3.4.min.js\", \"https://cdn.pydata.org/bokeh/release/bokeh-tables-1.3.4.min.js\", \"https://cdn.pydata.org/bokeh/release/bokeh-gl-1.3.4.min.js\"];\n  var css_urls = [];\n\n  var inline_js = [\n    function(Bokeh) {\n      Bokeh.set_log_level(\"info\");\n    },\n    \n    function(Bokeh) {\n      \n    },\n    function(Bokeh) {} // ensure no trailing comma for IE\n  ];\n\n  function run_inline_js() {\n    \n    if ((root.Bokeh !== undefined) || (force === true)) {\n      for (var i = 0; i < inline_js.length; i++) {\n        inline_js[i].call(root, root.Bokeh);\n      }if (force === true) {\n        display_loaded();\n      }} else if (Date.now() < root._bokeh_timeout) {\n      setTimeout(run_inline_js, 100);\n    } else if (!root._bokeh_failed_load) {\n      console.log(\"Bokeh: BokehJS failed to load within specified timeout.\");\n      root._bokeh_failed_load = true;\n    } else if (force !== true) {\n      var cell = $(document.getElementById(\"1001\")).parents('.cell').data().cell;\n      cell.output_area.append_execute_result(NB_LOAD_WARNING)\n    }\n\n  }\n\n  if (root._bokeh_is_loading === 0) {\n    console.debug(\"Bokeh: BokehJS loaded, going straight to plotting\");\n    run_inline_js();\n  } else {\n    load_libs(css_urls, js_urls, function() {\n      console.debug(\"Bokeh: BokehJS plotting callback run at\", now());\n      run_inline_js();\n    });\n  }\n}(window));"
     },
     "metadata": {},
     "output_type": "display_data"
    }
   ],
   "source": [
    "# %load quick_imports.txt\n",
    "import random\n",
    "import sys\n",
    "import os\n",
    "\n",
    "import numpy as np\n",
    "import matplotlib.pyplot as plt\n",
    "from itertools import compress\n",
    "\n",
    "# Bokeh imports\n",
    "from bokeh.io import output_notebook, show, save\n",
    "from bokeh.plotting import figure, output_file, ColumnDataSource, reset_output\n",
    "from bokeh.models import HoverTool\n",
    "output_notebook()\n",
    "\n",
    "from ipywidgets.widgets import Text\n",
    "\n",
    "#scipy constants\n",
    "from scipy.constants import Boltzmann as kB\n",
    "from scipy.constants import Avogadro as NA\n",
    "from scipy.constants import Planck as h\n",
    "from scipy.constants import speed_of_light as c0\n",
    "from scipy.constants import R\n",
    "\n",
    "sys.path.append('../CNT-SIM/')\n",
    "from CNTSimFile import CNTSimFile\n",
    "from mc_sim import exciton_sim\n",
    "from sim_eval import (plot_QY_prist_3_params, plot_QY_defect_3_params,\n",
    "                      plot_QY_delta_prist_3_params, plot_QY_delta_defect_3_params)\n",
    "\n",
    "k_er_per_s = 1e8\n",
    "k_br_per_s = 1e8  # constant for radiativ decay from S11*\n",
    "k_enr_per_s = 2e8 \n",
    "k_bnr_per_s = 4e8   # constant for non-radiativ decay from S11*\n",
    "\n",
    "k_de_per_s = 1e8  # constant for going from dark to S11 state\n",
    "k_ed_per_s = 1e8  # constant for going from S11 to dark statestate\n",
    "\n",
    "# termal detrapping 10.1021/acs.jpclett.8b03732\n",
    "k_bd_per_s = 0.5 * (1e12 / 385 + 1e12 / 1132) + 0.1e12 * np.exp(-1.6182e-11 /\n",
    "                                                                (kB * 300))\n",
    "k_dnr_per_s = 2e8\n",
    "\n",
    "kin_const_1 = np.array([k_br_per_s, k_er_per_s, k_bnr_per_s, k_enr_per_s, k_bd_per_s, k_ed_per_s,\n",
    "                        k_de_per_s, k_dnr_per_s])\n"
   ]
  },
  {
   "cell_type": "code",
   "execution_count": 2,
   "metadata": {},
   "outputs": [],
   "source": [
    "import pandas as pd"
   ]
  },
  {
   "cell_type": "code",
   "execution_count": 3,
   "metadata": {},
   "outputs": [],
   "source": [
    "k_er_per_s = 1e8\n",
    "k_br_per_s = 1e8  # constant for radiativ decay from S11*\n",
    "k_enr_per_s = 2e8 \n",
    "k_bnr_per_s = 4e8   # constant for non-radiativ decay from S11*\n",
    "\n",
    "k_de_per_s = 1e8  # constant for going from dark to S11 state\n",
    "k_ed_per_s = 1e8  # constant for going from S11 to dark statestate\n",
    "\n",
    "# termal detrapping 10.1021/acs.jpclett.8b03732\n",
    "k_bd_per_s = 0.5 * (1e12 / 385 + 1e12 / 1132) + 0.1e12 * np.exp(-1.6182e-11 /\n",
    "                                                                (kB * 300))\n",
    "k_dnr_per_s = 2e8\n",
    "\n",
    "kin_const_1 = np.array([k_br_per_s, k_er_per_s, k_bnr_per_s, k_enr_per_s, k_bd_per_s, k_ed_per_s,\n",
    "                        k_de_per_s, k_dnr_per_s])"
   ]
  },
  {
   "cell_type": "code",
   "execution_count": 4,
   "metadata": {},
   "outputs": [],
   "source": [
    "files = os.listdir(r\"../sim_output/\"\n",
    "                   )\n",
    "files = [r'../sim_output/' + f\n",
    "         for f in files if 'exciton_sim-ker_kbnr_diff_sever_prist'\n",
    "         in f if f.endswith('.h5')]"
   ]
  },
  {
   "cell_type": "code",
   "execution_count": 5,
   "metadata": {},
   "outputs": [],
   "source": [
    "import re\n",
    "import pprint\n",
    "def natural_key(string_):\n",
    "    return [int(s) if s.isdigit() else s for s in re.split(r'(\\d+)', string_)]\n",
    "def last_num_key(string_):\n",
    "    return [int(s) if s.isdigit() else s for s in re.split(r'(\\d+)', string_.strip())][-4]"
   ]
  },
  {
   "cell_type": "code",
   "execution_count": 6,
   "metadata": {},
   "outputs": [
    {
     "name": "stdout",
     "output_type": "stream",
     "text": [
      "['../sim_output/2020-10-08-exciton_sim-ker_kbnr_diff_sever_prist_0.h5',\n",
      " '../sim_output/2020-10-08-exciton_sim-ker_kbnr_diff_sever_prist_1.h5',\n",
      " '../sim_output/2020-10-08-exciton_sim-ker_kbnr_diff_sever_prist_2.h5',\n",
      " '../sim_output/2020-10-08-exciton_sim-ker_kbnr_diff_sever_prist_3.h5',\n",
      " '../sim_output/2020-10-08-exciton_sim-ker_kbnr_diff_sever_prist_4.h5',\n",
      " '../sim_output/2020-10-08-exciton_sim-ker_kbnr_diff_sever_prist_5.h5',\n",
      " '../sim_output/2020-10-08-exciton_sim-ker_kbnr_diff_sever_prist_6.h5',\n",
      " '../sim_output/2020-10-08-exciton_sim-ker_kbnr_diff_sever_prist_7.h5',\n",
      " '../sim_output/2020-10-08-exciton_sim-ker_kbnr_diff_sever_prist_8.h5',\n",
      " '../sim_output/2020-10-08-exciton_sim-ker_kbnr_diff_sever_prist_9.h5']\n"
     ]
    }
   ],
   "source": [
    "files = sorted(files, key=natural_key)\n",
    "files = sorted(files, key=last_num_key)\n",
    "pprint.pprint(files)"
   ]
  },
  {
   "cell_type": "code",
   "execution_count": 7,
   "metadata": {},
   "outputs": [
    {
     "name": "stderr",
     "output_type": "stream",
     "text": [
      "../CNT-SIM/CNTSimFile.py:31: UserWarning: File already exists, kinetic constants ingored.\n",
      "  warn(\"File already exists, kinetic constants ingored.\")\n"
     ]
    },
    {
     "name": "stdout",
     "output_type": "stream",
     "text": [
      "Existing file loaded successfully.\n",
      "Existing file loaded successfully.\n",
      "Existing file loaded successfully.\n",
      "Existing file loaded successfully.\n",
      "Existing file loaded successfully.\n",
      "Existing file loaded successfully.\n",
      "Existing file loaded successfully.\n",
      "Existing file loaded successfully.\n",
      "Existing file loaded successfully.\n",
      "Existing file loaded successfully.\n"
     ]
    }
   ],
   "source": [
    "ker_prist = [CNTSimFile(i, kin_const_1) for i in files]"
   ]
  },
  {
   "cell_type": "code",
   "execution_count": 8,
   "metadata": {},
   "outputs": [
    {
     "name": "stdout",
     "output_type": "stream",
     "text": [
      "['../sim_output/2020-10-08-exciton_sim-ker_kbnr_diff_sever_defect_0.h5',\n",
      " '../sim_output/2020-10-08-exciton_sim-ker_kbnr_diff_sever_defect_1.h5',\n",
      " '../sim_output/2020-10-08-exciton_sim-ker_kbnr_diff_sever_defect_2.h5',\n",
      " '../sim_output/2020-10-08-exciton_sim-ker_kbnr_diff_sever_defect_3.h5',\n",
      " '../sim_output/2020-10-08-exciton_sim-ker_kbnr_diff_sever_defect_4.h5',\n",
      " '../sim_output/2020-10-08-exciton_sim-ker_kbnr_diff_sever_defect_5.h5',\n",
      " '../sim_output/2020-10-08-exciton_sim-ker_kbnr_diff_sever_defect_6.h5',\n",
      " '../sim_output/2020-10-08-exciton_sim-ker_kbnr_diff_sever_defect_7.h5',\n",
      " '../sim_output/2020-10-08-exciton_sim-ker_kbnr_diff_sever_defect_8.h5',\n",
      " '../sim_output/2020-10-08-exciton_sim-ker_kbnr_diff_sever_defect_9.h5']\n"
     ]
    }
   ],
   "source": [
    "files = os.listdir(r\"../sim_output/\"\n",
    "                   )\n",
    "files = [r'../sim_output/' + f\n",
    "         for f in files if 'exciton_sim-ker_kbnr_diff_sever_defect'\n",
    "         in f if f.endswith('.h5')]\n",
    "files = sorted(files, key=natural_key)\n",
    "files = sorted(files, key=last_num_key)\n",
    "pprint.pprint(files)"
   ]
  },
  {
   "cell_type": "code",
   "execution_count": 9,
   "metadata": {},
   "outputs": [
    {
     "name": "stdout",
     "output_type": "stream",
     "text": [
      "Existing file loaded successfully.\n",
      "Existing file loaded successfully.\n",
      "Existing file loaded successfully.\n",
      "Existing file loaded successfully.\n",
      "Existing file loaded successfully.\n",
      "Existing file loaded successfully.\n",
      "Existing file loaded successfully.\n",
      "Existing file loaded successfully.\n",
      "Existing file loaded successfully.\n",
      "Existing file loaded successfully.\n"
     ]
    }
   ],
   "source": [
    "ker_defect = [CNTSimFile(i, kin_const_1) for i in files]"
   ]
  },
  {
   "cell_type": "code",
   "execution_count": 10,
   "metadata": {},
   "outputs": [
    {
     "name": "stdout",
     "output_type": "stream",
     "text": [
      "['../sim_output/2020-10-08-exciton_sim-kenr_kbnr_diff_sever_prist_0.h5',\n",
      " '../sim_output/2020-10-08-exciton_sim-kenr_kbnr_diff_sever_prist_1.h5',\n",
      " '../sim_output/2020-10-08-exciton_sim-kenr_kbnr_diff_sever_prist_2.h5',\n",
      " '../sim_output/2020-10-08-exciton_sim-kenr_kbnr_diff_sever_prist_3.h5',\n",
      " '../sim_output/2020-10-08-exciton_sim-kenr_kbnr_diff_sever_prist_4.h5',\n",
      " '../sim_output/2020-10-08-exciton_sim-kenr_kbnr_diff_sever_prist_5.h5',\n",
      " '../sim_output/2020-10-08-exciton_sim-kenr_kbnr_diff_sever_prist_6.h5',\n",
      " '../sim_output/2020-10-08-exciton_sim-kenr_kbnr_diff_sever_prist_7.h5',\n",
      " '../sim_output/2020-10-08-exciton_sim-kenr_kbnr_diff_sever_prist_8.h5',\n",
      " '../sim_output/2020-10-08-exciton_sim-kenr_kbnr_diff_sever_prist_9.h5']\n"
     ]
    }
   ],
   "source": [
    "files = os.listdir(r\"../sim_output/\"\n",
    "                   )\n",
    "files = [r'../sim_output/' + f\n",
    "         for f in files if 'exciton_sim-kenr_kbnr_diff_sever_prist'\n",
    "         in f if f.endswith('.h5')]\n",
    "files = sorted(files, key=natural_key)\n",
    "files = sorted(files, key=last_num_key)\n",
    "pprint.pprint(files)"
   ]
  },
  {
   "cell_type": "code",
   "execution_count": 11,
   "metadata": {},
   "outputs": [
    {
     "name": "stdout",
     "output_type": "stream",
     "text": [
      "Existing file loaded successfully.\n",
      "Existing file loaded successfully.\n",
      "Existing file loaded successfully.\n",
      "Existing file loaded successfully.\n",
      "Existing file loaded successfully.\n",
      "Existing file loaded successfully.\n",
      "Existing file loaded successfully.\n",
      "Existing file loaded successfully.\n",
      "Existing file loaded successfully.\n",
      "Existing file loaded successfully.\n"
     ]
    }
   ],
   "source": [
    "kenr_prist = [CNTSimFile(i, kin_const_1) for i in files]"
   ]
  },
  {
   "cell_type": "code",
   "execution_count": 12,
   "metadata": {},
   "outputs": [
    {
     "name": "stdout",
     "output_type": "stream",
     "text": [
      "['../sim_output/2020-10-08-exciton_sim-kenr_kbnr_diff_sever_defect_0.h5',\n",
      " '../sim_output/2020-10-08-exciton_sim-kenr_kbnr_diff_sever_defect_1.h5',\n",
      " '../sim_output/2020-10-08-exciton_sim-kenr_kbnr_diff_sever_defect_2.h5',\n",
      " '../sim_output/2020-10-08-exciton_sim-kenr_kbnr_diff_sever_defect_3.h5',\n",
      " '../sim_output/2020-10-08-exciton_sim-kenr_kbnr_diff_sever_defect_4.h5',\n",
      " '../sim_output/2020-10-08-exciton_sim-kenr_kbnr_diff_sever_defect_5.h5',\n",
      " '../sim_output/2020-10-08-exciton_sim-kenr_kbnr_diff_sever_defect_6.h5',\n",
      " '../sim_output/2020-10-08-exciton_sim-kenr_kbnr_diff_sever_defect_7.h5',\n",
      " '../sim_output/2020-10-08-exciton_sim-kenr_kbnr_diff_sever_defect_8.h5',\n",
      " '../sim_output/2020-10-08-exciton_sim-kenr_kbnr_diff_sever_defect_9.h5']\n"
     ]
    }
   ],
   "source": [
    "files = os.listdir(r\"../sim_output/\"\n",
    "                   )\n",
    "files = [r'../sim_output/' + f\n",
    "         for f in files if 'exciton_sim-kenr_kbnr_diff_sever_defect'\n",
    "         in f if f.endswith('.h5')]\n",
    "files = sorted(files, key=natural_key)\n",
    "files = sorted(files, key=last_num_key)\n",
    "pprint.pprint(files)"
   ]
  },
  {
   "cell_type": "code",
   "execution_count": 13,
   "metadata": {},
   "outputs": [
    {
     "name": "stdout",
     "output_type": "stream",
     "text": [
      "Existing file loaded successfully.\n",
      "Existing file loaded successfully.\n",
      "Existing file loaded successfully.\n",
      "Existing file loaded successfully.\n",
      "Existing file loaded successfully.\n",
      "Existing file loaded successfully.\n",
      "Existing file loaded successfully.\n",
      "Existing file loaded successfully.\n",
      "Existing file loaded successfully.\n",
      "Existing file loaded successfully.\n"
     ]
    }
   ],
   "source": [
    "kenr_defect = [CNTSimFile(i, kin_const_1) for i in files]"
   ]
  },
  {
   "cell_type": "markdown",
   "metadata": {},
   "source": [
    "# k_er"
   ]
  },
  {
   "cell_type": "markdown",
   "metadata": {},
   "source": [
    "## pristine"
   ]
  },
  {
   "cell_type": "code",
   "execution_count": 14,
   "metadata": {},
   "outputs": [],
   "source": [
    "kenr_defect_QY = np.array([[sims.QY, (sims.QY -sims.QY[0])/sims.QY[0]] for sims in kenr_defect]).mean(axis=0)"
   ]
  },
  {
   "cell_type": "code",
   "execution_count": 15,
   "metadata": {},
   "outputs": [],
   "source": [
    "ker_defect_QY = np.array([[sims.QY, (sims.QY -sims.QY[0])/sims.QY[0]] for sims in ker_defect]).mean(axis=0)"
   ]
  },
  {
   "cell_type": "code",
   "execution_count": 16,
   "metadata": {},
   "outputs": [
    {
     "name": "stderr",
     "output_type": "stream",
     "text": [
      "/opt/conda/lib/python3.7/site-packages/ipykernel_launcher.py:1: RuntimeWarning: invalid value encountered in true_divide\n",
      "  \"\"\"Entry point for launching an IPython kernel.\n"
     ]
    }
   ],
   "source": [
    "kenr_prist_QY = np.array([[sims.QY, (sims.QY -sims.QY[0])/sims.QY[0]] for sims in kenr_prist]).mean(axis=0)"
   ]
  },
  {
   "cell_type": "code",
   "execution_count": 17,
   "metadata": {},
   "outputs": [
    {
     "name": "stderr",
     "output_type": "stream",
     "text": [
      "/opt/conda/lib/python3.7/site-packages/ipykernel_launcher.py:1: RuntimeWarning: invalid value encountered in true_divide\n",
      "  \"\"\"Entry point for launching an IPython kernel.\n"
     ]
    }
   ],
   "source": [
    "ker_prist_QY = np.array([[sims.QY, (sims.QY -sims.QY[0])/sims.QY[0]] for sims in ker_prist]).mean(axis=0)"
   ]
  },
  {
   "cell_type": "code",
   "execution_count": 18,
   "metadata": {
    "scrolled": true
   },
   "outputs": [
    {
     "data": {
      "text/plain": [
       "array([0.001622, 0.002125, 0.002459, 0.002839, 0.003141, 0.003438,\n",
       "       0.00379 , 0.004108, 0.004541, 0.004838], dtype=float32)"
      ]
     },
     "execution_count": 18,
     "metadata": {},
     "output_type": "execute_result"
    }
   ],
   "source": [
    "ker_prist_QY[0, :, 1]"
   ]
  },
  {
   "cell_type": "code",
   "execution_count": 19,
   "metadata": {},
   "outputs": [
    {
     "data": {
      "image/png": "[encoded data removed]",
      "text/plain": [
       "<Figure size 432x288 with 2 Axes>"
      ]
     },
     "metadata": {
      "needs_background": "light"
     },
     "output_type": "display_data"
    }
   ],
   "source": [
    "fig = plt.figure()\n",
    "ax1 = fig.add_subplot(111)\n",
    "ax2 = ax1.twiny()\n",
    "ax2.plot(ker_prist[0].calc_dict['Diff_const'][:, 0]/1e15,\n",
    "         ker_prist_QY[0, :, 1]*100, label='E11', alpha=0)\n",
    "ax2.set_xlabel('D_e / $10^{14}$ nm s$^{-1}$')\n",
    "ax1.plot(ker_prist[0].calc_dict['constant_dependence'][:, 0]/1e8,\n",
    "         ker_prist_QY[0, :, 1]*100, label='E11')\n",
    "ax1.set_xlabel('{} '.format(ker_prist[0].calc_dict['chosen_const'][0])+'/ $10^{8}$ s$^{-1}$')\n",
    "ax1.set_ylabel('QY / %')\n",
    "ax1.legend()\n",
    "plt.tight_layout()\n",
    "plt.savefig('../../tmp/ker_def0_QY.png', dpi=300)"
   ]
  },
  {
   "cell_type": "code",
   "execution_count": 20,
   "metadata": {},
   "outputs": [
    {
     "data": {
      "image/png": "[encoded data removed]",
      "text/plain": [
       "<Figure size 432x288 with 2 Axes>"
      ]
     },
     "metadata": {
      "needs_background": "light"
     },
     "output_type": "display_data"
    }
   ],
   "source": [
    "fig = plt.figure()\n",
    "ax1 = fig.add_subplot(111)\n",
    "ax2 = ax1.twiny()\n",
    "ax2.plot(ker_prist[0].calc_dict['Diff_const'][:, 0]/1e15,\n",
    "         ker_prist_QY[0, :, 1]*100, label='E11', alpha=0)\n",
    "ax2.set_xlabel('D_e / $10^{14}$ nm s$^{-1}$')\n",
    "ax1.plot(ker_prist[0].calc_dict['constant_dependence'][:, 0]/1e8,\n",
    "         ker_prist_QY[1, :, 1], label='E11')\n",
    "ax1.set_xlabel('{} '.format(ker_prist[0].calc_dict['chosen_const'][0])+'/ $10^{8}$ s$^{-1}$')\n",
    "ax1.set_ylabel('$(I - I_0 / I_0)$')\n",
    "ax1.legend()\n",
    "plt.tight_layout()\n",
    "plt.savefig('../../tmp/ker_def0_delta_I.png', dpi=300)"
   ]
  },
  {
   "cell_type": "markdown",
   "metadata": {},
   "source": [
    "## defect"
   ]
  },
  {
   "cell_type": "code",
   "execution_count": 21,
   "metadata": {},
   "outputs": [
    {
     "data": {
      "image/png": "[encoded data removed]",
      "text/plain": [
       "<Figure size 432x288 with 2 Axes>"
      ]
     },
     "metadata": {
      "needs_background": "light"
     },
     "output_type": "display_data"
    }
   ],
   "source": [
    "fig = plt.figure()\n",
    "ax1 = fig.add_subplot(111)\n",
    "ax2 = ax1.twiny()\n",
    "ax2.plot(ker_defect[0].calc_dict['Diff_const'][:, 0]/1e15,\n",
    "         ker_defect_QY[0, :, 1]*100, label='E11', alpha=0)\n",
    "ax2.set_xlabel('D_e / $10^{14}$ nm s$^{-1}$')\n",
    "ax1.plot(ker_defect[0].calc_dict['constant_dependence'][:, 0]/1e8,\n",
    "         ker_defect_QY[0, :, 0]*100, label='E11*')\n",
    "ax1.plot(ker_defect[0].calc_dict['constant_dependence'][:, 0]/1e8,\n",
    "         ker_defect_QY[0, :, 1]*100, label='E11')\n",
    "ax1.set_xlabel('{} '.format(ker_defect[0].calc_dict['chosen_const'][0])+'/ $10^{8}$ s$^{-1}$')\n",
    "ax1.set_ylabel('QY / %')\n",
    "ax1.legend()\n",
    "plt.tight_layout()\n",
    "plt.savefig('../../tmp/ker_def30_QY.png', dpi=300)"
   ]
  },
  {
   "cell_type": "code",
   "execution_count": 22,
   "metadata": {},
   "outputs": [
    {
     "data": {
      "image/png": "[encoded data removed]",
      "text/plain": [
       "<Figure size 432x288 with 2 Axes>"
      ]
     },
     "metadata": {
      "needs_background": "light"
     },
     "output_type": "display_data"
    }
   ],
   "source": [
    "fig = plt.figure()\n",
    "ax1 = fig.add_subplot(111)\n",
    "ax2 = ax1.twiny()\n",
    "ax2.plot(ker_defect[0].calc_dict['Diff_const'][:, 0]/1e15,\n",
    "         ker_defect_QY[1, :, 1], label='E11', alpha=0)\n",
    "ax2.set_xlabel('D_e / $10^{14}$ nm s$^{-1}$')\n",
    "ax1.plot(ker_defect[0].calc_dict['constant_dependence'][:, 0]/1e8,\n",
    "         ker_defect_QY[1, :, 0], label='E11*')\n",
    "ax1.plot(ker_defect[0].calc_dict['constant_dependence'][:, 0]/1e8,\n",
    "         ker_defect_QY[1, :, 1], label='E11')\n",
    "ax1.set_xlabel('{} '.format(ker_defect[0].calc_dict['chosen_const'][0])+'/ $10^{8}$ s$^{-1}$')\n",
    "ax1.set_ylabel('$(I - I_0 / I_0)$')\n",
    "ax1.legend()\n",
    "plt.tight_layout()\n",
    "plt.savefig('../../tmp/ker_def30_delta_I.png', dpi=300)"
   ]
  },
  {
   "cell_type": "code",
   "execution_count": 23,
   "metadata": {},
   "outputs": [],
   "source": [
    "ker_prist_pd = pd.DataFrame()"
   ]
  },
  {
   "cell_type": "code",
   "execution_count": 24,
   "metadata": {},
   "outputs": [],
   "source": [
    "ker_prist_pd['k_er s^-1'] = ker_prist[0].calc_dict['constant_dependence'][:, 0]\n",
    "ker_prist_pd['k_bnr s^-1'] = ker_prist[0].calc_dict['constant_dependence'][:, 1]\n",
    "ker_prist_pd['D_excited nm/s'] = ker_prist[0].calc_dict['Diff_const'][:, 0]\n",
    "ker_prist_pd['D_dark nm/s'] = ker_prist[0].calc_dict['Diff_const'][:, 1]"
   ]
  },
  {
   "cell_type": "code",
   "execution_count": 25,
   "metadata": {},
   "outputs": [],
   "source": [
    "ker_prist_pd['E11 QY'] = ker_prist_QY[0, :, 1]\n",
    "ker_prist_pd['E11 (I-I0)/I0'] = ker_prist_QY[1, :, 1]"
   ]
  },
  {
   "cell_type": "code",
   "execution_count": 26,
   "metadata": {},
   "outputs": [],
   "source": [
    "ker_prist_pd.to_csv('../../tmp/ker_def0.csv')"
   ]
  },
  {
   "cell_type": "code",
   "execution_count": 27,
   "metadata": {},
   "outputs": [],
   "source": [
    "ker_defect_pd = pd.DataFrame()"
   ]
  },
  {
   "cell_type": "code",
   "execution_count": 28,
   "metadata": {},
   "outputs": [],
   "source": [
    "ker_defect_pd['k_er s^-1'] = ker_defect[0].calc_dict['constant_dependence'][:, 0]\n",
    "ker_defect_pd['k_bnr s^-1'] = ker_defect[0].calc_dict['constant_dependence'][:, 1]\n",
    "ker_defect_pd['D_excited nm/s'] = ker_defect[0].calc_dict['Diff_const'][:, 0]\n",
    "ker_defect_pd['D_dark nm/s'] = ker_defect[0].calc_dict['Diff_const'][:, 1]"
   ]
  },
  {
   "cell_type": "code",
   "execution_count": 29,
   "metadata": {},
   "outputs": [],
   "source": [
    "ker_defect_pd['E11 QY'] = ker_defect_QY[0, :, 1]\n",
    "ker_defect_pd['E11 (I-I0)/I0'] = ker_defect_QY[1, :, 1]\n",
    "ker_defect_pd['E11* QY'] = ker_defect_QY[0, :, 0]\n",
    "ker_defect_pd['E11* (I-I0)/I0'] = ker_defect_QY[1, :, 0]"
   ]
  },
  {
   "cell_type": "code",
   "execution_count": 30,
   "metadata": {},
   "outputs": [],
   "source": [
    "ker_defect_pd.to_csv('../../tmp/ker_def30.csv')"
   ]
  },
  {
   "cell_type": "markdown",
   "metadata": {},
   "source": [
    "# kenr"
   ]
  },
  {
   "cell_type": "code",
   "execution_count": 31,
   "metadata": {},
   "outputs": [
    {
     "data": {
      "text/plain": [
       "array([[4.00000000e+08, 2.00000000e+08],\n",
       "       [4.88888889e+08, 1.88888889e+08],\n",
       "       [5.77777778e+08, 1.77777778e+08],\n",
       "       [6.66666667e+08, 1.66666667e+08],\n",
       "       [7.55555556e+08, 1.55555556e+08],\n",
       "       [8.44444444e+08, 1.44444444e+08],\n",
       "       [9.33333333e+08, 1.33333333e+08],\n",
       "       [1.02222222e+09, 1.22222222e+08],\n",
       "       [1.11111111e+09, 1.11111111e+08],\n",
       "       [1.20000000e+09, 1.00000000e+08]])"
      ]
     },
     "execution_count": 31,
     "metadata": {},
     "output_type": "execute_result"
    }
   ],
   "source": [
    "kenr_prist[0].calc_dict['constant_dependence']"
   ]
  },
  {
   "cell_type": "code",
   "execution_count": 32,
   "metadata": {},
   "outputs": [
    {
     "data": {
      "text/plain": [
       "array([[4.00000000e+08, 2.00000000e+08],\n",
       "       [4.88888889e+08, 1.88888889e+08],\n",
       "       [5.77777778e+08, 1.77777778e+08],\n",
       "       [6.66666667e+08, 1.66666667e+08],\n",
       "       [7.55555556e+08, 1.55555556e+08],\n",
       "       [8.44444444e+08, 1.44444444e+08],\n",
       "       [9.33333333e+08, 1.33333333e+08],\n",
       "       [1.02222222e+09, 1.22222222e+08],\n",
       "       [1.11111111e+09, 1.11111111e+08],\n",
       "       [1.20000000e+09, 1.00000000e+08]])"
      ]
     },
     "execution_count": 32,
     "metadata": {},
     "output_type": "execute_result"
    }
   ],
   "source": [
    "kenr_prist[0].calc_dict['constant_dependence']"
   ]
  },
  {
   "cell_type": "code",
   "execution_count": null,
   "metadata": {},
   "outputs": [],
   "source": []
  },
  {
   "cell_type": "code",
   "execution_count": null,
   "metadata": {},
   "outputs": [],
   "source": []
  },
  {
   "cell_type": "code",
   "execution_count": 33,
   "metadata": {},
   "outputs": [],
   "source": [
    "kenr_prist_pd = pd.DataFrame()"
   ]
  },
  {
   "cell_type": "code",
   "execution_count": 34,
   "metadata": {},
   "outputs": [],
   "source": [
    "kenr_prist_pd['k_bnr s^-1'] = kenr_prist[0].calc_dict['constant_dependence'][:, 0]\n",
    "kenr_prist_pd['k_enr s^-1'] = kenr_prist[0].calc_dict['constant_dependence'][:, 1]\n",
    "kenr_prist_pd['D_excited nm/s'] = kenr_prist[0].calc_dict['Diff_const'][:, 0]\n",
    "kenr_prist_pd['D_dark nm/s'] = kenr_prist[0].calc_dict['Diff_const'][:, 1]"
   ]
  },
  {
   "cell_type": "code",
   "execution_count": 35,
   "metadata": {},
   "outputs": [],
   "source": [
    "kenr_prist_pd['E11 QY'] = kenr_prist_QY[0, :, 1]\n",
    "kenr_prist_pd['E11 (I-I0)/I0'] = kenr_prist_QY[1, :, 1]"
   ]
  },
  {
   "cell_type": "code",
   "execution_count": 36,
   "metadata": {},
   "outputs": [],
   "source": [
    "kenr_prist_pd.to_csv('../../tmp/kenr_def0.csv')"
   ]
  },
  {
   "cell_type": "code",
   "execution_count": 37,
   "metadata": {},
   "outputs": [],
   "source": [
    "kenr_defect_pd = pd.DataFrame()"
   ]
  },
  {
   "cell_type": "code",
   "execution_count": 45,
   "metadata": {},
   "outputs": [],
   "source": [
    "kenr_defect_pd['k_bnr s^-1'] = kenr_defect[0].calc_dict['constant_dependence'][:, 0]\n",
    "kenr_defect_pd['k_enr s^-1'] = kenr_defect[0].calc_dict['constant_dependence'][:, 1]\n",
    "kenr_defect_pd['D_excited nm/s'] = kenr_defect[0].calc_dict['Diff_const'][:, 0]\n",
    "kenr_defect_pd['D_dark nm/s'] = kenr_defect[0].calc_dict['Diff_const'][:, 1]"
   ]
  },
  {
   "cell_type": "code",
   "execution_count": 46,
   "metadata": {},
   "outputs": [],
   "source": [
    "kenr_defect_pd['E11 QY'] = kenr_defect_QY[0, :, 1]\n",
    "kenr_defect_pd['E11 (I-I0)/I0'] = kenr_defect_QY[1, :, 1]\n",
    "kenr_defect_pd['E11* QY'] = kenr_defect_QY[0, :, 0]\n",
    "kenr_defect_pd['E11* (I-I0)/I0'] = kenr_defect_QY[1, :, 0]"
   ]
  },
  {
   "cell_type": "code",
   "execution_count": 47,
   "metadata": {},
   "outputs": [],
   "source": [
    "kenr_defect_pd.to_csv('../../tmp/kenr_def30.csv')"
   ]
  },
  {
   "cell_type": "markdown",
   "metadata": {},
   "source": [
    "## pristine"
   ]
  },
  {
   "cell_type": "code",
   "execution_count": 41,
   "metadata": {},
   "outputs": [
    {
     "data": {
      "image/png": "[encoded data removed]",
      "text/plain": [
       "<Figure size 432x288 with 2 Axes>"
      ]
     },
     "metadata": {
      "needs_background": "light"
     },
     "output_type": "display_data"
    }
   ],
   "source": [
    "fig = plt.figure()\n",
    "ax1 = fig.add_subplot(111)\n",
    "ax2 = ax1.twiny()\n",
    "ax2.plot(kenr_prist[0].calc_dict['Diff_const'][:, 0]/1e15,\n",
    "         kenr_prist_QY[0, :, 1]*100, label='E11', alpha=0)\n",
    "ax2.set_xlabel('D_e / $10^{14}$ nm s$^{-1}$')\n",
    "ax1.plot(kenr_prist[0].calc_dict['constant_dependence'][:, 0]/1e8,\n",
    "         kenr_prist_QY[0, :, 1]*100, label='E11')\n",
    "ax1.set_xlabel('{} '.format(kenr_prist[0].calc_dict['chosen_const'][0])+'/ $10^{8}$ s$^{-1}$')\n",
    "ax1.set_ylabel('QY / %')\n",
    "ax1.legend()\n",
    "plt.tight_layout()\n",
    "plt.savefig('../../tmp/kenr_def0_QY.png', dpi=300)"
   ]
  },
  {
   "cell_type": "code",
   "execution_count": 42,
   "metadata": {},
   "outputs": [
    {
     "data": {
      "image/png": "[encoded data removed]",
      "text/plain": [
       "<Figure size 432x288 with 2 Axes>"
      ]
     },
     "metadata": {
      "needs_background": "light"
     },
     "output_type": "display_data"
    }
   ],
   "source": [
    "fig = plt.figure()\n",
    "ax1 = fig.add_subplot(111)\n",
    "ax2 = ax1.twiny()\n",
    "ax2.plot(kenr_prist[0].calc_dict['Diff_const'][:, 0]/1e15,\n",
    "         kenr_prist_QY[0, :, 1], label='E11', alpha=0)\n",
    "ax2.set_xlabel('D_e / $10^{14}$ nm s$^{-1}$')\n",
    "ax1.plot(kenr_prist[0].calc_dict['constant_dependence'][:, 0]/1e8,\n",
    "         kenr_prist_QY[1, :, 1], label='E11')\n",
    "ax1.set_xlabel('{} '.format(kenr_prist[0].calc_dict['chosen_const'][0])+'/ $10^{8}$ s$^{-1}$')\n",
    "ax1.set_ylabel('$(I - I_0 / I_0)$')\n",
    "ax1.legend()\n",
    "plt.tight_layout()\n",
    "plt.savefig('../../tmp/kenr_def0_delta_I.png', dpi=300)"
   ]
  },
  {
   "cell_type": "markdown",
   "metadata": {},
   "source": [
    "# defect"
   ]
  },
  {
   "cell_type": "code",
   "execution_count": 43,
   "metadata": {},
   "outputs": [
    {
     "data": {
      "image/png": "[encoded data removed]",
      "text/plain": [
       "<Figure size 432x288 with 2 Axes>"
      ]
     },
     "metadata": {
      "needs_background": "light"
     },
     "output_type": "display_data"
    }
   ],
   "source": [
    "fig = plt.figure()\n",
    "ax1 = fig.add_subplot(111)\n",
    "ax2 = ax1.twiny()\n",
    "ax2.plot(kenr_defect[0].calc_dict['Diff_const'][:, 0]/1e15,\n",
    "         kenr_defect_QY[0, :, 1]*100, label='E11', alpha=0)\n",
    "ax2.set_xlabel('D_e / $10^{14}$ nm s$^{-1}$')\n",
    "ax1.plot(kenr_defect[0].calc_dict['constant_dependence'][:, 0]/1e8,\n",
    "         kenr_defect_QY[0, :, 0]*100, label='E11*')\n",
    "ax1.plot(kenr_defect[0].calc_dict['constant_dependence'][:, 0]/1e8,\n",
    "         kenr_defect_QY[0, :, 1]*100, label='E11')\n",
    "ax1.set_xlabel('{} '.format(kenr_defect[0].calc_dict['chosen_const'][0])+'/ $10^{8}$ s$^{-1}$')\n",
    "ax1.set_ylabel('QY / %')\n",
    "ax1.legend()\n",
    "plt.tight_layout()\n",
    "plt.savefig('../../tmp/kenr_def30_QY.png', dpi=300)"
   ]
  },
  {
   "cell_type": "code",
   "execution_count": 44,
   "metadata": {},
   "outputs": [
    {
     "data": {
      "image/png": "[encoded data removed]",
      "text/plain": [
       "<Figure size 432x288 with 2 Axes>"
      ]
     },
     "metadata": {
      "needs_background": "light"
     },
     "output_type": "display_data"
    }
   ],
   "source": [
    "fig = plt.figure()\n",
    "ax1 = fig.add_subplot(111)\n",
    "ax2 = ax1.twiny()\n",
    "ax2.plot(kenr_defect[0].calc_dict['Diff_const'][:, 0]/1e15,\n",
    "         kenr_defect_QY[1, :, 1], label='E11', alpha=0)\n",
    "ax2.set_xlabel('D_e / $10^{14}$ nm s$^{-1}$')\n",
    "ax1.plot(kenr_defect[0].calc_dict['constant_dependence'][:, 0]/1e8,\n",
    "         kenr_defect_QY[1, :, 0], label='E11*')\n",
    "ax1.plot(kenr_defect[0].calc_dict['constant_dependence'][:, 0]/1e8,\n",
    "         kenr_defect_QY[1, :, 1], label='E11')\n",
    "ax1.set_xlabel('{} '.format(kenr_defect[0].calc_dict['chosen_const'][0])+'/ $10^{8}$ s$^{-1}$')\n",
    "ax1.set_ylabel('$(I - I_0 / I_0)$')\n",
    "ax1.legend()\n",
    "plt.tight_layout()\n",
    "plt.savefig('../../tmp/kenr_def30_delta_I.png', dpi=300)"
   ]
  },
  {
   "cell_type": "code",
   "execution_count": null,
   "metadata": {},
   "outputs": [],
   "source": []
  }
 ],
 "metadata": {
  "kernelspec": {
   "display_name": "CNT-MC",
   "language": "python",
   "name": "cnt-mc"
  },
  "language_info": {
   "codemirror_mode": {
    "name": "ipython",
    "version": 3
   },
   "file_extension": ".py",
   "mimetype": "text/x-python",
   "name": "python",
   "nbconvert_exporter": "python",
   "pygments_lexer": "ipython3",
   "version": "3.7.3"
  }
 },
 "nbformat": 4,
 "nbformat_minor": 4
}
